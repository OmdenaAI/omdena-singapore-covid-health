{
 "cells": [
  {
   "cell_type": "code",
   "execution_count": 7,
   "source": [
    "## LOAD MODEL\r\n",
    "import pickle\r\n",
    "with open(\"Sat Jul 31 103043 2021\", \"rb\") as file:\r\n",
    "    model = pickle.load(file)\r\n",
    "model"
   ],
   "outputs": [
    {
     "output_type": "stream",
     "name": "stderr",
     "text": [
      "C:\\Users\\20jam\\AppData\\Local\\Programs\\Python\\Python37\\lib\\site-packages\\sklearn\\base.py:334: UserWarning: Trying to unpickle estimator TfidfTransformer from version 0.24.2 when using version 0.23.2. This might lead to breaking code or invalid results. Use at your own risk.\n",
      "  UserWarning)\n",
      "C:\\Users\\20jam\\AppData\\Local\\Programs\\Python\\Python37\\lib\\site-packages\\sklearn\\base.py:334: UserWarning: Trying to unpickle estimator TfidfVectorizer from version 0.24.2 when using version 0.23.2. This might lead to breaking code or invalid results. Use at your own risk.\n",
      "  UserWarning)\n",
      "C:\\Users\\20jam\\AppData\\Local\\Programs\\Python\\Python37\\lib\\site-packages\\sklearn\\base.py:334: UserWarning: Trying to unpickle estimator LogisticRegression from version 0.24.2 when using version 0.23.2. This might lead to breaking code or invalid results. Use at your own risk.\n",
      "  UserWarning)\n",
      "C:\\Users\\20jam\\AppData\\Local\\Programs\\Python\\Python37\\lib\\site-packages\\sklearn\\base.py:334: UserWarning: Trying to unpickle estimator Pipeline from version 0.24.2 when using version 0.23.2. This might lead to breaking code or invalid results. Use at your own risk.\n",
      "  UserWarning)\n"
     ]
    },
    {
     "output_type": "execute_result",
     "data": {
      "text/plain": [
       "Pipeline(steps=[('tfidf_vectorizer',\n",
       "                 TfidfVectorizer(stop_words='english',\n",
       "                                 strip_accents='unicode')),\n",
       "                ('logistic_regression',\n",
       "                 LogisticRegression(max_iter=5000, multi_class='multinomial'))])"
      ]
     },
     "metadata": {},
     "execution_count": 7
    }
   ],
   "metadata": {}
  },
  {
   "cell_type": "code",
   "execution_count": 8,
   "source": [
    "import pandas as pd\r\n",
    "data = pd.read_csv(\"C:\\\\Users\\\\20jam\\\\Documents\\\\github\\\\my-code\\\\active learning\\\\final\\\\clean_fulldata.csv\")\r\n",
    "input = data[\"title\"] + \" \" + data[\"clean_selftext\"]\r\n",
    "input.head()"
   ],
   "outputs": [
    {
     "output_type": "execute_result",
     "data": {
      "text/plain": [
       "0    Anyone know where to get tested as an Adult fo...\n",
       "1    Help for adjustment disorder people say half w...\n",
       "2    Where to get assessed for eating disorders? mi...\n",
       "3    [RANT] Mental disorders ofs long period time s...\n",
       "4    Downpes from adjustment disorder facing severe...\n",
       "dtype: object"
      ]
     },
     "metadata": {},
     "execution_count": 8
    }
   ],
   "metadata": {}
  },
  {
   "cell_type": "code",
   "execution_count": 11,
   "source": [
    "\"\"\"\r\n",
    "## PREDICt WITH MODEL\r\n",
    "score = model.score(xlabelled, ylabelled) # use samples labeled by hand\r\n",
    "print(\"Test score: {0:.2f} %\".format(100 * score))\r\n",
    "\r\n",
    "prediction = model.predict(xtest) # unlabelled samples\r\n",
    "prediction\r\n",
    "\"\"\"\r\n",
    "prediction = model.predict([input[0]]) # unlabelled samples\r\n",
    "prediction"
   ],
   "outputs": [
    {
     "output_type": "execute_result",
     "data": {
      "text/plain": [
       "array(['Personal Stories'], dtype='<U25')"
      ]
     },
     "metadata": {},
     "execution_count": 11
    }
   ],
   "metadata": {}
  }
 ],
 "metadata": {
  "orig_nbformat": 4,
  "language_info": {
   "name": "python",
   "version": "3.7.4",
   "mimetype": "text/x-python",
   "codemirror_mode": {
    "name": "ipython",
    "version": 3
   },
   "pygments_lexer": "ipython3",
   "nbconvert_exporter": "python",
   "file_extension": ".py"
  },
  "kernelspec": {
   "name": "python3",
   "display_name": "Python 3.7.4 64-bit"
  },
  "interpreter": {
   "hash": "bf3e9a0eaed196172b25c3c8d2e3c0605dffe77010244cc0729cd883a8cd1a4e"
  }
 },
 "nbformat": 4,
 "nbformat_minor": 2
}