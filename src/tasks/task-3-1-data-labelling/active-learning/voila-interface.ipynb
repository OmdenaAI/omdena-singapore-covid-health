{
 "cells": [
  {
   "cell_type": "code",
   "execution_count": null,
   "source": [
    "### CONFIGURE FRONTEND: WEBAPP\r\n",
    "import os\r\n",
    "from superintendent.distributed import ClassLabeller"
   ],
   "outputs": [],
   "metadata": {}
  },
  {
   "cell_type": "code",
   "execution_count": null,
   "source": [
    "user = os.getenv('POSTGRES_USER', \"superintendent\")\r\n",
    "pw = os.getenv('POSTGRES_PASSWORD', \"superintendent\")\r\n",
    "db_name = os.getenv('POSTGRES_DB', \"labelling\")\r\n",
    "db_string = f\"postgresql+psycopg2://{user}:{pw}@db:5432/{db_name}\""
   ],
   "outputs": [],
   "metadata": {}
  },
  {
   "cell_type": "code",
   "execution_count": null,
   "source": [
    "from IPython.display import display, Markdown\r\n",
    "def display_text(row):\r\n",
    "    display(Markdown(\"**Title** \" + row[\"title\"]))\r\n",
    "    display(Markdown(row[\"selftext\"]))"
   ],
   "outputs": [],
   "metadata": {}
  },
  {
   "cell_type": "code",
   "execution_count": null,
   "source": [
    "widget = ClassLabeller(\r\n",
    "    # same as db connection, combine the string\r\n",
    "    connection_string = db_string,\r\n",
    "    options = [\"Social Issue Discussion\", # Social problem or issue discussions\r\n",
    "                \"Personal Stories\", # including seeking advice for others or themselves\r\n",
    "                \"Advocacy\", # by both individuals and organisations\r\n",
    "                \"Factual Queries / Sharing\", # Objective information gap involved\r\n",
    "                \"Others\"],\r\n",
    "    display_func = display_text, \r\n",
    "    allow_freetext = False,\r\n",
    ")"
   ],
   "outputs": [],
   "metadata": {}
  },
  {
   "cell_type": "code",
   "execution_count": null,
   "source": [
    "widget"
   ],
   "outputs": [],
   "metadata": {}
  }
 ],
 "metadata": {
  "kernelspec": {
   "display_name": "Python 3 (ipykernel)",
   "language": "python",
   "name": "python3"
  },
  "language_info": {
   "codemirror_mode": {
    "name": "ipython",
    "version": 3
   },
   "file_extension": ".py",
   "mimetype": "text/x-python",
   "name": "python",
   "nbconvert_exporter": "python",
   "pygments_lexer": "ipython3",
   "version": "3.7.3"
  }
 },
 "nbformat": 4,
 "nbformat_minor": 2
}