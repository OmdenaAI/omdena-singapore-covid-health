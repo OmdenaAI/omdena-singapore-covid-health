{
 "cells": [
  {
   "cell_type": "code",
   "execution_count": null,
   "metadata": {},
   "outputs": [],
   "source": [
    "### CONFIGURE FRONTEND: WEBAPP\n",
    "import os\n",
    "from superintendent.distributed import ClassLabeller"
   ]
  },
  {
   "cell_type": "code",
   "execution_count": null,
   "metadata": {},
   "outputs": [],
   "source": [
    "user = os.getenv('POSTGRES_USER', \"superintendent\")\n",
    "pw = os.getenv('POSTGRES_PASSWORD', \"superintendent\")\n",
    "db_name = os.getenv('POSTGRES_DB', \"labelling\")\n",
    "db_string = f\"postgresql+psycopg2://{user}:{pw}@db:5432/{db_name}\""
   ]
  },
  {
   "cell_type": "code",
   "execution_count": null,
   "metadata": {},
   "outputs": [],
   "source": [
    "from IPython.display import display, Markdown\n",
    "def display_text(row):\n",
    "    display(Markdown(\"**Title** \" + row[\"title\"]))\n",
    "    display(Markdown(row[\"selftext\"]))"
   ]
  },
  {
   "cell_type": "code",
   "execution_count": null,
   "metadata": {},
   "outputs": [],
   "source": [
    "widget = ClassLabeller(\n",
    "    # same as db connection, combine the string\n",
    "    connection_string = db_string,\n",
    "    options = [\"Social Issue Discussion\", # Social problem or issue discussions\n",
    "                \"Personal Stories\", # including seeking advice for others or themselves\n",
    "                \"Advocacy\", # by both individuals and organisations\n",
    "                \"Factual Queries / Sharing\", # Objective information gap involved\n",
    "                \"Others\"],\n",
    "    display_func = display_text\n",
    ")"
   ]
  },
  {
   "cell_type": "code",
   "execution_count": null,
   "metadata": {},
   "outputs": [],
   "source": [
    "widget"
   ]
  }
 ],
 "metadata": {
  "kernelspec": {
   "display_name": "Python 3 (ipykernel)",
   "language": "python",
   "name": "python3"
  },
  "language_info": {
   "codemirror_mode": {
    "name": "ipython",
    "version": 3
   },
   "file_extension": ".py",
   "mimetype": "text/x-python",
   "name": "python",
   "nbconvert_exporter": "python",
   "pygments_lexer": "ipython3",
   "version": "3.7.3"
  }
 },
 "nbformat": 4,
 "nbformat_minor": 2
}
