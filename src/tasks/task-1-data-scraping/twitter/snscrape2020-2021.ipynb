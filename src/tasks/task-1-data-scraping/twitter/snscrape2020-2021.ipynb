{
 "cells": [
  {
   "cell_type": "code",
   "execution_count": 24,
   "metadata": {},
   "outputs": [],
   "source": [
    "import pandas as pd\n",
    "import snscrape.modules.twitter as sntwitter\n",
    "import itertools\n",
    "\n",
    "\n",
    "def search_by_keywords(keyword, start, end, tweet_limit, file_name):\n",
    "    '''\n",
    "    This is to search for tweets based on keywords, with location preset to Singapore. \n",
    "    Keywords: can be string or list \n",
    "    Date format: YYYY-MM-DD\n",
    "    '''\n",
    "    loc = '1.290270, 103.851959, 30km'\n",
    "    scraped_tweets = sntwitter.TwitterSearchScraper(f'{keyword} geocode:\"{loc}\" since:{start} until:{end}').get_items()\n",
    "    sliced_scraped_tweets = itertools.islice(scraped_tweets, tweet_limit)\n",
    "    tweets_df = pd.DataFrame(sliced_scraped_tweets) #[['date', 'content']]\n",
    "    tweets_df.to_csv(f'Twitter{keyword}2021.csv')\n",
    "    return tweets_df"
   ]
  },
  {
   "cell_type": "code",
   "execution_count": 25,
   "metadata": {},
   "outputs": [],
   "source": [
    "mental = [\"depression\", \"mental illness\",\"unalive\"\n",
    "\"social anxiety\",\"loneliness\",\"stress\",\"lonely\",\n",
    "\"isolation\", \"suicide\",\"abuse\",\"death\", \"post traumatic stress disorder\",\n",
    "\"no motivation\", \"therapy\", \"trauma\", \"counselling\" , \"mood disorder\",\n",
    "\"mood swings\", \"mental health\", \"angst\", \"emotion\", \"phobia\",\n",
    "\"addiction\", \"stigma\", \"self-harm\", \"neurosis\", \"abuse\", \n",
    "\"disorder\", \"dependence\", \"socialize\", \"help\" , \"dead\", \n",
    "\"melancholia\", \"dysthemia\",\"tired\", \"trapped\", \n",
    "\"paranoia\", \"insomnia\", \"overwhelmed\", \"irritable\", \"bipolar\", \n",
    "\"psychologist\", \"well-being\", \"imh\", \"sos\", \"counsellor\",\n",
    "\"toxic\", \"insomnia\", \"drugs\", \"fight\", \"self-esteem\", \"covid\", \"coronavirus\", \"restriction\", \"circuit breaker\", \"quarantine\", \n",
    "\"wfh\", \"community cases\", \"tighter measures\", \"lockdown\", \"fatality rate\", \"pre-covid\", \n",
    "\"national emergency\", \"uncertainty\", \"variant\",\n",
    "\"crisis\", \"outbreak\", \"job insecurity\", \"retrenchment\", \n",
    "\"heightened alert\", \"hbl\", \"school closure\", \"shn\", \"stay home notice\", \n",
    "\"home based learning\", \"work from home\", \"death\"\n",
    "]"
   ]
  },
  {
   "cell_type": "code",
   "execution_count": 26,
   "metadata": {
    "scrolled": true
   },
   "outputs": [],
   "source": [
    "for i in mental:\n",
    "    search_by_keywords(i, start = '2021-1-1', end='2021-07-08', tweet_limit=10000, file_name = i)"
   ]
  },
  {
   "cell_type": "code",
   "execution_count": 27,
   "metadata": {},
   "outputs": [],
   "source": [
    "hashtag = [\"#HereForYou\", \"#depression\", \"#selfcare\", \"#selflove\", \"#mentalillness\", \"#therapy\", \"#MentalHealthAwareness\"\n",
    "           , \"#AnxietyAwareness\", \"#ItsOkayNotToBeOkay\", \"#EndTheStigmaofMentalHealth\", \"#ptsd\", \"#stress\", \"#trauma\", \"#selfcare4sg\",\n",
    "           \"#ShiftYourMindset\", \"#mentalhealthmatters\", \"#selfgrowth\", \"#anxiety\", \"#covid19\", \"#insomnia\", \"#love\", \"#pandemic\", \"#support\", \"#MentalHealthAdvocate\"]"
   ]
  },
  {
   "cell_type": "code",
   "execution_count": 28,
   "metadata": {},
   "outputs": [],
   "source": [
    "for i in hashtag:\n",
    "    search_by_keywords(i, start = '2021-1-1', end='2021-07-08', tweet_limit=10000, file_name = i)"
   ]
  },
  {
   "cell_type": "code",
   "execution_count": 32,
   "metadata": {},
   "outputs": [
    {
     "name": "stdout",
     "output_type": "stream",
     "text": [
      "/Users/valencialie/Downloads/scrapertwitter\n"
     ]
    }
   ],
   "source": [
    "cd scrapertwitter"
   ]
  },
  {
   "cell_type": "code",
   "execution_count": 50,
   "metadata": {},
   "outputs": [],
   "source": [
    "import glob\n",
    "tweets = pd.concat(map(pd.read_csv, glob.glob('*.csv')))"
   ]
  },
  {
   "cell_type": "code",
   "execution_count": 53,
   "metadata": {},
   "outputs": [],
   "source": [
    "tweets = tweets[tweets['content'].map(lambda x: x.isascii())] #drop non english characters (that are not ascii characters)"
   ]
  },
  {
   "cell_type": "code",
   "execution_count": 54,
   "metadata": {},
   "outputs": [],
   "source": [
    "tweets.to_csv(\"tweets2020-2021.csv\")"
   ]
  }
 ],
 "metadata": {
  "kernelspec": {
   "display_name": "Python 3",
   "language": "python",
   "name": "python3"
  },
  "language_info": {
   "codemirror_mode": {
    "name": "ipython",
    "version": 3
   },
   "file_extension": ".py",
   "mimetype": "text/x-python",
   "name": "python",
   "nbconvert_exporter": "python",
   "pygments_lexer": "ipython3",
   "version": "3.8.5"
  }
 },
 "nbformat": 4,
 "nbformat_minor": 4
}
