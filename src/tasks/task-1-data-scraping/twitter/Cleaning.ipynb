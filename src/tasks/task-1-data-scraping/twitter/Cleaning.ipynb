{
 "cells": [
  {
   "cell_type": "code",
   "execution_count": 2,
   "id": "33f30275",
   "metadata": {},
   "outputs": [],
   "source": [
    "import pandas as pd "
   ]
  },
  {
   "cell_type": "code",
   "execution_count": 3,
   "id": "39dec418",
   "metadata": {},
   "outputs": [
    {
     "data": {
      "text/plain": [
       "Index(['id', 'conversation_id', 'created_at', 'date', 'timezone', 'place',\n",
       "       'tweet', 'language', 'hashtags', 'cashtags', 'user_id', 'user_id_str',\n",
       "       'username', 'name', 'day', 'hour', 'link', 'urls', 'photos', 'video',\n",
       "       'thumbnail', 'retweet', 'nlikes', 'nreplies', 'nretweets', 'quote_url',\n",
       "       'search', 'near', 'geo', 'source', 'user_rt_id', 'user_rt',\n",
       "       'retweet_id', 'reply_to', 'retweet_date', 'translate', 'trans_src',\n",
       "       'trans_dest'],\n",
       "      dtype='object')"
      ]
     },
     "execution_count": 3,
     "metadata": {},
     "output_type": "execute_result"
    }
   ],
   "source": [
    "mh19 =pd.read_csv(\"mh-keywords-19.csv\")\n",
    "mh19.columns"
   ]
  },
  {
   "cell_type": "code",
   "execution_count": 4,
   "id": "36703464",
   "metadata": {},
   "outputs": [
    {
     "data": {
      "text/plain": [
       "(16418, 10)"
      ]
     },
     "execution_count": 4,
     "metadata": {},
     "output_type": "execute_result"
    }
   ],
   "source": [
    "#Remove irrelevant features\n",
    "columns_keep = [ 'date', 'tweet', 'language', 'hashtags', 'username', 'link',\n",
    "                'nlikes', 'nreplies', 'nretweets', 'search']\n",
    "\n",
    "mh19_1= mh19[columns_keep]\n",
    "mh19_1.shape"
   ]
  },
  {
   "cell_type": "code",
   "execution_count": 5,
   "id": "672e08e4",
   "metadata": {},
   "outputs": [
    {
     "data": {
      "text/plain": [
       "(14928, 10)"
      ]
     },
     "execution_count": 5,
     "metadata": {},
     "output_type": "execute_result"
    }
   ],
   "source": [
    "# mh19_2 Keep only eng tweets \n",
    "mh19_2 = mh19_1[mh19_1.language == 'en' ]\n",
    "mh19_2.language.value_counts()\n",
    "mh19_2.shape"
   ]
  },
  {
   "cell_type": "code",
   "execution_count": 6,
   "id": "9f0d7a4b",
   "metadata": {},
   "outputs": [],
   "source": [
    "# mh19_3 Remove rows that contain certain words  \n",
    "\n",
    "#mh19_2[~mh19_2.tweet.str.contains(\"Johor\", \"Malaysia\", \"my\")]\n",
    "\n",
    "# Here I put Sects because I see multiple popsts use the word, and I think they are promotional tweets\n",
    "\n",
    "words = ['Johor', 'Malaysia', 'Sects']\n",
    "mh19_3 = mh19_2[~mh19_2.tweet.str.contains('|'.join(words))]\n",
    "mh19_3.shape"
   ]
  },
  {
   "cell_type": "code",
   "execution_count": 177,
   "id": "107bcc49",
   "metadata": {},
   "outputs": [
    {
     "data": {
      "text/plain": [
       "['unalive', 'mood disorder', 'neurosis', 'melancholia', 'dysthemia']"
      ]
     },
     "execution_count": 177,
     "metadata": {},
     "output_type": "execute_result"
    }
   ],
   "source": [
    "# Checking for keywords that didn't return data\n",
    "keyword_list = pd.read_csv(r\"C:\\Users\\User\\Code-ML\\Omdenna-SG\\Output\\Keyword-list.csv\")\n",
    "mh_list = keyword_list[\"Mental Health Keywords\"][:-3].tolist()\n",
    "scrapped_list = mh19_3.search.value_counts().index.tolist()\n",
    "\n",
    "temp = [word for word in mh_list if word not in scrapped_list]\n",
    "temp"
   ]
  },
  {
   "cell_type": "code",
   "execution_count": null,
   "id": "c5864c5c",
   "metadata": {},
   "outputs": [],
   "source": [
    "# Remove duplicate rows\n",
    "mh19_4 = mh19_3.drop_duplicates()\n",
    "mh19_4.shape"
   ]
  },
  {
   "cell_type": "code",
   "execution_count": null,
   "metadata": {},
   "outputs": [],
   "source": [
    "# Removing URL \n",
    "import re\n",
    "def remove_url(txt):\n",
    "    return \" \".join(re.sub(\"([^0-9A-Za-z \\t])|(\\w+:\\/\\/\\S+)\", \"\", txt).split())\n",
    "\n",
    "all_tweets_no_urls = [remove_url(tweet) for tweet in mh19_4['tweet']]\n",
    "all_tweets_no_urls\n",
    "\n",
    "mh19_4[\"tweet\"] = all_tweets_no_urls\n",
    "mh19_4[\"tweet\"]\n",
    "mh19_4.shape"
   ]
  },
  {
   "cell_type": "code",
   "execution_count": null,
   "metadata": {},
   "outputs": [],
   "source": [
    "# Remove duplicate tweets \n",
    "mh19_4.drop_duplicates(subset =\"tweet\",\n",
    "                     keep = False, inplace = True)\n",
    "mh19_4.shape"
   ]
  },
  {
   "cell_type": "code",
   "execution_count": null,
   "metadata": {},
   "outputs": [],
   "source": [
    "# Reformat date/ remove time \n",
    "date = mh19_4.date.tolist()\n",
    "date = [x.split()[0] for x in date]\n",
    "mh19_4['date']=date"
   ]
  },
  {
   "cell_type": "code",
   "execution_count": null,
   "metadata": {},
   "outputs": [],
   "source": [
    "mh19_4.to_csv(\"mh19_5.csv\")"
   ]
  }
 ],
 "metadata": {
  "kernelspec": {
   "display_name": "Python 3",
   "language": "python",
   "name": "python3"
  },
  "language_info": {
   "codemirror_mode": {
    "name": "ipython",
    "version": 3
   },
   "file_extension": ".py",
   "mimetype": "text/x-python",
   "name": "python",
   "nbconvert_exporter": "python",
   "pygments_lexer": "ipython3",
   "version": "3.7.0"
  }
 },
 "nbformat": 4,
 "nbformat_minor": 5
}