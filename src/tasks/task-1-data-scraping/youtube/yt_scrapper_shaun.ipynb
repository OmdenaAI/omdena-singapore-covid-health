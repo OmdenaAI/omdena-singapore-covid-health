{
 "cells": [
  {
   "cell_type": "code",
   "execution_count": 11,
   "metadata": {},
   "outputs": [
    {
     "name": "stdout",
     "output_type": "stream",
     "text": [
      "Requirement already up-to-date: six in c:\\users\\hengs\\anaconda3\\lib\\site-packages (1.16.0)\n"
     ]
    }
   ],
   "source": [
    "# pip install --force-reinstall google-api-python-client==2.11.0  #if you have previously installed google-api-python-client"
   ]
  },
  {
   "cell_type": "code",
   "execution_count": null,
   "metadata": {},
   "outputs": [],
   "source": [
    "# pip install google-api-python-client==2.11.0  #if you dont have google-api-python-client yet"
   ]
  },
  {
   "cell_type": "code",
   "execution_count": null,
   "metadata": {},
   "outputs": [],
   "source": [
    "# pip install --upgrade six"
   ]
  },
  {
   "cell_type": "code",
   "execution_count": null,
   "metadata": {},
   "outputs": [],
   "source": [
    "# pip install youtube_transcript_api"
   ]
  },
  {
   "cell_type": "code",
   "execution_count": 31,
   "metadata": {},
   "outputs": [],
   "source": [
    "from googleapiclient.discovery import build\r\n",
    "import pprint\r\n",
    "from youtube_transcript_api import YouTubeTranscriptApi\r\n",
    "import pandas as pd"
   ]
  },
  {
   "cell_type": "markdown",
   "metadata": {},
   "source": [
    "Replace the variable `api_key` with your own api key linked to your account (do not share this api key with anyone). Learn how to create api keys at [Python YouTube API Tutorial: Getting Started - Creating an API Key and Querying the API](https://www.youtube.com/watch?v=th5_9woFJmk&list=RDCMUCCezIgC97PvUuR4_gbFUs5g&start_radio=1&t=1164s&ab_channel=CoreySchafer)"
   ]
  },
  {
   "cell_type": "code",
   "execution_count": 2,
   "metadata": {},
   "outputs": [],
   "source": [
    "api_key = 'CREATE_YOUR_API_KEY'\r\n",
    "service = build('youtube', 'v3', developerKey=api_key)"
   ]
  },
  {
   "cell_type": "markdown",
   "metadata": {},
   "source": [
    "Refer to [Google API documentation](https://developers.google.com/youtube/v3/docs) for more information"
   ]
  },
  {
   "cell_type": "code",
   "execution_count": 35,
   "metadata": {},
   "outputs": [],
   "source": [
    "def search(service, query, maxResults=20):\r\n",
    "    '''\r\n",
    "    service: google resource as shown above\r\n",
    "    query: string of search query, e.g. 'harassment (sexual|harass|obscene)', can also use the Boolean NOT (-) and OR (|) operators \r\n",
    "    to exclude videos or to find videos that are associated with one of several search terms.\r\n",
    "    maxResults: max number of search results that should be returned, default: 20 (max: 100)\r\n",
    "    returns: videoID of search results\r\n",
    "\r\n",
    "    relevant link: https://developers.google.com/youtube/v3/docs/search/list#usage\r\n",
    "    '''\r\n",
    "\r\n",
    "    response = service.search().list(\r\n",
    "                part=\"snippet\",\r\n",
    "                q=query,\r\n",
    "                type='video',\r\n",
    "                maxResults=maxResults).execute()\r\n",
    "\r\n",
    "    videos = response['items']\r\n",
    "    videoIDs = [vid['id']['videoId'] for vid in videos]\r\n",
    "    video_titles = [vid['snippet']['title'] for vid in videos]\r\n",
    "    \r\n",
    "    return videoIDs, video_titles\r\n",
    "\r\n",
    "def get_videos_info(videoIDs):\r\n",
    "    '''\r\n",
    "    videoIDs: list of video IDs\r\n",
    "    returns: list of dictionary of basic videos information, such as ID, title, channel name, date of publication, description.\r\n",
    "    '''\r\n",
    "\r\n",
    "    response = service.videos().list(\r\n",
    "                    part=\"snippet\",\r\n",
    "                    id=videoIDs).execute() \r\n",
    "    \r\n",
    "    videos = response['items']\r\n",
    "    video_info = [{'id': vid['id'],\r\n",
    "                    'title': vid['snippet']['title'],\r\n",
    "                    'channel_name': vid['snippet']['channelTitle'],\r\n",
    "                    'published_date': vid['snippet']['publishedAt'],\r\n",
    "                    'description': vid['snippet']['description']}\r\n",
    "                    for vid in videos]\r\n",
    "\r\n",
    "    return video_info\r\n",
    "\r\n",
    "def get_subtitles(videoID):\r\n",
    "    '''\r\n",
    "    videoID: id of ONE youtube video\r\n",
    "    returns: subtitles of video\r\n",
    "\r\n",
    "    time: ~0.7s per videoID\r\n",
    "    '''\r\n",
    "    subtitle = ''\r\n",
    "    \r\n",
    "    try:\r\n",
    "        transcript = YouTubeTranscriptApi.get_transcript(videoID)\r\n",
    "    except:\r\n",
    "        return subtitle\r\n",
    "\r\n",
    "    for text in transcript:\r\n",
    "        subtitle = subtitle + text['text'] + ' '\r\n",
    "\r\n",
    "    return subtitle\r\n",
    "    \r\n",
    "def get_comments(videoID, maxComments=20):\r\n",
    "    '''\r\n",
    "    videoID: id of ONE youtube video\r\n",
    "    maxComments: maximum number of top level comments to extract, default = 20 (max: 100)\r\n",
    "\r\n",
    "    returns: list of comment IDs, list of top-level comments \r\n",
    "    '''\r\n",
    "    try: \r\n",
    "        response = service.commentThreads().list(\r\n",
    "            part=['snippet'], #add 'replies to find replies to top level comments (i.e. nested comments)\r\n",
    "            videoId=videoID,\r\n",
    "            maxResults=maxComments,\r\n",
    "            order='relevance'\r\n",
    "        ).execute()\r\n",
    "    except: # if comments are disabled\r\n",
    "        return [], []\r\n",
    "\r\n",
    "    comments = response['items']\r\n",
    "    commentIDs = [c['id'] for c in comments]\r\n",
    "    comment_texts = [c['snippet']['topLevelComment']['snippet']['textOriginal'] for c in comments]\r\n",
    "\r\n",
    "    return commentIDs, comment_texts\r\n",
    "\r\n",
    "def convert_comments_to_one_string(comment_texts):\r\n",
    "    output = ''\r\n",
    "    for c in comment_texts:\r\n",
    "        output = output + c + \" | \"\r\n",
    "    return output\r\n",
    "\r\n",
    "def youtube_scrapper(search_query, max_num_of_videos):\r\n",
    "    print(\"(1/4) Scraping videoID...\")  \r\n",
    "    videoIDs, video_titles = search(service, search_query , max_num_of_videos)\r\n",
    "    \r\n",
    "    print(\"(2/4) Scraping video information...\")\r\n",
    "    video_info = get_videos_info(videoIDs)\r\n",
    "    \r\n",
    "    print(\"(3/4) Scraping video subtitles and comments...\")\r\n",
    "    for vid in video_info:\r\n",
    "        videoID = vid['id']\r\n",
    "\r\n",
    "        commentIDs, comment_texts = get_comments(videoID, 50)\r\n",
    "        comment_string = convert_comments_to_one_string(comment_texts)\r\n",
    "        vid['comments'] = comment_string\r\n",
    "\r\n",
    "        subtitle = get_subtitles(videoID)\r\n",
    "        vid['subtitle'] = subtitle\r\n",
    "\r\n",
    "    \r\n",
    "    print(\"(4/4) Converting to dataframe...\")\r\n",
    "    df = pd.DataFrame(video_info)\r\n",
    "    df = df[['id','channel_name','title','published_date','description','subtitle','comments']]\r\n",
    "    \r\n",
    "    print(\"Completed scraping for: '{}' \".format(search_query))\r\n",
    "    print(\"Number of videos scrapped: {}\".format(len(video_info)))\r\n",
    "\r\n",
    "    return df"
   ]
  },
  {
   "cell_type": "code",
   "execution_count": 36,
   "metadata": {},
   "outputs": [
    {
     "name": "stdout",
     "output_type": "stream",
     "text": [
      "(1/4) Scraping videoID...\n",
      "(2/4) Scraping video information...\n",
      "(3/4) Scraping video subtitles and comments...\n",
      "(4/4) Converting to dataframe...\n",
      "Completed scraping for: 'covid mental health singapore' \n",
      "Number of videos scrapped: 50\n"
     ]
    },
    {
     "data": {
      "text/html": [
       "<div>\n",
       "<style scoped>\n",
       "    .dataframe tbody tr th:only-of-type {\n",
       "        vertical-align: middle;\n",
       "    }\n",
       "\n",
       "    .dataframe tbody tr th {\n",
       "        vertical-align: top;\n",
       "    }\n",
       "\n",
       "    .dataframe thead th {\n",
       "        text-align: right;\n",
       "    }\n",
       "</style>\n",
       "<table border=\"1\" class=\"dataframe\">\n",
       "  <thead>\n",
       "    <tr style=\"text-align: right;\">\n",
       "      <th></th>\n",
       "      <th>id</th>\n",
       "      <th>channel_name</th>\n",
       "      <th>title</th>\n",
       "      <th>published_date</th>\n",
       "      <th>description</th>\n",
       "      <th>subtitle</th>\n",
       "      <th>comments</th>\n",
       "    </tr>\n",
       "  </thead>\n",
       "  <tbody>\n",
       "    <tr>\n",
       "      <th>0</th>\n",
       "      <td>AIB_pFuSfpQ</td>\n",
       "      <td>CNA</td>\n",
       "      <td>COVID-19: Singapore authorities on how the men...</td>\n",
       "      <td>2020-08-06T11:32:40Z</td>\n",
       "      <td>How are the mental health needs of migrant wor...</td>\n",
       "      <td>uh so my question is about the number of uh re...</td>\n",
       "      <td>At this point in time, I really can't care les...</td>\n",
       "    </tr>\n",
       "    <tr>\n",
       "      <th>1</th>\n",
       "      <td>QShkVkVOlzs</td>\n",
       "      <td>The Straits Times</td>\n",
       "      <td>Living with anxiety during Covid-19</td>\n",
       "      <td>2020-10-10T15:48:14Z</td>\n",
       "      <td>Four Singaporeans share how Covid-19 had an im...</td>\n",
       "      <td>i graduated just thrusted into like the workin...</td>\n",
       "      <td>Living in the climate of fear. A mental tortur...</td>\n",
       "    </tr>\n",
       "    <tr>\n",
       "      <th>2</th>\n",
       "      <td>LWOmhmkyZBU</td>\n",
       "      <td>CNA</td>\n",
       "      <td>Mental health experts warn of psychological tr...</td>\n",
       "      <td>2020-04-17T16:12:08Z</td>\n",
       "      <td>Concern over the mental health impact of COVID...</td>\n",
       "      <td>concern over the mental health impact of cover...</td>\n",
       "      <td>In Japan, rental apartments are offered  as ti...</td>\n",
       "    </tr>\n",
       "    <tr>\n",
       "      <th>3</th>\n",
       "      <td>gD7k4o8JBJI</td>\n",
       "      <td>CNN-News18</td>\n",
       "      <td>CBSE News | Delhi News | Maharashtra News | Co...</td>\n",
       "      <td>2021-02-04T06:35:31Z</td>\n",
       "      <td>Pushkar Singh Dhami on Sunday took oath as the...</td>\n",
       "      <td></td>\n",
       "      <td></td>\n",
       "    </tr>\n",
       "    <tr>\n",
       "      <th>4</th>\n",
       "      <td>53vfPhhbh-g</td>\n",
       "      <td>British Chamber of Commerce Singapore</td>\n",
       "      <td>Mental Health at Work during COVID 19 | BritCh...</td>\n",
       "      <td>2020-07-24T01:17:52Z</td>\n",
       "      <td>Watch this webinar for insights from thought l...</td>\n",
       "      <td>good afternoon and welcome everybody to this e...</td>\n",
       "      <td></td>\n",
       "    </tr>\n",
       "  </tbody>\n",
       "</table>\n",
       "</div>"
      ],
      "text/plain": [
       "            id                           channel_name  \\\n",
       "0  AIB_pFuSfpQ                                    CNA   \n",
       "1  QShkVkVOlzs                      The Straits Times   \n",
       "2  LWOmhmkyZBU                                    CNA   \n",
       "3  gD7k4o8JBJI                             CNN-News18   \n",
       "4  53vfPhhbh-g  British Chamber of Commerce Singapore   \n",
       "\n",
       "                                               title        published_date  \\\n",
       "0  COVID-19: Singapore authorities on how the men...  2020-08-06T11:32:40Z   \n",
       "1                Living with anxiety during Covid-19  2020-10-10T15:48:14Z   \n",
       "2  Mental health experts warn of psychological tr...  2020-04-17T16:12:08Z   \n",
       "3  CBSE News | Delhi News | Maharashtra News | Co...  2021-02-04T06:35:31Z   \n",
       "4  Mental Health at Work during COVID 19 | BritCh...  2020-07-24T01:17:52Z   \n",
       "\n",
       "                                         description  \\\n",
       "0  How are the mental health needs of migrant wor...   \n",
       "1  Four Singaporeans share how Covid-19 had an im...   \n",
       "2  Concern over the mental health impact of COVID...   \n",
       "3  Pushkar Singh Dhami on Sunday took oath as the...   \n",
       "4  Watch this webinar for insights from thought l...   \n",
       "\n",
       "                                            subtitle  \\\n",
       "0  uh so my question is about the number of uh re...   \n",
       "1  i graduated just thrusted into like the workin...   \n",
       "2  concern over the mental health impact of cover...   \n",
       "3                                                      \n",
       "4  good afternoon and welcome everybody to this e...   \n",
       "\n",
       "                                            comments  \n",
       "0  At this point in time, I really can't care les...  \n",
       "1  Living in the climate of fear. A mental tortur...  \n",
       "2  In Japan, rental apartments are offered  as ti...  \n",
       "3                                                     \n",
       "4                                                     "
      ]
     },
     "execution_count": 36,
     "metadata": {},
     "output_type": "execute_result"
    }
   ],
   "source": [
    "search_query = 'covid mental health singapore'\r\n",
    "max_num_of_videos = 50\r\n",
    "\r\n",
    "df = youtube_scrapper(search_query, max_num_of_videos)\r\n",
    "df.head()"
   ]
  },
  {
   "cell_type": "code",
   "execution_count": 37,
   "metadata": {},
   "outputs": [],
   "source": [
    "df.to_csv('youtube_data.csv')"
   ]
  },
  {
   "cell_type": "markdown",
   "metadata": {},
   "source": [
    "## Example code to show the outputs of different API requests"
   ]
  },
  {
   "cell_type": "code",
   "execution_count": 29,
   "metadata": {},
   "outputs": [
    {
     "data": {
      "text/plain": [
       "{'kind': 'youtube#searchListResponse',\n",
       " 'etag': 'DjVIAcUGK66S_Jqj3d9kDHdyyKo',\n",
       " 'nextPageToken': 'CAEQAA',\n",
       " 'regionCode': 'SG',\n",
       " 'pageInfo': {'totalResults': 1000000, 'resultsPerPage': 1},\n",
       " 'items': [{'kind': 'youtube#searchResult',\n",
       "   'etag': 'IrSjIja2tDs-AGIHrdDVB6DJ3V0',\n",
       "   'id': {'kind': 'youtube#video', 'videoId': 'f4gBmOxtIzA'},\n",
       "   'snippet': {'publishedAt': '2021-02-11T01:08:45Z',\n",
       "    'channelId': 'UCrp_UI8XtuYfpiqluWLD7Lw',\n",
       "    'title': 'Looking at the long-term mental health effects of Covid-19',\n",
       "    'description': \"Dr. Patrice Harris, former president of the American Medical Association, says it's important to talk about mental health to address the problem. People should ...\",\n",
       "    'thumbnails': {'default': {'url': 'https://i.ytimg.com/vi/f4gBmOxtIzA/default.jpg',\n",
       "      'width': 120,\n",
       "      'height': 90},\n",
       "     'medium': {'url': 'https://i.ytimg.com/vi/f4gBmOxtIzA/mqdefault.jpg',\n",
       "      'width': 320,\n",
       "      'height': 180},\n",
       "     'high': {'url': 'https://i.ytimg.com/vi/f4gBmOxtIzA/hqdefault.jpg',\n",
       "      'width': 480,\n",
       "      'height': 360}},\n",
       "    'channelTitle': 'CNBC Television',\n",
       "    'liveBroadcastContent': 'none',\n",
       "    'publishTime': '2021-02-11T01:08:45Z'}}]}"
      ]
     },
     "execution_count": 29,
     "metadata": {},
     "output_type": "execute_result"
    }
   ],
   "source": [
    "# .search()\r\n",
    "input_query = ['covid mental health']\r\n",
    "maxResults = 1\r\n",
    "response = service.search().list(\r\n",
    "                part=\"snippet\",\r\n",
    "                q=input_query,\r\n",
    "                type='video',\r\n",
    "                maxResults=maxResults).execute()\r\n",
    "\r\n",
    "# pprint.pprint(response)\r\n",
    "response"
   ]
  },
  {
   "cell_type": "code",
   "execution_count": 28,
   "metadata": {},
   "outputs": [
    {
     "data": {
      "text/plain": [
       "{'kind': 'youtube#videoListResponse',\n",
       " 'etag': 'cxfw3vdkR5s0wi-ZI7cn01sCNBY',\n",
       " 'items': [{'kind': 'youtube#video',\n",
       "   'etag': 'N0PyyKatu2okgqZCYFg1XvMO-dQ',\n",
       "   'id': 'LWOmhmkyZBU',\n",
       "   'snippet': {'publishedAt': '2020-04-17T16:12:08Z',\n",
       "    'channelId': 'UC83jt4dlz1Gjl58fzQrrKZg',\n",
       "    'title': 'Mental health experts warn of psychological trauma caused by COVID-19 pandemic',\n",
       "    'description': 'Concern over the mental health impact of COVID-19 measures is rising. As quarantines and social distancing rules become common all over the world, experts are warning of a spike in the psychological impact of such measures. Family counselling psychologist Adrian Lim spoke to CNA about this issue.\\n\\nSubscribe to our channel here: https://cna.asia/youtubesub \\r\\n\\r\\nSubscribe to our news service on Telegram: https://cna.asia/telegram\\r\\n\\r\\nFollow us:\\r\\nCNA: https://cna.asia\\r\\nCNA Lifestyle: http://www.cnalifestyle.com \\r\\nFacebook: https://www.facebook.com/channelnewsasia\\r\\nInstagram: https://www.instagram.com/channelnewsasia\\r\\nTwitter: https://www.twitter.com/channelnewsasia',\n",
       "    'thumbnails': {'default': {'url': 'https://i.ytimg.com/vi/LWOmhmkyZBU/default.jpg',\n",
       "      'width': 120,\n",
       "      'height': 90},\n",
       "     'medium': {'url': 'https://i.ytimg.com/vi/LWOmhmkyZBU/mqdefault.jpg',\n",
       "      'width': 320,\n",
       "      'height': 180},\n",
       "     'high': {'url': 'https://i.ytimg.com/vi/LWOmhmkyZBU/hqdefault.jpg',\n",
       "      'width': 480,\n",
       "      'height': 360},\n",
       "     'standard': {'url': 'https://i.ytimg.com/vi/LWOmhmkyZBU/sddefault.jpg',\n",
       "      'width': 640,\n",
       "      'height': 480},\n",
       "     'maxres': {'url': 'https://i.ytimg.com/vi/LWOmhmkyZBU/maxresdefault.jpg',\n",
       "      'width': 1280,\n",
       "      'height': 720}},\n",
       "    'channelTitle': 'CNA',\n",
       "    'tags': ['CNA',\n",
       "     'Channel NewsAsia',\n",
       "     'covid-19',\n",
       "     'mental health',\n",
       "     'quarantines',\n",
       "     'social distancing'],\n",
       "    'categoryId': '25',\n",
       "    'liveBroadcastContent': 'none',\n",
       "    'localized': {'title': 'Mental health experts warn of psychological trauma caused by COVID-19 pandemic',\n",
       "     'description': 'Concern over the mental health impact of COVID-19 measures is rising. As quarantines and social distancing rules become common all over the world, experts are warning of a spike in the psychological impact of such measures. Family counselling psychologist Adrian Lim spoke to CNA about this issue.\\n\\nSubscribe to our channel here: https://cna.asia/youtubesub \\r\\n\\r\\nSubscribe to our news service on Telegram: https://cna.asia/telegram\\r\\n\\r\\nFollow us:\\r\\nCNA: https://cna.asia\\r\\nCNA Lifestyle: http://www.cnalifestyle.com \\r\\nFacebook: https://www.facebook.com/channelnewsasia\\r\\nInstagram: https://www.instagram.com/channelnewsasia\\r\\nTwitter: https://www.twitter.com/channelnewsasia'},\n",
       "    'defaultAudioLanguage': 'en-GB'}}],\n",
       " 'pageInfo': {'totalResults': 1, 'resultsPerPage': 1}}"
      ]
     },
     "execution_count": 28,
     "metadata": {},
     "output_type": "execute_result"
    }
   ],
   "source": [
    "# .videos()\r\n",
    "input_videoID = 'LWOmhmkyZBU'\r\n",
    "response = service.videos().list(\r\n",
    "            part=\"snippet\",\r\n",
    "            id=input_videoID).execute()\r\n",
    "\r\n",
    "# pprint.pprint(response) #pretty print\r\n",
    "response"
   ]
  },
  {
   "cell_type": "code",
   "execution_count": 27,
   "metadata": {},
   "outputs": [
    {
     "data": {
      "text/plain": [
       "{'kind': 'youtube#commentThreadListResponse',\n",
       " 'etag': 'OfekVZ633Ly7YJGaFlhbqoLhcRY',\n",
       " 'nextPageToken': 'QURTSl9pMWVkMy1mRUVkdUYtOHA1UmJrSUZDY0UyNW1RcEw3TWxDM0pvRTdJSW9hLTUxVDExSjlTaWF5R0pDcDVDbjN4T2pLYjIzQTdla3RDQQ==',\n",
       " 'pageInfo': {'totalResults': 1, 'resultsPerPage': 1},\n",
       " 'items': [{'kind': 'youtube#commentThread',\n",
       "   'etag': '5RXAvRAKS0limKZXlVLW4vnaE5Y',\n",
       "   'id': 'UgxUHzPE1Gvc_Ha7nCp4AaABAg',\n",
       "   'snippet': {'videoId': 'LWOmhmkyZBU',\n",
       "    'topLevelComment': {'kind': 'youtube#comment',\n",
       "     'etag': 'DhfcDl2VUg2Z4aWGOsnsdXulPjc',\n",
       "     'id': 'UgxUHzPE1Gvc_Ha7nCp4AaABAg',\n",
       "     'snippet': {'videoId': 'LWOmhmkyZBU',\n",
       "      'textDisplay': 'In Japan, rental apartments are offered  as time apart  for couples so as to curb divorce during this pandemic. Maybe here the hotels can offer some similar services to help with the mental stress during this difficult period',\n",
       "      'textOriginal': 'In Japan, rental apartments are offered  as time apart  for couples so as to curb divorce during this pandemic. Maybe here the hotels can offer some similar services to help with the mental stress during this difficult period',\n",
       "      'authorDisplayName': 'Janey Choo',\n",
       "      'authorProfileImageUrl': 'https://yt3.ggpht.com/ytc/AKedOLSOX-7REVQeTzAEW9IUsz0jZH1MHO2crrJW3Q=s48-c-k-c0x00ffffff-no-rj',\n",
       "      'authorChannelUrl': 'http://www.youtube.com/channel/UCRp0ldwzjaezs4ORv2hsTHQ',\n",
       "      'authorChannelId': {'value': 'UCRp0ldwzjaezs4ORv2hsTHQ'},\n",
       "      'canRate': True,\n",
       "      'viewerRating': 'none',\n",
       "      'likeCount': 5,\n",
       "      'publishedAt': '2020-04-17T23:57:45Z',\n",
       "      'updatedAt': '2020-04-17T23:57:45Z'}},\n",
       "    'canReply': True,\n",
       "    'totalReplyCount': 0,\n",
       "    'isPublic': True}}]}"
      ]
     },
     "execution_count": 27,
     "metadata": {},
     "output_type": "execute_result"
    }
   ],
   "source": [
    "# .commentThreads()\r\n",
    "input_videoID = 'LWOmhmkyZBU'\r\n",
    "maxComments = 1\r\n",
    "\r\n",
    "response = service.commentThreads().list(\r\n",
    "            part=['snippet'], #add 'replies to find replies to top level comments (i.e. nested comments)\r\n",
    "            videoId=input_videoID,\r\n",
    "            maxResults=maxComments,\r\n",
    "            order='relevance'\r\n",
    "        ).execute()\r\n",
    "\r\n",
    "# pprint.pprint(response)\r\n",
    "response"
   ]
  }
 ],
 "metadata": {
  "interpreter": {
   "hash": "b38b3e9a2df41e97551759db997f323c55dd9d45fc416b8186824905bb23aa9f"
  },
  "kernelspec": {
   "display_name": "Python 3.7.3 64-bit ('base': conda)",
   "name": "python3"
  },
  "language_info": {
   "name": "python",
   "version": ""
  },
  "orig_nbformat": 4
 },
 "nbformat": 4,
 "nbformat_minor": 2
}
