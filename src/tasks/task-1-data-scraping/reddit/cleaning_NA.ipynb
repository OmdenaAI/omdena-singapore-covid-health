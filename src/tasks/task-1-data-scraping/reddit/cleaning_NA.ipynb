{
    "cells": [
        {
            "cell_type": "code",
            "execution_count": 18,
            "source": [
                "### INSTALL & IMPORT DEPENDENCIES\r\n",
                "import numpy as np\r\n",
                "import pandas as pd\r\n",
                "import datetime as dt\r\n",
                "# pip install pmaw\r\n",
                "import praw"
            ],
            "outputs": [],
            "metadata": {}
        },
        {
            "cell_type": "code",
            "execution_count": 19,
            "source": [
                "client_id = \"bULIVVfNRwNBPQ\"\r\n",
                "secret = \"tgKJiN4v4jY0SN1RqFvX_DoAVmuhmg\"\r\n",
                "user_agent = \"testing_api\"\r\n",
                "reddit = praw.Reddit(client_id = client_id, client_secret = secret, user_agent = user_agent)"
            ],
            "outputs": [],
            "metadata": {}
        },
        {
            "cell_type": "code",
            "execution_count": null,
            "source": [
                "rescrape_file = pd.read_csv(\"C:\\\\Users\\\\20jam\\\\Documents\\\\a teabag of joy\\\\data cleaning\\\\rescrape.csv\")\r\n",
                "rescrape_file = rescrape_file.drop(['author', 'upvote_ratio'], axis=1)\r\n",
                "print(rescrape_file)"
            ],
            "outputs": [],
            "metadata": {}
        },
        {
            "cell_type": "code",
            "execution_count": null,
            "source": [
                "counter = 0\r\n",
                "author = []\r\n",
                "upvote_ratio = []\r\n",
                "for index, row in rescrape_file.iterrows():\r\n",
                "    counter += 1\r\n",
                "    try:\r\n",
                "        id = row[\"id\"]\r\n",
                "        submission = reddit.submission(id = id)\r\n",
                "        author.append(submission.author)\r\n",
                "        upvote_ratio.append(submission.upvote_ratio)\r\n",
                "    except:\r\n",
                "        author.append(None)\r\n",
                "        upvote_ratio.append(None)\r\n",
                "    print(counter)\r\n",
                "print(author)\r\n",
                "print(upvote_ratio)"
            ],
            "outputs": [],
            "metadata": {}
        },
        {
            "cell_type": "code",
            "execution_count": 44,
            "source": [
                "data = pd.concat([scraped, to_continue])\r\n",
                "data.to_csv(r\"C:\\\\Users\\\\20jam\\\\Documents\\\\a teabag of joy\\\\data cleaning\\\\done_rescrape.csv\", index = False, header = True)"
            ],
            "outputs": [],
            "metadata": {}
        }
    ],
    "metadata": {
        "orig_nbformat": 4,
        "language_info": {
            "name": "python"
        }
    },
    "nbformat": 4,
    "nbformat_minor": 2
}