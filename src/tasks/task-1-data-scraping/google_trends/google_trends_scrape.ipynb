{
 "cells": [
  {
   "cell_type": "markdown",
   "id": "0c5a1a8e",
   "metadata": {},
   "source": [
    "# Note:\n",
    "Due to Google Trends blocking scraping with a for loop, the list has been broken down into 3 items (or columns from a dataframe) at a time."
   ]
  },
  {
   "cell_type": "code",
   "execution_count": 1,
   "id": "b4e393a9",
   "metadata": {},
   "outputs": [],
   "source": [
    "import pandas as pd\n",
    "import datetime      \n",
    "from pytrends.request import TrendReq\n",
    "import time"
   ]
  },
  {
   "cell_type": "code",
   "execution_count": 2,
   "id": "c07c35fd",
   "metadata": {},
   "outputs": [],
   "source": [
    "df = pd.read_csv('google_trend_keyword.csv')\n",
    "output_path = '../../../data/google_trends/'"
   ]
  },
  {
   "cell_type": "code",
   "execution_count": 3,
   "id": "fd03b624",
   "metadata": {},
   "outputs": [
    {
     "data": {
      "text/html": [
       "<div>\n",
       "<style scoped>\n",
       "    .dataframe tbody tr th:only-of-type {\n",
       "        vertical-align: middle;\n",
       "    }\n",
       "\n",
       "    .dataframe tbody tr th {\n",
       "        vertical-align: top;\n",
       "    }\n",
       "\n",
       "    .dataframe thead th {\n",
       "        text-align: right;\n",
       "    }\n",
       "</style>\n",
       "<table border=\"1\" class=\"dataframe\">\n",
       "  <thead>\n",
       "    <tr style=\"text-align: right;\">\n",
       "      <th></th>\n",
       "      <th>general_terms</th>\n",
       "      <th>diagnosis</th>\n",
       "      <th>emotions</th>\n",
       "      <th>ngos</th>\n",
       "      <th>general terms</th>\n",
       "      <th>measures</th>\n",
       "      <th>impacts</th>\n",
       "    </tr>\n",
       "  </thead>\n",
       "  <tbody>\n",
       "    <tr>\n",
       "      <th>0</th>\n",
       "      <td>mental illness</td>\n",
       "      <td>depression</td>\n",
       "      <td>unalive</td>\n",
       "      <td>Institute of Mental Health</td>\n",
       "      <td>covid-19</td>\n",
       "      <td>restriction</td>\n",
       "      <td>uncertainty</td>\n",
       "    </tr>\n",
       "    <tr>\n",
       "      <th>1</th>\n",
       "      <td>mental health</td>\n",
       "      <td>neurosis</td>\n",
       "      <td>help</td>\n",
       "      <td>IMH</td>\n",
       "      <td>epidemic</td>\n",
       "      <td>social distancing</td>\n",
       "      <td>death</td>\n",
       "    </tr>\n",
       "    <tr>\n",
       "      <th>2</th>\n",
       "      <td>self-harm</td>\n",
       "      <td>post traumatic stress disorder</td>\n",
       "      <td>dead</td>\n",
       "      <td>Samaritans Of Singapore</td>\n",
       "      <td>pandemic</td>\n",
       "      <td>circuit breaker</td>\n",
       "      <td>community cases</td>\n",
       "    </tr>\n",
       "    <tr>\n",
       "      <th>3</th>\n",
       "      <td>suicide</td>\n",
       "      <td>mood disorder</td>\n",
       "      <td>no motivation</td>\n",
       "      <td>SOS</td>\n",
       "      <td>pre-covid</td>\n",
       "      <td>quarantine</td>\n",
       "      <td>fatality rate</td>\n",
       "    </tr>\n",
       "    <tr>\n",
       "      <th>4</th>\n",
       "      <td>death</td>\n",
       "      <td>melancholia</td>\n",
       "      <td>loneliness</td>\n",
       "      <td>National Care Hotline</td>\n",
       "      <td>coronavirus</td>\n",
       "      <td>lockdown</td>\n",
       "      <td>cluster</td>\n",
       "    </tr>\n",
       "  </tbody>\n",
       "</table>\n",
       "</div>"
      ],
      "text/plain": [
       "    general_terms                       diagnosis       emotions  \\\n",
       "0  mental illness                      depression        unalive   \n",
       "1   mental health                        neurosis           help   \n",
       "2       self-harm  post traumatic stress disorder           dead   \n",
       "3         suicide                   mood disorder  no motivation   \n",
       "4           death                     melancholia     loneliness   \n",
       "\n",
       "                         ngos general terms           measures  \\\n",
       "0  Institute of Mental Health      covid-19        restriction   \n",
       "1                         IMH      epidemic  social distancing   \n",
       "2     Samaritans Of Singapore      pandemic    circuit breaker   \n",
       "3                         SOS     pre-covid         quarantine   \n",
       "4       National Care Hotline   coronavirus           lockdown   \n",
       "\n",
       "           impacts  \n",
       "0      uncertainty  \n",
       "1            death  \n",
       "2  community cases  \n",
       "3    fatality rate  \n",
       "4          cluster  "
      ]
     },
     "execution_count": 3,
     "metadata": {},
     "output_type": "execute_result"
    }
   ],
   "source": [
    "df.head()"
   ]
  },
  {
   "cell_type": "code",
   "execution_count": 12,
   "id": "eb1e51dc",
   "metadata": {},
   "outputs": [],
   "source": [
    "# Highly recommended that you scrape 3 columns at a time as Google Trends will time you out\n",
    "startTime = time.time()\n",
    "pytrend = TrendReq(hl='en-US') # language of the query\n",
    "\n",
    "category_list_1 = ['general_terms',\n",
    "                 'diagnosis',\n",
    "                 'emotions']\n",
    "\n",
    "category_list_2 = ['ngos',\n",
    "                   'general terms',\n",
    "                   'measures']\n",
    "\n",
    "category_list_3 = ['impacts']\n",
    "\n",
    "def google_trends_scraper(category_list, df): # pass in the original df with the shorter list (max 3)\n",
    "    filtered_df = df.loc[:,category_list]\n",
    "\n",
    "    for idx, category in enumerate(category_list):\n",
    "        colnames = category_list[idx]\n",
    "        df_temp = filtered_df.iloc[:,idx].values.tolist()\n",
    "\n",
    "        extracted_data = []\n",
    "\n",
    "        for i in range(0,len(df_temp)):\n",
    "            keywords = [df_temp[i]]\n",
    "            pytrend.build_payload(\n",
    "            kw_list=keywords,\n",
    "            cat=0,\n",
    "            timeframe='2019-01-01 2021-07-07',\n",
    "            geo='SG')\n",
    "            data = pytrend.interest_over_time()\n",
    "            if not data.empty:\n",
    "                data = data.drop(labels=['isPartial'],axis='columns')\n",
    "                extracted_data.append(data)\n",
    "\n",
    "        result = pd.concat(extracted_data, axis=1)\n",
    "        result.to_csv(f'{output_path}{category}.csv')\n",
    "\n",
    "        # executionTime = (time.time() - startTime)\n",
    "        # print('Execution time in sec.: ' + str(executionTime))"
   ]
  },
  {
   "cell_type": "markdown",
   "id": "518abfd9",
   "metadata": {},
   "source": [
    "# Load one cell at a time and wait for a couple seconds when the previous cell is done\n",
    "Do not press all cells at a go. Google may deny your request"
   ]
  },
  {
   "cell_type": "code",
   "execution_count": 6,
   "id": "c9ffc9e6",
   "metadata": {},
   "outputs": [],
   "source": [
    "google_trends_scraper(category_list_1, df)"
   ]
  },
  {
   "cell_type": "code",
   "execution_count": 11,
   "id": "15ddf3a1",
   "metadata": {},
   "outputs": [],
   "source": [
    "google_trends_scraper(category_list_2, df)"
   ]
  },
  {
   "cell_type": "code",
   "execution_count": 10,
   "id": "b7a31606",
   "metadata": {},
   "outputs": [],
   "source": [
    "google_trends_scraper(category_list_3, df)"
   ]
  },
  {
   "cell_type": "code",
   "execution_count": null,
   "id": "de6fe802",
   "metadata": {},
   "outputs": [],
   "source": []
  }
 ],
 "metadata": {
  "kernelspec": {
   "display_name": "Python 3 (ipykernel)",
   "language": "python",
   "name": "python3"
  },
  "language_info": {
   "codemirror_mode": {
    "name": "ipython",
    "version": 3
   },
   "file_extension": ".py",
   "mimetype": "text/x-python",
   "name": "python",
   "nbconvert_exporter": "python",
   "pygments_lexer": "ipython3",
   "version": "3.9.5"
  }
 },
 "nbformat": 4,
 "nbformat_minor": 5
}
