{
 "cells": [
  {
   "cell_type": "markdown",
   "id": "complicated-geology",
   "metadata": {},
   "source": [
    "Source: https://www.channelnewsasia.com"
   ]
  },
  {
   "cell_type": "markdown",
   "id": "generous-energy",
   "metadata": {},
   "source": [
    "### Using Mental Health Tag"
   ]
  },
  {
   "cell_type": "code",
   "execution_count": 1,
   "id": "arbitrary-enterprise",
   "metadata": {
    "ExecuteTime": {
     "end_time": "2021-07-09T10:59:37.789722Z",
     "start_time": "2021-07-09T10:59:37.332256Z"
    }
   },
   "outputs": [],
   "source": [
    "import csv\n",
    "import json\n",
    "import os.path\n",
    "import pandas as pd\n",
    "import random\n",
    "\n",
    "from selenium import webdriver\n",
    "from selenium.webdriver.support.ui import WebDriverWait\n",
    "from time import sleep"
   ]
  },
  {
   "cell_type": "code",
   "execution_count": 2,
   "id": "addressed-mount",
   "metadata": {
    "ExecuteTime": {
     "end_time": "2021-07-09T10:59:42.401603Z",
     "start_time": "2021-07-09T10:59:39.316270Z"
    }
   },
   "outputs": [
    {
     "name": "stderr",
     "output_type": "stream",
     "text": [
      "\n",
      "\n",
      "====== WebDriver manager ======\n",
      "Current google-chrome version is 91.0.4472\n",
      "Get LATEST driver version for 91.0.4472\n",
      "Driver [/Users/rhey.magcalas/.wdm/drivers/chromedriver/mac64/91.0.4472.101/chromedriver] found in cache\n"
     ]
    }
   ],
   "source": [
    "from selenium import webdriver\n",
    "from webdriver_manager.chrome import ChromeDriverManager\n",
    "\n",
    "driver = webdriver.Chrome(ChromeDriverManager().install())"
   ]
  },
  {
   "cell_type": "code",
   "execution_count": 10,
   "id": "loving-robin",
   "metadata": {
    "ExecuteTime": {
     "end_time": "2021-07-09T12:07:11.228343Z",
     "start_time": "2021-07-09T11:40:38.721415Z"
    }
   },
   "outputs": [],
   "source": [
    "data = []\n",
    "\n",
    "for i in range(60, 100):\n",
    "    target_page = \"https://www.channelnewsasia.com/action/news/8396414/search?q=mental%20health&page={}\".format(i)\n",
    "    driver.get(target_page)\n",
    "    sleep(random.randint(25, 35))\n",
    "    title = driver.find_elements_by_class_name(\"teaser__title\")\n",
    "    \n",
    "    total_height = int(driver.execute_script(\"return document.body.scrollHeight\"))\n",
    "    for i in range(1, total_height, 5):\n",
    "        driver.execute_script(\"window.scrollTo(0, {});\".format(i))\n",
    "\n",
    "                    \n",
    "    for _title in title:    \n",
    "        link = _title.get_attribute('href')\n",
    "        link_details = link.split('/')\n",
    "\n",
    "        if link_details[4] in ['singapore', 'commentary', 'cna insider']:\n",
    "            data.append({\n",
    "                'url': link,\n",
    "                'title': _title.text\n",
    "            })"
   ]
  },
  {
   "cell_type": "code",
   "execution_count": 8,
   "id": "recreational-calendar",
   "metadata": {
    "ExecuteTime": {
     "end_time": "2021-07-09T11:40:12.702156Z",
     "start_time": "2021-07-09T11:40:12.697034Z"
    }
   },
   "outputs": [
    {
     "data": {
      "text/plain": [
       "(113, 2)"
      ]
     },
     "execution_count": 8,
     "metadata": {},
     "output_type": "execute_result"
    }
   ],
   "source": [
    "urls = pd.DataFrame(data)\n",
    "urls.shape"
   ]
  },
  {
   "cell_type": "code",
   "execution_count": 11,
   "id": "transparent-blast",
   "metadata": {
    "ExecuteTime": {
     "end_time": "2021-07-09T12:07:26.446169Z",
     "start_time": "2021-07-09T12:07:26.438801Z"
    }
   },
   "outputs": [],
   "source": [
    "urls.to_csv('mental-health-urls.csv')"
   ]
  },
  {
   "cell_type": "code",
   "execution_count": 12,
   "id": "cooked-month",
   "metadata": {
    "ExecuteTime": {
     "end_time": "2021-07-09T12:08:04.469922Z",
     "start_time": "2021-07-09T12:08:04.448239Z"
    }
   },
   "outputs": [],
   "source": [
    "# data_1 = pd.read_csv('0-35.csv', index_col=0)\n",
    "# data_2 = pd.read_csv('35-60.csv', index_col=0)\n",
    "# data_3 = pd.read_csv('60-100.csv', index_col=0)"
   ]
  },
  {
   "cell_type": "code",
   "execution_count": 13,
   "id": "published-module",
   "metadata": {
    "ExecuteTime": {
     "end_time": "2021-07-09T12:09:32.888473Z",
     "start_time": "2021-07-09T12:09:32.878179Z"
    }
   },
   "outputs": [
    {
     "data": {
      "text/plain": [
       "(382, 2)"
      ]
     },
     "execution_count": 13,
     "metadata": {},
     "output_type": "execute_result"
    }
   ],
   "source": [
    "# data_4 = pd.concat([data_1, data_2, data_3])\n",
    "# data_4.shape"
   ]
  },
  {
   "cell_type": "code",
   "execution_count": 14,
   "id": "cloudy-niger",
   "metadata": {
    "ExecuteTime": {
     "end_time": "2021-07-09T12:10:04.628100Z",
     "start_time": "2021-07-09T12:10:04.620760Z"
    }
   },
   "outputs": [],
   "source": [
    "# data_4.to_csv('mental-health-urls.csv')"
   ]
  }
 ],
 "metadata": {
  "kernelspec": {
   "display_name": "Python 3",
   "language": "python",
   "name": "python3"
  },
  "language_info": {
   "codemirror_mode": {
    "name": "ipython",
    "version": 3
   },
   "file_extension": ".py",
   "mimetype": "text/x-python",
   "name": "python",
   "nbconvert_exporter": "python",
   "pygments_lexer": "ipython3",
   "version": "3.8.8"
  }
 },
 "nbformat": 4,
 "nbformat_minor": 5
}
