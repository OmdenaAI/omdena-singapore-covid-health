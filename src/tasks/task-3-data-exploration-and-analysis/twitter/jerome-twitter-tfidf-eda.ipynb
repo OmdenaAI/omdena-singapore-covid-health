{
 "cells": [
  {
   "cell_type": "markdown",
   "id": "a3668e83",
   "metadata": {},
   "source": [
    "# Mini ReadMe\n",
    "\n",
    "To skip all the code, go to global settings to adjust parameters. Then go to \"Keyword Exploration\" to see the results and difference between pre-covid and post-covid"
   ]
  },
  {
   "cell_type": "markdown",
   "id": "909709b2",
   "metadata": {},
   "source": [
    "# File Directories"
   ]
  },
  {
   "cell_type": "code",
   "execution_count": 1,
   "id": "f8411139",
   "metadata": {},
   "outputs": [],
   "source": [
    "input_file_path = \"../../../data/twitter/cleaned/final_clean_data.csv\""
   ]
  },
  {
   "cell_type": "markdown",
   "id": "6f6be599",
   "metadata": {},
   "source": [
    "# Importing libraries"
   ]
  },
  {
   "cell_type": "code",
   "execution_count": 2,
   "id": "adc7bdff",
   "metadata": {},
   "outputs": [],
   "source": [
    "import pandas as pd\n",
    "import numpy as np\n",
    "import matplotlib.pyplot as plt\n",
    "from sklearn.feature_extraction.text import TfidfVectorizer"
   ]
  },
  {
   "cell_type": "code",
   "execution_count": 3,
   "id": "ab03e9e8",
   "metadata": {},
   "outputs": [],
   "source": [
    "df_raw = pd.read_csv(input_file_path).drop('Unnamed: 0',axis=1)\n",
    "df_raw = df_raw.rename(columns={'search':'id_search'})\n",
    "\n",
    "# Cleaning the searched keywords as it is causing problems with the pd.melt\n",
    "df_raw['id_search'] = df_raw['id_search'].apply(lambda x: x.strip())\n",
    "df_raw['id_search'] = df_raw['id_search'].apply(lambda x: x.replace(\" \", \"_\"))\n",
    "\n",
    "# The first covid case is reported to be on Jan 23 2020\n",
    "df_raw_pre_covid = df_raw[df_raw['date'] < '2020-01-23']\n",
    "df_raw_covid = df_raw[df_raw['date'] >= '2020-01-23']\n",
    "\n",
    "# Groups all the text in a keyword category to find common words associated with the keyword\n",
    "df_raw_pre_covid_group = df_raw_pre_covid.groupby(['id_search'], as_index=False)['clean_tweet4'].apply(' '.join)\n",
    "df_raw_covid_group = df_raw_covid.dropna().groupby(['id_search'], as_index=False)['clean_tweet4'].apply(' '.join)"
   ]
  },
  {
   "cell_type": "code",
   "execution_count": 4,
   "id": "f8f997ff",
   "metadata": {},
   "outputs": [
    {
     "name": "stdout",
     "output_type": "stream",
     "text": [
      "(80, 2)\n",
      "(95, 2)\n"
     ]
    }
   ],
   "source": [
    "print(df_raw_pre_covid_group.shape)\n",
    "print(df_raw_covid_group.shape)"
   ]
  },
  {
   "cell_type": "markdown",
   "id": "be63dbc5",
   "metadata": {},
   "source": [
    "# Global Settings"
   ]
  },
  {
   "cell_type": "code",
   "execution_count": 5,
   "id": "4de73d32",
   "metadata": {},
   "outputs": [],
   "source": [
    "ngram_start = 1\n",
    "ngram_end = 3\n",
    "max_keywords_rank = 20\n",
    "keyword = 'depression'"
   ]
  },
  {
   "cell_type": "markdown",
   "id": "76c619b2",
   "metadata": {},
   "source": [
    "# TF-IDF (Pre-Covid)"
   ]
  },
  {
   "cell_type": "code",
   "execution_count": 6,
   "id": "c2a1db5d",
   "metadata": {},
   "outputs": [
    {
     "name": "stderr",
     "output_type": "stream",
     "text": [
      "/Users/jeromeyue/Desktop/omdena/lib/python3.9/site-packages/IPython/core/interactiveshell.py:3441: FutureWarning: This dataframe has a column name that matches the 'value_name' column name of the resulting Dataframe. In the future this will raise an error, please set the 'value_name' parameter of DataFrame.melt to a unique name.\n",
      "  exec(code_obj, self.user_global_ns, self.user_ns)\n"
     ]
    }
   ],
   "source": [
    "# Performing TF-IDF\n",
    "pre_covid_vectorizer = TfidfVectorizer(ngram_range=(ngram_start,ngram_end),\n",
    "                            stop_words = 'english',\n",
    "                            lowercase=True)\n",
    "\n",
    "df_pre_covid_transformed = pre_covid_vectorizer.fit_transform(df_raw_pre_covid_group['clean_tweet4'])\n",
    "df_pre_covid_tfidf = pd.DataFrame(df_pre_covid_transformed.toarray(), columns = pre_covid_vectorizer.get_feature_names())\n",
    "\n",
    "# Merges the TF-IDF output with the main df so as to retrieve the keywords. In this implementation the\n",
    "# tf-idf array produced does not have the keyword but merely the index location of the keyword\n",
    "df_pre_covid = pd.concat([df_raw_pre_covid_group, df_pre_covid_tfidf], axis = 1)\n",
    "\n",
    "# Clean tweets not needed\n",
    "df_pre_covid = df_pre_covid.drop('clean_tweet4',axis=1)\n",
    "df_pre_covid = df_pre_covid.reset_index()\n",
    "\n",
    "# Changes into long form so as to sum the frequencies for every keyword search and the ngram TF-IDF produces\n",
    "df_pre_covid_long = pd.melt(df_pre_covid, \n",
    "                            id_vars='index', \n",
    "                            value_vars = df_pre_covid.columns[2:])\n",
    "\n",
    "df_pre_covid_long = df_pre_covid_long.merge(df_pre_covid[['index','id_search']], \n",
    "                                             on=['index'],\n",
    "                                             how='left')\n",
    "\n",
    "df_pre_covid_long = df_pre_covid_long.drop('index',axis=1) "
   ]
  },
  {
   "cell_type": "code",
   "execution_count": 7,
   "id": "48c2b289",
   "metadata": {},
   "outputs": [],
   "source": [
    "# Filters for the top 20 ngrams per keywrod search and sorts them\n",
    "df_pre_covid_long['rank'] = (df_pre_covid_long.sort_values('value', ascending=False).groupby(['id_search']).cumcount()+1)\n",
    "df_pre_covid_long = df_pre_covid_long[df_pre_covid_long['rank'] <= max_keywords_rank]\n",
    "df_pre_covid_long = df_pre_covid_long.sort_values(['id_search', 'rank'], ascending=[True,True])"
   ]
  },
  {
   "cell_type": "markdown",
   "id": "29d1365c",
   "metadata": {},
   "source": [
    "# TF-IDF (Covid)"
   ]
  },
  {
   "cell_type": "code",
   "execution_count": 8,
   "id": "ef56de6a",
   "metadata": {},
   "outputs": [],
   "source": [
    "# Performing TF-IDF\n",
    "covid_vectorizer = TfidfVectorizer(ngram_range=(ngram_start,ngram_end),\n",
    "                            stop_words = 'english',\n",
    "                            lowercase=True)"
   ]
  },
  {
   "cell_type": "code",
   "execution_count": 9,
   "id": "42c3c782",
   "metadata": {},
   "outputs": [],
   "source": [
    "# This block takes a while to run\n",
    "\n",
    "df_covid_transformed = covid_vectorizer.fit_transform(df_raw_covid_group['clean_tweet4'])\n",
    "df_covid_tfidf = pd.DataFrame(df_covid_transformed.toarray(), columns = covid_vectorizer.get_feature_names())\n",
    "\n",
    "# Merges the TF-IDF output with the main df so as to retrieve the keywords. In this implementation the\n",
    "# tf-idf array produced does not have the keyword but merely the index location of the keyword\n",
    "df_covid = pd.concat([df_raw_covid_group, df_covid_tfidf], axis = 1)\n",
    "\n",
    "# Clean tweets not needed\n",
    "df_covid = df_covid.drop('clean_tweet4',axis=1)\n",
    "df_covid = df_covid.reset_index()\n",
    "\n",
    "# Changes into long form so as to sum the frequencies for every keyword search and the ngram TF-IDF produces\n",
    "df_covid_long = pd.melt(df_covid, \n",
    "                            id_vars='level_0', \n",
    "                            value_vars = df_covid.columns[2:])\n",
    "\n",
    "df_covid_long = df_covid_long.merge(df_covid[['level_0','id_search']], \n",
    "                                             on=['level_0'],\n",
    "                                             how='left')\n",
    "\n",
    "df_covid_long = df_covid_long.drop('level_0',axis=1) "
   ]
  },
  {
   "cell_type": "code",
   "execution_count": 10,
   "id": "54bc7fcf",
   "metadata": {},
   "outputs": [],
   "source": [
    "# Filters for the top 20 ngrams per keywrod search and sorts them\n",
    "top_n_words_per_category = 20\n",
    "\n",
    "df_covid_long['rank'] = (df_covid_long.sort_values('value', ascending=False).groupby(['id_search']).cumcount()+1)\n",
    "df_covid_long = df_covid_long[df_covid_long['rank'] <= max_keywords_rank]\n",
    "df_covid_long = df_covid_long.sort_values(['id_search', 'rank'], ascending=[True,True])"
   ]
  },
  {
   "cell_type": "markdown",
   "id": "e8fe5657",
   "metadata": {},
   "source": [
    "# Keyword Exploration"
   ]
  },
  {
   "cell_type": "code",
   "execution_count": null,
   "id": "c77e19c7",
   "metadata": {},
   "outputs": [],
   "source": [
    "# Explore keywords here for pre-covid\n",
    "df_pre_covid_long[df_pre_covid_long['id_search'] == keyword]"
   ]
  },
  {
   "cell_type": "code",
   "execution_count": null,
   "id": "d17660d9",
   "metadata": {},
   "outputs": [],
   "source": [
    "# Explore keywords here for Covid period\n",
    "df_covid_long[df_covid_long['id_search'] == keyword]"
   ]
  },
  {
   "cell_type": "code",
   "execution_count": null,
   "id": "15826ea9",
   "metadata": {},
   "outputs": [],
   "source": []
  }
 ],
 "metadata": {
  "kernelspec": {
   "display_name": "Python 3 (ipykernel)",
   "language": "python",
   "name": "python3"
  },
  "language_info": {
   "codemirror_mode": {
    "name": "ipython",
    "version": 3
   },
   "file_extension": ".py",
   "mimetype": "text/x-python",
   "name": "python",
   "nbconvert_exporter": "python",
   "pygments_lexer": "ipython3",
   "version": "3.9.5"
  }
 },
 "nbformat": 4,
 "nbformat_minor": 5
}
