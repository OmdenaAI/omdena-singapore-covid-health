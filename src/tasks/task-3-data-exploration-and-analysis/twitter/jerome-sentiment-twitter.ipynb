{
 "cells": [
  {
   "cell_type": "code",
   "execution_count": 1,
   "id": "9ff69e61",
   "metadata": {},
   "outputs": [],
   "source": [
    "import pandas as pd\n",
    "import re\n",
    "import matplotlib.pyplot as plt\n",
    "# !pip install vaderSentiment\n",
    "from vaderSentiment.vaderSentiment import SentimentIntensityAnalyzer\n",
    "analyser = SentimentIntensityAnalyzer()"
   ]
  },
  {
   "cell_type": "code",
   "execution_count": 2,
   "id": "44e59847",
   "metadata": {},
   "outputs": [
    {
     "name": "stdout",
     "output_type": "stream",
     "text": [
      "(66650, 10)\n"
     ]
    },
    {
     "data": {
      "text/html": [
       "<div>\n",
       "<style scoped>\n",
       "    .dataframe tbody tr th:only-of-type {\n",
       "        vertical-align: middle;\n",
       "    }\n",
       "\n",
       "    .dataframe tbody tr th {\n",
       "        vertical-align: top;\n",
       "    }\n",
       "\n",
       "    .dataframe thead th {\n",
       "        text-align: right;\n",
       "    }\n",
       "</style>\n",
       "<table border=\"1\" class=\"dataframe\">\n",
       "  <thead>\n",
       "    <tr style=\"text-align: right;\">\n",
       "      <th></th>\n",
       "      <th>date</th>\n",
       "      <th>hashtags</th>\n",
       "      <th>username</th>\n",
       "      <th>nlikes</th>\n",
       "      <th>nreplies</th>\n",
       "      <th>nretweets</th>\n",
       "      <th>search</th>\n",
       "      <th>clean_tweet4</th>\n",
       "      <th>year</th>\n",
       "      <th>month</th>\n",
       "    </tr>\n",
       "  </thead>\n",
       "  <tbody>\n",
       "    <tr>\n",
       "      <th>0</th>\n",
       "      <td>2019-12-29 13:54:00</td>\n",
       "      <td>[]</td>\n",
       "      <td>JesusDailyTwits</td>\n",
       "      <td>1</td>\n",
       "      <td>0</td>\n",
       "      <td>0</td>\n",
       "      <td>depression</td>\n",
       "      <td>best depression killer worshipping jesus try v...</td>\n",
       "      <td>2019</td>\n",
       "      <td>12</td>\n",
       "    </tr>\n",
       "    <tr>\n",
       "      <th>1</th>\n",
       "      <td>2019-12-29 12:47:00</td>\n",
       "      <td>[]</td>\n",
       "      <td>Aluvrendar</td>\n",
       "      <td>67</td>\n",
       "      <td>3</td>\n",
       "      <td>6</td>\n",
       "      <td>depression</td>\n",
       "      <td>hope blessings majlis depression never return ...</td>\n",
       "      <td>2019</td>\n",
       "      <td>12</td>\n",
       "    </tr>\n",
       "    <tr>\n",
       "      <th>2</th>\n",
       "      <td>2019-12-29 12:33:00</td>\n",
       "      <td>[]</td>\n",
       "      <td>mengwong</td>\n",
       "      <td>0</td>\n",
       "      <td>2</td>\n",
       "      <td>0</td>\n",
       "      <td>depression</td>\n",
       "      <td>feels like theory psychohistory ing together h...</td>\n",
       "      <td>2019</td>\n",
       "      <td>12</td>\n",
       "    </tr>\n",
       "    <tr>\n",
       "      <th>3</th>\n",
       "      <td>2019-12-28 18:33:00</td>\n",
       "      <td>[]</td>\n",
       "      <td>haziqqqaaahzik</td>\n",
       "      <td>10</td>\n",
       "      <td>1</td>\n",
       "      <td>8</td>\n",
       "      <td>depression</td>\n",
       "      <td>post project depression cant believe days ende...</td>\n",
       "      <td>2019</td>\n",
       "      <td>12</td>\n",
       "    </tr>\n",
       "    <tr>\n",
       "      <th>4</th>\n",
       "      <td>2019-12-26 02:16:00</td>\n",
       "      <td>[]</td>\n",
       "      <td>NASYRANN_</td>\n",
       "      <td>0</td>\n",
       "      <td>1</td>\n",
       "      <td>3</td>\n",
       "      <td>depression</td>\n",
       "      <td>depression thought</td>\n",
       "      <td>2019</td>\n",
       "      <td>12</td>\n",
       "    </tr>\n",
       "  </tbody>\n",
       "</table>\n",
       "</div>"
      ],
      "text/plain": [
       "                  date hashtags         username  nlikes  nreplies  nretweets  \\\n",
       "0  2019-12-29 13:54:00       []  JesusDailyTwits       1         0          0   \n",
       "1  2019-12-29 12:47:00       []       Aluvrendar      67         3          6   \n",
       "2  2019-12-29 12:33:00       []         mengwong       0         2          0   \n",
       "3  2019-12-28 18:33:00       []   haziqqqaaahzik      10         1          8   \n",
       "4  2019-12-26 02:16:00       []        NASYRANN_       0         1          3   \n",
       "\n",
       "       search                                       clean_tweet4  year  month  \n",
       "0  depression  best depression killer worshipping jesus try v...  2019     12  \n",
       "1  depression  hope blessings majlis depression never return ...  2019     12  \n",
       "2  depression  feels like theory psychohistory ing together h...  2019     12  \n",
       "3  depression  post project depression cant believe days ende...  2019     12  \n",
       "4  depression                                 depression thought  2019     12  "
      ]
     },
     "execution_count": 2,
     "metadata": {},
     "output_type": "execute_result"
    }
   ],
   "source": [
    "df = pd.read_csv('../../../data/twitter/cleaned/final_clean_data.csv').drop('Unnamed: 0', axis=1)\n",
    "\n",
    "print(df.shape)\n",
    "df.head()"
   ]
  },
  {
   "cell_type": "markdown",
   "id": "9c3b949a",
   "metadata": {},
   "source": [
    "### Remove tweets with these words as they are not relevent "
   ]
  },
  {
   "cell_type": "code",
   "execution_count": 3,
   "id": "29b43da9",
   "metadata": {},
   "outputs": [],
   "source": [
    "# Remove rows with these stopwords\n",
    "search_words = ['nikerunning', 'dec', 'delavin',\n",
    "                'kisses', 'agrunningmoms', 'migraineinsg',\n",
    "                'jordan', 'munchausen', 'concert',\n",
    "                'wspd', 'comedy', 'gentlemonstersunglasses', \n",
    "                'gentlemonster', 'youtube', 'star', 'place', \n",
    "                'comedy', 'poetry', 'want', 'know', 'diagrams', \n",
    "                'pared', 'owls', 'riser', 'street', 'style', 'buat',\n",
    "                'phd', 'hi', 'im', 'gold', 'standard', 'yeah', 'watch', \n",
    "                'arena', 'things', 'teka', 'gt', 'matter', 'forex', \n",
    "                'zentrader', 'hospital', 'zerowaste', 'foodwaste', \n",
    "                'kangdaniel', 'danielk']\n",
    "\n",
    "df = (df[~df['clean_tweet4'].str.contains('|'.join(search_words), na=False)]) #ignore NaN else the code breaks\n",
    "\n",
    "df = df[~df['clean_tweet4'].isna()]\n",
    "\n",
    "def remove_html_code(text):\n",
    "    text = re.sub(r'\\bamp\\b\\s+',\"\",text)\n",
    "    return text\n",
    "\n",
    "# To loop through and apply function\n",
    "df['clean_tweet4'] = df['clean_tweet4'].apply(lambda x: remove_html_code(x))"
   ]
  },
  {
   "cell_type": "code",
   "execution_count": 4,
   "id": "86a756ee",
   "metadata": {},
   "outputs": [],
   "source": [
    "# some keys to try: neg, neu, pos, compound. This is because VADER returns a dictionary so we use keys to extract\n",
    "df['day'] = '01'\n",
    "df['pos'] =  df['clean_tweet4'].apply(lambda x: analyser.polarity_scores(x)['pos'])\n",
    "df['neu'] =  df['clean_tweet4'].apply(lambda x: analyser.polarity_scores(x)['neu'])\n",
    "df['neg'] =  df['clean_tweet4'].apply(lambda x: analyser.polarity_scores(x)['neg'])\n",
    "df['compound'] =  df['clean_tweet4'].apply(lambda x: analyser.polarity_scores(x)['compound'])"
   ]
  },
  {
   "cell_type": "code",
   "execution_count": 5,
   "id": "5d90e5d9",
   "metadata": {},
   "outputs": [],
   "source": [
    "df_grouped = df.groupby(['year', 'month','day'])[['pos','neu','neg','compound']].mean().reset_index()# .reset_index(name=['pos','neu','neg','compound'])"
   ]
  },
  {
   "cell_type": "code",
   "execution_count": 6,
   "id": "beda8f27",
   "metadata": {},
   "outputs": [
    {
     "data": {
      "text/html": [
       "<div>\n",
       "<style scoped>\n",
       "    .dataframe tbody tr th:only-of-type {\n",
       "        vertical-align: middle;\n",
       "    }\n",
       "\n",
       "    .dataframe tbody tr th {\n",
       "        vertical-align: top;\n",
       "    }\n",
       "\n",
       "    .dataframe thead th {\n",
       "        text-align: right;\n",
       "    }\n",
       "</style>\n",
       "<table border=\"1\" class=\"dataframe\">\n",
       "  <thead>\n",
       "    <tr style=\"text-align: right;\">\n",
       "      <th></th>\n",
       "      <th>year</th>\n",
       "      <th>month</th>\n",
       "      <th>day</th>\n",
       "      <th>pos</th>\n",
       "      <th>neu</th>\n",
       "      <th>neg</th>\n",
       "      <th>compound</th>\n",
       "    </tr>\n",
       "  </thead>\n",
       "  <tbody>\n",
       "    <tr>\n",
       "      <th>0</th>\n",
       "      <td>2019</td>\n",
       "      <td>1</td>\n",
       "      <td>01</td>\n",
       "      <td>0.165659</td>\n",
       "      <td>0.520186</td>\n",
       "      <td>0.314159</td>\n",
       "      <td>-0.147499</td>\n",
       "    </tr>\n",
       "    <tr>\n",
       "      <th>1</th>\n",
       "      <td>2019</td>\n",
       "      <td>2</td>\n",
       "      <td>01</td>\n",
       "      <td>0.163417</td>\n",
       "      <td>0.487834</td>\n",
       "      <td>0.348731</td>\n",
       "      <td>-0.178297</td>\n",
       "    </tr>\n",
       "    <tr>\n",
       "      <th>2</th>\n",
       "      <td>2019</td>\n",
       "      <td>3</td>\n",
       "      <td>01</td>\n",
       "      <td>0.138824</td>\n",
       "      <td>0.492169</td>\n",
       "      <td>0.368998</td>\n",
       "      <td>-0.199189</td>\n",
       "    </tr>\n",
       "    <tr>\n",
       "      <th>3</th>\n",
       "      <td>2019</td>\n",
       "      <td>4</td>\n",
       "      <td>01</td>\n",
       "      <td>0.155276</td>\n",
       "      <td>0.494372</td>\n",
       "      <td>0.350358</td>\n",
       "      <td>-0.190430</td>\n",
       "    </tr>\n",
       "    <tr>\n",
       "      <th>4</th>\n",
       "      <td>2019</td>\n",
       "      <td>5</td>\n",
       "      <td>01</td>\n",
       "      <td>0.165461</td>\n",
       "      <td>0.467084</td>\n",
       "      <td>0.367477</td>\n",
       "      <td>-0.155922</td>\n",
       "    </tr>\n",
       "  </tbody>\n",
       "</table>\n",
       "</div>"
      ],
      "text/plain": [
       "   year  month day       pos       neu       neg  compound\n",
       "0  2019      1  01  0.165659  0.520186  0.314159 -0.147499\n",
       "1  2019      2  01  0.163417  0.487834  0.348731 -0.178297\n",
       "2  2019      3  01  0.138824  0.492169  0.368998 -0.199189\n",
       "3  2019      4  01  0.155276  0.494372  0.350358 -0.190430\n",
       "4  2019      5  01  0.165461  0.467084  0.367477 -0.155922"
      ]
     },
     "execution_count": 6,
     "metadata": {},
     "output_type": "execute_result"
    }
   ],
   "source": [
    "df_grouped.head()"
   ]
  },
  {
   "cell_type": "code",
   "execution_count": 7,
   "id": "a29df5bf",
   "metadata": {},
   "outputs": [],
   "source": [
    "df_grouped['Datetime'] = pd.to_datetime(df_grouped[['year','month','day']])"
   ]
  },
  {
   "cell_type": "code",
   "execution_count": 8,
   "id": "397b0518",
   "metadata": {},
   "outputs": [],
   "source": [
    "df_grouped = df_grouped.set_index(df_grouped['Datetime'])"
   ]
  },
  {
   "cell_type": "code",
   "execution_count": 9,
   "id": "ae1c4459",
   "metadata": {
    "scrolled": true
   },
   "outputs": [
    {
     "data": {
      "text/plain": [
       "<matplotlib.lines.Line2D at 0x11e70cb80>"
      ]
     },
     "execution_count": 9,
     "metadata": {},
     "output_type": "execute_result"
    },
    {
     "data": {
      "text/plain": [
       "<Figure size 720x360 with 0 Axes>"
      ]
     },
     "metadata": {},
     "output_type": "display_data"
    },
    {
     "data": {
      "image/png": "[encoded data removed]",
      "text/plain": [
       "<Figure size 1080x360 with 4 Axes>"
      ]
     },
     "metadata": {
      "needs_background": "light"
     },
     "output_type": "display_data"
    }
   ],
   "source": [
    "plt.figure(figsize=(10,5))\n",
    "\n",
    "fig, ax = plt.subplots(nrows=1, ncols=4, figsize=(15,5), sharey = True)\n",
    "ax = ax.ravel()\n",
    "df_grouped.plot(y='pos', use_index=True, ax=ax[0], color = 'black')\n",
    "df_grouped.plot(y='neu', use_index=True, ax=ax[1], color = 'blue')\n",
    "df_grouped.plot(y='neg', use_index=True, ax=ax[2], color = 'red')\n",
    "df_grouped.plot(y='compound', use_index=True, ax=ax[3], color = 'green')\n",
    "\n",
    "ax[0].axvline('2020-01-01')\n",
    "ax[1].axvline('2020-01-01')\n",
    "ax[2].axvline('2020-01-01')\n",
    "ax[3].axvline('2020-01-01')\n"
   ]
  }
 ],
 "metadata": {
  "kernelspec": {
   "display_name": "Python 3 (ipykernel)",
   "language": "python",
   "name": "python3"
  },
  "language_info": {
   "codemirror_mode": {
    "name": "ipython",
    "version": 3
   },
   "file_extension": ".py",
   "mimetype": "text/x-python",
   "name": "python",
   "nbconvert_exporter": "python",
   "pygments_lexer": "ipython3",
   "version": "3.9.5"
  }
 },
 "nbformat": 4,
 "nbformat_minor": 5
}
