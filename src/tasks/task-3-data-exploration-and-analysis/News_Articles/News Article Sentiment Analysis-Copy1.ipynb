{
 "cells": [
  {
   "cell_type": "code",
   "execution_count": 1,
   "metadata": {},
   "outputs": [],
   "source": [
    "import pandas as pd"
   ]
  },
  {
   "cell_type": "code",
   "execution_count": 2,
   "metadata": {
    "scrolled": false
   },
   "outputs": [
    {
     "name": "stdout",
     "output_type": "stream",
     "text": [
      "/Users/valencialie/Desktop/Omdena/full_data_cleaned copy\n"
     ]
    }
   ],
   "source": [
    "cd full_data_cleaned copy"
   ]
  },
  {
   "cell_type": "code",
   "execution_count": 3,
   "metadata": {},
   "outputs": [],
   "source": [
    "v2 = pd.read_csv(\"news_articles_cleanedv2.csv\")\n",
    "v3 = pd.read_csv(\"news_articles_cleanedv3.csv\")\n",
    "v4 = pd.read_csv(\"news_articles_cleanedv4.csv\")\n",
    "v5 = pd.read_csv(\"news_articles_cleanedv5.csv\")\n",
    "v1 = pd.read_csv(\"News_Articles_Data.csv\")"
   ]
  },
  {
   "cell_type": "code",
   "execution_count": 4,
   "metadata": {},
   "outputs": [],
   "source": [
    "news = pd.concat([v2,v1,v3,v4,v5], axis = 0).drop_duplicates(subset=['url'], keep = \"first\").drop('Unnamed: 0', axis = 1)"
   ]
  },
  {
   "cell_type": "code",
   "execution_count": 5,
   "metadata": {},
   "outputs": [
    {
     "data": {
      "text/html": [
       "<div>\n",
       "<style scoped>\n",
       "    .dataframe tbody tr th:only-of-type {\n",
       "        vertical-align: middle;\n",
       "    }\n",
       "\n",
       "    .dataframe tbody tr th {\n",
       "        vertical-align: top;\n",
       "    }\n",
       "\n",
       "    .dataframe thead th {\n",
       "        text-align: right;\n",
       "    }\n",
       "</style>\n",
       "<table border=\"1\" class=\"dataframe\">\n",
       "  <thead>\n",
       "    <tr style=\"text-align: right;\">\n",
       "      <th></th>\n",
       "      <th>title</th>\n",
       "      <th>url</th>\n",
       "      <th>tags</th>\n",
       "      <th>date</th>\n",
       "      <th>content</th>\n",
       "      <th>covid</th>\n",
       "      <th>singapore</th>\n",
       "      <th>news_source</th>\n",
       "    </tr>\n",
       "  </thead>\n",
       "  <tbody>\n",
       "    <tr>\n",
       "      <th>0</th>\n",
       "      <td>'It took months to see the end of the tunnel':...</td>\n",
       "      <td>https://www.asiaone.com/lifestyle/it-took-mont...</td>\n",
       "      <td>NIL</td>\n",
       "      <td>June 05, 2021</td>\n",
       "      <td>When she first started gymnastics at the age o...</td>\n",
       "      <td>False</td>\n",
       "      <td>True</td>\n",
       "      <td>Asia One</td>\n",
       "    </tr>\n",
       "    <tr>\n",
       "      <th>1</th>\n",
       "      <td>'Everyone watching makes me feel uneasy': Stud...</td>\n",
       "      <td>https://www.asiaone.com/singapore/everyone-wat...</td>\n",
       "      <td>NIL</td>\n",
       "      <td>June 01, 2021</td>\n",
       "      <td>These days, Natasha Osman would sit in front o...</td>\n",
       "      <td>False</td>\n",
       "      <td>True</td>\n",
       "      <td>Asia One</td>\n",
       "    </tr>\n",
       "    <tr>\n",
       "      <th>2</th>\n",
       "      <td>Singapore Mental Health Film Festival 2021 ret...</td>\n",
       "      <td>https://www.asiaone.com/lifestyle/singapore-me...</td>\n",
       "      <td>NIL</td>\n",
       "      <td>May 18, 2021</td>\n",
       "      <td>The Covid-19 pandemic has heightened concerns ...</td>\n",
       "      <td>True</td>\n",
       "      <td>True</td>\n",
       "      <td>Asia One</td>\n",
       "    </tr>\n",
       "    <tr>\n",
       "      <th>3</th>\n",
       "      <td>Woman, 19, rescued after sitting on 27th-floor...</td>\n",
       "      <td>https://www.asiaone.com/singapore/woman-19-res...</td>\n",
       "      <td>NIL</td>\n",
       "      <td>April 09, 2021</td>\n",
       "      <td>Residents in Sengkang craned their necks as th...</td>\n",
       "      <td>False</td>\n",
       "      <td>True</td>\n",
       "      <td>Asia One</td>\n",
       "    </tr>\n",
       "    <tr>\n",
       "      <th>4</th>\n",
       "      <td>'I wanted to push the aircon out and jump down...</td>\n",
       "      <td>https://www.asiaone.com/lifestyle/i-wanted-pus...</td>\n",
       "      <td>NIL</td>\n",
       "      <td>January 09, 2021</td>\n",
       "      <td>In his 30s and at the peak of his life and car...</td>\n",
       "      <td>False</td>\n",
       "      <td>True</td>\n",
       "      <td>Asia One</td>\n",
       "    </tr>\n",
       "    <tr>\n",
       "      <th>...</th>\n",
       "      <td>...</td>\n",
       "      <td>...</td>\n",
       "      <td>...</td>\n",
       "      <td>...</td>\n",
       "      <td>...</td>\n",
       "      <td>...</td>\n",
       "      <td>...</td>\n",
       "      <td>...</td>\n",
       "    </tr>\n",
       "    <tr>\n",
       "      <th>640</th>\n",
       "      <td>Adulting 101: Love retail therapy want to cont...</td>\n",
       "      <td>https://admin.todayonline.com/singapore/adulti...</td>\n",
       "      <td>NIL</td>\n",
       "      <td>10/4/2021</td>\n",
       "      <td>Adulthood is an invigorating stage of life as ...</td>\n",
       "      <td>True</td>\n",
       "      <td>NaN</td>\n",
       "      <td>Today Online</td>\n",
       "    </tr>\n",
       "    <tr>\n",
       "      <th>803</th>\n",
       "      <td>FairPrice Group launches meeting-free Friday a...</td>\n",
       "      <td>https://admin.todayonline.com/singapore/fairpr...</td>\n",
       "      <td>NIL</td>\n",
       "      <td>14/8/2020</td>\n",
       "      <td>SINGAPORE â€” In a move to give its employees ...</td>\n",
       "      <td>True</td>\n",
       "      <td>NaN</td>\n",
       "      <td>Today Online</td>\n",
       "    </tr>\n",
       "    <tr>\n",
       "      <th>830</th>\n",
       "      <td>Seafarers rejected at ports, stranded at sea, ...</td>\n",
       "      <td>https://admin.todayonline.com/singapore/seafar...</td>\n",
       "      <td>NIL</td>\n",
       "      <td>13/6/2020</td>\n",
       "      <td>SINGAPORE â€” He had been out at sea for four ...</td>\n",
       "      <td>True</td>\n",
       "      <td>NaN</td>\n",
       "      <td>Today Online</td>\n",
       "    </tr>\n",
       "    <tr>\n",
       "      <th>949</th>\n",
       "      <td>Covid-19: All senior-centric activities by gov...</td>\n",
       "      <td>http://todayonline.prod.acquia-sites.com/singa...</td>\n",
       "      <td>NIL</td>\n",
       "      <td>10/3/2020</td>\n",
       "      <td>SINGAPORE â€” All senior-centric activities co...</td>\n",
       "      <td>True</td>\n",
       "      <td>NaN</td>\n",
       "      <td>Today Online</td>\n",
       "    </tr>\n",
       "    <tr>\n",
       "      <th>951</th>\n",
       "      <td>Covid-19: Disembarking Costa Fortuna passenger...</td>\n",
       "      <td>http://todayonline.prod.acquia-sites.com/singa...</td>\n",
       "      <td>NIL</td>\n",
       "      <td>10/3/2020</td>\n",
       "      <td>SINGAPORE â€” Close to 2,000 passengers starte...</td>\n",
       "      <td>True</td>\n",
       "      <td>NaN</td>\n",
       "      <td>Today Online</td>\n",
       "    </tr>\n",
       "  </tbody>\n",
       "</table>\n",
       "<p>978 rows × 8 columns</p>\n",
       "</div>"
      ],
      "text/plain": [
       "                                                 title  \\\n",
       "0    'It took months to see the end of the tunnel':...   \n",
       "1    'Everyone watching makes me feel uneasy': Stud...   \n",
       "2    Singapore Mental Health Film Festival 2021 ret...   \n",
       "3    Woman, 19, rescued after sitting on 27th-floor...   \n",
       "4    'I wanted to push the aircon out and jump down...   \n",
       "..                                                 ...   \n",
       "640  Adulting 101: Love retail therapy want to cont...   \n",
       "803  FairPrice Group launches meeting-free Friday a...   \n",
       "830  Seafarers rejected at ports, stranded at sea, ...   \n",
       "949  Covid-19: All senior-centric activities by gov...   \n",
       "951  Covid-19: Disembarking Costa Fortuna passenger...   \n",
       "\n",
       "                                                   url tags              date  \\\n",
       "0    https://www.asiaone.com/lifestyle/it-took-mont...  NIL     June 05, 2021   \n",
       "1    https://www.asiaone.com/singapore/everyone-wat...  NIL     June 01, 2021   \n",
       "2    https://www.asiaone.com/lifestyle/singapore-me...  NIL      May 18, 2021   \n",
       "3    https://www.asiaone.com/singapore/woman-19-res...  NIL    April 09, 2021   \n",
       "4    https://www.asiaone.com/lifestyle/i-wanted-pus...  NIL  January 09, 2021   \n",
       "..                                                 ...  ...               ...   \n",
       "640  https://admin.todayonline.com/singapore/adulti...  NIL         10/4/2021   \n",
       "803  https://admin.todayonline.com/singapore/fairpr...  NIL         14/8/2020   \n",
       "830  https://admin.todayonline.com/singapore/seafar...  NIL         13/6/2020   \n",
       "949  http://todayonline.prod.acquia-sites.com/singa...  NIL         10/3/2020   \n",
       "951  http://todayonline.prod.acquia-sites.com/singa...  NIL         10/3/2020   \n",
       "\n",
       "                                               content  covid singapore  \\\n",
       "0    When she first started gymnastics at the age o...  False      True   \n",
       "1    These days, Natasha Osman would sit in front o...  False      True   \n",
       "2    The Covid-19 pandemic has heightened concerns ...   True      True   \n",
       "3    Residents in Sengkang craned their necks as th...  False      True   \n",
       "4    In his 30s and at the peak of his life and car...  False      True   \n",
       "..                                                 ...    ...       ...   \n",
       "640  Adulthood is an invigorating stage of life as ...   True       NaN   \n",
       "803  SINGAPORE â€” In a move to give its employees ...   True       NaN   \n",
       "830  SINGAPORE â€” He had been out at sea for four ...   True       NaN   \n",
       "949  SINGAPORE â€” All senior-centric activities co...   True       NaN   \n",
       "951  SINGAPORE â€” Close to 2,000 passengers starte...   True       NaN   \n",
       "\n",
       "      news_source  \n",
       "0        Asia One  \n",
       "1        Asia One  \n",
       "2        Asia One  \n",
       "3        Asia One  \n",
       "4        Asia One  \n",
       "..            ...  \n",
       "640  Today Online  \n",
       "803  Today Online  \n",
       "830  Today Online  \n",
       "949  Today Online  \n",
       "951  Today Online  \n",
       "\n",
       "[978 rows x 8 columns]"
      ]
     },
     "execution_count": 5,
     "metadata": {},
     "output_type": "execute_result"
    }
   ],
   "source": [
    "news"
   ]
  },
  {
   "cell_type": "code",
   "execution_count": 6,
   "metadata": {},
   "outputs": [],
   "source": [
    "news['content'] = news.content.str.replace(\"â€”\", \"\")"
   ]
  },
  {
   "cell_type": "markdown",
   "metadata": {},
   "source": [
    "# General Vader Sentiment Analysis"
   ]
  },
  {
   "cell_type": "code",
   "execution_count": 7,
   "metadata": {},
   "outputs": [],
   "source": [
    "from vaderSentiment.vaderSentiment import SentimentIntensityAnalyzer\n",
    "analyser = SentimentIntensityAnalyzer()"
   ]
  },
  {
   "cell_type": "code",
   "execution_count": 8,
   "metadata": {},
   "outputs": [],
   "source": [
    "news['negativity'] = ''"
   ]
  },
  {
   "cell_type": "code",
   "execution_count": 9,
   "metadata": {},
   "outputs": [],
   "source": [
    "news['positivity'] = ''"
   ]
  },
  {
   "cell_type": "code",
   "execution_count": 10,
   "metadata": {},
   "outputs": [],
   "source": [
    "news['neutral'] = ''"
   ]
  },
  {
   "cell_type": "code",
   "execution_count": 11,
   "metadata": {},
   "outputs": [],
   "source": [
    "news['compound'] = ''"
   ]
  },
  {
   "cell_type": "code",
   "execution_count": 12,
   "metadata": {},
   "outputs": [],
   "source": [
    "news['negativity'] = news['content'].apply(lambda x:analyser.polarity_scores(str(x))['neg'])\n",
    "news['positivity'] = news['content'].apply(lambda x:analyser.polarity_scores(str(x))['pos'])\n",
    "news['neutral'] = news['content'].apply(lambda x:analyser.polarity_scores(str(x))['neu'])\n",
    "news['compound'] = news['content'].apply(lambda x:analyser.polarity_scores(str(x))['compound'])\n"
   ]
  },
  {
   "cell_type": "markdown",
   "metadata": {},
   "source": [
    "## Analysis of the sentiment analysis in relation to Covid-19"
   ]
  },
  {
   "cell_type": "markdown",
   "metadata": {},
   "source": [
    "But first, before we make a fair comparison, we need to sift through all covid-related articles that contain mental-health related issues (instead of just general covid related article). Then, we can compare the sentiments of those articles with mental-health related articles but not covid related/caused. This way, we can tell whether covid worsens mental health or not based on the sentiments written in the articles. Though, of course this is subjected to how the article is written as well. The articles are also written from a third POV and not the person experiencing it, so the sentiments harboured by the author may be different with those who are involved in the matter directly.\n",
    "\n",
    "But, the reasoning behind the use of sentiment analysis is trying to see whether covid & mental health-related news harbour more negative sentiments within its words used than non-covid & mental health-related news.\n"
   ]
  },
  {
   "cell_type": "code",
   "execution_count": 13,
   "metadata": {},
   "outputs": [],
   "source": [
    "mental = [\"depression\", \"mental illness\",\"killed\",\n",
    "\"social anxiety\",\"loneliness\",\"stress\",\"lonely\",\n",
    "\"isolation\", \"suicide\",\"abuse\",\"death\", \"post traumatic stress disorder\",\n",
    "\"no motivation\", \"therapy\", \"trauma\", \"counselling\" , \"mood disorder\",\n",
    "\"mood swings\", \"mental health\", \"angst\", \"emotion\", \"phobia\",\n",
    "\"addiction\", \"self-harm\", \"neurosis\", \"abuse\", \n",
    "\"disorder\", \"died\",\"tired\", \"trapped\", \n",
    "\"paranoia\", \"overwhelmed\", \"irritable\", \"bipolar\", \n",
    "\"psychologist\", \"well-being\", \"imh\", \"sos\", \"counsellor\", \"insomnia\", \"drugs\", \"self-esteem\", \"depressed\"]\n"
   ]
  },
  {
   "cell_type": "code",
   "execution_count": 14,
   "metadata": {},
   "outputs": [],
   "source": [
    "from nltk import tokenize\n",
    "\n",
    "news['split_sentence'] = news.content.apply(lambda x: tokenize.sent_tokenize(str(x)))"
   ]
  },
  {
   "cell_type": "code",
   "execution_count": 15,
   "metadata": {},
   "outputs": [],
   "source": [
    "news.content = news.content.str.lower()"
   ]
  },
  {
   "cell_type": "code",
   "execution_count": 16,
   "metadata": {},
   "outputs": [],
   "source": [
    "list1 = []"
   ]
  },
  {
   "cell_type": "code",
   "execution_count": 17,
   "metadata": {},
   "outputs": [],
   "source": [
    "news = news.reset_index().drop('index', axis = 1)"
   ]
  },
  {
   "cell_type": "code",
   "execution_count": 18,
   "metadata": {},
   "outputs": [],
   "source": [
    "covidnews = news[news.covid == True]\n",
    "noncovidnews = news[news.covid == False]"
   ]
  },
  {
   "cell_type": "code",
   "execution_count": 19,
   "metadata": {},
   "outputs": [],
   "source": [
    "covidnews = covidnews.reset_index().drop('index', axis = 1)\n",
    "noncovidnews = noncovidnews.reset_index().drop('index', axis = 1)"
   ]
  },
  {
   "cell_type": "code",
   "execution_count": 20,
   "metadata": {},
   "outputs": [],
   "source": [
    "for i in range(0, 732):\n",
    "    for word in mental:\n",
    "        for a in range(0, len(covidnews.split_sentence[i])):\n",
    "            if word in covidnews.split_sentence[i][a]:\n",
    "                list1.append(i)"
   ]
  },
  {
   "cell_type": "code",
   "execution_count": 21,
   "metadata": {},
   "outputs": [],
   "source": [
    "list2=[]\n",
    "for i in range(0, 244):\n",
    "    for word in mental:\n",
    "        for a in range(0, len(noncovidnews.split_sentence[i])):\n",
    "            if word in noncovidnews.split_sentence[i][a]:\n",
    "                list2.append(i)"
   ]
  },
  {
   "cell_type": "code",
   "execution_count": 22,
   "metadata": {},
   "outputs": [],
   "source": [
    "list1 = list(dict.fromkeys(list1))\n",
    "list2 = list(dict.fromkeys(list2))"
   ]
  },
  {
   "cell_type": "code",
   "execution_count": 23,
   "metadata": {
    "scrolled": true
   },
   "outputs": [
    {
     "data": {
      "text/plain": [
       "665"
      ]
     },
     "execution_count": 23,
     "metadata": {},
     "output_type": "execute_result"
    }
   ],
   "source": [
    "len(list1)"
   ]
  },
  {
   "cell_type": "code",
   "execution_count": 24,
   "metadata": {
    "scrolled": true
   },
   "outputs": [
    {
     "data": {
      "text/plain": [
       "223"
      ]
     },
     "execution_count": 24,
     "metadata": {},
     "output_type": "execute_result"
    }
   ],
   "source": [
    "len(list2)"
   ]
  },
  {
   "cell_type": "code",
   "execution_count": 25,
   "metadata": {},
   "outputs": [],
   "source": [
    "for a in range(0, 732):\n",
    "    if a not in list1:\n",
    "        covidnews= covidnews.drop(a)"
   ]
  },
  {
   "cell_type": "code",
   "execution_count": 26,
   "metadata": {},
   "outputs": [],
   "source": [
    "covidnews = covidnews.reset_index().drop('index', axis = 1)"
   ]
  },
  {
   "cell_type": "code",
   "execution_count": 27,
   "metadata": {},
   "outputs": [],
   "source": [
    "for a in range(0, 244):\n",
    "    if a not in list2:\n",
    "        noncovidnews= noncovidnews.drop(a)"
   ]
  },
  {
   "cell_type": "code",
   "execution_count": 28,
   "metadata": {},
   "outputs": [],
   "source": [
    "noncovidnews = noncovidnews.reset_index().drop('index', axis = 1)"
   ]
  },
  {
   "cell_type": "markdown",
   "metadata": {},
   "source": [
    "To make the analysis fair, we can upsample the minority class, which is when covid is not mentioned in the news article."
   ]
  },
  {
   "cell_type": "code",
   "execution_count": 29,
   "metadata": {},
   "outputs": [],
   "source": [
    "from sklearn.utils import resample"
   ]
  },
  {
   "cell_type": "code",
   "execution_count": 30,
   "metadata": {},
   "outputs": [
    {
     "data": {
      "text/plain": [
       "True     665\n",
       "False    665\n",
       "Name: covid, dtype: int64"
      ]
     },
     "execution_count": 30,
     "metadata": {},
     "output_type": "execute_result"
    }
   ],
   "source": [
    "noncovidnews_upsampled = resample(noncovidnews, \n",
    "                                 replace=True,     \n",
    "                                 n_samples=665,\n",
    "                                 random_state=10)\n",
    "\n",
    "news_upsampled = pd.concat([covidnews, noncovidnews_upsampled])\n",
    "news_upsampled.covid.value_counts()"
   ]
  },
  {
   "cell_type": "code",
   "execution_count": 31,
   "metadata": {
    "scrolled": true
   },
   "outputs": [
    {
     "data": {
      "text/plain": [
       "<matplotlib.lines.Line2D at 0x7ff72a5a1820>"
      ]
     },
     "execution_count": 31,
     "metadata": {},
     "output_type": "execute_result"
    },
    {
     "data": {
      "image/png": "[encoded data removed]",
      "text/plain": [
       "<Figure size 432x288 with 1 Axes>"
      ]
     },
     "metadata": {
      "needs_background": "light"
     },
     "output_type": "display_data"
    }
   ],
   "source": [
    "import seaborn as sns\n",
    "from matplotlib import pyplot as plt\n",
    "\n",
    "false_covid = news_upsampled[news_upsampled.covid ==False]\n",
    "true_covid = news_upsampled[news_upsampled.covid ==True]\n",
    "\n",
    "average_false = false_covid.negativity.mean()\n",
    "average_true = true_covid.negativity.mean()\n",
    "\n",
    "ax = sns.histplot(news_upsampled, x = \"negativity\", hue = \"covid\", multiple = \"dodge\")\n",
    "\n",
    "plt.axvline(average_false, color='b', linestyle='--')\n",
    "plt.axvline(average_true, color='r', linestyle='--')\n"
   ]
  },
  {
   "cell_type": "markdown",
   "metadata": {},
   "source": [
    "From this, we can tell that the distribution between the two is fairly similar even though there seems to be more posts with highly negative tones (according to Vader) when covid is not mentioned in the news article. The average of negativity when covid is not mentioned is also higher than when it is mentioned."
   ]
  },
  {
   "cell_type": "code",
   "execution_count": 32,
   "metadata": {
    "scrolled": false
   },
   "outputs": [
    {
     "data": {
      "text/plain": [
       "<matplotlib.lines.Line2D at 0x7ff72a8c5760>"
      ]
     },
     "execution_count": 32,
     "metadata": {},
     "output_type": "execute_result"
    },
    {
     "data": {
      "image/png": "[encoded data removed]",
      "text/plain": [
       "<Figure size 432x288 with 1 Axes>"
      ]
     },
     "metadata": {
      "needs_background": "light"
     },
     "output_type": "display_data"
    }
   ],
   "source": [
    "false_covid = news_upsampled[news_upsampled.covid ==False]\n",
    "true_covid = news_upsampled[news_upsampled.covid ==True]\n",
    "\n",
    "average_false = false_covid.positivity.mean()\n",
    "average_true = true_covid.positivity.mean()\n",
    "\n",
    "ax = sns.histplot(news_upsampled, x = \"positivity\", hue = \"covid\", multiple = \"dodge\")\n",
    "\n",
    "plt.axvline(average_false, color='b', linestyle='--')\n",
    "plt.axvline(average_true, color='r', linestyle='--')"
   ]
  },
  {
   "cell_type": "markdown",
   "metadata": {},
   "source": [
    "However, on the flip side, the average of positive tones in a news article that did not mention covid is also higher compared to when it mentioned covid. Thus, this finding is slightly contradicting with the previous finding."
   ]
  },
  {
   "cell_type": "code",
   "execution_count": 33,
   "metadata": {
    "scrolled": true
   },
   "outputs": [
    {
     "data": {
      "text/plain": [
       "<matplotlib.lines.Line2D at 0x7ff72a9f2c70>"
      ]
     },
     "execution_count": 33,
     "metadata": {},
     "output_type": "execute_result"
    },
    {
     "data": {
      "image/png": "[encoded data removed]",
      "text/plain": [
       "<Figure size 432x288 with 1 Axes>"
      ]
     },
     "metadata": {
      "needs_background": "light"
     },
     "output_type": "display_data"
    }
   ],
   "source": [
    "false_covid = news_upsampled[news_upsampled.covid ==False]\n",
    "true_covid = news_upsampled[news_upsampled.covid ==True]\n",
    "\n",
    "average_false = false_covid.compound.mean()\n",
    "average_true = true_covid.compound.mean()\n",
    "\n",
    "ax = sns.histplot(news_upsampled, x = \"compound\", hue = \"covid\", multiple = \"dodge\")\n",
    "\n",
    "plt.axvline(average_false, color='b', linestyle='--')\n",
    "plt.axvline(average_true, color='r', linestyle='--')"
   ]
  },
  {
   "cell_type": "markdown",
   "metadata": {},
   "source": [
    "After taking both into account, we found out that overall news articles that mentioned covid has a higher compound score compared to when news articles do not mention covid, though it is critical to take note that the compound score indicates it to be almost neutral. This may be because news articles are generally written in an objective manner, that may or may not cause the sentiments to be generally neutral. In addition, because we use the whole article, the effect of some negative words can be negated by positive words, that may or may not be directly related to mental health or covid."
   ]
  },
  {
   "cell_type": "markdown",
   "metadata": {},
   "source": [
    "Hence, we need to continue investigating because this may only mean correlation and not causation and we may not know whether covid actually cause mental health to be worse or not. Furthermore, there may be discrepancies since I use VADER to do the sentiment analysis and we have no idea how accurate the sentiment scores calculated is."
   ]
  },
  {
   "cell_type": "markdown",
   "metadata": {},
   "source": [
    "To further check, we can try to use another sentiment analysis tool, TextBlob just to see if our finding is consistent."
   ]
  },
  {
   "cell_type": "markdown",
   "metadata": {},
   "source": [
    "# TextBlob Sentiment Analysis"
   ]
  },
  {
   "cell_type": "code",
   "execution_count": 34,
   "metadata": {},
   "outputs": [],
   "source": [
    "from textblob import TextBlob"
   ]
  },
  {
   "cell_type": "code",
   "execution_count": 35,
   "metadata": {},
   "outputs": [],
   "source": [
    "news_upsampled['polarity'] = news_upsampled['content'].apply(lambda x:TextBlob(str(x)).sentiment[0])\n",
    "news_upsampled['subjectivity'] = news_upsampled['content'].apply(lambda x:TextBlob(str(x)).sentiment[1])\n"
   ]
  },
  {
   "cell_type": "code",
   "execution_count": 36,
   "metadata": {
    "scrolled": true
   },
   "outputs": [
    {
     "data": {
      "text/html": [
       "<div>\n",
       "<style scoped>\n",
       "    .dataframe tbody tr th:only-of-type {\n",
       "        vertical-align: middle;\n",
       "    }\n",
       "\n",
       "    .dataframe tbody tr th {\n",
       "        vertical-align: top;\n",
       "    }\n",
       "\n",
       "    .dataframe thead th {\n",
       "        text-align: right;\n",
       "    }\n",
       "</style>\n",
       "<table border=\"1\" class=\"dataframe\">\n",
       "  <thead>\n",
       "    <tr style=\"text-align: right;\">\n",
       "      <th></th>\n",
       "      <th>title</th>\n",
       "      <th>url</th>\n",
       "      <th>tags</th>\n",
       "      <th>date</th>\n",
       "      <th>content</th>\n",
       "      <th>covid</th>\n",
       "      <th>singapore</th>\n",
       "      <th>news_source</th>\n",
       "      <th>negativity</th>\n",
       "      <th>positivity</th>\n",
       "      <th>neutral</th>\n",
       "      <th>compound</th>\n",
       "      <th>split_sentence</th>\n",
       "      <th>polarity</th>\n",
       "      <th>subjectivity</th>\n",
       "    </tr>\n",
       "  </thead>\n",
       "  <tbody>\n",
       "    <tr>\n",
       "      <th>0</th>\n",
       "      <td>Singapore Mental Health Film Festival 2021 ret...</td>\n",
       "      <td>https://www.asiaone.com/lifestyle/singapore-me...</td>\n",
       "      <td>NIL</td>\n",
       "      <td>May 18, 2021</td>\n",
       "      <td>the covid-19 pandemic has heightened concerns ...</td>\n",
       "      <td>True</td>\n",
       "      <td>True</td>\n",
       "      <td>Asia One</td>\n",
       "      <td>0.069</td>\n",
       "      <td>0.080</td>\n",
       "      <td>0.851</td>\n",
       "      <td>0.5484</td>\n",
       "      <td>[The Covid-19 pandemic has heightened concerns...</td>\n",
       "      <td>0.040348</td>\n",
       "      <td>0.307868</td>\n",
       "    </tr>\n",
       "    <tr>\n",
       "      <th>1</th>\n",
       "      <td>'Right to disconnect' from work should be cons...</td>\n",
       "      <td>https://www.asiaone.com/singapore/right-discon...</td>\n",
       "      <td>NIL</td>\n",
       "      <td>September 01, 2020</td>\n",
       "      <td>working from home has become a new norm for ma...</td>\n",
       "      <td>True</td>\n",
       "      <td>True</td>\n",
       "      <td>Asia One</td>\n",
       "      <td>0.103</td>\n",
       "      <td>0.079</td>\n",
       "      <td>0.817</td>\n",
       "      <td>-0.8588</td>\n",
       "      <td>[Working from home has become a new norm for m...</td>\n",
       "      <td>0.071753</td>\n",
       "      <td>0.356836</td>\n",
       "    </tr>\n",
       "    <tr>\n",
       "      <th>2</th>\n",
       "      <td>Employer faces $72,000 hospital bill after mai...</td>\n",
       "      <td>https://www.asiaone.com/singapore/employer-fac...</td>\n",
       "      <td>NIL</td>\n",
       "      <td>August 24, 2020</td>\n",
       "      <td>[update: aug 26] the employer's son, goh meng ...</td>\n",
       "      <td>True</td>\n",
       "      <td>True</td>\n",
       "      <td>Asia One</td>\n",
       "      <td>0.035</td>\n",
       "      <td>0.046</td>\n",
       "      <td>0.919</td>\n",
       "      <td>0.8057</td>\n",
       "      <td>[[UPDATE: Aug 26] The employer's son, Goh Meng...</td>\n",
       "      <td>-0.023416</td>\n",
       "      <td>0.290771</td>\n",
       "    </tr>\n",
       "    <tr>\n",
       "      <th>3</th>\n",
       "      <td>Domestic worker jumps from Toa Payoh flat afte...</td>\n",
       "      <td>https://www.asiaone.com/singapore/domestic-wor...</td>\n",
       "      <td>NIL</td>\n",
       "      <td>August 20, 2020</td>\n",
       "      <td>a domestic helper from myanmar jumped from the...</td>\n",
       "      <td>True</td>\n",
       "      <td>True</td>\n",
       "      <td>Asia One</td>\n",
       "      <td>0.090</td>\n",
       "      <td>0.080</td>\n",
       "      <td>0.830</td>\n",
       "      <td>-0.7604</td>\n",
       "      <td>[A domestic helper from Myanmar jumped from th...</td>\n",
       "      <td>0.020190</td>\n",
       "      <td>0.290833</td>\n",
       "    </tr>\n",
       "    <tr>\n",
       "      <th>4</th>\n",
       "      <td>Singaporeans working from home more stressed t...</td>\n",
       "      <td>https://www.asiaone.com/lifestyle/singaporeans...</td>\n",
       "      <td>NIL</td>\n",
       "      <td>August 19, 2020</td>\n",
       "      <td>if there's one thing that many of us�can�agree...</td>\n",
       "      <td>True</td>\n",
       "      <td>True</td>\n",
       "      <td>Asia One</td>\n",
       "      <td>0.049</td>\n",
       "      <td>0.063</td>\n",
       "      <td>0.887</td>\n",
       "      <td>0.8751</td>\n",
       "      <td>[If there's one thing that many of us�can�agre...</td>\n",
       "      <td>0.140052</td>\n",
       "      <td>0.423946</td>\n",
       "    </tr>\n",
       "    <tr>\n",
       "      <th>...</th>\n",
       "      <td>...</td>\n",
       "      <td>...</td>\n",
       "      <td>...</td>\n",
       "      <td>...</td>\n",
       "      <td>...</td>\n",
       "      <td>...</td>\n",
       "      <td>...</td>\n",
       "      <td>...</td>\n",
       "      <td>...</td>\n",
       "      <td>...</td>\n",
       "      <td>...</td>\n",
       "      <td>...</td>\n",
       "      <td>...</td>\n",
       "      <td>...</td>\n",
       "      <td>...</td>\n",
       "    </tr>\n",
       "    <tr>\n",
       "      <th>110</th>\n",
       "      <td>IN FOCUS: From ‘devastated’ land to many long ...</td>\n",
       "      <td>https://www.channelnewsasia.com/news/singapore...</td>\n",
       "      <td>['Hiking', 'Nature', 'NParks']</td>\n",
       "      <td>10-Apr-21</td>\n",
       "      <td>while the hiking scene is thriving today, such...</td>\n",
       "      <td>False</td>\n",
       "      <td>True</td>\n",
       "      <td>Channel News Asia</td>\n",
       "      <td>0.043</td>\n",
       "      <td>0.117</td>\n",
       "      <td>0.840</td>\n",
       "      <td>0.9996</td>\n",
       "      <td>[While the hiking scene is thriving today, suc...</td>\n",
       "      <td>0.127024</td>\n",
       "      <td>0.463185</td>\n",
       "    </tr>\n",
       "    <tr>\n",
       "      <th>146</th>\n",
       "      <td>Man, 76, apprehended under the mental health a...</td>\n",
       "      <td>https://mothership.sg/2021/02/man-lock-himself...</td>\n",
       "      <td>NIL</td>\n",
       "      <td>February 12, 2021</td>\n",
       "      <td>the police has apprehended a 76-year-old man ...</td>\n",
       "      <td>False</td>\n",
       "      <td>True</td>\n",
       "      <td>Mothership</td>\n",
       "      <td>0.084</td>\n",
       "      <td>0.051</td>\n",
       "      <td>0.865</td>\n",
       "      <td>-0.9231</td>\n",
       "      <td>[ The police has apprehended a 76-year-old man...</td>\n",
       "      <td>-0.093333</td>\n",
       "      <td>0.421667</td>\n",
       "    </tr>\n",
       "    <tr>\n",
       "      <th>19</th>\n",
       "      <td>Schools to offer mental health lessons from 20...</td>\n",
       "      <td>https://www.channelnewsasia.com/news/singapore...</td>\n",
       "      <td>['Budget 2020', 'Parliament', 'mental health',...</td>\n",
       "      <td>4 March 2020</td>\n",
       "      <td>singapore: mental wellness and peer support wi...</td>\n",
       "      <td>False</td>\n",
       "      <td>True</td>\n",
       "      <td>Channel News Asia</td>\n",
       "      <td>0.006</td>\n",
       "      <td>0.109</td>\n",
       "      <td>0.886</td>\n",
       "      <td>0.9975</td>\n",
       "      <td>[SINGAPORE: Mental wellness and peer support w...</td>\n",
       "      <td>0.143352</td>\n",
       "      <td>0.449110</td>\n",
       "    </tr>\n",
       "    <tr>\n",
       "      <th>206</th>\n",
       "      <td>Bangladeshi worker sentenced to death for murd...</td>\n",
       "      <td>https://www.channelnewsasia.com/news/singapore...</td>\n",
       "      <td>['court', 'crime', 'trials', 'murder']</td>\n",
       "      <td>14/12/2020</td>\n",
       "      <td>singapore: a bangladeshi worker was sentenced ...</td>\n",
       "      <td>False</td>\n",
       "      <td>NaN</td>\n",
       "      <td>CNA</td>\n",
       "      <td>0.124</td>\n",
       "      <td>0.039</td>\n",
       "      <td>0.838</td>\n",
       "      <td>-0.9876</td>\n",
       "      <td>[SINGAPORE: A Bangladeshi worker was sentenced...</td>\n",
       "      <td>0.051442</td>\n",
       "      <td>0.301222</td>\n",
       "    </tr>\n",
       "    <tr>\n",
       "      <th>160</th>\n",
       "      <td>The Sandwich Generation: What Being Caught in ...</td>\n",
       "      <td>https://www.ricemedia.co/culture-people-sandwi...</td>\n",
       "      <td>NIL</td>\n",
       "      <td>14 June 2021</td>\n",
       "      <td>all photography by thaddeus loh for rice media...</td>\n",
       "      <td>False</td>\n",
       "      <td>True</td>\n",
       "      <td>Rice Media</td>\n",
       "      <td>0.030</td>\n",
       "      <td>0.156</td>\n",
       "      <td>0.814</td>\n",
       "      <td>0.9998</td>\n",
       "      <td>[All photography by Thaddeus Loh for Rice Medi...</td>\n",
       "      <td>0.132521</td>\n",
       "      <td>0.423734</td>\n",
       "    </tr>\n",
       "  </tbody>\n",
       "</table>\n",
       "<p>1330 rows × 15 columns</p>\n",
       "</div>"
      ],
      "text/plain": [
       "                                                 title  \\\n",
       "0    Singapore Mental Health Film Festival 2021 ret...   \n",
       "1    'Right to disconnect' from work should be cons...   \n",
       "2    Employer faces $72,000 hospital bill after mai...   \n",
       "3    Domestic worker jumps from Toa Payoh flat afte...   \n",
       "4    Singaporeans working from home more stressed t...   \n",
       "..                                                 ...   \n",
       "110  IN FOCUS: From ‘devastated’ land to many long ...   \n",
       "146  Man, 76, apprehended under the mental health a...   \n",
       "19   Schools to offer mental health lessons from 20...   \n",
       "206  Bangladeshi worker sentenced to death for murd...   \n",
       "160  The Sandwich Generation: What Being Caught in ...   \n",
       "\n",
       "                                                   url  \\\n",
       "0    https://www.asiaone.com/lifestyle/singapore-me...   \n",
       "1    https://www.asiaone.com/singapore/right-discon...   \n",
       "2    https://www.asiaone.com/singapore/employer-fac...   \n",
       "3    https://www.asiaone.com/singapore/domestic-wor...   \n",
       "4    https://www.asiaone.com/lifestyle/singaporeans...   \n",
       "..                                                 ...   \n",
       "110  https://www.channelnewsasia.com/news/singapore...   \n",
       "146  https://mothership.sg/2021/02/man-lock-himself...   \n",
       "19   https://www.channelnewsasia.com/news/singapore...   \n",
       "206  https://www.channelnewsasia.com/news/singapore...   \n",
       "160  https://www.ricemedia.co/culture-people-sandwi...   \n",
       "\n",
       "                                                  tags                date  \\\n",
       "0                                                  NIL        May 18, 2021   \n",
       "1                                                  NIL  September 01, 2020   \n",
       "2                                                  NIL     August 24, 2020   \n",
       "3                                                  NIL     August 20, 2020   \n",
       "4                                                  NIL     August 19, 2020   \n",
       "..                                                 ...                 ...   \n",
       "110                     ['Hiking', 'Nature', 'NParks']           10-Apr-21   \n",
       "146                                                NIL   February 12, 2021   \n",
       "19   ['Budget 2020', 'Parliament', 'mental health',...        4 March 2020   \n",
       "206             ['court', 'crime', 'trials', 'murder']          14/12/2020   \n",
       "160                                                NIL        14 June 2021   \n",
       "\n",
       "                                               content  covid singapore  \\\n",
       "0    the covid-19 pandemic has heightened concerns ...   True      True   \n",
       "1    working from home has become a new norm for ma...   True      True   \n",
       "2    [update: aug 26] the employer's son, goh meng ...   True      True   \n",
       "3    a domestic helper from myanmar jumped from the...   True      True   \n",
       "4    if there's one thing that many of us�can�agree...   True      True   \n",
       "..                                                 ...    ...       ...   \n",
       "110  while the hiking scene is thriving today, such...  False      True   \n",
       "146   the police has apprehended a 76-year-old man ...  False      True   \n",
       "19   singapore: mental wellness and peer support wi...  False      True   \n",
       "206  singapore: a bangladeshi worker was sentenced ...  False       NaN   \n",
       "160  all photography by thaddeus loh for rice media...  False      True   \n",
       "\n",
       "           news_source  negativity  positivity  neutral  compound  \\\n",
       "0             Asia One       0.069       0.080    0.851    0.5484   \n",
       "1             Asia One       0.103       0.079    0.817   -0.8588   \n",
       "2             Asia One       0.035       0.046    0.919    0.8057   \n",
       "3             Asia One       0.090       0.080    0.830   -0.7604   \n",
       "4             Asia One       0.049       0.063    0.887    0.8751   \n",
       "..                 ...         ...         ...      ...       ...   \n",
       "110  Channel News Asia       0.043       0.117    0.840    0.9996   \n",
       "146         Mothership       0.084       0.051    0.865   -0.9231   \n",
       "19   Channel News Asia       0.006       0.109    0.886    0.9975   \n",
       "206                CNA       0.124       0.039    0.838   -0.9876   \n",
       "160         Rice Media       0.030       0.156    0.814    0.9998   \n",
       "\n",
       "                                        split_sentence  polarity  subjectivity  \n",
       "0    [The Covid-19 pandemic has heightened concerns...  0.040348      0.307868  \n",
       "1    [Working from home has become a new norm for m...  0.071753      0.356836  \n",
       "2    [[UPDATE: Aug 26] The employer's son, Goh Meng... -0.023416      0.290771  \n",
       "3    [A domestic helper from Myanmar jumped from th...  0.020190      0.290833  \n",
       "4    [If there's one thing that many of us�can�agre...  0.140052      0.423946  \n",
       "..                                                 ...       ...           ...  \n",
       "110  [While the hiking scene is thriving today, suc...  0.127024      0.463185  \n",
       "146  [ The police has apprehended a 76-year-old man... -0.093333      0.421667  \n",
       "19   [SINGAPORE: Mental wellness and peer support w...  0.143352      0.449110  \n",
       "206  [SINGAPORE: A Bangladeshi worker was sentenced...  0.051442      0.301222  \n",
       "160  [All photography by Thaddeus Loh for Rice Medi...  0.132521      0.423734  \n",
       "\n",
       "[1330 rows x 15 columns]"
      ]
     },
     "execution_count": 36,
     "metadata": {},
     "output_type": "execute_result"
    }
   ],
   "source": [
    "news_upsampled"
   ]
  },
  {
   "cell_type": "code",
   "execution_count": 37,
   "metadata": {
    "scrolled": true
   },
   "outputs": [
    {
     "data": {
      "text/plain": [
       "<matplotlib.lines.Line2D at 0x7ff72ad75df0>"
      ]
     },
     "execution_count": 37,
     "metadata": {},
     "output_type": "execute_result"
    },
    {
     "data": {
      "image/png": "[encoded data removed]",
      "text/plain": [
       "<Figure size 432x288 with 1 Axes>"
      ]
     },
     "metadata": {
      "needs_background": "light"
     },
     "output_type": "display_data"
    }
   ],
   "source": [
    "false_covid = news_upsampled[news_upsampled.covid ==False]\n",
    "true_covid = news_upsampled[news_upsampled.covid ==True]\n",
    "\n",
    "average_false = false_covid.polarity.mean()\n",
    "average_true = true_covid.polarity.mean()\n",
    "\n",
    "average_false = false_covid.polarity.mean()\n",
    "average_true = true_covid.polarity.mean()\n",
    "\n",
    "ax = sns.histplot(news_upsampled, x = \"polarity\", hue = \"covid\", multiple = \"dodge\")\n",
    "\n",
    "plt.axvline(average_false, color='b', linestyle='--')\n",
    "plt.axvline(average_true, color='r', linestyle='--')"
   ]
  },
  {
   "cell_type": "code",
   "execution_count": 38,
   "metadata": {},
   "outputs": [
    {
     "data": {
      "text/plain": [
       "<matplotlib.lines.Line2D at 0x7ff72a8dc040>"
      ]
     },
     "execution_count": 38,
     "metadata": {},
     "output_type": "execute_result"
    },
    {
     "data": {
      "image/png": "[encoded data removed]",
      "text/plain": [
       "<Figure size 432x288 with 1 Axes>"
      ]
     },
     "metadata": {
      "needs_background": "light"
     },
     "output_type": "display_data"
    }
   ],
   "source": [
    "false_covid = news_upsampled[news_upsampled.covid ==False]\n",
    "true_covid = news_upsampled[news_upsampled.covid ==True]\n",
    "\n",
    "average_false = false_covid.subjectivity.mean()\n",
    "average_true = true_covid.subjectivity.mean()\n",
    "\n",
    "average_false = false_covid.subjectivity.mean()\n",
    "average_true = true_covid.subjectivity.mean()\n",
    "\n",
    "ax = sns.histplot(news_upsampled, x = \"subjectivity\", hue = \"covid\", multiple = \"dodge\")\n",
    "\n",
    "plt.axvline(average_false, color='b', linestyle='--')\n",
    "plt.axvline(average_true, color='r', linestyle='--')"
   ]
  },
  {
   "cell_type": "markdown",
   "metadata": {},
   "source": [
    "Based on the analysis, both Vader and TextBlob produced similar results in which positive sentiments are found more in non-covid related news articles. The mean subjectivity of both covid-related and non-covid related news articles hover at about the same level of 0.4.\n",
    "\n",
    "However, there are issues with this kind of approach. First, because we use TextBlob and Vader Sentiment Analysis that does not work very well with large chunks of text, the polarity may not be very accurate. This is because everytime Vader/TextBlob finds a negative word, it negates the positivity in the text, and since the text has a lot of words, it may not capture the essence of the text and instead just take it as a whole, without dissecting the more important lines from the less important ones.\n",
    "\n",
    "Because of that, we may need to employ a different kind of approach."
   ]
  },
  {
   "cell_type": "markdown",
   "metadata": {},
   "source": [
    "# Splitting by sentences"
   ]
  },
  {
   "cell_type": "markdown",
   "metadata": {},
   "source": [
    "One way for us to make better analysis is to find sentences that contain either the keywords of mental health problem or covid and analyse them individually."
   ]
  },
  {
   "cell_type": "code",
   "execution_count": 39,
   "metadata": {},
   "outputs": [],
   "source": [
    "mental = [\"depression\", \"mental illness\",\"killed\",\n",
    "\"social anxiety\",\"loneliness\",\"stress\",\"lonely\",\n",
    "\"isolation\", \"suicide\",\"abuse\",\"death\", \"post traumatic stress disorder\",\n",
    "\"no motivation\", \"therapy\", \"trauma\", \"counselling\" , \"mood disorder\",\n",
    "\"mood swings\", \"mental health\", \"angst\", \"emotion\", \"phobia\",\n",
    "\"addiction\", \"self-harm\", \"neurosis\", \"abuse\", \n",
    "\"disorder\", \"died\",\"tired\", \"trapped\", \n",
    "\"paranoia\", \"overwhelmed\", \"irritable\", \"bipolar\", \n",
    "\"psychologist\", \"well-being\", \"imh\", \"sos\", \"counsellor\", \"insomnia\", \"drugs\", \"self-esteem\", \"depressed\"]\n"
   ]
  },
  {
   "cell_type": "code",
   "execution_count": 40,
   "metadata": {},
   "outputs": [],
   "source": [
    "list1 = []\n",
    "temp = []"
   ]
  },
  {
   "cell_type": "code",
   "execution_count": 41,
   "metadata": {},
   "outputs": [],
   "source": [
    "news_upsampled = news_upsampled.reset_index().drop('index', 1)"
   ]
  },
  {
   "cell_type": "code",
   "execution_count": 42,
   "metadata": {
    "scrolled": false
   },
   "outputs": [],
   "source": [
    "for i in range(0, 1330):\n",
    "    for word in mental:\n",
    "        for a in range(0, len(news_upsampled.split_sentence[i])):\n",
    "            if word in news_upsampled.split_sentence[i][a]:\n",
    "                list1.append(i)\n",
    "                list1.append(news_upsampled.split_sentence[i][a])\n",
    "                temp.append(list1)\n",
    "                list1 = []\n",
    "                \n",
    "            "
   ]
  },
  {
   "cell_type": "code",
   "execution_count": 43,
   "metadata": {},
   "outputs": [],
   "source": [
    "news_upsampled['selected_sentence'] = ''"
   ]
  },
  {
   "cell_type": "code",
   "execution_count": 44,
   "metadata": {},
   "outputs": [],
   "source": [
    "initial = 0\n",
    "list1 = []"
   ]
  },
  {
   "cell_type": "code",
   "execution_count": 45,
   "metadata": {},
   "outputs": [
    {
     "name": "stderr",
     "output_type": "stream",
     "text": [
      "<ipython-input-45-6b1683630318>:5: SettingWithCopyWarning: \n",
      "A value is trying to be set on a copy of a slice from a DataFrame\n",
      "\n",
      "See the caveats in the documentation: https://pandas.pydata.org/pandas-docs/stable/user_guide/indexing.html#returning-a-view-versus-a-copy\n",
      "  news_upsampled['selected_sentence'][initial] = list1\n"
     ]
    }
   ],
   "source": [
    "for i in range(0,len(temp)):\n",
    "    if initial == temp[i][0]:\n",
    "        list1.append(temp[i][1])\n",
    "    else:\n",
    "        news_upsampled['selected_sentence'][initial] = list1\n",
    "        list1 = []\n",
    "        initial = temp[i][0]\n",
    "        list1.append(temp[i][1])\n",
    "    "
   ]
  },
  {
   "cell_type": "code",
   "execution_count": 46,
   "metadata": {
    "scrolled": true
   },
   "outputs": [],
   "source": [
    "news_upsampled['frequency'] = ''"
   ]
  },
  {
   "cell_type": "code",
   "execution_count": 47,
   "metadata": {},
   "outputs": [
    {
     "name": "stderr",
     "output_type": "stream",
     "text": [
      "<ipython-input-47-21b5d23a6a5d>:2: SettingWithCopyWarning: \n",
      "A value is trying to be set on a copy of a slice from a DataFrame\n",
      "\n",
      "See the caveats in the documentation: https://pandas.pydata.org/pandas-docs/stable/user_guide/indexing.html#returning-a-view-versus-a-copy\n",
      "  news_upsampled.frequency[i] = len(news_upsampled.selected_sentence[i])\n"
     ]
    }
   ],
   "source": [
    "for i in range(0, 1330):\n",
    "    news_upsampled.frequency[i] = len(news_upsampled.selected_sentence[i])"
   ]
  },
  {
   "cell_type": "markdown",
   "metadata": {},
   "source": [
    "## Based on Average Frequency of mental health related words in an article (whether covid or non covid related)"
   ]
  },
  {
   "cell_type": "code",
   "execution_count": 48,
   "metadata": {},
   "outputs": [
    {
     "data": {
      "text/plain": [
       "<matplotlib.lines.Line2D at 0x7ff72b2e4a00>"
      ]
     },
     "execution_count": 48,
     "metadata": {},
     "output_type": "execute_result"
    },
    {
     "data": {
      "image/png": "[encoded data removed]",
      "text/plain": [
       "<Figure size 432x288 with 1 Axes>"
      ]
     },
     "metadata": {
      "needs_background": "light"
     },
     "output_type": "display_data"
    }
   ],
   "source": [
    "false_covid = news_upsampled[news_upsampled.covid ==False]\n",
    "true_covid = news_upsampled[news_upsampled.covid ==True]\n",
    "\n",
    "avgfalse = news_upsampled[news_upsampled.covid == False].frequency.sum()/len(news_upsampled[news_upsampled.covid == False])\n",
    "avgtrue = news_upsampled[news_upsampled.covid == True].frequency.sum()/len(news_upsampled[news_upsampled.covid == True])\n",
    "\n",
    "\n",
    "ax = sns.histplot(news_upsampled, x = \"frequency\", hue = \"covid\", multiple = \"dodge\")\n",
    "\n",
    "plt.axvline(avgfalse, color='b', linestyle='--')\n",
    "plt.axvline(avgtrue, color='r', linestyle='--')"
   ]
  },
  {
   "cell_type": "markdown",
   "metadata": {},
   "source": [
    "Based on the average frequency of sentences that has the mental health related words inside each article, the news article that mentioned covid too has lesser mental health related words than those that do not mention covid. On hindsight, this is accurate because when an article is solely discussing about someone's experience on mental health, without bringing covid in, the author may use more descriptive language in describing the victim's ordeal and not just inform us about how covid has worsen people's mental health."
   ]
  },
  {
   "cell_type": "markdown",
   "metadata": {},
   "source": [
    "## Based on individual sentences"
   ]
  },
  {
   "cell_type": "code",
   "execution_count": null,
   "metadata": {},
   "outputs": [],
   "source": []
  }
 ],
 "metadata": {
  "kernelspec": {
   "display_name": "Python 3",
   "language": "python",
   "name": "python3"
  },
  "language_info": {
   "codemirror_mode": {
    "name": "ipython",
    "version": 3
   },
   "file_extension": ".py",
   "mimetype": "text/x-python",
   "name": "python",
   "nbconvert_exporter": "python",
   "pygments_lexer": "ipython3",
   "version": "3.8.5"
  }
 },
 "nbformat": 4,
 "nbformat_minor": 4
}
