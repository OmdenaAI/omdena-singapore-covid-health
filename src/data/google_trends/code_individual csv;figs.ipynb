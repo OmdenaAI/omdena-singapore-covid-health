{
  "nbformat": 4,
  "nbformat_minor": 0,
  "metadata": {
    "colab": {
      "name": "Omdena_GoogleTrends.ipynb",
      "provenance": [],
      "collapsed_sections": []
    },
    "kernelspec": {
      "name": "python3",
      "display_name": "Python 3"
    },
    "language_info": {
      "name": "python"
    }
  },
  "cells": [
    {
      "cell_type": "code",
      "metadata": {
        "id": "Fhw8UTt4N36B"
      },
      "source": [
        "from google.colab import auth\n",
        "auth.authenticate_user()\n",
        "import gspread\n",
        "from oauth2client.client import GoogleCredentials\n",
        "gc = gspread.authorize(GoogleCredentials.get_application_default())"
      ],
      "execution_count": 1,
      "outputs": []
    },
    {
      "cell_type": "code",
      "metadata": {
        "colab": {
          "base_uri": "https://localhost:8080/"
        },
        "id": "ev1Hz5lJfX_k",
        "outputId": "6144aa9b-77fc-493b-f2b3-172c42001850"
      },
      "source": [
        "from google.colab import drive\n",
        "drive.mount('/content/drive')"
      ],
      "execution_count": 3,
      "outputs": [
        {
          "output_type": "stream",
          "text": [
            "Mounted at /content/drive\n"
          ],
          "name": "stdout"
        }
      ]
    },
    {
      "cell_type": "code",
      "metadata": {
        "colab": {
          "base_uri": "https://localhost:8080/"
        },
        "id": "TFtAZfal9rHK",
        "outputId": "71d38e76-f8c7-444a-e936-2e5917fe58e8"
      },
      "source": [
        "!pip install pytrends\n",
        "!pip install pandas\n",
        "import pandas as pd\n",
        "import datetime      \n",
        "import csv\n",
        "from pytrends.request import TrendReq"
      ],
      "execution_count": 9,
      "outputs": [
        {
          "output_type": "stream",
          "text": [
            "Requirement already satisfied: pytrends in /usr/local/lib/python3.7/dist-packages (4.7.3)\n",
            "Requirement already satisfied: requests in /usr/local/lib/python3.7/dist-packages (from pytrends) (2.23.0)\n",
            "Requirement already satisfied: pandas>=0.25 in /usr/local/lib/python3.7/dist-packages (from pytrends) (1.1.5)\n",
            "Requirement already satisfied: lxml in /usr/local/lib/python3.7/dist-packages (from pytrends) (4.2.6)\n",
            "Requirement already satisfied: certifi>=2017.4.17 in /usr/local/lib/python3.7/dist-packages (from requests->pytrends) (2021.5.30)\n",
            "Requirement already satisfied: idna<3,>=2.5 in /usr/local/lib/python3.7/dist-packages (from requests->pytrends) (2.10)\n",
            "Requirement already satisfied: chardet<4,>=3.0.2 in /usr/local/lib/python3.7/dist-packages (from requests->pytrends) (3.0.4)\n",
            "Requirement already satisfied: urllib3!=1.25.0,!=1.25.1,<1.26,>=1.21.1 in /usr/local/lib/python3.7/dist-packages (from requests->pytrends) (1.24.3)\n",
            "Requirement already satisfied: python-dateutil>=2.7.3 in /usr/local/lib/python3.7/dist-packages (from pandas>=0.25->pytrends) (2.8.1)\n",
            "Requirement already satisfied: numpy>=1.15.4 in /usr/local/lib/python3.7/dist-packages (from pandas>=0.25->pytrends) (1.19.5)\n",
            "Requirement already satisfied: pytz>=2017.2 in /usr/local/lib/python3.7/dist-packages (from pandas>=0.25->pytrends) (2018.9)\n",
            "Requirement already satisfied: six>=1.5 in /usr/local/lib/python3.7/dist-packages (from python-dateutil>=2.7.3->pandas>=0.25->pytrends) (1.15.0)\n",
            "Requirement already satisfied: pandas in /usr/local/lib/python3.7/dist-packages (1.1.5)\n",
            "Requirement already satisfied: python-dateutil>=2.7.3 in /usr/local/lib/python3.7/dist-packages (from pandas) (2.8.1)\n",
            "Requirement already satisfied: numpy>=1.15.4 in /usr/local/lib/python3.7/dist-packages (from pandas) (1.19.5)\n",
            "Requirement already satisfied: pytz>=2017.2 in /usr/local/lib/python3.7/dist-packages (from pandas) (2018.9)\n",
            "Requirement already satisfied: six>=1.5 in /usr/local/lib/python3.7/dist-packages (from python-dateutil>=2.7.3->pandas) (1.15.0)\n"
          ],
          "name": "stdout"
        }
      ]
    },
    {
      "cell_type": "code",
      "metadata": {
        "id": "s7fDdNb5Ufpr"
      },
      "source": [
        "# Create functions (can remove or add accordingly)\n",
        "def getFileName(type, func, word, ts):\n",
        "\tif type == 'figure' :\n",
        "\t\ttxt = type + '_' + func + '_' + word + '_{}.png'\n",
        "\telif type == 'CSV' :\n",
        "\t\ttxt = type + '_' + func + '_' + word + '_{}.csv'\n",
        "\tfileName  = txt.format(ts)\n",
        "\treturn fileName\n",
        "\n",
        "def time_analysis(source, ts):\n",
        "\tfigName = getFileName('figure', 'analysis_over_time_SG', source, ts)\n",
        "\tcsvName = getFileName('CSV', 'analysis_over_time_SG', source, ts)\n",
        "\tdf = pytrend.interest_over_time()\n",
        "\tdf = df.drop(labels=['isPartial'],axis='columns', errors = 'ignore')\n",
        "\tdf.to_csv('/content/drive/MyDrive/Official Project Folder/Tasks/Google Trends #Task 1_6/Codes' + csvName, encoding='utf_8_sig') #Can Change Path Where Relevant \n",
        "\timage = df.plot(title = source + ' searchs in 2019 to June 2021 on Google Trends Singapore') \n",
        "\tfig = image.get_figure()\n",
        "\tfig.savefig('/content/drive/MyDrive/Official Project Folder/Tasks/Google Trends #Task 1_6/Codes' + figName)\n",
        "\n",
        "def suggestions_analysis(source, ts):\n",
        "\tfigName = getFileName('figure', 'suggestions_SG', source, ts)\n",
        "\tcsvName = getFileName('CSV', 'suggestions_SG', source, ts)\n",
        "\tkeywords = pytrend.suggestions(keyword=source)\n",
        "\tdf = pd.DataFrame(keywords)\n",
        "\tdf = df.drop(columns='mid', errors = 'ignore')\n",
        "\tdf.to_csv('/content/drive/MyDrive/Official Project Folder/Tasks/Google Trends #Task 1_6/Codes' + csvName, encoding='utf_8_sig')\n",
        "\n",
        "def related_topics_analysis(source, ts):\n",
        "\tfigName = getFileName('figure', 'related_topics_SG', source, ts)\n",
        "\tcsvName = getFileName('CSV', 'related_topics_SG', source, ts)\n",
        "\trelated_topics = pytrend.related_topics()\n",
        "\twith open('/content/drive/MyDrive/Official Project Folder/Tasks/Google Trends #Task 1_6/Codes' + csvName, 'w') as f:\n",
        "\t\tfor key in related_topics.keys():\n",
        "\t\t\tf.write(\"%s,%s\\n\"%(key,related_topics[key]))\n",
        " "
      ],
      "execution_count": 11,
      "outputs": []
    },
    {
      "cell_type": "code",
      "metadata": {
        "id": "34-9q490RvAL"
      },
      "source": [
        "# Loading input data\n",
        "df = wb = gc.open_by_url('https://docs.google.com/spreadsheets/d/1Mjk9g99XqNXQeGkJxDcbAdeLLZ8Wt3rflsXTF1wWggc/edit#gid=0') #Change Input File \n",
        "sheet = wb.sheet1\n",
        "keywords = list(sheet.col_values(4))\n",
        "date_from = sheet.acell('B7').value\n",
        "date_to = sheet.acell('B8').value\n",
        "geo = sheet.acell('B10').value"
      ],
      "execution_count": 22,
      "outputs": []
    },
    {
      "cell_type": "code",
      "metadata": {
        "id": "ww7NCoebDV7K"
      },
      "source": [
        "# Function to loop through the keyword and get information\n",
        "# Run through keywords individually to create individual csv and figs \n",
        "def Main(keywords, ts):\n",
        "\tglobal pytrend \n",
        "\tpytrend = TrendReq(tz = -480)\n",
        "\tfor word in keywords:\n",
        "\t\tprint('\\n' + word)\n",
        "\t\tpytrend.build_payload(kw_list= [word], timeframe = timeframe, geo = geo)\n",
        "\t\ttry:\n",
        "\t\t\ttime_analysis(word, ts)\n",
        "\t\texcept: # catch *all* exceptions\n",
        "\t\t\te = sys.exc_info()[0]\n",
        "\t\t\tprint( \"Error during time analysis execution: %s\" % e )\n",
        "\t\telse:\n",
        "\t  \t\tprint(\"Time analysis completed successfully\") \n",
        "\t\ttry:\n",
        "\t\t\tsuggestions_analysis(word, ts)\n",
        "\t\texcept: # catch *all* exceptions\n",
        "\t\t\te = sys.exc_info()[0]\n",
        "\t\t\tprint( \"Error during suggestions analysis execution: %s\" % e )\n",
        "\t\telse:\n",
        "\t  \t\tprint(\"Suggestions analysis completed successfully\")\n",
        "     "
      ],
      "execution_count": 23,
      "outputs": []
    },
    {
      "cell_type": "code",
      "metadata": {
        "id": "n-lV1Seqhip8"
      },
      "source": [
        "# Setting some parameteres\n",
        "ts = int(datetime.datetime.now().timestamp())\n",
        "timeframe = date_from + \" \" + date_to\n",
        "\n",
        "# Run code\n",
        "Main(keywords, ts)"
      ],
      "execution_count": null,
      "outputs": []
    },
    {
      "cell_type": "markdown",
      "metadata": {
        "id": "hq_Z0sL7eCbJ"
      },
      "source": [
        "References: \n",
        "\n",
        "https://www.honchosearch.com/blog/seo/how-to-use-python-pytrends-to-automate-google-trends-data/\n",
        "https://github.com/OmdenaAI/omdena-singapore-covid-health/tree/main/original/Data_collection/GoogleTrends"
      ]
    }
  ]
}