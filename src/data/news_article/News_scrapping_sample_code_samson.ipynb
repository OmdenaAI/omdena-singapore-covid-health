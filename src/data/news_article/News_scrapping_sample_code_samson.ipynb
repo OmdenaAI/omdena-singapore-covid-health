{
 "cells": [
  {
   "cell_type": "code",
   "execution_count": null,
   "id": "737d0a4e",
   "metadata": {},
   "outputs": [],
   "source": [
    "#install packages\n",
    "! pip install beautifulsoup4\n",
    "! pip install requests"
   ]
  },
  {
   "cell_type": "code",
   "execution_count": 1,
   "id": "bf4ede7f",
   "metadata": {},
   "outputs": [],
   "source": [
    "#import packages\n",
    "import requests\n",
    "from bs4 import BeautifulSoup\n",
    "import pandas as pd"
   ]
  },
  {
   "cell_type": "code",
   "execution_count": 6,
   "id": "321af016",
   "metadata": {},
   "outputs": [],
   "source": [
    "#Enter url\n",
    "url = \"https://www.ricemedia.co/tag/mental-health\"\n",
    "\n",
    "# Request\n",
    "r1 = requests.get(url)\n",
    "r1.status_code\n",
    "\n",
    "# We'll save in coverpage the cover page content\n",
    "coverpage = r1.content\n",
    "\n",
    "# Soup creation\n",
    "soup1 = BeautifulSoup(coverpage, 'html5lib')"
   ]
  },
  {
   "cell_type": "code",
   "execution_count": 7,
   "id": "ebbbf35b",
   "metadata": {},
   "outputs": [
    {
     "data": {
      "text/plain": [
       "24"
      ]
     },
     "execution_count": 7,
     "metadata": {},
     "output_type": "execute_result"
    }
   ],
   "source": [
    "#Change the attribute and class according\n",
    "coverpage_news = soup1.find_all('div', class_='article-inner')\n",
    "len(coverpage_news)"
   ]
  },
  {
   "cell_type": "code",
   "execution_count": 4,
   "id": "06e75b6c",
   "metadata": {},
   "outputs": [],
   "source": [
    "news_contents = []\n",
    "list_links = []\n",
    "list_titles = []\n",
    "list_category = []"
   ]
  },
  {
   "cell_type": "code",
   "execution_count": 8,
   "id": "7ed4d306",
   "metadata": {},
   "outputs": [],
   "source": [
    "for n in range(len(coverpage_news)):\n",
    "    \n",
    "    # Getting the link of the article\n",
    "    link = coverpage_news[n].find('a')['href']\n",
    "    list_links.append(link)\n",
    "    \n",
    "    # Getting the title\n",
    "    title = coverpage_news[n].find('h3').get_text()\n",
    "    list_titles.append(title)\n",
    "    \n",
    "    #Getting the category\n",
    "    category = coverpage_news[n].find('ul', class_='post-categories')\n",
    "    category1 = category.find_all('li')\n",
    "    allcategory =[]\n",
    "    for z in range(len(category1)):\n",
    "        categorytext = category1[z].get_text()\n",
    "        allcategory.append(categorytext)\n",
    "        finalcategory = \", \".join(allcategory)\n",
    "    list_category.append(finalcategory)\n",
    "\n",
    "    # Reading the content (it is divided in paragraphs)\n",
    "    article = requests.get(link)\n",
    "    article_content = article.content\n",
    "    soup_article = BeautifulSoup(article_content, 'html5lib')\n",
    "    x = soup_article.find_all('p')\n",
    "    \n",
    "    # Unifying the paragraphs\n",
    "    list_paragraphs = []\n",
    "    for p in range(len(x)):\n",
    "        paragraph = x[p].get_text()\n",
    "        list_paragraphs.append(paragraph)\n",
    "        final_article = \" \".join(list_paragraphs)\n",
    "    news_contents.append(final_article)"
   ]
  },
  {
   "cell_type": "code",
   "execution_count": 9,
   "id": "8bfb3474",
   "metadata": {},
   "outputs": [],
   "source": [
    "#converting the list in a table\n",
    "df_show_info = pd.DataFrame ({'Article Title': list_titles,'Article Link': list_links, 'Catergory': list_category, 'Article Content': news_contents})\n",
    "#download as a excel file\n",
    "df_show_info.to_csv('ricemedia.csv')"
   ]
  }
 ],
 "metadata": {
  "kernelspec": {
   "display_name": "Python 3",
   "language": "python",
   "name": "python3"
  },
  "language_info": {
   "codemirror_mode": {
    "name": "ipython",
    "version": 3
   },
   "file_extension": ".py",
   "mimetype": "text/x-python",
   "name": "python",
   "nbconvert_exporter": "python",
   "pygments_lexer": "ipython3",
   "version": "3.8.8"
  }
 },
 "nbformat": 4,
 "nbformat_minor": 5
}
