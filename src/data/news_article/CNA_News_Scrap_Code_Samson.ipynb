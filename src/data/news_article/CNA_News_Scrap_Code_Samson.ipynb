{
 "cells": [
  {
   "cell_type": "code",
   "execution_count": null,
   "id": "2b88526d",
   "metadata": {},
   "outputs": [],
   "source": [
    "#install packages\n",
    "! pip install beautifulsoup4\n",
    "! pip install requests"
   ]
  },
  {
   "cell_type": "code",
   "execution_count": 1,
   "id": "8cff7d4e",
   "metadata": {},
   "outputs": [],
   "source": [
    "import requests\n",
    "from bs4 import BeautifulSoup\n",
    "import pandas as pd"
   ]
  },
  {
   "cell_type": "code",
   "execution_count": 2,
   "id": "7027ac74",
   "metadata": {},
   "outputs": [],
   "source": [
    "list_summary = []\n",
    "list_links = []\n",
    "list_titles = []\n",
    "list_category = []"
   ]
  },
  {
   "cell_type": "code",
   "execution_count": 3,
   "id": "632f3906",
   "metadata": {},
   "outputs": [
    {
     "data": {
      "text/plain": [
       "10"
      ]
     },
     "execution_count": 3,
     "metadata": {},
     "output_type": "execute_result"
    }
   ],
   "source": [
    "url = \"https://www.channelnewsasia.com/news/topic/mental-health?pageNum=0\"\n",
    "\n",
    "# Request\n",
    "r1 = requests.get(url)\n",
    "\n",
    "# We'll save in coverpage the cover page content\n",
    "coverpage = r1.content\n",
    "\n",
    "# Soup creation\n",
    "soup1 = BeautifulSoup(coverpage, \"html.parser\")\n",
    "\n",
    "coverpage_news = soup1.find_all('li', class_ = 'result-section__list-item')\n",
    "len(coverpage_news)"
   ]
  },
  {
   "cell_type": "code",
   "execution_count": 4,
   "id": "220507cc",
   "metadata": {},
   "outputs": [],
   "source": [
    "for n in range(len(coverpage_news)):\n",
    "    \n",
    "    # Getting the link\n",
    "    link = coverpage_news[n].find('a')['href']\n",
    "    newlink = f\"https://www.channelnewsasia.com{link}\"\n",
    "    list_links.append(newlink)\n",
    "    \n",
    "    # Getting the title\n",
    "    title = coverpage_news[n].find('a', class_=\"teaser__title\").get_text().strip()\n",
    "    list_titles.append(title)\n",
    "    \n",
    "    # Getting the summary(if have)\n",
    "    try:\n",
    "        summary = coverpage_news[n].find('div', class_=\"teaser__standfirst\").get_text().strip()\n",
    "        \n",
    "    except:\n",
    "        summary = \"nil\"\n",
    "        \n",
    "    list_summary.append(summary)\n",
    "    \n",
    "    # Getting the category\n",
    "    category = coverpage_news[n].find('a', class_ =\"teaser__category\").get_text().strip()\n",
    "    list_category.append(category)"
   ]
  },
  {
   "cell_type": "code",
   "execution_count": 5,
   "id": "e0becaf0",
   "metadata": {},
   "outputs": [
    {
     "data": {
      "text/html": [
       "<div>\n",
       "<style scoped>\n",
       "    .dataframe tbody tr th:only-of-type {\n",
       "        vertical-align: middle;\n",
       "    }\n",
       "\n",
       "    .dataframe tbody tr th {\n",
       "        vertical-align: top;\n",
       "    }\n",
       "\n",
       "    .dataframe thead th {\n",
       "        text-align: right;\n",
       "    }\n",
       "</style>\n",
       "<table border=\"1\" class=\"dataframe\">\n",
       "  <thead>\n",
       "    <tr style=\"text-align: right;\">\n",
       "      <th></th>\n",
       "      <th>Article Title</th>\n",
       "      <th>Article URL</th>\n",
       "      <th>Article Category</th>\n",
       "      <th>Article Summary</th>\n",
       "    </tr>\n",
       "  </thead>\n",
       "  <tbody>\n",
       "    <tr>\n",
       "      <th>0</th>\n",
       "      <td>Suicide cases in Singapore highest in 8 years ...</td>\n",
       "      <td>https://www.channelnewsasia.com/news/singapore...</td>\n",
       "      <td>Singapore</td>\n",
       "      <td>nil</td>\n",
       "    </tr>\n",
       "    <tr>\n",
       "      <th>1</th>\n",
       "      <td>The number of young children who need mental h...</td>\n",
       "      <td>https://www.channelnewsasia.comhttps://cnalife...</td>\n",
       "      <td>Lifestyle</td>\n",
       "      <td>Even before the pandemic, children have been s...</td>\n",
       "    </tr>\n",
       "    <tr>\n",
       "      <th>2</th>\n",
       "      <td>AI in mental health screening: System enables ...</td>\n",
       "      <td>https://www.channelnewsasia.com/news/singapore...</td>\n",
       "      <td>Singapore</td>\n",
       "      <td>Mental health screening is getting a boost fro...</td>\n",
       "    </tr>\n",
       "    <tr>\n",
       "      <th>3</th>\n",
       "      <td>Commentary: How Britney Spears was trapped in ...</td>\n",
       "      <td>https://www.channelnewsasia.com/news/commentar...</td>\n",
       "      <td>Commentary</td>\n",
       "      <td>While celebrities like Elvis Presley and Micha...</td>\n",
       "    </tr>\n",
       "    <tr>\n",
       "      <th>4</th>\n",
       "      <td>Commentary: Pop stars used to bare skin. Now t...</td>\n",
       "      <td>https://www.channelnewsasia.com/news/commentar...</td>\n",
       "      <td>Commentary</td>\n",
       "      <td>Today, many artists are making their personal ...</td>\n",
       "    </tr>\n",
       "    <tr>\n",
       "      <th>5</th>\n",
       "      <td>Commentary: Why some night owls are flourishin...</td>\n",
       "      <td>https://www.channelnewsasia.com/news/commentar...</td>\n",
       "      <td>Commentary</td>\n",
       "      <td>What revenge bedtime procrastination and coron...</td>\n",
       "    </tr>\n",
       "    <tr>\n",
       "      <th>6</th>\n",
       "      <td>CNA+: Talking Point discusses keeping kids occ...</td>\n",
       "      <td>https://www.channelnewsasia.com/news/video-on-...</td>\n",
       "      <td>Asia First Encore</td>\n",
       "      <td>A bite-size version of what you have missed on...</td>\n",
       "    </tr>\n",
       "    <tr>\n",
       "      <th>7</th>\n",
       "      <td>Commentary: Workers appreciate mental health d...</td>\n",
       "      <td>https://www.channelnewsasia.com/news/commentar...</td>\n",
       "      <td>Commentary</td>\n",
       "      <td>Does your organisation have the necessary supp...</td>\n",
       "    </tr>\n",
       "    <tr>\n",
       "      <th>8</th>\n",
       "      <td>Commentary: Revenge bedtime procrastination in...</td>\n",
       "      <td>https://www.channelnewsasia.com/news/commentar...</td>\n",
       "      <td>Commentary</td>\n",
       "      <td>Many people feel the strong need to reclaim ti...</td>\n",
       "    </tr>\n",
       "    <tr>\n",
       "      <th>9</th>\n",
       "      <td>Commentary: Here’s the kind of normal you shou...</td>\n",
       "      <td>https://www.channelnewsasia.com/news/commentar...</td>\n",
       "      <td>Commentary</td>\n",
       "      <td>COVID-19 has given us the gift of a reboot, an...</td>\n",
       "    </tr>\n",
       "  </tbody>\n",
       "</table>\n",
       "</div>"
      ],
      "text/plain": [
       "                                       Article Title  \\\n",
       "0  Suicide cases in Singapore highest in 8 years ...   \n",
       "1  The number of young children who need mental h...   \n",
       "2  AI in mental health screening: System enables ...   \n",
       "3  Commentary: How Britney Spears was trapped in ...   \n",
       "4  Commentary: Pop stars used to bare skin. Now t...   \n",
       "5  Commentary: Why some night owls are flourishin...   \n",
       "6  CNA+: Talking Point discusses keeping kids occ...   \n",
       "7  Commentary: Workers appreciate mental health d...   \n",
       "8  Commentary: Revenge bedtime procrastination in...   \n",
       "9  Commentary: Here’s the kind of normal you shou...   \n",
       "\n",
       "                                         Article URL   Article Category  \\\n",
       "0  https://www.channelnewsasia.com/news/singapore...          Singapore   \n",
       "1  https://www.channelnewsasia.comhttps://cnalife...          Lifestyle   \n",
       "2  https://www.channelnewsasia.com/news/singapore...          Singapore   \n",
       "3  https://www.channelnewsasia.com/news/commentar...         Commentary   \n",
       "4  https://www.channelnewsasia.com/news/commentar...         Commentary   \n",
       "5  https://www.channelnewsasia.com/news/commentar...         Commentary   \n",
       "6  https://www.channelnewsasia.com/news/video-on-...  Asia First Encore   \n",
       "7  https://www.channelnewsasia.com/news/commentar...         Commentary   \n",
       "8  https://www.channelnewsasia.com/news/commentar...         Commentary   \n",
       "9  https://www.channelnewsasia.com/news/commentar...         Commentary   \n",
       "\n",
       "                                     Article Summary  \n",
       "0                                                nil  \n",
       "1  Even before the pandemic, children have been s...  \n",
       "2  Mental health screening is getting a boost fro...  \n",
       "3  While celebrities like Elvis Presley and Micha...  \n",
       "4  Today, many artists are making their personal ...  \n",
       "5  What revenge bedtime procrastination and coron...  \n",
       "6  A bite-size version of what you have missed on...  \n",
       "7  Does your organisation have the necessary supp...  \n",
       "8  Many people feel the strong need to reclaim ti...  \n",
       "9  COVID-19 has given us the gift of a reboot, an...  "
      ]
     },
     "execution_count": 5,
     "metadata": {},
     "output_type": "execute_result"
    }
   ],
   "source": [
    "df = pd.DataFrame ({'Article Title': list_titles, 'Article URL':list_links, 'Article Category': list_category, 'Article Summary': list_summary})\n",
    "df"
   ]
  },
  {
   "cell_type": "code",
   "execution_count": 33,
   "id": "44efd148",
   "metadata": {},
   "outputs": [],
   "source": [
    "df.to_csv('cna.csv')"
   ]
  }
 ],
 "metadata": {
  "kernelspec": {
   "display_name": "Python 3",
   "language": "python",
   "name": "python3"
  },
  "language_info": {
   "codemirror_mode": {
    "name": "ipython",
    "version": 3
   },
   "file_extension": ".py",
   "mimetype": "text/x-python",
   "name": "python",
   "nbconvert_exporter": "python",
   "pygments_lexer": "ipython3",
   "version": "3.8.8"
  }
 },
 "nbformat": 4,
 "nbformat_minor": 5
}
