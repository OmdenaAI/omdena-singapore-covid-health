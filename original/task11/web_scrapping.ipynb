{
  "nbformat": 4,
  "nbformat_minor": 0,
  "metadata": {
    "language_info": {
      "name": "python",
      "codemirror_mode": {
        "name": "ipython",
        "version": 3
      },
      "version": "3.7.6-final"
    },
    "orig_nbformat": 2,
    "file_extension": ".py",
    "mimetype": "text/x-python",
    "name": "python",
    "npconvert_exporter": "python",
    "pygments_lexer": "ipython3",
    "version": 3,
    "kernelspec": {
      "name": "python3",
      "display_name": "Python 3"
    },
    "colab": {
      "name": "web_scrapping.ipynb",
      "provenance": []
    }
  },
  "cells": [
    {
      "cell_type": "code",
      "metadata": {
        "id": "Ub-IszX-Smlu",
        "colab_type": "code",
        "colab": {}
      },
      "source": [
        "import numpy as np\n",
        "import pandas as pd\n",
        "import requests"
      ],
      "execution_count": 0,
      "outputs": []
    },
    {
      "cell_type": "code",
      "metadata": {
        "id": "6nOs-fxtXWZE",
        "colab_type": "code",
        "colab": {}
      },
      "source": [
        "bbc = ['https://www.bbc.com/news/topics/c46zkd8y97et/child-abuse', 'https://www.bbc.com/news/topics/c008ql15dvgt/domestic-abuse', 'https://www.bbc.com/news/topics/czeq09gel00t/emotional-abuse']\n",
        "bbc_topics = ['child abuse', 'domestic abuse', 'emotional abuse']"
      ],
      "execution_count": 0,
      "outputs": []
    },
    {
      "cell_type": "code",
      "metadata": {
        "tags": [
          "outputPrepend"
        ],
        "id": "083FeOhSSmlz",
        "colab_type": "code",
        "colab": {}
      },
      "source": [
        "from bs4 import BeautifulSoup\n",
        "soup = BeautifulSoup(r.text, 'html5lib')"
      ],
      "execution_count": 0,
      "outputs": []
    },
    {
      "cell_type": "markdown",
      "metadata": {
        "id": "z99ubYc3cOpw",
        "colab_type": "text"
      },
      "source": [
        "## BCC Scrapping"
      ]
    },
    {
      "cell_type": "code",
      "metadata": {
        "id": "vKskURpmSml9",
        "colab_type": "code",
        "colab": {
          "base_uri": "https://localhost:8080/",
          "height": 343
        },
        "outputId": "79ee0f9b-1bfd-4ac6-8dc1-d0caf6f88f12"
      },
      "source": [
        "df_articles = pd.DataFrame(columns=['title', 'description', 'topic', 'source'])\n",
        "l = None\n",
        "title = ''\n",
        "description = ''\n",
        "for j in range(0, len(bbc)):\n",
        "  r = requests.get(bbc[j])\n",
        "  soup = BeautifulSoup(r.text, 'html5lib')\n",
        "  summary = soup.find_all('article')\n",
        "  l = summary\n",
        "  for i in range(0, len(summary)):\n",
        "      title = summary[i].select_one('span[class=lx-stream-post__header-text]').get_text().strip()\n",
        "      try:\n",
        "        description = summary[i].select_one('p[class=qa-sty-summary]').get_text().strip()\n",
        "\n",
        "      except:\n",
        "        try:\n",
        "          description = summary[i].select_one('pre').get_text().strip()\n",
        "        except:\n",
        "            try:\n",
        "              description = summary[i].select_one('div[class=lx-stream-post-body]').get_text().strip()\n",
        "\n",
        "            except:\n",
        "              description = np.nan\n",
        "\n",
        "      df_articles.loc[len(df_articles)] = [title, description, bbc_topics[j], 'BBC']\n",
        "\n",
        "\n",
        "df_articles.head(10)"
      ],
      "execution_count": 101,
      "outputs": [
        {
          "output_type": "execute_result",
          "data": {
            "text/html": [
              "<div>\n",
              "<style scoped>\n",
              "    .dataframe tbody tr th:only-of-type {\n",
              "        vertical-align: middle;\n",
              "    }\n",
              "\n",
              "    .dataframe tbody tr th {\n",
              "        vertical-align: top;\n",
              "    }\n",
              "\n",
              "    .dataframe thead th {\n",
              "        text-align: right;\n",
              "    }\n",
              "</style>\n",
              "<table border=\"1\" class=\"dataframe\">\n",
              "  <thead>\n",
              "    <tr style=\"text-align: right;\">\n",
              "      <th></th>\n",
              "      <th>title</th>\n",
              "      <th>description</th>\n",
              "      <th>topic</th>\n",
              "      <th>source</th>\n",
              "    </tr>\n",
              "  </thead>\n",
              "  <tbody>\n",
              "    <tr>\n",
              "      <th>0</th>\n",
              "      <td>New safe space for child victims of crime</td>\n",
              "      <td>The centre will give children in Scotland a we...</td>\n",
              "      <td>child abuse</td>\n",
              "      <td>BBC</td>\n",
              "    </tr>\n",
              "    <tr>\n",
              "      <th>1</th>\n",
              "      <td>Abuse victims still allowed to leave home - Patel</td>\n",
              "      <td>The government's coronavirus rules are tougher...</td>\n",
              "      <td>child abuse</td>\n",
              "      <td>BBC</td>\n",
              "    </tr>\n",
              "    <tr>\n",
              "      <th>2</th>\n",
              "      <td>Online child abuse warning during lockdown</td>\n",
              "      <td>Europol is warning that online child abusers a...</td>\n",
              "      <td>child abuse</td>\n",
              "      <td>BBC</td>\n",
              "    </tr>\n",
              "    <tr>\n",
              "      <th>3</th>\n",
              "      <td>Grooming gang petition set to be debated by MPs</td>\n",
              "      <td>The petition calling for the release of Home O...</td>\n",
              "      <td>child abuse</td>\n",
              "      <td>BBC</td>\n",
              "    </tr>\n",
              "    <tr>\n",
              "      <th>4</th>\n",
              "      <td>Apps 'must check images for abuse before publi...</td>\n",
              "      <td>Inquiry says apps should screen posts before d...</td>\n",
              "      <td>child abuse</td>\n",
              "      <td>BBC</td>\n",
              "    </tr>\n",
              "    <tr>\n",
              "      <th>5</th>\n",
              "      <td>'Zainab's law' aims to catch child abusers</td>\n",
              "      <td>Pakistan legislates two years after the murder...</td>\n",
              "      <td>child abuse</td>\n",
              "      <td>BBC</td>\n",
              "    </tr>\n",
              "    <tr>\n",
              "      <th>6</th>\n",
              "      <td>'My search for the boy in a child abuse video'</td>\n",
              "      <td>Lucy Proctor was horrified when she was WhatsA...</td>\n",
              "      <td>child abuse</td>\n",
              "      <td>BBC</td>\n",
              "    </tr>\n",
              "    <tr>\n",
              "      <th>7</th>\n",
              "      <td>David Tait: De-stigmatise survivors of abuse</td>\n",
              "      <td>People should be able to speak openly about wh...</td>\n",
              "      <td>child abuse</td>\n",
              "      <td>BBC</td>\n",
              "    </tr>\n",
              "    <tr>\n",
              "      <th>8</th>\n",
              "      <td>'I was abused - now I want to give hope to oth...</td>\n",
              "      <td>Rhys Dickinson is using his own experience of ...</td>\n",
              "      <td>child abuse</td>\n",
              "      <td>BBC</td>\n",
              "    </tr>\n",
              "    <tr>\n",
              "      <th>9</th>\n",
              "      <td>Scientists aim to spot abusers from their hands</td>\n",
              "      <td>A study hopes to discover whether our hands ar...</td>\n",
              "      <td>child abuse</td>\n",
              "      <td>BBC</td>\n",
              "    </tr>\n",
              "  </tbody>\n",
              "</table>\n",
              "</div>"
            ],
            "text/plain": [
              "                                               title  ... source\n",
              "0          New safe space for child victims of crime  ...    BBC\n",
              "1  Abuse victims still allowed to leave home - Patel  ...    BBC\n",
              "2         Online child abuse warning during lockdown  ...    BBC\n",
              "3    Grooming gang petition set to be debated by MPs  ...    BBC\n",
              "4  Apps 'must check images for abuse before publi...  ...    BBC\n",
              "5         'Zainab's law' aims to catch child abusers  ...    BBC\n",
              "6     'My search for the boy in a child abuse video'  ...    BBC\n",
              "7       David Tait: De-stigmatise survivors of abuse  ...    BBC\n",
              "8  'I was abused - now I want to give hope to oth...  ...    BBC\n",
              "9    Scientists aim to spot abusers from their hands  ...    BBC\n",
              "\n",
              "[10 rows x 4 columns]"
            ]
          },
          "metadata": {
            "tags": []
          },
          "execution_count": 101
        }
      ]
    },
    {
      "cell_type": "markdown",
      "metadata": {
        "id": "Hq5Sf1b6dt8b",
        "colab_type": "text"
      },
      "source": [
        "## The Guardian Web Scrapping"
      ]
    },
    {
      "cell_type": "code",
      "metadata": {
        "id": "jLqY28yfnCRf",
        "colab_type": "code",
        "colab": {
          "base_uri": "https://localhost:8080/",
          "height": 168
        },
        "outputId": "e883a668-ff08-4693-fc97-9ae2104ce3f2"
      },
      "source": [
        "!pip install fake_useragent"
      ],
      "execution_count": 75,
      "outputs": [
        {
          "output_type": "stream",
          "text": [
            "Collecting fake_useragent\n",
            "  Downloading https://files.pythonhosted.org/packages/d1/79/af647635d6968e2deb57a208d309f6069d31cb138066d7e821e575112a80/fake-useragent-0.1.11.tar.gz\n",
            "Building wheels for collected packages: fake-useragent\n",
            "  Building wheel for fake-useragent (setup.py) ... \u001b[?25l\u001b[?25hdone\n",
            "  Created wheel for fake-useragent: filename=fake_useragent-0.1.11-cp36-none-any.whl size=13484 sha256=acf6a39934226388402aa24d4d68e358e6df225a0f3beb5743da9236a3044b65\n",
            "  Stored in directory: /root/.cache/pip/wheels/5e/63/09/d1dc15179f175357d3f5c00cbffbac37f9e8690d80545143ff\n",
            "Successfully built fake-useragent\n",
            "Installing collected packages: fake-useragent\n",
            "Successfully installed fake-useragent-0.1.11\n"
          ],
          "name": "stdout"
        }
      ]
    },
    {
      "cell_type": "code",
      "metadata": {
        "id": "_QWpXr3dcVJX",
        "colab_type": "code",
        "colab": {}
      },
      "source": [
        "title = ''\n",
        "description = ''\n",
        "from fake_useragent import UserAgent\n",
        "ua = UserAgent()\n",
        "header = {'User-Agent':str(ua.chrome)}"
      ],
      "execution_count": 0,
      "outputs": []
    },
    {
      "cell_type": "code",
      "metadata": {
        "id": "JOeHfvqnsxza",
        "colab_type": "code",
        "colab": {}
      },
      "source": [
        "guardian = ['https://www.google.com/search?q=the+guardian+domestic+violence&sxsrf=ALeKk02UyKuFoAN7ERlRWQJC5hQflogR6w:1586763303950&source=lnms&tbm=nws&sa=X&ved=2ahUKEwi-8cv48eToAhWMlHIEHTyqBI4Q_AUoAXoECAgQAw&biw=1707&bih=807', 'https://www.google.com/search?biw=1707&bih=807&tbm=nws&sxsrf=ALeKk03YOLBbysm5FdZngClYg1kJ2-jEgA%3A1586763305978&ei=KRaUXoevO_-sytMPicGBkAg&q=the+guardian+child+abuse&oq=the+guardian+child+abuse&gs_l=psy-ab.3...55121.56410.0.56502.11.9.0.0.0.0.185.874.0j6.6.0....0...1c.1.64.psy-ab..5.5.688...0j0i333k1j33i299k1.0.vjIIl39xdHw', 'https://www.google.com/search?biw=1707&bih=807&tbm=nws&sxsrf=ALeKk03R69iT6rQDxCraz3gzanzBVUV_rw%3A1586767259289&ei=myWUXvieEazI_QaYkbXICQ&q=the+guardian+violence&oq=the+guardian+violence&gs_l=psy-ab.3...51180.53832.0.53906.25.12.1.0.0.0.283.1281.0j6j2.8.0....0...1c.1.64.psy-ab..18.3.541...0j0i333k1.0.3AzKxZVt_F8']\n",
        "guardian_topics = ['domestic violence', 'child abuse', 'violence']"
      ],
      "execution_count": 0,
      "outputs": []
    },
    {
      "cell_type": "code",
      "metadata": {
        "id": "3IKNb8uTuFmz",
        "colab_type": "code",
        "colab": {}
      },
      "source": [
        "for i in range(0, len(guardian)):\n",
        "  res = requests.get(guardian[i], headers)\n",
        "  soup = BeautifulSoup(res.text, 'html5lib')\n",
        "  summary = soup.find_all('div', {'class': 'ZINbbc xpd O9g5cc uUPGi'})\n",
        "\n",
        "  for j in range(0, len(summary)):\n",
        "    title = summary[j].select_one('div[class*=AP7Wnd]').get_text().strip()\n",
        "    description = summary[j].select_one('div[class*=s3v9rd]').get_text().strip()\n",
        "\n",
        "    df_articles.loc[len(df_articles)] = [title, description, guardian_topics[i], 'The Guardian']"
      ],
      "execution_count": 0,
      "outputs": []
    },
    {
      "cell_type": "code",
      "metadata": {
        "id": "pvJyzPP1hSA6",
        "colab_type": "code",
        "colab": {
          "base_uri": "https://localhost:8080/",
          "height": 402
        },
        "outputId": "90d1ba52-0f96-402b-be2f-0e61fa451a15"
      },
      "source": [
        "df_articles"
      ],
      "execution_count": 152,
      "outputs": [
        {
          "output_type": "execute_result",
          "data": {
            "text/html": [
              "<div>\n",
              "<style scoped>\n",
              "    .dataframe tbody tr th:only-of-type {\n",
              "        vertical-align: middle;\n",
              "    }\n",
              "\n",
              "    .dataframe tbody tr th {\n",
              "        vertical-align: top;\n",
              "    }\n",
              "\n",
              "    .dataframe thead th {\n",
              "        text-align: right;\n",
              "    }\n",
              "</style>\n",
              "<table border=\"1\" class=\"dataframe\">\n",
              "  <thead>\n",
              "    <tr style=\"text-align: right;\">\n",
              "      <th></th>\n",
              "      <th>title</th>\n",
              "      <th>description</th>\n",
              "      <th>topic</th>\n",
              "      <th>source</th>\n",
              "    </tr>\n",
              "  </thead>\n",
              "  <tbody>\n",
              "    <tr>\n",
              "      <th>0</th>\n",
              "      <td>New safe space for child victims of crime</td>\n",
              "      <td>The centre will give children in Scotland a we...</td>\n",
              "      <td>child abuse</td>\n",
              "      <td>BBC</td>\n",
              "    </tr>\n",
              "    <tr>\n",
              "      <th>1</th>\n",
              "      <td>Abuse victims still allowed to leave home - Patel</td>\n",
              "      <td>The government's coronavirus rules are tougher...</td>\n",
              "      <td>child abuse</td>\n",
              "      <td>BBC</td>\n",
              "    </tr>\n",
              "    <tr>\n",
              "      <th>2</th>\n",
              "      <td>Online child abuse warning during lockdown</td>\n",
              "      <td>Europol is warning that online child abusers a...</td>\n",
              "      <td>child abuse</td>\n",
              "      <td>BBC</td>\n",
              "    </tr>\n",
              "    <tr>\n",
              "      <th>3</th>\n",
              "      <td>Grooming gang petition set to be debated by MPs</td>\n",
              "      <td>The petition calling for the release of Home O...</td>\n",
              "      <td>child abuse</td>\n",
              "      <td>BBC</td>\n",
              "    </tr>\n",
              "    <tr>\n",
              "      <th>4</th>\n",
              "      <td>Apps 'must check images for abuse before publi...</td>\n",
              "      <td>Inquiry says apps should screen posts before d...</td>\n",
              "      <td>child abuse</td>\n",
              "      <td>BBC</td>\n",
              "    </tr>\n",
              "    <tr>\n",
              "      <th>...</th>\n",
              "      <td>...</td>\n",
              "      <td>...</td>\n",
              "      <td>...</td>\n",
              "      <td>...</td>\n",
              "    </tr>\n",
              "    <tr>\n",
              "      <th>58</th>\n",
              "      <td>I know the trauma of abuse in the home, so I f...</td>\n",
              "      <td>1 day ago · In the first fortnight of lockdown...</td>\n",
              "      <td>violence</td>\n",
              "      <td>The Guardian</td>\n",
              "    </tr>\n",
              "    <tr>\n",
              "      <th>59</th>\n",
              "      <td>In quarantine with an abuser: surge in domesti...</td>\n",
              "      <td>1 week ago · Cases typically spike in times of...</td>\n",
              "      <td>violence</td>\n",
              "      <td>The Guardian</td>\n",
              "    </tr>\n",
              "    <tr>\n",
              "      <th>60</th>\n",
              "      <td>Domestic abuse cases soar as lockdown takes it...</td>\n",
              "      <td>1 week ago · More than 25 organisations helpin...</td>\n",
              "      <td>violence</td>\n",
              "      <td>The Guardian</td>\n",
              "    </tr>\n",
              "    <tr>\n",
              "      <th>61</th>\n",
              "      <td>UK pharmacists facing abuse and violence durin...</td>\n",
              "      <td>1 week ago · Police patrols have been deployed...</td>\n",
              "      <td>violence</td>\n",
              "      <td>The Guardian</td>\n",
              "    </tr>\n",
              "    <tr>\n",
              "      <th>62</th>\n",
              "      <td>Lockdowns around the world bring rise in domes...</td>\n",
              "      <td>2 weeks ago · Activists say pattern of increas...</td>\n",
              "      <td>violence</td>\n",
              "      <td>The Guardian</td>\n",
              "    </tr>\n",
              "  </tbody>\n",
              "</table>\n",
              "<p>63 rows × 4 columns</p>\n",
              "</div>"
            ],
            "text/plain": [
              "                                                title  ...        source\n",
              "0           New safe space for child victims of crime  ...           BBC\n",
              "1   Abuse victims still allowed to leave home - Patel  ...           BBC\n",
              "2          Online child abuse warning during lockdown  ...           BBC\n",
              "3     Grooming gang petition set to be debated by MPs  ...           BBC\n",
              "4   Apps 'must check images for abuse before publi...  ...           BBC\n",
              "..                                                ...  ...           ...\n",
              "58  I know the trauma of abuse in the home, so I f...  ...  The Guardian\n",
              "59  In quarantine with an abuser: surge in domesti...  ...  The Guardian\n",
              "60  Domestic abuse cases soar as lockdown takes it...  ...  The Guardian\n",
              "61  UK pharmacists facing abuse and violence durin...  ...  The Guardian\n",
              "62  Lockdowns around the world bring rise in domes...  ...  The Guardian\n",
              "\n",
              "[63 rows x 4 columns]"
            ]
          },
          "metadata": {
            "tags": []
          },
          "execution_count": 152
        }
      ]
    }
  ]
}