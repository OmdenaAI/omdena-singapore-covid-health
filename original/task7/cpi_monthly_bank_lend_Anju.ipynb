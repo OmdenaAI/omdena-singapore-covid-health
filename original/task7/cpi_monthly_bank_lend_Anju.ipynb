{
  "nbformat": 4,
  "nbformat_minor": 0,
  "metadata": {
    "colab": {
      "name": "cpi_monthly_bank_lend_Anju.ipynb",
      "provenance": []
    },
    "kernelspec": {
      "name": "python3",
      "display_name": "Python 3"
    }
  },
  "cells": [
    {
      "cell_type": "code",
      "metadata": {
        "id": "2wjseen0zIJl",
        "colab_type": "code",
        "outputId": "cf8005cc-a9ec-4663-96c8-e4ac499c336e",
        "colab": {
          "base_uri": "https://localhost:8080/",
          "height": 122
        }
      },
      "source": [
        "from google.colab import drive\n",
        "\n",
        "drive.mount('/content/gdrive')"
      ],
      "execution_count": 1,
      "outputs": [
        {
          "output_type": "stream",
          "text": [
            "Go to this URL in a browser: https://accounts.google.com/o/oauth2/auth?client_id=947318989803-6bn6qk8qdgf4n4g3pfee6491hc0brc4i.apps.googleusercontent.com&redirect_uri=urn%3aietf%3awg%3aoauth%3a2.0%3aoob&response_type=code&scope=email%20https%3a%2f%2fwww.googleapis.com%2fauth%2fdocs.test%20https%3a%2f%2fwww.googleapis.com%2fauth%2fdrive%20https%3a%2f%2fwww.googleapis.com%2fauth%2fdrive.photos.readonly%20https%3a%2f%2fwww.googleapis.com%2fauth%2fpeopleapi.readonly\n",
            "\n",
            "Enter your authorization code:\n",
            "··········\n",
            "Mounted at /content/gdrive\n"
          ],
          "name": "stdout"
        }
      ]
    },
    {
      "cell_type": "code",
      "metadata": {
        "id": "i6l3tnynzoou",
        "colab_type": "code",
        "outputId": "d7866426-87ba-47dc-860a-72b7a4c5001e",
        "colab": {
          "base_uri": "https://localhost:8080/",
          "height": 136
        }
      },
      "source": [
        "!ls \"/content/gdrive/My Drive/Omdena Pandemic/dataset\""
      ],
      "execution_count": 2,
      "outputs": [
        {
          "output_type": "stream",
          "text": [
            " bank-lending-rate-forecast.csv         ilostat_1.csv\n",
            " consumer_price_index.csv\t        ilostat_2020_min_wages.csv\n",
            "'COVID19EconomicImpact 10Mar2020.csv'   ilostat_2.csv\n",
            " CPI_monthly.csv\t\t        ilostat_sex_rural.csv\n",
            " excahnge_rates.csv\t\t        ilostat_tatest_area.csv\n",
            " exchange.csv\t\t\t        minimum_wages_te.csv\n",
            " iHDI_cleaned.csv\t\t       'minimum_wages_trading economics.gsheet'\n"
          ],
          "name": "stdout"
        }
      ]
    },
    {
      "cell_type": "code",
      "metadata": {
        "id": "vsuJIA6zztdz",
        "colab_type": "code",
        "colab": {
          "base_uri": "https://localhost:8080/",
          "height": 51
        },
        "outputId": "4cd989fe-ebb7-4faf-bd02-156aefd6bc14"
      },
      "source": [
        "import pandas as pd\n",
        "import numpy as np\n",
        "import matplotlib.pyplot as plt\n",
        "import seaborn as sns\n",
        "from sklearn import preprocessing\n",
        "\n",
        "\n",
        "%matplotlib inline"
      ],
      "execution_count": 3,
      "outputs": [
        {
          "output_type": "stream",
          "text": [
            "/usr/local/lib/python3.6/dist-packages/statsmodels/tools/_testing.py:19: FutureWarning: pandas.util.testing is deprecated. Use the functions in the public API at pandas.testing instead.\n",
            "  import pandas.util.testing as tm\n"
          ],
          "name": "stderr"
        }
      ]
    },
    {
      "cell_type": "code",
      "metadata": {
        "id": "4RuTHfI15UE0",
        "colab_type": "code",
        "colab": {}
      },
      "source": [
        "hdi_index = \"/content/gdrive/My Drive/Omdena Pandemic/dataset/iHDI_cleaned.csv\"\n",
        "cpi_monthly = \"/content/gdrive/My Drive/Omdena Pandemic/dataset/CPI_monthly.csv\"\n",
        "bank_lending_rate = \"/content/gdrive/My Drive/Omdena Pandemic/dataset/bank-lending-rate-forecast.csv\""
      ],
      "execution_count": 0,
      "outputs": []
    },
    {
      "cell_type": "code",
      "metadata": {
        "id": "Xxwuqcze5ZcS",
        "colab_type": "code",
        "colab": {}
      },
      "source": [
        "data_hdi = pd.read_csv(hdi_index)"
      ],
      "execution_count": 0,
      "outputs": []
    },
    {
      "cell_type": "code",
      "metadata": {
        "id": "MC-o1Hq95kq1",
        "colab_type": "code",
        "outputId": "ffd200d4-92f0-4d61-9ebf-627e0d55155c",
        "colab": {
          "base_uri": "https://localhost:8080/",
          "height": 204
        }
      },
      "source": [
        "data_hdi.head()"
      ],
      "execution_count": 6,
      "outputs": [
        {
          "output_type": "execute_result",
          "data": {
            "text/html": [
              "<div>\n",
              "<style scoped>\n",
              "    .dataframe tbody tr th:only-of-type {\n",
              "        vertical-align: middle;\n",
              "    }\n",
              "\n",
              "    .dataframe tbody tr th {\n",
              "        vertical-align: top;\n",
              "    }\n",
              "\n",
              "    .dataframe thead th {\n",
              "        text-align: right;\n",
              "    }\n",
              "</style>\n",
              "<table border=\"1\" class=\"dataframe\">\n",
              "  <thead>\n",
              "    <tr style=\"text-align: right;\">\n",
              "      <th></th>\n",
              "      <th>Country</th>\n",
              "      <th>iHDI_index</th>\n",
              "      <th>iHDI_group</th>\n",
              "    </tr>\n",
              "  </thead>\n",
              "  <tbody>\n",
              "    <tr>\n",
              "      <th>0</th>\n",
              "      <td>Afghanistan</td>\n",
              "      <td>0.347</td>\n",
              "      <td>low</td>\n",
              "    </tr>\n",
              "    <tr>\n",
              "      <th>1</th>\n",
              "      <td>Albania</td>\n",
              "      <td>0.705</td>\n",
              "      <td>very high</td>\n",
              "    </tr>\n",
              "    <tr>\n",
              "      <th>2</th>\n",
              "      <td>Algeria</td>\n",
              "      <td>0.604</td>\n",
              "      <td>high</td>\n",
              "    </tr>\n",
              "    <tr>\n",
              "      <th>3</th>\n",
              "      <td>Angola</td>\n",
              "      <td>0.392</td>\n",
              "      <td>medium</td>\n",
              "    </tr>\n",
              "    <tr>\n",
              "      <th>4</th>\n",
              "      <td>Argentina</td>\n",
              "      <td>0.714</td>\n",
              "      <td>very high</td>\n",
              "    </tr>\n",
              "  </tbody>\n",
              "</table>\n",
              "</div>"
            ],
            "text/plain": [
              "       Country  iHDI_index iHDI_group\n",
              "0  Afghanistan       0.347        low\n",
              "1      Albania       0.705  very high\n",
              "2      Algeria       0.604       high\n",
              "3       Angola       0.392     medium\n",
              "4    Argentina       0.714  very high"
            ]
          },
          "metadata": {
            "tags": []
          },
          "execution_count": 6
        }
      ]
    },
    {
      "cell_type": "code",
      "metadata": {
        "id": "e5xwurLe5o8Y",
        "colab_type": "code",
        "colab": {
          "base_uri": "https://localhost:8080/",
          "height": 102
        },
        "outputId": "21ffba21-c6b9-4c11-bb85-b2fe4322c452"
      },
      "source": [
        "#finding the different groups\n",
        "data_hdi['iHDI_group'].value_counts()"
      ],
      "execution_count": 7,
      "outputs": [
        {
          "output_type": "execute_result",
          "data": {
            "text/plain": [
              "very high    71\n",
              "medium       38\n",
              "high         30\n",
              "low          26\n",
              "Name: iHDI_group, dtype: int64"
            ]
          },
          "metadata": {
            "tags": []
          },
          "execution_count": 7
        }
      ]
    },
    {
      "cell_type": "code",
      "metadata": {
        "id": "ooWhv5YsrwVM",
        "colab_type": "code",
        "colab": {
          "base_uri": "https://localhost:8080/",
          "height": 450
        },
        "outputId": "c4186865-b46f-47db-abcd-89528d812adf"
      },
      "source": [
        "#lets group by country and the iHDO group\n",
        "data_hdi.groupby(['iHDI_group','Country']).count()"
      ],
      "execution_count": 8,
      "outputs": [
        {
          "output_type": "execute_result",
          "data": {
            "text/html": [
              "<div>\n",
              "<style scoped>\n",
              "    .dataframe tbody tr th:only-of-type {\n",
              "        vertical-align: middle;\n",
              "    }\n",
              "\n",
              "    .dataframe tbody tr th {\n",
              "        vertical-align: top;\n",
              "    }\n",
              "\n",
              "    .dataframe thead th {\n",
              "        text-align: right;\n",
              "    }\n",
              "</style>\n",
              "<table border=\"1\" class=\"dataframe\">\n",
              "  <thead>\n",
              "    <tr style=\"text-align: right;\">\n",
              "      <th></th>\n",
              "      <th></th>\n",
              "      <th>iHDI_index</th>\n",
              "    </tr>\n",
              "    <tr>\n",
              "      <th>iHDI_group</th>\n",
              "      <th>Country</th>\n",
              "      <th></th>\n",
              "    </tr>\n",
              "  </thead>\n",
              "  <tbody>\n",
              "    <tr>\n",
              "      <th rowspan=\"5\" valign=\"top\">high</th>\n",
              "      <th>Algeria</th>\n",
              "      <td>1</td>\n",
              "    </tr>\n",
              "    <tr>\n",
              "      <th>Belize</th>\n",
              "      <td>1</td>\n",
              "    </tr>\n",
              "    <tr>\n",
              "      <th>Bolivia (Plurinational State of)</th>\n",
              "      <td>1</td>\n",
              "    </tr>\n",
              "    <tr>\n",
              "      <th>Brazil</th>\n",
              "      <td>1</td>\n",
              "    </tr>\n",
              "    <tr>\n",
              "      <th>Colombia</th>\n",
              "      <td>1</td>\n",
              "    </tr>\n",
              "    <tr>\n",
              "      <th>...</th>\n",
              "      <th>...</th>\n",
              "      <td>...</td>\n",
              "    </tr>\n",
              "    <tr>\n",
              "      <th rowspan=\"5\" valign=\"top\">very high</th>\n",
              "      <th>Turkey</th>\n",
              "      <td>1</td>\n",
              "    </tr>\n",
              "    <tr>\n",
              "      <th>Ukraine</th>\n",
              "      <td>1</td>\n",
              "    </tr>\n",
              "    <tr>\n",
              "      <th>United Kingdom</th>\n",
              "      <td>1</td>\n",
              "    </tr>\n",
              "    <tr>\n",
              "      <th>United States</th>\n",
              "      <td>1</td>\n",
              "    </tr>\n",
              "    <tr>\n",
              "      <th>Uruguay</th>\n",
              "      <td>1</td>\n",
              "    </tr>\n",
              "  </tbody>\n",
              "</table>\n",
              "<p>165 rows × 1 columns</p>\n",
              "</div>"
            ],
            "text/plain": [
              "                                             iHDI_index\n",
              "iHDI_group Country                                     \n",
              "high       Algeria                                    1\n",
              "           Belize                                     1\n",
              "           Bolivia (Plurinational State of)           1\n",
              "           Brazil                                     1\n",
              "           Colombia                                   1\n",
              "...                                                 ...\n",
              "very high  Turkey                                     1\n",
              "           Ukraine                                    1\n",
              "           United Kingdom                             1\n",
              "           United States                              1\n",
              "           Uruguay                                    1\n",
              "\n",
              "[165 rows x 1 columns]"
            ]
          },
          "metadata": {
            "tags": []
          },
          "execution_count": 8
        }
      ]
    },
    {
      "cell_type": "code",
      "metadata": {
        "id": "OqCwE4GlxUNa",
        "colab_type": "code",
        "colab": {
          "base_uri": "https://localhost:8080/",
          "height": 297
        },
        "outputId": "235d3b55-7a67-4044-fcde-9c76de7c4450"
      },
      "source": [
        "sns.countplot(x=data_hdi['iHDI_group'])"
      ],
      "execution_count": 9,
      "outputs": [
        {
          "output_type": "execute_result",
          "data": {
            "text/plain": [
              "<matplotlib.axes._subplots.AxesSubplot at 0x7fb1fea716d8>"
            ]
          },
          "metadata": {
            "tags": []
          },
          "execution_count": 9
        },
        {
          "output_type": "display_data",
          "data": {
            "image/png": "[encoded data removed]",
            "text/plain": [
              "<Figure size 432x288 with 1 Axes>"
            ]
          },
          "metadata": {
            "tags": [],
            "needs_background": "light"
          }
        }
      ]
    },
    {
      "cell_type": "code",
      "metadata": {
        "id": "vicAZSjysEy5",
        "colab_type": "code",
        "colab": {
          "base_uri": "https://localhost:8080/",
          "height": 1000
        },
        "outputId": "7d27fafd-1c6d-42e2-aba2-4bd78c4be118"
      },
      "source": [
        "#let's try plotting\n",
        "plt.figure(figsize=(15,20))\n",
        "x = data_hdi['iHDI_group']\n",
        "y=data_hdi['Country']\n",
        "\n",
        "plt.scatter(x,y)"
      ],
      "execution_count": 10,
      "outputs": [
        {
          "output_type": "execute_result",
          "data": {
            "text/plain": [
              "<matplotlib.collections.PathCollection at 0x7fb1fe4d3550>"
            ]
          },
          "metadata": {
            "tags": []
          },
          "execution_count": 10
        },
        {
          "output_type": "display_data",
          "data": {
            "image/png": "[encoded data removed]",
            "text/plain": [
              "<Figure size 1080x1440 with 1 Axes>"
            ]
          },
          "metadata": {
            "tags": [],
            "needs_background": "light"
          }
        }
      ]
    },
    {
      "cell_type": "code",
      "metadata": {
        "id": "YOVUrIgVxfme",
        "colab_type": "code",
        "colab": {}
      },
      "source": [
        "#Consumer Price Index\n",
        "data_cpi = pd.read_csv(cpi_monthly)"
      ],
      "execution_count": 0,
      "outputs": []
    },
    {
      "cell_type": "code",
      "metadata": {
        "id": "BJJquxw3xlKb",
        "colab_type": "code",
        "colab": {
          "base_uri": "https://localhost:8080/",
          "height": 204
        },
        "outputId": "2b3a6fe9-4474-494a-f4fc-48977eaa6955"
      },
      "source": [
        "data_cpi.head()"
      ],
      "execution_count": 12,
      "outputs": [
        {
          "output_type": "execute_result",
          "data": {
            "text/html": [
              "<div>\n",
              "<style scoped>\n",
              "    .dataframe tbody tr th:only-of-type {\n",
              "        vertical-align: middle;\n",
              "    }\n",
              "\n",
              "    .dataframe tbody tr th {\n",
              "        vertical-align: top;\n",
              "    }\n",
              "\n",
              "    .dataframe thead th {\n",
              "        text-align: right;\n",
              "    }\n",
              "</style>\n",
              "<table border=\"1\" class=\"dataframe\">\n",
              "  <thead>\n",
              "    <tr style=\"text-align: right;\">\n",
              "      <th></th>\n",
              "      <th>ref_area.label</th>\n",
              "      <th>indicator.label</th>\n",
              "      <th>source.label</th>\n",
              "      <th>classif1.label</th>\n",
              "      <th>time</th>\n",
              "      <th>obs_value</th>\n",
              "      <th>note_indicator.label</th>\n",
              "      <th>note_source.label</th>\n",
              "    </tr>\n",
              "  </thead>\n",
              "  <tbody>\n",
              "    <tr>\n",
              "      <th>0</th>\n",
              "      <td>Aruba</td>\n",
              "      <td>National consumer price index (CPI) by COICOP,...</td>\n",
              "      <td>ABW - CPS - Consumer Price Index</td>\n",
              "      <td>COICOP (Selected categories): General</td>\n",
              "      <td>2018M01</td>\n",
              "      <td>1.06</td>\n",
              "      <td>Frequency: Monthly</td>\n",
              "      <td>Repository: International Monetary Fund</td>\n",
              "    </tr>\n",
              "    <tr>\n",
              "      <th>1</th>\n",
              "      <td>Aruba</td>\n",
              "      <td>National consumer price index (CPI) by COICOP,...</td>\n",
              "      <td>ABW - CPS - Consumer Price Index</td>\n",
              "      <td>COICOP (Selected categories): Food and non-alc...</td>\n",
              "      <td>2018M01</td>\n",
              "      <td>2.21</td>\n",
              "      <td>Frequency: Monthly</td>\n",
              "      <td>Repository: International Monetary Fund</td>\n",
              "    </tr>\n",
              "    <tr>\n",
              "      <th>2</th>\n",
              "      <td>Aruba</td>\n",
              "      <td>National consumer price index (CPI) by COICOP,...</td>\n",
              "      <td>ABW - CPS - Consumer Price Index</td>\n",
              "      <td>COICOP (Selected categories): General</td>\n",
              "      <td>2018M02</td>\n",
              "      <td>2.12</td>\n",
              "      <td>Frequency: Monthly</td>\n",
              "      <td>Repository: International Monetary Fund</td>\n",
              "    </tr>\n",
              "    <tr>\n",
              "      <th>3</th>\n",
              "      <td>Aruba</td>\n",
              "      <td>National consumer price index (CPI) by COICOP,...</td>\n",
              "      <td>ABW - CPS - Consumer Price Index</td>\n",
              "      <td>COICOP (Selected categories): Food and non-alc...</td>\n",
              "      <td>2018M02</td>\n",
              "      <td>10.07</td>\n",
              "      <td>Frequency: Monthly</td>\n",
              "      <td>Repository: International Monetary Fund</td>\n",
              "    </tr>\n",
              "    <tr>\n",
              "      <th>4</th>\n",
              "      <td>Aruba</td>\n",
              "      <td>National consumer price index (CPI) by COICOP,...</td>\n",
              "      <td>ABW - CPS - Consumer Price Index</td>\n",
              "      <td>COICOP (Selected categories): General</td>\n",
              "      <td>2018M03</td>\n",
              "      <td>3.21</td>\n",
              "      <td>Frequency: Monthly</td>\n",
              "      <td>Repository: International Monetary Fund</td>\n",
              "    </tr>\n",
              "  </tbody>\n",
              "</table>\n",
              "</div>"
            ],
            "text/plain": [
              "  ref_area.label  ...                        note_source.label\n",
              "0          Aruba  ...  Repository: International Monetary Fund\n",
              "1          Aruba  ...  Repository: International Monetary Fund\n",
              "2          Aruba  ...  Repository: International Monetary Fund\n",
              "3          Aruba  ...  Repository: International Monetary Fund\n",
              "4          Aruba  ...  Repository: International Monetary Fund\n",
              "\n",
              "[5 rows x 8 columns]"
            ]
          },
          "metadata": {
            "tags": []
          },
          "execution_count": 12
        }
      ]
    },
    {
      "cell_type": "code",
      "metadata": {
        "id": "4F-EvYQ3xnQy",
        "colab_type": "code",
        "colab": {}
      },
      "source": [
        "#dropping columns that may not be needed for analysis.\n",
        "data_cpi = data_cpi.drop(['indicator.label','source.label','note_source.label'],axis=1)"
      ],
      "execution_count": 0,
      "outputs": []
    },
    {
      "cell_type": "code",
      "metadata": {
        "id": "wiGsJdgS7tgd",
        "colab_type": "code",
        "colab": {
          "base_uri": "https://localhost:8080/",
          "height": 204
        },
        "outputId": "54de7ab5-dbc5-479b-e24d-a65d9d5751bc"
      },
      "source": [
        "data_cpi.head()"
      ],
      "execution_count": 14,
      "outputs": [
        {
          "output_type": "execute_result",
          "data": {
            "text/html": [
              "<div>\n",
              "<style scoped>\n",
              "    .dataframe tbody tr th:only-of-type {\n",
              "        vertical-align: middle;\n",
              "    }\n",
              "\n",
              "    .dataframe tbody tr th {\n",
              "        vertical-align: top;\n",
              "    }\n",
              "\n",
              "    .dataframe thead th {\n",
              "        text-align: right;\n",
              "    }\n",
              "</style>\n",
              "<table border=\"1\" class=\"dataframe\">\n",
              "  <thead>\n",
              "    <tr style=\"text-align: right;\">\n",
              "      <th></th>\n",
              "      <th>ref_area.label</th>\n",
              "      <th>classif1.label</th>\n",
              "      <th>time</th>\n",
              "      <th>obs_value</th>\n",
              "      <th>note_indicator.label</th>\n",
              "    </tr>\n",
              "  </thead>\n",
              "  <tbody>\n",
              "    <tr>\n",
              "      <th>0</th>\n",
              "      <td>Aruba</td>\n",
              "      <td>COICOP (Selected categories): General</td>\n",
              "      <td>2018M01</td>\n",
              "      <td>1.06</td>\n",
              "      <td>Frequency: Monthly</td>\n",
              "    </tr>\n",
              "    <tr>\n",
              "      <th>1</th>\n",
              "      <td>Aruba</td>\n",
              "      <td>COICOP (Selected categories): Food and non-alc...</td>\n",
              "      <td>2018M01</td>\n",
              "      <td>2.21</td>\n",
              "      <td>Frequency: Monthly</td>\n",
              "    </tr>\n",
              "    <tr>\n",
              "      <th>2</th>\n",
              "      <td>Aruba</td>\n",
              "      <td>COICOP (Selected categories): General</td>\n",
              "      <td>2018M02</td>\n",
              "      <td>2.12</td>\n",
              "      <td>Frequency: Monthly</td>\n",
              "    </tr>\n",
              "    <tr>\n",
              "      <th>3</th>\n",
              "      <td>Aruba</td>\n",
              "      <td>COICOP (Selected categories): Food and non-alc...</td>\n",
              "      <td>2018M02</td>\n",
              "      <td>10.07</td>\n",
              "      <td>Frequency: Monthly</td>\n",
              "    </tr>\n",
              "    <tr>\n",
              "      <th>4</th>\n",
              "      <td>Aruba</td>\n",
              "      <td>COICOP (Selected categories): General</td>\n",
              "      <td>2018M03</td>\n",
              "      <td>3.21</td>\n",
              "      <td>Frequency: Monthly</td>\n",
              "    </tr>\n",
              "  </tbody>\n",
              "</table>\n",
              "</div>"
            ],
            "text/plain": [
              "  ref_area.label  ... note_indicator.label\n",
              "0          Aruba  ...   Frequency: Monthly\n",
              "1          Aruba  ...   Frequency: Monthly\n",
              "2          Aruba  ...   Frequency: Monthly\n",
              "3          Aruba  ...   Frequency: Monthly\n",
              "4          Aruba  ...   Frequency: Monthly\n",
              "\n",
              "[5 rows x 5 columns]"
            ]
          },
          "metadata": {
            "tags": []
          },
          "execution_count": 14
        }
      ]
    },
    {
      "cell_type": "code",
      "metadata": {
        "id": "oLbYneVg7xo4",
        "colab_type": "code",
        "colab": {}
      },
      "source": [
        "#data_cpi['classif1.label'].str.split(':',expand=True)\n",
        "data_cpi[['classification','category']] = data_cpi['classif1.label'].str.split(':',expand=True)"
      ],
      "execution_count": 0,
      "outputs": []
    },
    {
      "cell_type": "code",
      "metadata": {
        "id": "MjPvQbm287Cl",
        "colab_type": "code",
        "colab": {
          "base_uri": "https://localhost:8080/",
          "height": 204
        },
        "outputId": "212f53f0-1c47-4fd2-8cae-81831ca1d63e"
      },
      "source": [
        "data_cpi.head()"
      ],
      "execution_count": 16,
      "outputs": [
        {
          "output_type": "execute_result",
          "data": {
            "text/html": [
              "<div>\n",
              "<style scoped>\n",
              "    .dataframe tbody tr th:only-of-type {\n",
              "        vertical-align: middle;\n",
              "    }\n",
              "\n",
              "    .dataframe tbody tr th {\n",
              "        vertical-align: top;\n",
              "    }\n",
              "\n",
              "    .dataframe thead th {\n",
              "        text-align: right;\n",
              "    }\n",
              "</style>\n",
              "<table border=\"1\" class=\"dataframe\">\n",
              "  <thead>\n",
              "    <tr style=\"text-align: right;\">\n",
              "      <th></th>\n",
              "      <th>ref_area.label</th>\n",
              "      <th>classif1.label</th>\n",
              "      <th>time</th>\n",
              "      <th>obs_value</th>\n",
              "      <th>note_indicator.label</th>\n",
              "      <th>classification</th>\n",
              "      <th>category</th>\n",
              "    </tr>\n",
              "  </thead>\n",
              "  <tbody>\n",
              "    <tr>\n",
              "      <th>0</th>\n",
              "      <td>Aruba</td>\n",
              "      <td>COICOP (Selected categories): General</td>\n",
              "      <td>2018M01</td>\n",
              "      <td>1.06</td>\n",
              "      <td>Frequency: Monthly</td>\n",
              "      <td>COICOP (Selected categories)</td>\n",
              "      <td>General</td>\n",
              "    </tr>\n",
              "    <tr>\n",
              "      <th>1</th>\n",
              "      <td>Aruba</td>\n",
              "      <td>COICOP (Selected categories): Food and non-alc...</td>\n",
              "      <td>2018M01</td>\n",
              "      <td>2.21</td>\n",
              "      <td>Frequency: Monthly</td>\n",
              "      <td>COICOP (Selected categories)</td>\n",
              "      <td>Food and non-alcoholic beverages</td>\n",
              "    </tr>\n",
              "    <tr>\n",
              "      <th>2</th>\n",
              "      <td>Aruba</td>\n",
              "      <td>COICOP (Selected categories): General</td>\n",
              "      <td>2018M02</td>\n",
              "      <td>2.12</td>\n",
              "      <td>Frequency: Monthly</td>\n",
              "      <td>COICOP (Selected categories)</td>\n",
              "      <td>General</td>\n",
              "    </tr>\n",
              "    <tr>\n",
              "      <th>3</th>\n",
              "      <td>Aruba</td>\n",
              "      <td>COICOP (Selected categories): Food and non-alc...</td>\n",
              "      <td>2018M02</td>\n",
              "      <td>10.07</td>\n",
              "      <td>Frequency: Monthly</td>\n",
              "      <td>COICOP (Selected categories)</td>\n",
              "      <td>Food and non-alcoholic beverages</td>\n",
              "    </tr>\n",
              "    <tr>\n",
              "      <th>4</th>\n",
              "      <td>Aruba</td>\n",
              "      <td>COICOP (Selected categories): General</td>\n",
              "      <td>2018M03</td>\n",
              "      <td>3.21</td>\n",
              "      <td>Frequency: Monthly</td>\n",
              "      <td>COICOP (Selected categories)</td>\n",
              "      <td>General</td>\n",
              "    </tr>\n",
              "  </tbody>\n",
              "</table>\n",
              "</div>"
            ],
            "text/plain": [
              "  ref_area.label  ...                           category\n",
              "0          Aruba  ...                            General\n",
              "1          Aruba  ...   Food and non-alcoholic beverages\n",
              "2          Aruba  ...                            General\n",
              "3          Aruba  ...   Food and non-alcoholic beverages\n",
              "4          Aruba  ...                            General\n",
              "\n",
              "[5 rows x 7 columns]"
            ]
          },
          "metadata": {
            "tags": []
          },
          "execution_count": 16
        }
      ]
    },
    {
      "cell_type": "code",
      "metadata": {
        "id": "m_C1ObTC8_nx",
        "colab_type": "code",
        "colab": {}
      },
      "source": [
        "data_cpi[['note_indicator','frequency']] = data_cpi['note_indicator.label'].str.split(':',expand=True)"
      ],
      "execution_count": 0,
      "outputs": []
    },
    {
      "cell_type": "code",
      "metadata": {
        "id": "hD7hWnzZ9Obv",
        "colab_type": "code",
        "colab": {
          "base_uri": "https://localhost:8080/",
          "height": 204
        },
        "outputId": "b812a3ba-5e42-47de-f7e8-005d4a7cee4d"
      },
      "source": [
        "data_cpi.head()"
      ],
      "execution_count": 18,
      "outputs": [
        {
          "output_type": "execute_result",
          "data": {
            "text/html": [
              "<div>\n",
              "<style scoped>\n",
              "    .dataframe tbody tr th:only-of-type {\n",
              "        vertical-align: middle;\n",
              "    }\n",
              "\n",
              "    .dataframe tbody tr th {\n",
              "        vertical-align: top;\n",
              "    }\n",
              "\n",
              "    .dataframe thead th {\n",
              "        text-align: right;\n",
              "    }\n",
              "</style>\n",
              "<table border=\"1\" class=\"dataframe\">\n",
              "  <thead>\n",
              "    <tr style=\"text-align: right;\">\n",
              "      <th></th>\n",
              "      <th>ref_area.label</th>\n",
              "      <th>classif1.label</th>\n",
              "      <th>time</th>\n",
              "      <th>obs_value</th>\n",
              "      <th>note_indicator.label</th>\n",
              "      <th>classification</th>\n",
              "      <th>category</th>\n",
              "      <th>note_indicator</th>\n",
              "      <th>frequency</th>\n",
              "    </tr>\n",
              "  </thead>\n",
              "  <tbody>\n",
              "    <tr>\n",
              "      <th>0</th>\n",
              "      <td>Aruba</td>\n",
              "      <td>COICOP (Selected categories): General</td>\n",
              "      <td>2018M01</td>\n",
              "      <td>1.06</td>\n",
              "      <td>Frequency: Monthly</td>\n",
              "      <td>COICOP (Selected categories)</td>\n",
              "      <td>General</td>\n",
              "      <td>Frequency</td>\n",
              "      <td>Monthly</td>\n",
              "    </tr>\n",
              "    <tr>\n",
              "      <th>1</th>\n",
              "      <td>Aruba</td>\n",
              "      <td>COICOP (Selected categories): Food and non-alc...</td>\n",
              "      <td>2018M01</td>\n",
              "      <td>2.21</td>\n",
              "      <td>Frequency: Monthly</td>\n",
              "      <td>COICOP (Selected categories)</td>\n",
              "      <td>Food and non-alcoholic beverages</td>\n",
              "      <td>Frequency</td>\n",
              "      <td>Monthly</td>\n",
              "    </tr>\n",
              "    <tr>\n",
              "      <th>2</th>\n",
              "      <td>Aruba</td>\n",
              "      <td>COICOP (Selected categories): General</td>\n",
              "      <td>2018M02</td>\n",
              "      <td>2.12</td>\n",
              "      <td>Frequency: Monthly</td>\n",
              "      <td>COICOP (Selected categories)</td>\n",
              "      <td>General</td>\n",
              "      <td>Frequency</td>\n",
              "      <td>Monthly</td>\n",
              "    </tr>\n",
              "    <tr>\n",
              "      <th>3</th>\n",
              "      <td>Aruba</td>\n",
              "      <td>COICOP (Selected categories): Food and non-alc...</td>\n",
              "      <td>2018M02</td>\n",
              "      <td>10.07</td>\n",
              "      <td>Frequency: Monthly</td>\n",
              "      <td>COICOP (Selected categories)</td>\n",
              "      <td>Food and non-alcoholic beverages</td>\n",
              "      <td>Frequency</td>\n",
              "      <td>Monthly</td>\n",
              "    </tr>\n",
              "    <tr>\n",
              "      <th>4</th>\n",
              "      <td>Aruba</td>\n",
              "      <td>COICOP (Selected categories): General</td>\n",
              "      <td>2018M03</td>\n",
              "      <td>3.21</td>\n",
              "      <td>Frequency: Monthly</td>\n",
              "      <td>COICOP (Selected categories)</td>\n",
              "      <td>General</td>\n",
              "      <td>Frequency</td>\n",
              "      <td>Monthly</td>\n",
              "    </tr>\n",
              "  </tbody>\n",
              "</table>\n",
              "</div>"
            ],
            "text/plain": [
              "  ref_area.label  ... frequency\n",
              "0          Aruba  ...   Monthly\n",
              "1          Aruba  ...   Monthly\n",
              "2          Aruba  ...   Monthly\n",
              "3          Aruba  ...   Monthly\n",
              "4          Aruba  ...   Monthly\n",
              "\n",
              "[5 rows x 9 columns]"
            ]
          },
          "metadata": {
            "tags": []
          },
          "execution_count": 18
        }
      ]
    },
    {
      "cell_type": "code",
      "metadata": {
        "id": "ZjQK__BozqVK",
        "colab_type": "code",
        "colab": {}
      },
      "source": [
        "data_cpi = data_cpi.drop(['classif1.label','note_indicator.label','classification','note_indicator'],axis=1)"
      ],
      "execution_count": 0,
      "outputs": []
    },
    {
      "cell_type": "code",
      "metadata": {
        "id": "v0vhtc-z9riA",
        "colab_type": "code",
        "colab": {
          "base_uri": "https://localhost:8080/",
          "height": 204
        },
        "outputId": "f9b81585-726b-4624-d447-91bee96300c3"
      },
      "source": [
        "data_cpi.head()"
      ],
      "execution_count": 20,
      "outputs": [
        {
          "output_type": "execute_result",
          "data": {
            "text/html": [
              "<div>\n",
              "<style scoped>\n",
              "    .dataframe tbody tr th:only-of-type {\n",
              "        vertical-align: middle;\n",
              "    }\n",
              "\n",
              "    .dataframe tbody tr th {\n",
              "        vertical-align: top;\n",
              "    }\n",
              "\n",
              "    .dataframe thead th {\n",
              "        text-align: right;\n",
              "    }\n",
              "</style>\n",
              "<table border=\"1\" class=\"dataframe\">\n",
              "  <thead>\n",
              "    <tr style=\"text-align: right;\">\n",
              "      <th></th>\n",
              "      <th>ref_area.label</th>\n",
              "      <th>time</th>\n",
              "      <th>obs_value</th>\n",
              "      <th>category</th>\n",
              "      <th>frequency</th>\n",
              "    </tr>\n",
              "  </thead>\n",
              "  <tbody>\n",
              "    <tr>\n",
              "      <th>0</th>\n",
              "      <td>Aruba</td>\n",
              "      <td>2018M01</td>\n",
              "      <td>1.06</td>\n",
              "      <td>General</td>\n",
              "      <td>Monthly</td>\n",
              "    </tr>\n",
              "    <tr>\n",
              "      <th>1</th>\n",
              "      <td>Aruba</td>\n",
              "      <td>2018M01</td>\n",
              "      <td>2.21</td>\n",
              "      <td>Food and non-alcoholic beverages</td>\n",
              "      <td>Monthly</td>\n",
              "    </tr>\n",
              "    <tr>\n",
              "      <th>2</th>\n",
              "      <td>Aruba</td>\n",
              "      <td>2018M02</td>\n",
              "      <td>2.12</td>\n",
              "      <td>General</td>\n",
              "      <td>Monthly</td>\n",
              "    </tr>\n",
              "    <tr>\n",
              "      <th>3</th>\n",
              "      <td>Aruba</td>\n",
              "      <td>2018M02</td>\n",
              "      <td>10.07</td>\n",
              "      <td>Food and non-alcoholic beverages</td>\n",
              "      <td>Monthly</td>\n",
              "    </tr>\n",
              "    <tr>\n",
              "      <th>4</th>\n",
              "      <td>Aruba</td>\n",
              "      <td>2018M03</td>\n",
              "      <td>3.21</td>\n",
              "      <td>General</td>\n",
              "      <td>Monthly</td>\n",
              "    </tr>\n",
              "  </tbody>\n",
              "</table>\n",
              "</div>"
            ],
            "text/plain": [
              "  ref_area.label     time  ...                           category frequency\n",
              "0          Aruba  2018M01  ...                            General   Monthly\n",
              "1          Aruba  2018M01  ...   Food and non-alcoholic beverages   Monthly\n",
              "2          Aruba  2018M02  ...                            General   Monthly\n",
              "3          Aruba  2018M02  ...   Food and non-alcoholic beverages   Monthly\n",
              "4          Aruba  2018M03  ...                            General   Monthly\n",
              "\n",
              "[5 rows x 5 columns]"
            ]
          },
          "metadata": {
            "tags": []
          },
          "execution_count": 20
        }
      ]
    },
    {
      "cell_type": "code",
      "metadata": {
        "id": "Dbzk-fPQ9xR8",
        "colab_type": "code",
        "colab": {
          "base_uri": "https://localhost:8080/",
          "height": 476
        },
        "outputId": "d06a140f-2767-4e56-e655-250d1188e16a"
      },
      "source": [
        "data_cpi['time'].value_counts()"
      ],
      "execution_count": 21,
      "outputs": [
        {
          "output_type": "execute_result",
          "data": {
            "text/plain": [
              "2018M03    329\n",
              "2018M06    329\n",
              "2018M09    324\n",
              "2018M01    321\n",
              "2018M02    321\n",
              "2018M08    319\n",
              "2018M04    319\n",
              "2018M07    319\n",
              "2018M05    319\n",
              "2018M12    311\n",
              "2018M10    308\n",
              "2018M11    307\n",
              "2019M03    303\n",
              "2019M02    297\n",
              "2019M01    297\n",
              "2019M06    296\n",
              "2019M04    293\n",
              "2019M05    291\n",
              "2019M07    286\n",
              "2019M08    276\n",
              "2019M09    268\n",
              "2019M10    243\n",
              "2019M11    235\n",
              "2019M12    211\n",
              "2020M01    168\n",
              "2020M02    120\n",
              "Name: time, dtype: int64"
            ]
          },
          "metadata": {
            "tags": []
          },
          "execution_count": 21
        }
      ]
    },
    {
      "cell_type": "code",
      "metadata": {
        "id": "f0_JdmQ4yUgg",
        "colab_type": "code",
        "colab": {}
      },
      "source": [
        "#data_cpi['time'].str.split('M'), trying to split year and month\n",
        "data_cpi[['year','month']] = data_cpi['time'].str.split('M', expand= True)"
      ],
      "execution_count": 0,
      "outputs": []
    },
    {
      "cell_type": "code",
      "metadata": {
        "id": "fG_eSF_JyATx",
        "colab_type": "code",
        "colab": {}
      },
      "source": [
        "#data_cpi['2018'] = data_cpi['time'].str.contains(pat='2018') \n",
        "#data_cpi['2019'] = data_cpi['time'].str.contains(pat='2019') \n",
        "#data_cpi['2020'] = data_cpi['time'].str.contains(pat='2020') "
      ],
      "execution_count": 0,
      "outputs": []
    },
    {
      "cell_type": "code",
      "metadata": {
        "id": "sfxftJnbFN0V",
        "colab_type": "code",
        "colab": {
          "base_uri": "https://localhost:8080/",
          "height": 204
        },
        "outputId": "5b18fe52-21b1-4b62-e926-0f0814c6ec84"
      },
      "source": [
        "data_cpi.head()"
      ],
      "execution_count": 24,
      "outputs": [
        {
          "output_type": "execute_result",
          "data": {
            "text/html": [
              "<div>\n",
              "<style scoped>\n",
              "    .dataframe tbody tr th:only-of-type {\n",
              "        vertical-align: middle;\n",
              "    }\n",
              "\n",
              "    .dataframe tbody tr th {\n",
              "        vertical-align: top;\n",
              "    }\n",
              "\n",
              "    .dataframe thead th {\n",
              "        text-align: right;\n",
              "    }\n",
              "</style>\n",
              "<table border=\"1\" class=\"dataframe\">\n",
              "  <thead>\n",
              "    <tr style=\"text-align: right;\">\n",
              "      <th></th>\n",
              "      <th>ref_area.label</th>\n",
              "      <th>time</th>\n",
              "      <th>obs_value</th>\n",
              "      <th>category</th>\n",
              "      <th>frequency</th>\n",
              "      <th>year</th>\n",
              "      <th>month</th>\n",
              "    </tr>\n",
              "  </thead>\n",
              "  <tbody>\n",
              "    <tr>\n",
              "      <th>0</th>\n",
              "      <td>Aruba</td>\n",
              "      <td>2018M01</td>\n",
              "      <td>1.06</td>\n",
              "      <td>General</td>\n",
              "      <td>Monthly</td>\n",
              "      <td>2018</td>\n",
              "      <td>01</td>\n",
              "    </tr>\n",
              "    <tr>\n",
              "      <th>1</th>\n",
              "      <td>Aruba</td>\n",
              "      <td>2018M01</td>\n",
              "      <td>2.21</td>\n",
              "      <td>Food and non-alcoholic beverages</td>\n",
              "      <td>Monthly</td>\n",
              "      <td>2018</td>\n",
              "      <td>01</td>\n",
              "    </tr>\n",
              "    <tr>\n",
              "      <th>2</th>\n",
              "      <td>Aruba</td>\n",
              "      <td>2018M02</td>\n",
              "      <td>2.12</td>\n",
              "      <td>General</td>\n",
              "      <td>Monthly</td>\n",
              "      <td>2018</td>\n",
              "      <td>02</td>\n",
              "    </tr>\n",
              "    <tr>\n",
              "      <th>3</th>\n",
              "      <td>Aruba</td>\n",
              "      <td>2018M02</td>\n",
              "      <td>10.07</td>\n",
              "      <td>Food and non-alcoholic beverages</td>\n",
              "      <td>Monthly</td>\n",
              "      <td>2018</td>\n",
              "      <td>02</td>\n",
              "    </tr>\n",
              "    <tr>\n",
              "      <th>4</th>\n",
              "      <td>Aruba</td>\n",
              "      <td>2018M03</td>\n",
              "      <td>3.21</td>\n",
              "      <td>General</td>\n",
              "      <td>Monthly</td>\n",
              "      <td>2018</td>\n",
              "      <td>03</td>\n",
              "    </tr>\n",
              "  </tbody>\n",
              "</table>\n",
              "</div>"
            ],
            "text/plain": [
              "  ref_area.label     time  obs_value  ... frequency  year month\n",
              "0          Aruba  2018M01       1.06  ...   Monthly  2018    01\n",
              "1          Aruba  2018M01       2.21  ...   Monthly  2018    01\n",
              "2          Aruba  2018M02       2.12  ...   Monthly  2018    02\n",
              "3          Aruba  2018M02      10.07  ...   Monthly  2018    02\n",
              "4          Aruba  2018M03       3.21  ...   Monthly  2018    03\n",
              "\n",
              "[5 rows x 7 columns]"
            ]
          },
          "metadata": {
            "tags": []
          },
          "execution_count": 24
        }
      ]
    },
    {
      "cell_type": "code",
      "metadata": {
        "id": "4lugbAcsHsZi",
        "colab_type": "code",
        "colab": {
          "base_uri": "https://localhost:8080/",
          "height": 153
        },
        "outputId": "00cdc748-5256-4947-d0b5-1608b23aeed3"
      },
      "source": [
        "data_cpi.dtypes"
      ],
      "execution_count": 25,
      "outputs": [
        {
          "output_type": "execute_result",
          "data": {
            "text/plain": [
              "ref_area.label     object\n",
              "time               object\n",
              "obs_value         float64\n",
              "category           object\n",
              "frequency          object\n",
              "year               object\n",
              "month              object\n",
              "dtype: object"
            ]
          },
          "metadata": {
            "tags": []
          },
          "execution_count": 25
        }
      ]
    },
    {
      "cell_type": "code",
      "metadata": {
        "id": "AVBVa9AfJTRD",
        "colab_type": "code",
        "colab": {
          "base_uri": "https://localhost:8080/",
          "height": 204
        },
        "outputId": "4954c58c-5f2a-4d72-bcfe-3a6dcffbf532"
      },
      "source": [
        "data_cpi.head()"
      ],
      "execution_count": 26,
      "outputs": [
        {
          "output_type": "execute_result",
          "data": {
            "text/html": [
              "<div>\n",
              "<style scoped>\n",
              "    .dataframe tbody tr th:only-of-type {\n",
              "        vertical-align: middle;\n",
              "    }\n",
              "\n",
              "    .dataframe tbody tr th {\n",
              "        vertical-align: top;\n",
              "    }\n",
              "\n",
              "    .dataframe thead th {\n",
              "        text-align: right;\n",
              "    }\n",
              "</style>\n",
              "<table border=\"1\" class=\"dataframe\">\n",
              "  <thead>\n",
              "    <tr style=\"text-align: right;\">\n",
              "      <th></th>\n",
              "      <th>ref_area.label</th>\n",
              "      <th>time</th>\n",
              "      <th>obs_value</th>\n",
              "      <th>category</th>\n",
              "      <th>frequency</th>\n",
              "      <th>year</th>\n",
              "      <th>month</th>\n",
              "    </tr>\n",
              "  </thead>\n",
              "  <tbody>\n",
              "    <tr>\n",
              "      <th>0</th>\n",
              "      <td>Aruba</td>\n",
              "      <td>2018M01</td>\n",
              "      <td>1.06</td>\n",
              "      <td>General</td>\n",
              "      <td>Monthly</td>\n",
              "      <td>2018</td>\n",
              "      <td>01</td>\n",
              "    </tr>\n",
              "    <tr>\n",
              "      <th>1</th>\n",
              "      <td>Aruba</td>\n",
              "      <td>2018M01</td>\n",
              "      <td>2.21</td>\n",
              "      <td>Food and non-alcoholic beverages</td>\n",
              "      <td>Monthly</td>\n",
              "      <td>2018</td>\n",
              "      <td>01</td>\n",
              "    </tr>\n",
              "    <tr>\n",
              "      <th>2</th>\n",
              "      <td>Aruba</td>\n",
              "      <td>2018M02</td>\n",
              "      <td>2.12</td>\n",
              "      <td>General</td>\n",
              "      <td>Monthly</td>\n",
              "      <td>2018</td>\n",
              "      <td>02</td>\n",
              "    </tr>\n",
              "    <tr>\n",
              "      <th>3</th>\n",
              "      <td>Aruba</td>\n",
              "      <td>2018M02</td>\n",
              "      <td>10.07</td>\n",
              "      <td>Food and non-alcoholic beverages</td>\n",
              "      <td>Monthly</td>\n",
              "      <td>2018</td>\n",
              "      <td>02</td>\n",
              "    </tr>\n",
              "    <tr>\n",
              "      <th>4</th>\n",
              "      <td>Aruba</td>\n",
              "      <td>2018M03</td>\n",
              "      <td>3.21</td>\n",
              "      <td>General</td>\n",
              "      <td>Monthly</td>\n",
              "      <td>2018</td>\n",
              "      <td>03</td>\n",
              "    </tr>\n",
              "  </tbody>\n",
              "</table>\n",
              "</div>"
            ],
            "text/plain": [
              "  ref_area.label     time  obs_value  ... frequency  year month\n",
              "0          Aruba  2018M01       1.06  ...   Monthly  2018    01\n",
              "1          Aruba  2018M01       2.21  ...   Monthly  2018    01\n",
              "2          Aruba  2018M02       2.12  ...   Monthly  2018    02\n",
              "3          Aruba  2018M02      10.07  ...   Monthly  2018    02\n",
              "4          Aruba  2018M03       3.21  ...   Monthly  2018    03\n",
              "\n",
              "[5 rows x 7 columns]"
            ]
          },
          "metadata": {
            "tags": []
          },
          "execution_count": 26
        }
      ]
    },
    {
      "cell_type": "code",
      "metadata": {
        "id": "k8AzIea8JiVU",
        "colab_type": "code",
        "colab": {}
      },
      "source": [
        "data_cpi = data_cpi.drop(['time'],axis=1)"
      ],
      "execution_count": 0,
      "outputs": []
    },
    {
      "cell_type": "code",
      "metadata": {
        "id": "KzQvsq3qJv0Z",
        "colab_type": "code",
        "colab": {
          "base_uri": "https://localhost:8080/",
          "height": 204
        },
        "outputId": "37a5bdd9-363b-4195-d1db-9feaf6eeaa11"
      },
      "source": [
        "data_cpi.head()"
      ],
      "execution_count": 28,
      "outputs": [
        {
          "output_type": "execute_result",
          "data": {
            "text/html": [
              "<div>\n",
              "<style scoped>\n",
              "    .dataframe tbody tr th:only-of-type {\n",
              "        vertical-align: middle;\n",
              "    }\n",
              "\n",
              "    .dataframe tbody tr th {\n",
              "        vertical-align: top;\n",
              "    }\n",
              "\n",
              "    .dataframe thead th {\n",
              "        text-align: right;\n",
              "    }\n",
              "</style>\n",
              "<table border=\"1\" class=\"dataframe\">\n",
              "  <thead>\n",
              "    <tr style=\"text-align: right;\">\n",
              "      <th></th>\n",
              "      <th>ref_area.label</th>\n",
              "      <th>obs_value</th>\n",
              "      <th>category</th>\n",
              "      <th>frequency</th>\n",
              "      <th>year</th>\n",
              "      <th>month</th>\n",
              "    </tr>\n",
              "  </thead>\n",
              "  <tbody>\n",
              "    <tr>\n",
              "      <th>0</th>\n",
              "      <td>Aruba</td>\n",
              "      <td>1.06</td>\n",
              "      <td>General</td>\n",
              "      <td>Monthly</td>\n",
              "      <td>2018</td>\n",
              "      <td>01</td>\n",
              "    </tr>\n",
              "    <tr>\n",
              "      <th>1</th>\n",
              "      <td>Aruba</td>\n",
              "      <td>2.21</td>\n",
              "      <td>Food and non-alcoholic beverages</td>\n",
              "      <td>Monthly</td>\n",
              "      <td>2018</td>\n",
              "      <td>01</td>\n",
              "    </tr>\n",
              "    <tr>\n",
              "      <th>2</th>\n",
              "      <td>Aruba</td>\n",
              "      <td>2.12</td>\n",
              "      <td>General</td>\n",
              "      <td>Monthly</td>\n",
              "      <td>2018</td>\n",
              "      <td>02</td>\n",
              "    </tr>\n",
              "    <tr>\n",
              "      <th>3</th>\n",
              "      <td>Aruba</td>\n",
              "      <td>10.07</td>\n",
              "      <td>Food and non-alcoholic beverages</td>\n",
              "      <td>Monthly</td>\n",
              "      <td>2018</td>\n",
              "      <td>02</td>\n",
              "    </tr>\n",
              "    <tr>\n",
              "      <th>4</th>\n",
              "      <td>Aruba</td>\n",
              "      <td>3.21</td>\n",
              "      <td>General</td>\n",
              "      <td>Monthly</td>\n",
              "      <td>2018</td>\n",
              "      <td>03</td>\n",
              "    </tr>\n",
              "  </tbody>\n",
              "</table>\n",
              "</div>"
            ],
            "text/plain": [
              "  ref_area.label  obs_value  ...  year month\n",
              "0          Aruba       1.06  ...  2018    01\n",
              "1          Aruba       2.21  ...  2018    01\n",
              "2          Aruba       2.12  ...  2018    02\n",
              "3          Aruba      10.07  ...  2018    02\n",
              "4          Aruba       3.21  ...  2018    03\n",
              "\n",
              "[5 rows x 6 columns]"
            ]
          },
          "metadata": {
            "tags": []
          },
          "execution_count": 28
        }
      ]
    },
    {
      "cell_type": "code",
      "metadata": {
        "id": "rFR5HZToJyRQ",
        "colab_type": "code",
        "colab": {
          "base_uri": "https://localhost:8080/",
          "height": 136
        },
        "outputId": "00a831b8-4914-4cf1-e89f-426fa8ca44b2"
      },
      "source": [
        "data_cpi.dtypes"
      ],
      "execution_count": 29,
      "outputs": [
        {
          "output_type": "execute_result",
          "data": {
            "text/plain": [
              "ref_area.label     object\n",
              "obs_value         float64\n",
              "category           object\n",
              "frequency          object\n",
              "year               object\n",
              "month              object\n",
              "dtype: object"
            ]
          },
          "metadata": {
            "tags": []
          },
          "execution_count": 29
        }
      ]
    },
    {
      "cell_type": "code",
      "metadata": {
        "id": "50doWG-sJ1it",
        "colab_type": "code",
        "colab": {
          "base_uri": "https://localhost:8080/",
          "height": 136
        },
        "outputId": "f8b911a1-6021-4b57-9c3e-157585ae823f"
      },
      "source": [
        "data_cpi.isnull().sum() #checking null values, looks like it is clean data."
      ],
      "execution_count": 30,
      "outputs": [
        {
          "output_type": "execute_result",
          "data": {
            "text/plain": [
              "ref_area.label    0\n",
              "obs_value         0\n",
              "category          0\n",
              "frequency         0\n",
              "year              0\n",
              "month             0\n",
              "dtype: int64"
            ]
          },
          "metadata": {
            "tags": []
          },
          "execution_count": 30
        }
      ]
    },
    {
      "cell_type": "code",
      "metadata": {
        "id": "wrJTIdH7J-jU",
        "colab_type": "code",
        "colab": {
          "base_uri": "https://localhost:8080/",
          "height": 51
        },
        "outputId": "8fa74f48-286c-4790-8bad-52f68653c167"
      },
      "source": [
        "data_cpi['frequency'].value_counts() #all the data is monthly."
      ],
      "execution_count": 31,
      "outputs": [
        {
          "output_type": "execute_result",
          "data": {
            "text/plain": [
              " Monthly    7410\n",
              "Name: frequency, dtype: int64"
            ]
          },
          "metadata": {
            "tags": []
          },
          "execution_count": 31
        }
      ]
    },
    {
      "cell_type": "code",
      "metadata": {
        "id": "AOGGe7lTKQ87",
        "colab_type": "code",
        "colab": {}
      },
      "source": [
        "data_cpi.rename(columns={'ref_area.label':'Country'},inplace=True)"
      ],
      "execution_count": 0,
      "outputs": []
    },
    {
      "cell_type": "code",
      "metadata": {
        "id": "UcWU6Dq01cU_",
        "colab_type": "code",
        "colab": {
          "base_uri": "https://localhost:8080/",
          "height": 204
        },
        "outputId": "3043d2ae-8acc-49c1-8b80-d1fda34bf8fa"
      },
      "source": [
        "data_cpi.head()"
      ],
      "execution_count": 33,
      "outputs": [
        {
          "output_type": "execute_result",
          "data": {
            "text/html": [
              "<div>\n",
              "<style scoped>\n",
              "    .dataframe tbody tr th:only-of-type {\n",
              "        vertical-align: middle;\n",
              "    }\n",
              "\n",
              "    .dataframe tbody tr th {\n",
              "        vertical-align: top;\n",
              "    }\n",
              "\n",
              "    .dataframe thead th {\n",
              "        text-align: right;\n",
              "    }\n",
              "</style>\n",
              "<table border=\"1\" class=\"dataframe\">\n",
              "  <thead>\n",
              "    <tr style=\"text-align: right;\">\n",
              "      <th></th>\n",
              "      <th>Country</th>\n",
              "      <th>obs_value</th>\n",
              "      <th>category</th>\n",
              "      <th>frequency</th>\n",
              "      <th>year</th>\n",
              "      <th>month</th>\n",
              "    </tr>\n",
              "  </thead>\n",
              "  <tbody>\n",
              "    <tr>\n",
              "      <th>0</th>\n",
              "      <td>Aruba</td>\n",
              "      <td>1.06</td>\n",
              "      <td>General</td>\n",
              "      <td>Monthly</td>\n",
              "      <td>2018</td>\n",
              "      <td>01</td>\n",
              "    </tr>\n",
              "    <tr>\n",
              "      <th>1</th>\n",
              "      <td>Aruba</td>\n",
              "      <td>2.21</td>\n",
              "      <td>Food and non-alcoholic beverages</td>\n",
              "      <td>Monthly</td>\n",
              "      <td>2018</td>\n",
              "      <td>01</td>\n",
              "    </tr>\n",
              "    <tr>\n",
              "      <th>2</th>\n",
              "      <td>Aruba</td>\n",
              "      <td>2.12</td>\n",
              "      <td>General</td>\n",
              "      <td>Monthly</td>\n",
              "      <td>2018</td>\n",
              "      <td>02</td>\n",
              "    </tr>\n",
              "    <tr>\n",
              "      <th>3</th>\n",
              "      <td>Aruba</td>\n",
              "      <td>10.07</td>\n",
              "      <td>Food and non-alcoholic beverages</td>\n",
              "      <td>Monthly</td>\n",
              "      <td>2018</td>\n",
              "      <td>02</td>\n",
              "    </tr>\n",
              "    <tr>\n",
              "      <th>4</th>\n",
              "      <td>Aruba</td>\n",
              "      <td>3.21</td>\n",
              "      <td>General</td>\n",
              "      <td>Monthly</td>\n",
              "      <td>2018</td>\n",
              "      <td>03</td>\n",
              "    </tr>\n",
              "  </tbody>\n",
              "</table>\n",
              "</div>"
            ],
            "text/plain": [
              "  Country  obs_value                           category frequency  year month\n",
              "0   Aruba       1.06                            General   Monthly  2018    01\n",
              "1   Aruba       2.21   Food and non-alcoholic beverages   Monthly  2018    01\n",
              "2   Aruba       2.12                            General   Monthly  2018    02\n",
              "3   Aruba      10.07   Food and non-alcoholic beverages   Monthly  2018    02\n",
              "4   Aruba       3.21                            General   Monthly  2018    03"
            ]
          },
          "metadata": {
            "tags": []
          },
          "execution_count": 33
        }
      ]
    },
    {
      "cell_type": "code",
      "metadata": {
        "id": "jmduh5Ul1naW",
        "colab_type": "code",
        "outputId": "b8fdcd9e-aed6-4411-8d2a-039dc81315d5",
        "colab": {
          "base_uri": "https://localhost:8080/",
          "height": 68
        }
      },
      "source": [
        "data_cpi['category'].value_counts()"
      ],
      "execution_count": 34,
      "outputs": [
        {
          "output_type": "execute_result",
          "data": {
            "text/plain": [
              " General                             3795\n",
              " Food and non-alcoholic beverages    3615\n",
              "Name: category, dtype: int64"
            ]
          },
          "metadata": {
            "tags": []
          },
          "execution_count": 34
        }
      ]
    },
    {
      "cell_type": "code",
      "metadata": {
        "id": "Y8_Fy98EN44R",
        "colab_type": "code",
        "colab": {
          "base_uri": "https://localhost:8080/",
          "height": 238
        },
        "outputId": "d2c3d20e-797f-483f-9d10-5d2e6d68be77"
      },
      "source": [
        "data_cpi.groupby(['Country'])['category'].count()"
      ],
      "execution_count": 35,
      "outputs": [
        {
          "output_type": "execute_result",
          "data": {
            "text/plain": [
              "Country\n",
              "Afghanistan    22\n",
              "Albania        52\n",
              "Algeria        50\n",
              "Angola         24\n",
              "Anguilla       14\n",
              "               ..\n",
              "Uzbekistan     26\n",
              "Vanuatu        14\n",
              "Viet Nam       52\n",
              "Zambia         50\n",
              "Zimbabwe       16\n",
              "Name: category, Length: 171, dtype: int64"
            ]
          },
          "metadata": {
            "tags": []
          },
          "execution_count": 35
        }
      ]
    },
    {
      "cell_type": "code",
      "metadata": {
        "id": "eFQAzopxPUBQ",
        "colab_type": "code",
        "colab": {
          "base_uri": "https://localhost:8080/",
          "height": 34
        },
        "outputId": "bcc243e2-755d-470b-f711-d2e980b95930"
      },
      "source": [
        "data_cpi.shape"
      ],
      "execution_count": 36,
      "outputs": [
        {
          "output_type": "execute_result",
          "data": {
            "text/plain": [
              "(7410, 6)"
            ]
          },
          "metadata": {
            "tags": []
          },
          "execution_count": 36
        }
      ]
    },
    {
      "cell_type": "code",
      "metadata": {
        "id": "L4Sbwio6PWVt",
        "colab_type": "code",
        "colab": {
          "base_uri": "https://localhost:8080/",
          "height": 34
        },
        "outputId": "f9332759-8c0b-4578-ac89-22c8d5ab27d6"
      },
      "source": [
        "data_hdi.shape"
      ],
      "execution_count": 37,
      "outputs": [
        {
          "output_type": "execute_result",
          "data": {
            "text/plain": [
              "(165, 3)"
            ]
          },
          "metadata": {
            "tags": []
          },
          "execution_count": 37
        }
      ]
    },
    {
      "cell_type": "code",
      "metadata": {
        "id": "P_pgTPss1qB6",
        "colab_type": "code",
        "colab": {}
      },
      "source": [
        "merge_cpi_hdi = pd.merge(data_cpi,data_hdi,on='Country')"
      ],
      "execution_count": 0,
      "outputs": []
    },
    {
      "cell_type": "code",
      "metadata": {
        "id": "hdSZ6XhUz8Q3",
        "colab_type": "code",
        "outputId": "a09e0fcc-9cf1-4355-90da-c68438294c5c",
        "colab": {
          "base_uri": "https://localhost:8080/",
          "height": 514
        }
      },
      "source": [
        "merge_cpi_hdi.head(15)"
      ],
      "execution_count": 39,
      "outputs": [
        {
          "output_type": "execute_result",
          "data": {
            "text/html": [
              "<div>\n",
              "<style scoped>\n",
              "    .dataframe tbody tr th:only-of-type {\n",
              "        vertical-align: middle;\n",
              "    }\n",
              "\n",
              "    .dataframe tbody tr th {\n",
              "        vertical-align: top;\n",
              "    }\n",
              "\n",
              "    .dataframe thead th {\n",
              "        text-align: right;\n",
              "    }\n",
              "</style>\n",
              "<table border=\"1\" class=\"dataframe\">\n",
              "  <thead>\n",
              "    <tr style=\"text-align: right;\">\n",
              "      <th></th>\n",
              "      <th>Country</th>\n",
              "      <th>obs_value</th>\n",
              "      <th>category</th>\n",
              "      <th>frequency</th>\n",
              "      <th>year</th>\n",
              "      <th>month</th>\n",
              "      <th>iHDI_index</th>\n",
              "      <th>iHDI_group</th>\n",
              "    </tr>\n",
              "  </thead>\n",
              "  <tbody>\n",
              "    <tr>\n",
              "      <th>0</th>\n",
              "      <td>Afghanistan</td>\n",
              "      <td>4.28</td>\n",
              "      <td>General</td>\n",
              "      <td>Monthly</td>\n",
              "      <td>2018</td>\n",
              "      <td>01</td>\n",
              "      <td>0.347</td>\n",
              "      <td>low</td>\n",
              "    </tr>\n",
              "    <tr>\n",
              "      <th>1</th>\n",
              "      <td>Afghanistan</td>\n",
              "      <td>5.54</td>\n",
              "      <td>Food and non-alcoholic beverages</td>\n",
              "      <td>Monthly</td>\n",
              "      <td>2018</td>\n",
              "      <td>01</td>\n",
              "      <td>0.347</td>\n",
              "      <td>low</td>\n",
              "    </tr>\n",
              "    <tr>\n",
              "      <th>2</th>\n",
              "      <td>Afghanistan</td>\n",
              "      <td>3.55</td>\n",
              "      <td>General</td>\n",
              "      <td>Monthly</td>\n",
              "      <td>2018</td>\n",
              "      <td>02</td>\n",
              "      <td>0.347</td>\n",
              "      <td>low</td>\n",
              "    </tr>\n",
              "    <tr>\n",
              "      <th>3</th>\n",
              "      <td>Afghanistan</td>\n",
              "      <td>4.36</td>\n",
              "      <td>Food and non-alcoholic beverages</td>\n",
              "      <td>Monthly</td>\n",
              "      <td>2018</td>\n",
              "      <td>02</td>\n",
              "      <td>0.347</td>\n",
              "      <td>low</td>\n",
              "    </tr>\n",
              "    <tr>\n",
              "      <th>4</th>\n",
              "      <td>Afghanistan</td>\n",
              "      <td>0.18</td>\n",
              "      <td>General</td>\n",
              "      <td>Monthly</td>\n",
              "      <td>2018</td>\n",
              "      <td>03</td>\n",
              "      <td>0.347</td>\n",
              "      <td>low</td>\n",
              "    </tr>\n",
              "    <tr>\n",
              "      <th>5</th>\n",
              "      <td>Afghanistan</td>\n",
              "      <td>-1.62</td>\n",
              "      <td>Food and non-alcoholic beverages</td>\n",
              "      <td>Monthly</td>\n",
              "      <td>2018</td>\n",
              "      <td>03</td>\n",
              "      <td>0.347</td>\n",
              "      <td>low</td>\n",
              "    </tr>\n",
              "    <tr>\n",
              "      <th>6</th>\n",
              "      <td>Afghanistan</td>\n",
              "      <td>-0.47</td>\n",
              "      <td>General</td>\n",
              "      <td>Monthly</td>\n",
              "      <td>2018</td>\n",
              "      <td>04</td>\n",
              "      <td>0.347</td>\n",
              "      <td>low</td>\n",
              "    </tr>\n",
              "    <tr>\n",
              "      <th>7</th>\n",
              "      <td>Afghanistan</td>\n",
              "      <td>-2.56</td>\n",
              "      <td>Food and non-alcoholic beverages</td>\n",
              "      <td>Monthly</td>\n",
              "      <td>2018</td>\n",
              "      <td>04</td>\n",
              "      <td>0.347</td>\n",
              "      <td>low</td>\n",
              "    </tr>\n",
              "    <tr>\n",
              "      <th>8</th>\n",
              "      <td>Afghanistan</td>\n",
              "      <td>-1.05</td>\n",
              "      <td>General</td>\n",
              "      <td>Monthly</td>\n",
              "      <td>2018</td>\n",
              "      <td>05</td>\n",
              "      <td>0.347</td>\n",
              "      <td>low</td>\n",
              "    </tr>\n",
              "    <tr>\n",
              "      <th>9</th>\n",
              "      <td>Afghanistan</td>\n",
              "      <td>-3.63</td>\n",
              "      <td>Food and non-alcoholic beverages</td>\n",
              "      <td>Monthly</td>\n",
              "      <td>2018</td>\n",
              "      <td>05</td>\n",
              "      <td>0.347</td>\n",
              "      <td>low</td>\n",
              "    </tr>\n",
              "    <tr>\n",
              "      <th>10</th>\n",
              "      <td>Afghanistan</td>\n",
              "      <td>-1.63</td>\n",
              "      <td>General</td>\n",
              "      <td>Monthly</td>\n",
              "      <td>2018</td>\n",
              "      <td>06</td>\n",
              "      <td>0.347</td>\n",
              "      <td>low</td>\n",
              "    </tr>\n",
              "    <tr>\n",
              "      <th>11</th>\n",
              "      <td>Afghanistan</td>\n",
              "      <td>-5.00</td>\n",
              "      <td>Food and non-alcoholic beverages</td>\n",
              "      <td>Monthly</td>\n",
              "      <td>2018</td>\n",
              "      <td>06</td>\n",
              "      <td>0.347</td>\n",
              "      <td>low</td>\n",
              "    </tr>\n",
              "    <tr>\n",
              "      <th>12</th>\n",
              "      <td>Afghanistan</td>\n",
              "      <td>-0.14</td>\n",
              "      <td>General</td>\n",
              "      <td>Monthly</td>\n",
              "      <td>2018</td>\n",
              "      <td>07</td>\n",
              "      <td>0.347</td>\n",
              "      <td>low</td>\n",
              "    </tr>\n",
              "    <tr>\n",
              "      <th>13</th>\n",
              "      <td>Afghanistan</td>\n",
              "      <td>-3.47</td>\n",
              "      <td>Food and non-alcoholic beverages</td>\n",
              "      <td>Monthly</td>\n",
              "      <td>2018</td>\n",
              "      <td>07</td>\n",
              "      <td>0.347</td>\n",
              "      <td>low</td>\n",
              "    </tr>\n",
              "    <tr>\n",
              "      <th>14</th>\n",
              "      <td>Afghanistan</td>\n",
              "      <td>0.09</td>\n",
              "      <td>General</td>\n",
              "      <td>Monthly</td>\n",
              "      <td>2018</td>\n",
              "      <td>08</td>\n",
              "      <td>0.347</td>\n",
              "      <td>low</td>\n",
              "    </tr>\n",
              "  </tbody>\n",
              "</table>\n",
              "</div>"
            ],
            "text/plain": [
              "        Country  obs_value  ... iHDI_index iHDI_group\n",
              "0   Afghanistan       4.28  ...      0.347        low\n",
              "1   Afghanistan       5.54  ...      0.347        low\n",
              "2   Afghanistan       3.55  ...      0.347        low\n",
              "3   Afghanistan       4.36  ...      0.347        low\n",
              "4   Afghanistan       0.18  ...      0.347        low\n",
              "5   Afghanistan      -1.62  ...      0.347        low\n",
              "6   Afghanistan      -0.47  ...      0.347        low\n",
              "7   Afghanistan      -2.56  ...      0.347        low\n",
              "8   Afghanistan      -1.05  ...      0.347        low\n",
              "9   Afghanistan      -3.63  ...      0.347        low\n",
              "10  Afghanistan      -1.63  ...      0.347        low\n",
              "11  Afghanistan      -5.00  ...      0.347        low\n",
              "12  Afghanistan      -0.14  ...      0.347        low\n",
              "13  Afghanistan      -3.47  ...      0.347        low\n",
              "14  Afghanistan       0.09  ...      0.347        low\n",
              "\n",
              "[15 rows x 8 columns]"
            ]
          },
          "metadata": {
            "tags": []
          },
          "execution_count": 39
        }
      ]
    },
    {
      "cell_type": "code",
      "metadata": {
        "id": "1CueAgkwMAY3",
        "colab_type": "code",
        "colab": {
          "base_uri": "https://localhost:8080/",
          "height": 238
        },
        "outputId": "fcee41c5-2d1d-4cac-c2da-d9a49abb2d8b"
      },
      "source": [
        "merge_cpi_hdi['month'].value_counts() #not all months have data for countries."
      ],
      "execution_count": 40,
      "outputs": [
        {
          "output_type": "execute_result",
          "data": {
            "text/plain": [
              "01    661\n",
              "02    624\n",
              "03    516\n",
              "06    511\n",
              "04    504\n",
              "05    502\n",
              "07    499\n",
              "08    489\n",
              "09    483\n",
              "10    464\n",
              "11    455\n",
              "12    439\n",
              "Name: month, dtype: int64"
            ]
          },
          "metadata": {
            "tags": []
          },
          "execution_count": 40
        }
      ]
    },
    {
      "cell_type": "code",
      "metadata": {
        "id": "6hkPtfdZH8SI",
        "colab_type": "code",
        "colab": {
          "base_uri": "https://localhost:8080/",
          "height": 238
        },
        "outputId": "809e551d-e2eb-4313-be02-b96d1e7c2aad"
      },
      "source": [
        "merge_cpi_hdi.groupby(['year','Country','category'])['obs_value'].count()"
      ],
      "execution_count": 41,
      "outputs": [
        {
          "output_type": "execute_result",
          "data": {
            "text/plain": [
              "year  Country      category                         \n",
              "2018  Afghanistan   Food and non-alcoholic beverages    11\n",
              "                    General                             11\n",
              "      Albania       Food and non-alcoholic beverages    12\n",
              "                    General                             12\n",
              "      Algeria       Food and non-alcoholic beverages    12\n",
              "                                                        ..\n",
              "2020  Uzbekistan    General                              2\n",
              "      Viet Nam      Food and non-alcoholic beverages     2\n",
              "                    General                              2\n",
              "      Zambia        Food and non-alcoholic beverages     1\n",
              "                    General                              1\n",
              "Name: obs_value, Length: 673, dtype: int64"
            ]
          },
          "metadata": {
            "tags": []
          },
          "execution_count": 41
        }
      ]
    },
    {
      "cell_type": "code",
      "metadata": {
        "id": "kOXmJd2MLHAE",
        "colab_type": "code",
        "colab": {}
      },
      "source": [
        ""
      ],
      "execution_count": 0,
      "outputs": []
    },
    {
      "cell_type": "code",
      "metadata": {
        "id": "oYesEUA3zz5P",
        "colab_type": "code",
        "outputId": "dd69f080-bbf2-4d27-b1a9-2533fc25bb77",
        "colab": {
          "base_uri": "https://localhost:8080/",
          "height": 34
        }
      },
      "source": [
        "merge_cpi_hdi.shape"
      ],
      "execution_count": 42,
      "outputs": [
        {
          "output_type": "execute_result",
          "data": {
            "text/plain": [
              "(6147, 8)"
            ]
          },
          "metadata": {
            "tags": []
          },
          "execution_count": 42
        }
      ]
    },
    {
      "cell_type": "code",
      "metadata": {
        "id": "tWl56ugCPrQ6",
        "colab_type": "code",
        "colab": {
          "base_uri": "https://localhost:8080/",
          "height": 170
        },
        "outputId": "ab8d9742-12ee-43f8-8ebf-641edcca56cc"
      },
      "source": [
        "merge_cpi_hdi.isnull().sum()"
      ],
      "execution_count": 43,
      "outputs": [
        {
          "output_type": "execute_result",
          "data": {
            "text/plain": [
              "Country       0\n",
              "obs_value     0\n",
              "category      0\n",
              "frequency     0\n",
              "year          0\n",
              "month         0\n",
              "iHDI_index    0\n",
              "iHDI_group    0\n",
              "dtype: int64"
            ]
          },
          "metadata": {
            "tags": []
          },
          "execution_count": 43
        }
      ]
    },
    {
      "cell_type": "code",
      "metadata": {
        "id": "9cKvpgbaYCTm",
        "colab_type": "code",
        "colab": {
          "base_uri": "https://localhost:8080/",
          "height": 238
        },
        "outputId": "0dd64c6b-6756-4e91-a27a-ac46079db907"
      },
      "source": [
        "merge_cpi_hdi.groupby(['iHDI_group','Country'])['category'].count()"
      ],
      "execution_count": 44,
      "outputs": [
        {
          "output_type": "execute_result",
          "data": {
            "text/plain": [
              "iHDI_group  Country           \n",
              "high        Algeria               50\n",
              "            Belize                50\n",
              "            Brazil                26\n",
              "            Colombia              52\n",
              "            Dominican Republic    52\n",
              "                                  ..\n",
              "very high   Turkey                51\n",
              "            Ukraine               52\n",
              "            United Kingdom        50\n",
              "            United States         52\n",
              "            Uruguay               52\n",
              "Name: category, Length: 138, dtype: int64"
            ]
          },
          "metadata": {
            "tags": []
          },
          "execution_count": 44
        }
      ]
    },
    {
      "cell_type": "code",
      "metadata": {
        "id": "cc1OgoxDPGga",
        "colab_type": "code",
        "colab": {
          "base_uri": "https://localhost:8080/",
          "height": 669
        },
        "outputId": "59783aaf-07cc-4a1b-88d4-e005373e6393"
      },
      "source": [
        "merge_cpi_hdi.head(20)"
      ],
      "execution_count": 45,
      "outputs": [
        {
          "output_type": "execute_result",
          "data": {
            "text/html": [
              "<div>\n",
              "<style scoped>\n",
              "    .dataframe tbody tr th:only-of-type {\n",
              "        vertical-align: middle;\n",
              "    }\n",
              "\n",
              "    .dataframe tbody tr th {\n",
              "        vertical-align: top;\n",
              "    }\n",
              "\n",
              "    .dataframe thead th {\n",
              "        text-align: right;\n",
              "    }\n",
              "</style>\n",
              "<table border=\"1\" class=\"dataframe\">\n",
              "  <thead>\n",
              "    <tr style=\"text-align: right;\">\n",
              "      <th></th>\n",
              "      <th>Country</th>\n",
              "      <th>obs_value</th>\n",
              "      <th>category</th>\n",
              "      <th>frequency</th>\n",
              "      <th>year</th>\n",
              "      <th>month</th>\n",
              "      <th>iHDI_index</th>\n",
              "      <th>iHDI_group</th>\n",
              "    </tr>\n",
              "  </thead>\n",
              "  <tbody>\n",
              "    <tr>\n",
              "      <th>0</th>\n",
              "      <td>Afghanistan</td>\n",
              "      <td>4.28</td>\n",
              "      <td>General</td>\n",
              "      <td>Monthly</td>\n",
              "      <td>2018</td>\n",
              "      <td>01</td>\n",
              "      <td>0.347</td>\n",
              "      <td>low</td>\n",
              "    </tr>\n",
              "    <tr>\n",
              "      <th>1</th>\n",
              "      <td>Afghanistan</td>\n",
              "      <td>5.54</td>\n",
              "      <td>Food and non-alcoholic beverages</td>\n",
              "      <td>Monthly</td>\n",
              "      <td>2018</td>\n",
              "      <td>01</td>\n",
              "      <td>0.347</td>\n",
              "      <td>low</td>\n",
              "    </tr>\n",
              "    <tr>\n",
              "      <th>2</th>\n",
              "      <td>Afghanistan</td>\n",
              "      <td>3.55</td>\n",
              "      <td>General</td>\n",
              "      <td>Monthly</td>\n",
              "      <td>2018</td>\n",
              "      <td>02</td>\n",
              "      <td>0.347</td>\n",
              "      <td>low</td>\n",
              "    </tr>\n",
              "    <tr>\n",
              "      <th>3</th>\n",
              "      <td>Afghanistan</td>\n",
              "      <td>4.36</td>\n",
              "      <td>Food and non-alcoholic beverages</td>\n",
              "      <td>Monthly</td>\n",
              "      <td>2018</td>\n",
              "      <td>02</td>\n",
              "      <td>0.347</td>\n",
              "      <td>low</td>\n",
              "    </tr>\n",
              "    <tr>\n",
              "      <th>4</th>\n",
              "      <td>Afghanistan</td>\n",
              "      <td>0.18</td>\n",
              "      <td>General</td>\n",
              "      <td>Monthly</td>\n",
              "      <td>2018</td>\n",
              "      <td>03</td>\n",
              "      <td>0.347</td>\n",
              "      <td>low</td>\n",
              "    </tr>\n",
              "    <tr>\n",
              "      <th>5</th>\n",
              "      <td>Afghanistan</td>\n",
              "      <td>-1.62</td>\n",
              "      <td>Food and non-alcoholic beverages</td>\n",
              "      <td>Monthly</td>\n",
              "      <td>2018</td>\n",
              "      <td>03</td>\n",
              "      <td>0.347</td>\n",
              "      <td>low</td>\n",
              "    </tr>\n",
              "    <tr>\n",
              "      <th>6</th>\n",
              "      <td>Afghanistan</td>\n",
              "      <td>-0.47</td>\n",
              "      <td>General</td>\n",
              "      <td>Monthly</td>\n",
              "      <td>2018</td>\n",
              "      <td>04</td>\n",
              "      <td>0.347</td>\n",
              "      <td>low</td>\n",
              "    </tr>\n",
              "    <tr>\n",
              "      <th>7</th>\n",
              "      <td>Afghanistan</td>\n",
              "      <td>-2.56</td>\n",
              "      <td>Food and non-alcoholic beverages</td>\n",
              "      <td>Monthly</td>\n",
              "      <td>2018</td>\n",
              "      <td>04</td>\n",
              "      <td>0.347</td>\n",
              "      <td>low</td>\n",
              "    </tr>\n",
              "    <tr>\n",
              "      <th>8</th>\n",
              "      <td>Afghanistan</td>\n",
              "      <td>-1.05</td>\n",
              "      <td>General</td>\n",
              "      <td>Monthly</td>\n",
              "      <td>2018</td>\n",
              "      <td>05</td>\n",
              "      <td>0.347</td>\n",
              "      <td>low</td>\n",
              "    </tr>\n",
              "    <tr>\n",
              "      <th>9</th>\n",
              "      <td>Afghanistan</td>\n",
              "      <td>-3.63</td>\n",
              "      <td>Food and non-alcoholic beverages</td>\n",
              "      <td>Monthly</td>\n",
              "      <td>2018</td>\n",
              "      <td>05</td>\n",
              "      <td>0.347</td>\n",
              "      <td>low</td>\n",
              "    </tr>\n",
              "    <tr>\n",
              "      <th>10</th>\n",
              "      <td>Afghanistan</td>\n",
              "      <td>-1.63</td>\n",
              "      <td>General</td>\n",
              "      <td>Monthly</td>\n",
              "      <td>2018</td>\n",
              "      <td>06</td>\n",
              "      <td>0.347</td>\n",
              "      <td>low</td>\n",
              "    </tr>\n",
              "    <tr>\n",
              "      <th>11</th>\n",
              "      <td>Afghanistan</td>\n",
              "      <td>-5.00</td>\n",
              "      <td>Food and non-alcoholic beverages</td>\n",
              "      <td>Monthly</td>\n",
              "      <td>2018</td>\n",
              "      <td>06</td>\n",
              "      <td>0.347</td>\n",
              "      <td>low</td>\n",
              "    </tr>\n",
              "    <tr>\n",
              "      <th>12</th>\n",
              "      <td>Afghanistan</td>\n",
              "      <td>-0.14</td>\n",
              "      <td>General</td>\n",
              "      <td>Monthly</td>\n",
              "      <td>2018</td>\n",
              "      <td>07</td>\n",
              "      <td>0.347</td>\n",
              "      <td>low</td>\n",
              "    </tr>\n",
              "    <tr>\n",
              "      <th>13</th>\n",
              "      <td>Afghanistan</td>\n",
              "      <td>-3.47</td>\n",
              "      <td>Food and non-alcoholic beverages</td>\n",
              "      <td>Monthly</td>\n",
              "      <td>2018</td>\n",
              "      <td>07</td>\n",
              "      <td>0.347</td>\n",
              "      <td>low</td>\n",
              "    </tr>\n",
              "    <tr>\n",
              "      <th>14</th>\n",
              "      <td>Afghanistan</td>\n",
              "      <td>0.09</td>\n",
              "      <td>General</td>\n",
              "      <td>Monthly</td>\n",
              "      <td>2018</td>\n",
              "      <td>08</td>\n",
              "      <td>0.347</td>\n",
              "      <td>low</td>\n",
              "    </tr>\n",
              "    <tr>\n",
              "      <th>15</th>\n",
              "      <td>Afghanistan</td>\n",
              "      <td>-2.55</td>\n",
              "      <td>Food and non-alcoholic beverages</td>\n",
              "      <td>Monthly</td>\n",
              "      <td>2018</td>\n",
              "      <td>08</td>\n",
              "      <td>0.347</td>\n",
              "      <td>low</td>\n",
              "    </tr>\n",
              "    <tr>\n",
              "      <th>16</th>\n",
              "      <td>Afghanistan</td>\n",
              "      <td>0.24</td>\n",
              "      <td>General</td>\n",
              "      <td>Monthly</td>\n",
              "      <td>2018</td>\n",
              "      <td>09</td>\n",
              "      <td>0.347</td>\n",
              "      <td>low</td>\n",
              "    </tr>\n",
              "    <tr>\n",
              "      <th>17</th>\n",
              "      <td>Afghanistan</td>\n",
              "      <td>-1.93</td>\n",
              "      <td>Food and non-alcoholic beverages</td>\n",
              "      <td>Monthly</td>\n",
              "      <td>2018</td>\n",
              "      <td>09</td>\n",
              "      <td>0.347</td>\n",
              "      <td>low</td>\n",
              "    </tr>\n",
              "    <tr>\n",
              "      <th>18</th>\n",
              "      <td>Afghanistan</td>\n",
              "      <td>0.80</td>\n",
              "      <td>General</td>\n",
              "      <td>Monthly</td>\n",
              "      <td>2018</td>\n",
              "      <td>10</td>\n",
              "      <td>0.347</td>\n",
              "      <td>low</td>\n",
              "    </tr>\n",
              "    <tr>\n",
              "      <th>19</th>\n",
              "      <td>Afghanistan</td>\n",
              "      <td>-0.85</td>\n",
              "      <td>Food and non-alcoholic beverages</td>\n",
              "      <td>Monthly</td>\n",
              "      <td>2018</td>\n",
              "      <td>10</td>\n",
              "      <td>0.347</td>\n",
              "      <td>low</td>\n",
              "    </tr>\n",
              "  </tbody>\n",
              "</table>\n",
              "</div>"
            ],
            "text/plain": [
              "        Country  obs_value  ... iHDI_index iHDI_group\n",
              "0   Afghanistan       4.28  ...      0.347        low\n",
              "1   Afghanistan       5.54  ...      0.347        low\n",
              "2   Afghanistan       3.55  ...      0.347        low\n",
              "3   Afghanistan       4.36  ...      0.347        low\n",
              "4   Afghanistan       0.18  ...      0.347        low\n",
              "5   Afghanistan      -1.62  ...      0.347        low\n",
              "6   Afghanistan      -0.47  ...      0.347        low\n",
              "7   Afghanistan      -2.56  ...      0.347        low\n",
              "8   Afghanistan      -1.05  ...      0.347        low\n",
              "9   Afghanistan      -3.63  ...      0.347        low\n",
              "10  Afghanistan      -1.63  ...      0.347        low\n",
              "11  Afghanistan      -5.00  ...      0.347        low\n",
              "12  Afghanistan      -0.14  ...      0.347        low\n",
              "13  Afghanistan      -3.47  ...      0.347        low\n",
              "14  Afghanistan       0.09  ...      0.347        low\n",
              "15  Afghanistan      -2.55  ...      0.347        low\n",
              "16  Afghanistan       0.24  ...      0.347        low\n",
              "17  Afghanistan      -1.93  ...      0.347        low\n",
              "18  Afghanistan       0.80  ...      0.347        low\n",
              "19  Afghanistan      -0.85  ...      0.347        low\n",
              "\n",
              "[20 rows x 8 columns]"
            ]
          },
          "metadata": {
            "tags": []
          },
          "execution_count": 45
        }
      ]
    },
    {
      "cell_type": "code",
      "metadata": {
        "id": "cnhmKFfRW_HK",
        "colab_type": "code",
        "colab": {}
      },
      "source": [
        "backup_merge = merge_cpi_hdi.copy() #taking a backup copy"
      ],
      "execution_count": 0,
      "outputs": []
    },
    {
      "cell_type": "code",
      "metadata": {
        "id": "PFcZ-jTvPLuz",
        "colab_type": "code",
        "colab": {}
      },
      "source": [
        "label_encoder = preprocessing.LabelEncoder()"
      ],
      "execution_count": 0,
      "outputs": []
    },
    {
      "cell_type": "code",
      "metadata": {
        "id": "oL6HSn3zPQzP",
        "colab_type": "code",
        "colab": {}
      },
      "source": [
        "merge_cpi_hdi['Country']= label_encoder.fit_transform(merge_cpi_hdi['Country']) "
      ],
      "execution_count": 0,
      "outputs": []
    },
    {
      "cell_type": "code",
      "metadata": {
        "id": "09Bd7z4tPT8h",
        "colab_type": "code",
        "colab": {
          "base_uri": "https://localhost:8080/",
          "height": 204
        },
        "outputId": "d617ff05-c3af-47d6-f20a-daccdce92d46"
      },
      "source": [
        "merge_cpi_hdi.head()"
      ],
      "execution_count": 49,
      "outputs": [
        {
          "output_type": "execute_result",
          "data": {
            "text/html": [
              "<div>\n",
              "<style scoped>\n",
              "    .dataframe tbody tr th:only-of-type {\n",
              "        vertical-align: middle;\n",
              "    }\n",
              "\n",
              "    .dataframe tbody tr th {\n",
              "        vertical-align: top;\n",
              "    }\n",
              "\n",
              "    .dataframe thead th {\n",
              "        text-align: right;\n",
              "    }\n",
              "</style>\n",
              "<table border=\"1\" class=\"dataframe\">\n",
              "  <thead>\n",
              "    <tr style=\"text-align: right;\">\n",
              "      <th></th>\n",
              "      <th>Country</th>\n",
              "      <th>obs_value</th>\n",
              "      <th>category</th>\n",
              "      <th>frequency</th>\n",
              "      <th>year</th>\n",
              "      <th>month</th>\n",
              "      <th>iHDI_index</th>\n",
              "      <th>iHDI_group</th>\n",
              "    </tr>\n",
              "  </thead>\n",
              "  <tbody>\n",
              "    <tr>\n",
              "      <th>0</th>\n",
              "      <td>0</td>\n",
              "      <td>4.28</td>\n",
              "      <td>General</td>\n",
              "      <td>Monthly</td>\n",
              "      <td>2018</td>\n",
              "      <td>01</td>\n",
              "      <td>0.347</td>\n",
              "      <td>low</td>\n",
              "    </tr>\n",
              "    <tr>\n",
              "      <th>1</th>\n",
              "      <td>0</td>\n",
              "      <td>5.54</td>\n",
              "      <td>Food and non-alcoholic beverages</td>\n",
              "      <td>Monthly</td>\n",
              "      <td>2018</td>\n",
              "      <td>01</td>\n",
              "      <td>0.347</td>\n",
              "      <td>low</td>\n",
              "    </tr>\n",
              "    <tr>\n",
              "      <th>2</th>\n",
              "      <td>0</td>\n",
              "      <td>3.55</td>\n",
              "      <td>General</td>\n",
              "      <td>Monthly</td>\n",
              "      <td>2018</td>\n",
              "      <td>02</td>\n",
              "      <td>0.347</td>\n",
              "      <td>low</td>\n",
              "    </tr>\n",
              "    <tr>\n",
              "      <th>3</th>\n",
              "      <td>0</td>\n",
              "      <td>4.36</td>\n",
              "      <td>Food and non-alcoholic beverages</td>\n",
              "      <td>Monthly</td>\n",
              "      <td>2018</td>\n",
              "      <td>02</td>\n",
              "      <td>0.347</td>\n",
              "      <td>low</td>\n",
              "    </tr>\n",
              "    <tr>\n",
              "      <th>4</th>\n",
              "      <td>0</td>\n",
              "      <td>0.18</td>\n",
              "      <td>General</td>\n",
              "      <td>Monthly</td>\n",
              "      <td>2018</td>\n",
              "      <td>03</td>\n",
              "      <td>0.347</td>\n",
              "      <td>low</td>\n",
              "    </tr>\n",
              "  </tbody>\n",
              "</table>\n",
              "</div>"
            ],
            "text/plain": [
              "   Country  obs_value  ... iHDI_index iHDI_group\n",
              "0        0       4.28  ...      0.347        low\n",
              "1        0       5.54  ...      0.347        low\n",
              "2        0       3.55  ...      0.347        low\n",
              "3        0       4.36  ...      0.347        low\n",
              "4        0       0.18  ...      0.347        low\n",
              "\n",
              "[5 rows x 8 columns]"
            ]
          },
          "metadata": {
            "tags": []
          },
          "execution_count": 49
        }
      ]
    },
    {
      "cell_type": "code",
      "metadata": {
        "id": "YOodPbNuPnYd",
        "colab_type": "code",
        "colab": {}
      },
      "source": [
        "#will use get dummies for category, year and label encoding for HDI group.\n",
        "merge_cpi_hdi['iHDI_group']= label_encoder.fit_transform(merge_cpi_hdi['iHDI_group']) "
      ],
      "execution_count": 0,
      "outputs": []
    },
    {
      "cell_type": "code",
      "metadata": {
        "id": "FlJtiOTGPyaP",
        "colab_type": "code",
        "colab": {
          "base_uri": "https://localhost:8080/",
          "height": 204
        },
        "outputId": "1fcbb6a8-1326-45c6-9691-e691de21fca1"
      },
      "source": [
        "merge_cpi_hdi.head()"
      ],
      "execution_count": 51,
      "outputs": [
        {
          "output_type": "execute_result",
          "data": {
            "text/html": [
              "<div>\n",
              "<style scoped>\n",
              "    .dataframe tbody tr th:only-of-type {\n",
              "        vertical-align: middle;\n",
              "    }\n",
              "\n",
              "    .dataframe tbody tr th {\n",
              "        vertical-align: top;\n",
              "    }\n",
              "\n",
              "    .dataframe thead th {\n",
              "        text-align: right;\n",
              "    }\n",
              "</style>\n",
              "<table border=\"1\" class=\"dataframe\">\n",
              "  <thead>\n",
              "    <tr style=\"text-align: right;\">\n",
              "      <th></th>\n",
              "      <th>Country</th>\n",
              "      <th>obs_value</th>\n",
              "      <th>category</th>\n",
              "      <th>frequency</th>\n",
              "      <th>year</th>\n",
              "      <th>month</th>\n",
              "      <th>iHDI_index</th>\n",
              "      <th>iHDI_group</th>\n",
              "    </tr>\n",
              "  </thead>\n",
              "  <tbody>\n",
              "    <tr>\n",
              "      <th>0</th>\n",
              "      <td>0</td>\n",
              "      <td>4.28</td>\n",
              "      <td>General</td>\n",
              "      <td>Monthly</td>\n",
              "      <td>2018</td>\n",
              "      <td>01</td>\n",
              "      <td>0.347</td>\n",
              "      <td>1</td>\n",
              "    </tr>\n",
              "    <tr>\n",
              "      <th>1</th>\n",
              "      <td>0</td>\n",
              "      <td>5.54</td>\n",
              "      <td>Food and non-alcoholic beverages</td>\n",
              "      <td>Monthly</td>\n",
              "      <td>2018</td>\n",
              "      <td>01</td>\n",
              "      <td>0.347</td>\n",
              "      <td>1</td>\n",
              "    </tr>\n",
              "    <tr>\n",
              "      <th>2</th>\n",
              "      <td>0</td>\n",
              "      <td>3.55</td>\n",
              "      <td>General</td>\n",
              "      <td>Monthly</td>\n",
              "      <td>2018</td>\n",
              "      <td>02</td>\n",
              "      <td>0.347</td>\n",
              "      <td>1</td>\n",
              "    </tr>\n",
              "    <tr>\n",
              "      <th>3</th>\n",
              "      <td>0</td>\n",
              "      <td>4.36</td>\n",
              "      <td>Food and non-alcoholic beverages</td>\n",
              "      <td>Monthly</td>\n",
              "      <td>2018</td>\n",
              "      <td>02</td>\n",
              "      <td>0.347</td>\n",
              "      <td>1</td>\n",
              "    </tr>\n",
              "    <tr>\n",
              "      <th>4</th>\n",
              "      <td>0</td>\n",
              "      <td>0.18</td>\n",
              "      <td>General</td>\n",
              "      <td>Monthly</td>\n",
              "      <td>2018</td>\n",
              "      <td>03</td>\n",
              "      <td>0.347</td>\n",
              "      <td>1</td>\n",
              "    </tr>\n",
              "  </tbody>\n",
              "</table>\n",
              "</div>"
            ],
            "text/plain": [
              "   Country  obs_value  ... iHDI_index iHDI_group\n",
              "0        0       4.28  ...      0.347          1\n",
              "1        0       5.54  ...      0.347          1\n",
              "2        0       3.55  ...      0.347          1\n",
              "3        0       4.36  ...      0.347          1\n",
              "4        0       0.18  ...      0.347          1\n",
              "\n",
              "[5 rows x 8 columns]"
            ]
          },
          "metadata": {
            "tags": []
          },
          "execution_count": 51
        }
      ]
    },
    {
      "cell_type": "code",
      "metadata": {
        "id": "5KRK0dGPP6b9",
        "colab_type": "code",
        "colab": {}
      },
      "source": [
        "merge_cpi_hdi = pd.concat([merge_cpi_hdi,pd.get_dummies(merge_cpi_hdi['category'], prefix='category')],axis=1)"
      ],
      "execution_count": 0,
      "outputs": []
    },
    {
      "cell_type": "code",
      "metadata": {
        "id": "RXtPoE2GJE_l",
        "colab_type": "code",
        "colab": {
          "base_uri": "https://localhost:8080/",
          "height": 204
        },
        "outputId": "3f39dc9c-89fe-434d-d666-26cd056f473f"
      },
      "source": [
        "merge_cpi_hdi.head()"
      ],
      "execution_count": 53,
      "outputs": [
        {
          "output_type": "execute_result",
          "data": {
            "text/html": [
              "<div>\n",
              "<style scoped>\n",
              "    .dataframe tbody tr th:only-of-type {\n",
              "        vertical-align: middle;\n",
              "    }\n",
              "\n",
              "    .dataframe tbody tr th {\n",
              "        vertical-align: top;\n",
              "    }\n",
              "\n",
              "    .dataframe thead th {\n",
              "        text-align: right;\n",
              "    }\n",
              "</style>\n",
              "<table border=\"1\" class=\"dataframe\">\n",
              "  <thead>\n",
              "    <tr style=\"text-align: right;\">\n",
              "      <th></th>\n",
              "      <th>Country</th>\n",
              "      <th>obs_value</th>\n",
              "      <th>category</th>\n",
              "      <th>frequency</th>\n",
              "      <th>year</th>\n",
              "      <th>month</th>\n",
              "      <th>iHDI_index</th>\n",
              "      <th>iHDI_group</th>\n",
              "      <th>category_ Food and non-alcoholic beverages</th>\n",
              "      <th>category_ General</th>\n",
              "    </tr>\n",
              "  </thead>\n",
              "  <tbody>\n",
              "    <tr>\n",
              "      <th>0</th>\n",
              "      <td>0</td>\n",
              "      <td>4.28</td>\n",
              "      <td>General</td>\n",
              "      <td>Monthly</td>\n",
              "      <td>2018</td>\n",
              "      <td>01</td>\n",
              "      <td>0.347</td>\n",
              "      <td>1</td>\n",
              "      <td>0</td>\n",
              "      <td>1</td>\n",
              "    </tr>\n",
              "    <tr>\n",
              "      <th>1</th>\n",
              "      <td>0</td>\n",
              "      <td>5.54</td>\n",
              "      <td>Food and non-alcoholic beverages</td>\n",
              "      <td>Monthly</td>\n",
              "      <td>2018</td>\n",
              "      <td>01</td>\n",
              "      <td>0.347</td>\n",
              "      <td>1</td>\n",
              "      <td>1</td>\n",
              "      <td>0</td>\n",
              "    </tr>\n",
              "    <tr>\n",
              "      <th>2</th>\n",
              "      <td>0</td>\n",
              "      <td>3.55</td>\n",
              "      <td>General</td>\n",
              "      <td>Monthly</td>\n",
              "      <td>2018</td>\n",
              "      <td>02</td>\n",
              "      <td>0.347</td>\n",
              "      <td>1</td>\n",
              "      <td>0</td>\n",
              "      <td>1</td>\n",
              "    </tr>\n",
              "    <tr>\n",
              "      <th>3</th>\n",
              "      <td>0</td>\n",
              "      <td>4.36</td>\n",
              "      <td>Food and non-alcoholic beverages</td>\n",
              "      <td>Monthly</td>\n",
              "      <td>2018</td>\n",
              "      <td>02</td>\n",
              "      <td>0.347</td>\n",
              "      <td>1</td>\n",
              "      <td>1</td>\n",
              "      <td>0</td>\n",
              "    </tr>\n",
              "    <tr>\n",
              "      <th>4</th>\n",
              "      <td>0</td>\n",
              "      <td>0.18</td>\n",
              "      <td>General</td>\n",
              "      <td>Monthly</td>\n",
              "      <td>2018</td>\n",
              "      <td>03</td>\n",
              "      <td>0.347</td>\n",
              "      <td>1</td>\n",
              "      <td>0</td>\n",
              "      <td>1</td>\n",
              "    </tr>\n",
              "  </tbody>\n",
              "</table>\n",
              "</div>"
            ],
            "text/plain": [
              "   Country  ...  category_ General\n",
              "0        0  ...                  1\n",
              "1        0  ...                  0\n",
              "2        0  ...                  1\n",
              "3        0  ...                  0\n",
              "4        0  ...                  1\n",
              "\n",
              "[5 rows x 10 columns]"
            ]
          },
          "metadata": {
            "tags": []
          },
          "execution_count": 53
        }
      ]
    },
    {
      "cell_type": "code",
      "metadata": {
        "id": "YPKXIS4LJMvt",
        "colab_type": "code",
        "colab": {}
      },
      "source": [
        "merge_cpi_hdi.drop(['category'],axis=1, inplace=True)"
      ],
      "execution_count": 0,
      "outputs": []
    },
    {
      "cell_type": "code",
      "metadata": {
        "id": "XNQnE2-wJST8",
        "colab_type": "code",
        "colab": {}
      },
      "source": [
        "merge_cpi_hdi = pd.concat([merge_cpi_hdi,pd.get_dummies(merge_cpi_hdi['year'], prefix='year')],axis=1)"
      ],
      "execution_count": 0,
      "outputs": []
    },
    {
      "cell_type": "code",
      "metadata": {
        "id": "AdAUZRUvJdLt",
        "colab_type": "code",
        "colab": {
          "base_uri": "https://localhost:8080/",
          "height": 204
        },
        "outputId": "d910f819-bc1c-492b-883d-a746899f6a81"
      },
      "source": [
        "merge_cpi_hdi.head()"
      ],
      "execution_count": 56,
      "outputs": [
        {
          "output_type": "execute_result",
          "data": {
            "text/html": [
              "<div>\n",
              "<style scoped>\n",
              "    .dataframe tbody tr th:only-of-type {\n",
              "        vertical-align: middle;\n",
              "    }\n",
              "\n",
              "    .dataframe tbody tr th {\n",
              "        vertical-align: top;\n",
              "    }\n",
              "\n",
              "    .dataframe thead th {\n",
              "        text-align: right;\n",
              "    }\n",
              "</style>\n",
              "<table border=\"1\" class=\"dataframe\">\n",
              "  <thead>\n",
              "    <tr style=\"text-align: right;\">\n",
              "      <th></th>\n",
              "      <th>Country</th>\n",
              "      <th>obs_value</th>\n",
              "      <th>frequency</th>\n",
              "      <th>year</th>\n",
              "      <th>month</th>\n",
              "      <th>iHDI_index</th>\n",
              "      <th>iHDI_group</th>\n",
              "      <th>category_ Food and non-alcoholic beverages</th>\n",
              "      <th>category_ General</th>\n",
              "      <th>year_2018</th>\n",
              "      <th>year_2019</th>\n",
              "      <th>year_2020</th>\n",
              "    </tr>\n",
              "  </thead>\n",
              "  <tbody>\n",
              "    <tr>\n",
              "      <th>0</th>\n",
              "      <td>0</td>\n",
              "      <td>4.28</td>\n",
              "      <td>Monthly</td>\n",
              "      <td>2018</td>\n",
              "      <td>01</td>\n",
              "      <td>0.347</td>\n",
              "      <td>1</td>\n",
              "      <td>0</td>\n",
              "      <td>1</td>\n",
              "      <td>1</td>\n",
              "      <td>0</td>\n",
              "      <td>0</td>\n",
              "    </tr>\n",
              "    <tr>\n",
              "      <th>1</th>\n",
              "      <td>0</td>\n",
              "      <td>5.54</td>\n",
              "      <td>Monthly</td>\n",
              "      <td>2018</td>\n",
              "      <td>01</td>\n",
              "      <td>0.347</td>\n",
              "      <td>1</td>\n",
              "      <td>1</td>\n",
              "      <td>0</td>\n",
              "      <td>1</td>\n",
              "      <td>0</td>\n",
              "      <td>0</td>\n",
              "    </tr>\n",
              "    <tr>\n",
              "      <th>2</th>\n",
              "      <td>0</td>\n",
              "      <td>3.55</td>\n",
              "      <td>Monthly</td>\n",
              "      <td>2018</td>\n",
              "      <td>02</td>\n",
              "      <td>0.347</td>\n",
              "      <td>1</td>\n",
              "      <td>0</td>\n",
              "      <td>1</td>\n",
              "      <td>1</td>\n",
              "      <td>0</td>\n",
              "      <td>0</td>\n",
              "    </tr>\n",
              "    <tr>\n",
              "      <th>3</th>\n",
              "      <td>0</td>\n",
              "      <td>4.36</td>\n",
              "      <td>Monthly</td>\n",
              "      <td>2018</td>\n",
              "      <td>02</td>\n",
              "      <td>0.347</td>\n",
              "      <td>1</td>\n",
              "      <td>1</td>\n",
              "      <td>0</td>\n",
              "      <td>1</td>\n",
              "      <td>0</td>\n",
              "      <td>0</td>\n",
              "    </tr>\n",
              "    <tr>\n",
              "      <th>4</th>\n",
              "      <td>0</td>\n",
              "      <td>0.18</td>\n",
              "      <td>Monthly</td>\n",
              "      <td>2018</td>\n",
              "      <td>03</td>\n",
              "      <td>0.347</td>\n",
              "      <td>1</td>\n",
              "      <td>0</td>\n",
              "      <td>1</td>\n",
              "      <td>1</td>\n",
              "      <td>0</td>\n",
              "      <td>0</td>\n",
              "    </tr>\n",
              "  </tbody>\n",
              "</table>\n",
              "</div>"
            ],
            "text/plain": [
              "   Country  obs_value frequency  ... year_2018 year_2019  year_2020\n",
              "0        0       4.28   Monthly  ...         1         0          0\n",
              "1        0       5.54   Monthly  ...         1         0          0\n",
              "2        0       3.55   Monthly  ...         1         0          0\n",
              "3        0       4.36   Monthly  ...         1         0          0\n",
              "4        0       0.18   Monthly  ...         1         0          0\n",
              "\n",
              "[5 rows x 12 columns]"
            ]
          },
          "metadata": {
            "tags": []
          },
          "execution_count": 56
        }
      ]
    },
    {
      "cell_type": "code",
      "metadata": {
        "id": "58OOLxBZJhin",
        "colab_type": "code",
        "colab": {}
      },
      "source": [
        "merge_cpi_hdi.drop(['year'],axis=1, inplace=True)"
      ],
      "execution_count": 0,
      "outputs": []
    },
    {
      "cell_type": "code",
      "metadata": {
        "id": "aufGVLk7JoxY",
        "colab_type": "code",
        "colab": {}
      },
      "source": [
        "#dropping frequency column since we know frequency is monthly\n",
        "merge_cpi_hdi.drop(['frequency'],axis=1, inplace=True)"
      ],
      "execution_count": 0,
      "outputs": []
    },
    {
      "cell_type": "code",
      "metadata": {
        "id": "qJTL2F3jJ306",
        "colab_type": "code",
        "colab": {
          "base_uri": "https://localhost:8080/",
          "height": 204
        },
        "outputId": "6bc95af7-5f4d-470f-c277-80068f04e43a"
      },
      "source": [
        "merge_cpi_hdi.head()"
      ],
      "execution_count": 59,
      "outputs": [
        {
          "output_type": "execute_result",
          "data": {
            "text/html": [
              "<div>\n",
              "<style scoped>\n",
              "    .dataframe tbody tr th:only-of-type {\n",
              "        vertical-align: middle;\n",
              "    }\n",
              "\n",
              "    .dataframe tbody tr th {\n",
              "        vertical-align: top;\n",
              "    }\n",
              "\n",
              "    .dataframe thead th {\n",
              "        text-align: right;\n",
              "    }\n",
              "</style>\n",
              "<table border=\"1\" class=\"dataframe\">\n",
              "  <thead>\n",
              "    <tr style=\"text-align: right;\">\n",
              "      <th></th>\n",
              "      <th>Country</th>\n",
              "      <th>obs_value</th>\n",
              "      <th>month</th>\n",
              "      <th>iHDI_index</th>\n",
              "      <th>iHDI_group</th>\n",
              "      <th>category_ Food and non-alcoholic beverages</th>\n",
              "      <th>category_ General</th>\n",
              "      <th>year_2018</th>\n",
              "      <th>year_2019</th>\n",
              "      <th>year_2020</th>\n",
              "    </tr>\n",
              "  </thead>\n",
              "  <tbody>\n",
              "    <tr>\n",
              "      <th>0</th>\n",
              "      <td>0</td>\n",
              "      <td>4.28</td>\n",
              "      <td>01</td>\n",
              "      <td>0.347</td>\n",
              "      <td>1</td>\n",
              "      <td>0</td>\n",
              "      <td>1</td>\n",
              "      <td>1</td>\n",
              "      <td>0</td>\n",
              "      <td>0</td>\n",
              "    </tr>\n",
              "    <tr>\n",
              "      <th>1</th>\n",
              "      <td>0</td>\n",
              "      <td>5.54</td>\n",
              "      <td>01</td>\n",
              "      <td>0.347</td>\n",
              "      <td>1</td>\n",
              "      <td>1</td>\n",
              "      <td>0</td>\n",
              "      <td>1</td>\n",
              "      <td>0</td>\n",
              "      <td>0</td>\n",
              "    </tr>\n",
              "    <tr>\n",
              "      <th>2</th>\n",
              "      <td>0</td>\n",
              "      <td>3.55</td>\n",
              "      <td>02</td>\n",
              "      <td>0.347</td>\n",
              "      <td>1</td>\n",
              "      <td>0</td>\n",
              "      <td>1</td>\n",
              "      <td>1</td>\n",
              "      <td>0</td>\n",
              "      <td>0</td>\n",
              "    </tr>\n",
              "    <tr>\n",
              "      <th>3</th>\n",
              "      <td>0</td>\n",
              "      <td>4.36</td>\n",
              "      <td>02</td>\n",
              "      <td>0.347</td>\n",
              "      <td>1</td>\n",
              "      <td>1</td>\n",
              "      <td>0</td>\n",
              "      <td>1</td>\n",
              "      <td>0</td>\n",
              "      <td>0</td>\n",
              "    </tr>\n",
              "    <tr>\n",
              "      <th>4</th>\n",
              "      <td>0</td>\n",
              "      <td>0.18</td>\n",
              "      <td>03</td>\n",
              "      <td>0.347</td>\n",
              "      <td>1</td>\n",
              "      <td>0</td>\n",
              "      <td>1</td>\n",
              "      <td>1</td>\n",
              "      <td>0</td>\n",
              "      <td>0</td>\n",
              "    </tr>\n",
              "  </tbody>\n",
              "</table>\n",
              "</div>"
            ],
            "text/plain": [
              "   Country  obs_value month  ...  year_2018  year_2019  year_2020\n",
              "0        0       4.28    01  ...          1          0          0\n",
              "1        0       5.54    01  ...          1          0          0\n",
              "2        0       3.55    02  ...          1          0          0\n",
              "3        0       4.36    02  ...          1          0          0\n",
              "4        0       0.18    03  ...          1          0          0\n",
              "\n",
              "[5 rows x 10 columns]"
            ]
          },
          "metadata": {
            "tags": []
          },
          "execution_count": 59
        }
      ]
    },
    {
      "cell_type": "code",
      "metadata": {
        "id": "YfIgBsg8KRVj",
        "colab_type": "code",
        "colab": {}
      },
      "source": [
        "#taking a backup copy\n",
        "backup = merge_cpi_hdi.copy()"
      ],
      "execution_count": 0,
      "outputs": []
    },
    {
      "cell_type": "code",
      "metadata": {
        "id": "bHuqAQBCKXBM",
        "colab_type": "code",
        "colab": {
          "base_uri": "https://localhost:8080/",
          "height": 204
        },
        "outputId": "6f3b8bdc-f30c-4615-e593-a96888812d63"
      },
      "source": [
        "backup.head()"
      ],
      "execution_count": 61,
      "outputs": [
        {
          "output_type": "execute_result",
          "data": {
            "text/html": [
              "<div>\n",
              "<style scoped>\n",
              "    .dataframe tbody tr th:only-of-type {\n",
              "        vertical-align: middle;\n",
              "    }\n",
              "\n",
              "    .dataframe tbody tr th {\n",
              "        vertical-align: top;\n",
              "    }\n",
              "\n",
              "    .dataframe thead th {\n",
              "        text-align: right;\n",
              "    }\n",
              "</style>\n",
              "<table border=\"1\" class=\"dataframe\">\n",
              "  <thead>\n",
              "    <tr style=\"text-align: right;\">\n",
              "      <th></th>\n",
              "      <th>Country</th>\n",
              "      <th>obs_value</th>\n",
              "      <th>month</th>\n",
              "      <th>iHDI_index</th>\n",
              "      <th>iHDI_group</th>\n",
              "      <th>category_ Food and non-alcoholic beverages</th>\n",
              "      <th>category_ General</th>\n",
              "      <th>year_2018</th>\n",
              "      <th>year_2019</th>\n",
              "      <th>year_2020</th>\n",
              "    </tr>\n",
              "  </thead>\n",
              "  <tbody>\n",
              "    <tr>\n",
              "      <th>0</th>\n",
              "      <td>0</td>\n",
              "      <td>4.28</td>\n",
              "      <td>01</td>\n",
              "      <td>0.347</td>\n",
              "      <td>1</td>\n",
              "      <td>0</td>\n",
              "      <td>1</td>\n",
              "      <td>1</td>\n",
              "      <td>0</td>\n",
              "      <td>0</td>\n",
              "    </tr>\n",
              "    <tr>\n",
              "      <th>1</th>\n",
              "      <td>0</td>\n",
              "      <td>5.54</td>\n",
              "      <td>01</td>\n",
              "      <td>0.347</td>\n",
              "      <td>1</td>\n",
              "      <td>1</td>\n",
              "      <td>0</td>\n",
              "      <td>1</td>\n",
              "      <td>0</td>\n",
              "      <td>0</td>\n",
              "    </tr>\n",
              "    <tr>\n",
              "      <th>2</th>\n",
              "      <td>0</td>\n",
              "      <td>3.55</td>\n",
              "      <td>02</td>\n",
              "      <td>0.347</td>\n",
              "      <td>1</td>\n",
              "      <td>0</td>\n",
              "      <td>1</td>\n",
              "      <td>1</td>\n",
              "      <td>0</td>\n",
              "      <td>0</td>\n",
              "    </tr>\n",
              "    <tr>\n",
              "      <th>3</th>\n",
              "      <td>0</td>\n",
              "      <td>4.36</td>\n",
              "      <td>02</td>\n",
              "      <td>0.347</td>\n",
              "      <td>1</td>\n",
              "      <td>1</td>\n",
              "      <td>0</td>\n",
              "      <td>1</td>\n",
              "      <td>0</td>\n",
              "      <td>0</td>\n",
              "    </tr>\n",
              "    <tr>\n",
              "      <th>4</th>\n",
              "      <td>0</td>\n",
              "      <td>0.18</td>\n",
              "      <td>03</td>\n",
              "      <td>0.347</td>\n",
              "      <td>1</td>\n",
              "      <td>0</td>\n",
              "      <td>1</td>\n",
              "      <td>1</td>\n",
              "      <td>0</td>\n",
              "      <td>0</td>\n",
              "    </tr>\n",
              "  </tbody>\n",
              "</table>\n",
              "</div>"
            ],
            "text/plain": [
              "   Country  obs_value month  ...  year_2018  year_2019  year_2020\n",
              "0        0       4.28    01  ...          1          0          0\n",
              "1        0       5.54    01  ...          1          0          0\n",
              "2        0       3.55    02  ...          1          0          0\n",
              "3        0       4.36    02  ...          1          0          0\n",
              "4        0       0.18    03  ...          1          0          0\n",
              "\n",
              "[5 rows x 10 columns]"
            ]
          },
          "metadata": {
            "tags": []
          },
          "execution_count": 61
        }
      ]
    },
    {
      "cell_type": "code",
      "metadata": {
        "id": "L3N9LXy2KQEg",
        "colab_type": "code",
        "colab": {}
      },
      "source": [
        "data = backup.corr()"
      ],
      "execution_count": 0,
      "outputs": []
    },
    {
      "cell_type": "code",
      "metadata": {
        "id": "laxLRmkXKrOD",
        "colab_type": "code",
        "colab": {
          "base_uri": "https://localhost:8080/",
          "height": 328
        },
        "outputId": "7ccb1648-b746-41b0-847c-fffca647adff"
      },
      "source": [
        "data"
      ],
      "execution_count": 63,
      "outputs": [
        {
          "output_type": "execute_result",
          "data": {
            "text/html": [
              "<div>\n",
              "<style scoped>\n",
              "    .dataframe tbody tr th:only-of-type {\n",
              "        vertical-align: middle;\n",
              "    }\n",
              "\n",
              "    .dataframe tbody tr th {\n",
              "        vertical-align: top;\n",
              "    }\n",
              "\n",
              "    .dataframe thead th {\n",
              "        text-align: right;\n",
              "    }\n",
              "</style>\n",
              "<table border=\"1\" class=\"dataframe\">\n",
              "  <thead>\n",
              "    <tr style=\"text-align: right;\">\n",
              "      <th></th>\n",
              "      <th>Country</th>\n",
              "      <th>obs_value</th>\n",
              "      <th>iHDI_index</th>\n",
              "      <th>iHDI_group</th>\n",
              "      <th>category_ Food and non-alcoholic beverages</th>\n",
              "      <th>category_ General</th>\n",
              "      <th>year_2018</th>\n",
              "      <th>year_2019</th>\n",
              "      <th>year_2020</th>\n",
              "    </tr>\n",
              "  </thead>\n",
              "  <tbody>\n",
              "    <tr>\n",
              "      <th>Country</th>\n",
              "      <td>1.000000</td>\n",
              "      <td>0.000012</td>\n",
              "      <td>0.005414</td>\n",
              "      <td>0.083762</td>\n",
              "      <td>-0.001892</td>\n",
              "      <td>0.001892</td>\n",
              "      <td>-0.025428</td>\n",
              "      <td>0.024585</td>\n",
              "      <td>0.002374</td>\n",
              "    </tr>\n",
              "    <tr>\n",
              "      <th>obs_value</th>\n",
              "      <td>0.000012</td>\n",
              "      <td>1.000000</td>\n",
              "      <td>-0.139802</td>\n",
              "      <td>-0.014727</td>\n",
              "      <td>-0.003351</td>\n",
              "      <td>0.003351</td>\n",
              "      <td>0.012045</td>\n",
              "      <td>-0.014065</td>\n",
              "      <td>0.004768</td>\n",
              "    </tr>\n",
              "    <tr>\n",
              "      <th>iHDI_index</th>\n",
              "      <td>0.005414</td>\n",
              "      <td>-0.139802</td>\n",
              "      <td>1.000000</td>\n",
              "      <td>0.588538</td>\n",
              "      <td>-0.005933</td>\n",
              "      <td>0.005933</td>\n",
              "      <td>-0.082934</td>\n",
              "      <td>0.046697</td>\n",
              "      <td>0.089304</td>\n",
              "    </tr>\n",
              "    <tr>\n",
              "      <th>iHDI_group</th>\n",
              "      <td>0.083762</td>\n",
              "      <td>-0.014727</td>\n",
              "      <td>0.588538</td>\n",
              "      <td>1.000000</td>\n",
              "      <td>0.018805</td>\n",
              "      <td>-0.018805</td>\n",
              "      <td>-0.034337</td>\n",
              "      <td>0.017129</td>\n",
              "      <td>0.042345</td>\n",
              "    </tr>\n",
              "    <tr>\n",
              "      <th>category_ Food and non-alcoholic beverages</th>\n",
              "      <td>-0.001892</td>\n",
              "      <td>-0.003351</td>\n",
              "      <td>-0.005933</td>\n",
              "      <td>0.018805</td>\n",
              "      <td>1.000000</td>\n",
              "      <td>-1.000000</td>\n",
              "      <td>0.006028</td>\n",
              "      <td>-0.004713</td>\n",
              "      <td>-0.003278</td>\n",
              "    </tr>\n",
              "    <tr>\n",
              "      <th>category_ General</th>\n",
              "      <td>0.001892</td>\n",
              "      <td>0.003351</td>\n",
              "      <td>0.005933</td>\n",
              "      <td>-0.018805</td>\n",
              "      <td>-1.000000</td>\n",
              "      <td>1.000000</td>\n",
              "      <td>-0.006028</td>\n",
              "      <td>0.004713</td>\n",
              "      <td>0.003278</td>\n",
              "    </tr>\n",
              "    <tr>\n",
              "      <th>year_2018</th>\n",
              "      <td>-0.025428</td>\n",
              "      <td>0.012045</td>\n",
              "      <td>-0.082934</td>\n",
              "      <td>-0.034337</td>\n",
              "      <td>0.006028</td>\n",
              "      <td>-0.006028</td>\n",
              "      <td>1.000000</td>\n",
              "      <td>-0.916168</td>\n",
              "      <td>-0.216764</td>\n",
              "    </tr>\n",
              "    <tr>\n",
              "      <th>year_2019</th>\n",
              "      <td>0.024585</td>\n",
              "      <td>-0.014065</td>\n",
              "      <td>0.046697</td>\n",
              "      <td>0.017129</td>\n",
              "      <td>-0.004713</td>\n",
              "      <td>0.004713</td>\n",
              "      <td>-0.916168</td>\n",
              "      <td>1.000000</td>\n",
              "      <td>-0.192673</td>\n",
              "    </tr>\n",
              "    <tr>\n",
              "      <th>year_2020</th>\n",
              "      <td>0.002374</td>\n",
              "      <td>0.004768</td>\n",
              "      <td>0.089304</td>\n",
              "      <td>0.042345</td>\n",
              "      <td>-0.003278</td>\n",
              "      <td>0.003278</td>\n",
              "      <td>-0.216764</td>\n",
              "      <td>-0.192673</td>\n",
              "      <td>1.000000</td>\n",
              "    </tr>\n",
              "  </tbody>\n",
              "</table>\n",
              "</div>"
            ],
            "text/plain": [
              "                                             Country  ...  year_2020\n",
              "Country                                     1.000000  ...   0.002374\n",
              "obs_value                                   0.000012  ...   0.004768\n",
              "iHDI_index                                  0.005414  ...   0.089304\n",
              "iHDI_group                                  0.083762  ...   0.042345\n",
              "category_ Food and non-alcoholic beverages -0.001892  ...  -0.003278\n",
              "category_ General                           0.001892  ...   0.003278\n",
              "year_2018                                  -0.025428  ...  -0.216764\n",
              "year_2019                                   0.024585  ...  -0.192673\n",
              "year_2020                                   0.002374  ...   1.000000\n",
              "\n",
              "[9 rows x 9 columns]"
            ]
          },
          "metadata": {
            "tags": []
          },
          "execution_count": 63
        }
      ]
    },
    {
      "cell_type": "code",
      "metadata": {
        "id": "BSG-iankK1x1",
        "colab_type": "code",
        "colab": {
          "base_uri": "https://localhost:8080/",
          "height": 187
        },
        "outputId": "0c39abb0-fc5e-4a28-87dc-13f3dcfcdca6"
      },
      "source": [
        "data['iHDI_group'].sort_values() #correlation with the iHDI_group our label would be obs_value which has very little significance."
      ],
      "execution_count": 64,
      "outputs": [
        {
          "output_type": "execute_result",
          "data": {
            "text/plain": [
              "year_2018                                    -0.034337\n",
              "category_ General                            -0.018805\n",
              "obs_value                                    -0.014727\n",
              "year_2019                                     0.017129\n",
              "category_ Food and non-alcoholic beverages    0.018805\n",
              "year_2020                                     0.042345\n",
              "Country                                       0.083762\n",
              "iHDI_index                                    0.588538\n",
              "iHDI_group                                    1.000000\n",
              "Name: iHDI_group, dtype: float64"
            ]
          },
          "metadata": {
            "tags": []
          },
          "execution_count": 64
        }
      ]
    },
    {
      "cell_type": "code",
      "metadata": {
        "id": "8P2JrKrBJ8Ni",
        "colab_type": "code",
        "colab": {
          "base_uri": "https://localhost:8080/",
          "height": 825
        },
        "outputId": "53656428-0dd2-4b20-fad2-bc37f217c92e"
      },
      "source": [
        "plt.figure(figsize=(15,10))\n",
        "\n",
        "sns.heatmap(data)"
      ],
      "execution_count": 65,
      "outputs": [
        {
          "output_type": "execute_result",
          "data": {
            "text/plain": [
              "<matplotlib.axes._subplots.AxesSubplot at 0x7fb1fa25b4a8>"
            ]
          },
          "metadata": {
            "tags": []
          },
          "execution_count": 65
        },
        {
          "output_type": "display_data",
          "data": {
            "image/png": "[encoded data removed]",
            "text/plain": [
              "<Figure size 1080x720 with 2 Axes>"
            ]
          },
          "metadata": {
            "tags": [],
            "needs_background": "light"
          }
        }
      ]
    },
    {
      "cell_type": "code",
      "metadata": {
        "id": "PJCBugkHOLLd",
        "colab_type": "code",
        "colab": {}
      },
      "source": [
        "data_bank_lend = pd.read_csv(bank_lending_rate)"
      ],
      "execution_count": 0,
      "outputs": []
    },
    {
      "cell_type": "code",
      "metadata": {
        "id": "f3ngB_jNOTFu",
        "colab_type": "code",
        "colab": {
          "base_uri": "https://localhost:8080/",
          "height": 359
        },
        "outputId": "e30b463d-4f8e-432a-cb46-b6907b6d3385"
      },
      "source": [
        "data_bank_lend.head(10)"
      ],
      "execution_count": 67,
      "outputs": [
        {
          "output_type": "execute_result",
          "data": {
            "text/html": [
              "<div>\n",
              "<style scoped>\n",
              "    .dataframe tbody tr th:only-of-type {\n",
              "        vertical-align: middle;\n",
              "    }\n",
              "\n",
              "    .dataframe tbody tr th {\n",
              "        vertical-align: top;\n",
              "    }\n",
              "\n",
              "    .dataframe thead th {\n",
              "        text-align: right;\n",
              "    }\n",
              "</style>\n",
              "<table border=\"1\" class=\"dataframe\">\n",
              "  <thead>\n",
              "    <tr style=\"text-align: right;\">\n",
              "      <th></th>\n",
              "      <th>Country</th>\n",
              "      <th>Last</th>\n",
              "      <th>timestamp</th>\n",
              "      <th>Q2/20</th>\n",
              "      <th>Q3/20</th>\n",
              "      <th>Q4/20</th>\n",
              "      <th>Q1/21</th>\n",
              "    </tr>\n",
              "  </thead>\n",
              "  <tbody>\n",
              "    <tr>\n",
              "      <th>0</th>\n",
              "      <td>Albania</td>\n",
              "      <td>4.39</td>\n",
              "      <td>Dec/19</td>\n",
              "      <td>4.39</td>\n",
              "      <td>4.39</td>\n",
              "      <td>4.39</td>\n",
              "      <td>4.39</td>\n",
              "    </tr>\n",
              "    <tr>\n",
              "      <th>1</th>\n",
              "      <td>Angola</td>\n",
              "      <td>19.76</td>\n",
              "      <td>Nov/19</td>\n",
              "      <td>19.76</td>\n",
              "      <td>19.76</td>\n",
              "      <td>19.76</td>\n",
              "      <td>19.76</td>\n",
              "    </tr>\n",
              "    <tr>\n",
              "      <th>2</th>\n",
              "      <td>Australia</td>\n",
              "      <td>7.92</td>\n",
              "      <td>Feb/20</td>\n",
              "      <td>7.92</td>\n",
              "      <td>7.92</td>\n",
              "      <td>7.92</td>\n",
              "      <td>7.92</td>\n",
              "    </tr>\n",
              "    <tr>\n",
              "      <th>3</th>\n",
              "      <td>Austria</td>\n",
              "      <td>1.71</td>\n",
              "      <td>Feb/20</td>\n",
              "      <td>1.67</td>\n",
              "      <td>1.67</td>\n",
              "      <td>1.67</td>\n",
              "      <td>1.67</td>\n",
              "    </tr>\n",
              "    <tr>\n",
              "      <th>4</th>\n",
              "      <td>Bahamas</td>\n",
              "      <td>10.43</td>\n",
              "      <td>Jan/20</td>\n",
              "      <td>9.93</td>\n",
              "      <td>9.93</td>\n",
              "      <td>9.93</td>\n",
              "      <td>9.93</td>\n",
              "    </tr>\n",
              "    <tr>\n",
              "      <th>5</th>\n",
              "      <td>Bahrain</td>\n",
              "      <td>4.98</td>\n",
              "      <td>Sep/19</td>\n",
              "      <td>4.73</td>\n",
              "      <td>4.73</td>\n",
              "      <td>4.73</td>\n",
              "      <td>4.73</td>\n",
              "    </tr>\n",
              "    <tr>\n",
              "      <th>6</th>\n",
              "      <td>Belgium</td>\n",
              "      <td>1.55</td>\n",
              "      <td>Feb/20</td>\n",
              "      <td>1.57</td>\n",
              "      <td>1.57</td>\n",
              "      <td>1.57</td>\n",
              "      <td>1.57</td>\n",
              "    </tr>\n",
              "    <tr>\n",
              "      <th>7</th>\n",
              "      <td>Bolivia</td>\n",
              "      <td>6.11</td>\n",
              "      <td>Dec/19</td>\n",
              "      <td>5.54</td>\n",
              "      <td>5.34</td>\n",
              "      <td>5.14</td>\n",
              "      <td>5.24</td>\n",
              "    </tr>\n",
              "    <tr>\n",
              "      <th>8</th>\n",
              "      <td>Botswana</td>\n",
              "      <td>6.25</td>\n",
              "      <td>Jan/20</td>\n",
              "      <td>6.25</td>\n",
              "      <td>6.25</td>\n",
              "      <td>6.25</td>\n",
              "      <td>6.25</td>\n",
              "    </tr>\n",
              "    <tr>\n",
              "      <th>9</th>\n",
              "      <td>Brazil</td>\n",
              "      <td>46.67</td>\n",
              "      <td>Feb/20</td>\n",
              "      <td>46.67</td>\n",
              "      <td>46.67</td>\n",
              "      <td>46.67</td>\n",
              "      <td>47.17</td>\n",
              "    </tr>\n",
              "  </tbody>\n",
              "</table>\n",
              "</div>"
            ],
            "text/plain": [
              "     Country   Last timestamp  Q2/20  Q3/20  Q4/20  Q1/21\n",
              "0    Albania   4.39    Dec/19   4.39   4.39   4.39   4.39\n",
              "1     Angola  19.76    Nov/19  19.76  19.76  19.76  19.76\n",
              "2  Australia   7.92    Feb/20   7.92   7.92   7.92   7.92\n",
              "3    Austria   1.71    Feb/20   1.67   1.67   1.67   1.67\n",
              "4    Bahamas  10.43    Jan/20   9.93   9.93   9.93   9.93\n",
              "5    Bahrain   4.98    Sep/19   4.73   4.73   4.73   4.73\n",
              "6    Belgium   1.55    Feb/20   1.57   1.57   1.57   1.57\n",
              "7    Bolivia   6.11    Dec/19   5.54   5.34   5.14   5.24\n",
              "8   Botswana   6.25    Jan/20   6.25   6.25   6.25   6.25\n",
              "9     Brazil  46.67    Feb/20  46.67  46.67  46.67  47.17"
            ]
          },
          "metadata": {
            "tags": []
          },
          "execution_count": 67
        }
      ]
    },
    {
      "cell_type": "code",
      "metadata": {
        "id": "YnQuQa-nPwF6",
        "colab_type": "code",
        "colab": {
          "base_uri": "https://localhost:8080/",
          "height": 153
        },
        "outputId": "ef6d93e3-a954-4488-b31f-1d749aea67e4"
      },
      "source": [
        "data_bank_lend.dtypes"
      ],
      "execution_count": 68,
      "outputs": [
        {
          "output_type": "execute_result",
          "data": {
            "text/plain": [
              "Country       object\n",
              "Last         float64\n",
              "timestamp     object\n",
              "Q2/20        float64\n",
              "Q3/20        float64\n",
              "Q4/20        float64\n",
              "Q1/21        float64\n",
              "dtype: object"
            ]
          },
          "metadata": {
            "tags": []
          },
          "execution_count": 68
        }
      ]
    },
    {
      "cell_type": "code",
      "metadata": {
        "id": "rNn6UVV6Wqv2",
        "colab_type": "code",
        "colab": {
          "base_uri": "https://localhost:8080/",
          "height": 204
        },
        "outputId": "2834b8d7-ee65-4d5c-98ba-988449c7c053"
      },
      "source": [
        "merge_cpi_hdi.dtypes"
      ],
      "execution_count": 69,
      "outputs": [
        {
          "output_type": "execute_result",
          "data": {
            "text/plain": [
              "Country                                         int64\n",
              "obs_value                                     float64\n",
              "month                                          object\n",
              "iHDI_index                                    float64\n",
              "iHDI_group                                      int64\n",
              "category_ Food and non-alcoholic beverages      uint8\n",
              "category_ General                               uint8\n",
              "year_2018                                       uint8\n",
              "year_2019                                       uint8\n",
              "year_2020                                       uint8\n",
              "dtype: object"
            ]
          },
          "metadata": {
            "tags": []
          },
          "execution_count": 69
        }
      ]
    },
    {
      "cell_type": "code",
      "metadata": {
        "id": "0bjxYRh9PFUX",
        "colab_type": "code",
        "colab": {}
      },
      "source": [
        "data_bank_lend[['lending_rate_month','lending_rate_year']] = data_bank_lend['timestamp'].str.split('/',expand=True)"
      ],
      "execution_count": 0,
      "outputs": []
    },
    {
      "cell_type": "code",
      "metadata": {
        "id": "ryyMJtz8PvwK",
        "colab_type": "code",
        "colab": {
          "base_uri": "https://localhost:8080/",
          "height": 204
        },
        "outputId": "b06f330d-7f0b-44e0-9604-9772be7ebe67"
      },
      "source": [
        "data_bank_lend.head()"
      ],
      "execution_count": 71,
      "outputs": [
        {
          "output_type": "execute_result",
          "data": {
            "text/html": [
              "<div>\n",
              "<style scoped>\n",
              "    .dataframe tbody tr th:only-of-type {\n",
              "        vertical-align: middle;\n",
              "    }\n",
              "\n",
              "    .dataframe tbody tr th {\n",
              "        vertical-align: top;\n",
              "    }\n",
              "\n",
              "    .dataframe thead th {\n",
              "        text-align: right;\n",
              "    }\n",
              "</style>\n",
              "<table border=\"1\" class=\"dataframe\">\n",
              "  <thead>\n",
              "    <tr style=\"text-align: right;\">\n",
              "      <th></th>\n",
              "      <th>Country</th>\n",
              "      <th>Last</th>\n",
              "      <th>timestamp</th>\n",
              "      <th>Q2/20</th>\n",
              "      <th>Q3/20</th>\n",
              "      <th>Q4/20</th>\n",
              "      <th>Q1/21</th>\n",
              "      <th>lending_rate_month</th>\n",
              "      <th>lending_rate_year</th>\n",
              "    </tr>\n",
              "  </thead>\n",
              "  <tbody>\n",
              "    <tr>\n",
              "      <th>0</th>\n",
              "      <td>Albania</td>\n",
              "      <td>4.39</td>\n",
              "      <td>Dec/19</td>\n",
              "      <td>4.39</td>\n",
              "      <td>4.39</td>\n",
              "      <td>4.39</td>\n",
              "      <td>4.39</td>\n",
              "      <td>Dec</td>\n",
              "      <td>19</td>\n",
              "    </tr>\n",
              "    <tr>\n",
              "      <th>1</th>\n",
              "      <td>Angola</td>\n",
              "      <td>19.76</td>\n",
              "      <td>Nov/19</td>\n",
              "      <td>19.76</td>\n",
              "      <td>19.76</td>\n",
              "      <td>19.76</td>\n",
              "      <td>19.76</td>\n",
              "      <td>Nov</td>\n",
              "      <td>19</td>\n",
              "    </tr>\n",
              "    <tr>\n",
              "      <th>2</th>\n",
              "      <td>Australia</td>\n",
              "      <td>7.92</td>\n",
              "      <td>Feb/20</td>\n",
              "      <td>7.92</td>\n",
              "      <td>7.92</td>\n",
              "      <td>7.92</td>\n",
              "      <td>7.92</td>\n",
              "      <td>Feb</td>\n",
              "      <td>20</td>\n",
              "    </tr>\n",
              "    <tr>\n",
              "      <th>3</th>\n",
              "      <td>Austria</td>\n",
              "      <td>1.71</td>\n",
              "      <td>Feb/20</td>\n",
              "      <td>1.67</td>\n",
              "      <td>1.67</td>\n",
              "      <td>1.67</td>\n",
              "      <td>1.67</td>\n",
              "      <td>Feb</td>\n",
              "      <td>20</td>\n",
              "    </tr>\n",
              "    <tr>\n",
              "      <th>4</th>\n",
              "      <td>Bahamas</td>\n",
              "      <td>10.43</td>\n",
              "      <td>Jan/20</td>\n",
              "      <td>9.93</td>\n",
              "      <td>9.93</td>\n",
              "      <td>9.93</td>\n",
              "      <td>9.93</td>\n",
              "      <td>Jan</td>\n",
              "      <td>20</td>\n",
              "    </tr>\n",
              "  </tbody>\n",
              "</table>\n",
              "</div>"
            ],
            "text/plain": [
              "     Country   Last timestamp  ...  Q1/21  lending_rate_month  lending_rate_year\n",
              "0    Albania   4.39    Dec/19  ...   4.39                 Dec                 19\n",
              "1     Angola  19.76    Nov/19  ...  19.76                 Nov                 19\n",
              "2  Australia   7.92    Feb/20  ...   7.92                 Feb                 20\n",
              "3    Austria   1.71    Feb/20  ...   1.67                 Feb                 20\n",
              "4    Bahamas  10.43    Jan/20  ...   9.93                 Jan                 20\n",
              "\n",
              "[5 rows x 9 columns]"
            ]
          },
          "metadata": {
            "tags": []
          },
          "execution_count": 71
        }
      ]
    },
    {
      "cell_type": "code",
      "metadata": {
        "id": "E1193JGBP_GS",
        "colab_type": "code",
        "colab": {}
      },
      "source": [
        "data_bank_lend.rename(columns={'Last':'Lending Rate'},inplace=True)"
      ],
      "execution_count": 0,
      "outputs": []
    },
    {
      "cell_type": "code",
      "metadata": {
        "id": "VOK33F8eQNDJ",
        "colab_type": "code",
        "colab": {}
      },
      "source": [
        "data_bank_lend.lending_rate_year = data_bank_lend.lending_rate_year.apply(lambda x: '2019' if '19' in x else '2020')"
      ],
      "execution_count": 0,
      "outputs": []
    },
    {
      "cell_type": "code",
      "metadata": {
        "id": "-q7rdL1NQ9Qt",
        "colab_type": "code",
        "colab": {
          "base_uri": "https://localhost:8080/",
          "height": 204
        },
        "outputId": "1b86ac99-7274-470b-db0c-cc79d46a8a5f"
      },
      "source": [
        "data_bank_lend.head()"
      ],
      "execution_count": 74,
      "outputs": [
        {
          "output_type": "execute_result",
          "data": {
            "text/html": [
              "<div>\n",
              "<style scoped>\n",
              "    .dataframe tbody tr th:only-of-type {\n",
              "        vertical-align: middle;\n",
              "    }\n",
              "\n",
              "    .dataframe tbody tr th {\n",
              "        vertical-align: top;\n",
              "    }\n",
              "\n",
              "    .dataframe thead th {\n",
              "        text-align: right;\n",
              "    }\n",
              "</style>\n",
              "<table border=\"1\" class=\"dataframe\">\n",
              "  <thead>\n",
              "    <tr style=\"text-align: right;\">\n",
              "      <th></th>\n",
              "      <th>Country</th>\n",
              "      <th>Lending Rate</th>\n",
              "      <th>timestamp</th>\n",
              "      <th>Q2/20</th>\n",
              "      <th>Q3/20</th>\n",
              "      <th>Q4/20</th>\n",
              "      <th>Q1/21</th>\n",
              "      <th>lending_rate_month</th>\n",
              "      <th>lending_rate_year</th>\n",
              "    </tr>\n",
              "  </thead>\n",
              "  <tbody>\n",
              "    <tr>\n",
              "      <th>0</th>\n",
              "      <td>Albania</td>\n",
              "      <td>4.39</td>\n",
              "      <td>Dec/19</td>\n",
              "      <td>4.39</td>\n",
              "      <td>4.39</td>\n",
              "      <td>4.39</td>\n",
              "      <td>4.39</td>\n",
              "      <td>Dec</td>\n",
              "      <td>2019</td>\n",
              "    </tr>\n",
              "    <tr>\n",
              "      <th>1</th>\n",
              "      <td>Angola</td>\n",
              "      <td>19.76</td>\n",
              "      <td>Nov/19</td>\n",
              "      <td>19.76</td>\n",
              "      <td>19.76</td>\n",
              "      <td>19.76</td>\n",
              "      <td>19.76</td>\n",
              "      <td>Nov</td>\n",
              "      <td>2019</td>\n",
              "    </tr>\n",
              "    <tr>\n",
              "      <th>2</th>\n",
              "      <td>Australia</td>\n",
              "      <td>7.92</td>\n",
              "      <td>Feb/20</td>\n",
              "      <td>7.92</td>\n",
              "      <td>7.92</td>\n",
              "      <td>7.92</td>\n",
              "      <td>7.92</td>\n",
              "      <td>Feb</td>\n",
              "      <td>2020</td>\n",
              "    </tr>\n",
              "    <tr>\n",
              "      <th>3</th>\n",
              "      <td>Austria</td>\n",
              "      <td>1.71</td>\n",
              "      <td>Feb/20</td>\n",
              "      <td>1.67</td>\n",
              "      <td>1.67</td>\n",
              "      <td>1.67</td>\n",
              "      <td>1.67</td>\n",
              "      <td>Feb</td>\n",
              "      <td>2020</td>\n",
              "    </tr>\n",
              "    <tr>\n",
              "      <th>4</th>\n",
              "      <td>Bahamas</td>\n",
              "      <td>10.43</td>\n",
              "      <td>Jan/20</td>\n",
              "      <td>9.93</td>\n",
              "      <td>9.93</td>\n",
              "      <td>9.93</td>\n",
              "      <td>9.93</td>\n",
              "      <td>Jan</td>\n",
              "      <td>2020</td>\n",
              "    </tr>\n",
              "  </tbody>\n",
              "</table>\n",
              "</div>"
            ],
            "text/plain": [
              "     Country  Lending Rate  ... lending_rate_month  lending_rate_year\n",
              "0    Albania          4.39  ...                Dec               2019\n",
              "1     Angola         19.76  ...                Nov               2019\n",
              "2  Australia          7.92  ...                Feb               2020\n",
              "3    Austria          1.71  ...                Feb               2020\n",
              "4    Bahamas         10.43  ...                Jan               2020\n",
              "\n",
              "[5 rows x 9 columns]"
            ]
          },
          "metadata": {
            "tags": []
          },
          "execution_count": 74
        }
      ]
    },
    {
      "cell_type": "code",
      "metadata": {
        "id": "Av2O9Q1kRB17",
        "colab_type": "code",
        "colab": {}
      },
      "source": [
        "bank_lend = data_bank_lend.drop(['timestamp','Q2/20','Q3/20','Q4/20','Q1/21'],axis=1)"
      ],
      "execution_count": 0,
      "outputs": []
    },
    {
      "cell_type": "code",
      "metadata": {
        "id": "V_qegTkaWX8_",
        "colab_type": "code",
        "colab": {
          "base_uri": "https://localhost:8080/",
          "height": 204
        },
        "outputId": "510796f4-9cd4-484c-9273-5437b063e059"
      },
      "source": [
        "bank_lend.head()"
      ],
      "execution_count": 76,
      "outputs": [
        {
          "output_type": "execute_result",
          "data": {
            "text/html": [
              "<div>\n",
              "<style scoped>\n",
              "    .dataframe tbody tr th:only-of-type {\n",
              "        vertical-align: middle;\n",
              "    }\n",
              "\n",
              "    .dataframe tbody tr th {\n",
              "        vertical-align: top;\n",
              "    }\n",
              "\n",
              "    .dataframe thead th {\n",
              "        text-align: right;\n",
              "    }\n",
              "</style>\n",
              "<table border=\"1\" class=\"dataframe\">\n",
              "  <thead>\n",
              "    <tr style=\"text-align: right;\">\n",
              "      <th></th>\n",
              "      <th>Country</th>\n",
              "      <th>Lending Rate</th>\n",
              "      <th>lending_rate_month</th>\n",
              "      <th>lending_rate_year</th>\n",
              "    </tr>\n",
              "  </thead>\n",
              "  <tbody>\n",
              "    <tr>\n",
              "      <th>0</th>\n",
              "      <td>Albania</td>\n",
              "      <td>4.39</td>\n",
              "      <td>Dec</td>\n",
              "      <td>2019</td>\n",
              "    </tr>\n",
              "    <tr>\n",
              "      <th>1</th>\n",
              "      <td>Angola</td>\n",
              "      <td>19.76</td>\n",
              "      <td>Nov</td>\n",
              "      <td>2019</td>\n",
              "    </tr>\n",
              "    <tr>\n",
              "      <th>2</th>\n",
              "      <td>Australia</td>\n",
              "      <td>7.92</td>\n",
              "      <td>Feb</td>\n",
              "      <td>2020</td>\n",
              "    </tr>\n",
              "    <tr>\n",
              "      <th>3</th>\n",
              "      <td>Austria</td>\n",
              "      <td>1.71</td>\n",
              "      <td>Feb</td>\n",
              "      <td>2020</td>\n",
              "    </tr>\n",
              "    <tr>\n",
              "      <th>4</th>\n",
              "      <td>Bahamas</td>\n",
              "      <td>10.43</td>\n",
              "      <td>Jan</td>\n",
              "      <td>2020</td>\n",
              "    </tr>\n",
              "  </tbody>\n",
              "</table>\n",
              "</div>"
            ],
            "text/plain": [
              "     Country  Lending Rate lending_rate_month lending_rate_year\n",
              "0    Albania          4.39                Dec              2019\n",
              "1     Angola         19.76                Nov              2019\n",
              "2  Australia          7.92                Feb              2020\n",
              "3    Austria          1.71                Feb              2020\n",
              "4    Bahamas         10.43                Jan              2020"
            ]
          },
          "metadata": {
            "tags": []
          },
          "execution_count": 76
        }
      ]
    },
    {
      "cell_type": "code",
      "metadata": {
        "id": "cuLxX3YSWm4Q",
        "colab_type": "code",
        "colab": {
          "base_uri": "https://localhost:8080/",
          "height": 204
        },
        "outputId": "9e9ae30d-228d-4d2b-dfe4-2da82ff0aba3"
      },
      "source": [
        "backup.dtypes"
      ],
      "execution_count": 77,
      "outputs": [
        {
          "output_type": "execute_result",
          "data": {
            "text/plain": [
              "Country                                         int64\n",
              "obs_value                                     float64\n",
              "month                                          object\n",
              "iHDI_index                                    float64\n",
              "iHDI_group                                      int64\n",
              "category_ Food and non-alcoholic beverages      uint8\n",
              "category_ General                               uint8\n",
              "year_2018                                       uint8\n",
              "year_2019                                       uint8\n",
              "year_2020                                       uint8\n",
              "dtype: object"
            ]
          },
          "metadata": {
            "tags": []
          },
          "execution_count": 77
        }
      ]
    },
    {
      "cell_type": "code",
      "metadata": {
        "id": "KPowxB5QWcgf",
        "colab_type": "code",
        "colab": {}
      },
      "source": [
        "merge_cpi_hdi_lend = pd.merge(backup_merge,bank_lend,on='Country')"
      ],
      "execution_count": 0,
      "outputs": []
    },
    {
      "cell_type": "code",
      "metadata": {
        "id": "XyQczEjNXiQK",
        "colab_type": "code",
        "colab": {
          "base_uri": "https://localhost:8080/",
          "height": 204
        },
        "outputId": "7310d8a6-d270-45db-c829-689fcebd39e1"
      },
      "source": [
        "merge_cpi_hdi_lend.head()"
      ],
      "execution_count": 79,
      "outputs": [
        {
          "output_type": "execute_result",
          "data": {
            "text/html": [
              "<div>\n",
              "<style scoped>\n",
              "    .dataframe tbody tr th:only-of-type {\n",
              "        vertical-align: middle;\n",
              "    }\n",
              "\n",
              "    .dataframe tbody tr th {\n",
              "        vertical-align: top;\n",
              "    }\n",
              "\n",
              "    .dataframe thead th {\n",
              "        text-align: right;\n",
              "    }\n",
              "</style>\n",
              "<table border=\"1\" class=\"dataframe\">\n",
              "  <thead>\n",
              "    <tr style=\"text-align: right;\">\n",
              "      <th></th>\n",
              "      <th>Country</th>\n",
              "      <th>obs_value</th>\n",
              "      <th>category</th>\n",
              "      <th>frequency</th>\n",
              "      <th>year</th>\n",
              "      <th>month</th>\n",
              "      <th>iHDI_index</th>\n",
              "      <th>iHDI_group</th>\n",
              "      <th>Lending Rate</th>\n",
              "      <th>lending_rate_month</th>\n",
              "      <th>lending_rate_year</th>\n",
              "    </tr>\n",
              "  </thead>\n",
              "  <tbody>\n",
              "    <tr>\n",
              "      <th>0</th>\n",
              "      <td>Angola</td>\n",
              "      <td>25.15</td>\n",
              "      <td>General</td>\n",
              "      <td>Monthly</td>\n",
              "      <td>2018</td>\n",
              "      <td>01</td>\n",
              "      <td>0.392</td>\n",
              "      <td>medium</td>\n",
              "      <td>19.76</td>\n",
              "      <td>Nov</td>\n",
              "      <td>2019</td>\n",
              "    </tr>\n",
              "    <tr>\n",
              "      <th>1</th>\n",
              "      <td>Angola</td>\n",
              "      <td>18.69</td>\n",
              "      <td>Food and non-alcoholic beverages</td>\n",
              "      <td>Monthly</td>\n",
              "      <td>2018</td>\n",
              "      <td>01</td>\n",
              "      <td>0.392</td>\n",
              "      <td>medium</td>\n",
              "      <td>19.76</td>\n",
              "      <td>Nov</td>\n",
              "      <td>2019</td>\n",
              "    </tr>\n",
              "    <tr>\n",
              "      <th>2</th>\n",
              "      <td>Angola</td>\n",
              "      <td>23.36</td>\n",
              "      <td>General</td>\n",
              "      <td>Monthly</td>\n",
              "      <td>2018</td>\n",
              "      <td>02</td>\n",
              "      <td>0.392</td>\n",
              "      <td>medium</td>\n",
              "      <td>19.76</td>\n",
              "      <td>Nov</td>\n",
              "      <td>2019</td>\n",
              "    </tr>\n",
              "    <tr>\n",
              "      <th>3</th>\n",
              "      <td>Angola</td>\n",
              "      <td>17.49</td>\n",
              "      <td>Food and non-alcoholic beverages</td>\n",
              "      <td>Monthly</td>\n",
              "      <td>2018</td>\n",
              "      <td>02</td>\n",
              "      <td>0.392</td>\n",
              "      <td>medium</td>\n",
              "      <td>19.76</td>\n",
              "      <td>Nov</td>\n",
              "      <td>2019</td>\n",
              "    </tr>\n",
              "    <tr>\n",
              "      <th>4</th>\n",
              "      <td>Angola</td>\n",
              "      <td>22.32</td>\n",
              "      <td>General</td>\n",
              "      <td>Monthly</td>\n",
              "      <td>2018</td>\n",
              "      <td>03</td>\n",
              "      <td>0.392</td>\n",
              "      <td>medium</td>\n",
              "      <td>19.76</td>\n",
              "      <td>Nov</td>\n",
              "      <td>2019</td>\n",
              "    </tr>\n",
              "  </tbody>\n",
              "</table>\n",
              "</div>"
            ],
            "text/plain": [
              "  Country  obs_value  ... lending_rate_month lending_rate_year\n",
              "0  Angola      25.15  ...                Nov              2019\n",
              "1  Angola      18.69  ...                Nov              2019\n",
              "2  Angola      23.36  ...                Nov              2019\n",
              "3  Angola      17.49  ...                Nov              2019\n",
              "4  Angola      22.32  ...                Nov              2019\n",
              "\n",
              "[5 rows x 11 columns]"
            ]
          },
          "metadata": {
            "tags": []
          },
          "execution_count": 79
        }
      ]
    },
    {
      "cell_type": "code",
      "metadata": {
        "id": "XNRvwVJUZpGi",
        "colab_type": "code",
        "colab": {}
      },
      "source": [
        "merge_cpi_hdi_lend=   merge_cpi_hdi_lend.drop('frequency',axis=1)"
      ],
      "execution_count": 0,
      "outputs": []
    },
    {
      "cell_type": "code",
      "metadata": {
        "id": "PFNhyGMuZ0bG",
        "colab_type": "code",
        "colab": {
          "base_uri": "https://localhost:8080/",
          "height": 204
        },
        "outputId": "f885687f-7499-4ac8-ba0e-6c84f8f2c8c3"
      },
      "source": [
        "merge_cpi_hdi_lend.head()"
      ],
      "execution_count": 81,
      "outputs": [
        {
          "output_type": "execute_result",
          "data": {
            "text/html": [
              "<div>\n",
              "<style scoped>\n",
              "    .dataframe tbody tr th:only-of-type {\n",
              "        vertical-align: middle;\n",
              "    }\n",
              "\n",
              "    .dataframe tbody tr th {\n",
              "        vertical-align: top;\n",
              "    }\n",
              "\n",
              "    .dataframe thead th {\n",
              "        text-align: right;\n",
              "    }\n",
              "</style>\n",
              "<table border=\"1\" class=\"dataframe\">\n",
              "  <thead>\n",
              "    <tr style=\"text-align: right;\">\n",
              "      <th></th>\n",
              "      <th>Country</th>\n",
              "      <th>obs_value</th>\n",
              "      <th>category</th>\n",
              "      <th>year</th>\n",
              "      <th>month</th>\n",
              "      <th>iHDI_index</th>\n",
              "      <th>iHDI_group</th>\n",
              "      <th>Lending Rate</th>\n",
              "      <th>lending_rate_month</th>\n",
              "      <th>lending_rate_year</th>\n",
              "    </tr>\n",
              "  </thead>\n",
              "  <tbody>\n",
              "    <tr>\n",
              "      <th>0</th>\n",
              "      <td>Angola</td>\n",
              "      <td>25.15</td>\n",
              "      <td>General</td>\n",
              "      <td>2018</td>\n",
              "      <td>01</td>\n",
              "      <td>0.392</td>\n",
              "      <td>medium</td>\n",
              "      <td>19.76</td>\n",
              "      <td>Nov</td>\n",
              "      <td>2019</td>\n",
              "    </tr>\n",
              "    <tr>\n",
              "      <th>1</th>\n",
              "      <td>Angola</td>\n",
              "      <td>18.69</td>\n",
              "      <td>Food and non-alcoholic beverages</td>\n",
              "      <td>2018</td>\n",
              "      <td>01</td>\n",
              "      <td>0.392</td>\n",
              "      <td>medium</td>\n",
              "      <td>19.76</td>\n",
              "      <td>Nov</td>\n",
              "      <td>2019</td>\n",
              "    </tr>\n",
              "    <tr>\n",
              "      <th>2</th>\n",
              "      <td>Angola</td>\n",
              "      <td>23.36</td>\n",
              "      <td>General</td>\n",
              "      <td>2018</td>\n",
              "      <td>02</td>\n",
              "      <td>0.392</td>\n",
              "      <td>medium</td>\n",
              "      <td>19.76</td>\n",
              "      <td>Nov</td>\n",
              "      <td>2019</td>\n",
              "    </tr>\n",
              "    <tr>\n",
              "      <th>3</th>\n",
              "      <td>Angola</td>\n",
              "      <td>17.49</td>\n",
              "      <td>Food and non-alcoholic beverages</td>\n",
              "      <td>2018</td>\n",
              "      <td>02</td>\n",
              "      <td>0.392</td>\n",
              "      <td>medium</td>\n",
              "      <td>19.76</td>\n",
              "      <td>Nov</td>\n",
              "      <td>2019</td>\n",
              "    </tr>\n",
              "    <tr>\n",
              "      <th>4</th>\n",
              "      <td>Angola</td>\n",
              "      <td>22.32</td>\n",
              "      <td>General</td>\n",
              "      <td>2018</td>\n",
              "      <td>03</td>\n",
              "      <td>0.392</td>\n",
              "      <td>medium</td>\n",
              "      <td>19.76</td>\n",
              "      <td>Nov</td>\n",
              "      <td>2019</td>\n",
              "    </tr>\n",
              "  </tbody>\n",
              "</table>\n",
              "</div>"
            ],
            "text/plain": [
              "  Country  obs_value  ... lending_rate_month lending_rate_year\n",
              "0  Angola      25.15  ...                Nov              2019\n",
              "1  Angola      18.69  ...                Nov              2019\n",
              "2  Angola      23.36  ...                Nov              2019\n",
              "3  Angola      17.49  ...                Nov              2019\n",
              "4  Angola      22.32  ...                Nov              2019\n",
              "\n",
              "[5 rows x 10 columns]"
            ]
          },
          "metadata": {
            "tags": []
          },
          "execution_count": 81
        }
      ]
    },
    {
      "cell_type": "code",
      "metadata": {
        "id": "m1mGWt1hZSs3",
        "colab_type": "code",
        "colab": {}
      },
      "source": [
        "merge_cpi_hdi_lend=merge_cpi_hdi_lend.reindex(columns= ['Country', 'iHDI_index','iHDI_group','category','obs_value','month','year','Lending Rate','lending_rate_month','lending_rate_year'])"
      ],
      "execution_count": 0,
      "outputs": []
    },
    {
      "cell_type": "code",
      "metadata": {
        "id": "9kc2TnUgalQX",
        "colab_type": "code",
        "colab": {
          "base_uri": "https://localhost:8080/",
          "height": 204
        },
        "outputId": "82d516c3-2a43-4f26-f664-03d58defd07d"
      },
      "source": [
        "merge_cpi_hdi_lend.head()"
      ],
      "execution_count": 83,
      "outputs": [
        {
          "output_type": "execute_result",
          "data": {
            "text/html": [
              "<div>\n",
              "<style scoped>\n",
              "    .dataframe tbody tr th:only-of-type {\n",
              "        vertical-align: middle;\n",
              "    }\n",
              "\n",
              "    .dataframe tbody tr th {\n",
              "        vertical-align: top;\n",
              "    }\n",
              "\n",
              "    .dataframe thead th {\n",
              "        text-align: right;\n",
              "    }\n",
              "</style>\n",
              "<table border=\"1\" class=\"dataframe\">\n",
              "  <thead>\n",
              "    <tr style=\"text-align: right;\">\n",
              "      <th></th>\n",
              "      <th>Country</th>\n",
              "      <th>iHDI_index</th>\n",
              "      <th>iHDI_group</th>\n",
              "      <th>category</th>\n",
              "      <th>obs_value</th>\n",
              "      <th>month</th>\n",
              "      <th>year</th>\n",
              "      <th>Lending Rate</th>\n",
              "      <th>lending_rate_month</th>\n",
              "      <th>lending_rate_year</th>\n",
              "    </tr>\n",
              "  </thead>\n",
              "  <tbody>\n",
              "    <tr>\n",
              "      <th>0</th>\n",
              "      <td>Angola</td>\n",
              "      <td>0.392</td>\n",
              "      <td>medium</td>\n",
              "      <td>General</td>\n",
              "      <td>25.15</td>\n",
              "      <td>01</td>\n",
              "      <td>2018</td>\n",
              "      <td>19.76</td>\n",
              "      <td>Nov</td>\n",
              "      <td>2019</td>\n",
              "    </tr>\n",
              "    <tr>\n",
              "      <th>1</th>\n",
              "      <td>Angola</td>\n",
              "      <td>0.392</td>\n",
              "      <td>medium</td>\n",
              "      <td>Food and non-alcoholic beverages</td>\n",
              "      <td>18.69</td>\n",
              "      <td>01</td>\n",
              "      <td>2018</td>\n",
              "      <td>19.76</td>\n",
              "      <td>Nov</td>\n",
              "      <td>2019</td>\n",
              "    </tr>\n",
              "    <tr>\n",
              "      <th>2</th>\n",
              "      <td>Angola</td>\n",
              "      <td>0.392</td>\n",
              "      <td>medium</td>\n",
              "      <td>General</td>\n",
              "      <td>23.36</td>\n",
              "      <td>02</td>\n",
              "      <td>2018</td>\n",
              "      <td>19.76</td>\n",
              "      <td>Nov</td>\n",
              "      <td>2019</td>\n",
              "    </tr>\n",
              "    <tr>\n",
              "      <th>3</th>\n",
              "      <td>Angola</td>\n",
              "      <td>0.392</td>\n",
              "      <td>medium</td>\n",
              "      <td>Food and non-alcoholic beverages</td>\n",
              "      <td>17.49</td>\n",
              "      <td>02</td>\n",
              "      <td>2018</td>\n",
              "      <td>19.76</td>\n",
              "      <td>Nov</td>\n",
              "      <td>2019</td>\n",
              "    </tr>\n",
              "    <tr>\n",
              "      <th>4</th>\n",
              "      <td>Angola</td>\n",
              "      <td>0.392</td>\n",
              "      <td>medium</td>\n",
              "      <td>General</td>\n",
              "      <td>22.32</td>\n",
              "      <td>03</td>\n",
              "      <td>2018</td>\n",
              "      <td>19.76</td>\n",
              "      <td>Nov</td>\n",
              "      <td>2019</td>\n",
              "    </tr>\n",
              "  </tbody>\n",
              "</table>\n",
              "</div>"
            ],
            "text/plain": [
              "  Country  iHDI_index  ... lending_rate_month lending_rate_year\n",
              "0  Angola       0.392  ...                Nov              2019\n",
              "1  Angola       0.392  ...                Nov              2019\n",
              "2  Angola       0.392  ...                Nov              2019\n",
              "3  Angola       0.392  ...                Nov              2019\n",
              "4  Angola       0.392  ...                Nov              2019\n",
              "\n",
              "[5 rows x 10 columns]"
            ]
          },
          "metadata": {
            "tags": []
          },
          "execution_count": 83
        }
      ]
    },
    {
      "cell_type": "code",
      "metadata": {
        "id": "CPW50P-gSB4K",
        "colab_type": "code",
        "colab": {}
      },
      "source": [
        "#One hot encoding of category\n",
        "merge_cpi_hdi_lend = pd.concat([merge_cpi_hdi_lend,pd.get_dummies(merge_cpi_hdi_lend['category'], prefix='category')],axis=1)"
      ],
      "execution_count": 0,
      "outputs": []
    },
    {
      "cell_type": "code",
      "metadata": {
        "id": "TJ0oKR-xoX3h",
        "colab_type": "code",
        "colab": {
          "base_uri": "https://localhost:8080/",
          "height": 204
        },
        "outputId": "566a3f85-2ff1-44e5-a7af-f147eb4ca277"
      },
      "source": [
        "merge_cpi_hdi_lend.head()"
      ],
      "execution_count": 87,
      "outputs": [
        {
          "output_type": "execute_result",
          "data": {
            "text/html": [
              "<div>\n",
              "<style scoped>\n",
              "    .dataframe tbody tr th:only-of-type {\n",
              "        vertical-align: middle;\n",
              "    }\n",
              "\n",
              "    .dataframe tbody tr th {\n",
              "        vertical-align: top;\n",
              "    }\n",
              "\n",
              "    .dataframe thead th {\n",
              "        text-align: right;\n",
              "    }\n",
              "</style>\n",
              "<table border=\"1\" class=\"dataframe\">\n",
              "  <thead>\n",
              "    <tr style=\"text-align: right;\">\n",
              "      <th></th>\n",
              "      <th>Country</th>\n",
              "      <th>iHDI_index</th>\n",
              "      <th>iHDI_group</th>\n",
              "      <th>category</th>\n",
              "      <th>obs_value</th>\n",
              "      <th>month</th>\n",
              "      <th>year</th>\n",
              "      <th>Lending Rate</th>\n",
              "      <th>lending_rate_month</th>\n",
              "      <th>lending_rate_year</th>\n",
              "      <th>category_ Food and non-alcoholic beverages</th>\n",
              "      <th>category_ General</th>\n",
              "    </tr>\n",
              "  </thead>\n",
              "  <tbody>\n",
              "    <tr>\n",
              "      <th>0</th>\n",
              "      <td>Angola</td>\n",
              "      <td>0.392</td>\n",
              "      <td>medium</td>\n",
              "      <td>General</td>\n",
              "      <td>25.15</td>\n",
              "      <td>01</td>\n",
              "      <td>2018</td>\n",
              "      <td>19.76</td>\n",
              "      <td>Nov</td>\n",
              "      <td>2019</td>\n",
              "      <td>0</td>\n",
              "      <td>1</td>\n",
              "    </tr>\n",
              "    <tr>\n",
              "      <th>1</th>\n",
              "      <td>Angola</td>\n",
              "      <td>0.392</td>\n",
              "      <td>medium</td>\n",
              "      <td>Food and non-alcoholic beverages</td>\n",
              "      <td>18.69</td>\n",
              "      <td>01</td>\n",
              "      <td>2018</td>\n",
              "      <td>19.76</td>\n",
              "      <td>Nov</td>\n",
              "      <td>2019</td>\n",
              "      <td>1</td>\n",
              "      <td>0</td>\n",
              "    </tr>\n",
              "    <tr>\n",
              "      <th>2</th>\n",
              "      <td>Angola</td>\n",
              "      <td>0.392</td>\n",
              "      <td>medium</td>\n",
              "      <td>General</td>\n",
              "      <td>23.36</td>\n",
              "      <td>02</td>\n",
              "      <td>2018</td>\n",
              "      <td>19.76</td>\n",
              "      <td>Nov</td>\n",
              "      <td>2019</td>\n",
              "      <td>0</td>\n",
              "      <td>1</td>\n",
              "    </tr>\n",
              "    <tr>\n",
              "      <th>3</th>\n",
              "      <td>Angola</td>\n",
              "      <td>0.392</td>\n",
              "      <td>medium</td>\n",
              "      <td>Food and non-alcoholic beverages</td>\n",
              "      <td>17.49</td>\n",
              "      <td>02</td>\n",
              "      <td>2018</td>\n",
              "      <td>19.76</td>\n",
              "      <td>Nov</td>\n",
              "      <td>2019</td>\n",
              "      <td>1</td>\n",
              "      <td>0</td>\n",
              "    </tr>\n",
              "    <tr>\n",
              "      <th>4</th>\n",
              "      <td>Angola</td>\n",
              "      <td>0.392</td>\n",
              "      <td>medium</td>\n",
              "      <td>General</td>\n",
              "      <td>22.32</td>\n",
              "      <td>03</td>\n",
              "      <td>2018</td>\n",
              "      <td>19.76</td>\n",
              "      <td>Nov</td>\n",
              "      <td>2019</td>\n",
              "      <td>0</td>\n",
              "      <td>1</td>\n",
              "    </tr>\n",
              "  </tbody>\n",
              "</table>\n",
              "</div>"
            ],
            "text/plain": [
              "  Country  ...  category_ General\n",
              "0  Angola  ...                  1\n",
              "1  Angola  ...                  0\n",
              "2  Angola  ...                  1\n",
              "3  Angola  ...                  0\n",
              "4  Angola  ...                  1\n",
              "\n",
              "[5 rows x 12 columns]"
            ]
          },
          "metadata": {
            "tags": []
          },
          "execution_count": 87
        }
      ]
    },
    {
      "cell_type": "code",
      "metadata": {
        "id": "98OXCwZCogRk",
        "colab_type": "code",
        "colab": {
          "base_uri": "https://localhost:8080/",
          "height": 238
        },
        "outputId": "17838ffd-3b3e-4790-c78f-33df4123a24c"
      },
      "source": [
        "merge_cpi_hdi_lend.dtypes"
      ],
      "execution_count": 93,
      "outputs": [
        {
          "output_type": "execute_result",
          "data": {
            "text/plain": [
              "Country                                        object\n",
              "iHDI_index                                    float64\n",
              "iHDI_group                                     object\n",
              "category                                       object\n",
              "obs_value                                     float64\n",
              "month                                           int64\n",
              "year                                            int64\n",
              "Lending Rate                                  float64\n",
              "lending_rate_month                             object\n",
              "lending_rate_year                              object\n",
              "category_ Food and non-alcoholic beverages      uint8\n",
              "category_ General                               uint8\n",
              "dtype: object"
            ]
          },
          "metadata": {
            "tags": []
          },
          "execution_count": 93
        }
      ]
    },
    {
      "cell_type": "code",
      "metadata": {
        "id": "SAQZEm2Eorsu",
        "colab_type": "code",
        "colab": {}
      },
      "source": [
        "merge_cpi_hdi_lend['month'] = merge_cpi_hdi_lend['month'].astype(int)\n",
        "merge_cpi_hdi_lend['year'] = merge_cpi_hdi_lend['year'].astype(int)"
      ],
      "execution_count": 0,
      "outputs": []
    },
    {
      "cell_type": "code",
      "metadata": {
        "id": "9IYrhsa0dWB0",
        "colab_type": "code",
        "colab": {}
      },
      "source": [
        "backup_1 = merge_cpi_hdi_lend.copy()"
      ],
      "execution_count": 0,
      "outputs": []
    },
    {
      "cell_type": "code",
      "metadata": {
        "id": "1Ds1rykPmmGB",
        "colab_type": "code",
        "colab": {}
      },
      "source": [
        "label_encoder = preprocessing.LabelEncoder()"
      ],
      "execution_count": 0,
      "outputs": []
    },
    {
      "cell_type": "code",
      "metadata": {
        "id": "4LZGgWlWdbUN",
        "colab_type": "code",
        "colab": {}
      },
      "source": [
        "#need to label encode and do one Hot encoding.\n",
        "#label encoding of country, iHDI group, lending rate month because want it in numbers.\n",
        "merge_cpi_hdi_lend['Country']= label_encoder.fit_transform(merge_cpi_hdi_lend['Country']) \n",
        "merge_cpi_hdi_lend['iHDI_group']= label_encoder.fit_transform(merge_cpi_hdi_lend['iHDI_group'])\n",
        "merge_cpi_hdi_lend['lending_rate_month']= label_encoder.fit_transform(merge_cpi_hdi_lend['lending_rate_month'])"
      ],
      "execution_count": 0,
      "outputs": []
    },
    {
      "cell_type": "code",
      "metadata": {
        "id": "13S7p0B1nT37",
        "colab_type": "code",
        "colab": {
          "base_uri": "https://localhost:8080/",
          "height": 204
        },
        "outputId": "2542f2ab-3549-4e81-87a8-7874851e18f7"
      },
      "source": [
        "merge_cpi_hdi_lend.head()"
      ],
      "execution_count": 98,
      "outputs": [
        {
          "output_type": "execute_result",
          "data": {
            "text/html": [
              "<div>\n",
              "<style scoped>\n",
              "    .dataframe tbody tr th:only-of-type {\n",
              "        vertical-align: middle;\n",
              "    }\n",
              "\n",
              "    .dataframe tbody tr th {\n",
              "        vertical-align: top;\n",
              "    }\n",
              "\n",
              "    .dataframe thead th {\n",
              "        text-align: right;\n",
              "    }\n",
              "</style>\n",
              "<table border=\"1\" class=\"dataframe\">\n",
              "  <thead>\n",
              "    <tr style=\"text-align: right;\">\n",
              "      <th></th>\n",
              "      <th>Country</th>\n",
              "      <th>iHDI_index</th>\n",
              "      <th>iHDI_group</th>\n",
              "      <th>category</th>\n",
              "      <th>obs_value</th>\n",
              "      <th>month</th>\n",
              "      <th>year</th>\n",
              "      <th>Lending Rate</th>\n",
              "      <th>lending_rate_month</th>\n",
              "      <th>lending_rate_year</th>\n",
              "      <th>category_ Food and non-alcoholic beverages</th>\n",
              "      <th>category_ General</th>\n",
              "    </tr>\n",
              "  </thead>\n",
              "  <tbody>\n",
              "    <tr>\n",
              "      <th>0</th>\n",
              "      <td>1</td>\n",
              "      <td>0.392</td>\n",
              "      <td>2</td>\n",
              "      <td>General</td>\n",
              "      <td>25.15</td>\n",
              "      <td>1</td>\n",
              "      <td>2018</td>\n",
              "      <td>19.76</td>\n",
              "      <td>5</td>\n",
              "      <td>2019</td>\n",
              "      <td>0</td>\n",
              "      <td>1</td>\n",
              "    </tr>\n",
              "    <tr>\n",
              "      <th>1</th>\n",
              "      <td>1</td>\n",
              "      <td>0.392</td>\n",
              "      <td>2</td>\n",
              "      <td>Food and non-alcoholic beverages</td>\n",
              "      <td>18.69</td>\n",
              "      <td>1</td>\n",
              "      <td>2018</td>\n",
              "      <td>19.76</td>\n",
              "      <td>5</td>\n",
              "      <td>2019</td>\n",
              "      <td>1</td>\n",
              "      <td>0</td>\n",
              "    </tr>\n",
              "    <tr>\n",
              "      <th>2</th>\n",
              "      <td>1</td>\n",
              "      <td>0.392</td>\n",
              "      <td>2</td>\n",
              "      <td>General</td>\n",
              "      <td>23.36</td>\n",
              "      <td>2</td>\n",
              "      <td>2018</td>\n",
              "      <td>19.76</td>\n",
              "      <td>5</td>\n",
              "      <td>2019</td>\n",
              "      <td>0</td>\n",
              "      <td>1</td>\n",
              "    </tr>\n",
              "    <tr>\n",
              "      <th>3</th>\n",
              "      <td>1</td>\n",
              "      <td>0.392</td>\n",
              "      <td>2</td>\n",
              "      <td>Food and non-alcoholic beverages</td>\n",
              "      <td>17.49</td>\n",
              "      <td>2</td>\n",
              "      <td>2018</td>\n",
              "      <td>19.76</td>\n",
              "      <td>5</td>\n",
              "      <td>2019</td>\n",
              "      <td>1</td>\n",
              "      <td>0</td>\n",
              "    </tr>\n",
              "    <tr>\n",
              "      <th>4</th>\n",
              "      <td>1</td>\n",
              "      <td>0.392</td>\n",
              "      <td>2</td>\n",
              "      <td>General</td>\n",
              "      <td>22.32</td>\n",
              "      <td>3</td>\n",
              "      <td>2018</td>\n",
              "      <td>19.76</td>\n",
              "      <td>5</td>\n",
              "      <td>2019</td>\n",
              "      <td>0</td>\n",
              "      <td>1</td>\n",
              "    </tr>\n",
              "  </tbody>\n",
              "</table>\n",
              "</div>"
            ],
            "text/plain": [
              "   Country  ...  category_ General\n",
              "0        1  ...                  1\n",
              "1        1  ...                  0\n",
              "2        1  ...                  1\n",
              "3        1  ...                  0\n",
              "4        1  ...                  1\n",
              "\n",
              "[5 rows x 12 columns]"
            ]
          },
          "metadata": {
            "tags": []
          },
          "execution_count": 98
        }
      ]
    },
    {
      "cell_type": "code",
      "metadata": {
        "id": "OnAA0J41r0Ov",
        "colab_type": "code",
        "colab": {}
      },
      "source": [
        "merge_cpi_hdi_lend= merge_cpi_hdi_lend.drop('category',axis=1)"
      ],
      "execution_count": 0,
      "outputs": []
    },
    {
      "cell_type": "code",
      "metadata": {
        "id": "AT933KQWr913",
        "colab_type": "code",
        "colab": {
          "base_uri": "https://localhost:8080/",
          "height": 204
        },
        "outputId": "bd66f6b3-505a-4ef5-d985-4f5a2aa513a4"
      },
      "source": [
        "merge_cpi_hdi_lend.head()"
      ],
      "execution_count": 101,
      "outputs": [
        {
          "output_type": "execute_result",
          "data": {
            "text/html": [
              "<div>\n",
              "<style scoped>\n",
              "    .dataframe tbody tr th:only-of-type {\n",
              "        vertical-align: middle;\n",
              "    }\n",
              "\n",
              "    .dataframe tbody tr th {\n",
              "        vertical-align: top;\n",
              "    }\n",
              "\n",
              "    .dataframe thead th {\n",
              "        text-align: right;\n",
              "    }\n",
              "</style>\n",
              "<table border=\"1\" class=\"dataframe\">\n",
              "  <thead>\n",
              "    <tr style=\"text-align: right;\">\n",
              "      <th></th>\n",
              "      <th>Country</th>\n",
              "      <th>iHDI_index</th>\n",
              "      <th>iHDI_group</th>\n",
              "      <th>obs_value</th>\n",
              "      <th>month</th>\n",
              "      <th>year</th>\n",
              "      <th>Lending Rate</th>\n",
              "      <th>lending_rate_month</th>\n",
              "      <th>lending_rate_year</th>\n",
              "      <th>category_ Food and non-alcoholic beverages</th>\n",
              "      <th>category_ General</th>\n",
              "    </tr>\n",
              "  </thead>\n",
              "  <tbody>\n",
              "    <tr>\n",
              "      <th>0</th>\n",
              "      <td>1</td>\n",
              "      <td>0.392</td>\n",
              "      <td>2</td>\n",
              "      <td>25.15</td>\n",
              "      <td>1</td>\n",
              "      <td>2018</td>\n",
              "      <td>19.76</td>\n",
              "      <td>5</td>\n",
              "      <td>2019</td>\n",
              "      <td>0</td>\n",
              "      <td>1</td>\n",
              "    </tr>\n",
              "    <tr>\n",
              "      <th>1</th>\n",
              "      <td>1</td>\n",
              "      <td>0.392</td>\n",
              "      <td>2</td>\n",
              "      <td>18.69</td>\n",
              "      <td>1</td>\n",
              "      <td>2018</td>\n",
              "      <td>19.76</td>\n",
              "      <td>5</td>\n",
              "      <td>2019</td>\n",
              "      <td>1</td>\n",
              "      <td>0</td>\n",
              "    </tr>\n",
              "    <tr>\n",
              "      <th>2</th>\n",
              "      <td>1</td>\n",
              "      <td>0.392</td>\n",
              "      <td>2</td>\n",
              "      <td>23.36</td>\n",
              "      <td>2</td>\n",
              "      <td>2018</td>\n",
              "      <td>19.76</td>\n",
              "      <td>5</td>\n",
              "      <td>2019</td>\n",
              "      <td>0</td>\n",
              "      <td>1</td>\n",
              "    </tr>\n",
              "    <tr>\n",
              "      <th>3</th>\n",
              "      <td>1</td>\n",
              "      <td>0.392</td>\n",
              "      <td>2</td>\n",
              "      <td>17.49</td>\n",
              "      <td>2</td>\n",
              "      <td>2018</td>\n",
              "      <td>19.76</td>\n",
              "      <td>5</td>\n",
              "      <td>2019</td>\n",
              "      <td>1</td>\n",
              "      <td>0</td>\n",
              "    </tr>\n",
              "    <tr>\n",
              "      <th>4</th>\n",
              "      <td>1</td>\n",
              "      <td>0.392</td>\n",
              "      <td>2</td>\n",
              "      <td>22.32</td>\n",
              "      <td>3</td>\n",
              "      <td>2018</td>\n",
              "      <td>19.76</td>\n",
              "      <td>5</td>\n",
              "      <td>2019</td>\n",
              "      <td>0</td>\n",
              "      <td>1</td>\n",
              "    </tr>\n",
              "  </tbody>\n",
              "</table>\n",
              "</div>"
            ],
            "text/plain": [
              "   Country  ...  category_ General\n",
              "0        1  ...                  1\n",
              "1        1  ...                  0\n",
              "2        1  ...                  1\n",
              "3        1  ...                  0\n",
              "4        1  ...                  1\n",
              "\n",
              "[5 rows x 11 columns]"
            ]
          },
          "metadata": {
            "tags": []
          },
          "execution_count": 101
        }
      ]
    },
    {
      "cell_type": "code",
      "metadata": {
        "id": "WTjmdW9tsAuJ",
        "colab_type": "code",
        "colab": {}
      },
      "source": [
        "data_bl = merge_cpi_hdi_lend.corr()"
      ],
      "execution_count": 0,
      "outputs": []
    },
    {
      "cell_type": "code",
      "metadata": {
        "id": "jgTvkK7HsKg2",
        "colab_type": "code",
        "colab": {
          "base_uri": "https://localhost:8080/",
          "height": 359
        },
        "outputId": "4073a89e-74df-49d9-b439-641007842d10"
      },
      "source": [
        "data_bl"
      ],
      "execution_count": 104,
      "outputs": [
        {
          "output_type": "execute_result",
          "data": {
            "text/html": [
              "<div>\n",
              "<style scoped>\n",
              "    .dataframe tbody tr th:only-of-type {\n",
              "        vertical-align: middle;\n",
              "    }\n",
              "\n",
              "    .dataframe tbody tr th {\n",
              "        vertical-align: top;\n",
              "    }\n",
              "\n",
              "    .dataframe thead th {\n",
              "        text-align: right;\n",
              "    }\n",
              "</style>\n",
              "<table border=\"1\" class=\"dataframe\">\n",
              "  <thead>\n",
              "    <tr style=\"text-align: right;\">\n",
              "      <th></th>\n",
              "      <th>Country</th>\n",
              "      <th>iHDI_index</th>\n",
              "      <th>iHDI_group</th>\n",
              "      <th>obs_value</th>\n",
              "      <th>month</th>\n",
              "      <th>year</th>\n",
              "      <th>Lending Rate</th>\n",
              "      <th>lending_rate_month</th>\n",
              "      <th>category_ Food and non-alcoholic beverages</th>\n",
              "      <th>category_ General</th>\n",
              "    </tr>\n",
              "  </thead>\n",
              "  <tbody>\n",
              "    <tr>\n",
              "      <th>Country</th>\n",
              "      <td>1.000000</td>\n",
              "      <td>-0.004151</td>\n",
              "      <td>-0.013541</td>\n",
              "      <td>-0.043706</td>\n",
              "      <td>-0.005157</td>\n",
              "      <td>0.004982</td>\n",
              "      <td>-0.080607</td>\n",
              "      <td>0.151317</td>\n",
              "      <td>0.022696</td>\n",
              "      <td>-0.022696</td>\n",
              "    </tr>\n",
              "    <tr>\n",
              "      <th>iHDI_index</th>\n",
              "      <td>-0.004151</td>\n",
              "      <td>1.000000</td>\n",
              "      <td>0.650483</td>\n",
              "      <td>-0.540584</td>\n",
              "      <td>0.020481</td>\n",
              "      <td>0.133581</td>\n",
              "      <td>-0.595407</td>\n",
              "      <td>-0.036438</td>\n",
              "      <td>0.043594</td>\n",
              "      <td>-0.043594</td>\n",
              "    </tr>\n",
              "    <tr>\n",
              "      <th>iHDI_group</th>\n",
              "      <td>-0.013541</td>\n",
              "      <td>0.650483</td>\n",
              "      <td>1.000000</td>\n",
              "      <td>-0.313248</td>\n",
              "      <td>0.013899</td>\n",
              "      <td>0.092004</td>\n",
              "      <td>-0.484029</td>\n",
              "      <td>0.089430</td>\n",
              "      <td>0.075042</td>\n",
              "      <td>-0.075042</td>\n",
              "    </tr>\n",
              "    <tr>\n",
              "      <th>obs_value</th>\n",
              "      <td>-0.043706</td>\n",
              "      <td>-0.540584</td>\n",
              "      <td>-0.313248</td>\n",
              "      <td>1.000000</td>\n",
              "      <td>-0.018764</td>\n",
              "      <td>-0.120333</td>\n",
              "      <td>0.417831</td>\n",
              "      <td>0.053716</td>\n",
              "      <td>-0.040932</td>\n",
              "      <td>0.040932</td>\n",
              "    </tr>\n",
              "    <tr>\n",
              "      <th>month</th>\n",
              "      <td>-0.005157</td>\n",
              "      <td>0.020481</td>\n",
              "      <td>0.013899</td>\n",
              "      <td>-0.018764</td>\n",
              "      <td>1.000000</td>\n",
              "      <td>-0.202649</td>\n",
              "      <td>0.000272</td>\n",
              "      <td>0.004512</td>\n",
              "      <td>-0.002407</td>\n",
              "      <td>0.002407</td>\n",
              "    </tr>\n",
              "    <tr>\n",
              "      <th>year</th>\n",
              "      <td>0.004982</td>\n",
              "      <td>0.133581</td>\n",
              "      <td>0.092004</td>\n",
              "      <td>-0.120333</td>\n",
              "      <td>-0.202649</td>\n",
              "      <td>1.000000</td>\n",
              "      <td>-0.077657</td>\n",
              "      <td>-0.044392</td>\n",
              "      <td>-0.013132</td>\n",
              "      <td>0.013132</td>\n",
              "    </tr>\n",
              "    <tr>\n",
              "      <th>Lending Rate</th>\n",
              "      <td>-0.080607</td>\n",
              "      <td>-0.595407</td>\n",
              "      <td>-0.484029</td>\n",
              "      <td>0.417831</td>\n",
              "      <td>0.000272</td>\n",
              "      <td>-0.077657</td>\n",
              "      <td>1.000000</td>\n",
              "      <td>0.051880</td>\n",
              "      <td>-0.080178</td>\n",
              "      <td>0.080178</td>\n",
              "    </tr>\n",
              "    <tr>\n",
              "      <th>lending_rate_month</th>\n",
              "      <td>0.151317</td>\n",
              "      <td>-0.036438</td>\n",
              "      <td>0.089430</td>\n",
              "      <td>0.053716</td>\n",
              "      <td>0.004512</td>\n",
              "      <td>-0.044392</td>\n",
              "      <td>0.051880</td>\n",
              "      <td>1.000000</td>\n",
              "      <td>0.015018</td>\n",
              "      <td>-0.015018</td>\n",
              "    </tr>\n",
              "    <tr>\n",
              "      <th>category_ Food and non-alcoholic beverages</th>\n",
              "      <td>0.022696</td>\n",
              "      <td>0.043594</td>\n",
              "      <td>0.075042</td>\n",
              "      <td>-0.040932</td>\n",
              "      <td>-0.002407</td>\n",
              "      <td>-0.013132</td>\n",
              "      <td>-0.080178</td>\n",
              "      <td>0.015018</td>\n",
              "      <td>1.000000</td>\n",
              "      <td>-1.000000</td>\n",
              "    </tr>\n",
              "    <tr>\n",
              "      <th>category_ General</th>\n",
              "      <td>-0.022696</td>\n",
              "      <td>-0.043594</td>\n",
              "      <td>-0.075042</td>\n",
              "      <td>0.040932</td>\n",
              "      <td>0.002407</td>\n",
              "      <td>0.013132</td>\n",
              "      <td>0.080178</td>\n",
              "      <td>-0.015018</td>\n",
              "      <td>-1.000000</td>\n",
              "      <td>1.000000</td>\n",
              "    </tr>\n",
              "  </tbody>\n",
              "</table>\n",
              "</div>"
            ],
            "text/plain": [
              "                                             Country  ...  category_ General\n",
              "Country                                     1.000000  ...          -0.022696\n",
              "iHDI_index                                 -0.004151  ...          -0.043594\n",
              "iHDI_group                                 -0.013541  ...          -0.075042\n",
              "obs_value                                  -0.043706  ...           0.040932\n",
              "month                                      -0.005157  ...           0.002407\n",
              "year                                        0.004982  ...           0.013132\n",
              "Lending Rate                               -0.080607  ...           0.080178\n",
              "lending_rate_month                          0.151317  ...          -0.015018\n",
              "category_ Food and non-alcoholic beverages  0.022696  ...          -1.000000\n",
              "category_ General                          -0.022696  ...           1.000000\n",
              "\n",
              "[10 rows x 10 columns]"
            ]
          },
          "metadata": {
            "tags": []
          },
          "execution_count": 104
        }
      ]
    },
    {
      "cell_type": "code",
      "metadata": {
        "id": "YRDkKXy1sOgK",
        "colab_type": "code",
        "colab": {
          "base_uri": "https://localhost:8080/",
          "height": 204
        },
        "outputId": "9a8d62c4-4d97-4423-ffbb-6f95e3da595b"
      },
      "source": [
        "data_bl['iHDI_group'].sort_values()"
      ],
      "execution_count": 105,
      "outputs": [
        {
          "output_type": "execute_result",
          "data": {
            "text/plain": [
              "Lending Rate                                 -0.484029\n",
              "obs_value                                    -0.313248\n",
              "category_ General                            -0.075042\n",
              "Country                                      -0.013541\n",
              "month                                         0.013899\n",
              "category_ Food and non-alcoholic beverages    0.075042\n",
              "lending_rate_month                            0.089430\n",
              "year                                          0.092004\n",
              "iHDI_index                                    0.650483\n",
              "iHDI_group                                    1.000000\n",
              "Name: iHDI_group, dtype: float64"
            ]
          },
          "metadata": {
            "tags": []
          },
          "execution_count": 105
        }
      ]
    },
    {
      "cell_type": "code",
      "metadata": {
        "id": "mlF77EWqsGsk",
        "colab_type": "code",
        "colab": {
          "base_uri": "https://localhost:8080/",
          "height": 499
        },
        "outputId": "77e86f32-7188-466e-9f93-92a4b17dc9b7"
      },
      "source": [
        "sns.heatmap(data_bl)"
      ],
      "execution_count": 103,
      "outputs": [
        {
          "output_type": "execute_result",
          "data": {
            "text/plain": [
              "<matplotlib.axes._subplots.AxesSubplot at 0x7fb2284b62b0>"
            ]
          },
          "metadata": {
            "tags": []
          },
          "execution_count": 103
        },
        {
          "output_type": "display_data",
          "data": {
            "image/png": "[encoded data removed]",
            "text/plain": [
              "<Figure size 432x288 with 2 Axes>"
            ]
          },
          "metadata": {
            "tags": [],
            "needs_background": "light"
          }
        }
      ]
    },
    {
      "cell_type": "code",
      "metadata": {
        "id": "NLztJEtstP7b",
        "colab_type": "code",
        "colab": {
          "base_uri": "https://localhost:8080/",
          "height": 204
        },
        "outputId": "3cd2cfcc-2633-487d-cfd4-d5b12facc7ee"
      },
      "source": [
        "data_bl['Lending Rate'].sort_values() #looks like Lending rate and cpi monthly (obs_value) have a negative correlation."
      ],
      "execution_count": 106,
      "outputs": [
        {
          "output_type": "execute_result",
          "data": {
            "text/plain": [
              "iHDI_index                                   -0.595407\n",
              "iHDI_group                                   -0.484029\n",
              "Country                                      -0.080607\n",
              "category_ Food and non-alcoholic beverages   -0.080178\n",
              "year                                         -0.077657\n",
              "month                                         0.000272\n",
              "lending_rate_month                            0.051880\n",
              "category_ General                             0.080178\n",
              "obs_value                                     0.417831\n",
              "Lending Rate                                  1.000000\n",
              "Name: Lending Rate, dtype: float64"
            ]
          },
          "metadata": {
            "tags": []
          },
          "execution_count": 106
        }
      ]
    }
  ]
}