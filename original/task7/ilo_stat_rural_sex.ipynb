{
  "nbformat": 4,
  "nbformat_minor": 0,
  "metadata": {
    "colab": {
      "name": "ilo_stat_rural_sex.ipynb",
      "provenance": []
    },
    "kernelspec": {
      "name": "python3",
      "display_name": "Python 3"
    }
  },
  "cells": [
    {
      "cell_type": "code",
      "metadata": {
        "id": "epRfUJpo0DH9",
        "colab_type": "code",
        "outputId": "b9979d7f-56fc-4d31-cdb4-3acecc625e34",
        "colab": {
          "base_uri": "https://localhost:8080/",
          "height": 122
        }
      },
      "source": [
        "from google.colab import drive\n",
        "\n",
        "drive.mount('/content/gdrive')"
      ],
      "execution_count": 1,
      "outputs": [
        {
          "output_type": "stream",
          "text": [
            "Go to this URL in a browser: https://accounts.google.com/o/oauth2/auth?client_id=947318989803-6bn6qk8qdgf4n4g3pfee6491hc0brc4i.apps.googleusercontent.com&redirect_uri=urn%3aietf%3awg%3aoauth%3a2.0%3aoob&response_type=code&scope=email%20https%3a%2f%2fwww.googleapis.com%2fauth%2fdocs.test%20https%3a%2f%2fwww.googleapis.com%2fauth%2fdrive%20https%3a%2f%2fwww.googleapis.com%2fauth%2fdrive.photos.readonly%20https%3a%2f%2fwww.googleapis.com%2fauth%2fpeopleapi.readonly\n",
            "\n",
            "Enter your authorization code:\n",
            "··········\n",
            "Mounted at /content/gdrive\n"
          ],
          "name": "stdout"
        }
      ]
    },
    {
      "cell_type": "code",
      "metadata": {
        "id": "RRFCZwWL0KYU",
        "colab_type": "code",
        "outputId": "edf14cf1-e967-4e4c-b45b-28a5bb8109c2",
        "colab": {
          "base_uri": "https://localhost:8080/",
          "height": 136
        }
      },
      "source": [
        "!ls \"/content/gdrive/My Drive/Omdena Pandemic/dataset\""
      ],
      "execution_count": 2,
      "outputs": [
        {
          "output_type": "stream",
          "text": [
            " bank-lending-rate-forecast.csv         ilostat_1.csv\n",
            " consumer_price_index.csv\t        ilostat_2020_min_wages.csv\n",
            "'COVID19EconomicImpact 10Mar2020.csv'   ilostat_2.csv\n",
            " CPI_monthly.csv\t\t        ilostat_sex_rural.csv\n",
            " excahnge_rates.csv\t\t        ilostat_tatest_area.csv\n",
            " exchange.csv\t\t\t        minimum_wages_te.csv\n",
            " iHDI_cleaned.csv\t\t       'minimum_wages_trading economics.gsheet'\n"
          ],
          "name": "stdout"
        }
      ]
    },
    {
      "cell_type": "code",
      "metadata": {
        "id": "XuZx2OFl0MCk",
        "colab_type": "code",
        "colab": {}
      },
      "source": [
        "drive = \"/content/gdrive/My Drive/Omdena Pandemic/dataset/ilostat_sex_rural.csv\""
      ],
      "execution_count": 0,
      "outputs": []
    },
    {
      "cell_type": "code",
      "metadata": {
        "id": "zMTP487R0PGn",
        "colab_type": "code",
        "outputId": "08f9e36c-4e3c-4bd9-bdc6-4303436379a9",
        "colab": {
          "base_uri": "https://localhost:8080/",
          "height": 51
        }
      },
      "source": [
        "import pandas as pd\n",
        "import numpy as np\n",
        "import matplotlib.pyplot as plt\n",
        "import seaborn as sns\n",
        "\n",
        "%matplotlib inline"
      ],
      "execution_count": 4,
      "outputs": [
        {
          "output_type": "stream",
          "text": [
            "/usr/local/lib/python3.6/dist-packages/statsmodels/tools/_testing.py:19: FutureWarning: pandas.util.testing is deprecated. Use the functions in the public API at pandas.testing instead.\n",
            "  import pandas.util.testing as tm\n"
          ],
          "name": "stderr"
        }
      ]
    },
    {
      "cell_type": "code",
      "metadata": {
        "id": "EfwzTJ550Q_a",
        "colab_type": "code",
        "colab": {}
      },
      "source": [
        "data = pd.read_csv(drive)"
      ],
      "execution_count": 0,
      "outputs": []
    },
    {
      "cell_type": "code",
      "metadata": {
        "id": "0JxYU26K0Si3",
        "colab_type": "code",
        "outputId": "88161fbe-aecc-4f93-cfae-8f3ecdc143a7",
        "colab": {
          "base_uri": "https://localhost:8080/",
          "height": 204
        }
      },
      "source": [
        "data.head()"
      ],
      "execution_count": 59,
      "outputs": [
        {
          "output_type": "execute_result",
          "data": {
            "text/html": [
              "<div>\n",
              "<style scoped>\n",
              "    .dataframe tbody tr th:only-of-type {\n",
              "        vertical-align: middle;\n",
              "    }\n",
              "\n",
              "    .dataframe tbody tr th {\n",
              "        vertical-align: top;\n",
              "    }\n",
              "\n",
              "    .dataframe thead th {\n",
              "        text-align: right;\n",
              "    }\n",
              "</style>\n",
              "<table border=\"1\" class=\"dataframe\">\n",
              "  <thead>\n",
              "    <tr style=\"text-align: right;\">\n",
              "      <th></th>\n",
              "      <th>ref_area.label</th>\n",
              "      <th>indicator.label</th>\n",
              "      <th>source.label</th>\n",
              "      <th>sex.label</th>\n",
              "      <th>classif1.label</th>\n",
              "      <th>classif2.label</th>\n",
              "      <th>time</th>\n",
              "      <th>obs_value</th>\n",
              "      <th>obs_status.label</th>\n",
              "    </tr>\n",
              "  </thead>\n",
              "  <tbody>\n",
              "    <tr>\n",
              "      <th>0</th>\n",
              "      <td>Afghanistan</td>\n",
              "      <td>Labour force participation rate by sex, age an...</td>\n",
              "      <td>AFG - ILO - ILO modelled estimates</td>\n",
              "      <td>Sex: Total</td>\n",
              "      <td>Age (Youth, adults): 15+</td>\n",
              "      <td>Area type: National</td>\n",
              "      <td>2005</td>\n",
              "      <td>48.487</td>\n",
              "      <td>NaN</td>\n",
              "    </tr>\n",
              "    <tr>\n",
              "      <th>1</th>\n",
              "      <td>Afghanistan</td>\n",
              "      <td>Labour force participation rate by sex, age an...</td>\n",
              "      <td>AFG - ILO - ILO modelled estimates</td>\n",
              "      <td>Sex: Total</td>\n",
              "      <td>Age (Youth, adults): 15+</td>\n",
              "      <td>Area type: Rural</td>\n",
              "      <td>2005</td>\n",
              "      <td>49.856</td>\n",
              "      <td>NaN</td>\n",
              "    </tr>\n",
              "    <tr>\n",
              "      <th>2</th>\n",
              "      <td>Afghanistan</td>\n",
              "      <td>Labour force participation rate by sex, age an...</td>\n",
              "      <td>AFG - ILO - ILO modelled estimates</td>\n",
              "      <td>Sex: Total</td>\n",
              "      <td>Age (Youth, adults): 15+</td>\n",
              "      <td>Area type: Urban</td>\n",
              "      <td>2005</td>\n",
              "      <td>45.556</td>\n",
              "      <td>NaN</td>\n",
              "    </tr>\n",
              "    <tr>\n",
              "      <th>3</th>\n",
              "      <td>Afghanistan</td>\n",
              "      <td>Labour force participation rate by sex, age an...</td>\n",
              "      <td>AFG - ILO - ILO modelled estimates</td>\n",
              "      <td>Sex: Total</td>\n",
              "      <td>Age (Youth, adults): 15-24</td>\n",
              "      <td>Area type: National</td>\n",
              "      <td>2005</td>\n",
              "      <td>40.933</td>\n",
              "      <td>NaN</td>\n",
              "    </tr>\n",
              "    <tr>\n",
              "      <th>4</th>\n",
              "      <td>Afghanistan</td>\n",
              "      <td>Labour force participation rate by sex, age an...</td>\n",
              "      <td>AFG - ILO - ILO modelled estimates</td>\n",
              "      <td>Sex: Total</td>\n",
              "      <td>Age (Youth, adults): 15-24</td>\n",
              "      <td>Area type: Rural</td>\n",
              "      <td>2005</td>\n",
              "      <td>43.498</td>\n",
              "      <td>NaN</td>\n",
              "    </tr>\n",
              "  </tbody>\n",
              "</table>\n",
              "</div>"
            ],
            "text/plain": [
              "  ref_area.label  ... obs_status.label\n",
              "0    Afghanistan  ...              NaN\n",
              "1    Afghanistan  ...              NaN\n",
              "2    Afghanistan  ...              NaN\n",
              "3    Afghanistan  ...              NaN\n",
              "4    Afghanistan  ...              NaN\n",
              "\n",
              "[5 rows x 9 columns]"
            ]
          },
          "metadata": {
            "tags": []
          },
          "execution_count": 59
        }
      ]
    },
    {
      "cell_type": "code",
      "metadata": {
        "id": "so8ywKukSUSz",
        "colab_type": "code",
        "colab": {
          "base_uri": "https://localhost:8080/",
          "height": 85
        },
        "outputId": "576c73cc-6def-4690-b0f4-eafe77cd3ee2"
      },
      "source": [
        "data['sex.label'].value_counts()"
      ],
      "execution_count": 60,
      "outputs": [
        {
          "output_type": "execute_result",
          "data": {
            "text/plain": [
              "Sex: Male      49680\n",
              "Sex: Female    49680\n",
              "Sex: Total     49680\n",
              "Name: sex.label, dtype: int64"
            ]
          },
          "metadata": {
            "tags": []
          },
          "execution_count": 60
        }
      ]
    },
    {
      "cell_type": "code",
      "metadata": {
        "id": "lkFXyOCySmHZ",
        "colab_type": "code",
        "colab": {
          "base_uri": "https://localhost:8080/",
          "height": 374
        },
        "outputId": "5f6278c2-4957-4a1e-ddba-80bec4041eac"
      },
      "source": [
        "data['time'].value_counts()"
      ],
      "execution_count": 61,
      "outputs": [
        {
          "output_type": "execute_result",
          "data": {
            "text/plain": [
              "2024    7452\n",
              "2023    7452\n",
              "2006    7452\n",
              "2007    7452\n",
              "2008    7452\n",
              "2009    7452\n",
              "2010    7452\n",
              "2011    7452\n",
              "2012    7452\n",
              "2013    7452\n",
              "2014    7452\n",
              "2015    7452\n",
              "2016    7452\n",
              "2017    7452\n",
              "2018    7452\n",
              "2019    7452\n",
              "2020    7452\n",
              "2021    7452\n",
              "2022    7452\n",
              "2005    7452\n",
              "Name: time, dtype: int64"
            ]
          },
          "metadata": {
            "tags": []
          },
          "execution_count": 61
        }
      ]
    },
    {
      "cell_type": "code",
      "metadata": {
        "id": "kSj_Uhp7EECT",
        "colab_type": "code",
        "colab": {}
      },
      "source": [
        "data = data[data['sex.label'] != 'Sex: Total']"
      ],
      "execution_count": 0,
      "outputs": []
    },
    {
      "cell_type": "code",
      "metadata": {
        "id": "0ziXUM-yTMlC",
        "colab_type": "code",
        "colab": {
          "base_uri": "https://localhost:8080/",
          "height": 204
        },
        "outputId": "b916cf28-3159-4d4b-d092-f819d697f1f6"
      },
      "source": [
        "data.head()"
      ],
      "execution_count": 63,
      "outputs": [
        {
          "output_type": "execute_result",
          "data": {
            "text/html": [
              "<div>\n",
              "<style scoped>\n",
              "    .dataframe tbody tr th:only-of-type {\n",
              "        vertical-align: middle;\n",
              "    }\n",
              "\n",
              "    .dataframe tbody tr th {\n",
              "        vertical-align: top;\n",
              "    }\n",
              "\n",
              "    .dataframe thead th {\n",
              "        text-align: right;\n",
              "    }\n",
              "</style>\n",
              "<table border=\"1\" class=\"dataframe\">\n",
              "  <thead>\n",
              "    <tr style=\"text-align: right;\">\n",
              "      <th></th>\n",
              "      <th>ref_area.label</th>\n",
              "      <th>indicator.label</th>\n",
              "      <th>source.label</th>\n",
              "      <th>sex.label</th>\n",
              "      <th>classif1.label</th>\n",
              "      <th>classif2.label</th>\n",
              "      <th>time</th>\n",
              "      <th>obs_value</th>\n",
              "      <th>obs_status.label</th>\n",
              "    </tr>\n",
              "  </thead>\n",
              "  <tbody>\n",
              "    <tr>\n",
              "      <th>9</th>\n",
              "      <td>Afghanistan</td>\n",
              "      <td>Labour force participation rate by sex, age an...</td>\n",
              "      <td>AFG - ILO - ILO modelled estimates</td>\n",
              "      <td>Sex: Male</td>\n",
              "      <td>Age (Youth, adults): 15+</td>\n",
              "      <td>Area type: National</td>\n",
              "      <td>2005</td>\n",
              "      <td>78.820</td>\n",
              "      <td>NaN</td>\n",
              "    </tr>\n",
              "    <tr>\n",
              "      <th>10</th>\n",
              "      <td>Afghanistan</td>\n",
              "      <td>Labour force participation rate by sex, age an...</td>\n",
              "      <td>AFG - ILO - ILO modelled estimates</td>\n",
              "      <td>Sex: Male</td>\n",
              "      <td>Age (Youth, adults): 15+</td>\n",
              "      <td>Area type: Rural</td>\n",
              "      <td>2005</td>\n",
              "      <td>79.952</td>\n",
              "      <td>NaN</td>\n",
              "    </tr>\n",
              "    <tr>\n",
              "      <th>11</th>\n",
              "      <td>Afghanistan</td>\n",
              "      <td>Labour force participation rate by sex, age an...</td>\n",
              "      <td>AFG - ILO - ILO modelled estimates</td>\n",
              "      <td>Sex: Male</td>\n",
              "      <td>Age (Youth, adults): 15+</td>\n",
              "      <td>Area type: Urban</td>\n",
              "      <td>2005</td>\n",
              "      <td>76.366</td>\n",
              "      <td>NaN</td>\n",
              "    </tr>\n",
              "    <tr>\n",
              "      <th>12</th>\n",
              "      <td>Afghanistan</td>\n",
              "      <td>Labour force participation rate by sex, age an...</td>\n",
              "      <td>AFG - ILO - ILO modelled estimates</td>\n",
              "      <td>Sex: Male</td>\n",
              "      <td>Age (Youth, adults): 15-24</td>\n",
              "      <td>Area type: National</td>\n",
              "      <td>2005</td>\n",
              "      <td>64.512</td>\n",
              "      <td>NaN</td>\n",
              "    </tr>\n",
              "    <tr>\n",
              "      <th>13</th>\n",
              "      <td>Afghanistan</td>\n",
              "      <td>Labour force participation rate by sex, age an...</td>\n",
              "      <td>AFG - ILO - ILO modelled estimates</td>\n",
              "      <td>Sex: Male</td>\n",
              "      <td>Age (Youth, adults): 15-24</td>\n",
              "      <td>Area type: Rural</td>\n",
              "      <td>2005</td>\n",
              "      <td>68.136</td>\n",
              "      <td>NaN</td>\n",
              "    </tr>\n",
              "  </tbody>\n",
              "</table>\n",
              "</div>"
            ],
            "text/plain": [
              "   ref_area.label  ... obs_status.label\n",
              "9     Afghanistan  ...              NaN\n",
              "10    Afghanistan  ...              NaN\n",
              "11    Afghanistan  ...              NaN\n",
              "12    Afghanistan  ...              NaN\n",
              "13    Afghanistan  ...              NaN\n",
              "\n",
              "[5 rows x 9 columns]"
            ]
          },
          "metadata": {
            "tags": []
          },
          "execution_count": 63
        }
      ]
    },
    {
      "cell_type": "code",
      "metadata": {
        "id": "iXvMlZdlEGHd",
        "colab_type": "code",
        "outputId": "85acfdf5-4b15-4090-ad9f-3c090e7d5edf",
        "colab": {
          "base_uri": "https://localhost:8080/",
          "height": 68
        }
      },
      "source": [
        "data['sex.label'].value_counts()"
      ],
      "execution_count": 64,
      "outputs": [
        {
          "output_type": "execute_result",
          "data": {
            "text/plain": [
              "Sex: Male      49680\n",
              "Sex: Female    49680\n",
              "Name: sex.label, dtype: int64"
            ]
          },
          "metadata": {
            "tags": []
          },
          "execution_count": 64
        }
      ]
    },
    {
      "cell_type": "code",
      "metadata": {
        "id": "Gvim5dCcTtiH",
        "colab_type": "code",
        "colab": {
          "base_uri": "https://localhost:8080/",
          "height": 34
        },
        "outputId": "b544f9c5-18b4-48e4-b1f6-b33d8e0136e2"
      },
      "source": [
        "data['obs_status.label'].isnull().sum() #can drop obs_status.label"
      ],
      "execution_count": 65,
      "outputs": [
        {
          "output_type": "execute_result",
          "data": {
            "text/plain": [
              "83787"
            ]
          },
          "metadata": {
            "tags": []
          },
          "execution_count": 65
        }
      ]
    },
    {
      "cell_type": "code",
      "metadata": {
        "id": "Ruxj817MEJPQ",
        "colab_type": "code",
        "outputId": "1ee6cfc0-c8e9-4920-bd25-6e193432cd7a",
        "colab": {
          "base_uri": "https://localhost:8080/",
          "height": 34
        }
      },
      "source": [
        "data.shape"
      ],
      "execution_count": 66,
      "outputs": [
        {
          "output_type": "execute_result",
          "data": {
            "text/plain": [
              "(99360, 9)"
            ]
          },
          "metadata": {
            "tags": []
          },
          "execution_count": 66
        }
      ]
    },
    {
      "cell_type": "code",
      "metadata": {
        "id": "Nw2IWyBlEOAn",
        "colab_type": "code",
        "colab": {
          "base_uri": "https://localhost:8080/",
          "height": 187
        },
        "outputId": "4b4552df-1a77-4f47-8c78-99709cb31020"
      },
      "source": [
        "data.isnull().sum()"
      ],
      "execution_count": 67,
      "outputs": [
        {
          "output_type": "execute_result",
          "data": {
            "text/plain": [
              "ref_area.label          0\n",
              "indicator.label         0\n",
              "source.label            0\n",
              "sex.label               0\n",
              "classif1.label          0\n",
              "classif2.label          0\n",
              "time                    0\n",
              "obs_value               0\n",
              "obs_status.label    83787\n",
              "dtype: int64"
            ]
          },
          "metadata": {
            "tags": []
          },
          "execution_count": 67
        }
      ]
    },
    {
      "cell_type": "code",
      "metadata": {
        "id": "iGhVUxx_4NDA",
        "colab_type": "code",
        "colab": {}
      },
      "source": [
        "#data['sex.label'].str.split(':',expand=True)\n",
        "data[['label','from']] = data['classif2.label'].str.split(':',expand=True)"
      ],
      "execution_count": 0,
      "outputs": []
    },
    {
      "cell_type": "code",
      "metadata": {
        "id": "kgoN1iOPV4RQ",
        "colab_type": "code",
        "colab": {}
      },
      "source": [
        "data[['label_1','Age']] = data['classif1.label'].str.split(':',expand=True)"
      ],
      "execution_count": 0,
      "outputs": []
    },
    {
      "cell_type": "code",
      "metadata": {
        "id": "p1nimc4hWfBH",
        "colab_type": "code",
        "colab": {}
      },
      "source": [
        "#Sex label expand\n",
        "data[['label_2','Sex']] = data['sex.label'].str.split(':',expand=True)"
      ],
      "execution_count": 0,
      "outputs": []
    },
    {
      "cell_type": "code",
      "metadata": {
        "id": "txztUcf84fvV",
        "colab_type": "code",
        "outputId": "d10d6c96-919e-4a31-8362-882ddecc5df5",
        "colab": {
          "base_uri": "https://localhost:8080/",
          "height": 204
        }
      },
      "source": [
        "data.head()"
      ],
      "execution_count": 71,
      "outputs": [
        {
          "output_type": "execute_result",
          "data": {
            "text/html": [
              "<div>\n",
              "<style scoped>\n",
              "    .dataframe tbody tr th:only-of-type {\n",
              "        vertical-align: middle;\n",
              "    }\n",
              "\n",
              "    .dataframe tbody tr th {\n",
              "        vertical-align: top;\n",
              "    }\n",
              "\n",
              "    .dataframe thead th {\n",
              "        text-align: right;\n",
              "    }\n",
              "</style>\n",
              "<table border=\"1\" class=\"dataframe\">\n",
              "  <thead>\n",
              "    <tr style=\"text-align: right;\">\n",
              "      <th></th>\n",
              "      <th>ref_area.label</th>\n",
              "      <th>indicator.label</th>\n",
              "      <th>source.label</th>\n",
              "      <th>sex.label</th>\n",
              "      <th>classif1.label</th>\n",
              "      <th>classif2.label</th>\n",
              "      <th>time</th>\n",
              "      <th>obs_value</th>\n",
              "      <th>obs_status.label</th>\n",
              "      <th>label</th>\n",
              "      <th>from</th>\n",
              "      <th>label_1</th>\n",
              "      <th>Age</th>\n",
              "      <th>label_2</th>\n",
              "      <th>Sex</th>\n",
              "    </tr>\n",
              "  </thead>\n",
              "  <tbody>\n",
              "    <tr>\n",
              "      <th>9</th>\n",
              "      <td>Afghanistan</td>\n",
              "      <td>Labour force participation rate by sex, age an...</td>\n",
              "      <td>AFG - ILO - ILO modelled estimates</td>\n",
              "      <td>Sex: Male</td>\n",
              "      <td>Age (Youth, adults): 15+</td>\n",
              "      <td>Area type: National</td>\n",
              "      <td>2005</td>\n",
              "      <td>78.820</td>\n",
              "      <td>NaN</td>\n",
              "      <td>Area type</td>\n",
              "      <td>National</td>\n",
              "      <td>Age (Youth, adults)</td>\n",
              "      <td>15+</td>\n",
              "      <td>Sex</td>\n",
              "      <td>Male</td>\n",
              "    </tr>\n",
              "    <tr>\n",
              "      <th>10</th>\n",
              "      <td>Afghanistan</td>\n",
              "      <td>Labour force participation rate by sex, age an...</td>\n",
              "      <td>AFG - ILO - ILO modelled estimates</td>\n",
              "      <td>Sex: Male</td>\n",
              "      <td>Age (Youth, adults): 15+</td>\n",
              "      <td>Area type: Rural</td>\n",
              "      <td>2005</td>\n",
              "      <td>79.952</td>\n",
              "      <td>NaN</td>\n",
              "      <td>Area type</td>\n",
              "      <td>Rural</td>\n",
              "      <td>Age (Youth, adults)</td>\n",
              "      <td>15+</td>\n",
              "      <td>Sex</td>\n",
              "      <td>Male</td>\n",
              "    </tr>\n",
              "    <tr>\n",
              "      <th>11</th>\n",
              "      <td>Afghanistan</td>\n",
              "      <td>Labour force participation rate by sex, age an...</td>\n",
              "      <td>AFG - ILO - ILO modelled estimates</td>\n",
              "      <td>Sex: Male</td>\n",
              "      <td>Age (Youth, adults): 15+</td>\n",
              "      <td>Area type: Urban</td>\n",
              "      <td>2005</td>\n",
              "      <td>76.366</td>\n",
              "      <td>NaN</td>\n",
              "      <td>Area type</td>\n",
              "      <td>Urban</td>\n",
              "      <td>Age (Youth, adults)</td>\n",
              "      <td>15+</td>\n",
              "      <td>Sex</td>\n",
              "      <td>Male</td>\n",
              "    </tr>\n",
              "    <tr>\n",
              "      <th>12</th>\n",
              "      <td>Afghanistan</td>\n",
              "      <td>Labour force participation rate by sex, age an...</td>\n",
              "      <td>AFG - ILO - ILO modelled estimates</td>\n",
              "      <td>Sex: Male</td>\n",
              "      <td>Age (Youth, adults): 15-24</td>\n",
              "      <td>Area type: National</td>\n",
              "      <td>2005</td>\n",
              "      <td>64.512</td>\n",
              "      <td>NaN</td>\n",
              "      <td>Area type</td>\n",
              "      <td>National</td>\n",
              "      <td>Age (Youth, adults)</td>\n",
              "      <td>15-24</td>\n",
              "      <td>Sex</td>\n",
              "      <td>Male</td>\n",
              "    </tr>\n",
              "    <tr>\n",
              "      <th>13</th>\n",
              "      <td>Afghanistan</td>\n",
              "      <td>Labour force participation rate by sex, age an...</td>\n",
              "      <td>AFG - ILO - ILO modelled estimates</td>\n",
              "      <td>Sex: Male</td>\n",
              "      <td>Age (Youth, adults): 15-24</td>\n",
              "      <td>Area type: Rural</td>\n",
              "      <td>2005</td>\n",
              "      <td>68.136</td>\n",
              "      <td>NaN</td>\n",
              "      <td>Area type</td>\n",
              "      <td>Rural</td>\n",
              "      <td>Age (Youth, adults)</td>\n",
              "      <td>15-24</td>\n",
              "      <td>Sex</td>\n",
              "      <td>Male</td>\n",
              "    </tr>\n",
              "  </tbody>\n",
              "</table>\n",
              "</div>"
            ],
            "text/plain": [
              "   ref_area.label  ...    Sex\n",
              "9     Afghanistan  ...   Male\n",
              "10    Afghanistan  ...   Male\n",
              "11    Afghanistan  ...   Male\n",
              "12    Afghanistan  ...   Male\n",
              "13    Afghanistan  ...   Male\n",
              "\n",
              "[5 rows x 15 columns]"
            ]
          },
          "metadata": {
            "tags": []
          },
          "execution_count": 71
        }
      ]
    },
    {
      "cell_type": "code",
      "metadata": {
        "id": "Y8K2pA5NEB3g",
        "colab_type": "code",
        "colab": {}
      },
      "source": [
        "#let's do some dropping of columns - indicator.label, source.label, obs_status.label, label, sex.label\n",
        "data = data.drop(['classif2.label','sex.label','label', 'indicator.label','source.label','obs_status.label','classif1.label','label_1','label_2'],axis=1)"
      ],
      "execution_count": 0,
      "outputs": []
    },
    {
      "cell_type": "code",
      "metadata": {
        "id": "9MNohPSGEoZR",
        "colab_type": "code",
        "outputId": "bb2c6a43-f2ac-47a5-98e9-2a40a80b3bb8",
        "colab": {
          "base_uri": "https://localhost:8080/",
          "height": 204
        }
      },
      "source": [
        "data.head()"
      ],
      "execution_count": 73,
      "outputs": [
        {
          "output_type": "execute_result",
          "data": {
            "text/html": [
              "<div>\n",
              "<style scoped>\n",
              "    .dataframe tbody tr th:only-of-type {\n",
              "        vertical-align: middle;\n",
              "    }\n",
              "\n",
              "    .dataframe tbody tr th {\n",
              "        vertical-align: top;\n",
              "    }\n",
              "\n",
              "    .dataframe thead th {\n",
              "        text-align: right;\n",
              "    }\n",
              "</style>\n",
              "<table border=\"1\" class=\"dataframe\">\n",
              "  <thead>\n",
              "    <tr style=\"text-align: right;\">\n",
              "      <th></th>\n",
              "      <th>ref_area.label</th>\n",
              "      <th>time</th>\n",
              "      <th>obs_value</th>\n",
              "      <th>from</th>\n",
              "      <th>Age</th>\n",
              "      <th>Sex</th>\n",
              "    </tr>\n",
              "  </thead>\n",
              "  <tbody>\n",
              "    <tr>\n",
              "      <th>9</th>\n",
              "      <td>Afghanistan</td>\n",
              "      <td>2005</td>\n",
              "      <td>78.820</td>\n",
              "      <td>National</td>\n",
              "      <td>15+</td>\n",
              "      <td>Male</td>\n",
              "    </tr>\n",
              "    <tr>\n",
              "      <th>10</th>\n",
              "      <td>Afghanistan</td>\n",
              "      <td>2005</td>\n",
              "      <td>79.952</td>\n",
              "      <td>Rural</td>\n",
              "      <td>15+</td>\n",
              "      <td>Male</td>\n",
              "    </tr>\n",
              "    <tr>\n",
              "      <th>11</th>\n",
              "      <td>Afghanistan</td>\n",
              "      <td>2005</td>\n",
              "      <td>76.366</td>\n",
              "      <td>Urban</td>\n",
              "      <td>15+</td>\n",
              "      <td>Male</td>\n",
              "    </tr>\n",
              "    <tr>\n",
              "      <th>12</th>\n",
              "      <td>Afghanistan</td>\n",
              "      <td>2005</td>\n",
              "      <td>64.512</td>\n",
              "      <td>National</td>\n",
              "      <td>15-24</td>\n",
              "      <td>Male</td>\n",
              "    </tr>\n",
              "    <tr>\n",
              "      <th>13</th>\n",
              "      <td>Afghanistan</td>\n",
              "      <td>2005</td>\n",
              "      <td>68.136</td>\n",
              "      <td>Rural</td>\n",
              "      <td>15-24</td>\n",
              "      <td>Male</td>\n",
              "    </tr>\n",
              "  </tbody>\n",
              "</table>\n",
              "</div>"
            ],
            "text/plain": [
              "   ref_area.label  time  obs_value       from     Age    Sex\n",
              "9     Afghanistan  2005     78.820   National     15+   Male\n",
              "10    Afghanistan  2005     79.952      Rural     15+   Male\n",
              "11    Afghanistan  2005     76.366      Urban     15+   Male\n",
              "12    Afghanistan  2005     64.512   National   15-24   Male\n",
              "13    Afghanistan  2005     68.136      Rural   15-24   Male"
            ]
          },
          "metadata": {
            "tags": []
          },
          "execution_count": 73
        }
      ]
    },
    {
      "cell_type": "code",
      "metadata": {
        "id": "3oNY6CLDEsAC",
        "colab_type": "code",
        "colab": {}
      },
      "source": [
        "#renaming ref_area column and time column\n",
        "data = data.rename(columns={'ref_area.label':'Country','time':'Year'})"
      ],
      "execution_count": 0,
      "outputs": []
    },
    {
      "cell_type": "code",
      "metadata": {
        "id": "1yA9N-VyE6uT",
        "colab_type": "code",
        "outputId": "0aed01dd-8653-4be4-a6d6-eb04ead4d5bd",
        "colab": {
          "base_uri": "https://localhost:8080/",
          "height": 204
        }
      },
      "source": [
        "data.head()"
      ],
      "execution_count": 75,
      "outputs": [
        {
          "output_type": "execute_result",
          "data": {
            "text/html": [
              "<div>\n",
              "<style scoped>\n",
              "    .dataframe tbody tr th:only-of-type {\n",
              "        vertical-align: middle;\n",
              "    }\n",
              "\n",
              "    .dataframe tbody tr th {\n",
              "        vertical-align: top;\n",
              "    }\n",
              "\n",
              "    .dataframe thead th {\n",
              "        text-align: right;\n",
              "    }\n",
              "</style>\n",
              "<table border=\"1\" class=\"dataframe\">\n",
              "  <thead>\n",
              "    <tr style=\"text-align: right;\">\n",
              "      <th></th>\n",
              "      <th>Country</th>\n",
              "      <th>Year</th>\n",
              "      <th>obs_value</th>\n",
              "      <th>from</th>\n",
              "      <th>Age</th>\n",
              "      <th>Sex</th>\n",
              "    </tr>\n",
              "  </thead>\n",
              "  <tbody>\n",
              "    <tr>\n",
              "      <th>9</th>\n",
              "      <td>Afghanistan</td>\n",
              "      <td>2005</td>\n",
              "      <td>78.820</td>\n",
              "      <td>National</td>\n",
              "      <td>15+</td>\n",
              "      <td>Male</td>\n",
              "    </tr>\n",
              "    <tr>\n",
              "      <th>10</th>\n",
              "      <td>Afghanistan</td>\n",
              "      <td>2005</td>\n",
              "      <td>79.952</td>\n",
              "      <td>Rural</td>\n",
              "      <td>15+</td>\n",
              "      <td>Male</td>\n",
              "    </tr>\n",
              "    <tr>\n",
              "      <th>11</th>\n",
              "      <td>Afghanistan</td>\n",
              "      <td>2005</td>\n",
              "      <td>76.366</td>\n",
              "      <td>Urban</td>\n",
              "      <td>15+</td>\n",
              "      <td>Male</td>\n",
              "    </tr>\n",
              "    <tr>\n",
              "      <th>12</th>\n",
              "      <td>Afghanistan</td>\n",
              "      <td>2005</td>\n",
              "      <td>64.512</td>\n",
              "      <td>National</td>\n",
              "      <td>15-24</td>\n",
              "      <td>Male</td>\n",
              "    </tr>\n",
              "    <tr>\n",
              "      <th>13</th>\n",
              "      <td>Afghanistan</td>\n",
              "      <td>2005</td>\n",
              "      <td>68.136</td>\n",
              "      <td>Rural</td>\n",
              "      <td>15-24</td>\n",
              "      <td>Male</td>\n",
              "    </tr>\n",
              "  </tbody>\n",
              "</table>\n",
              "</div>"
            ],
            "text/plain": [
              "        Country  Year  obs_value       from     Age    Sex\n",
              "9   Afghanistan  2005     78.820   National     15+   Male\n",
              "10  Afghanistan  2005     79.952      Rural     15+   Male\n",
              "11  Afghanistan  2005     76.366      Urban     15+   Male\n",
              "12  Afghanistan  2005     64.512   National   15-24   Male\n",
              "13  Afghanistan  2005     68.136      Rural   15-24   Male"
            ]
          },
          "metadata": {
            "tags": []
          },
          "execution_count": 75
        }
      ]
    },
    {
      "cell_type": "code",
      "metadata": {
        "id": "pJgxFedoWuZG",
        "colab_type": "code",
        "colab": {}
      },
      "source": [
        "#lets do some reindexing.\n",
        "data=data.reindex(columns= ['Country', 'from', 'Age','Sex','Year','obs_value'])"
      ],
      "execution_count": 0,
      "outputs": []
    },
    {
      "cell_type": "code",
      "metadata": {
        "id": "2UMgyZh5V1yC",
        "colab_type": "code",
        "colab": {
          "base_uri": "https://localhost:8080/",
          "height": 204
        },
        "outputId": "ad6250ad-0fc2-470d-8e2c-21ab9f9a42e6"
      },
      "source": [
        "data.head()"
      ],
      "execution_count": 77,
      "outputs": [
        {
          "output_type": "execute_result",
          "data": {
            "text/html": [
              "<div>\n",
              "<style scoped>\n",
              "    .dataframe tbody tr th:only-of-type {\n",
              "        vertical-align: middle;\n",
              "    }\n",
              "\n",
              "    .dataframe tbody tr th {\n",
              "        vertical-align: top;\n",
              "    }\n",
              "\n",
              "    .dataframe thead th {\n",
              "        text-align: right;\n",
              "    }\n",
              "</style>\n",
              "<table border=\"1\" class=\"dataframe\">\n",
              "  <thead>\n",
              "    <tr style=\"text-align: right;\">\n",
              "      <th></th>\n",
              "      <th>Country</th>\n",
              "      <th>from</th>\n",
              "      <th>Age</th>\n",
              "      <th>Sex</th>\n",
              "      <th>Year</th>\n",
              "      <th>obs_value</th>\n",
              "    </tr>\n",
              "  </thead>\n",
              "  <tbody>\n",
              "    <tr>\n",
              "      <th>9</th>\n",
              "      <td>Afghanistan</td>\n",
              "      <td>National</td>\n",
              "      <td>15+</td>\n",
              "      <td>Male</td>\n",
              "      <td>2005</td>\n",
              "      <td>78.820</td>\n",
              "    </tr>\n",
              "    <tr>\n",
              "      <th>10</th>\n",
              "      <td>Afghanistan</td>\n",
              "      <td>Rural</td>\n",
              "      <td>15+</td>\n",
              "      <td>Male</td>\n",
              "      <td>2005</td>\n",
              "      <td>79.952</td>\n",
              "    </tr>\n",
              "    <tr>\n",
              "      <th>11</th>\n",
              "      <td>Afghanistan</td>\n",
              "      <td>Urban</td>\n",
              "      <td>15+</td>\n",
              "      <td>Male</td>\n",
              "      <td>2005</td>\n",
              "      <td>76.366</td>\n",
              "    </tr>\n",
              "    <tr>\n",
              "      <th>12</th>\n",
              "      <td>Afghanistan</td>\n",
              "      <td>National</td>\n",
              "      <td>15-24</td>\n",
              "      <td>Male</td>\n",
              "      <td>2005</td>\n",
              "      <td>64.512</td>\n",
              "    </tr>\n",
              "    <tr>\n",
              "      <th>13</th>\n",
              "      <td>Afghanistan</td>\n",
              "      <td>Rural</td>\n",
              "      <td>15-24</td>\n",
              "      <td>Male</td>\n",
              "      <td>2005</td>\n",
              "      <td>68.136</td>\n",
              "    </tr>\n",
              "  </tbody>\n",
              "</table>\n",
              "</div>"
            ],
            "text/plain": [
              "        Country       from     Age    Sex  Year  obs_value\n",
              "9   Afghanistan   National     15+   Male  2005     78.820\n",
              "10  Afghanistan      Rural     15+   Male  2005     79.952\n",
              "11  Afghanistan      Urban     15+   Male  2005     76.366\n",
              "12  Afghanistan   National   15-24   Male  2005     64.512\n",
              "13  Afghanistan      Rural   15-24   Male  2005     68.136"
            ]
          },
          "metadata": {
            "tags": []
          },
          "execution_count": 77
        }
      ]
    },
    {
      "cell_type": "code",
      "metadata": {
        "id": "rq8XNABaWL2W",
        "colab_type": "code",
        "colab": {
          "base_uri": "https://localhost:8080/",
          "height": 136
        },
        "outputId": "43d32cc2-884d-4ec7-bdf5-6bde1b2dd861"
      },
      "source": [
        "data.dtypes"
      ],
      "execution_count": 78,
      "outputs": [
        {
          "output_type": "execute_result",
          "data": {
            "text/plain": [
              "Country       object\n",
              "from          object\n",
              "Age           object\n",
              "Sex           object\n",
              "Year           int64\n",
              "obs_value    float64\n",
              "dtype: object"
            ]
          },
          "metadata": {
            "tags": []
          },
          "execution_count": 78
        }
      ]
    },
    {
      "cell_type": "code",
      "metadata": {
        "id": "SVUP4Y0kXiGh",
        "colab_type": "code",
        "colab": {
          "base_uri": "https://localhost:8080/",
          "height": 296
        },
        "outputId": "e3bd36c0-9833-445c-f0ca-1534a2ccebef"
      },
      "source": [
        "sns.countplot(x='Sex',hue='Age',data=data)"
      ],
      "execution_count": 79,
      "outputs": [
        {
          "output_type": "execute_result",
          "data": {
            "text/plain": [
              "<matplotlib.axes._subplots.AxesSubplot at 0x7f3fbf3a45c0>"
            ]
          },
          "metadata": {
            "tags": []
          },
          "execution_count": 79
        },
        {
          "output_type": "display_data",
          "data": {
            "image/png": "[encoded data removed]",
            "text/plain": [
              "<Figure size 432x288 with 1 Axes>"
            ]
          },
          "metadata": {
            "tags": [],
            "needs_background": "light"
          }
        }
      ]
    },
    {
      "cell_type": "code",
      "metadata": {
        "id": "nX-kWqbRXuC2",
        "colab_type": "code",
        "colab": {}
      },
      "source": [
        "#taking only for year 2020 \n",
        "data = data[data['Year'] == 2020]"
      ],
      "execution_count": 0,
      "outputs": []
    },
    {
      "cell_type": "code",
      "metadata": {
        "id": "WQ1fl9EeX39t",
        "colab_type": "code",
        "colab": {
          "base_uri": "https://localhost:8080/",
          "height": 204
        },
        "outputId": "f93dad61-c176-4b4f-b4c8-7b492e96078a"
      },
      "source": [
        "data.head()"
      ],
      "execution_count": 81,
      "outputs": [
        {
          "output_type": "execute_result",
          "data": {
            "text/html": [
              "<div>\n",
              "<style scoped>\n",
              "    .dataframe tbody tr th:only-of-type {\n",
              "        vertical-align: middle;\n",
              "    }\n",
              "\n",
              "    .dataframe tbody tr th {\n",
              "        vertical-align: top;\n",
              "    }\n",
              "\n",
              "    .dataframe thead th {\n",
              "        text-align: right;\n",
              "    }\n",
              "</style>\n",
              "<table border=\"1\" class=\"dataframe\">\n",
              "  <thead>\n",
              "    <tr style=\"text-align: right;\">\n",
              "      <th></th>\n",
              "      <th>Country</th>\n",
              "      <th>from</th>\n",
              "      <th>Age</th>\n",
              "      <th>Sex</th>\n",
              "      <th>Year</th>\n",
              "      <th>obs_value</th>\n",
              "    </tr>\n",
              "  </thead>\n",
              "  <tbody>\n",
              "    <tr>\n",
              "      <th>414</th>\n",
              "      <td>Afghanistan</td>\n",
              "      <td>National</td>\n",
              "      <td>15+</td>\n",
              "      <td>Male</td>\n",
              "      <td>2020</td>\n",
              "      <td>74.614</td>\n",
              "    </tr>\n",
              "    <tr>\n",
              "      <th>415</th>\n",
              "      <td>Afghanistan</td>\n",
              "      <td>Rural</td>\n",
              "      <td>15+</td>\n",
              "      <td>Male</td>\n",
              "      <td>2020</td>\n",
              "      <td>75.373</td>\n",
              "    </tr>\n",
              "    <tr>\n",
              "      <th>416</th>\n",
              "      <td>Afghanistan</td>\n",
              "      <td>Urban</td>\n",
              "      <td>15+</td>\n",
              "      <td>Male</td>\n",
              "      <td>2020</td>\n",
              "      <td>72.582</td>\n",
              "    </tr>\n",
              "    <tr>\n",
              "      <th>417</th>\n",
              "      <td>Afghanistan</td>\n",
              "      <td>National</td>\n",
              "      <td>15-24</td>\n",
              "      <td>Male</td>\n",
              "      <td>2020</td>\n",
              "      <td>58.908</td>\n",
              "    </tr>\n",
              "    <tr>\n",
              "      <th>418</th>\n",
              "      <td>Afghanistan</td>\n",
              "      <td>Rural</td>\n",
              "      <td>15-24</td>\n",
              "      <td>Male</td>\n",
              "      <td>2020</td>\n",
              "      <td>61.788</td>\n",
              "    </tr>\n",
              "  </tbody>\n",
              "</table>\n",
              "</div>"
            ],
            "text/plain": [
              "         Country       from     Age    Sex  Year  obs_value\n",
              "414  Afghanistan   National     15+   Male  2020     74.614\n",
              "415  Afghanistan      Rural     15+   Male  2020     75.373\n",
              "416  Afghanistan      Urban     15+   Male  2020     72.582\n",
              "417  Afghanistan   National   15-24   Male  2020     58.908\n",
              "418  Afghanistan      Rural   15-24   Male  2020     61.788"
            ]
          },
          "metadata": {
            "tags": []
          },
          "execution_count": 81
        }
      ]
    },
    {
      "cell_type": "code",
      "metadata": {
        "id": "VV5ksDr_X6gU",
        "colab_type": "code",
        "colab": {
          "base_uri": "https://localhost:8080/",
          "height": 34
        },
        "outputId": "c9b7b999-3572-49dd-a7fb-9f66873ab3a6"
      },
      "source": [
        "data.shape"
      ],
      "execution_count": 82,
      "outputs": [
        {
          "output_type": "execute_result",
          "data": {
            "text/plain": [
              "(4968, 6)"
            ]
          },
          "metadata": {
            "tags": []
          },
          "execution_count": 82
        }
      ]
    },
    {
      "cell_type": "code",
      "metadata": {
        "id": "NtWklFVKX_8d",
        "colab_type": "code",
        "colab": {
          "base_uri": "https://localhost:8080/",
          "height": 296
        },
        "outputId": "7e661ac2-0d9e-4917-ed77-3db80425c13c"
      },
      "source": [
        "sns.countplot(x='Sex',hue='Age',data=data)"
      ],
      "execution_count": 83,
      "outputs": [
        {
          "output_type": "execute_result",
          "data": {
            "text/plain": [
              "<matplotlib.axes._subplots.AxesSubplot at 0x7f3fbf3a6780>"
            ]
          },
          "metadata": {
            "tags": []
          },
          "execution_count": 83
        },
        {
          "output_type": "display_data",
          "data": {
            "image/png": "[encoded data removed]",
            "text/plain": [
              "<Figure size 432x288 with 1 Axes>"
            ]
          },
          "metadata": {
            "tags": [],
            "needs_background": "light"
          }
        }
      ]
    },
    {
      "cell_type": "code",
      "metadata": {
        "id": "068GwhOyYEuY",
        "colab_type": "code",
        "colab": {
          "base_uri": "https://localhost:8080/",
          "height": 296
        },
        "outputId": "dab38a8a-0fea-403c-dcd1-112859c97860"
      },
      "source": [
        "sns.countplot(x='from',hue='Age',data=data)"
      ],
      "execution_count": 84,
      "outputs": [
        {
          "output_type": "execute_result",
          "data": {
            "text/plain": [
              "<matplotlib.axes._subplots.AxesSubplot at 0x7f3fbf43c470>"
            ]
          },
          "metadata": {
            "tags": []
          },
          "execution_count": 84
        },
        {
          "output_type": "display_data",
          "data": {
            "image/png": "[encoded data removed]",
            "text/plain": [
              "<Figure size 432x288 with 1 Axes>"
            ]
          },
          "metadata": {
            "tags": [],
            "needs_background": "light"
          }
        }
      ]
    },
    {
      "cell_type": "code",
      "metadata": {
        "id": "XgoZLKV0E_-D",
        "colab_type": "code",
        "colab": {}
      },
      "source": [
        "unique_countries = data.groupby('Country')['from'].nunique()"
      ],
      "execution_count": 0,
      "outputs": []
    },
    {
      "cell_type": "code",
      "metadata": {
        "id": "eqDk-1_RVt-A",
        "colab_type": "code",
        "colab": {
          "base_uri": "https://localhost:8080/",
          "height": 238
        },
        "outputId": "1e39d6ac-ef63-4995-8398-891172679609"
      },
      "source": [
        "unique_countries"
      ],
      "execution_count": 86,
      "outputs": [
        {
          "output_type": "execute_result",
          "data": {
            "text/plain": [
              "Country\n",
              "ASEAN                          3\n",
              "Afghanistan                    3\n",
              "Africa                         3\n",
              "Africa: Low income             3\n",
              "Africa: Lower-middle income    3\n",
              "                              ..\n",
              "World: Lower-middle income     3\n",
              "World: Upper-middle income     3\n",
              "Yemen                          3\n",
              "Zambia                         3\n",
              "Zimbabwe                       3\n",
              "Name: from, Length: 276, dtype: int64"
            ]
          },
          "metadata": {
            "tags": []
          },
          "execution_count": 86
        }
      ]
    },
    {
      "cell_type": "code",
      "metadata": {
        "id": "PAlDBBLOG2gu",
        "colab_type": "code",
        "outputId": "fd3721ff-1ba4-4e12-9327-a60d746bd9a2",
        "colab": {
          "base_uri": "https://localhost:8080/",
          "height": 326
        }
      },
      "source": [
        "data.groupby(['Sex'])['obs_value'].count().plot(kind='bar')"
      ],
      "execution_count": 87,
      "outputs": [
        {
          "output_type": "execute_result",
          "data": {
            "text/plain": [
              "<matplotlib.axes._subplots.AxesSubplot at 0x7f3fbf40af60>"
            ]
          },
          "metadata": {
            "tags": []
          },
          "execution_count": 87
        },
        {
          "output_type": "display_data",
          "data": {
            "image/png": "[encoded data removed]",
            "text/plain": [
              "<Figure size 432x288 with 1 Axes>"
            ]
          },
          "metadata": {
            "tags": [],
            "needs_background": "light"
          }
        }
      ]
    },
    {
      "cell_type": "code",
      "metadata": {
        "id": "Si7xxVrjJ0jH",
        "colab_type": "code",
        "outputId": "ec84d233-1d70-453e-fcfd-282c507a1b70",
        "colab": {
          "base_uri": "https://localhost:8080/",
          "height": 102
        }
      },
      "source": [
        "data.groupby('Age')['obs_value'].count() "
      ],
      "execution_count": 88,
      "outputs": [
        {
          "output_type": "execute_result",
          "data": {
            "text/plain": [
              "Age\n",
              " 15+      1656\n",
              " 15-24    1656\n",
              " 25+      1656\n",
              "Name: obs_value, dtype: int64"
            ]
          },
          "metadata": {
            "tags": []
          },
          "execution_count": 88
        }
      ]
    },
    {
      "cell_type": "code",
      "metadata": {
        "id": "9Z83Upc5LrGG",
        "colab_type": "code",
        "colab": {}
      },
      "source": [
        ""
      ],
      "execution_count": 0,
      "outputs": []
    }
  ]
}