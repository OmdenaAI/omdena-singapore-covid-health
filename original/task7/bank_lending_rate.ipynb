{
  "nbformat": 4,
  "nbformat_minor": 0,
  "metadata": {
    "colab": {
      "name": "bank_lending_rate.ipynb",
      "provenance": []
    },
    "kernelspec": {
      "name": "python3",
      "display_name": "Python 3"
    }
  },
  "cells": [
    {
      "cell_type": "code",
      "metadata": {
        "id": "epRfUJpo0DH9",
        "colab_type": "code",
        "outputId": "df5fa49a-f543-4cff-e41f-46d504c3bfb8",
        "colab": {
          "base_uri": "https://localhost:8080/",
          "height": 34
        }
      },
      "source": [
        "from google.colab import drive\n",
        "\n",
        "drive.mount('/content/gdrive')"
      ],
      "execution_count": 0,
      "outputs": [
        {
          "output_type": "stream",
          "text": [
            "Drive already mounted at /content/gdrive; to attempt to forcibly remount, call drive.mount(\"/content/gdrive\", force_remount=True).\n"
          ],
          "name": "stdout"
        }
      ]
    },
    {
      "cell_type": "code",
      "metadata": {
        "id": "RRFCZwWL0KYU",
        "colab_type": "code",
        "outputId": "c0fd0d2b-0228-488f-b9dc-32026bbbb749",
        "colab": {
          "base_uri": "https://localhost:8080/",
          "height": 153
        }
      },
      "source": [
        "!ls \"/content/gdrive/My Drive/Omdena Pandemic/dataset\""
      ],
      "execution_count": 0,
      "outputs": [
        {
          "output_type": "stream",
          "text": [
            " bank-lending-rate-forecast.csv         ilostat_1.csv\n",
            " consumer_price_index.csv\t        ilostat_2020_min_wages.csv\n",
            "'COVID19EconomicImpact 10Mar2020.csv'   ilostat_2.csv\n",
            " CPI_monthly.csv\t\t        ilostat_sex_rural.csv\n",
            " discouraged_job_seekers_monthly.csv    ilostat_tatest_area.csv\n",
            " excahnge_rates.csv\t\t        minimum_wages_te.csv\n",
            " exchange.csv\t\t\t       'minimum_wages_trading economics.gsheet'\n",
            " iHDI_cleaned.csv\t\t        OXFORD_policies_updated.csv\n"
          ],
          "name": "stdout"
        }
      ]
    },
    {
      "cell_type": "code",
      "metadata": {
        "id": "XuZx2OFl0MCk",
        "colab_type": "code",
        "colab": {}
      },
      "source": [
        "bank_lend_drive = \"/content/gdrive/My Drive/Omdena Pandemic/dataset/bank-lending-rate-forecast.csv\""
      ],
      "execution_count": 0,
      "outputs": []
    },
    {
      "cell_type": "code",
      "metadata": {
        "id": "q5-qJAmGpgLb",
        "colab_type": "code",
        "colab": {}
      },
      "source": [
        "policies_drive = \"/content/gdrive/My Drive/Omdena Pandemic/dataset/OXFORD_policies_updated.csv\""
      ],
      "execution_count": 0,
      "outputs": []
    },
    {
      "cell_type": "code",
      "metadata": {
        "id": "zMTP487R0PGn",
        "colab_type": "code",
        "colab": {}
      },
      "source": [
        "import pandas as pd\n",
        "import numpy as np\n",
        "import matplotlib.pyplot as plt\n",
        "import seaborn as sns\n",
        "\n",
        "%matplotlib inline"
      ],
      "execution_count": 0,
      "outputs": []
    },
    {
      "cell_type": "code",
      "metadata": {
        "id": "EfwzTJ550Q_a",
        "colab_type": "code",
        "colab": {}
      },
      "source": [
        "data= pd.read_csv(bank_lend_drive)"
      ],
      "execution_count": 0,
      "outputs": []
    },
    {
      "cell_type": "code",
      "metadata": {
        "id": "0JxYU26K0Si3",
        "colab_type": "code",
        "outputId": "e6c63bd1-6826-4cba-a50c-8cf3af92d1b7",
        "colab": {
          "base_uri": "https://localhost:8080/",
          "height": 204
        }
      },
      "source": [
        "data.head()"
      ],
      "execution_count": 0,
      "outputs": [
        {
          "output_type": "execute_result",
          "data": {
            "text/html": [
              "<div>\n",
              "<style scoped>\n",
              "    .dataframe tbody tr th:only-of-type {\n",
              "        vertical-align: middle;\n",
              "    }\n",
              "\n",
              "    .dataframe tbody tr th {\n",
              "        vertical-align: top;\n",
              "    }\n",
              "\n",
              "    .dataframe thead th {\n",
              "        text-align: right;\n",
              "    }\n",
              "</style>\n",
              "<table border=\"1\" class=\"dataframe\">\n",
              "  <thead>\n",
              "    <tr style=\"text-align: right;\">\n",
              "      <th></th>\n",
              "      <th>Country</th>\n",
              "      <th>Last</th>\n",
              "      <th>timestamp</th>\n",
              "      <th>Q2/20</th>\n",
              "      <th>Q3/20</th>\n",
              "      <th>Q4/20</th>\n",
              "      <th>Q1/21</th>\n",
              "    </tr>\n",
              "  </thead>\n",
              "  <tbody>\n",
              "    <tr>\n",
              "      <th>0</th>\n",
              "      <td>Albania</td>\n",
              "      <td>4.39</td>\n",
              "      <td>Dec/19</td>\n",
              "      <td>4.39</td>\n",
              "      <td>4.39</td>\n",
              "      <td>4.39</td>\n",
              "      <td>4.39</td>\n",
              "    </tr>\n",
              "    <tr>\n",
              "      <th>1</th>\n",
              "      <td>Angola</td>\n",
              "      <td>19.76</td>\n",
              "      <td>Nov/19</td>\n",
              "      <td>19.76</td>\n",
              "      <td>19.76</td>\n",
              "      <td>19.76</td>\n",
              "      <td>19.76</td>\n",
              "    </tr>\n",
              "    <tr>\n",
              "      <th>2</th>\n",
              "      <td>Australia</td>\n",
              "      <td>7.92</td>\n",
              "      <td>Feb/20</td>\n",
              "      <td>7.92</td>\n",
              "      <td>7.92</td>\n",
              "      <td>7.92</td>\n",
              "      <td>7.92</td>\n",
              "    </tr>\n",
              "    <tr>\n",
              "      <th>3</th>\n",
              "      <td>Austria</td>\n",
              "      <td>1.71</td>\n",
              "      <td>Feb/20</td>\n",
              "      <td>1.67</td>\n",
              "      <td>1.67</td>\n",
              "      <td>1.67</td>\n",
              "      <td>1.67</td>\n",
              "    </tr>\n",
              "    <tr>\n",
              "      <th>4</th>\n",
              "      <td>Bahamas</td>\n",
              "      <td>10.43</td>\n",
              "      <td>Jan/20</td>\n",
              "      <td>9.93</td>\n",
              "      <td>9.93</td>\n",
              "      <td>9.93</td>\n",
              "      <td>9.93</td>\n",
              "    </tr>\n",
              "  </tbody>\n",
              "</table>\n",
              "</div>"
            ],
            "text/plain": [
              "     Country   Last timestamp  Q2/20  Q3/20  Q4/20  Q1/21\n",
              "0    Albania   4.39    Dec/19   4.39   4.39   4.39   4.39\n",
              "1     Angola  19.76    Nov/19  19.76  19.76  19.76  19.76\n",
              "2  Australia   7.92    Feb/20   7.92   7.92   7.92   7.92\n",
              "3    Austria   1.71    Feb/20   1.67   1.67   1.67   1.67\n",
              "4    Bahamas  10.43    Jan/20   9.93   9.93   9.93   9.93"
            ]
          },
          "metadata": {
            "tags": []
          },
          "execution_count": 233
        }
      ]
    },
    {
      "cell_type": "code",
      "metadata": {
        "id": "kSj_Uhp7EECT",
        "colab_type": "code",
        "outputId": "143f9958-28e6-41d8-e51c-7bfaf0936cf8",
        "colab": {
          "base_uri": "https://localhost:8080/",
          "height": 34
        }
      },
      "source": [
        "data.shape"
      ],
      "execution_count": 0,
      "outputs": [
        {
          "output_type": "execute_result",
          "data": {
            "text/plain": [
              "(56, 7)"
            ]
          },
          "metadata": {
            "tags": []
          },
          "execution_count": 234
        }
      ]
    },
    {
      "cell_type": "code",
      "metadata": {
        "id": "iXvMlZdlEGHd",
        "colab_type": "code",
        "outputId": "bce982b3-509d-49e4-f465-40fd58010602",
        "colab": {
          "base_uri": "https://localhost:8080/",
          "height": 153
        }
      },
      "source": [
        "data.dtypes"
      ],
      "execution_count": 0,
      "outputs": [
        {
          "output_type": "execute_result",
          "data": {
            "text/plain": [
              "Country       object\n",
              "Last         float64\n",
              "timestamp     object\n",
              "Q2/20        float64\n",
              "Q3/20        float64\n",
              "Q4/20        float64\n",
              "Q1/21        float64\n",
              "dtype: object"
            ]
          },
          "metadata": {
            "tags": []
          },
          "execution_count": 235
        }
      ]
    },
    {
      "cell_type": "code",
      "metadata": {
        "id": "Ruxj817MEJPQ",
        "colab_type": "code",
        "outputId": "7401c5c2-dd48-4c3f-dc3c-b30f799d3924",
        "colab": {
          "base_uri": "https://localhost:8080/",
          "height": 153
        }
      },
      "source": [
        "data.isnull().sum()"
      ],
      "execution_count": 0,
      "outputs": [
        {
          "output_type": "execute_result",
          "data": {
            "text/plain": [
              "Country      0\n",
              "Last         0\n",
              "timestamp    0\n",
              "Q2/20        0\n",
              "Q3/20        0\n",
              "Q4/20        0\n",
              "Q1/21        0\n",
              "dtype: int64"
            ]
          },
          "metadata": {
            "tags": []
          },
          "execution_count": 236
        }
      ]
    },
    {
      "cell_type": "code",
      "metadata": {
        "id": "MAwVUMQyp95A",
        "colab_type": "code",
        "colab": {}
      },
      "source": [
        "data[['lending_rate_month','lending_rate_year']] = data['timestamp'].str.split('/',expand=True)"
      ],
      "execution_count": 0,
      "outputs": []
    },
    {
      "cell_type": "code",
      "metadata": {
        "id": "GMHoL_uyx4Ux",
        "colab_type": "code",
        "outputId": "b8c8f373-ff8d-43f8-d637-f2efef9cb4b1",
        "colab": {
          "base_uri": "https://localhost:8080/",
          "height": 204
        }
      },
      "source": [
        "data.head()"
      ],
      "execution_count": 0,
      "outputs": [
        {
          "output_type": "execute_result",
          "data": {
            "text/html": [
              "<div>\n",
              "<style scoped>\n",
              "    .dataframe tbody tr th:only-of-type {\n",
              "        vertical-align: middle;\n",
              "    }\n",
              "\n",
              "    .dataframe tbody tr th {\n",
              "        vertical-align: top;\n",
              "    }\n",
              "\n",
              "    .dataframe thead th {\n",
              "        text-align: right;\n",
              "    }\n",
              "</style>\n",
              "<table border=\"1\" class=\"dataframe\">\n",
              "  <thead>\n",
              "    <tr style=\"text-align: right;\">\n",
              "      <th></th>\n",
              "      <th>Country</th>\n",
              "      <th>Last</th>\n",
              "      <th>timestamp</th>\n",
              "      <th>Q2/20</th>\n",
              "      <th>Q3/20</th>\n",
              "      <th>Q4/20</th>\n",
              "      <th>Q1/21</th>\n",
              "      <th>lending_rate_month</th>\n",
              "      <th>lending_rate_year</th>\n",
              "    </tr>\n",
              "  </thead>\n",
              "  <tbody>\n",
              "    <tr>\n",
              "      <th>0</th>\n",
              "      <td>Albania</td>\n",
              "      <td>4.39</td>\n",
              "      <td>Dec/19</td>\n",
              "      <td>4.39</td>\n",
              "      <td>4.39</td>\n",
              "      <td>4.39</td>\n",
              "      <td>4.39</td>\n",
              "      <td>Dec</td>\n",
              "      <td>19</td>\n",
              "    </tr>\n",
              "    <tr>\n",
              "      <th>1</th>\n",
              "      <td>Angola</td>\n",
              "      <td>19.76</td>\n",
              "      <td>Nov/19</td>\n",
              "      <td>19.76</td>\n",
              "      <td>19.76</td>\n",
              "      <td>19.76</td>\n",
              "      <td>19.76</td>\n",
              "      <td>Nov</td>\n",
              "      <td>19</td>\n",
              "    </tr>\n",
              "    <tr>\n",
              "      <th>2</th>\n",
              "      <td>Australia</td>\n",
              "      <td>7.92</td>\n",
              "      <td>Feb/20</td>\n",
              "      <td>7.92</td>\n",
              "      <td>7.92</td>\n",
              "      <td>7.92</td>\n",
              "      <td>7.92</td>\n",
              "      <td>Feb</td>\n",
              "      <td>20</td>\n",
              "    </tr>\n",
              "    <tr>\n",
              "      <th>3</th>\n",
              "      <td>Austria</td>\n",
              "      <td>1.71</td>\n",
              "      <td>Feb/20</td>\n",
              "      <td>1.67</td>\n",
              "      <td>1.67</td>\n",
              "      <td>1.67</td>\n",
              "      <td>1.67</td>\n",
              "      <td>Feb</td>\n",
              "      <td>20</td>\n",
              "    </tr>\n",
              "    <tr>\n",
              "      <th>4</th>\n",
              "      <td>Bahamas</td>\n",
              "      <td>10.43</td>\n",
              "      <td>Jan/20</td>\n",
              "      <td>9.93</td>\n",
              "      <td>9.93</td>\n",
              "      <td>9.93</td>\n",
              "      <td>9.93</td>\n",
              "      <td>Jan</td>\n",
              "      <td>20</td>\n",
              "    </tr>\n",
              "  </tbody>\n",
              "</table>\n",
              "</div>"
            ],
            "text/plain": [
              "     Country   Last timestamp  ...  Q1/21  lending_rate_month  lending_rate_year\n",
              "0    Albania   4.39    Dec/19  ...   4.39                 Dec                 19\n",
              "1     Angola  19.76    Nov/19  ...  19.76                 Nov                 19\n",
              "2  Australia   7.92    Feb/20  ...   7.92                 Feb                 20\n",
              "3    Austria   1.71    Feb/20  ...   1.67                 Feb                 20\n",
              "4    Bahamas  10.43    Jan/20  ...   9.93                 Jan                 20\n",
              "\n",
              "[5 rows x 9 columns]"
            ]
          },
          "metadata": {
            "tags": []
          },
          "execution_count": 238
        }
      ]
    },
    {
      "cell_type": "code",
      "metadata": {
        "id": "Nw2IWyBlEOAn",
        "colab_type": "code",
        "colab": {}
      },
      "source": [
        "data = data.drop(['timestamp','Q3/20','Q4/20','Q1/21'],axis=1)"
      ],
      "execution_count": 0,
      "outputs": []
    },
    {
      "cell_type": "code",
      "metadata": {
        "id": "iGhVUxx_4NDA",
        "colab_type": "code",
        "colab": {}
      },
      "source": [
        "data.rename(columns={'Last':'Lending Rate'},inplace=True)"
      ],
      "execution_count": 0,
      "outputs": []
    },
    {
      "cell_type": "code",
      "metadata": {
        "id": "VUp4ylKJqk-k",
        "colab_type": "code",
        "colab": {}
      },
      "source": [
        "data.lending_rate_year = data.lending_rate_year.apply(lambda x: '2019' if '19' in x else '2020')"
      ],
      "execution_count": 0,
      "outputs": []
    },
    {
      "cell_type": "code",
      "metadata": {
        "id": "txztUcf84fvV",
        "colab_type": "code",
        "outputId": "bdd9a564-36cd-4886-a08f-5416e5fa262c",
        "colab": {
          "base_uri": "https://localhost:8080/",
          "height": 204
        }
      },
      "source": [
        "data.head()"
      ],
      "execution_count": 0,
      "outputs": [
        {
          "output_type": "execute_result",
          "data": {
            "text/html": [
              "<div>\n",
              "<style scoped>\n",
              "    .dataframe tbody tr th:only-of-type {\n",
              "        vertical-align: middle;\n",
              "    }\n",
              "\n",
              "    .dataframe tbody tr th {\n",
              "        vertical-align: top;\n",
              "    }\n",
              "\n",
              "    .dataframe thead th {\n",
              "        text-align: right;\n",
              "    }\n",
              "</style>\n",
              "<table border=\"1\" class=\"dataframe\">\n",
              "  <thead>\n",
              "    <tr style=\"text-align: right;\">\n",
              "      <th></th>\n",
              "      <th>Country</th>\n",
              "      <th>Lending Rate</th>\n",
              "      <th>Q2/20</th>\n",
              "      <th>lending_rate_month</th>\n",
              "      <th>lending_rate_year</th>\n",
              "    </tr>\n",
              "  </thead>\n",
              "  <tbody>\n",
              "    <tr>\n",
              "      <th>0</th>\n",
              "      <td>Albania</td>\n",
              "      <td>4.39</td>\n",
              "      <td>4.39</td>\n",
              "      <td>Dec</td>\n",
              "      <td>2019</td>\n",
              "    </tr>\n",
              "    <tr>\n",
              "      <th>1</th>\n",
              "      <td>Angola</td>\n",
              "      <td>19.76</td>\n",
              "      <td>19.76</td>\n",
              "      <td>Nov</td>\n",
              "      <td>2019</td>\n",
              "    </tr>\n",
              "    <tr>\n",
              "      <th>2</th>\n",
              "      <td>Australia</td>\n",
              "      <td>7.92</td>\n",
              "      <td>7.92</td>\n",
              "      <td>Feb</td>\n",
              "      <td>2020</td>\n",
              "    </tr>\n",
              "    <tr>\n",
              "      <th>3</th>\n",
              "      <td>Austria</td>\n",
              "      <td>1.71</td>\n",
              "      <td>1.67</td>\n",
              "      <td>Feb</td>\n",
              "      <td>2020</td>\n",
              "    </tr>\n",
              "    <tr>\n",
              "      <th>4</th>\n",
              "      <td>Bahamas</td>\n",
              "      <td>10.43</td>\n",
              "      <td>9.93</td>\n",
              "      <td>Jan</td>\n",
              "      <td>2020</td>\n",
              "    </tr>\n",
              "  </tbody>\n",
              "</table>\n",
              "</div>"
            ],
            "text/plain": [
              "     Country  Lending Rate  Q2/20 lending_rate_month lending_rate_year\n",
              "0    Albania          4.39   4.39                Dec              2019\n",
              "1     Angola         19.76  19.76                Nov              2019\n",
              "2  Australia          7.92   7.92                Feb              2020\n",
              "3    Austria          1.71   1.67                Feb              2020\n",
              "4    Bahamas         10.43   9.93                Jan              2020"
            ]
          },
          "metadata": {
            "tags": []
          },
          "execution_count": 242
        }
      ]
    },
    {
      "cell_type": "code",
      "metadata": {
        "id": "xxf7p3s4yI0X",
        "colab_type": "code",
        "outputId": "bcd6c8fc-9f76-43f6-e2d7-483c98ea76cd",
        "colab": {
          "base_uri": "https://localhost:8080/",
          "height": 297
        }
      },
      "source": [
        "data.groupby(['lending_rate_year','lending_rate_month']).count()"
      ],
      "execution_count": 0,
      "outputs": [
        {
          "output_type": "execute_result",
          "data": {
            "text/html": [
              "<div>\n",
              "<style scoped>\n",
              "    .dataframe tbody tr th:only-of-type {\n",
              "        vertical-align: middle;\n",
              "    }\n",
              "\n",
              "    .dataframe tbody tr th {\n",
              "        vertical-align: top;\n",
              "    }\n",
              "\n",
              "    .dataframe thead th {\n",
              "        text-align: right;\n",
              "    }\n",
              "</style>\n",
              "<table border=\"1\" class=\"dataframe\">\n",
              "  <thead>\n",
              "    <tr style=\"text-align: right;\">\n",
              "      <th></th>\n",
              "      <th></th>\n",
              "      <th>Country</th>\n",
              "      <th>Lending Rate</th>\n",
              "      <th>Q2/20</th>\n",
              "    </tr>\n",
              "    <tr>\n",
              "      <th>lending_rate_year</th>\n",
              "      <th>lending_rate_month</th>\n",
              "      <th></th>\n",
              "      <th></th>\n",
              "      <th></th>\n",
              "    </tr>\n",
              "  </thead>\n",
              "  <tbody>\n",
              "    <tr>\n",
              "      <th rowspan=\"3\" valign=\"top\">2019</th>\n",
              "      <th>Dec</th>\n",
              "      <td>5</td>\n",
              "      <td>5</td>\n",
              "      <td>5</td>\n",
              "    </tr>\n",
              "    <tr>\n",
              "      <th>Nov</th>\n",
              "      <td>5</td>\n",
              "      <td>5</td>\n",
              "      <td>5</td>\n",
              "    </tr>\n",
              "    <tr>\n",
              "      <th>Sep</th>\n",
              "      <td>3</td>\n",
              "      <td>3</td>\n",
              "      <td>3</td>\n",
              "    </tr>\n",
              "    <tr>\n",
              "      <th rowspan=\"4\" valign=\"top\">2020</th>\n",
              "      <th>Apr</th>\n",
              "      <td>5</td>\n",
              "      <td>5</td>\n",
              "      <td>5</td>\n",
              "    </tr>\n",
              "    <tr>\n",
              "      <th>Feb</th>\n",
              "      <td>27</td>\n",
              "      <td>27</td>\n",
              "      <td>27</td>\n",
              "    </tr>\n",
              "    <tr>\n",
              "      <th>Jan</th>\n",
              "      <td>3</td>\n",
              "      <td>3</td>\n",
              "      <td>3</td>\n",
              "    </tr>\n",
              "    <tr>\n",
              "      <th>Mar</th>\n",
              "      <td>8</td>\n",
              "      <td>8</td>\n",
              "      <td>8</td>\n",
              "    </tr>\n",
              "  </tbody>\n",
              "</table>\n",
              "</div>"
            ],
            "text/plain": [
              "                                      Country  Lending Rate  Q2/20\n",
              "lending_rate_year lending_rate_month                              \n",
              "2019              Dec                       5             5      5\n",
              "                  Nov                       5             5      5\n",
              "                  Sep                       3             3      3\n",
              "2020              Apr                       5             5      5\n",
              "                  Feb                      27            27     27\n",
              "                  Jan                       3             3      3\n",
              "                  Mar                       8             8      8"
            ]
          },
          "metadata": {
            "tags": []
          },
          "execution_count": 243
        }
      ]
    },
    {
      "cell_type": "code",
      "metadata": {
        "id": "apqpko5kyW_c",
        "colab_type": "code",
        "outputId": "372e4f4f-defe-40d2-8c35-2abe2c0e5ef8",
        "colab": {
          "base_uri": "https://localhost:8080/",
          "height": 986
        }
      },
      "source": [
        "data['Country'].value_counts()"
      ],
      "execution_count": 0,
      "outputs": [
        {
          "output_type": "execute_result",
          "data": {
            "text/plain": [
              "Slovakia          1\n",
              "Ireland           1\n",
              "Israel            1\n",
              "Singapore         1\n",
              "Kuwait            1\n",
              "Japan             1\n",
              "Netherlands       1\n",
              "Bahrain           1\n",
              "Russia            1\n",
              "Belgium           1\n",
              "Kenya             1\n",
              "Australia         1\n",
              "Tanzania          1\n",
              "Ukraine           1\n",
              "Latvia            1\n",
              "Chile             1\n",
              "Sri Lanka         1\n",
              "Germany           1\n",
              "Taiwan            1\n",
              "Liberia           1\n",
              "Euro Area         1\n",
              "Luxembourg        1\n",
              "Angola            1\n",
              "Spain             1\n",
              "Egypt             1\n",
              "Zimbabwe          1\n",
              "New Zealand       1\n",
              "Philippines       1\n",
              "South Korea       1\n",
              "United States     1\n",
              "Estonia           1\n",
              "India             1\n",
              "Croatia           1\n",
              "France            1\n",
              "United Kingdom    1\n",
              "Slovenia          1\n",
              "South Africa      1\n",
              "Italy             1\n",
              "Bahamas           1\n",
              "Albania           1\n",
              "Canada            1\n",
              "Austria           1\n",
              "Botswana          1\n",
              "Brazil            1\n",
              "Mauritius         1\n",
              "Bolivia           1\n",
              "Thailand          1\n",
              "Greece            1\n",
              "Malta             1\n",
              "Hong Kong         1\n",
              "Finland           1\n",
              "Malaysia          1\n",
              "China             1\n",
              "Peru              1\n",
              "Portugal          1\n",
              "Hungary           1\n",
              "Name: Country, dtype: int64"
            ]
          },
          "metadata": {
            "tags": []
          },
          "execution_count": 244
        }
      ]
    },
    {
      "cell_type": "code",
      "metadata": {
        "id": "wLyVmWYzyfQI",
        "colab_type": "code",
        "colab": {}
      },
      "source": [
        "#slicing data for Australia, Denmark, India, Japan, South Korea, USA\n",
        "data_coun= data[(data['Country'] == 'India') | (data['Country'] =='Australia') | (data['Country'] == 'Japan') | (data['Country'] == 'Sount Korea') \n",
        " | (data['Country'] == 'United States')].reset_index()"
      ],
      "execution_count": 0,
      "outputs": []
    },
    {
      "cell_type": "code",
      "metadata": {
        "id": "DPgnrPbK-ozr",
        "colab_type": "code",
        "outputId": "ba13050a-dfb5-4148-810e-d308d1e5d514",
        "colab": {
          "base_uri": "https://localhost:8080/",
          "height": 173
        }
      },
      "source": [
        "data_coun.head()  #data_coun is the dataframe to use."
      ],
      "execution_count": 0,
      "outputs": [
        {
          "output_type": "execute_result",
          "data": {
            "text/html": [
              "<div>\n",
              "<style scoped>\n",
              "    .dataframe tbody tr th:only-of-type {\n",
              "        vertical-align: middle;\n",
              "    }\n",
              "\n",
              "    .dataframe tbody tr th {\n",
              "        vertical-align: top;\n",
              "    }\n",
              "\n",
              "    .dataframe thead th {\n",
              "        text-align: right;\n",
              "    }\n",
              "</style>\n",
              "<table border=\"1\" class=\"dataframe\">\n",
              "  <thead>\n",
              "    <tr style=\"text-align: right;\">\n",
              "      <th></th>\n",
              "      <th>index</th>\n",
              "      <th>Country</th>\n",
              "      <th>Lending Rate</th>\n",
              "      <th>Q2/20</th>\n",
              "      <th>lending_rate_month</th>\n",
              "      <th>lending_rate_year</th>\n",
              "    </tr>\n",
              "  </thead>\n",
              "  <tbody>\n",
              "    <tr>\n",
              "      <th>0</th>\n",
              "      <td>2</td>\n",
              "      <td>Australia</td>\n",
              "      <td>7.92</td>\n",
              "      <td>7.92</td>\n",
              "      <td>Feb</td>\n",
              "      <td>2020</td>\n",
              "    </tr>\n",
              "    <tr>\n",
              "      <th>1</th>\n",
              "      <td>23</td>\n",
              "      <td>India</td>\n",
              "      <td>9.40</td>\n",
              "      <td>9.25</td>\n",
              "      <td>Apr</td>\n",
              "      <td>2020</td>\n",
              "    </tr>\n",
              "    <tr>\n",
              "      <th>2</th>\n",
              "      <td>27</td>\n",
              "      <td>Japan</td>\n",
              "      <td>0.95</td>\n",
              "      <td>0.95</td>\n",
              "      <td>Feb</td>\n",
              "      <td>2020</td>\n",
              "    </tr>\n",
              "    <tr>\n",
              "      <th>3</th>\n",
              "      <td>54</td>\n",
              "      <td>United States</td>\n",
              "      <td>3.81</td>\n",
              "      <td>3.81</td>\n",
              "      <td>Mar</td>\n",
              "      <td>2020</td>\n",
              "    </tr>\n",
              "  </tbody>\n",
              "</table>\n",
              "</div>"
            ],
            "text/plain": [
              "   index        Country  ...  lending_rate_month  lending_rate_year\n",
              "0      2      Australia  ...                 Feb               2020\n",
              "1     23          India  ...                 Apr               2020\n",
              "2     27          Japan  ...                 Feb               2020\n",
              "3     54  United States  ...                 Mar               2020\n",
              "\n",
              "[4 rows x 6 columns]"
            ]
          },
          "metadata": {
            "tags": []
          },
          "execution_count": 246
        }
      ]
    },
    {
      "cell_type": "code",
      "metadata": {
        "id": "Y8K2pA5NEB3g",
        "colab_type": "code",
        "colab": {}
      },
      "source": [
        "data_1 = pd.read_csv(policies_drive)"
      ],
      "execution_count": 0,
      "outputs": []
    },
    {
      "cell_type": "code",
      "metadata": {
        "id": "9MNohPSGEoZR",
        "colab_type": "code",
        "outputId": "a94216fc-6e56-4c6b-abd5-7fef4fb1ba55",
        "colab": {
          "base_uri": "https://localhost:8080/",
          "height": 275
        }
      },
      "source": [
        "data_1.head()"
      ],
      "execution_count": 0,
      "outputs": [
        {
          "output_type": "execute_result",
          "data": {
            "text/html": [
              "<div>\n",
              "<style scoped>\n",
              "    .dataframe tbody tr th:only-of-type {\n",
              "        vertical-align: middle;\n",
              "    }\n",
              "\n",
              "    .dataframe tbody tr th {\n",
              "        vertical-align: top;\n",
              "    }\n",
              "\n",
              "    .dataframe thead th {\n",
              "        text-align: right;\n",
              "    }\n",
              "</style>\n",
              "<table border=\"1\" class=\"dataframe\">\n",
              "  <thead>\n",
              "    <tr style=\"text-align: right;\">\n",
              "      <th></th>\n",
              "      <th>CountryName</th>\n",
              "      <th>CountryCode</th>\n",
              "      <th>Date</th>\n",
              "      <th>C1_School closing</th>\n",
              "      <th>C1_Flag</th>\n",
              "      <th>C2_Workplace closing</th>\n",
              "      <th>C2_Flag</th>\n",
              "      <th>C3_Cancel public events</th>\n",
              "      <th>C3_Flag</th>\n",
              "      <th>C4_Restrictions on gatherings</th>\n",
              "      <th>C4_Flag</th>\n",
              "      <th>C5_Close public transport</th>\n",
              "      <th>C5_Flag</th>\n",
              "      <th>C6_Stay at home requirements</th>\n",
              "      <th>C6_Flag</th>\n",
              "      <th>C7_Restrictions on internal movement</th>\n",
              "      <th>C7_Flag</th>\n",
              "      <th>C8_International travel controls</th>\n",
              "      <th>E1_Income support</th>\n",
              "      <th>E1_Flag</th>\n",
              "      <th>E2_Debt/contract relief</th>\n",
              "      <th>E3_Fiscal measures</th>\n",
              "      <th>E4_International support</th>\n",
              "      <th>H1_Public information campaigns</th>\n",
              "      <th>H1_Flag</th>\n",
              "      <th>H2_Testing policy</th>\n",
              "      <th>H3_Contact tracing</th>\n",
              "      <th>H4_Emergency investment in healthcare</th>\n",
              "      <th>H5_Investment in vaccines</th>\n",
              "      <th>M1_Wildcard</th>\n",
              "      <th>ConfirmedCases</th>\n",
              "      <th>ConfirmedDeaths</th>\n",
              "      <th>StringencyIndex</th>\n",
              "      <th>StringencyIndexForDisplay</th>\n",
              "      <th>LegacyStringencyIndex</th>\n",
              "      <th>LegacyStringencyIndexForDisplay</th>\n",
              "    </tr>\n",
              "  </thead>\n",
              "  <tbody>\n",
              "    <tr>\n",
              "      <th>0</th>\n",
              "      <td>Aruba</td>\n",
              "      <td>ABW</td>\n",
              "      <td>20200101</td>\n",
              "      <td>0.0</td>\n",
              "      <td>NaN</td>\n",
              "      <td>0.0</td>\n",
              "      <td>NaN</td>\n",
              "      <td>0.0</td>\n",
              "      <td>NaN</td>\n",
              "      <td>0.0</td>\n",
              "      <td>NaN</td>\n",
              "      <td>0.0</td>\n",
              "      <td>NaN</td>\n",
              "      <td>0.0</td>\n",
              "      <td>NaN</td>\n",
              "      <td>0.0</td>\n",
              "      <td>NaN</td>\n",
              "      <td>0.0</td>\n",
              "      <td>0.0</td>\n",
              "      <td>NaN</td>\n",
              "      <td>0.0</td>\n",
              "      <td>0.0</td>\n",
              "      <td>0.0</td>\n",
              "      <td>0.0</td>\n",
              "      <td>NaN</td>\n",
              "      <td>0.0</td>\n",
              "      <td>0.0</td>\n",
              "      <td>0.0</td>\n",
              "      <td>0.0</td>\n",
              "      <td>NaN</td>\n",
              "      <td>NaN</td>\n",
              "      <td>NaN</td>\n",
              "      <td>0.0</td>\n",
              "      <td>0.0</td>\n",
              "      <td>0.0</td>\n",
              "      <td>0.0</td>\n",
              "    </tr>\n",
              "    <tr>\n",
              "      <th>1</th>\n",
              "      <td>Aruba</td>\n",
              "      <td>ABW</td>\n",
              "      <td>20200102</td>\n",
              "      <td>0.0</td>\n",
              "      <td>NaN</td>\n",
              "      <td>0.0</td>\n",
              "      <td>NaN</td>\n",
              "      <td>0.0</td>\n",
              "      <td>NaN</td>\n",
              "      <td>0.0</td>\n",
              "      <td>NaN</td>\n",
              "      <td>0.0</td>\n",
              "      <td>NaN</td>\n",
              "      <td>0.0</td>\n",
              "      <td>NaN</td>\n",
              "      <td>0.0</td>\n",
              "      <td>NaN</td>\n",
              "      <td>0.0</td>\n",
              "      <td>0.0</td>\n",
              "      <td>NaN</td>\n",
              "      <td>0.0</td>\n",
              "      <td>0.0</td>\n",
              "      <td>0.0</td>\n",
              "      <td>0.0</td>\n",
              "      <td>NaN</td>\n",
              "      <td>0.0</td>\n",
              "      <td>0.0</td>\n",
              "      <td>0.0</td>\n",
              "      <td>0.0</td>\n",
              "      <td>NaN</td>\n",
              "      <td>NaN</td>\n",
              "      <td>NaN</td>\n",
              "      <td>0.0</td>\n",
              "      <td>0.0</td>\n",
              "      <td>0.0</td>\n",
              "      <td>0.0</td>\n",
              "    </tr>\n",
              "    <tr>\n",
              "      <th>2</th>\n",
              "      <td>Aruba</td>\n",
              "      <td>ABW</td>\n",
              "      <td>20200103</td>\n",
              "      <td>0.0</td>\n",
              "      <td>NaN</td>\n",
              "      <td>0.0</td>\n",
              "      <td>NaN</td>\n",
              "      <td>0.0</td>\n",
              "      <td>NaN</td>\n",
              "      <td>0.0</td>\n",
              "      <td>NaN</td>\n",
              "      <td>0.0</td>\n",
              "      <td>NaN</td>\n",
              "      <td>0.0</td>\n",
              "      <td>NaN</td>\n",
              "      <td>0.0</td>\n",
              "      <td>NaN</td>\n",
              "      <td>0.0</td>\n",
              "      <td>0.0</td>\n",
              "      <td>NaN</td>\n",
              "      <td>0.0</td>\n",
              "      <td>0.0</td>\n",
              "      <td>0.0</td>\n",
              "      <td>0.0</td>\n",
              "      <td>NaN</td>\n",
              "      <td>0.0</td>\n",
              "      <td>0.0</td>\n",
              "      <td>0.0</td>\n",
              "      <td>0.0</td>\n",
              "      <td>NaN</td>\n",
              "      <td>NaN</td>\n",
              "      <td>NaN</td>\n",
              "      <td>0.0</td>\n",
              "      <td>0.0</td>\n",
              "      <td>0.0</td>\n",
              "      <td>0.0</td>\n",
              "    </tr>\n",
              "    <tr>\n",
              "      <th>3</th>\n",
              "      <td>Aruba</td>\n",
              "      <td>ABW</td>\n",
              "      <td>20200104</td>\n",
              "      <td>0.0</td>\n",
              "      <td>NaN</td>\n",
              "      <td>0.0</td>\n",
              "      <td>NaN</td>\n",
              "      <td>0.0</td>\n",
              "      <td>NaN</td>\n",
              "      <td>0.0</td>\n",
              "      <td>NaN</td>\n",
              "      <td>0.0</td>\n",
              "      <td>NaN</td>\n",
              "      <td>0.0</td>\n",
              "      <td>NaN</td>\n",
              "      <td>0.0</td>\n",
              "      <td>NaN</td>\n",
              "      <td>0.0</td>\n",
              "      <td>0.0</td>\n",
              "      <td>NaN</td>\n",
              "      <td>0.0</td>\n",
              "      <td>0.0</td>\n",
              "      <td>0.0</td>\n",
              "      <td>0.0</td>\n",
              "      <td>NaN</td>\n",
              "      <td>0.0</td>\n",
              "      <td>0.0</td>\n",
              "      <td>0.0</td>\n",
              "      <td>0.0</td>\n",
              "      <td>NaN</td>\n",
              "      <td>NaN</td>\n",
              "      <td>NaN</td>\n",
              "      <td>0.0</td>\n",
              "      <td>0.0</td>\n",
              "      <td>0.0</td>\n",
              "      <td>0.0</td>\n",
              "    </tr>\n",
              "    <tr>\n",
              "      <th>4</th>\n",
              "      <td>Aruba</td>\n",
              "      <td>ABW</td>\n",
              "      <td>20200105</td>\n",
              "      <td>0.0</td>\n",
              "      <td>NaN</td>\n",
              "      <td>0.0</td>\n",
              "      <td>NaN</td>\n",
              "      <td>0.0</td>\n",
              "      <td>NaN</td>\n",
              "      <td>0.0</td>\n",
              "      <td>NaN</td>\n",
              "      <td>0.0</td>\n",
              "      <td>NaN</td>\n",
              "      <td>0.0</td>\n",
              "      <td>NaN</td>\n",
              "      <td>0.0</td>\n",
              "      <td>NaN</td>\n",
              "      <td>0.0</td>\n",
              "      <td>0.0</td>\n",
              "      <td>NaN</td>\n",
              "      <td>0.0</td>\n",
              "      <td>0.0</td>\n",
              "      <td>0.0</td>\n",
              "      <td>0.0</td>\n",
              "      <td>NaN</td>\n",
              "      <td>0.0</td>\n",
              "      <td>0.0</td>\n",
              "      <td>0.0</td>\n",
              "      <td>0.0</td>\n",
              "      <td>NaN</td>\n",
              "      <td>NaN</td>\n",
              "      <td>NaN</td>\n",
              "      <td>0.0</td>\n",
              "      <td>0.0</td>\n",
              "      <td>0.0</td>\n",
              "      <td>0.0</td>\n",
              "    </tr>\n",
              "  </tbody>\n",
              "</table>\n",
              "</div>"
            ],
            "text/plain": [
              "  CountryName  ... LegacyStringencyIndexForDisplay\n",
              "0       Aruba  ...                             0.0\n",
              "1       Aruba  ...                             0.0\n",
              "2       Aruba  ...                             0.0\n",
              "3       Aruba  ...                             0.0\n",
              "4       Aruba  ...                             0.0\n",
              "\n",
              "[5 rows x 36 columns]"
            ]
          },
          "metadata": {
            "tags": []
          },
          "execution_count": 248
        }
      ]
    },
    {
      "cell_type": "code",
      "metadata": {
        "id": "3oNY6CLDEsAC",
        "colab_type": "code",
        "outputId": "0efc8895-8158-4f39-cbd6-8a8b23df4c45",
        "colab": {
          "base_uri": "https://localhost:8080/",
          "height": 646
        }
      },
      "source": [
        "data_1.dtypes"
      ],
      "execution_count": 0,
      "outputs": [
        {
          "output_type": "execute_result",
          "data": {
            "text/plain": [
              "CountryName                               object\n",
              "CountryCode                               object\n",
              "Date                                       int64\n",
              "C1_School closing                        float64\n",
              "C1_Flag                                  float64\n",
              "C2_Workplace closing                     float64\n",
              "C2_Flag                                  float64\n",
              "C3_Cancel public events                  float64\n",
              "C3_Flag                                  float64\n",
              "C4_Restrictions on gatherings            float64\n",
              "C4_Flag                                  float64\n",
              "C5_Close public transport                float64\n",
              "C5_Flag                                  float64\n",
              "C6_Stay at home requirements             float64\n",
              "C6_Flag                                  float64\n",
              "C7_Restrictions on internal movement     float64\n",
              "C7_Flag                                  float64\n",
              "C8_International travel controls         float64\n",
              "E1_Income support                        float64\n",
              "E1_Flag                                  float64\n",
              "E2_Debt/contract relief                  float64\n",
              "E3_Fiscal measures                       float64\n",
              "E4_International support                 float64\n",
              "H1_Public information campaigns          float64\n",
              "H1_Flag                                  float64\n",
              "H2_Testing policy                        float64\n",
              "H3_Contact tracing                       float64\n",
              "H4_Emergency investment in healthcare    float64\n",
              "H5_Investment in vaccines                float64\n",
              "M1_Wildcard                              float64\n",
              "ConfirmedCases                           float64\n",
              "ConfirmedDeaths                          float64\n",
              "StringencyIndex                          float64\n",
              "StringencyIndexForDisplay                float64\n",
              "LegacyStringencyIndex                    float64\n",
              "LegacyStringencyIndexForDisplay          float64\n",
              "dtype: object"
            ]
          },
          "metadata": {
            "tags": []
          },
          "execution_count": 249
        }
      ]
    },
    {
      "cell_type": "code",
      "metadata": {
        "id": "1yA9N-VyE6uT",
        "colab_type": "code",
        "outputId": "fb153bb4-d756-4b22-b9cb-157cc066e126",
        "colab": {
          "base_uri": "https://localhost:8080/",
          "height": 646
        }
      },
      "source": [
        "#filling the na with 0\n",
        "data_1.isnull().sum()"
      ],
      "execution_count": 0,
      "outputs": [
        {
          "output_type": "execute_result",
          "data": {
            "text/plain": [
              "CountryName                                  0\n",
              "CountryCode                                  0\n",
              "Date                                         0\n",
              "C1_School closing                          560\n",
              "C1_Flag                                  12839\n",
              "C2_Workplace closing                       697\n",
              "C2_Flag                                  14372\n",
              "C3_Cancel public events                    697\n",
              "C3_Flag                                  12761\n",
              "C4_Restrictions on gatherings              727\n",
              "C4_Flag                                  14187\n",
              "C5_Close public transport                  747\n",
              "C5_Flag                                  16413\n",
              "C6_Stay at home requirements               701\n",
              "C6_Flag                                  15230\n",
              "C7_Restrictions on internal movement       737\n",
              "C7_Flag                                  14759\n",
              "C8_International travel controls           727\n",
              "E1_Income support                          844\n",
              "E1_Flag                                  18274\n",
              "E2_Debt/contract relief                    863\n",
              "E3_Fiscal measures                        1357\n",
              "E4_International support                  1201\n",
              "H1_Public information campaigns            866\n",
              "H1_Flag                                   8739\n",
              "H2_Testing policy                         1040\n",
              "H3_Contact tracing                        1120\n",
              "H4_Emergency investment in healthcare     1459\n",
              "H5_Investment in vaccines                 1320\n",
              "M1_Wildcard                              23163\n",
              "ConfirmedCases                            8253\n",
              "ConfirmedDeaths                           8253\n",
              "StringencyIndex                            806\n",
              "StringencyIndexForDisplay                  339\n",
              "LegacyStringencyIndex                      789\n",
              "LegacyStringencyIndexForDisplay            332\n",
              "dtype: int64"
            ]
          },
          "metadata": {
            "tags": []
          },
          "execution_count": 250
        }
      ]
    },
    {
      "cell_type": "code",
      "metadata": {
        "id": "XgoZLKV0E_-D",
        "colab_type": "code",
        "colab": {}
      },
      "source": [
        "data_1 = data_1.fillna(0)"
      ],
      "execution_count": 0,
      "outputs": []
    },
    {
      "cell_type": "code",
      "metadata": {
        "id": "PAlDBBLOG2gu",
        "colab_type": "code",
        "outputId": "e345258f-e159-4a81-cf92-0242f5f2a4d9",
        "colab": {
          "base_uri": "https://localhost:8080/",
          "height": 646
        }
      },
      "source": [
        "data_1.isnull().sum()"
      ],
      "execution_count": 0,
      "outputs": [
        {
          "output_type": "execute_result",
          "data": {
            "text/plain": [
              "CountryName                              0\n",
              "CountryCode                              0\n",
              "Date                                     0\n",
              "C1_School closing                        0\n",
              "C1_Flag                                  0\n",
              "C2_Workplace closing                     0\n",
              "C2_Flag                                  0\n",
              "C3_Cancel public events                  0\n",
              "C3_Flag                                  0\n",
              "C4_Restrictions on gatherings            0\n",
              "C4_Flag                                  0\n",
              "C5_Close public transport                0\n",
              "C5_Flag                                  0\n",
              "C6_Stay at home requirements             0\n",
              "C6_Flag                                  0\n",
              "C7_Restrictions on internal movement     0\n",
              "C7_Flag                                  0\n",
              "C8_International travel controls         0\n",
              "E1_Income support                        0\n",
              "E1_Flag                                  0\n",
              "E2_Debt/contract relief                  0\n",
              "E3_Fiscal measures                       0\n",
              "E4_International support                 0\n",
              "H1_Public information campaigns          0\n",
              "H1_Flag                                  0\n",
              "H2_Testing policy                        0\n",
              "H3_Contact tracing                       0\n",
              "H4_Emergency investment in healthcare    0\n",
              "H5_Investment in vaccines                0\n",
              "M1_Wildcard                              0\n",
              "ConfirmedCases                           0\n",
              "ConfirmedDeaths                          0\n",
              "StringencyIndex                          0\n",
              "StringencyIndexForDisplay                0\n",
              "LegacyStringencyIndex                    0\n",
              "LegacyStringencyIndexForDisplay          0\n",
              "dtype: int64"
            ]
          },
          "metadata": {
            "tags": []
          },
          "execution_count": 252
        }
      ]
    },
    {
      "cell_type": "code",
      "metadata": {
        "id": "Si7xxVrjJ0jH",
        "colab_type": "code",
        "outputId": "51a8730e-20fa-432e-8a56-847f07a9143c",
        "colab": {
          "base_uri": "https://localhost:8080/",
          "height": 221
        }
      },
      "source": [
        "data_1['CountryName'].value_counts()"
      ],
      "execution_count": 0,
      "outputs": [
        {
          "output_type": "execute_result",
          "data": {
            "text/plain": [
              "United Arab Emirates    140\n",
              "El Salvador             140\n",
              "Bhutan                  140\n",
              "Kyrgyz Republic         140\n",
              "India                   140\n",
              "                       ... \n",
              "Palestine               138\n",
              "Mexico                  138\n",
              "Cote d'Ivoire           138\n",
              "Brunei                  138\n",
              "Solomon Islands         136\n",
              "Name: CountryName, Length: 167, dtype: int64"
            ]
          },
          "metadata": {
            "tags": []
          },
          "execution_count": 253
        }
      ]
    },
    {
      "cell_type": "code",
      "metadata": {
        "id": "Ny_c288NBU-y",
        "colab_type": "code",
        "colab": {}
      },
      "source": [
        "data_1= data_1.rename(columns={'CountryName':'Country'})"
      ],
      "execution_count": 0,
      "outputs": []
    },
    {
      "cell_type": "code",
      "metadata": {
        "id": "IGHddmf7Ef6_",
        "colab_type": "code",
        "colab": {}
      },
      "source": [
        "data_1['Date'] = data_1['Date'].astype(str)"
      ],
      "execution_count": 0,
      "outputs": []
    },
    {
      "cell_type": "code",
      "metadata": {
        "id": "JNLE_Y_uEg9r",
        "colab_type": "code",
        "colab": {}
      },
      "source": [
        "data_1['Date'] = pd.to_datetime(data_1['Date'], format='%Y%m%d')"
      ],
      "execution_count": 0,
      "outputs": []
    },
    {
      "cell_type": "code",
      "metadata": {
        "id": "9Z83Upc5LrGG",
        "colab_type": "code",
        "colab": {}
      },
      "source": [
        "#slicing data for Australia, Denmark, India, Japan, South Korea, USA\n",
        "data_countries= data_1[(data_1['Country'] == 'India') | (data_1['Country'] =='Australia') | (data_1['Country'] == 'Japan') | (data_1['Country'] == 'Sount Korea') \n",
        " | (data_1['Country'] == 'United States')].reset_index()"
      ],
      "execution_count": 0,
      "outputs": []
    },
    {
      "cell_type": "code",
      "metadata": {
        "id": "SGVFPUQCE_pb",
        "colab_type": "code",
        "colab": {}
      },
      "source": [
        "data_countries['Year'] = data_countries['Date'].dt.year"
      ],
      "execution_count": 0,
      "outputs": []
    },
    {
      "cell_type": "code",
      "metadata": {
        "id": "tj-WEeAeFAQX",
        "colab_type": "code",
        "colab": {}
      },
      "source": [
        "data_countries['Month'] = data_countries['Date'].dt.month"
      ],
      "execution_count": 0,
      "outputs": []
    },
    {
      "cell_type": "code",
      "metadata": {
        "id": "lNDbquGBxh6t",
        "colab_type": "code",
        "outputId": "ac949b26-c9c2-4253-8c01-031a92a6326b",
        "colab": {
          "base_uri": "https://localhost:8080/",
          "height": 600
        }
      },
      "source": [
        "data_countries.head(10)"
      ],
      "execution_count": 0,
      "outputs": [
        {
          "output_type": "execute_result",
          "data": {
            "text/html": [
              "<div>\n",
              "<style scoped>\n",
              "    .dataframe tbody tr th:only-of-type {\n",
              "        vertical-align: middle;\n",
              "    }\n",
              "\n",
              "    .dataframe tbody tr th {\n",
              "        vertical-align: top;\n",
              "    }\n",
              "\n",
              "    .dataframe thead th {\n",
              "        text-align: right;\n",
              "    }\n",
              "</style>\n",
              "<table border=\"1\" class=\"dataframe\">\n",
              "  <thead>\n",
              "    <tr style=\"text-align: right;\">\n",
              "      <th></th>\n",
              "      <th>index</th>\n",
              "      <th>Country</th>\n",
              "      <th>CountryCode</th>\n",
              "      <th>Date</th>\n",
              "      <th>C1_School closing</th>\n",
              "      <th>C1_Flag</th>\n",
              "      <th>C2_Workplace closing</th>\n",
              "      <th>C2_Flag</th>\n",
              "      <th>C3_Cancel public events</th>\n",
              "      <th>C3_Flag</th>\n",
              "      <th>C4_Restrictions on gatherings</th>\n",
              "      <th>C4_Flag</th>\n",
              "      <th>C5_Close public transport</th>\n",
              "      <th>C5_Flag</th>\n",
              "      <th>C6_Stay at home requirements</th>\n",
              "      <th>C6_Flag</th>\n",
              "      <th>C7_Restrictions on internal movement</th>\n",
              "      <th>C7_Flag</th>\n",
              "      <th>C8_International travel controls</th>\n",
              "      <th>E1_Income support</th>\n",
              "      <th>E1_Flag</th>\n",
              "      <th>E2_Debt/contract relief</th>\n",
              "      <th>E3_Fiscal measures</th>\n",
              "      <th>E4_International support</th>\n",
              "      <th>H1_Public information campaigns</th>\n",
              "      <th>H1_Flag</th>\n",
              "      <th>H2_Testing policy</th>\n",
              "      <th>H3_Contact tracing</th>\n",
              "      <th>H4_Emergency investment in healthcare</th>\n",
              "      <th>H5_Investment in vaccines</th>\n",
              "      <th>M1_Wildcard</th>\n",
              "      <th>ConfirmedCases</th>\n",
              "      <th>ConfirmedDeaths</th>\n",
              "      <th>StringencyIndex</th>\n",
              "      <th>StringencyIndexForDisplay</th>\n",
              "      <th>LegacyStringencyIndex</th>\n",
              "      <th>LegacyStringencyIndexForDisplay</th>\n",
              "      <th>Year</th>\n",
              "      <th>Month</th>\n",
              "    </tr>\n",
              "  </thead>\n",
              "  <tbody>\n",
              "    <tr>\n",
              "      <th>0</th>\n",
              "      <td>970</td>\n",
              "      <td>Australia</td>\n",
              "      <td>AUS</td>\n",
              "      <td>2020-01-01</td>\n",
              "      <td>0.0</td>\n",
              "      <td>0.0</td>\n",
              "      <td>0.0</td>\n",
              "      <td>0.0</td>\n",
              "      <td>0.0</td>\n",
              "      <td>0.0</td>\n",
              "      <td>0.0</td>\n",
              "      <td>0.0</td>\n",
              "      <td>0.0</td>\n",
              "      <td>0.0</td>\n",
              "      <td>0.0</td>\n",
              "      <td>0.0</td>\n",
              "      <td>0.0</td>\n",
              "      <td>0.0</td>\n",
              "      <td>0.0</td>\n",
              "      <td>0.0</td>\n",
              "      <td>0.0</td>\n",
              "      <td>0.0</td>\n",
              "      <td>0.0</td>\n",
              "      <td>0.0</td>\n",
              "      <td>0.0</td>\n",
              "      <td>0.0</td>\n",
              "      <td>0.0</td>\n",
              "      <td>0.0</td>\n",
              "      <td>0.0</td>\n",
              "      <td>0.0</td>\n",
              "      <td>0.0</td>\n",
              "      <td>0.0</td>\n",
              "      <td>0.0</td>\n",
              "      <td>0.0</td>\n",
              "      <td>0.0</td>\n",
              "      <td>0.0</td>\n",
              "      <td>0.0</td>\n",
              "      <td>2020</td>\n",
              "      <td>1</td>\n",
              "    </tr>\n",
              "    <tr>\n",
              "      <th>1</th>\n",
              "      <td>971</td>\n",
              "      <td>Australia</td>\n",
              "      <td>AUS</td>\n",
              "      <td>2020-01-02</td>\n",
              "      <td>0.0</td>\n",
              "      <td>0.0</td>\n",
              "      <td>0.0</td>\n",
              "      <td>0.0</td>\n",
              "      <td>0.0</td>\n",
              "      <td>0.0</td>\n",
              "      <td>0.0</td>\n",
              "      <td>0.0</td>\n",
              "      <td>0.0</td>\n",
              "      <td>0.0</td>\n",
              "      <td>0.0</td>\n",
              "      <td>0.0</td>\n",
              "      <td>0.0</td>\n",
              "      <td>0.0</td>\n",
              "      <td>0.0</td>\n",
              "      <td>0.0</td>\n",
              "      <td>0.0</td>\n",
              "      <td>0.0</td>\n",
              "      <td>0.0</td>\n",
              "      <td>0.0</td>\n",
              "      <td>0.0</td>\n",
              "      <td>0.0</td>\n",
              "      <td>0.0</td>\n",
              "      <td>0.0</td>\n",
              "      <td>0.0</td>\n",
              "      <td>0.0</td>\n",
              "      <td>0.0</td>\n",
              "      <td>0.0</td>\n",
              "      <td>0.0</td>\n",
              "      <td>0.0</td>\n",
              "      <td>0.0</td>\n",
              "      <td>0.0</td>\n",
              "      <td>0.0</td>\n",
              "      <td>2020</td>\n",
              "      <td>1</td>\n",
              "    </tr>\n",
              "    <tr>\n",
              "      <th>2</th>\n",
              "      <td>972</td>\n",
              "      <td>Australia</td>\n",
              "      <td>AUS</td>\n",
              "      <td>2020-01-03</td>\n",
              "      <td>0.0</td>\n",
              "      <td>0.0</td>\n",
              "      <td>0.0</td>\n",
              "      <td>0.0</td>\n",
              "      <td>0.0</td>\n",
              "      <td>0.0</td>\n",
              "      <td>0.0</td>\n",
              "      <td>0.0</td>\n",
              "      <td>0.0</td>\n",
              "      <td>0.0</td>\n",
              "      <td>0.0</td>\n",
              "      <td>0.0</td>\n",
              "      <td>0.0</td>\n",
              "      <td>0.0</td>\n",
              "      <td>0.0</td>\n",
              "      <td>0.0</td>\n",
              "      <td>0.0</td>\n",
              "      <td>0.0</td>\n",
              "      <td>0.0</td>\n",
              "      <td>0.0</td>\n",
              "      <td>0.0</td>\n",
              "      <td>0.0</td>\n",
              "      <td>0.0</td>\n",
              "      <td>0.0</td>\n",
              "      <td>0.0</td>\n",
              "      <td>0.0</td>\n",
              "      <td>0.0</td>\n",
              "      <td>0.0</td>\n",
              "      <td>0.0</td>\n",
              "      <td>0.0</td>\n",
              "      <td>0.0</td>\n",
              "      <td>0.0</td>\n",
              "      <td>0.0</td>\n",
              "      <td>2020</td>\n",
              "      <td>1</td>\n",
              "    </tr>\n",
              "    <tr>\n",
              "      <th>3</th>\n",
              "      <td>973</td>\n",
              "      <td>Australia</td>\n",
              "      <td>AUS</td>\n",
              "      <td>2020-01-04</td>\n",
              "      <td>0.0</td>\n",
              "      <td>0.0</td>\n",
              "      <td>0.0</td>\n",
              "      <td>0.0</td>\n",
              "      <td>0.0</td>\n",
              "      <td>0.0</td>\n",
              "      <td>0.0</td>\n",
              "      <td>0.0</td>\n",
              "      <td>0.0</td>\n",
              "      <td>0.0</td>\n",
              "      <td>0.0</td>\n",
              "      <td>0.0</td>\n",
              "      <td>0.0</td>\n",
              "      <td>0.0</td>\n",
              "      <td>0.0</td>\n",
              "      <td>0.0</td>\n",
              "      <td>0.0</td>\n",
              "      <td>0.0</td>\n",
              "      <td>0.0</td>\n",
              "      <td>0.0</td>\n",
              "      <td>0.0</td>\n",
              "      <td>0.0</td>\n",
              "      <td>0.0</td>\n",
              "      <td>0.0</td>\n",
              "      <td>0.0</td>\n",
              "      <td>0.0</td>\n",
              "      <td>0.0</td>\n",
              "      <td>0.0</td>\n",
              "      <td>0.0</td>\n",
              "      <td>0.0</td>\n",
              "      <td>0.0</td>\n",
              "      <td>0.0</td>\n",
              "      <td>0.0</td>\n",
              "      <td>2020</td>\n",
              "      <td>1</td>\n",
              "    </tr>\n",
              "    <tr>\n",
              "      <th>4</th>\n",
              "      <td>974</td>\n",
              "      <td>Australia</td>\n",
              "      <td>AUS</td>\n",
              "      <td>2020-01-05</td>\n",
              "      <td>0.0</td>\n",
              "      <td>0.0</td>\n",
              "      <td>0.0</td>\n",
              "      <td>0.0</td>\n",
              "      <td>0.0</td>\n",
              "      <td>0.0</td>\n",
              "      <td>0.0</td>\n",
              "      <td>0.0</td>\n",
              "      <td>0.0</td>\n",
              "      <td>0.0</td>\n",
              "      <td>0.0</td>\n",
              "      <td>0.0</td>\n",
              "      <td>0.0</td>\n",
              "      <td>0.0</td>\n",
              "      <td>0.0</td>\n",
              "      <td>0.0</td>\n",
              "      <td>0.0</td>\n",
              "      <td>0.0</td>\n",
              "      <td>0.0</td>\n",
              "      <td>0.0</td>\n",
              "      <td>0.0</td>\n",
              "      <td>0.0</td>\n",
              "      <td>0.0</td>\n",
              "      <td>0.0</td>\n",
              "      <td>0.0</td>\n",
              "      <td>0.0</td>\n",
              "      <td>0.0</td>\n",
              "      <td>0.0</td>\n",
              "      <td>0.0</td>\n",
              "      <td>0.0</td>\n",
              "      <td>0.0</td>\n",
              "      <td>0.0</td>\n",
              "      <td>0.0</td>\n",
              "      <td>2020</td>\n",
              "      <td>1</td>\n",
              "    </tr>\n",
              "    <tr>\n",
              "      <th>5</th>\n",
              "      <td>975</td>\n",
              "      <td>Australia</td>\n",
              "      <td>AUS</td>\n",
              "      <td>2020-01-06</td>\n",
              "      <td>0.0</td>\n",
              "      <td>0.0</td>\n",
              "      <td>0.0</td>\n",
              "      <td>0.0</td>\n",
              "      <td>0.0</td>\n",
              "      <td>0.0</td>\n",
              "      <td>0.0</td>\n",
              "      <td>0.0</td>\n",
              "      <td>0.0</td>\n",
              "      <td>0.0</td>\n",
              "      <td>0.0</td>\n",
              "      <td>0.0</td>\n",
              "      <td>0.0</td>\n",
              "      <td>0.0</td>\n",
              "      <td>0.0</td>\n",
              "      <td>0.0</td>\n",
              "      <td>0.0</td>\n",
              "      <td>0.0</td>\n",
              "      <td>0.0</td>\n",
              "      <td>0.0</td>\n",
              "      <td>0.0</td>\n",
              "      <td>0.0</td>\n",
              "      <td>0.0</td>\n",
              "      <td>0.0</td>\n",
              "      <td>0.0</td>\n",
              "      <td>0.0</td>\n",
              "      <td>0.0</td>\n",
              "      <td>0.0</td>\n",
              "      <td>0.0</td>\n",
              "      <td>0.0</td>\n",
              "      <td>0.0</td>\n",
              "      <td>0.0</td>\n",
              "      <td>0.0</td>\n",
              "      <td>2020</td>\n",
              "      <td>1</td>\n",
              "    </tr>\n",
              "    <tr>\n",
              "      <th>6</th>\n",
              "      <td>976</td>\n",
              "      <td>Australia</td>\n",
              "      <td>AUS</td>\n",
              "      <td>2020-01-07</td>\n",
              "      <td>0.0</td>\n",
              "      <td>0.0</td>\n",
              "      <td>0.0</td>\n",
              "      <td>0.0</td>\n",
              "      <td>0.0</td>\n",
              "      <td>0.0</td>\n",
              "      <td>0.0</td>\n",
              "      <td>0.0</td>\n",
              "      <td>0.0</td>\n",
              "      <td>0.0</td>\n",
              "      <td>0.0</td>\n",
              "      <td>0.0</td>\n",
              "      <td>0.0</td>\n",
              "      <td>0.0</td>\n",
              "      <td>0.0</td>\n",
              "      <td>0.0</td>\n",
              "      <td>0.0</td>\n",
              "      <td>0.0</td>\n",
              "      <td>0.0</td>\n",
              "      <td>0.0</td>\n",
              "      <td>0.0</td>\n",
              "      <td>0.0</td>\n",
              "      <td>0.0</td>\n",
              "      <td>0.0</td>\n",
              "      <td>0.0</td>\n",
              "      <td>0.0</td>\n",
              "      <td>0.0</td>\n",
              "      <td>0.0</td>\n",
              "      <td>0.0</td>\n",
              "      <td>0.0</td>\n",
              "      <td>0.0</td>\n",
              "      <td>0.0</td>\n",
              "      <td>0.0</td>\n",
              "      <td>2020</td>\n",
              "      <td>1</td>\n",
              "    </tr>\n",
              "    <tr>\n",
              "      <th>7</th>\n",
              "      <td>977</td>\n",
              "      <td>Australia</td>\n",
              "      <td>AUS</td>\n",
              "      <td>2020-01-08</td>\n",
              "      <td>0.0</td>\n",
              "      <td>0.0</td>\n",
              "      <td>0.0</td>\n",
              "      <td>0.0</td>\n",
              "      <td>0.0</td>\n",
              "      <td>0.0</td>\n",
              "      <td>0.0</td>\n",
              "      <td>0.0</td>\n",
              "      <td>0.0</td>\n",
              "      <td>0.0</td>\n",
              "      <td>0.0</td>\n",
              "      <td>0.0</td>\n",
              "      <td>0.0</td>\n",
              "      <td>0.0</td>\n",
              "      <td>0.0</td>\n",
              "      <td>0.0</td>\n",
              "      <td>0.0</td>\n",
              "      <td>0.0</td>\n",
              "      <td>0.0</td>\n",
              "      <td>0.0</td>\n",
              "      <td>0.0</td>\n",
              "      <td>0.0</td>\n",
              "      <td>0.0</td>\n",
              "      <td>0.0</td>\n",
              "      <td>0.0</td>\n",
              "      <td>0.0</td>\n",
              "      <td>0.0</td>\n",
              "      <td>0.0</td>\n",
              "      <td>0.0</td>\n",
              "      <td>0.0</td>\n",
              "      <td>0.0</td>\n",
              "      <td>0.0</td>\n",
              "      <td>0.0</td>\n",
              "      <td>2020</td>\n",
              "      <td>1</td>\n",
              "    </tr>\n",
              "    <tr>\n",
              "      <th>8</th>\n",
              "      <td>978</td>\n",
              "      <td>Australia</td>\n",
              "      <td>AUS</td>\n",
              "      <td>2020-01-09</td>\n",
              "      <td>0.0</td>\n",
              "      <td>0.0</td>\n",
              "      <td>0.0</td>\n",
              "      <td>0.0</td>\n",
              "      <td>0.0</td>\n",
              "      <td>0.0</td>\n",
              "      <td>0.0</td>\n",
              "      <td>0.0</td>\n",
              "      <td>0.0</td>\n",
              "      <td>0.0</td>\n",
              "      <td>0.0</td>\n",
              "      <td>0.0</td>\n",
              "      <td>0.0</td>\n",
              "      <td>0.0</td>\n",
              "      <td>0.0</td>\n",
              "      <td>0.0</td>\n",
              "      <td>0.0</td>\n",
              "      <td>0.0</td>\n",
              "      <td>0.0</td>\n",
              "      <td>0.0</td>\n",
              "      <td>0.0</td>\n",
              "      <td>0.0</td>\n",
              "      <td>0.0</td>\n",
              "      <td>0.0</td>\n",
              "      <td>0.0</td>\n",
              "      <td>0.0</td>\n",
              "      <td>0.0</td>\n",
              "      <td>0.0</td>\n",
              "      <td>0.0</td>\n",
              "      <td>0.0</td>\n",
              "      <td>0.0</td>\n",
              "      <td>0.0</td>\n",
              "      <td>0.0</td>\n",
              "      <td>2020</td>\n",
              "      <td>1</td>\n",
              "    </tr>\n",
              "    <tr>\n",
              "      <th>9</th>\n",
              "      <td>979</td>\n",
              "      <td>Australia</td>\n",
              "      <td>AUS</td>\n",
              "      <td>2020-01-10</td>\n",
              "      <td>0.0</td>\n",
              "      <td>0.0</td>\n",
              "      <td>0.0</td>\n",
              "      <td>0.0</td>\n",
              "      <td>0.0</td>\n",
              "      <td>0.0</td>\n",
              "      <td>0.0</td>\n",
              "      <td>0.0</td>\n",
              "      <td>0.0</td>\n",
              "      <td>0.0</td>\n",
              "      <td>0.0</td>\n",
              "      <td>0.0</td>\n",
              "      <td>0.0</td>\n",
              "      <td>0.0</td>\n",
              "      <td>0.0</td>\n",
              "      <td>0.0</td>\n",
              "      <td>0.0</td>\n",
              "      <td>0.0</td>\n",
              "      <td>0.0</td>\n",
              "      <td>0.0</td>\n",
              "      <td>0.0</td>\n",
              "      <td>0.0</td>\n",
              "      <td>0.0</td>\n",
              "      <td>0.0</td>\n",
              "      <td>0.0</td>\n",
              "      <td>0.0</td>\n",
              "      <td>0.0</td>\n",
              "      <td>0.0</td>\n",
              "      <td>0.0</td>\n",
              "      <td>0.0</td>\n",
              "      <td>0.0</td>\n",
              "      <td>0.0</td>\n",
              "      <td>0.0</td>\n",
              "      <td>2020</td>\n",
              "      <td>1</td>\n",
              "    </tr>\n",
              "  </tbody>\n",
              "</table>\n",
              "</div>"
            ],
            "text/plain": [
              "   index    Country CountryCode  ... LegacyStringencyIndexForDisplay  Year  Month\n",
              "0    970  Australia         AUS  ...                             0.0  2020      1\n",
              "1    971  Australia         AUS  ...                             0.0  2020      1\n",
              "2    972  Australia         AUS  ...                             0.0  2020      1\n",
              "3    973  Australia         AUS  ...                             0.0  2020      1\n",
              "4    974  Australia         AUS  ...                             0.0  2020      1\n",
              "5    975  Australia         AUS  ...                             0.0  2020      1\n",
              "6    976  Australia         AUS  ...                             0.0  2020      1\n",
              "7    977  Australia         AUS  ...                             0.0  2020      1\n",
              "8    978  Australia         AUS  ...                             0.0  2020      1\n",
              "9    979  Australia         AUS  ...                             0.0  2020      1\n",
              "\n",
              "[10 rows x 39 columns]"
            ]
          },
          "metadata": {
            "tags": []
          },
          "execution_count": 260
        }
      ]
    },
    {
      "cell_type": "code",
      "metadata": {
        "id": "lj-QiNnNEtmR",
        "colab_type": "code",
        "colab": {}
      },
      "source": [
        "data_countries = data_countries.drop(['index','CountryCode','Date'],axis=1)"
      ],
      "execution_count": 0,
      "outputs": []
    },
    {
      "cell_type": "code",
      "metadata": {
        "id": "QJk3Vn43FCui",
        "colab_type": "code",
        "outputId": "a8e5312c-973a-43c6-ecd2-193c0c9bc610",
        "colab": {
          "base_uri": "https://localhost:8080/",
          "height": 646
        }
      },
      "source": [
        "data_countries.dtypes"
      ],
      "execution_count": 0,
      "outputs": [
        {
          "output_type": "execute_result",
          "data": {
            "text/plain": [
              "Country                                   object\n",
              "C1_School closing                        float64\n",
              "C1_Flag                                  float64\n",
              "C2_Workplace closing                     float64\n",
              "C2_Flag                                  float64\n",
              "C3_Cancel public events                  float64\n",
              "C3_Flag                                  float64\n",
              "C4_Restrictions on gatherings            float64\n",
              "C4_Flag                                  float64\n",
              "C5_Close public transport                float64\n",
              "C5_Flag                                  float64\n",
              "C6_Stay at home requirements             float64\n",
              "C6_Flag                                  float64\n",
              "C7_Restrictions on internal movement     float64\n",
              "C7_Flag                                  float64\n",
              "C8_International travel controls         float64\n",
              "E1_Income support                        float64\n",
              "E1_Flag                                  float64\n",
              "E2_Debt/contract relief                  float64\n",
              "E3_Fiscal measures                       float64\n",
              "E4_International support                 float64\n",
              "H1_Public information campaigns          float64\n",
              "H1_Flag                                  float64\n",
              "H2_Testing policy                        float64\n",
              "H3_Contact tracing                       float64\n",
              "H4_Emergency investment in healthcare    float64\n",
              "H5_Investment in vaccines                float64\n",
              "M1_Wildcard                              float64\n",
              "ConfirmedCases                           float64\n",
              "ConfirmedDeaths                          float64\n",
              "StringencyIndex                          float64\n",
              "StringencyIndexForDisplay                float64\n",
              "LegacyStringencyIndex                    float64\n",
              "LegacyStringencyIndexForDisplay          float64\n",
              "Year                                       int64\n",
              "Month                                      int64\n",
              "dtype: object"
            ]
          },
          "metadata": {
            "tags": []
          },
          "execution_count": 262
        }
      ]
    },
    {
      "cell_type": "code",
      "metadata": {
        "id": "_qVK9191Fcg5",
        "colab_type": "code",
        "colab": {}
      },
      "source": [
        "data_worplace_closing = data_countries.loc[:, [\"Country\", \"C2_Workplace closing\",\"Year\",\"Month\"]]"
      ],
      "execution_count": 0,
      "outputs": []
    },
    {
      "cell_type": "code",
      "metadata": {
        "id": "LKAOF5SxFrO8",
        "colab_type": "code",
        "colab": {}
      },
      "source": [
        "#Policy: C2_Workplace closing, \tC6_Stay at home requirements\n",
        "data_workplace_closing = data_worplace_closing[data_worplace_closing['C2_Workplace closing'] >0.0]"
      ],
      "execution_count": 0,
      "outputs": []
    },
    {
      "cell_type": "code",
      "metadata": {
        "id": "dIFks4kXIHhM",
        "colab_type": "code",
        "colab": {}
      },
      "source": [
        "data_workplace_closing = data_workplace_closing.reset_index()"
      ],
      "execution_count": 0,
      "outputs": []
    },
    {
      "cell_type": "code",
      "metadata": {
        "id": "xwhzNZNqI8pt",
        "colab_type": "code",
        "outputId": "b77a52e1-9b9b-4fcc-bb00-5d6d38835a53",
        "colab": {
          "base_uri": "https://localhost:8080/",
          "height": 204
        }
      },
      "source": [
        "data_workplace_closing.head()"
      ],
      "execution_count": 0,
      "outputs": [
        {
          "output_type": "execute_result",
          "data": {
            "text/html": [
              "<div>\n",
              "<style scoped>\n",
              "    .dataframe tbody tr th:only-of-type {\n",
              "        vertical-align: middle;\n",
              "    }\n",
              "\n",
              "    .dataframe tbody tr th {\n",
              "        vertical-align: top;\n",
              "    }\n",
              "\n",
              "    .dataframe thead th {\n",
              "        text-align: right;\n",
              "    }\n",
              "</style>\n",
              "<table border=\"1\" class=\"dataframe\">\n",
              "  <thead>\n",
              "    <tr style=\"text-align: right;\">\n",
              "      <th></th>\n",
              "      <th>index</th>\n",
              "      <th>Country</th>\n",
              "      <th>C2_Workplace closing</th>\n",
              "      <th>Year</th>\n",
              "      <th>Month</th>\n",
              "    </tr>\n",
              "  </thead>\n",
              "  <tbody>\n",
              "    <tr>\n",
              "      <th>0</th>\n",
              "      <td>82</td>\n",
              "      <td>Australia</td>\n",
              "      <td>2.0</td>\n",
              "      <td>2020</td>\n",
              "      <td>3</td>\n",
              "    </tr>\n",
              "    <tr>\n",
              "      <th>1</th>\n",
              "      <td>83</td>\n",
              "      <td>Australia</td>\n",
              "      <td>2.0</td>\n",
              "      <td>2020</td>\n",
              "      <td>3</td>\n",
              "    </tr>\n",
              "    <tr>\n",
              "      <th>2</th>\n",
              "      <td>84</td>\n",
              "      <td>Australia</td>\n",
              "      <td>2.0</td>\n",
              "      <td>2020</td>\n",
              "      <td>3</td>\n",
              "    </tr>\n",
              "    <tr>\n",
              "      <th>3</th>\n",
              "      <td>85</td>\n",
              "      <td>Australia</td>\n",
              "      <td>2.0</td>\n",
              "      <td>2020</td>\n",
              "      <td>3</td>\n",
              "    </tr>\n",
              "    <tr>\n",
              "      <th>4</th>\n",
              "      <td>86</td>\n",
              "      <td>Australia</td>\n",
              "      <td>2.0</td>\n",
              "      <td>2020</td>\n",
              "      <td>3</td>\n",
              "    </tr>\n",
              "  </tbody>\n",
              "</table>\n",
              "</div>"
            ],
            "text/plain": [
              "   index    Country  C2_Workplace closing  Year  Month\n",
              "0     82  Australia                   2.0  2020      3\n",
              "1     83  Australia                   2.0  2020      3\n",
              "2     84  Australia                   2.0  2020      3\n",
              "3     85  Australia                   2.0  2020      3\n",
              "4     86  Australia                   2.0  2020      3"
            ]
          },
          "metadata": {
            "tags": []
          },
          "execution_count": 266
        }
      ]
    },
    {
      "cell_type": "code",
      "metadata": {
        "id": "cj-A8AtFIeyb",
        "colab_type": "code",
        "colab": {}
      },
      "source": [
        "data_workplace_closing = data_workplace_closing.drop(['index'],axis=1)"
      ],
      "execution_count": 0,
      "outputs": []
    },
    {
      "cell_type": "code",
      "metadata": {
        "id": "sikDjRnzBoa_",
        "colab_type": "code",
        "outputId": "93c46746-e4dc-43ca-e07d-58ded00b7c52",
        "colab": {
          "base_uri": "https://localhost:8080/",
          "height": 669
        }
      },
      "source": [
        "data_workplace_closing.head(20)"
      ],
      "execution_count": 0,
      "outputs": [
        {
          "output_type": "execute_result",
          "data": {
            "text/html": [
              "<div>\n",
              "<style scoped>\n",
              "    .dataframe tbody tr th:only-of-type {\n",
              "        vertical-align: middle;\n",
              "    }\n",
              "\n",
              "    .dataframe tbody tr th {\n",
              "        vertical-align: top;\n",
              "    }\n",
              "\n",
              "    .dataframe thead th {\n",
              "        text-align: right;\n",
              "    }\n",
              "</style>\n",
              "<table border=\"1\" class=\"dataframe\">\n",
              "  <thead>\n",
              "    <tr style=\"text-align: right;\">\n",
              "      <th></th>\n",
              "      <th>Country</th>\n",
              "      <th>C2_Workplace closing</th>\n",
              "      <th>Year</th>\n",
              "      <th>Month</th>\n",
              "    </tr>\n",
              "  </thead>\n",
              "  <tbody>\n",
              "    <tr>\n",
              "      <th>0</th>\n",
              "      <td>Australia</td>\n",
              "      <td>2.0</td>\n",
              "      <td>2020</td>\n",
              "      <td>3</td>\n",
              "    </tr>\n",
              "    <tr>\n",
              "      <th>1</th>\n",
              "      <td>Australia</td>\n",
              "      <td>2.0</td>\n",
              "      <td>2020</td>\n",
              "      <td>3</td>\n",
              "    </tr>\n",
              "    <tr>\n",
              "      <th>2</th>\n",
              "      <td>Australia</td>\n",
              "      <td>2.0</td>\n",
              "      <td>2020</td>\n",
              "      <td>3</td>\n",
              "    </tr>\n",
              "    <tr>\n",
              "      <th>3</th>\n",
              "      <td>Australia</td>\n",
              "      <td>2.0</td>\n",
              "      <td>2020</td>\n",
              "      <td>3</td>\n",
              "    </tr>\n",
              "    <tr>\n",
              "      <th>4</th>\n",
              "      <td>Australia</td>\n",
              "      <td>2.0</td>\n",
              "      <td>2020</td>\n",
              "      <td>3</td>\n",
              "    </tr>\n",
              "    <tr>\n",
              "      <th>5</th>\n",
              "      <td>Australia</td>\n",
              "      <td>2.0</td>\n",
              "      <td>2020</td>\n",
              "      <td>3</td>\n",
              "    </tr>\n",
              "    <tr>\n",
              "      <th>6</th>\n",
              "      <td>Australia</td>\n",
              "      <td>2.0</td>\n",
              "      <td>2020</td>\n",
              "      <td>3</td>\n",
              "    </tr>\n",
              "    <tr>\n",
              "      <th>7</th>\n",
              "      <td>Australia</td>\n",
              "      <td>2.0</td>\n",
              "      <td>2020</td>\n",
              "      <td>3</td>\n",
              "    </tr>\n",
              "    <tr>\n",
              "      <th>8</th>\n",
              "      <td>Australia</td>\n",
              "      <td>2.0</td>\n",
              "      <td>2020</td>\n",
              "      <td>3</td>\n",
              "    </tr>\n",
              "    <tr>\n",
              "      <th>9</th>\n",
              "      <td>Australia</td>\n",
              "      <td>2.0</td>\n",
              "      <td>2020</td>\n",
              "      <td>4</td>\n",
              "    </tr>\n",
              "    <tr>\n",
              "      <th>10</th>\n",
              "      <td>Australia</td>\n",
              "      <td>2.0</td>\n",
              "      <td>2020</td>\n",
              "      <td>4</td>\n",
              "    </tr>\n",
              "    <tr>\n",
              "      <th>11</th>\n",
              "      <td>Australia</td>\n",
              "      <td>2.0</td>\n",
              "      <td>2020</td>\n",
              "      <td>4</td>\n",
              "    </tr>\n",
              "    <tr>\n",
              "      <th>12</th>\n",
              "      <td>Australia</td>\n",
              "      <td>2.0</td>\n",
              "      <td>2020</td>\n",
              "      <td>4</td>\n",
              "    </tr>\n",
              "    <tr>\n",
              "      <th>13</th>\n",
              "      <td>Australia</td>\n",
              "      <td>2.0</td>\n",
              "      <td>2020</td>\n",
              "      <td>4</td>\n",
              "    </tr>\n",
              "    <tr>\n",
              "      <th>14</th>\n",
              "      <td>Australia</td>\n",
              "      <td>2.0</td>\n",
              "      <td>2020</td>\n",
              "      <td>4</td>\n",
              "    </tr>\n",
              "    <tr>\n",
              "      <th>15</th>\n",
              "      <td>Australia</td>\n",
              "      <td>2.0</td>\n",
              "      <td>2020</td>\n",
              "      <td>4</td>\n",
              "    </tr>\n",
              "    <tr>\n",
              "      <th>16</th>\n",
              "      <td>Australia</td>\n",
              "      <td>2.0</td>\n",
              "      <td>2020</td>\n",
              "      <td>4</td>\n",
              "    </tr>\n",
              "    <tr>\n",
              "      <th>17</th>\n",
              "      <td>Australia</td>\n",
              "      <td>2.0</td>\n",
              "      <td>2020</td>\n",
              "      <td>4</td>\n",
              "    </tr>\n",
              "    <tr>\n",
              "      <th>18</th>\n",
              "      <td>Australia</td>\n",
              "      <td>2.0</td>\n",
              "      <td>2020</td>\n",
              "      <td>4</td>\n",
              "    </tr>\n",
              "    <tr>\n",
              "      <th>19</th>\n",
              "      <td>Australia</td>\n",
              "      <td>2.0</td>\n",
              "      <td>2020</td>\n",
              "      <td>4</td>\n",
              "    </tr>\n",
              "  </tbody>\n",
              "</table>\n",
              "</div>"
            ],
            "text/plain": [
              "      Country  C2_Workplace closing  Year  Month\n",
              "0   Australia                   2.0  2020      3\n",
              "1   Australia                   2.0  2020      3\n",
              "2   Australia                   2.0  2020      3\n",
              "3   Australia                   2.0  2020      3\n",
              "4   Australia                   2.0  2020      3\n",
              "5   Australia                   2.0  2020      3\n",
              "6   Australia                   2.0  2020      3\n",
              "7   Australia                   2.0  2020      3\n",
              "8   Australia                   2.0  2020      3\n",
              "9   Australia                   2.0  2020      4\n",
              "10  Australia                   2.0  2020      4\n",
              "11  Australia                   2.0  2020      4\n",
              "12  Australia                   2.0  2020      4\n",
              "13  Australia                   2.0  2020      4\n",
              "14  Australia                   2.0  2020      4\n",
              "15  Australia                   2.0  2020      4\n",
              "16  Australia                   2.0  2020      4\n",
              "17  Australia                   2.0  2020      4\n",
              "18  Australia                   2.0  2020      4\n",
              "19  Australia                   2.0  2020      4"
            ]
          },
          "metadata": {
            "tags": []
          },
          "execution_count": 268
        }
      ]
    },
    {
      "cell_type": "code",
      "metadata": {
        "id": "IV7HoqorB5fk",
        "colab_type": "code",
        "outputId": "378ca3e4-3ffd-4437-cbf9-ca9f6cd223ee",
        "colab": {
          "base_uri": "https://localhost:8080/",
          "height": 34
        }
      },
      "source": [
        "data_workplace_closing.shape"
      ],
      "execution_count": 0,
      "outputs": [
        {
          "output_type": "execute_result",
          "data": {
            "text/plain": [
              "(262, 4)"
            ]
          },
          "metadata": {
            "tags": []
          },
          "execution_count": 269
        }
      ]
    },
    {
      "cell_type": "code",
      "metadata": {
        "id": "cAgmtmV_BuEn",
        "colab_type": "code",
        "outputId": "1e886a0c-a827-43b8-b2b8-b82fa64f049e",
        "colab": {
          "base_uri": "https://localhost:8080/",
          "height": 102
        }
      },
      "source": [
        "data_workplace_closing.dtypes"
      ],
      "execution_count": 0,
      "outputs": [
        {
          "output_type": "execute_result",
          "data": {
            "text/plain": [
              "Country                  object\n",
              "C2_Workplace closing    float64\n",
              "Year                      int64\n",
              "Month                     int64\n",
              "dtype: object"
            ]
          },
          "metadata": {
            "tags": []
          },
          "execution_count": 270
        }
      ]
    },
    {
      "cell_type": "code",
      "metadata": {
        "id": "8FKZ1-fwBywY",
        "colab_type": "code",
        "outputId": "e0418b79-f81a-4a0d-9fbd-6354a8927a42",
        "colab": {
          "base_uri": "https://localhost:8080/",
          "height": 136
        }
      },
      "source": [
        "data_coun.dtypes"
      ],
      "execution_count": 0,
      "outputs": [
        {
          "output_type": "execute_result",
          "data": {
            "text/plain": [
              "index                   int64\n",
              "Country                object\n",
              "Lending Rate          float64\n",
              "Q2/20                 float64\n",
              "lending_rate_month     object\n",
              "lending_rate_year      object\n",
              "dtype: object"
            ]
          },
          "metadata": {
            "tags": []
          },
          "execution_count": 271
        }
      ]
    },
    {
      "cell_type": "code",
      "metadata": {
        "id": "08nl4LPLCDqx",
        "colab_type": "code",
        "outputId": "b544ab86-8889-4b1a-833b-32616e2fbebe",
        "colab": {
          "base_uri": "https://localhost:8080/",
          "height": 272
        }
      },
      "source": [
        "data_workplace_closing.groupby(['Month','Country'])['C2_Workplace closing'].count()"
      ],
      "execution_count": 0,
      "outputs": [
        {
          "output_type": "execute_result",
          "data": {
            "text/plain": [
              "Month  Country      \n",
              "2      Japan             5\n",
              "3      Australia         9\n",
              "       India            16\n",
              "       Japan            31\n",
              "       United States    13\n",
              "4      Australia        30\n",
              "       India            30\n",
              "       Japan            30\n",
              "       United States    30\n",
              "5      Australia        15\n",
              "       India            19\n",
              "       Japan            19\n",
              "       United States    15\n",
              "Name: C2_Workplace closing, dtype: int64"
            ]
          },
          "metadata": {
            "tags": []
          },
          "execution_count": 272
        }
      ]
    },
    {
      "cell_type": "code",
      "metadata": {
        "id": "88nGvn6KDeW2",
        "colab_type": "code",
        "colab": {}
      },
      "source": [
        "data_workplace_closing = data_workplace_closing.drop_duplicates(subset=['Month','Country'])"
      ],
      "execution_count": 0,
      "outputs": []
    },
    {
      "cell_type": "code",
      "metadata": {
        "id": "Iv4LSUTMC3zn",
        "colab_type": "code",
        "outputId": "06848bcd-a038-40a3-f212-40572c8dc7eb",
        "colab": {
          "base_uri": "https://localhost:8080/",
          "height": 173
        }
      },
      "source": [
        "data_coun.head()"
      ],
      "execution_count": 0,
      "outputs": [
        {
          "output_type": "execute_result",
          "data": {
            "text/html": [
              "<div>\n",
              "<style scoped>\n",
              "    .dataframe tbody tr th:only-of-type {\n",
              "        vertical-align: middle;\n",
              "    }\n",
              "\n",
              "    .dataframe tbody tr th {\n",
              "        vertical-align: top;\n",
              "    }\n",
              "\n",
              "    .dataframe thead th {\n",
              "        text-align: right;\n",
              "    }\n",
              "</style>\n",
              "<table border=\"1\" class=\"dataframe\">\n",
              "  <thead>\n",
              "    <tr style=\"text-align: right;\">\n",
              "      <th></th>\n",
              "      <th>index</th>\n",
              "      <th>Country</th>\n",
              "      <th>Lending Rate</th>\n",
              "      <th>Q2/20</th>\n",
              "      <th>lending_rate_month</th>\n",
              "      <th>lending_rate_year</th>\n",
              "    </tr>\n",
              "  </thead>\n",
              "  <tbody>\n",
              "    <tr>\n",
              "      <th>0</th>\n",
              "      <td>2</td>\n",
              "      <td>Australia</td>\n",
              "      <td>7.92</td>\n",
              "      <td>7.92</td>\n",
              "      <td>Feb</td>\n",
              "      <td>2020</td>\n",
              "    </tr>\n",
              "    <tr>\n",
              "      <th>1</th>\n",
              "      <td>23</td>\n",
              "      <td>India</td>\n",
              "      <td>9.40</td>\n",
              "      <td>9.25</td>\n",
              "      <td>Apr</td>\n",
              "      <td>2020</td>\n",
              "    </tr>\n",
              "    <tr>\n",
              "      <th>2</th>\n",
              "      <td>27</td>\n",
              "      <td>Japan</td>\n",
              "      <td>0.95</td>\n",
              "      <td>0.95</td>\n",
              "      <td>Feb</td>\n",
              "      <td>2020</td>\n",
              "    </tr>\n",
              "    <tr>\n",
              "      <th>3</th>\n",
              "      <td>54</td>\n",
              "      <td>United States</td>\n",
              "      <td>3.81</td>\n",
              "      <td>3.81</td>\n",
              "      <td>Mar</td>\n",
              "      <td>2020</td>\n",
              "    </tr>\n",
              "  </tbody>\n",
              "</table>\n",
              "</div>"
            ],
            "text/plain": [
              "   index        Country  ...  lending_rate_month  lending_rate_year\n",
              "0      2      Australia  ...                 Feb               2020\n",
              "1     23          India  ...                 Apr               2020\n",
              "2     27          Japan  ...                 Feb               2020\n",
              "3     54  United States  ...                 Mar               2020\n",
              "\n",
              "[4 rows x 6 columns]"
            ]
          },
          "metadata": {
            "tags": []
          },
          "execution_count": 274
        }
      ]
    },
    {
      "cell_type": "code",
      "metadata": {
        "id": "mxFnrFYuGz_T",
        "colab_type": "code",
        "colab": {}
      },
      "source": [
        "data_coun = data_coun.drop(['index'],axis=1)"
      ],
      "execution_count": 0,
      "outputs": []
    },
    {
      "cell_type": "code",
      "metadata": {
        "id": "8s1JuWBLH18Q",
        "colab_type": "code",
        "colab": {}
      },
      "source": [
        "data_coun = data_coun.drop(['Q2/20'],axis=1)"
      ],
      "execution_count": 0,
      "outputs": []
    },
    {
      "cell_type": "code",
      "metadata": {
        "id": "f5XHY0xeEdkV",
        "colab_type": "code",
        "colab": {}
      },
      "source": [
        "#converting all months to numbers to merge with policies.\n",
        "def convert(x):\n",
        "  val = 0\n",
        "  if(x['lending_rate_month'] == 'Jan'):\n",
        "    val =1\n",
        "  elif(x['lending_rate_month'] == 'Feb'):\n",
        "    val =2\n",
        "  elif(x['lending_rate_month'] == 'Mar'):\n",
        "    val=3\n",
        "  elif(x['lending_rate_month'] == 'Apr'):\n",
        "    val=4\n",
        "  elif(x['lending_rate_month'] == 'May'):\n",
        "    val=5\n",
        "  elif(x['lending_rate_month'] == 'Jun'):\n",
        "    val=6\n",
        "  elif(x['lending_rate_month'] == 'Jul'):\n",
        "    val=7\n",
        "  elif(x['lending_rate_month'] == 'Aug'):\n",
        "    val=8\n",
        "  elif(x['lending_rate_month'] == 'Sep'):\n",
        "    val=9\n",
        "  elif(x['lending_rate_month'] == 'Oct'):\n",
        "    val=10\n",
        "  elif(x['lending_rate_month'] == 'Nov'):\n",
        "    val=11\n",
        "  else:\n",
        "    val = 12\n",
        "  return val"
      ],
      "execution_count": 0,
      "outputs": []
    },
    {
      "cell_type": "code",
      "metadata": {
        "id": "1Uvp581GGGpz",
        "colab_type": "code",
        "colab": {}
      },
      "source": [
        "data_coun['lending_rate_month'] = data_coun.apply(convert,axis=1)"
      ],
      "execution_count": 0,
      "outputs": []
    },
    {
      "cell_type": "code",
      "metadata": {
        "id": "DIQEaGEyGP2w",
        "colab_type": "code",
        "outputId": "36493842-2920-481f-b420-2785554ce854",
        "colab": {
          "base_uri": "https://localhost:8080/",
          "height": 173
        }
      },
      "source": [
        "data_coun.head()"
      ],
      "execution_count": 0,
      "outputs": [
        {
          "output_type": "execute_result",
          "data": {
            "text/html": [
              "<div>\n",
              "<style scoped>\n",
              "    .dataframe tbody tr th:only-of-type {\n",
              "        vertical-align: middle;\n",
              "    }\n",
              "\n",
              "    .dataframe tbody tr th {\n",
              "        vertical-align: top;\n",
              "    }\n",
              "\n",
              "    .dataframe thead th {\n",
              "        text-align: right;\n",
              "    }\n",
              "</style>\n",
              "<table border=\"1\" class=\"dataframe\">\n",
              "  <thead>\n",
              "    <tr style=\"text-align: right;\">\n",
              "      <th></th>\n",
              "      <th>Country</th>\n",
              "      <th>Lending Rate</th>\n",
              "      <th>lending_rate_month</th>\n",
              "      <th>lending_rate_year</th>\n",
              "    </tr>\n",
              "  </thead>\n",
              "  <tbody>\n",
              "    <tr>\n",
              "      <th>0</th>\n",
              "      <td>Australia</td>\n",
              "      <td>7.92</td>\n",
              "      <td>2</td>\n",
              "      <td>2020</td>\n",
              "    </tr>\n",
              "    <tr>\n",
              "      <th>1</th>\n",
              "      <td>India</td>\n",
              "      <td>9.40</td>\n",
              "      <td>4</td>\n",
              "      <td>2020</td>\n",
              "    </tr>\n",
              "    <tr>\n",
              "      <th>2</th>\n",
              "      <td>Japan</td>\n",
              "      <td>0.95</td>\n",
              "      <td>2</td>\n",
              "      <td>2020</td>\n",
              "    </tr>\n",
              "    <tr>\n",
              "      <th>3</th>\n",
              "      <td>United States</td>\n",
              "      <td>3.81</td>\n",
              "      <td>3</td>\n",
              "      <td>2020</td>\n",
              "    </tr>\n",
              "  </tbody>\n",
              "</table>\n",
              "</div>"
            ],
            "text/plain": [
              "         Country  Lending Rate  lending_rate_month lending_rate_year\n",
              "0      Australia          7.92                   2              2020\n",
              "1          India          9.40                   4              2020\n",
              "2          Japan          0.95                   2              2020\n",
              "3  United States          3.81                   3              2020"
            ]
          },
          "metadata": {
            "tags": []
          },
          "execution_count": 279
        }
      ]
    },
    {
      "cell_type": "code",
      "metadata": {
        "id": "UhaKYRh2GT8A",
        "colab_type": "code",
        "colab": {}
      },
      "source": [
        "data_coun['lending_rate_year'] = data_coun['lending_rate_year'].astype(int)"
      ],
      "execution_count": 0,
      "outputs": []
    },
    {
      "cell_type": "code",
      "metadata": {
        "id": "8c4NSniiGb5_",
        "colab_type": "code",
        "outputId": "dae959d6-5639-4bc1-ce47-6349c16205c2",
        "colab": {
          "base_uri": "https://localhost:8080/",
          "height": 102
        }
      },
      "source": [
        "data_coun.dtypes"
      ],
      "execution_count": 0,
      "outputs": [
        {
          "output_type": "execute_result",
          "data": {
            "text/plain": [
              "Country                object\n",
              "Lending Rate          float64\n",
              "lending_rate_month      int64\n",
              "lending_rate_year       int64\n",
              "dtype: object"
            ]
          },
          "metadata": {
            "tags": []
          },
          "execution_count": 281
        }
      ]
    },
    {
      "cell_type": "code",
      "metadata": {
        "id": "oZJdbSzjGeou",
        "colab_type": "code",
        "colab": {}
      },
      "source": [
        "data_coun.rename(columns={'lending_rate_month':'Month', 'lending_rate_year':'Year'},inplace=True)"
      ],
      "execution_count": 0,
      "outputs": []
    },
    {
      "cell_type": "code",
      "metadata": {
        "id": "UYBkvi8vGuPA",
        "colab_type": "code",
        "outputId": "7ed8f569-8581-4a54-8c51-85517bcfc30e",
        "colab": {
          "base_uri": "https://localhost:8080/",
          "height": 173
        }
      },
      "source": [
        "data_coun.head(10)"
      ],
      "execution_count": 0,
      "outputs": [
        {
          "output_type": "execute_result",
          "data": {
            "text/html": [
              "<div>\n",
              "<style scoped>\n",
              "    .dataframe tbody tr th:only-of-type {\n",
              "        vertical-align: middle;\n",
              "    }\n",
              "\n",
              "    .dataframe tbody tr th {\n",
              "        vertical-align: top;\n",
              "    }\n",
              "\n",
              "    .dataframe thead th {\n",
              "        text-align: right;\n",
              "    }\n",
              "</style>\n",
              "<table border=\"1\" class=\"dataframe\">\n",
              "  <thead>\n",
              "    <tr style=\"text-align: right;\">\n",
              "      <th></th>\n",
              "      <th>Country</th>\n",
              "      <th>Lending Rate</th>\n",
              "      <th>Month</th>\n",
              "      <th>Year</th>\n",
              "    </tr>\n",
              "  </thead>\n",
              "  <tbody>\n",
              "    <tr>\n",
              "      <th>0</th>\n",
              "      <td>Australia</td>\n",
              "      <td>7.92</td>\n",
              "      <td>2</td>\n",
              "      <td>2020</td>\n",
              "    </tr>\n",
              "    <tr>\n",
              "      <th>1</th>\n",
              "      <td>India</td>\n",
              "      <td>9.40</td>\n",
              "      <td>4</td>\n",
              "      <td>2020</td>\n",
              "    </tr>\n",
              "    <tr>\n",
              "      <th>2</th>\n",
              "      <td>Japan</td>\n",
              "      <td>0.95</td>\n",
              "      <td>2</td>\n",
              "      <td>2020</td>\n",
              "    </tr>\n",
              "    <tr>\n",
              "      <th>3</th>\n",
              "      <td>United States</td>\n",
              "      <td>3.81</td>\n",
              "      <td>3</td>\n",
              "      <td>2020</td>\n",
              "    </tr>\n",
              "  </tbody>\n",
              "</table>\n",
              "</div>"
            ],
            "text/plain": [
              "         Country  Lending Rate  Month  Year\n",
              "0      Australia          7.92      2  2020\n",
              "1          India          9.40      4  2020\n",
              "2          Japan          0.95      2  2020\n",
              "3  United States          3.81      3  2020"
            ]
          },
          "metadata": {
            "tags": []
          },
          "execution_count": 283
        }
      ]
    },
    {
      "cell_type": "code",
      "metadata": {
        "id": "N-Ya9IrPYD3Z",
        "colab_type": "code",
        "outputId": "1125c67f-6bb4-4fc2-e626-5573a804588a",
        "colab": {
          "base_uri": "https://localhost:8080/",
          "height": 359
        }
      },
      "source": [
        "data_workplace_closing.head(10)"
      ],
      "execution_count": 0,
      "outputs": [
        {
          "output_type": "execute_result",
          "data": {
            "text/html": [
              "<div>\n",
              "<style scoped>\n",
              "    .dataframe tbody tr th:only-of-type {\n",
              "        vertical-align: middle;\n",
              "    }\n",
              "\n",
              "    .dataframe tbody tr th {\n",
              "        vertical-align: top;\n",
              "    }\n",
              "\n",
              "    .dataframe thead th {\n",
              "        text-align: right;\n",
              "    }\n",
              "</style>\n",
              "<table border=\"1\" class=\"dataframe\">\n",
              "  <thead>\n",
              "    <tr style=\"text-align: right;\">\n",
              "      <th></th>\n",
              "      <th>Country</th>\n",
              "      <th>C2_Workplace closing</th>\n",
              "      <th>Year</th>\n",
              "      <th>Month</th>\n",
              "    </tr>\n",
              "  </thead>\n",
              "  <tbody>\n",
              "    <tr>\n",
              "      <th>0</th>\n",
              "      <td>Australia</td>\n",
              "      <td>2.0</td>\n",
              "      <td>2020</td>\n",
              "      <td>3</td>\n",
              "    </tr>\n",
              "    <tr>\n",
              "      <th>9</th>\n",
              "      <td>Australia</td>\n",
              "      <td>2.0</td>\n",
              "      <td>2020</td>\n",
              "      <td>4</td>\n",
              "    </tr>\n",
              "    <tr>\n",
              "      <th>39</th>\n",
              "      <td>Australia</td>\n",
              "      <td>2.0</td>\n",
              "      <td>2020</td>\n",
              "      <td>5</td>\n",
              "    </tr>\n",
              "    <tr>\n",
              "      <th>54</th>\n",
              "      <td>India</td>\n",
              "      <td>1.0</td>\n",
              "      <td>2020</td>\n",
              "      <td>3</td>\n",
              "    </tr>\n",
              "    <tr>\n",
              "      <th>70</th>\n",
              "      <td>India</td>\n",
              "      <td>3.0</td>\n",
              "      <td>2020</td>\n",
              "      <td>4</td>\n",
              "    </tr>\n",
              "    <tr>\n",
              "      <th>100</th>\n",
              "      <td>India</td>\n",
              "      <td>2.0</td>\n",
              "      <td>2020</td>\n",
              "      <td>5</td>\n",
              "    </tr>\n",
              "    <tr>\n",
              "      <th>119</th>\n",
              "      <td>Japan</td>\n",
              "      <td>1.0</td>\n",
              "      <td>2020</td>\n",
              "      <td>2</td>\n",
              "    </tr>\n",
              "    <tr>\n",
              "      <th>124</th>\n",
              "      <td>Japan</td>\n",
              "      <td>1.0</td>\n",
              "      <td>2020</td>\n",
              "      <td>3</td>\n",
              "    </tr>\n",
              "    <tr>\n",
              "      <th>155</th>\n",
              "      <td>Japan</td>\n",
              "      <td>1.0</td>\n",
              "      <td>2020</td>\n",
              "      <td>4</td>\n",
              "    </tr>\n",
              "    <tr>\n",
              "      <th>185</th>\n",
              "      <td>Japan</td>\n",
              "      <td>1.0</td>\n",
              "      <td>2020</td>\n",
              "      <td>5</td>\n",
              "    </tr>\n",
              "  </tbody>\n",
              "</table>\n",
              "</div>"
            ],
            "text/plain": [
              "       Country  C2_Workplace closing  Year  Month\n",
              "0    Australia                   2.0  2020      3\n",
              "9    Australia                   2.0  2020      4\n",
              "39   Australia                   2.0  2020      5\n",
              "54       India                   1.0  2020      3\n",
              "70       India                   3.0  2020      4\n",
              "100      India                   2.0  2020      5\n",
              "119      Japan                   1.0  2020      2\n",
              "124      Japan                   1.0  2020      3\n",
              "155      Japan                   1.0  2020      4\n",
              "185      Japan                   1.0  2020      5"
            ]
          },
          "metadata": {
            "tags": []
          },
          "execution_count": 284
        }
      ]
    },
    {
      "cell_type": "code",
      "metadata": {
        "id": "7Dy_2ulcHh8k",
        "colab_type": "code",
        "colab": {}
      },
      "source": [
        "cols=['Country','Year','Month']"
      ],
      "execution_count": 0,
      "outputs": []
    },
    {
      "cell_type": "code",
      "metadata": {
        "id": "KtBsjS1yG_zV",
        "colab_type": "code",
        "colab": {}
      },
      "source": [
        "merge_policies_banklend = pd.merge(data_workplace_closing,data_coun,on=cols)"
      ],
      "execution_count": 0,
      "outputs": []
    },
    {
      "cell_type": "code",
      "metadata": {
        "id": "BflF70fqHZvc",
        "colab_type": "code",
        "outputId": "3079c67a-291e-429b-e4b8-8d8fd9913b36",
        "colab": {
          "base_uri": "https://localhost:8080/",
          "height": 142
        }
      },
      "source": [
        "merge_policies_banklend.head(10)"
      ],
      "execution_count": 0,
      "outputs": [
        {
          "output_type": "execute_result",
          "data": {
            "text/html": [
              "<div>\n",
              "<style scoped>\n",
              "    .dataframe tbody tr th:only-of-type {\n",
              "        vertical-align: middle;\n",
              "    }\n",
              "\n",
              "    .dataframe tbody tr th {\n",
              "        vertical-align: top;\n",
              "    }\n",
              "\n",
              "    .dataframe thead th {\n",
              "        text-align: right;\n",
              "    }\n",
              "</style>\n",
              "<table border=\"1\" class=\"dataframe\">\n",
              "  <thead>\n",
              "    <tr style=\"text-align: right;\">\n",
              "      <th></th>\n",
              "      <th>Country</th>\n",
              "      <th>C2_Workplace closing</th>\n",
              "      <th>Year</th>\n",
              "      <th>Month</th>\n",
              "      <th>Lending Rate</th>\n",
              "    </tr>\n",
              "  </thead>\n",
              "  <tbody>\n",
              "    <tr>\n",
              "      <th>0</th>\n",
              "      <td>India</td>\n",
              "      <td>3.0</td>\n",
              "      <td>2020</td>\n",
              "      <td>4</td>\n",
              "      <td>9.40</td>\n",
              "    </tr>\n",
              "    <tr>\n",
              "      <th>1</th>\n",
              "      <td>Japan</td>\n",
              "      <td>1.0</td>\n",
              "      <td>2020</td>\n",
              "      <td>2</td>\n",
              "      <td>0.95</td>\n",
              "    </tr>\n",
              "    <tr>\n",
              "      <th>2</th>\n",
              "      <td>United States</td>\n",
              "      <td>3.0</td>\n",
              "      <td>2020</td>\n",
              "      <td>3</td>\n",
              "      <td>3.81</td>\n",
              "    </tr>\n",
              "  </tbody>\n",
              "</table>\n",
              "</div>"
            ],
            "text/plain": [
              "         Country  C2_Workplace closing  Year  Month  Lending Rate\n",
              "0          India                   3.0  2020      4          9.40\n",
              "1          Japan                   1.0  2020      2          0.95\n",
              "2  United States                   3.0  2020      3          3.81"
            ]
          },
          "metadata": {
            "tags": []
          },
          "execution_count": 287
        }
      ]
    },
    {
      "cell_type": "code",
      "metadata": {
        "id": "Wd4-gAKeIBBT",
        "colab_type": "code",
        "outputId": "05f4962a-2902-46ba-95f4-aeec9f81afcf",
        "colab": {
          "base_uri": "https://localhost:8080/",
          "height": 173
        }
      },
      "source": [
        "data_coun.head(10)"
      ],
      "execution_count": 0,
      "outputs": [
        {
          "output_type": "execute_result",
          "data": {
            "text/html": [
              "<div>\n",
              "<style scoped>\n",
              "    .dataframe tbody tr th:only-of-type {\n",
              "        vertical-align: middle;\n",
              "    }\n",
              "\n",
              "    .dataframe tbody tr th {\n",
              "        vertical-align: top;\n",
              "    }\n",
              "\n",
              "    .dataframe thead th {\n",
              "        text-align: right;\n",
              "    }\n",
              "</style>\n",
              "<table border=\"1\" class=\"dataframe\">\n",
              "  <thead>\n",
              "    <tr style=\"text-align: right;\">\n",
              "      <th></th>\n",
              "      <th>Country</th>\n",
              "      <th>Lending Rate</th>\n",
              "      <th>Month</th>\n",
              "      <th>Year</th>\n",
              "    </tr>\n",
              "  </thead>\n",
              "  <tbody>\n",
              "    <tr>\n",
              "      <th>0</th>\n",
              "      <td>Australia</td>\n",
              "      <td>7.92</td>\n",
              "      <td>2</td>\n",
              "      <td>2020</td>\n",
              "    </tr>\n",
              "    <tr>\n",
              "      <th>1</th>\n",
              "      <td>India</td>\n",
              "      <td>9.40</td>\n",
              "      <td>4</td>\n",
              "      <td>2020</td>\n",
              "    </tr>\n",
              "    <tr>\n",
              "      <th>2</th>\n",
              "      <td>Japan</td>\n",
              "      <td>0.95</td>\n",
              "      <td>2</td>\n",
              "      <td>2020</td>\n",
              "    </tr>\n",
              "    <tr>\n",
              "      <th>3</th>\n",
              "      <td>United States</td>\n",
              "      <td>3.81</td>\n",
              "      <td>3</td>\n",
              "      <td>2020</td>\n",
              "    </tr>\n",
              "  </tbody>\n",
              "</table>\n",
              "</div>"
            ],
            "text/plain": [
              "         Country  Lending Rate  Month  Year\n",
              "0      Australia          7.92      2  2020\n",
              "1          India          9.40      4  2020\n",
              "2          Japan          0.95      2  2020\n",
              "3  United States          3.81      3  2020"
            ]
          },
          "metadata": {
            "tags": []
          },
          "execution_count": 288
        }
      ]
    },
    {
      "cell_type": "code",
      "metadata": {
        "id": "dyWnUqT1IGaU",
        "colab_type": "code",
        "outputId": "eb040084-6b67-42d7-a211-4f45c91ed936",
        "colab": {
          "base_uri": "https://localhost:8080/",
          "height": 173
        }
      },
      "source": [
        "merge_policies_banklend.groupby(['Month','Country']).count()"
      ],
      "execution_count": 0,
      "outputs": [
        {
          "output_type": "execute_result",
          "data": {
            "text/html": [
              "<div>\n",
              "<style scoped>\n",
              "    .dataframe tbody tr th:only-of-type {\n",
              "        vertical-align: middle;\n",
              "    }\n",
              "\n",
              "    .dataframe tbody tr th {\n",
              "        vertical-align: top;\n",
              "    }\n",
              "\n",
              "    .dataframe thead th {\n",
              "        text-align: right;\n",
              "    }\n",
              "</style>\n",
              "<table border=\"1\" class=\"dataframe\">\n",
              "  <thead>\n",
              "    <tr style=\"text-align: right;\">\n",
              "      <th></th>\n",
              "      <th></th>\n",
              "      <th>C2_Workplace closing</th>\n",
              "      <th>Year</th>\n",
              "      <th>Lending Rate</th>\n",
              "    </tr>\n",
              "    <tr>\n",
              "      <th>Month</th>\n",
              "      <th>Country</th>\n",
              "      <th></th>\n",
              "      <th></th>\n",
              "      <th></th>\n",
              "    </tr>\n",
              "  </thead>\n",
              "  <tbody>\n",
              "    <tr>\n",
              "      <th>2</th>\n",
              "      <th>Japan</th>\n",
              "      <td>1</td>\n",
              "      <td>1</td>\n",
              "      <td>1</td>\n",
              "    </tr>\n",
              "    <tr>\n",
              "      <th>3</th>\n",
              "      <th>United States</th>\n",
              "      <td>1</td>\n",
              "      <td>1</td>\n",
              "      <td>1</td>\n",
              "    </tr>\n",
              "    <tr>\n",
              "      <th>4</th>\n",
              "      <th>India</th>\n",
              "      <td>1</td>\n",
              "      <td>1</td>\n",
              "      <td>1</td>\n",
              "    </tr>\n",
              "  </tbody>\n",
              "</table>\n",
              "</div>"
            ],
            "text/plain": [
              "                     C2_Workplace closing  Year  Lending Rate\n",
              "Month Country                                                \n",
              "2     Japan                             1     1             1\n",
              "3     United States                     1     1             1\n",
              "4     India                             1     1             1"
            ]
          },
          "metadata": {
            "tags": []
          },
          "execution_count": 289
        }
      ]
    },
    {
      "cell_type": "code",
      "metadata": {
        "id": "Ql_zt1eFISJh",
        "colab_type": "code",
        "colab": {}
      },
      "source": [
        "#merge_policies_banklend.drop_duplicates(subset=['Month','Country'])"
      ],
      "execution_count": 0,
      "outputs": []
    },
    {
      "cell_type": "code",
      "metadata": {
        "id": "NbYGZ3S2IWfj",
        "colab_type": "code",
        "outputId": "97f4099e-bc7c-452b-81f8-03d9a9965670",
        "colab": {
          "base_uri": "https://localhost:8080/",
          "height": 142
        }
      },
      "source": [
        "merge_policies_banklend.head(10)"
      ],
      "execution_count": 0,
      "outputs": [
        {
          "output_type": "execute_result",
          "data": {
            "text/html": [
              "<div>\n",
              "<style scoped>\n",
              "    .dataframe tbody tr th:only-of-type {\n",
              "        vertical-align: middle;\n",
              "    }\n",
              "\n",
              "    .dataframe tbody tr th {\n",
              "        vertical-align: top;\n",
              "    }\n",
              "\n",
              "    .dataframe thead th {\n",
              "        text-align: right;\n",
              "    }\n",
              "</style>\n",
              "<table border=\"1\" class=\"dataframe\">\n",
              "  <thead>\n",
              "    <tr style=\"text-align: right;\">\n",
              "      <th></th>\n",
              "      <th>Country</th>\n",
              "      <th>C2_Workplace closing</th>\n",
              "      <th>Year</th>\n",
              "      <th>Month</th>\n",
              "      <th>Lending Rate</th>\n",
              "    </tr>\n",
              "  </thead>\n",
              "  <tbody>\n",
              "    <tr>\n",
              "      <th>0</th>\n",
              "      <td>India</td>\n",
              "      <td>3.0</td>\n",
              "      <td>2020</td>\n",
              "      <td>4</td>\n",
              "      <td>9.40</td>\n",
              "    </tr>\n",
              "    <tr>\n",
              "      <th>1</th>\n",
              "      <td>Japan</td>\n",
              "      <td>1.0</td>\n",
              "      <td>2020</td>\n",
              "      <td>2</td>\n",
              "      <td>0.95</td>\n",
              "    </tr>\n",
              "    <tr>\n",
              "      <th>2</th>\n",
              "      <td>United States</td>\n",
              "      <td>3.0</td>\n",
              "      <td>2020</td>\n",
              "      <td>3</td>\n",
              "      <td>3.81</td>\n",
              "    </tr>\n",
              "  </tbody>\n",
              "</table>\n",
              "</div>"
            ],
            "text/plain": [
              "         Country  C2_Workplace closing  Year  Month  Lending Rate\n",
              "0          India                   3.0  2020      4          9.40\n",
              "1          Japan                   1.0  2020      2          0.95\n",
              "2  United States                   3.0  2020      3          3.81"
            ]
          },
          "metadata": {
            "tags": []
          },
          "execution_count": 291
        }
      ]
    },
    {
      "cell_type": "code",
      "metadata": {
        "id": "MXlWTcD3RL59",
        "colab_type": "code",
        "colab": {}
      },
      "source": [
        "corr_data = merge_policies_banklend.corr()"
      ],
      "execution_count": 0,
      "outputs": []
    },
    {
      "cell_type": "code",
      "metadata": {
        "id": "wbj8r5gGIwcW",
        "colab_type": "code",
        "outputId": "f566951d-4770-451a-bc41-f3311e074687",
        "colab": {
          "base_uri": "https://localhost:8080/",
          "height": 287
        }
      },
      "source": [
        "sns.heatmap(corr_data)"
      ],
      "execution_count": 0,
      "outputs": [
        {
          "output_type": "execute_result",
          "data": {
            "text/plain": [
              "<matplotlib.axes._subplots.AxesSubplot at 0x7f845c3d5908>"
            ]
          },
          "metadata": {
            "tags": []
          },
          "execution_count": 293
        },
        {
          "output_type": "display_data",
          "data": {
            "image/png": "[encoded data removed]",
            "text/plain": [
              "<Figure size 432x288 with 2 Axes>"
            ]
          },
          "metadata": {
            "tags": [],
            "needs_background": "light"
          }
        }
      ]
    },
    {
      "cell_type": "code",
      "metadata": {
        "id": "8A1W8LAmRYoj",
        "colab_type": "code",
        "outputId": "4f780f12-04b0-4a0b-99a0-ba061792fd34",
        "colab": {
          "base_uri": "https://localhost:8080/",
          "height": 282
        }
      },
      "source": [
        "plt.plot(merge_policies_banklend['Month'],merge_policies_banklend['Lending Rate'])"
      ],
      "execution_count": 0,
      "outputs": [
        {
          "output_type": "execute_result",
          "data": {
            "text/plain": [
              "[<matplotlib.lines.Line2D at 0x7f845c348748>]"
            ]
          },
          "metadata": {
            "tags": []
          },
          "execution_count": 294
        },
        {
          "output_type": "display_data",
          "data": {
            "image/png": "[encoded data removed]",
            "text/plain": [
              "<Figure size 432x288 with 1 Axes>"
            ]
          },
          "metadata": {
            "tags": [],
            "needs_background": "light"
          }
        }
      ]
    },
    {
      "cell_type": "code",
      "metadata": {
        "id": "4K2kICt2TZW2",
        "colab_type": "code",
        "outputId": "3d45bacd-8ee4-4026-8b5a-bd5e696e3798",
        "colab": {
          "base_uri": "https://localhost:8080/",
          "height": 347
        }
      },
      "source": [
        "sns.scatterplot(x=\"Month\", y=\"Lending Rate\",\n",
        "                  hue=\"Country\",\n",
        "                  data=merge_policies_banklend)\n",
        "plt.xticks([2.0,3.0,4.0])"
      ],
      "execution_count": 0,
      "outputs": [
        {
          "output_type": "execute_result",
          "data": {
            "text/plain": [
              "([<matplotlib.axis.XTick at 0x7f845c0c48d0>,\n",
              "  <matplotlib.axis.XTick at 0x7f845c0c4588>,\n",
              "  <matplotlib.axis.XTick at 0x7f845c07d128>],\n",
              " <a list of 3 Text major ticklabel objects>)"
            ]
          },
          "metadata": {
            "tags": []
          },
          "execution_count": 299
        },
        {
          "output_type": "display_data",
          "data": {
            "image/png": "[encoded data removed]",
            "text/plain": [
              "<Figure size 432x288 with 1 Axes>"
            ]
          },
          "metadata": {
            "tags": [],
            "needs_background": "light"
          }
        }
      ]
    },
    {
      "cell_type": "code",
      "metadata": {
        "id": "QZJW22gZUWeP",
        "colab_type": "code",
        "outputId": "8c52f7ed-f329-4f34-92fc-06604e88917c",
        "colab": {
          "base_uri": "https://localhost:8080/",
          "height": 330
        }
      },
      "source": [
        "sns.scatterplot(x=\"Month\", y=\"C2_Workplace closing\",\n",
        "                   hue=\"Country\",\n",
        "                  data=merge_policies_banklend)\n",
        "plt.xticks([2.0,3.0,4.0])\n",
        "plt.yticks([1.0,3.0])"
      ],
      "execution_count": 0,
      "outputs": [
        {
          "output_type": "execute_result",
          "data": {
            "text/plain": [
              "([<matplotlib.axis.YTick at 0x7f845c04f390>,\n",
              "  <matplotlib.axis.YTick at 0x7f845c0380b8>],\n",
              " <a list of 2 Text major ticklabel objects>)"
            ]
          },
          "metadata": {
            "tags": []
          },
          "execution_count": 300
        },
        {
          "output_type": "display_data",
          "data": {
            "image/png": "[encoded data removed]",
            "text/plain": [
              "<Figure size 432x288 with 1 Axes>"
            ]
          },
          "metadata": {
            "tags": [],
            "needs_background": "light"
          }
        }
      ]
    },
    {
      "cell_type": "code",
      "metadata": {
        "id": "zxzzyIa3zNeY",
        "colab_type": "code",
        "outputId": "40522f12-32f6-4cb8-fd03-be1a7bcf1115",
        "colab": {
          "base_uri": "https://localhost:8080/",
          "height": 297
        }
      },
      "source": [
        "sns.scatterplot(x=\"C2_Workplace closing\", y=\"Lending Rate\",\n",
        "                   hue=\"Country\",\n",
        "                  data=merge_policies_banklend)"
      ],
      "execution_count": 0,
      "outputs": [
        {
          "output_type": "execute_result",
          "data": {
            "text/plain": [
              "<matplotlib.axes._subplots.AxesSubplot at 0x7f845c3dcd30>"
            ]
          },
          "metadata": {
            "tags": []
          },
          "execution_count": 297
        },
        {
          "output_type": "display_data",
          "data": {
            "image/png": "[encoded data removed]",
            "text/plain": [
              "<Figure size 432x288 with 1 Axes>"
            ]
          },
          "metadata": {
            "tags": [],
            "needs_background": "light"
          }
        }
      ]
    }
  ]
}