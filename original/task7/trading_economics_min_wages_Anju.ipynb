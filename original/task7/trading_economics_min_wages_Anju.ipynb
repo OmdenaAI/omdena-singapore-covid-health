{
  "nbformat": 4,
  "nbformat_minor": 0,
  "metadata": {
    "colab": {
      "name": "trading_economics_min_wages_Anju.ipynb",
      "provenance": []
    },
    "kernelspec": {
      "name": "python3",
      "display_name": "Python 3"
    }
  },
  "cells": [
    {
      "cell_type": "code",
      "metadata": {
        "id": "4cjtQO-HDSz4",
        "colab_type": "code",
        "colab": {
          "base_uri": "https://localhost:8080/",
          "height": 34
        },
        "outputId": "f1f2b2cc-a718-4be8-a90b-3a1e766a3d44"
      },
      "source": [
        "from google.colab import drive\n",
        "\n",
        "drive.mount('/content/gdrive')"
      ],
      "execution_count": 148,
      "outputs": [
        {
          "output_type": "stream",
          "text": [
            "Drive already mounted at /content/gdrive; to attempt to forcibly remount, call drive.mount(\"/content/gdrive\", force_remount=True).\n"
          ],
          "name": "stdout"
        }
      ]
    },
    {
      "cell_type": "code",
      "metadata": {
        "id": "fIrfkOmFDnjR",
        "colab_type": "code",
        "colab": {
          "base_uri": "https://localhost:8080/",
          "height": 357
        },
        "outputId": "905b8a00-e52e-493b-f6b1-ed827bc0e474"
      },
      "source": [
        "!ls \"/content/gdrive/My Drive/Omdena Pandemic\""
      ],
      "execution_count": 149,
      "outputs": [
        {
          "output_type": "stream",
          "text": [
            "'COVID19EconomicImpact 10Mar2020.csv'\n",
            " data\n",
            " excahnge_rates.csv\n",
            " exchange.csv\n",
            "'Goal for me for this project.gdoc'\n",
            "'Goals for Omdena Pandemic.gdoc'\n",
            " IDD-metadata-by-country.csv\n",
            " IDD-metadata-by-country.xlsx\n",
            " minimum_wages.gsheet\n",
            " minimum_wages_te.csv\n",
            "'minimum_wages_trading economics.gsheet'\n",
            " NavTree_t2020_h_en.zip\n",
            "'Omdena Pandemic Challenge Dataset Sheets.xlsx'\n",
            " t2020_10.tsv\n",
            " t2020_10.tsv.gz\n",
            " t2020_h\n",
            " trading_economics_draft.ipynb\n",
            " trading_economics_min_wages_Anju.ipynb\n",
            " wage_data_test1.ipynb\n",
            " wage_subsidy.gsheet\n"
          ],
          "name": "stdout"
        }
      ]
    },
    {
      "cell_type": "code",
      "metadata": {
        "id": "PaCSMO0iDpyh",
        "colab_type": "code",
        "colab": {}
      },
      "source": [
        "rate = \"/content/gdrive/My Drive/Omdena Pandemic/excahnge_rates.csv\"\n",
        "drive = \"/content/gdrive/My Drive/Omdena Pandemic/minimum_wages_te.csv\""
      ],
      "execution_count": 0,
      "outputs": []
    },
    {
      "cell_type": "code",
      "metadata": {
        "id": "5DPnEG4kDxK8",
        "colab_type": "code",
        "colab": {}
      },
      "source": [
        "import pandas as pd\n",
        "import numpy as np\n",
        "import matplotlib.pyplot as plt\n",
        "import seaborn as sns\n",
        "\n",
        "%matplotlib inline"
      ],
      "execution_count": 0,
      "outputs": []
    },
    {
      "cell_type": "code",
      "metadata": {
        "id": "ciN-5zKQD0ED",
        "colab_type": "code",
        "colab": {}
      },
      "source": [
        "data = pd.read_csv(rate)"
      ],
      "execution_count": 0,
      "outputs": []
    },
    {
      "cell_type": "code",
      "metadata": {
        "id": "C7RdsP3WD264",
        "colab_type": "code",
        "colab": {
          "base_uri": "https://localhost:8080/",
          "height": 204
        },
        "outputId": "10095962-6395-4411-e7b5-1e4155c00247"
      },
      "source": [
        "data.head()"
      ],
      "execution_count": 153,
      "outputs": [
        {
          "output_type": "execute_result",
          "data": {
            "text/html": [
              "<div>\n",
              "<style scoped>\n",
              "    .dataframe tbody tr th:only-of-type {\n",
              "        vertical-align: middle;\n",
              "    }\n",
              "\n",
              "    .dataframe tbody tr th {\n",
              "        vertical-align: top;\n",
              "    }\n",
              "\n",
              "    .dataframe thead th {\n",
              "        text-align: right;\n",
              "    }\n",
              "</style>\n",
              "<table border=\"1\" class=\"dataframe\">\n",
              "  <thead>\n",
              "    <tr style=\"text-align: right;\">\n",
              "      <th></th>\n",
              "      <th>Location</th>\n",
              "      <th>2019</th>\n",
              "    </tr>\n",
              "  </thead>\n",
              "  <tbody>\n",
              "    <tr>\n",
              "      <th>0</th>\n",
              "      <td>Argentina</td>\n",
              "      <td>48.148</td>\n",
              "    </tr>\n",
              "    <tr>\n",
              "      <th>1</th>\n",
              "      <td>Australia</td>\n",
              "      <td>1.439</td>\n",
              "    </tr>\n",
              "    <tr>\n",
              "      <th>2</th>\n",
              "      <td>Austria</td>\n",
              "      <td>0.893</td>\n",
              "    </tr>\n",
              "    <tr>\n",
              "      <th>3</th>\n",
              "      <td>Belgium</td>\n",
              "      <td>0.893</td>\n",
              "    </tr>\n",
              "    <tr>\n",
              "      <th>4</th>\n",
              "      <td>Brazil</td>\n",
              "      <td>3.927</td>\n",
              "    </tr>\n",
              "  </tbody>\n",
              "</table>\n",
              "</div>"
            ],
            "text/plain": [
              "    Location    2019\n",
              "0  Argentina  48.148\n",
              "1  Australia   1.439\n",
              "2    Austria   0.893\n",
              "3    Belgium   0.893\n",
              "4     Brazil   3.927"
            ]
          },
          "metadata": {
            "tags": []
          },
          "execution_count": 153
        }
      ]
    },
    {
      "cell_type": "code",
      "metadata": {
        "id": "OWIOyIX1D4zp",
        "colab_type": "code",
        "colab": {}
      },
      "source": [
        "data.rename(columns={'Location':'Country','2019':\"Rate\"},inplace=True)"
      ],
      "execution_count": 0,
      "outputs": []
    },
    {
      "cell_type": "code",
      "metadata": {
        "id": "u6-LBxSmE8mc",
        "colab_type": "code",
        "colab": {
          "base_uri": "https://localhost:8080/",
          "height": 204
        },
        "outputId": "672cfd2d-471c-406d-ae40-89320fd75b9b"
      },
      "source": [
        "data.head()"
      ],
      "execution_count": 155,
      "outputs": [
        {
          "output_type": "execute_result",
          "data": {
            "text/html": [
              "<div>\n",
              "<style scoped>\n",
              "    .dataframe tbody tr th:only-of-type {\n",
              "        vertical-align: middle;\n",
              "    }\n",
              "\n",
              "    .dataframe tbody tr th {\n",
              "        vertical-align: top;\n",
              "    }\n",
              "\n",
              "    .dataframe thead th {\n",
              "        text-align: right;\n",
              "    }\n",
              "</style>\n",
              "<table border=\"1\" class=\"dataframe\">\n",
              "  <thead>\n",
              "    <tr style=\"text-align: right;\">\n",
              "      <th></th>\n",
              "      <th>Country</th>\n",
              "      <th>Rate</th>\n",
              "    </tr>\n",
              "  </thead>\n",
              "  <tbody>\n",
              "    <tr>\n",
              "      <th>0</th>\n",
              "      <td>Argentina</td>\n",
              "      <td>48.148</td>\n",
              "    </tr>\n",
              "    <tr>\n",
              "      <th>1</th>\n",
              "      <td>Australia</td>\n",
              "      <td>1.439</td>\n",
              "    </tr>\n",
              "    <tr>\n",
              "      <th>2</th>\n",
              "      <td>Austria</td>\n",
              "      <td>0.893</td>\n",
              "    </tr>\n",
              "    <tr>\n",
              "      <th>3</th>\n",
              "      <td>Belgium</td>\n",
              "      <td>0.893</td>\n",
              "    </tr>\n",
              "    <tr>\n",
              "      <th>4</th>\n",
              "      <td>Brazil</td>\n",
              "      <td>3.927</td>\n",
              "    </tr>\n",
              "  </tbody>\n",
              "</table>\n",
              "</div>"
            ],
            "text/plain": [
              "     Country    Rate\n",
              "0  Argentina  48.148\n",
              "1  Australia   1.439\n",
              "2    Austria   0.893\n",
              "3    Belgium   0.893\n",
              "4     Brazil   3.927"
            ]
          },
          "metadata": {
            "tags": []
          },
          "execution_count": 155
        }
      ]
    },
    {
      "cell_type": "code",
      "metadata": {
        "id": "H6dtmRGuE_a0",
        "colab_type": "code",
        "colab": {
          "base_uri": "https://localhost:8080/",
          "height": 34
        },
        "outputId": "9cafa58f-066a-44ca-b43f-55e8e75c01bc"
      },
      "source": [
        "data.shape"
      ],
      "execution_count": 156,
      "outputs": [
        {
          "output_type": "execute_result",
          "data": {
            "text/plain": [
              "(60, 2)"
            ]
          },
          "metadata": {
            "tags": []
          },
          "execution_count": 156
        }
      ]
    },
    {
      "cell_type": "code",
      "metadata": {
        "id": "oGXpMMYxFXw1",
        "colab_type": "code",
        "colab": {
          "base_uri": "https://localhost:8080/",
          "height": 1000
        },
        "outputId": "6565faa8-09ae-4a3a-af43-e289eb7eb5fb"
      },
      "source": [
        "data['Country']"
      ],
      "execution_count": 157,
      "outputs": [
        {
          "output_type": "execute_result",
          "data": {
            "text/plain": [
              "0                         Argentina\n",
              "1                         Australia\n",
              "2                           Austria\n",
              "3                           Belgium\n",
              "4                            Brazil\n",
              "5                          Bulgaria\n",
              "6                            Canada\n",
              "7                             Chile\n",
              "8      China (People's Republic of)\n",
              "9                          Colombia\n",
              "10                       Costa Rica\n",
              "11                          Croatia\n",
              "12                           Cyprus\n",
              "13                   Czech Republic\n",
              "14                          Denmark\n",
              "15                          Estonia\n",
              "16         Euro area (19 countries)\n",
              "17    European Union (28 countries)\n",
              "18                          Finland\n",
              "19                           France\n",
              "20                          Germany\n",
              "21                           Greece\n",
              "22                 Hong Kong, China\n",
              "23                          Hungary\n",
              "24                          Iceland\n",
              "25                            India\n",
              "26                        Indonesia\n",
              "27                          Ireland\n",
              "28                           Israel\n",
              "29                            Italy\n",
              "30                            Japan\n",
              "31                            Korea\n",
              "32                           Latvia\n",
              "33                        Lithuania\n",
              "34                       Luxembourg\n",
              "35                       Madagascar\n",
              "36                            Malta\n",
              "37                           Mexico\n",
              "38                          Morocco\n",
              "39                      Netherlands\n",
              "40                      New Zealand\n",
              "41                  North Macedonia\n",
              "42                           Norway\n",
              "43                             Peru\n",
              "44                           Poland\n",
              "45                         Portugal\n",
              "46                          Romania\n",
              "47                           Russia\n",
              "48                     Saudi Arabia\n",
              "49                           Serbia\n",
              "50                  Slovak Republic\n",
              "51                         Slovenia\n",
              "52                     South Africa\n",
              "53                            Spain\n",
              "54                           Sweden\n",
              "55                      Switzerland\n",
              "56                           Turkey\n",
              "57                   United Kingdom\n",
              "58                    United States\n",
              "59                           Zambia\n",
              "Name: Country, dtype: object"
            ]
          },
          "metadata": {
            "tags": []
          },
          "execution_count": 157
        }
      ]
    },
    {
      "cell_type": "code",
      "metadata": {
        "id": "acgaR8ayD_oJ",
        "colab_type": "code",
        "colab": {}
      },
      "source": [
        "df = pd.read_csv(drive)"
      ],
      "execution_count": 0,
      "outputs": []
    },
    {
      "cell_type": "code",
      "metadata": {
        "id": "E30889LYEBdx",
        "colab_type": "code",
        "colab": {
          "base_uri": "https://localhost:8080/",
          "height": 204
        },
        "outputId": "f473d1a9-54b5-4225-d919-b2b4c184e007"
      },
      "source": [
        "df.head()"
      ],
      "execution_count": 159,
      "outputs": [
        {
          "output_type": "execute_result",
          "data": {
            "text/html": [
              "<div>\n",
              "<style scoped>\n",
              "    .dataframe tbody tr th:only-of-type {\n",
              "        vertical-align: middle;\n",
              "    }\n",
              "\n",
              "    .dataframe tbody tr th {\n",
              "        vertical-align: top;\n",
              "    }\n",
              "\n",
              "    .dataframe thead th {\n",
              "        text-align: right;\n",
              "    }\n",
              "</style>\n",
              "<table border=\"1\" class=\"dataframe\">\n",
              "  <thead>\n",
              "    <tr style=\"text-align: right;\">\n",
              "      <th></th>\n",
              "      <th>Country</th>\n",
              "      <th>Last</th>\n",
              "      <th>Month/Year</th>\n",
              "      <th>2020</th>\n",
              "      <th>2021</th>\n",
              "      <th>2022</th>\n",
              "      <th>CurrencyType/Occurence</th>\n",
              "    </tr>\n",
              "  </thead>\n",
              "  <tbody>\n",
              "    <tr>\n",
              "      <th>0</th>\n",
              "      <td>Albania</td>\n",
              "      <td>26000.0</td>\n",
              "      <td>Dec/19</td>\n",
              "      <td>27000.0</td>\n",
              "      <td>28000.0</td>\n",
              "      <td>28000.0</td>\n",
              "      <td>ALL/Month</td>\n",
              "    </tr>\n",
              "    <tr>\n",
              "      <th>1</th>\n",
              "      <td>Angola</td>\n",
              "      <td>21454.1</td>\n",
              "      <td>Dec/20</td>\n",
              "      <td>21454.0</td>\n",
              "      <td>22000.0</td>\n",
              "      <td>22000.0</td>\n",
              "      <td>AOA/Month</td>\n",
              "    </tr>\n",
              "    <tr>\n",
              "      <th>2</th>\n",
              "      <td>Argentina</td>\n",
              "      <td>16875.0</td>\n",
              "      <td>Dec/19</td>\n",
              "      <td>16875.0</td>\n",
              "      <td>17500.0</td>\n",
              "      <td>17500.0</td>\n",
              "      <td>ARS/Month</td>\n",
              "    </tr>\n",
              "    <tr>\n",
              "      <th>3</th>\n",
              "      <td>Armenia</td>\n",
              "      <td>68000.0</td>\n",
              "      <td>Jul/20</td>\n",
              "      <td>60000.0</td>\n",
              "      <td>65000.0</td>\n",
              "      <td>65000.0</td>\n",
              "      <td>AMD/Month</td>\n",
              "    </tr>\n",
              "    <tr>\n",
              "      <th>4</th>\n",
              "      <td>Australia</td>\n",
              "      <td>740.8</td>\n",
              "      <td>Jul/19</td>\n",
              "      <td>760.0</td>\n",
              "      <td>780.0</td>\n",
              "      <td>780.0</td>\n",
              "      <td>AUD/week</td>\n",
              "    </tr>\n",
              "  </tbody>\n",
              "</table>\n",
              "</div>"
            ],
            "text/plain": [
              "     Country     Last Month/Year  ...     2021     2022  CurrencyType/Occurence\n",
              "0    Albania  26000.0     Dec/19  ...  28000.0  28000.0               ALL/Month\n",
              "1     Angola  21454.1     Dec/20  ...  22000.0  22000.0               AOA/Month\n",
              "2  Argentina  16875.0     Dec/19  ...  17500.0  17500.0               ARS/Month\n",
              "3    Armenia  68000.0     Jul/20  ...  65000.0  65000.0               AMD/Month\n",
              "4  Australia    740.8     Jul/19  ...    780.0    780.0                AUD/week\n",
              "\n",
              "[5 rows x 7 columns]"
            ]
          },
          "metadata": {
            "tags": []
          },
          "execution_count": 159
        }
      ]
    },
    {
      "cell_type": "code",
      "metadata": {
        "id": "hFCCZ73EGTks",
        "colab_type": "code",
        "colab": {
          "base_uri": "https://localhost:8080/",
          "height": 34
        },
        "outputId": "08139159-0eca-420b-c904-81cb9fc07aff"
      },
      "source": [
        "df.shape"
      ],
      "execution_count": 160,
      "outputs": [
        {
          "output_type": "execute_result",
          "data": {
            "text/plain": [
              "(999, 7)"
            ]
          },
          "metadata": {
            "tags": []
          },
          "execution_count": 160
        }
      ]
    },
    {
      "cell_type": "code",
      "metadata": {
        "id": "oEFhTpTiF8eQ",
        "colab_type": "code",
        "colab": {
          "base_uri": "https://localhost:8080/",
          "height": 153
        },
        "outputId": "96bb88a6-1842-462d-d1b9-3bdad0562adf"
      },
      "source": [
        "df.isnull().sum()"
      ],
      "execution_count": 161,
      "outputs": [
        {
          "output_type": "execute_result",
          "data": {
            "text/plain": [
              "Country                   927\n",
              "Last                      927\n",
              "Month/Year                927\n",
              "2020                      927\n",
              "2021                      927\n",
              "2022                      927\n",
              "CurrencyType/Occurence    927\n",
              "dtype: int64"
            ]
          },
          "metadata": {
            "tags": []
          },
          "execution_count": 161
        }
      ]
    },
    {
      "cell_type": "code",
      "metadata": {
        "id": "ISVcbqjpGIHH",
        "colab_type": "code",
        "colab": {}
      },
      "source": [
        "df= df.dropna()"
      ],
      "execution_count": 0,
      "outputs": []
    },
    {
      "cell_type": "code",
      "metadata": {
        "id": "ZSPBWd7kGLI-",
        "colab_type": "code",
        "colab": {
          "base_uri": "https://localhost:8080/",
          "height": 34
        },
        "outputId": "7f2205af-5161-4e17-a723-e6c645616ead"
      },
      "source": [
        "df.shape"
      ],
      "execution_count": 163,
      "outputs": [
        {
          "output_type": "execute_result",
          "data": {
            "text/plain": [
              "(72, 7)"
            ]
          },
          "metadata": {
            "tags": []
          },
          "execution_count": 163
        }
      ]
    },
    {
      "cell_type": "code",
      "metadata": {
        "id": "Cww5sWO5GY6M",
        "colab_type": "code",
        "colab": {}
      },
      "source": [
        "df['Minimum Wage'] = df['Last']"
      ],
      "execution_count": 0,
      "outputs": []
    },
    {
      "cell_type": "code",
      "metadata": {
        "id": "upE9isc-GfAl",
        "colab_type": "code",
        "colab": {}
      },
      "source": [
        "df[['Month','Year']]= df['Month/Year'].str.split('/',expand=True)"
      ],
      "execution_count": 0,
      "outputs": []
    },
    {
      "cell_type": "code",
      "metadata": {
        "id": "qLJYHTRrGmWC",
        "colab_type": "code",
        "colab": {}
      },
      "source": [
        "df.Year = df.Year.apply(lambda x: '2019' if '19' in x else '2020')"
      ],
      "execution_count": 0,
      "outputs": []
    },
    {
      "cell_type": "code",
      "metadata": {
        "id": "2uYkx5VNHEEP",
        "colab_type": "code",
        "colab": {}
      },
      "source": [
        "df[['Currency','Occurrence']]= df['CurrencyType/Occurence'].str.split('/',expand=True)"
      ],
      "execution_count": 0,
      "outputs": []
    },
    {
      "cell_type": "code",
      "metadata": {
        "id": "DPilUmgIGtBK",
        "colab_type": "code",
        "colab": {}
      },
      "source": [
        "df.Year = df.Year.astype(int)"
      ],
      "execution_count": 0,
      "outputs": []
    },
    {
      "cell_type": "code",
      "metadata": {
        "id": "meMqBCrgG1oW",
        "colab_type": "code",
        "colab": {
          "base_uri": "https://localhost:8080/",
          "height": 204
        },
        "outputId": "3f003b20-3b53-4d70-bdd3-cf965ecdffa2"
      },
      "source": [
        "df.head()"
      ],
      "execution_count": 169,
      "outputs": [
        {
          "output_type": "execute_result",
          "data": {
            "text/html": [
              "<div>\n",
              "<style scoped>\n",
              "    .dataframe tbody tr th:only-of-type {\n",
              "        vertical-align: middle;\n",
              "    }\n",
              "\n",
              "    .dataframe tbody tr th {\n",
              "        vertical-align: top;\n",
              "    }\n",
              "\n",
              "    .dataframe thead th {\n",
              "        text-align: right;\n",
              "    }\n",
              "</style>\n",
              "<table border=\"1\" class=\"dataframe\">\n",
              "  <thead>\n",
              "    <tr style=\"text-align: right;\">\n",
              "      <th></th>\n",
              "      <th>Country</th>\n",
              "      <th>Last</th>\n",
              "      <th>Month/Year</th>\n",
              "      <th>2020</th>\n",
              "      <th>2021</th>\n",
              "      <th>2022</th>\n",
              "      <th>CurrencyType/Occurence</th>\n",
              "      <th>Minimum Wage</th>\n",
              "      <th>Month</th>\n",
              "      <th>Year</th>\n",
              "      <th>Currency</th>\n",
              "      <th>Occurrence</th>\n",
              "    </tr>\n",
              "  </thead>\n",
              "  <tbody>\n",
              "    <tr>\n",
              "      <th>0</th>\n",
              "      <td>Albania</td>\n",
              "      <td>26000.0</td>\n",
              "      <td>Dec/19</td>\n",
              "      <td>27000.0</td>\n",
              "      <td>28000.0</td>\n",
              "      <td>28000.0</td>\n",
              "      <td>ALL/Month</td>\n",
              "      <td>26000.0</td>\n",
              "      <td>Dec</td>\n",
              "      <td>2019</td>\n",
              "      <td>ALL</td>\n",
              "      <td>Month</td>\n",
              "    </tr>\n",
              "    <tr>\n",
              "      <th>1</th>\n",
              "      <td>Angola</td>\n",
              "      <td>21454.1</td>\n",
              "      <td>Dec/20</td>\n",
              "      <td>21454.0</td>\n",
              "      <td>22000.0</td>\n",
              "      <td>22000.0</td>\n",
              "      <td>AOA/Month</td>\n",
              "      <td>21454.1</td>\n",
              "      <td>Dec</td>\n",
              "      <td>2020</td>\n",
              "      <td>AOA</td>\n",
              "      <td>Month</td>\n",
              "    </tr>\n",
              "    <tr>\n",
              "      <th>2</th>\n",
              "      <td>Argentina</td>\n",
              "      <td>16875.0</td>\n",
              "      <td>Dec/19</td>\n",
              "      <td>16875.0</td>\n",
              "      <td>17500.0</td>\n",
              "      <td>17500.0</td>\n",
              "      <td>ARS/Month</td>\n",
              "      <td>16875.0</td>\n",
              "      <td>Dec</td>\n",
              "      <td>2019</td>\n",
              "      <td>ARS</td>\n",
              "      <td>Month</td>\n",
              "    </tr>\n",
              "    <tr>\n",
              "      <th>3</th>\n",
              "      <td>Armenia</td>\n",
              "      <td>68000.0</td>\n",
              "      <td>Jul/20</td>\n",
              "      <td>60000.0</td>\n",
              "      <td>65000.0</td>\n",
              "      <td>65000.0</td>\n",
              "      <td>AMD/Month</td>\n",
              "      <td>68000.0</td>\n",
              "      <td>Jul</td>\n",
              "      <td>2020</td>\n",
              "      <td>AMD</td>\n",
              "      <td>Month</td>\n",
              "    </tr>\n",
              "    <tr>\n",
              "      <th>4</th>\n",
              "      <td>Australia</td>\n",
              "      <td>740.8</td>\n",
              "      <td>Jul/19</td>\n",
              "      <td>760.0</td>\n",
              "      <td>780.0</td>\n",
              "      <td>780.0</td>\n",
              "      <td>AUD/week</td>\n",
              "      <td>740.8</td>\n",
              "      <td>Jul</td>\n",
              "      <td>2019</td>\n",
              "      <td>AUD</td>\n",
              "      <td>week</td>\n",
              "    </tr>\n",
              "  </tbody>\n",
              "</table>\n",
              "</div>"
            ],
            "text/plain": [
              "     Country     Last Month/Year     2020  ...  Month  Year Currency  Occurrence\n",
              "0    Albania  26000.0     Dec/19  27000.0  ...    Dec  2019      ALL       Month\n",
              "1     Angola  21454.1     Dec/20  21454.0  ...    Dec  2020      AOA       Month\n",
              "2  Argentina  16875.0     Dec/19  16875.0  ...    Dec  2019      ARS       Month\n",
              "3    Armenia  68000.0     Jul/20  60000.0  ...    Jul  2020      AMD       Month\n",
              "4  Australia    740.8     Jul/19    760.0  ...    Jul  2019      AUD        week\n",
              "\n",
              "[5 rows x 12 columns]"
            ]
          },
          "metadata": {
            "tags": []
          },
          "execution_count": 169
        }
      ]
    },
    {
      "cell_type": "code",
      "metadata": {
        "id": "6oovZxQaGvdy",
        "colab_type": "code",
        "colab": {}
      },
      "source": [
        "latest_min_wage = df.drop(['Last','Month/Year','CurrencyType/Occurence','2020','2021','2022'],axis=1)"
      ],
      "execution_count": 0,
      "outputs": []
    },
    {
      "cell_type": "code",
      "metadata": {
        "id": "7-UkcaVHHQhH",
        "colab_type": "code",
        "colab": {
          "base_uri": "https://localhost:8080/",
          "height": 204
        },
        "outputId": "c36dc517-1d7e-4467-a758-ad2a1348d4ab"
      },
      "source": [
        "latest_min_wage.head()"
      ],
      "execution_count": 171,
      "outputs": [
        {
          "output_type": "execute_result",
          "data": {
            "text/html": [
              "<div>\n",
              "<style scoped>\n",
              "    .dataframe tbody tr th:only-of-type {\n",
              "        vertical-align: middle;\n",
              "    }\n",
              "\n",
              "    .dataframe tbody tr th {\n",
              "        vertical-align: top;\n",
              "    }\n",
              "\n",
              "    .dataframe thead th {\n",
              "        text-align: right;\n",
              "    }\n",
              "</style>\n",
              "<table border=\"1\" class=\"dataframe\">\n",
              "  <thead>\n",
              "    <tr style=\"text-align: right;\">\n",
              "      <th></th>\n",
              "      <th>Country</th>\n",
              "      <th>Minimum Wage</th>\n",
              "      <th>Month</th>\n",
              "      <th>Year</th>\n",
              "      <th>Currency</th>\n",
              "      <th>Occurrence</th>\n",
              "    </tr>\n",
              "  </thead>\n",
              "  <tbody>\n",
              "    <tr>\n",
              "      <th>0</th>\n",
              "      <td>Albania</td>\n",
              "      <td>26000.0</td>\n",
              "      <td>Dec</td>\n",
              "      <td>2019</td>\n",
              "      <td>ALL</td>\n",
              "      <td>Month</td>\n",
              "    </tr>\n",
              "    <tr>\n",
              "      <th>1</th>\n",
              "      <td>Angola</td>\n",
              "      <td>21454.1</td>\n",
              "      <td>Dec</td>\n",
              "      <td>2020</td>\n",
              "      <td>AOA</td>\n",
              "      <td>Month</td>\n",
              "    </tr>\n",
              "    <tr>\n",
              "      <th>2</th>\n",
              "      <td>Argentina</td>\n",
              "      <td>16875.0</td>\n",
              "      <td>Dec</td>\n",
              "      <td>2019</td>\n",
              "      <td>ARS</td>\n",
              "      <td>Month</td>\n",
              "    </tr>\n",
              "    <tr>\n",
              "      <th>3</th>\n",
              "      <td>Armenia</td>\n",
              "      <td>68000.0</td>\n",
              "      <td>Jul</td>\n",
              "      <td>2020</td>\n",
              "      <td>AMD</td>\n",
              "      <td>Month</td>\n",
              "    </tr>\n",
              "    <tr>\n",
              "      <th>4</th>\n",
              "      <td>Australia</td>\n",
              "      <td>740.8</td>\n",
              "      <td>Jul</td>\n",
              "      <td>2019</td>\n",
              "      <td>AUD</td>\n",
              "      <td>week</td>\n",
              "    </tr>\n",
              "  </tbody>\n",
              "</table>\n",
              "</div>"
            ],
            "text/plain": [
              "     Country  Minimum Wage Month  Year Currency Occurrence\n",
              "0    Albania       26000.0   Dec  2019      ALL      Month\n",
              "1     Angola       21454.1   Dec  2020      AOA      Month\n",
              "2  Argentina       16875.0   Dec  2019      ARS      Month\n",
              "3    Armenia       68000.0   Jul  2020      AMD      Month\n",
              "4  Australia         740.8   Jul  2019      AUD       week"
            ]
          },
          "metadata": {
            "tags": []
          },
          "execution_count": 171
        }
      ]
    },
    {
      "cell_type": "code",
      "metadata": {
        "id": "l0zRKAmQHZjv",
        "colab_type": "code",
        "colab": {}
      },
      "source": [
        "merge_data = pd.merge(data,latest_min_wage,on='Country')"
      ],
      "execution_count": 0,
      "outputs": []
    },
    {
      "cell_type": "code",
      "metadata": {
        "id": "tToZJCIQHbr2",
        "colab_type": "code",
        "colab": {
          "base_uri": "https://localhost:8080/",
          "height": 204
        },
        "outputId": "a9f7f5c3-dd5d-4fca-da1c-10c61596a953"
      },
      "source": [
        "merge_data.head()"
      ],
      "execution_count": 173,
      "outputs": [
        {
          "output_type": "execute_result",
          "data": {
            "text/html": [
              "<div>\n",
              "<style scoped>\n",
              "    .dataframe tbody tr th:only-of-type {\n",
              "        vertical-align: middle;\n",
              "    }\n",
              "\n",
              "    .dataframe tbody tr th {\n",
              "        vertical-align: top;\n",
              "    }\n",
              "\n",
              "    .dataframe thead th {\n",
              "        text-align: right;\n",
              "    }\n",
              "</style>\n",
              "<table border=\"1\" class=\"dataframe\">\n",
              "  <thead>\n",
              "    <tr style=\"text-align: right;\">\n",
              "      <th></th>\n",
              "      <th>Country</th>\n",
              "      <th>Rate</th>\n",
              "      <th>Minimum Wage</th>\n",
              "      <th>Month</th>\n",
              "      <th>Year</th>\n",
              "      <th>Currency</th>\n",
              "      <th>Occurrence</th>\n",
              "    </tr>\n",
              "  </thead>\n",
              "  <tbody>\n",
              "    <tr>\n",
              "      <th>0</th>\n",
              "      <td>Argentina</td>\n",
              "      <td>48.148</td>\n",
              "      <td>16875.00</td>\n",
              "      <td>Dec</td>\n",
              "      <td>2019</td>\n",
              "      <td>ARS</td>\n",
              "      <td>Month</td>\n",
              "    </tr>\n",
              "    <tr>\n",
              "      <th>1</th>\n",
              "      <td>Australia</td>\n",
              "      <td>1.439</td>\n",
              "      <td>740.80</td>\n",
              "      <td>Jul</td>\n",
              "      <td>2019</td>\n",
              "      <td>AUD</td>\n",
              "      <td>week</td>\n",
              "    </tr>\n",
              "    <tr>\n",
              "      <th>2</th>\n",
              "      <td>Belgium</td>\n",
              "      <td>0.893</td>\n",
              "      <td>1593.81</td>\n",
              "      <td>Mar</td>\n",
              "      <td>2020</td>\n",
              "      <td>EUR</td>\n",
              "      <td>Month</td>\n",
              "    </tr>\n",
              "    <tr>\n",
              "      <th>3</th>\n",
              "      <td>Brazil</td>\n",
              "      <td>3.927</td>\n",
              "      <td>1045.00</td>\n",
              "      <td>Apr</td>\n",
              "      <td>2020</td>\n",
              "      <td>BRL</td>\n",
              "      <td>Month</td>\n",
              "    </tr>\n",
              "    <tr>\n",
              "      <th>4</th>\n",
              "      <td>Bulgaria</td>\n",
              "      <td>1.747</td>\n",
              "      <td>286.33</td>\n",
              "      <td>Dec</td>\n",
              "      <td>2019</td>\n",
              "      <td>EUR</td>\n",
              "      <td>Month</td>\n",
              "    </tr>\n",
              "  </tbody>\n",
              "</table>\n",
              "</div>"
            ],
            "text/plain": [
              "     Country    Rate  Minimum Wage Month  Year Currency Occurrence\n",
              "0  Argentina  48.148      16875.00   Dec  2019      ARS      Month\n",
              "1  Australia   1.439        740.80   Jul  2019      AUD       week\n",
              "2    Belgium   0.893       1593.81   Mar  2020      EUR      Month\n",
              "3     Brazil   3.927       1045.00   Apr  2020      BRL      Month\n",
              "4   Bulgaria   1.747        286.33   Dec  2019      EUR      Month"
            ]
          },
          "metadata": {
            "tags": []
          },
          "execution_count": 173
        }
      ]
    },
    {
      "cell_type": "code",
      "metadata": {
        "id": "asXDfeMqIm4S",
        "colab_type": "code",
        "colab": {
          "base_uri": "https://localhost:8080/",
          "height": 153
        },
        "outputId": "643e329f-86a7-4874-8388-d4b69630067a"
      },
      "source": [
        "merge_data.dtypes"
      ],
      "execution_count": 174,
      "outputs": [
        {
          "output_type": "execute_result",
          "data": {
            "text/plain": [
              "Country          object\n",
              "Rate             object\n",
              "Minimum Wage    float64\n",
              "Month            object\n",
              "Year              int64\n",
              "Currency         object\n",
              "Occurrence       object\n",
              "dtype: object"
            ]
          },
          "metadata": {
            "tags": []
          },
          "execution_count": 174
        }
      ]
    },
    {
      "cell_type": "code",
      "metadata": {
        "id": "k3cyfZMeIWO4",
        "colab_type": "code",
        "colab": {
          "base_uri": "https://localhost:8080/",
          "height": 102
        },
        "outputId": "f72e6e5c-8d11-458d-9b42-239f814fa1ea"
      },
      "source": [
        "merge_data['Occurrence'].value_counts()"
      ],
      "execution_count": 175,
      "outputs": [
        {
          "output_type": "execute_result",
          "data": {
            "text/plain": [
              "Month    27\n",
              "Hour      8\n",
              "Day       2\n",
              "week      1\n",
              "Name: Occurrence, dtype: int64"
            ]
          },
          "metadata": {
            "tags": []
          },
          "execution_count": 175
        }
      ]
    },
    {
      "cell_type": "code",
      "metadata": {
        "id": "AT9sdgkMILUS",
        "colab_type": "code",
        "colab": {}
      },
      "source": [
        "#converting based on the Occurrence to hourly min wages\n",
        "def min_wage(x):\n",
        "  val=0\n",
        "  if (x['Occurrence'] == 'week'):\n",
        "    val = x['Minimum Wage'] / 40\n",
        "  elif(x['Occurrence'] == 'Month'):\n",
        "    val = x['Minimum Wage'] * 12 / 52 / 40\n",
        "  elif(x['Occurrence'] == 'Day'):\n",
        "    val = x['Minimum Wage'] /8\n",
        "  else:\n",
        "    val =  x['Minimum Wage']\n",
        "  return val"
      ],
      "execution_count": 0,
      "outputs": []
    },
    {
      "cell_type": "code",
      "metadata": {
        "id": "wvvlxtNsJ8dR",
        "colab_type": "code",
        "colab": {}
      },
      "source": [
        "merge_data['Hourly Min Wage'] = merge_data.apply(min_wage,axis=1)"
      ],
      "execution_count": 0,
      "outputs": []
    },
    {
      "cell_type": "code",
      "metadata": {
        "id": "isossYHsKKe3",
        "colab_type": "code",
        "colab": {
          "base_uri": "https://localhost:8080/",
          "height": 204
        },
        "outputId": "bdd73ef8-d044-42bf-a55a-4ae995aebf5a"
      },
      "source": [
        "merge_data.head()"
      ],
      "execution_count": 178,
      "outputs": [
        {
          "output_type": "execute_result",
          "data": {
            "text/html": [
              "<div>\n",
              "<style scoped>\n",
              "    .dataframe tbody tr th:only-of-type {\n",
              "        vertical-align: middle;\n",
              "    }\n",
              "\n",
              "    .dataframe tbody tr th {\n",
              "        vertical-align: top;\n",
              "    }\n",
              "\n",
              "    .dataframe thead th {\n",
              "        text-align: right;\n",
              "    }\n",
              "</style>\n",
              "<table border=\"1\" class=\"dataframe\">\n",
              "  <thead>\n",
              "    <tr style=\"text-align: right;\">\n",
              "      <th></th>\n",
              "      <th>Country</th>\n",
              "      <th>Rate</th>\n",
              "      <th>Minimum Wage</th>\n",
              "      <th>Month</th>\n",
              "      <th>Year</th>\n",
              "      <th>Currency</th>\n",
              "      <th>Occurrence</th>\n",
              "      <th>Hourly Min Wage</th>\n",
              "    </tr>\n",
              "  </thead>\n",
              "  <tbody>\n",
              "    <tr>\n",
              "      <th>0</th>\n",
              "      <td>Argentina</td>\n",
              "      <td>48.148</td>\n",
              "      <td>16875.00</td>\n",
              "      <td>Dec</td>\n",
              "      <td>2019</td>\n",
              "      <td>ARS</td>\n",
              "      <td>Month</td>\n",
              "      <td>97.355769</td>\n",
              "    </tr>\n",
              "    <tr>\n",
              "      <th>1</th>\n",
              "      <td>Australia</td>\n",
              "      <td>1.439</td>\n",
              "      <td>740.80</td>\n",
              "      <td>Jul</td>\n",
              "      <td>2019</td>\n",
              "      <td>AUD</td>\n",
              "      <td>week</td>\n",
              "      <td>18.520000</td>\n",
              "    </tr>\n",
              "    <tr>\n",
              "      <th>2</th>\n",
              "      <td>Belgium</td>\n",
              "      <td>0.893</td>\n",
              "      <td>1593.81</td>\n",
              "      <td>Mar</td>\n",
              "      <td>2020</td>\n",
              "      <td>EUR</td>\n",
              "      <td>Month</td>\n",
              "      <td>9.195058</td>\n",
              "    </tr>\n",
              "    <tr>\n",
              "      <th>3</th>\n",
              "      <td>Brazil</td>\n",
              "      <td>3.927</td>\n",
              "      <td>1045.00</td>\n",
              "      <td>Apr</td>\n",
              "      <td>2020</td>\n",
              "      <td>BRL</td>\n",
              "      <td>Month</td>\n",
              "      <td>6.028846</td>\n",
              "    </tr>\n",
              "    <tr>\n",
              "      <th>4</th>\n",
              "      <td>Bulgaria</td>\n",
              "      <td>1.747</td>\n",
              "      <td>286.33</td>\n",
              "      <td>Dec</td>\n",
              "      <td>2019</td>\n",
              "      <td>EUR</td>\n",
              "      <td>Month</td>\n",
              "      <td>1.651904</td>\n",
              "    </tr>\n",
              "  </tbody>\n",
              "</table>\n",
              "</div>"
            ],
            "text/plain": [
              "     Country    Rate  Minimum Wage  ... Currency  Occurrence Hourly Min Wage\n",
              "0  Argentina  48.148      16875.00  ...      ARS       Month       97.355769\n",
              "1  Australia   1.439        740.80  ...      AUD        week       18.520000\n",
              "2    Belgium   0.893       1593.81  ...      EUR       Month        9.195058\n",
              "3     Brazil   3.927       1045.00  ...      BRL       Month        6.028846\n",
              "4   Bulgaria   1.747        286.33  ...      EUR       Month        1.651904\n",
              "\n",
              "[5 rows x 8 columns]"
            ]
          },
          "metadata": {
            "tags": []
          },
          "execution_count": 178
        }
      ]
    },
    {
      "cell_type": "code",
      "metadata": {
        "id": "MKpjHnP3WjI8",
        "colab_type": "code",
        "colab": {}
      },
      "source": [
        "merge_data['Rate'] = pd.to_numeric(merge_data['Rate'],errors='coerce')"
      ],
      "execution_count": 0,
      "outputs": []
    },
    {
      "cell_type": "code",
      "metadata": {
        "id": "wL-qDPsrXtkf",
        "colab_type": "code",
        "colab": {
          "base_uri": "https://localhost:8080/",
          "height": 170
        },
        "outputId": "a1f0dad1-7933-4cd7-f5a4-ae472ce53a3b"
      },
      "source": [
        "merge_data.dtypes"
      ],
      "execution_count": 180,
      "outputs": [
        {
          "output_type": "execute_result",
          "data": {
            "text/plain": [
              "Country             object\n",
              "Rate               float64\n",
              "Minimum Wage       float64\n",
              "Month               object\n",
              "Year                 int64\n",
              "Currency            object\n",
              "Occurrence          object\n",
              "Hourly Min Wage    float64\n",
              "dtype: object"
            ]
          },
          "metadata": {
            "tags": []
          },
          "execution_count": 180
        }
      ]
    },
    {
      "cell_type": "code",
      "metadata": {
        "id": "s9CkRnA8Vlp9",
        "colab_type": "code",
        "colab": {}
      },
      "source": [
        "#converting to Purchase dollars\n",
        "def convert_dollars(x):\n",
        "  val = x['Rate'] * x['Hourly Min Wage']\n",
        "  return val"
      ],
      "execution_count": 0,
      "outputs": []
    },
    {
      "cell_type": "code",
      "metadata": {
        "id": "XQi5z7TTWRPF",
        "colab_type": "code",
        "colab": {}
      },
      "source": [
        "merge_data['Min Wage US dollars'] = merge_data.apply(convert_dollars,axis=1)"
      ],
      "execution_count": 0,
      "outputs": []
    },
    {
      "cell_type": "code",
      "metadata": {
        "id": "LsXYl7YdYFNf",
        "colab_type": "code",
        "colab": {
          "base_uri": "https://localhost:8080/",
          "height": 204
        },
        "outputId": "0529fe1f-960d-46bf-dd4c-8c7497fc5074"
      },
      "source": [
        "merge_data.head()"
      ],
      "execution_count": 183,
      "outputs": [
        {
          "output_type": "execute_result",
          "data": {
            "text/html": [
              "<div>\n",
              "<style scoped>\n",
              "    .dataframe tbody tr th:only-of-type {\n",
              "        vertical-align: middle;\n",
              "    }\n",
              "\n",
              "    .dataframe tbody tr th {\n",
              "        vertical-align: top;\n",
              "    }\n",
              "\n",
              "    .dataframe thead th {\n",
              "        text-align: right;\n",
              "    }\n",
              "</style>\n",
              "<table border=\"1\" class=\"dataframe\">\n",
              "  <thead>\n",
              "    <tr style=\"text-align: right;\">\n",
              "      <th></th>\n",
              "      <th>Country</th>\n",
              "      <th>Rate</th>\n",
              "      <th>Minimum Wage</th>\n",
              "      <th>Month</th>\n",
              "      <th>Year</th>\n",
              "      <th>Currency</th>\n",
              "      <th>Occurrence</th>\n",
              "      <th>Hourly Min Wage</th>\n",
              "      <th>Min Wage US dollars</th>\n",
              "    </tr>\n",
              "  </thead>\n",
              "  <tbody>\n",
              "    <tr>\n",
              "      <th>0</th>\n",
              "      <td>Argentina</td>\n",
              "      <td>48.148</td>\n",
              "      <td>16875.00</td>\n",
              "      <td>Dec</td>\n",
              "      <td>2019</td>\n",
              "      <td>ARS</td>\n",
              "      <td>Month</td>\n",
              "      <td>97.355769</td>\n",
              "      <td>4687.485577</td>\n",
              "    </tr>\n",
              "    <tr>\n",
              "      <th>1</th>\n",
              "      <td>Australia</td>\n",
              "      <td>1.439</td>\n",
              "      <td>740.80</td>\n",
              "      <td>Jul</td>\n",
              "      <td>2019</td>\n",
              "      <td>AUD</td>\n",
              "      <td>week</td>\n",
              "      <td>18.520000</td>\n",
              "      <td>26.650280</td>\n",
              "    </tr>\n",
              "    <tr>\n",
              "      <th>2</th>\n",
              "      <td>Belgium</td>\n",
              "      <td>0.893</td>\n",
              "      <td>1593.81</td>\n",
              "      <td>Mar</td>\n",
              "      <td>2020</td>\n",
              "      <td>EUR</td>\n",
              "      <td>Month</td>\n",
              "      <td>9.195058</td>\n",
              "      <td>8.211187</td>\n",
              "    </tr>\n",
              "    <tr>\n",
              "      <th>3</th>\n",
              "      <td>Brazil</td>\n",
              "      <td>3.927</td>\n",
              "      <td>1045.00</td>\n",
              "      <td>Apr</td>\n",
              "      <td>2020</td>\n",
              "      <td>BRL</td>\n",
              "      <td>Month</td>\n",
              "      <td>6.028846</td>\n",
              "      <td>23.675279</td>\n",
              "    </tr>\n",
              "    <tr>\n",
              "      <th>4</th>\n",
              "      <td>Bulgaria</td>\n",
              "      <td>1.747</td>\n",
              "      <td>286.33</td>\n",
              "      <td>Dec</td>\n",
              "      <td>2019</td>\n",
              "      <td>EUR</td>\n",
              "      <td>Month</td>\n",
              "      <td>1.651904</td>\n",
              "      <td>2.885876</td>\n",
              "    </tr>\n",
              "  </tbody>\n",
              "</table>\n",
              "</div>"
            ],
            "text/plain": [
              "     Country    Rate  ...  Hourly Min Wage Min Wage US dollars\n",
              "0  Argentina  48.148  ...        97.355769         4687.485577\n",
              "1  Australia   1.439  ...        18.520000           26.650280\n",
              "2    Belgium   0.893  ...         9.195058            8.211187\n",
              "3     Brazil   3.927  ...         6.028846           23.675279\n",
              "4   Bulgaria   1.747  ...         1.651904            2.885876\n",
              "\n",
              "[5 rows x 9 columns]"
            ]
          },
          "metadata": {
            "tags": []
          },
          "execution_count": 183
        }
      ]
    },
    {
      "cell_type": "code",
      "metadata": {
        "id": "o_FmNW05twex",
        "colab_type": "code",
        "colab": {}
      },
      "source": [
        "merge_data['Min Wage US dollars'] = round(merge_data['Min Wage US dollars'],2)"
      ],
      "execution_count": 0,
      "outputs": []
    },
    {
      "cell_type": "code",
      "metadata": {
        "id": "6HE9QeJ0vPDB",
        "colab_type": "code",
        "colab": {
          "base_uri": "https://localhost:8080/",
          "height": 359
        },
        "outputId": "c477a290-19dc-4e15-c974-a26876cfaf40"
      },
      "source": [
        "merge_data.head(10)"
      ],
      "execution_count": 190,
      "outputs": [
        {
          "output_type": "execute_result",
          "data": {
            "text/html": [
              "<div>\n",
              "<style scoped>\n",
              "    .dataframe tbody tr th:only-of-type {\n",
              "        vertical-align: middle;\n",
              "    }\n",
              "\n",
              "    .dataframe tbody tr th {\n",
              "        vertical-align: top;\n",
              "    }\n",
              "\n",
              "    .dataframe thead th {\n",
              "        text-align: right;\n",
              "    }\n",
              "</style>\n",
              "<table border=\"1\" class=\"dataframe\">\n",
              "  <thead>\n",
              "    <tr style=\"text-align: right;\">\n",
              "      <th></th>\n",
              "      <th>Country</th>\n",
              "      <th>Rate</th>\n",
              "      <th>Minimum Wage</th>\n",
              "      <th>Month</th>\n",
              "      <th>Year</th>\n",
              "      <th>Currency</th>\n",
              "      <th>Occurrence</th>\n",
              "      <th>Hourly Min Wage</th>\n",
              "      <th>Min Wage US dollars</th>\n",
              "    </tr>\n",
              "  </thead>\n",
              "  <tbody>\n",
              "    <tr>\n",
              "      <th>0</th>\n",
              "      <td>Argentina</td>\n",
              "      <td>48.148</td>\n",
              "      <td>16875.00</td>\n",
              "      <td>Dec</td>\n",
              "      <td>2019</td>\n",
              "      <td>ARS</td>\n",
              "      <td>Month</td>\n",
              "      <td>97.355769</td>\n",
              "      <td>4687.49</td>\n",
              "    </tr>\n",
              "    <tr>\n",
              "      <th>1</th>\n",
              "      <td>Australia</td>\n",
              "      <td>1.439</td>\n",
              "      <td>740.80</td>\n",
              "      <td>Jul</td>\n",
              "      <td>2019</td>\n",
              "      <td>AUD</td>\n",
              "      <td>week</td>\n",
              "      <td>18.520000</td>\n",
              "      <td>26.65</td>\n",
              "    </tr>\n",
              "    <tr>\n",
              "      <th>2</th>\n",
              "      <td>Belgium</td>\n",
              "      <td>0.893</td>\n",
              "      <td>1593.81</td>\n",
              "      <td>Mar</td>\n",
              "      <td>2020</td>\n",
              "      <td>EUR</td>\n",
              "      <td>Month</td>\n",
              "      <td>9.195058</td>\n",
              "      <td>8.21</td>\n",
              "    </tr>\n",
              "    <tr>\n",
              "      <th>3</th>\n",
              "      <td>Brazil</td>\n",
              "      <td>3.927</td>\n",
              "      <td>1045.00</td>\n",
              "      <td>Apr</td>\n",
              "      <td>2020</td>\n",
              "      <td>BRL</td>\n",
              "      <td>Month</td>\n",
              "      <td>6.028846</td>\n",
              "      <td>23.68</td>\n",
              "    </tr>\n",
              "    <tr>\n",
              "      <th>4</th>\n",
              "      <td>Bulgaria</td>\n",
              "      <td>1.747</td>\n",
              "      <td>286.33</td>\n",
              "      <td>Dec</td>\n",
              "      <td>2019</td>\n",
              "      <td>EUR</td>\n",
              "      <td>Month</td>\n",
              "      <td>1.651904</td>\n",
              "      <td>2.89</td>\n",
              "    </tr>\n",
              "    <tr>\n",
              "      <th>5</th>\n",
              "      <td>Canada</td>\n",
              "      <td>1.327</td>\n",
              "      <td>14.00</td>\n",
              "      <td>Dec</td>\n",
              "      <td>2019</td>\n",
              "      <td>CAD</td>\n",
              "      <td>Hour</td>\n",
              "      <td>14.000000</td>\n",
              "      <td>18.58</td>\n",
              "    </tr>\n",
              "    <tr>\n",
              "      <th>6</th>\n",
              "      <td>Chile</td>\n",
              "      <td>702.897</td>\n",
              "      <td>320500.00</td>\n",
              "      <td>Jan</td>\n",
              "      <td>2020</td>\n",
              "      <td>CLP</td>\n",
              "      <td>Month</td>\n",
              "      <td>1849.038462</td>\n",
              "      <td>1299683.59</td>\n",
              "    </tr>\n",
              "    <tr>\n",
              "      <th>7</th>\n",
              "      <td>Costa Rica</td>\n",
              "      <td>587.295</td>\n",
              "      <td>5376.28</td>\n",
              "      <td>Mar</td>\n",
              "      <td>2020</td>\n",
              "      <td>points</td>\n",
              "      <td>None</td>\n",
              "      <td>5376.280000</td>\n",
              "      <td>3157462.36</td>\n",
              "    </tr>\n",
              "    <tr>\n",
              "      <th>8</th>\n",
              "      <td>Croatia</td>\n",
              "      <td>6.623</td>\n",
              "      <td>546.07</td>\n",
              "      <td>Mar</td>\n",
              "      <td>2020</td>\n",
              "      <td>EUR</td>\n",
              "      <td>Month</td>\n",
              "      <td>3.150404</td>\n",
              "      <td>20.87</td>\n",
              "    </tr>\n",
              "    <tr>\n",
              "      <th>9</th>\n",
              "      <td>Czech Republic</td>\n",
              "      <td>22.932</td>\n",
              "      <td>518.97</td>\n",
              "      <td>Dec</td>\n",
              "      <td>2019</td>\n",
              "      <td>EUR</td>\n",
              "      <td>Month</td>\n",
              "      <td>2.994058</td>\n",
              "      <td>68.66</td>\n",
              "    </tr>\n",
              "  </tbody>\n",
              "</table>\n",
              "</div>"
            ],
            "text/plain": [
              "          Country     Rate  ...  Hourly Min Wage Min Wage US dollars\n",
              "0       Argentina   48.148  ...        97.355769             4687.49\n",
              "1       Australia    1.439  ...        18.520000               26.65\n",
              "2         Belgium    0.893  ...         9.195058                8.21\n",
              "3          Brazil    3.927  ...         6.028846               23.68\n",
              "4        Bulgaria    1.747  ...         1.651904                2.89\n",
              "5          Canada    1.327  ...        14.000000               18.58\n",
              "6           Chile  702.897  ...      1849.038462          1299683.59\n",
              "7      Costa Rica  587.295  ...      5376.280000          3157462.36\n",
              "8         Croatia    6.623  ...         3.150404               20.87\n",
              "9  Czech Republic   22.932  ...         2.994058               68.66\n",
              "\n",
              "[10 rows x 9 columns]"
            ]
          },
          "metadata": {
            "tags": []
          },
          "execution_count": 190
        }
      ]
    },
    {
      "cell_type": "code",
      "metadata": {
        "id": "HjbN7jPIYYfV",
        "colab_type": "code",
        "colab": {}
      },
      "source": [
        "y = merge_data['Hourly Min Wage']\n",
        "x= merge_data['Country']\n",
        "hue = merge_data['Year']"
      ],
      "execution_count": 0,
      "outputs": []
    },
    {
      "cell_type": "code",
      "metadata": {
        "id": "igRG5PrdYhLJ",
        "colab_type": "code",
        "colab": {
          "base_uri": "https://localhost:8080/",
          "height": 609
        },
        "outputId": "51eb02dc-0665-49df-cd73-5db0daf6bf37"
      },
      "source": [
        "plt.figure(figsize=(20, 10))\n",
        "plt.bar(x, y)"
      ],
      "execution_count": 192,
      "outputs": [
        {
          "output_type": "execute_result",
          "data": {
            "text/plain": [
              "<BarContainer object of 39 artists>"
            ]
          },
          "metadata": {
            "tags": []
          },
          "execution_count": 192
        },
        {
          "output_type": "display_data",
          "data": {
            "image/png": "[encoded data removed]",
            "text/plain": [
              "<Figure size 1440x720 with 1 Axes>"
            ]
          },
          "metadata": {
            "tags": [],
            "needs_background": "light"
          }
        }
      ]
    },
    {
      "cell_type": "code",
      "metadata": {
        "id": "KujaPFLhaJre",
        "colab_type": "code",
        "colab": {
          "base_uri": "https://localhost:8080/",
          "height": 623
        },
        "outputId": "c59a364b-0f7d-4b83-a3e7-212d42962936"
      },
      "source": [
        "plt.figure(figsize=(20, 10))\n",
        "sns.barplot(y=\"Country\", x=\"Min Wage US dollars\", data=merge_data)"
      ],
      "execution_count": 193,
      "outputs": [
        {
          "output_type": "execute_result",
          "data": {
            "text/plain": [
              "<matplotlib.axes._subplots.AxesSubplot at 0x7f746c9c6c88>"
            ]
          },
          "metadata": {
            "tags": []
          },
          "execution_count": 193
        },
        {
          "output_type": "display_data",
          "data": {
            "image/png": "[encoded data removed]",
            "text/plain": [
              "<Figure size 1440x720 with 1 Axes>"
            ]
          },
          "metadata": {
            "tags": [],
            "needs_background": "light"
          }
        }
      ]
    },
    {
      "cell_type": "code",
      "metadata": {
        "id": "pvQjb0GXviW9",
        "colab_type": "code",
        "colab": {}
      },
      "source": [
        "#chile,japan and costa rica seem to be an issue so dropping\n",
        "merge_data = merge_data[merge_data['Country']!= 'Chile']"
      ],
      "execution_count": 0,
      "outputs": []
    },
    {
      "cell_type": "code",
      "metadata": {
        "id": "K6te9BpJvwjQ",
        "colab_type": "code",
        "colab": {}
      },
      "source": [
        "merge_data = merge_data[merge_data['Country']!= 'Costa Rica']"
      ],
      "execution_count": 0,
      "outputs": []
    },
    {
      "cell_type": "code",
      "metadata": {
        "id": "US6zyzw2v9Np",
        "colab_type": "code",
        "colab": {}
      },
      "source": [
        "merge_data = merge_data[merge_data['Country']!= 'Japan']"
      ],
      "execution_count": 0,
      "outputs": []
    },
    {
      "cell_type": "code",
      "metadata": {
        "id": "zMoq28esv0jH",
        "colab_type": "code",
        "colab": {
          "base_uri": "https://localhost:8080/",
          "height": 623
        },
        "outputId": "b8b04319-84e7-4a8a-e042-7c73e1f9215f"
      },
      "source": [
        "plt.figure(figsize=(20, 10))\n",
        "sns.barplot(y=\"Country\", x=\"Min Wage US dollars\", data=merge_data)"
      ],
      "execution_count": 198,
      "outputs": [
        {
          "output_type": "execute_result",
          "data": {
            "text/plain": [
              "<matplotlib.axes._subplots.AxesSubplot at 0x7f746ce129b0>"
            ]
          },
          "metadata": {
            "tags": []
          },
          "execution_count": 198
        },
        {
          "output_type": "display_data",
          "data": {
            "image/png": "[encoded data removed]",
            "text/plain": [
              "<Figure size 1440x720 with 1 Axes>"
            ]
          },
          "metadata": {
            "tags": [],
            "needs_background": "light"
          }
        }
      ]
    }
  ]
}