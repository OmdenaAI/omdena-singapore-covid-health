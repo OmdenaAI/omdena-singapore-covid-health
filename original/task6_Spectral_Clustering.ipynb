{
  "nbformat": 4,
  "nbformat_minor": 0,
  "metadata": {
    "kernelspec": {
      "display_name": "Python 3",
      "language": "python",
      "name": "python3"
    },
    "language_info": {
      "codemirror_mode": {
        "name": "ipython",
        "version": 3
      },
      "file_extension": ".py",
      "mimetype": "text/x-python",
      "name": "python",
      "nbconvert_exporter": "python",
      "pygments_lexer": "ipython3",
      "version": "3.7.4"
    },
    "colab": {
      "name": "task6_Spectral_Clustering.ipynb",
      "provenance": [],
      "toc_visible": true,
      "include_colab_link": true
    }
  },
  "cells": [
    {
      "cell_type": "markdown",
      "metadata": {
        "id": "view-in-github",
        "colab_type": "text"
      },
      "source": [
        "<a href=\"https://colab.research.google.com/github/omdena/policy_pandemic/blob/master/task6_Spectral_Clustering.ipynb\" target=\"_parent\"><img src=\"https://colab.research.google.com/assets/colab-badge.svg\" alt=\"Open In Colab\"/></a>"
      ]
    },
    {
      "cell_type": "code",
      "metadata": {
        "id": "7WHCXXofgOHK",
        "colab_type": "code",
        "outputId": "6d712282-532d-419b-c577-f68de7a55dc8",
        "colab": {
          "base_uri": "https://localhost:8080/",
          "height": 71
        }
      },
      "source": [
        "import pandas as pd \n",
        "import numpy as np\n",
        "import matplotlib.pyplot as plt\n",
        "import seaborn as sns\n",
        "%matplotlib inline"
      ],
      "execution_count": 0,
      "outputs": [
        {
          "output_type": "stream",
          "text": [
            "/usr/local/lib/python3.6/dist-packages/statsmodels/tools/_testing.py:19: FutureWarning: pandas.util.testing is deprecated. Use the functions in the public API at pandas.testing instead.\n",
            "  import pandas.util.testing as tm\n"
          ],
          "name": "stderr"
        }
      ]
    },
    {
      "cell_type": "markdown",
      "metadata": {
        "id": "v1by1JyMgOHh",
        "colab_type": "text"
      },
      "source": [
        "#### Curating the Dataset"
      ]
    },
    {
      "cell_type": "code",
      "metadata": {
        "id": "9PdblajhgOHl",
        "colab_type": "code",
        "colab": {}
      },
      "source": [
        "df_raw = pd.read_csv('Health data + descriptors - Complete Aggregated Static Data.csv')"
      ],
      "execution_count": 0,
      "outputs": []
    },
    {
      "cell_type": "code",
      "metadata": {
        "id": "0aEtx7DagOHw",
        "colab_type": "code",
        "outputId": "b5c730ad-8404-4f51-a75c-f1cf31d60362",
        "colab": {
          "base_uri": "https://localhost:8080/",
          "height": 360
        }
      },
      "source": [
        "df_raw.head()"
      ],
      "execution_count": 0,
      "outputs": [
        {
          "output_type": "execute_result",
          "data": {
            "text/html": [
              "<div>\n",
              "<style scoped>\n",
              "    .dataframe tbody tr th:only-of-type {\n",
              "        vertical-align: middle;\n",
              "    }\n",
              "\n",
              "    .dataframe tbody tr th {\n",
              "        vertical-align: top;\n",
              "    }\n",
              "\n",
              "    .dataframe thead th {\n",
              "        text-align: right;\n",
              "    }\n",
              "</style>\n",
              "<table border=\"1\" class=\"dataframe\">\n",
              "  <thead>\n",
              "    <tr style=\"text-align: right;\">\n",
              "      <th></th>\n",
              "      <th>Unnamed: 0</th>\n",
              "      <th>List of static healthcare parameters</th>\n",
              "      <th>Unnamed: 2</th>\n",
              "      <th>Unnamed: 3</th>\n",
              "      <th>Unnamed: 4</th>\n",
              "      <th>Unnamed: 5</th>\n",
              "      <th>Unnamed: 6</th>\n",
              "      <th>Unnamed: 7</th>\n",
              "      <th>Unnamed: 8</th>\n",
              "      <th>Unnamed: 9</th>\n",
              "      <th>Unnamed: 10</th>\n",
              "      <th>Unnamed: 11</th>\n",
              "      <th>Unnamed: 12</th>\n",
              "      <th>Unnamed: 13</th>\n",
              "      <th>Unnamed: 14</th>\n",
              "      <th>Unnamed: 15</th>\n",
              "      <th>Unnamed: 16</th>\n",
              "      <th>Unnamed: 17</th>\n",
              "      <th>Unnamed: 18</th>\n",
              "      <th>Unnamed: 19</th>\n",
              "    </tr>\n",
              "  </thead>\n",
              "  <tbody>\n",
              "    <tr>\n",
              "      <th>0</th>\n",
              "      <td>NaN</td>\n",
              "      <td>NaN</td>\n",
              "      <td>Health care coverage</td>\n",
              "      <td>NaN</td>\n",
              "      <td>NaN</td>\n",
              "      <td>Financial expenditure on healthcare</td>\n",
              "      <td>NaN</td>\n",
              "      <td>NaN</td>\n",
              "      <td>NaN</td>\n",
              "      <td>Healthcare resources</td>\n",
              "      <td>NaN</td>\n",
              "      <td>NaN</td>\n",
              "      <td>General health of population</td>\n",
              "      <td>NaN</td>\n",
              "      <td>NaN</td>\n",
              "      <td>NaN</td>\n",
              "      <td>NaN</td>\n",
              "      <td>Other metrics</td>\n",
              "      <td>NaN</td>\n",
              "      <td>NaN</td>\n",
              "    </tr>\n",
              "    <tr>\n",
              "      <th>1</th>\n",
              "      <td>Country</td>\n",
              "      <td>Class</td>\n",
              "      <td>UHC_index_2017</td>\n",
              "      <td>Health_Access_Quality_Index_2016 (over 100)</td>\n",
              "      <td>Basic_Sanitization_Service_%People</td>\n",
              "      <td>Health_Expenditure_per_GDP</td>\n",
              "      <td>Health_Expenditure_per_capita_PPP_USD$</td>\n",
              "      <td>OOP_per_capita_PPP</td>\n",
              "      <td>Total_public_and_private_health_insurance_cove...</td>\n",
              "      <td>Physicians_per_10000_population</td>\n",
              "      <td>Nurses_per_10000_population</td>\n",
              "      <td>Critical_Beds_per_10000_Population</td>\n",
              "      <td>Life_Expectancy_years</td>\n",
              "      <td>Probability_of_Dying_between_30_70_from_chroni...</td>\n",
              "      <td>Adult_Mortality_Rate_per_1000_population_2016 ...</td>\n",
              "      <td>population_over_65_in_%(2018)</td>\n",
              "      <td>smoking_prevalence_2012(%)</td>\n",
              "      <td>Population_Density_per_sq_km</td>\n",
              "      <td>Population_2019</td>\n",
              "      <td>Hand_hygiene_materials_at_points_of_care_2016 (%)</td>\n",
              "    </tr>\n",
              "    <tr>\n",
              "      <th>2</th>\n",
              "      <td>Argentina</td>\n",
              "      <td>Upper middle income</td>\n",
              "      <td>76</td>\n",
              "      <td>68.1</td>\n",
              "      <td>94.26</td>\n",
              "      <td>9.124314785</td>\n",
              "      <td>1916.50415</td>\n",
              "      <td>287.8306885</td>\n",
              "      <td>100</td>\n",
              "      <td>39.901</td>\n",
              "      <td>26</td>\n",
              "      <td>50</td>\n",
              "      <td>76.667</td>\n",
              "      <td>15.8</td>\n",
              "      <td>111</td>\n",
              "      <td>11.11778888</td>\n",
              "      <td>19.299999</td>\n",
              "      <td>16.36</td>\n",
              "      <td>44780677</td>\n",
              "      <td>NaN</td>\n",
              "    </tr>\n",
              "    <tr>\n",
              "      <th>3</th>\n",
              "      <td>Australia</td>\n",
              "      <td>High income</td>\n",
              "      <td>87</td>\n",
              "      <td>95.9</td>\n",
              "      <td>99.99</td>\n",
              "      <td>9.252</td>\n",
              "      <td>4816.153809</td>\n",
              "      <td>874.2332153</td>\n",
              "      <td>100</td>\n",
              "      <td>36.778</td>\n",
              "      <td>125.5</td>\n",
              "      <td>38.4</td>\n",
              "      <td>83.436</td>\n",
              "      <td>9.1</td>\n",
              "      <td>61</td>\n",
              "      <td>15.65647523</td>\n",
              "      <td>16.299999</td>\n",
              "      <td>3.281</td>\n",
              "      <td>25203198</td>\n",
              "      <td>NaN</td>\n",
              "    </tr>\n",
              "    <tr>\n",
              "      <th>4</th>\n",
              "      <td>Bangladesh</td>\n",
              "      <td>Low income</td>\n",
              "      <td>48</td>\n",
              "      <td>47.6</td>\n",
              "      <td>48.23</td>\n",
              "      <td>2.274248749</td>\n",
              "      <td>94.30201721</td>\n",
              "      <td>69.67479706</td>\n",
              "      <td>NaN</td>\n",
              "      <td>5.809</td>\n",
              "      <td>4.12</td>\n",
              "      <td>7.7</td>\n",
              "      <td>72.591</td>\n",
              "      <td>21.6</td>\n",
              "      <td>130</td>\n",
              "      <td>5.15839064</td>\n",
              "      <td>22.4</td>\n",
              "      <td>1253</td>\n",
              "      <td>163046161</td>\n",
              "      <td>68.8064</td>\n",
              "    </tr>\n",
              "  </tbody>\n",
              "</table>\n",
              "</div>"
            ],
            "text/plain": [
              "   Unnamed: 0  ...                                        Unnamed: 19\n",
              "0         NaN  ...                                                NaN\n",
              "1     Country  ...  Hand_hygiene_materials_at_points_of_care_2016 (%)\n",
              "2   Argentina  ...                                                NaN\n",
              "3   Australia  ...                                                NaN\n",
              "4  Bangladesh  ...                                            68.8064\n",
              "\n",
              "[5 rows x 20 columns]"
            ]
          },
          "metadata": {
            "tags": []
          },
          "execution_count": 3
        }
      ]
    },
    {
      "cell_type": "code",
      "metadata": {
        "id": "yCCbiU_FgOIE",
        "colab_type": "code",
        "colab": {}
      },
      "source": [
        "df_raw = df_raw.drop(df_raw.index[0])"
      ],
      "execution_count": 0,
      "outputs": []
    },
    {
      "cell_type": "code",
      "metadata": {
        "id": "UdQpDuuMgOIQ",
        "colab_type": "code",
        "outputId": "00d05bcf-d8ce-4fa5-cd6f-cb5216f69d30",
        "colab": {
          "base_uri": "https://localhost:8080/",
          "height": 221
        }
      },
      "source": [
        "df_raw.iloc[0,:].values"
      ],
      "execution_count": 0,
      "outputs": [
        {
          "output_type": "execute_result",
          "data": {
            "text/plain": [
              "array(['Country', 'Class', 'UHC_index_2017',\n",
              "       'Health_Access_Quality_Index_2016 (over 100)',\n",
              "       'Basic_Sanitization_Service_%People', 'Health_Expenditure_per_GDP',\n",
              "       'Health_Expenditure_per_capita_PPP_USD$', 'OOP_per_capita_PPP',\n",
              "       'Total_public_and_private_health_insurance_coverage',\n",
              "       'Physicians_per_10000_population', 'Nurses_per_10000_population',\n",
              "       'Critical_Beds_per_10000_Population', 'Life_Expectancy_years',\n",
              "       'Probability_of_Dying_between_30_70_from_chronic_diseases',\n",
              "       'Adult_Mortality_Rate_per_1000_population_2016 (per 1000)',\n",
              "       'population_over_65_in_%(2018)', 'smoking_prevalence_2012(%)',\n",
              "       'Population_Density_per_sq_km', 'Population_2019',\n",
              "       'Hand_hygiene_materials_at_points_of_care_2016 (%)'], dtype=object)"
            ]
          },
          "metadata": {
            "tags": []
          },
          "execution_count": 5
        }
      ]
    },
    {
      "cell_type": "code",
      "metadata": {
        "id": "9m9qtuzhgOId",
        "colab_type": "code",
        "colab": {}
      },
      "source": [
        "df_raw.columns = df_raw.iloc[0,:].values"
      ],
      "execution_count": 0,
      "outputs": []
    },
    {
      "cell_type": "code",
      "metadata": {
        "id": "7lhpRsRDgOIo",
        "colab_type": "code",
        "outputId": "c4502100-dc7b-4643-b789-7837c1adcd4a",
        "colab": {
          "base_uri": "https://localhost:8080/",
          "height": 360
        }
      },
      "source": [
        "df_raw.head()"
      ],
      "execution_count": 0,
      "outputs": [
        {
          "output_type": "execute_result",
          "data": {
            "text/html": [
              "<div>\n",
              "<style scoped>\n",
              "    .dataframe tbody tr th:only-of-type {\n",
              "        vertical-align: middle;\n",
              "    }\n",
              "\n",
              "    .dataframe tbody tr th {\n",
              "        vertical-align: top;\n",
              "    }\n",
              "\n",
              "    .dataframe thead th {\n",
              "        text-align: right;\n",
              "    }\n",
              "</style>\n",
              "<table border=\"1\" class=\"dataframe\">\n",
              "  <thead>\n",
              "    <tr style=\"text-align: right;\">\n",
              "      <th></th>\n",
              "      <th>Country</th>\n",
              "      <th>Class</th>\n",
              "      <th>UHC_index_2017</th>\n",
              "      <th>Health_Access_Quality_Index_2016 (over 100)</th>\n",
              "      <th>Basic_Sanitization_Service_%People</th>\n",
              "      <th>Health_Expenditure_per_GDP</th>\n",
              "      <th>Health_Expenditure_per_capita_PPP_USD$</th>\n",
              "      <th>OOP_per_capita_PPP</th>\n",
              "      <th>Total_public_and_private_health_insurance_coverage</th>\n",
              "      <th>Physicians_per_10000_population</th>\n",
              "      <th>Nurses_per_10000_population</th>\n",
              "      <th>Critical_Beds_per_10000_Population</th>\n",
              "      <th>Life_Expectancy_years</th>\n",
              "      <th>Probability_of_Dying_between_30_70_from_chronic_diseases</th>\n",
              "      <th>Adult_Mortality_Rate_per_1000_population_2016 (per 1000)</th>\n",
              "      <th>population_over_65_in_%(2018)</th>\n",
              "      <th>smoking_prevalence_2012(%)</th>\n",
              "      <th>Population_Density_per_sq_km</th>\n",
              "      <th>Population_2019</th>\n",
              "      <th>Hand_hygiene_materials_at_points_of_care_2016 (%)</th>\n",
              "    </tr>\n",
              "  </thead>\n",
              "  <tbody>\n",
              "    <tr>\n",
              "      <th>1</th>\n",
              "      <td>Country</td>\n",
              "      <td>Class</td>\n",
              "      <td>UHC_index_2017</td>\n",
              "      <td>Health_Access_Quality_Index_2016 (over 100)</td>\n",
              "      <td>Basic_Sanitization_Service_%People</td>\n",
              "      <td>Health_Expenditure_per_GDP</td>\n",
              "      <td>Health_Expenditure_per_capita_PPP_USD$</td>\n",
              "      <td>OOP_per_capita_PPP</td>\n",
              "      <td>Total_public_and_private_health_insurance_cove...</td>\n",
              "      <td>Physicians_per_10000_population</td>\n",
              "      <td>Nurses_per_10000_population</td>\n",
              "      <td>Critical_Beds_per_10000_Population</td>\n",
              "      <td>Life_Expectancy_years</td>\n",
              "      <td>Probability_of_Dying_between_30_70_from_chroni...</td>\n",
              "      <td>Adult_Mortality_Rate_per_1000_population_2016 ...</td>\n",
              "      <td>population_over_65_in_%(2018)</td>\n",
              "      <td>smoking_prevalence_2012(%)</td>\n",
              "      <td>Population_Density_per_sq_km</td>\n",
              "      <td>Population_2019</td>\n",
              "      <td>Hand_hygiene_materials_at_points_of_care_2016 (%)</td>\n",
              "    </tr>\n",
              "    <tr>\n",
              "      <th>2</th>\n",
              "      <td>Argentina</td>\n",
              "      <td>Upper middle income</td>\n",
              "      <td>76</td>\n",
              "      <td>68.1</td>\n",
              "      <td>94.26</td>\n",
              "      <td>9.124314785</td>\n",
              "      <td>1916.50415</td>\n",
              "      <td>287.8306885</td>\n",
              "      <td>100</td>\n",
              "      <td>39.901</td>\n",
              "      <td>26</td>\n",
              "      <td>50</td>\n",
              "      <td>76.667</td>\n",
              "      <td>15.8</td>\n",
              "      <td>111</td>\n",
              "      <td>11.11778888</td>\n",
              "      <td>19.299999</td>\n",
              "      <td>16.36</td>\n",
              "      <td>44780677</td>\n",
              "      <td>NaN</td>\n",
              "    </tr>\n",
              "    <tr>\n",
              "      <th>3</th>\n",
              "      <td>Australia</td>\n",
              "      <td>High income</td>\n",
              "      <td>87</td>\n",
              "      <td>95.9</td>\n",
              "      <td>99.99</td>\n",
              "      <td>9.252</td>\n",
              "      <td>4816.153809</td>\n",
              "      <td>874.2332153</td>\n",
              "      <td>100</td>\n",
              "      <td>36.778</td>\n",
              "      <td>125.5</td>\n",
              "      <td>38.4</td>\n",
              "      <td>83.436</td>\n",
              "      <td>9.1</td>\n",
              "      <td>61</td>\n",
              "      <td>15.65647523</td>\n",
              "      <td>16.299999</td>\n",
              "      <td>3.281</td>\n",
              "      <td>25203198</td>\n",
              "      <td>NaN</td>\n",
              "    </tr>\n",
              "    <tr>\n",
              "      <th>4</th>\n",
              "      <td>Bangladesh</td>\n",
              "      <td>Low income</td>\n",
              "      <td>48</td>\n",
              "      <td>47.6</td>\n",
              "      <td>48.23</td>\n",
              "      <td>2.274248749</td>\n",
              "      <td>94.30201721</td>\n",
              "      <td>69.67479706</td>\n",
              "      <td>NaN</td>\n",
              "      <td>5.809</td>\n",
              "      <td>4.12</td>\n",
              "      <td>7.7</td>\n",
              "      <td>72.591</td>\n",
              "      <td>21.6</td>\n",
              "      <td>130</td>\n",
              "      <td>5.15839064</td>\n",
              "      <td>22.4</td>\n",
              "      <td>1253</td>\n",
              "      <td>163046161</td>\n",
              "      <td>68.8064</td>\n",
              "    </tr>\n",
              "    <tr>\n",
              "      <th>5</th>\n",
              "      <td>Brazil</td>\n",
              "      <td>Upper middle income</td>\n",
              "      <td>79</td>\n",
              "      <td>63.8</td>\n",
              "      <td>88.29</td>\n",
              "      <td>9.467476606</td>\n",
              "      <td>1472.230957</td>\n",
              "      <td>404.208313</td>\n",
              "      <td>22.8</td>\n",
              "      <td>21.643</td>\n",
              "      <td>101.2</td>\n",
              "      <td>22</td>\n",
              "      <td>75.881</td>\n",
              "      <td>16.6</td>\n",
              "      <td>143</td>\n",
              "      <td>8.922837832</td>\n",
              "      <td>13.8</td>\n",
              "      <td>25.25</td>\n",
              "      <td>211049527</td>\n",
              "      <td>NaN</td>\n",
              "    </tr>\n",
              "  </tbody>\n",
              "</table>\n",
              "</div>"
            ],
            "text/plain": [
              "      Country  ...  Hand_hygiene_materials_at_points_of_care_2016 (%)\n",
              "1     Country  ...  Hand_hygiene_materials_at_points_of_care_2016 (%)\n",
              "2   Argentina  ...                                                NaN\n",
              "3   Australia  ...                                                NaN\n",
              "4  Bangladesh  ...                                            68.8064\n",
              "5      Brazil  ...                                                NaN\n",
              "\n",
              "[5 rows x 20 columns]"
            ]
          },
          "metadata": {
            "tags": []
          },
          "execution_count": 7
        }
      ]
    },
    {
      "cell_type": "code",
      "metadata": {
        "id": "Wv7zhUqOgOI6",
        "colab_type": "code",
        "colab": {}
      },
      "source": [
        "df = df_raw.drop(df_raw.index[0])"
      ],
      "execution_count": 0,
      "outputs": []
    },
    {
      "cell_type": "code",
      "metadata": {
        "id": "73t-4JLegOJG",
        "colab_type": "code",
        "outputId": "9e5f8c1a-625e-46f7-c59f-3ebe665dd56d",
        "colab": {
          "base_uri": "https://localhost:8080/",
          "height": 360
        }
      },
      "source": [
        "df.head()"
      ],
      "execution_count": 0,
      "outputs": [
        {
          "output_type": "execute_result",
          "data": {
            "text/html": [
              "<div>\n",
              "<style scoped>\n",
              "    .dataframe tbody tr th:only-of-type {\n",
              "        vertical-align: middle;\n",
              "    }\n",
              "\n",
              "    .dataframe tbody tr th {\n",
              "        vertical-align: top;\n",
              "    }\n",
              "\n",
              "    .dataframe thead th {\n",
              "        text-align: right;\n",
              "    }\n",
              "</style>\n",
              "<table border=\"1\" class=\"dataframe\">\n",
              "  <thead>\n",
              "    <tr style=\"text-align: right;\">\n",
              "      <th></th>\n",
              "      <th>Country</th>\n",
              "      <th>Class</th>\n",
              "      <th>UHC_index_2017</th>\n",
              "      <th>Health_Access_Quality_Index_2016 (over 100)</th>\n",
              "      <th>Basic_Sanitization_Service_%People</th>\n",
              "      <th>Health_Expenditure_per_GDP</th>\n",
              "      <th>Health_Expenditure_per_capita_PPP_USD$</th>\n",
              "      <th>OOP_per_capita_PPP</th>\n",
              "      <th>Total_public_and_private_health_insurance_coverage</th>\n",
              "      <th>Physicians_per_10000_population</th>\n",
              "      <th>Nurses_per_10000_population</th>\n",
              "      <th>Critical_Beds_per_10000_Population</th>\n",
              "      <th>Life_Expectancy_years</th>\n",
              "      <th>Probability_of_Dying_between_30_70_from_chronic_diseases</th>\n",
              "      <th>Adult_Mortality_Rate_per_1000_population_2016 (per 1000)</th>\n",
              "      <th>population_over_65_in_%(2018)</th>\n",
              "      <th>smoking_prevalence_2012(%)</th>\n",
              "      <th>Population_Density_per_sq_km</th>\n",
              "      <th>Population_2019</th>\n",
              "      <th>Hand_hygiene_materials_at_points_of_care_2016 (%)</th>\n",
              "    </tr>\n",
              "  </thead>\n",
              "  <tbody>\n",
              "    <tr>\n",
              "      <th>2</th>\n",
              "      <td>Argentina</td>\n",
              "      <td>Upper middle income</td>\n",
              "      <td>76</td>\n",
              "      <td>68.1</td>\n",
              "      <td>94.26</td>\n",
              "      <td>9.124314785</td>\n",
              "      <td>1916.50415</td>\n",
              "      <td>287.8306885</td>\n",
              "      <td>100</td>\n",
              "      <td>39.901</td>\n",
              "      <td>26</td>\n",
              "      <td>50</td>\n",
              "      <td>76.667</td>\n",
              "      <td>15.8</td>\n",
              "      <td>111</td>\n",
              "      <td>11.11778888</td>\n",
              "      <td>19.299999</td>\n",
              "      <td>16.36</td>\n",
              "      <td>44780677</td>\n",
              "      <td>NaN</td>\n",
              "    </tr>\n",
              "    <tr>\n",
              "      <th>3</th>\n",
              "      <td>Australia</td>\n",
              "      <td>High income</td>\n",
              "      <td>87</td>\n",
              "      <td>95.9</td>\n",
              "      <td>99.99</td>\n",
              "      <td>9.252</td>\n",
              "      <td>4816.153809</td>\n",
              "      <td>874.2332153</td>\n",
              "      <td>100</td>\n",
              "      <td>36.778</td>\n",
              "      <td>125.5</td>\n",
              "      <td>38.4</td>\n",
              "      <td>83.436</td>\n",
              "      <td>9.1</td>\n",
              "      <td>61</td>\n",
              "      <td>15.65647523</td>\n",
              "      <td>16.299999</td>\n",
              "      <td>3.281</td>\n",
              "      <td>25203198</td>\n",
              "      <td>NaN</td>\n",
              "    </tr>\n",
              "    <tr>\n",
              "      <th>4</th>\n",
              "      <td>Bangladesh</td>\n",
              "      <td>Low income</td>\n",
              "      <td>48</td>\n",
              "      <td>47.6</td>\n",
              "      <td>48.23</td>\n",
              "      <td>2.274248749</td>\n",
              "      <td>94.30201721</td>\n",
              "      <td>69.67479706</td>\n",
              "      <td>NaN</td>\n",
              "      <td>5.809</td>\n",
              "      <td>4.12</td>\n",
              "      <td>7.7</td>\n",
              "      <td>72.591</td>\n",
              "      <td>21.6</td>\n",
              "      <td>130</td>\n",
              "      <td>5.15839064</td>\n",
              "      <td>22.4</td>\n",
              "      <td>1253</td>\n",
              "      <td>163046161</td>\n",
              "      <td>68.8064</td>\n",
              "    </tr>\n",
              "    <tr>\n",
              "      <th>5</th>\n",
              "      <td>Brazil</td>\n",
              "      <td>Upper middle income</td>\n",
              "      <td>79</td>\n",
              "      <td>63.8</td>\n",
              "      <td>88.29</td>\n",
              "      <td>9.467476606</td>\n",
              "      <td>1472.230957</td>\n",
              "      <td>404.208313</td>\n",
              "      <td>22.8</td>\n",
              "      <td>21.643</td>\n",
              "      <td>101.2</td>\n",
              "      <td>22</td>\n",
              "      <td>75.881</td>\n",
              "      <td>16.6</td>\n",
              "      <td>143</td>\n",
              "      <td>8.922837832</td>\n",
              "      <td>13.8</td>\n",
              "      <td>25.25</td>\n",
              "      <td>211049527</td>\n",
              "      <td>NaN</td>\n",
              "    </tr>\n",
              "    <tr>\n",
              "      <th>6</th>\n",
              "      <td>Canada</td>\n",
              "      <td>High income</td>\n",
              "      <td>89</td>\n",
              "      <td>93.8</td>\n",
              "      <td>99.29</td>\n",
              "      <td>10.734</td>\n",
              "      <td>4928.62793</td>\n",
              "      <td>700.838562</td>\n",
              "      <td>100</td>\n",
              "      <td>23.105</td>\n",
              "      <td>99.44</td>\n",
              "      <td>25</td>\n",
              "      <td>82.434</td>\n",
              "      <td>9.8</td>\n",
              "      <td>63</td>\n",
              "      <td>17.23200668</td>\n",
              "      <td>14.5</td>\n",
              "      <td>4.114</td>\n",
              "      <td>37411047</td>\n",
              "      <td>NaN</td>\n",
              "    </tr>\n",
              "  </tbody>\n",
              "</table>\n",
              "</div>"
            ],
            "text/plain": [
              "      Country  ... Hand_hygiene_materials_at_points_of_care_2016 (%)\n",
              "2   Argentina  ...                                               NaN\n",
              "3   Australia  ...                                               NaN\n",
              "4  Bangladesh  ...                                           68.8064\n",
              "5      Brazil  ...                                               NaN\n",
              "6      Canada  ...                                               NaN\n",
              "\n",
              "[5 rows x 20 columns]"
            ]
          },
          "metadata": {
            "tags": []
          },
          "execution_count": 9
        }
      ]
    },
    {
      "cell_type": "markdown",
      "metadata": {
        "id": "aNNf15rtgOJS",
        "colab_type": "text"
      },
      "source": [
        "#### Pre-processing and Feature Selection"
      ]
    },
    {
      "cell_type": "markdown",
      "metadata": {
        "id": "cBbJ-J-agOJU",
        "colab_type": "text"
      },
      "source": [
        "The features to be included in the decision making:\n",
        "\n",
        "    1. Physicians_per_10000 population\n",
        "    2. Critical_Beds_per_10000_Population\n",
        "    3. Probability_of_Dying_between_30_70\n",
        "    4. Health_Access_Quality_Index_2016 (over 100)\n",
        "    5. Basic_Sanitization_Service_%People\n",
        "    Extra two features:\n",
        "    6. Adult_Mortality_Rate_per_1000_population_2016 (per 1000)\n",
        "    7. Life_Expectancy_years"
      ]
    },
    {
      "cell_type": "code",
      "metadata": {
        "id": "lxvN896GgOJX",
        "colab_type": "code",
        "outputId": "cc60ed9d-872f-4f7a-cbd6-412afe1816a0",
        "colab": {
          "base_uri": "https://localhost:8080/",
          "height": 238
        }
      },
      "source": [
        "\n",
        "\n",
        "df.columns"
      ],
      "execution_count": 0,
      "outputs": [
        {
          "output_type": "execute_result",
          "data": {
            "text/plain": [
              "Index(['Country', 'Class', 'UHC_index_2017',\n",
              "       'Health_Access_Quality_Index_2016 (over 100)',\n",
              "       'Basic_Sanitization_Service_%People', 'Health_Expenditure_per_GDP',\n",
              "       'Health_Expenditure_per_capita_PPP_USD$', 'OOP_per_capita_PPP',\n",
              "       'Total_public_and_private_health_insurance_coverage',\n",
              "       'Physicians_per_10000_population', 'Nurses_per_10000_population',\n",
              "       'Critical_Beds_per_10000_Population', 'Life_Expectancy_years',\n",
              "       'Probability_of_Dying_between_30_70_from_chronic_diseases',\n",
              "       'Adult_Mortality_Rate_per_1000_population_2016 (per 1000)',\n",
              "       'population_over_65_in_%(2018)', 'smoking_prevalence_2012(%)',\n",
              "       'Population_Density_per_sq_km', 'Population_2019',\n",
              "       'Hand_hygiene_materials_at_points_of_care_2016 (%)'],\n",
              "      dtype='object')"
            ]
          },
          "metadata": {
            "tags": []
          },
          "execution_count": 10
        }
      ]
    },
    {
      "cell_type": "code",
      "metadata": {
        "id": "Zvg2x8ufgOJj",
        "colab_type": "code",
        "colab": {}
      },
      "source": [
        "df_final = df.loc[:, ['Country','Physicians_per_10000_population','Critical_Beds_per_10000_Population',\n",
        "                      'Probability_of_Dying_between_30_70_from_chronic_diseases','Health_Access_Quality_Index_2016 (over 100)',\n",
        "                     'Basic_Sanitization_Service_%People',\n",
        "                     'Adult_Mortality_Rate_per_1000_population_2016 (per 1000)',\n",
        "                     'Life_Expectancy_years']]"
      ],
      "execution_count": 0,
      "outputs": []
    },
    {
      "cell_type": "code",
      "metadata": {
        "id": "aJVaXv36gOJv",
        "colab_type": "code",
        "colab": {}
      },
      "source": [
        "df_temp = df_final.copy()"
      ],
      "execution_count": 0,
      "outputs": []
    },
    {
      "cell_type": "code",
      "metadata": {
        "id": "zIDUWmqfgOJ6",
        "colab_type": "code",
        "outputId": "de10d948-9826-4f65-b68d-1d78b4024ea8",
        "colab": {
          "base_uri": "https://localhost:8080/",
          "height": 34
        }
      },
      "source": [
        "len(df_temp.columns)"
      ],
      "execution_count": 0,
      "outputs": [
        {
          "output_type": "execute_result",
          "data": {
            "text/plain": [
              "8"
            ]
          },
          "metadata": {
            "tags": []
          },
          "execution_count": 13
        }
      ]
    },
    {
      "cell_type": "code",
      "metadata": {
        "id": "36_aZuregOKD",
        "colab_type": "code",
        "outputId": "1370a393-b7b7-440a-bc57-2f56922bf3be",
        "colab": {
          "base_uri": "https://localhost:8080/",
          "height": 241
        }
      },
      "source": [
        "df_temp.head()"
      ],
      "execution_count": 0,
      "outputs": [
        {
          "output_type": "execute_result",
          "data": {
            "text/html": [
              "<div>\n",
              "<style scoped>\n",
              "    .dataframe tbody tr th:only-of-type {\n",
              "        vertical-align: middle;\n",
              "    }\n",
              "\n",
              "    .dataframe tbody tr th {\n",
              "        vertical-align: top;\n",
              "    }\n",
              "\n",
              "    .dataframe thead th {\n",
              "        text-align: right;\n",
              "    }\n",
              "</style>\n",
              "<table border=\"1\" class=\"dataframe\">\n",
              "  <thead>\n",
              "    <tr style=\"text-align: right;\">\n",
              "      <th></th>\n",
              "      <th>Country</th>\n",
              "      <th>Physicians_per_10000_population</th>\n",
              "      <th>Critical_Beds_per_10000_Population</th>\n",
              "      <th>Probability_of_Dying_between_30_70_from_chronic_diseases</th>\n",
              "      <th>Health_Access_Quality_Index_2016 (over 100)</th>\n",
              "      <th>Basic_Sanitization_Service_%People</th>\n",
              "      <th>Adult_Mortality_Rate_per_1000_population_2016 (per 1000)</th>\n",
              "      <th>Life_Expectancy_years</th>\n",
              "    </tr>\n",
              "  </thead>\n",
              "  <tbody>\n",
              "    <tr>\n",
              "      <th>2</th>\n",
              "      <td>Argentina</td>\n",
              "      <td>39.901</td>\n",
              "      <td>50</td>\n",
              "      <td>15.8</td>\n",
              "      <td>68.1</td>\n",
              "      <td>94.26</td>\n",
              "      <td>111</td>\n",
              "      <td>76.667</td>\n",
              "    </tr>\n",
              "    <tr>\n",
              "      <th>3</th>\n",
              "      <td>Australia</td>\n",
              "      <td>36.778</td>\n",
              "      <td>38.4</td>\n",
              "      <td>9.1</td>\n",
              "      <td>95.9</td>\n",
              "      <td>99.99</td>\n",
              "      <td>61</td>\n",
              "      <td>83.436</td>\n",
              "    </tr>\n",
              "    <tr>\n",
              "      <th>4</th>\n",
              "      <td>Bangladesh</td>\n",
              "      <td>5.809</td>\n",
              "      <td>7.7</td>\n",
              "      <td>21.6</td>\n",
              "      <td>47.6</td>\n",
              "      <td>48.23</td>\n",
              "      <td>130</td>\n",
              "      <td>72.591</td>\n",
              "    </tr>\n",
              "    <tr>\n",
              "      <th>5</th>\n",
              "      <td>Brazil</td>\n",
              "      <td>21.643</td>\n",
              "      <td>22</td>\n",
              "      <td>16.6</td>\n",
              "      <td>63.8</td>\n",
              "      <td>88.29</td>\n",
              "      <td>143</td>\n",
              "      <td>75.881</td>\n",
              "    </tr>\n",
              "    <tr>\n",
              "      <th>6</th>\n",
              "      <td>Canada</td>\n",
              "      <td>23.105</td>\n",
              "      <td>25</td>\n",
              "      <td>9.8</td>\n",
              "      <td>93.8</td>\n",
              "      <td>99.29</td>\n",
              "      <td>63</td>\n",
              "      <td>82.434</td>\n",
              "    </tr>\n",
              "  </tbody>\n",
              "</table>\n",
              "</div>"
            ],
            "text/plain": [
              "      Country  ... Life_Expectancy_years\n",
              "2   Argentina  ...                76.667\n",
              "3   Australia  ...                83.436\n",
              "4  Bangladesh  ...                72.591\n",
              "5      Brazil  ...                75.881\n",
              "6      Canada  ...                82.434\n",
              "\n",
              "[5 rows x 8 columns]"
            ]
          },
          "metadata": {
            "tags": []
          },
          "execution_count": 14
        }
      ]
    },
    {
      "cell_type": "code",
      "metadata": {
        "id": "koE2utZrgOKM",
        "colab_type": "code",
        "colab": {}
      },
      "source": [
        "from sklearn.preprocessing import StandardScaler"
      ],
      "execution_count": 0,
      "outputs": []
    },
    {
      "cell_type": "code",
      "metadata": {
        "id": "Ly8EORG9gOKU",
        "colab_type": "code",
        "colab": {}
      },
      "source": [
        "scaler = StandardScaler()\n",
        "\n",
        "df_temp.iloc[:,1:] = scaler.fit_transform(df_temp.iloc[:,1:])"
      ],
      "execution_count": 0,
      "outputs": []
    },
    {
      "cell_type": "code",
      "metadata": {
        "id": "ZUBh51LPgOKd",
        "colab_type": "code",
        "outputId": "b36431ea-9ffd-4f58-f10b-709743c02194",
        "colab": {
          "base_uri": "https://localhost:8080/",
          "height": 241
        }
      },
      "source": [
        "df_temp.head()"
      ],
      "execution_count": 0,
      "outputs": [
        {
          "output_type": "execute_result",
          "data": {
            "text/html": [
              "<div>\n",
              "<style scoped>\n",
              "    .dataframe tbody tr th:only-of-type {\n",
              "        vertical-align: middle;\n",
              "    }\n",
              "\n",
              "    .dataframe tbody tr th {\n",
              "        vertical-align: top;\n",
              "    }\n",
              "\n",
              "    .dataframe thead th {\n",
              "        text-align: right;\n",
              "    }\n",
              "</style>\n",
              "<table border=\"1\" class=\"dataframe\">\n",
              "  <thead>\n",
              "    <tr style=\"text-align: right;\">\n",
              "      <th></th>\n",
              "      <th>Country</th>\n",
              "      <th>Physicians_per_10000_population</th>\n",
              "      <th>Critical_Beds_per_10000_Population</th>\n",
              "      <th>Probability_of_Dying_between_30_70_from_chronic_diseases</th>\n",
              "      <th>Health_Access_Quality_Index_2016 (over 100)</th>\n",
              "      <th>Basic_Sanitization_Service_%People</th>\n",
              "      <th>Adult_Mortality_Rate_per_1000_population_2016 (per 1000)</th>\n",
              "      <th>Life_Expectancy_years</th>\n",
              "    </tr>\n",
              "  </thead>\n",
              "  <tbody>\n",
              "    <tr>\n",
              "      <th>2</th>\n",
              "      <td>Argentina</td>\n",
              "      <td>1.57315</td>\n",
              "      <td>0.65704</td>\n",
              "      <td>-0.19096</td>\n",
              "      <td>0.109572</td>\n",
              "      <td>0.56649</td>\n",
              "      <td>-0.325189</td>\n",
              "      <td>0.253676</td>\n",
              "    </tr>\n",
              "    <tr>\n",
              "      <th>3</th>\n",
              "      <td>Australia</td>\n",
              "      <td>1.34076</td>\n",
              "      <td>0.274832</td>\n",
              "      <td>-1.33623</td>\n",
              "      <td>1.32802</td>\n",
              "      <td>0.801507</td>\n",
              "      <td>-1.00658</td>\n",
              "      <td>1.23502</td>\n",
              "    </tr>\n",
              "    <tr>\n",
              "      <th>4</th>\n",
              "      <td>Bangladesh</td>\n",
              "      <td>-0.963689</td>\n",
              "      <td>-0.736701</td>\n",
              "      <td>0.800468</td>\n",
              "      <td>-0.788921</td>\n",
              "      <td>-1.32144</td>\n",
              "      <td>-0.0662588</td>\n",
              "      <td>-0.337249</td>\n",
              "    </tr>\n",
              "    <tr>\n",
              "      <th>5</th>\n",
              "      <td>Brazil</td>\n",
              "      <td>0.214543</td>\n",
              "      <td>-0.265531</td>\n",
              "      <td>-0.054211</td>\n",
              "      <td>-0.0788921</td>\n",
              "      <td>0.321629</td>\n",
              "      <td>0.110904</td>\n",
              "      <td>0.139724</td>\n",
              "    </tr>\n",
              "    <tr>\n",
              "      <th>6</th>\n",
              "      <td>Canada</td>\n",
              "      <td>0.323333</td>\n",
              "      <td>-0.166684</td>\n",
              "      <td>-1.21657</td>\n",
              "      <td>1.23598</td>\n",
              "      <td>0.772796</td>\n",
              "      <td>-0.979328</td>\n",
              "      <td>1.08976</td>\n",
              "    </tr>\n",
              "  </tbody>\n",
              "</table>\n",
              "</div>"
            ],
            "text/plain": [
              "      Country  ... Life_Expectancy_years\n",
              "2   Argentina  ...              0.253676\n",
              "3   Australia  ...               1.23502\n",
              "4  Bangladesh  ...             -0.337249\n",
              "5      Brazil  ...              0.139724\n",
              "6      Canada  ...               1.08976\n",
              "\n",
              "[5 rows x 8 columns]"
            ]
          },
          "metadata": {
            "tags": []
          },
          "execution_count": 17
        }
      ]
    },
    {
      "cell_type": "code",
      "metadata": {
        "id": "Ba0SGFX0gOKo",
        "colab_type": "code",
        "outputId": "2488c588-ded1-4500-f23a-b1bc3914002a",
        "colab": {
          "base_uri": "https://localhost:8080/",
          "height": 34
        }
      },
      "source": [
        "print('Number of Countries: ', df_temp.shape[0])"
      ],
      "execution_count": 0,
      "outputs": [
        {
          "output_type": "stream",
          "text": [
            "Number of Countries:  35\n"
          ],
          "name": "stdout"
        }
      ]
    },
    {
      "cell_type": "markdown",
      "metadata": {
        "id": "0TmQCyRHhHV6",
        "colab_type": "text"
      },
      "source": [
        "# Spectal clustering\n",
        "\n"
      ]
    },
    {
      "cell_type": "code",
      "metadata": {
        "id": "UrhLxx0I-FBS",
        "colab_type": "code",
        "colab": {}
      },
      "source": [
        "from sklearn.cluster import SpectralClustering"
      ],
      "execution_count": 0,
      "outputs": []
    },
    {
      "cell_type": "code",
      "metadata": {
        "id": "YzFNonEFf34w",
        "colab_type": "code",
        "outputId": "b6803635-1dd8-4e14-b6fb-d24aac2737c8",
        "colab": {
          "base_uri": "https://localhost:8080/",
          "height": 51
        }
      },
      "source": [
        "X = df_temp.iloc[:,1:].values\n",
        "spectral_clustering = SpectralClustering(n_clusters=7,\n",
        "                                assign_labels=\"discretize\",\n",
        "                                random_state=0).fit(X)\n",
        "spectral_clustering.labels_"
      ],
      "execution_count": 0,
      "outputs": [
        {
          "output_type": "execute_result",
          "data": {
            "text/plain": [
              "array([2, 6, 5, 0, 6, 0, 6, 6, 0, 5, 4, 2, 5, 5, 0, 6, 3, 4, 3, 0, 5, 5,\n",
              "       5, 2, 5, 6, 1, 2, 6, 0, 0, 0, 5, 5, 1])"
            ]
          },
          "metadata": {
            "tags": []
          },
          "execution_count": 20
        }
      ]
    },
    {
      "cell_type": "markdown",
      "metadata": {
        "id": "2iqDLG6CgOLg",
        "colab_type": "text"
      },
      "source": [
        "#### Plotting the Clusters"
      ]
    },
    {
      "cell_type": "code",
      "metadata": {
        "id": "Qo6coFpogOLi",
        "colab_type": "code",
        "outputId": "c0a926b7-5c60-4b35-b76a-e1a94af37a2d",
        "colab": {
          "base_uri": "https://localhost:8080/",
          "height": 241
        }
      },
      "source": [
        "df_temp.head()"
      ],
      "execution_count": 0,
      "outputs": [
        {
          "output_type": "execute_result",
          "data": {
            "text/html": [
              "<div>\n",
              "<style scoped>\n",
              "    .dataframe tbody tr th:only-of-type {\n",
              "        vertical-align: middle;\n",
              "    }\n",
              "\n",
              "    .dataframe tbody tr th {\n",
              "        vertical-align: top;\n",
              "    }\n",
              "\n",
              "    .dataframe thead th {\n",
              "        text-align: right;\n",
              "    }\n",
              "</style>\n",
              "<table border=\"1\" class=\"dataframe\">\n",
              "  <thead>\n",
              "    <tr style=\"text-align: right;\">\n",
              "      <th></th>\n",
              "      <th>Country</th>\n",
              "      <th>Physicians_per_10000_population</th>\n",
              "      <th>Critical_Beds_per_10000_Population</th>\n",
              "      <th>Probability_of_Dying_between_30_70_from_chronic_diseases</th>\n",
              "      <th>Health_Access_Quality_Index_2016 (over 100)</th>\n",
              "      <th>Basic_Sanitization_Service_%People</th>\n",
              "      <th>Adult_Mortality_Rate_per_1000_population_2016 (per 1000)</th>\n",
              "      <th>Life_Expectancy_years</th>\n",
              "    </tr>\n",
              "  </thead>\n",
              "  <tbody>\n",
              "    <tr>\n",
              "      <th>2</th>\n",
              "      <td>Argentina</td>\n",
              "      <td>1.57315</td>\n",
              "      <td>0.65704</td>\n",
              "      <td>-0.19096</td>\n",
              "      <td>0.109572</td>\n",
              "      <td>0.56649</td>\n",
              "      <td>-0.325189</td>\n",
              "      <td>0.253676</td>\n",
              "    </tr>\n",
              "    <tr>\n",
              "      <th>3</th>\n",
              "      <td>Australia</td>\n",
              "      <td>1.34076</td>\n",
              "      <td>0.274832</td>\n",
              "      <td>-1.33623</td>\n",
              "      <td>1.32802</td>\n",
              "      <td>0.801507</td>\n",
              "      <td>-1.00658</td>\n",
              "      <td>1.23502</td>\n",
              "    </tr>\n",
              "    <tr>\n",
              "      <th>4</th>\n",
              "      <td>Bangladesh</td>\n",
              "      <td>-0.963689</td>\n",
              "      <td>-0.736701</td>\n",
              "      <td>0.800468</td>\n",
              "      <td>-0.788921</td>\n",
              "      <td>-1.32144</td>\n",
              "      <td>-0.0662588</td>\n",
              "      <td>-0.337249</td>\n",
              "    </tr>\n",
              "    <tr>\n",
              "      <th>5</th>\n",
              "      <td>Brazil</td>\n",
              "      <td>0.214543</td>\n",
              "      <td>-0.265531</td>\n",
              "      <td>-0.054211</td>\n",
              "      <td>-0.0788921</td>\n",
              "      <td>0.321629</td>\n",
              "      <td>0.110904</td>\n",
              "      <td>0.139724</td>\n",
              "    </tr>\n",
              "    <tr>\n",
              "      <th>6</th>\n",
              "      <td>Canada</td>\n",
              "      <td>0.323333</td>\n",
              "      <td>-0.166684</td>\n",
              "      <td>-1.21657</td>\n",
              "      <td>1.23598</td>\n",
              "      <td>0.772796</td>\n",
              "      <td>-0.979328</td>\n",
              "      <td>1.08976</td>\n",
              "    </tr>\n",
              "  </tbody>\n",
              "</table>\n",
              "</div>"
            ],
            "text/plain": [
              "      Country  ... Life_Expectancy_years\n",
              "2   Argentina  ...              0.253676\n",
              "3   Australia  ...               1.23502\n",
              "4  Bangladesh  ...             -0.337249\n",
              "5      Brazil  ...              0.139724\n",
              "6      Canada  ...               1.08976\n",
              "\n",
              "[5 rows x 8 columns]"
            ]
          },
          "metadata": {
            "tags": []
          },
          "execution_count": 21
        }
      ]
    },
    {
      "cell_type": "code",
      "metadata": {
        "id": "h_YyiWvugOLq",
        "colab_type": "code",
        "colab": {}
      },
      "source": [
        "from sklearn.decomposition import PCA"
      ],
      "execution_count": 0,
      "outputs": []
    },
    {
      "cell_type": "code",
      "metadata": {
        "id": "-MkNILDfgOLw",
        "colab_type": "code",
        "colab": {}
      },
      "source": [
        "pca = PCA(n_components= 2)"
      ],
      "execution_count": 0,
      "outputs": []
    },
    {
      "cell_type": "code",
      "metadata": {
        "id": "LLJ9nWgfgOL2",
        "colab_type": "code",
        "colab": {}
      },
      "source": [
        "X_pca = pca.fit_transform(X)"
      ],
      "execution_count": 0,
      "outputs": []
    },
    {
      "cell_type": "code",
      "metadata": {
        "id": "SPIXu12IgOL7",
        "colab_type": "code",
        "colab": {}
      },
      "source": [
        "cluster_df = pd.DataFrame()"
      ],
      "execution_count": 0,
      "outputs": []
    },
    {
      "cell_type": "code",
      "metadata": {
        "id": "Re6IEXVdgOMD",
        "colab_type": "code",
        "colab": {}
      },
      "source": [
        "cluster_df['Country'] = df_temp['Country']"
      ],
      "execution_count": 0,
      "outputs": []
    },
    {
      "cell_type": "code",
      "metadata": {
        "id": "0NNNWH50gOMI",
        "colab_type": "code",
        "colab": {}
      },
      "source": [
        "component_1 = []\n",
        "component_2 = []\n",
        "\n",
        "for i in range(len(X_pca)):\n",
        "    component_1.append(X_pca[i][0])\n",
        "       \n",
        "for j in range(len(X_pca)):\n",
        "    component_2.append(X_pca[j][1])"
      ],
      "execution_count": 0,
      "outputs": []
    },
    {
      "cell_type": "code",
      "metadata": {
        "id": "-8G313zNgOMN",
        "colab_type": "code",
        "colab": {}
      },
      "source": [
        "cluster_df['pca_1'] = component_1\n",
        "cluster_df['pca_2'] = component_2"
      ],
      "execution_count": 0,
      "outputs": []
    },
    {
      "cell_type": "code",
      "metadata": {
        "id": "JWEUkHUygOMT",
        "colab_type": "code",
        "colab": {}
      },
      "source": [
        "cluster_df['Cluster'] = spectral_clustering.labels_"
      ],
      "execution_count": 0,
      "outputs": []
    },
    {
      "cell_type": "code",
      "metadata": {
        "id": "ExYDWUnQgOMY",
        "colab_type": "code",
        "outputId": "318e604c-ed0b-4616-d26a-c2f439d0c1ad",
        "colab": {
          "base_uri": "https://localhost:8080/",
          "height": 359
        }
      },
      "source": [
        "cluster_df.head(10)"
      ],
      "execution_count": 0,
      "outputs": [
        {
          "output_type": "execute_result",
          "data": {
            "text/html": [
              "<div>\n",
              "<style scoped>\n",
              "    .dataframe tbody tr th:only-of-type {\n",
              "        vertical-align: middle;\n",
              "    }\n",
              "\n",
              "    .dataframe tbody tr th {\n",
              "        vertical-align: top;\n",
              "    }\n",
              "\n",
              "    .dataframe thead th {\n",
              "        text-align: right;\n",
              "    }\n",
              "</style>\n",
              "<table border=\"1\" class=\"dataframe\">\n",
              "  <thead>\n",
              "    <tr style=\"text-align: right;\">\n",
              "      <th></th>\n",
              "      <th>Country</th>\n",
              "      <th>pca_1</th>\n",
              "      <th>pca_2</th>\n",
              "      <th>Cluster</th>\n",
              "    </tr>\n",
              "  </thead>\n",
              "  <tbody>\n",
              "    <tr>\n",
              "      <th>2</th>\n",
              "      <td>Argentina</td>\n",
              "      <td>-1.372158</td>\n",
              "      <td>0.353764</td>\n",
              "      <td>2</td>\n",
              "    </tr>\n",
              "    <tr>\n",
              "      <th>3</th>\n",
              "      <td>Australia</td>\n",
              "      <td>-2.821233</td>\n",
              "      <td>-0.552294</td>\n",
              "      <td>6</td>\n",
              "    </tr>\n",
              "    <tr>\n",
              "      <th>4</th>\n",
              "      <td>Bangladesh</td>\n",
              "      <td>1.821285</td>\n",
              "      <td>-0.342210</td>\n",
              "      <td>5</td>\n",
              "    </tr>\n",
              "    <tr>\n",
              "      <th>5</th>\n",
              "      <td>Brazil</td>\n",
              "      <td>-0.127555</td>\n",
              "      <td>-0.251040</td>\n",
              "      <td>0</td>\n",
              "    </tr>\n",
              "    <tr>\n",
              "      <th>6</th>\n",
              "      <td>Canada</td>\n",
              "      <td>-2.132601</td>\n",
              "      <td>-0.876596</td>\n",
              "      <td>6</td>\n",
              "    </tr>\n",
              "    <tr>\n",
              "      <th>7</th>\n",
              "      <td>Costa Rica</td>\n",
              "      <td>-1.364930</td>\n",
              "      <td>-1.046623</td>\n",
              "      <td>0</td>\n",
              "    </tr>\n",
              "    <tr>\n",
              "      <th>8</th>\n",
              "      <td>Germany</td>\n",
              "      <td>-2.968830</td>\n",
              "      <td>0.858238</td>\n",
              "      <td>6</td>\n",
              "    </tr>\n",
              "    <tr>\n",
              "      <th>9</th>\n",
              "      <td>Denmark</td>\n",
              "      <td>-2.424085</td>\n",
              "      <td>-0.848033</td>\n",
              "      <td>6</td>\n",
              "    </tr>\n",
              "    <tr>\n",
              "      <th>10</th>\n",
              "      <td>Ecuador</td>\n",
              "      <td>-0.409289</td>\n",
              "      <td>-0.721966</td>\n",
              "      <td>0</td>\n",
              "    </tr>\n",
              "    <tr>\n",
              "      <th>11</th>\n",
              "      <td>Egypt</td>\n",
              "      <td>1.413036</td>\n",
              "      <td>0.136110</td>\n",
              "      <td>5</td>\n",
              "    </tr>\n",
              "  </tbody>\n",
              "</table>\n",
              "</div>"
            ],
            "text/plain": [
              "       Country     pca_1     pca_2  Cluster\n",
              "2    Argentina -1.372158  0.353764        2\n",
              "3    Australia -2.821233 -0.552294        6\n",
              "4   Bangladesh  1.821285 -0.342210        5\n",
              "5       Brazil -0.127555 -0.251040        0\n",
              "6       Canada -2.132601 -0.876596        6\n",
              "7   Costa Rica -1.364930 -1.046623        0\n",
              "8      Germany -2.968830  0.858238        6\n",
              "9      Denmark -2.424085 -0.848033        6\n",
              "10     Ecuador -0.409289 -0.721966        0\n",
              "11       Egypt  1.413036  0.136110        5"
            ]
          },
          "metadata": {
            "tags": []
          },
          "execution_count": 30
        }
      ]
    },
    {
      "cell_type": "code",
      "metadata": {
        "id": "D5VxTTWx_New",
        "colab_type": "code",
        "colab": {}
      },
      "source": [
        "#cluster_df.to_csv('clustered_data.csv')"
      ],
      "execution_count": 0,
      "outputs": []
    },
    {
      "cell_type": "code",
      "metadata": {
        "id": "h7A_eOpigOMe",
        "colab_type": "code",
        "outputId": "bf5d1d1f-a21f-4503-8790-de5641b18115",
        "colab": {
          "base_uri": "https://localhost:8080/",
          "height": 34
        }
      },
      "source": [
        "cluster_df.columns"
      ],
      "execution_count": 0,
      "outputs": [
        {
          "output_type": "execute_result",
          "data": {
            "text/plain": [
              "Index(['Country', 'pca_1', 'pca_2', 'Cluster'], dtype='object')"
            ]
          },
          "metadata": {
            "tags": []
          },
          "execution_count": 31
        }
      ]
    },
    {
      "cell_type": "code",
      "metadata": {
        "id": "RIIWbByUgOMj",
        "colab_type": "code",
        "outputId": "8741c5e8-2b49-4993-9a7f-a1cc332a0ca4",
        "colab": {
          "base_uri": "https://localhost:8080/",
          "height": 639
        }
      },
      "source": [
        "# basic plot\n",
        "plt.figure(figsize=(10,10))\n",
        "p1 = sns.scatterplot(x= 'pca_1', y= 'pca_2', data= cluster_df, hue= 'Cluster', palette = 'Accent')\n",
        "\n",
        "for line in range(0,cluster_df.shape[0]):\n",
        "    p1.text(cluster_df.pca_1.iloc[line]+0.1, cluster_df.pca_2.iloc[line], cluster_df.Country.iloc[line],  horizontalalignment='left', size='medium', color='black', weight='medium')\n",
        "    \n",
        "p1.grid()\n",
        "plt.title('Cluster Plot for 7 Features')"
      ],
      "execution_count": 0,
      "outputs": [
        {
          "output_type": "execute_result",
          "data": {
            "text/plain": [
              "Text(0.5, 1.0, 'Cluster Plot for 7 Features')"
            ]
          },
          "metadata": {
            "tags": []
          },
          "execution_count": 32
        },
        {
          "output_type": "display_data",
          "data": {
            "image/png": "[encoded data removed]",
            "text/plain": [
              "<Figure size 720x720 with 1 Axes>"
            ]
          },
          "metadata": {
            "tags": [],
            "needs_background": "light"
          }
        }
      ]
    },
    {
      "cell_type": "markdown",
      "metadata": {
        "id": "-QexaHNEk44V",
        "colab_type": "text"
      },
      "source": [
        "# Finding optimal cluster number"
      ]
    },
    {
      "cell_type": "code",
      "metadata": {
        "id": "TnnJFocJkckN",
        "colab_type": "code",
        "colab": {}
      },
      "source": [
        "from scipy.spatial.distance import pdist, squareform\n",
        "def getAffinityMatrix(coordinates, k = 7):\n",
        "    \"\"\"\n",
        "    Calculate affinity matrix based on input coordinates matrix and the numeber\n",
        "    of nearest neighbours.\n",
        "    \n",
        "    Apply local scaling based on the k nearest neighbour\n",
        "        References:\n",
        "    https://papers.nips.cc/paper/2619-self-tuning-spectral-clustering.pdf\n",
        "    \"\"\"\n",
        "    # calculate euclidian distance matrix\n",
        "    dists = squareform(pdist(coordinates)) \n",
        "    \n",
        "    # for each row, sort the distances ascendingly and take the index of the \n",
        "    #k-th position (nearest neighbour)\n",
        "    knn_distances = np.sort(dists, axis=0)[k]\n",
        "    knn_distances = knn_distances[np.newaxis].T\n",
        "    \n",
        "    # calculate sigma_i * sigma_j\n",
        "    local_scale = knn_distances.dot(knn_distances.T)\n",
        "\n",
        "    affinity_matrix = dists * dists\n",
        "    affinity_matrix = -affinity_matrix / local_scale\n",
        "    # divide square distance matrix by local scale\n",
        "    affinity_matrix[np.where(np.isnan(affinity_matrix))] = 0.0\n",
        "    # apply exponential\n",
        "    affinity_matrix = np.exp(affinity_matrix)\n",
        "    np.fill_diagonal(affinity_matrix, 0)\n",
        "    return affinity_matrix"
      ],
      "execution_count": 0,
      "outputs": []
    },
    {
      "cell_type": "code",
      "metadata": {
        "id": "vxhCAymSkdsr",
        "colab_type": "code",
        "colab": {}
      },
      "source": [
        "affinity_matrix = getAffinityMatrix(X, k = 7)"
      ],
      "execution_count": 0,
      "outputs": []
    },
    {
      "cell_type": "code",
      "metadata": {
        "id": "upJ-fORDkhay",
        "colab_type": "code",
        "colab": {}
      },
      "source": [
        "import scipy\n",
        "from scipy.sparse import csgraph\n",
        "# from scipy.sparse.linalg import eigsh\n",
        "from numpy import linalg as LA\n",
        "def eigenDecomposition(A, plot = True, topK = 5):\n",
        "    \"\"\"\n",
        "    :param A: Affinity matrix\n",
        "    :param plot: plots the sorted eigen values for visual inspection\n",
        "    :return A tuple containing:\n",
        "    - the optimal number of clusters by eigengap heuristic\n",
        "    - all eigen values\n",
        "    - all eigen vectors\n",
        "    \n",
        "    This method performs the eigen decomposition on a given affinity matrix,\n",
        "    following the steps recommended in the paper:\n",
        "    1. Construct the normalized affinity matrix: L = D−1/2ADˆ −1/2.\n",
        "    2. Find the eigenvalues and their associated eigen vectors\n",
        "    3. Identify the maximum gap which corresponds to the number of clusters\n",
        "    by eigengap heuristic\n",
        "    \n",
        "    References:\n",
        "    https://papers.nips.cc/paper/2619-self-tuning-spectral-clustering.pdf\n",
        "    http://www.kyb.mpg.de/fileadmin/user_upload/files/publications/attachments/Luxburg07_tutorial_4488%5b0%5d.pdf\n",
        "    \"\"\"\n",
        "    L = csgraph.laplacian(A, normed=True)\n",
        "    n_components = A.shape[0]\n",
        "    \n",
        "    # LM parameter : Eigenvalues with largest magnitude (eigs, eigsh), that is, largest eigenvalues in \n",
        "    # the euclidean norm of complex numbers.\n",
        "#     eigenvalues, eigenvectors = eigsh(L, k=n_components, which=\"LM\", sigma=1.0, maxiter=5000)\n",
        "    eigenvalues, eigenvectors = LA.eig(L)\n",
        "    \n",
        "    if plot:\n",
        "        plt.title('Largest eigen values of input matrix')\n",
        "        plt.scatter(np.arange(len(eigenvalues)), eigenvalues)\n",
        "        plt.grid()\n",
        "        \n",
        "    # Identify the optimal number of clusters as the index corresponding\n",
        "    # to the larger gap between eigen values\n",
        "    index_largest_gap = np.argsort(np.diff(eigenvalues))[::-1][:topK]\n",
        "    nb_clusters = index_largest_gap + 1\n",
        "        \n",
        "    return nb_clusters, eigenvalues, eigenvectors"
      ],
      "execution_count": 0,
      "outputs": []
    },
    {
      "cell_type": "code",
      "metadata": {
        "id": "6Wq9oc3LkpsN",
        "colab_type": "code",
        "outputId": "f8ba510f-8757-4309-c0e8-6462e3782e20",
        "colab": {
          "base_uri": "https://localhost:8080/",
          "height": 298
        }
      },
      "source": [
        "affinity_matrix = getAffinityMatrix(X, k = 10)\n",
        "k, _,  _ = eigenDecomposition(affinity_matrix)\n",
        "print(f'Optimal number of clusters {k}')"
      ],
      "execution_count": 0,
      "outputs": [
        {
          "output_type": "stream",
          "text": [
            "Optimal number of clusters [2 7 1 3 6]\n"
          ],
          "name": "stdout"
        },
        {
          "output_type": "display_data",
          "data": {
            "image/png": "[encoded data removed]",
            "text/plain": [
              "<Figure size 432x288 with 1 Axes>"
            ]
          },
          "metadata": {
            "tags": [],
            "needs_background": "light"
          }
        }
      ]
    }
  ]
}