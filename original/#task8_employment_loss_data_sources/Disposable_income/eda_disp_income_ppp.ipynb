{
 "cells": [
  {
   "cell_type": "code",
   "execution_count": 100,
   "metadata": {},
   "outputs": [],
   "source": [
    "#Import libraries\n",
    "import pandas as pd\n",
    "import matplotlib.pyplot as plt\n",
    "%matplotlib inline\n",
    "import seaborn as sns\n",
    "import numpy as np\n",
    "import math\n",
    "import pickle\n",
    "from openpyxl import load_workbook"
   ]
  },
  {
   "cell_type": "code",
   "execution_count": 4,
   "metadata": {},
   "outputs": [],
   "source": [
    "data = pd.read_csv('../data/oecd_disposable_income_etc.csv', low_memory = False)\n",
    "ppp = pd.read_csv('../data/ppp.csv', low_memory = False)\n",
    "# haq = pd.read_csv('../data/HAQ_1.csv', low_memory = False)"
   ]
  },
  {
   "cell_type": "code",
   "execution_count": 145,
   "metadata": {},
   "outputs": [
    {
     "name": "stdout",
     "output_type": "stream",
     "text": [
      "['Age group 0-17: mean disposable income (current prices)', 'Age group 18-25: mean disposable income (current prices)', 'Age group 26-40: mean disposable income (current prices)', 'Age group 41-50: mean disposable income (current prices)', 'Age group 51-65: mean disposable income (current prices)', 'Age group 66-75: mean disposable income (current prices)', 'Age group 76+: mean disposable income (current prices)', 'All age groups: mean disposable income (current prices)', 'All working-age household types: mean disposable income (current prices)']\n",
      "['Age group 0-17', 'Age group 18-25', 'Age group 26-40', 'Age group 41-50', 'Age group 51-65', 'Age group 66-75', 'Age group 76+', 'All age groups', 'All working-age household types']\n"
     ]
    }
   ],
   "source": [
    "topics = data['Measure'].unique().tolist()\n",
    "mdi = [ x for x in topics if 'mean disposable income' in x ]\n",
    "shnm = [ x.split(':')[0] for x in mdi]\n",
    "print(mdi)\n",
    "print(shnm)"
   ]
  },
  {
   "cell_type": "code",
   "execution_count": 123,
   "metadata": {},
   "outputs": [
    {
     "data": {
      "text/plain": [
       "array(['Gini (disposable income, post taxes and transfers)',\n",
       "       'Consumer Price Index (base 2010=100)',\n",
       "       'Age group 0-17: Poverty rate after taxes and transfers',\n",
       "       'Total earnings (current prices)',\n",
       "       'Income from self-employment (current prices)',\n",
       "       'Taxes and social security contributions paid directly by households (Current prices)',\n",
       "       'Age group 0-17: mean disposable income (current prices)',\n",
       "       'Age group 18-25: mean disposable income (current prices)',\n",
       "       'Capital income (current prices)',\n",
       "       'Age group 18-25: Poverty rate after taxes and transfers',\n",
       "       'Purchasing Power Parities for private consumption',\n",
       "       'Standard error Gini (post taxes and transfers)',\n",
       "       'Mean disposable income (current prices)',\n",
       "       'Gini (market income, before taxes and transfers)',\n",
       "       'Age group 26-40: Poverty rate after taxes and transfers',\n",
       "       'Income from self-employment and from goods produced for own consumption (current prices)',\n",
       "       'Capital and private transfers (current prices)',\n",
       "       'Current transfers paid by households to non-profit institutions and other households (Current prices)',\n",
       "       'Age group 26-40: mean disposable income (current prices)',\n",
       "       'Age group 41-50: mean disposable income (current prices)',\n",
       "       'Current transfers received (Current prices)',\n",
       "       'Age group 41-50: Poverty rate after taxes and transfers',\n",
       "       'Gini (gross income, before taxes)',\n",
       "       'Median disposable income (current prices)',\n",
       "       'Age group 51-65: Poverty rate after taxes and transfers',\n",
       "       'Current transfers paid (Current prices)',\n",
       "       'Age group 51-65: mean disposable income (current prices)',\n",
       "       'Age group 66-75: mean disposable income (current prices)',\n",
       "       'Age group 66-75: Poverty rate after taxes and transfers',\n",
       "       'Palma ratio',\n",
       "       'Age group 76+: Poverty rate after taxes and transfers',\n",
       "       'Age group 76+: mean disposable income (current prices)',\n",
       "       'All age groups: mean disposable income (current prices)',\n",
       "       'Poverty rate before taxes and transfers, Poverty line 50%',\n",
       "       'Poverty rate after taxes and transfers, Poverty line 50%',\n",
       "       'Mean Poverty gap after taxes and transfers, Poverty line 50%',\n",
       "       'Median Poverty gap after taxes and transfers, Poverty line 50%',\n",
       "       'All age groups: Poverty rate after taxes and transfers',\n",
       "       'Poverty rate before taxes and transfers, Poverty line 60%',\n",
       "       'Poverty rate after taxes and transfers, Poverty line 60%',\n",
       "       'Mean Poverty gap after taxes and transfers, Poverty line 60%',\n",
       "       'Median Poverty gap after taxes and transfers, Poverty line 60%',\n",
       "       'P90/P10 disposable income decile ratio',\n",
       "       'P90/P50  disposable income decile ratio',\n",
       "       'P50/P10  disposable income decile ratio',\n",
       "       'S80/S20 disposable income quintile share',\n",
       "       'Total number of individuals', 'Age group 0-17: share',\n",
       "       'Age group 18-25: share', 'Age group 26-40: share',\n",
       "       'Age group 41-50: share', 'Age group 51-65: share',\n",
       "       'Age group 66-75: share', 'Age group 76+: share',\n",
       "       'Total number of households',\n",
       "       'Income from own consumption (Current prices)',\n",
       "       'Contributions paid by households to employment-related social insurance schemes (Current prices)',\n",
       "       'All working-age household types: mean disposable income (current prices)',\n",
       "       'All  working-age household types: Poverty rate before taxes and transfers',\n",
       "       'All  working-age household types: Poverty rate after taxes and transfers',\n",
       "       'Consumer Price Index (base 2015=100)'], dtype=object)"
      ]
     },
     "execution_count": 123,
     "metadata": {},
     "output_type": "execute_result"
    }
   ],
   "source": [
    "data['Measure'].unique()"
   ]
  },
  {
   "cell_type": "code",
   "execution_count": 124,
   "metadata": {},
   "outputs": [],
   "source": [
    "fnm = 'OECD_mean_disposable_income.xlsx'"
   ]
  },
  {
   "cell_type": "code",
   "execution_count": 136,
   "metadata": {},
   "outputs": [],
   "source": [
    "mdi_dfs = []\n",
    "for nm in mdi:\n",
    "    mdi_dfs.append(data.loc[data['Measure'] == nm])"
   ]
  },
  {
   "cell_type": "code",
   "execution_count": 138,
   "metadata": {},
   "outputs": [
    {
     "data": {
      "text/html": [
       "<div>\n",
       "<style scoped>\n",
       "    .dataframe tbody tr th:only-of-type {\n",
       "        vertical-align: middle;\n",
       "    }\n",
       "\n",
       "    .dataframe tbody tr th {\n",
       "        vertical-align: top;\n",
       "    }\n",
       "\n",
       "    .dataframe thead th {\n",
       "        text-align: right;\n",
       "    }\n",
       "</style>\n",
       "<table border=\"1\" class=\"dataframe\">\n",
       "  <thead>\n",
       "    <tr style=\"text-align: right;\">\n",
       "      <th></th>\n",
       "      <th>LOCATION</th>\n",
       "      <th>Country</th>\n",
       "      <th>MEASURE</th>\n",
       "      <th>Measure</th>\n",
       "      <th>AGE</th>\n",
       "      <th>Age group</th>\n",
       "      <th>DEFINITION</th>\n",
       "      <th>Definition</th>\n",
       "      <th>METHODO</th>\n",
       "      <th>Methodology</th>\n",
       "      <th>...</th>\n",
       "      <th>Year</th>\n",
       "      <th>Unit Code</th>\n",
       "      <th>Unit</th>\n",
       "      <th>PowerCode Code</th>\n",
       "      <th>PowerCode</th>\n",
       "      <th>Reference Period Code</th>\n",
       "      <th>Reference Period</th>\n",
       "      <th>Value</th>\n",
       "      <th>Flag Codes</th>\n",
       "      <th>Flags</th>\n",
       "    </tr>\n",
       "  </thead>\n",
       "  <tbody>\n",
       "    <tr>\n",
       "      <th>47</th>\n",
       "      <td>AUS</td>\n",
       "      <td>Australia</td>\n",
       "      <td>INCAC1</td>\n",
       "      <td>Age group 0-17: mean disposable income (curren...</td>\n",
       "      <td>TOT</td>\n",
       "      <td>Total population</td>\n",
       "      <td>CURRENT</td>\n",
       "      <td>Current definition</td>\n",
       "      <td>METH2012</td>\n",
       "      <td>New income definition since 2012</td>\n",
       "      <td>...</td>\n",
       "      <td>2018</td>\n",
       "      <td>AUD</td>\n",
       "      <td>Australian Dollar</td>\n",
       "      <td>0</td>\n",
       "      <td>Units</td>\n",
       "      <td>NaN</td>\n",
       "      <td>NaN</td>\n",
       "      <td>55881.0</td>\n",
       "      <td>NaN</td>\n",
       "      <td>NaN</td>\n",
       "    </tr>\n",
       "    <tr>\n",
       "      <th>468</th>\n",
       "      <td>AUT</td>\n",
       "      <td>Austria</td>\n",
       "      <td>INCAC1</td>\n",
       "      <td>Age group 0-17: mean disposable income (curren...</td>\n",
       "      <td>TOT</td>\n",
       "      <td>Total population</td>\n",
       "      <td>CURRENT</td>\n",
       "      <td>Current definition</td>\n",
       "      <td>METH2012</td>\n",
       "      <td>New income definition since 2012</td>\n",
       "      <td>...</td>\n",
       "      <td>2017</td>\n",
       "      <td>EUR</td>\n",
       "      <td>Euro</td>\n",
       "      <td>0</td>\n",
       "      <td>Units</td>\n",
       "      <td>NaN</td>\n",
       "      <td>NaN</td>\n",
       "      <td>26872.0</td>\n",
       "      <td>NaN</td>\n",
       "      <td>NaN</td>\n",
       "    </tr>\n",
       "    <tr>\n",
       "      <th>1069</th>\n",
       "      <td>BEL</td>\n",
       "      <td>Belgium</td>\n",
       "      <td>INCAC1</td>\n",
       "      <td>Age group 0-17: mean disposable income (curren...</td>\n",
       "      <td>TOT</td>\n",
       "      <td>Total population</td>\n",
       "      <td>CURRENT</td>\n",
       "      <td>Current definition</td>\n",
       "      <td>METH2012</td>\n",
       "      <td>New income definition since 2012</td>\n",
       "      <td>...</td>\n",
       "      <td>2017</td>\n",
       "      <td>EUR</td>\n",
       "      <td>Euro</td>\n",
       "      <td>0</td>\n",
       "      <td>Units</td>\n",
       "      <td>NaN</td>\n",
       "      <td>NaN</td>\n",
       "      <td>27253.0</td>\n",
       "      <td>NaN</td>\n",
       "      <td>NaN</td>\n",
       "    </tr>\n",
       "    <tr>\n",
       "      <th>2195</th>\n",
       "      <td>CAN</td>\n",
       "      <td>Canada</td>\n",
       "      <td>INCAC1</td>\n",
       "      <td>Age group 0-17: mean disposable income (curren...</td>\n",
       "      <td>TOT</td>\n",
       "      <td>Total population</td>\n",
       "      <td>CURRENT</td>\n",
       "      <td>Current definition</td>\n",
       "      <td>METH2012</td>\n",
       "      <td>New income definition since 2012</td>\n",
       "      <td>...</td>\n",
       "      <td>2017</td>\n",
       "      <td>CAD</td>\n",
       "      <td>Canadian Dollar</td>\n",
       "      <td>0</td>\n",
       "      <td>Units</td>\n",
       "      <td>NaN</td>\n",
       "      <td>NaN</td>\n",
       "      <td>47030.0</td>\n",
       "      <td>NaN</td>\n",
       "      <td>NaN</td>\n",
       "    </tr>\n",
       "    <tr>\n",
       "      <th>3277</th>\n",
       "      <td>CZE</td>\n",
       "      <td>Czech Republic</td>\n",
       "      <td>INCAC1</td>\n",
       "      <td>Age group 0-17: mean disposable income (curren...</td>\n",
       "      <td>TOT</td>\n",
       "      <td>Total population</td>\n",
       "      <td>CURRENT</td>\n",
       "      <td>Current definition</td>\n",
       "      <td>METH2012</td>\n",
       "      <td>New income definition since 2012</td>\n",
       "      <td>...</td>\n",
       "      <td>2017</td>\n",
       "      <td>CZK</td>\n",
       "      <td>Czech Koruna</td>\n",
       "      <td>0</td>\n",
       "      <td>Units</td>\n",
       "      <td>NaN</td>\n",
       "      <td>NaN</td>\n",
       "      <td>290220.0</td>\n",
       "      <td>NaN</td>\n",
       "      <td>NaN</td>\n",
       "    </tr>\n",
       "  </tbody>\n",
       "</table>\n",
       "<p>5 rows × 21 columns</p>\n",
       "</div>"
      ],
      "text/plain": [
       "     LOCATION         Country MEASURE  \\\n",
       "47        AUS       Australia  INCAC1   \n",
       "468       AUT         Austria  INCAC1   \n",
       "1069      BEL         Belgium  INCAC1   \n",
       "2195      CAN          Canada  INCAC1   \n",
       "3277      CZE  Czech Republic  INCAC1   \n",
       "\n",
       "                                                Measure  AGE  \\\n",
       "47    Age group 0-17: mean disposable income (curren...  TOT   \n",
       "468   Age group 0-17: mean disposable income (curren...  TOT   \n",
       "1069  Age group 0-17: mean disposable income (curren...  TOT   \n",
       "2195  Age group 0-17: mean disposable income (curren...  TOT   \n",
       "3277  Age group 0-17: mean disposable income (curren...  TOT   \n",
       "\n",
       "             Age group DEFINITION          Definition   METHODO  \\\n",
       "47    Total population    CURRENT  Current definition  METH2012   \n",
       "468   Total population    CURRENT  Current definition  METH2012   \n",
       "1069  Total population    CURRENT  Current definition  METH2012   \n",
       "2195  Total population    CURRENT  Current definition  METH2012   \n",
       "3277  Total population    CURRENT  Current definition  METH2012   \n",
       "\n",
       "                           Methodology  ...   Year  Unit Code  \\\n",
       "47    New income definition since 2012  ...   2018        AUD   \n",
       "468   New income definition since 2012  ...   2017        EUR   \n",
       "1069  New income definition since 2012  ...   2017        EUR   \n",
       "2195  New income definition since 2012  ...   2017        CAD   \n",
       "3277  New income definition since 2012  ...   2017        CZK   \n",
       "\n",
       "                   Unit PowerCode Code  PowerCode Reference Period Code  \\\n",
       "47    Australian Dollar              0      Units                   NaN   \n",
       "468                Euro              0      Units                   NaN   \n",
       "1069               Euro              0      Units                   NaN   \n",
       "2195    Canadian Dollar              0      Units                   NaN   \n",
       "3277       Czech Koruna              0      Units                   NaN   \n",
       "\n",
       "      Reference Period     Value  Flag Codes Flags  \n",
       "47                 NaN   55881.0         NaN   NaN  \n",
       "468                NaN   26872.0         NaN   NaN  \n",
       "1069               NaN   27253.0         NaN   NaN  \n",
       "2195               NaN   47030.0         NaN   NaN  \n",
       "3277               NaN  290220.0         NaN   NaN  \n",
       "\n",
       "[5 rows x 21 columns]"
      ]
     },
     "execution_count": 138,
     "metadata": {},
     "output_type": "execute_result"
    }
   ],
   "source": [
    "# Get data for latest year\n",
    "mdi_dfs2 = []\n",
    "for dfs in mdi_dfs:\n",
    "    idx = dfs.groupby(['LOCATION'])['Year'].transform(max) == dfs['Year']\n",
    "    tmp = dfs[idx]\n",
    "    tmp = tmp.dropna(subset = ['Unit', 'Value', 'LOCATION'])\n",
    "    mdi_dfs2.append(tmp)\n",
    "    \n",
    "mdi_dfs2[0].head()"
   ]
  },
  {
   "cell_type": "code",
   "execution_count": 139,
   "metadata": {},
   "outputs": [
    {
     "name": "stdout",
     "output_type": "stream",
     "text": [
      "False\n",
      "(44, 21)\n",
      "False\n",
      "(44, 21)\n",
      "False\n",
      "(44, 21)\n",
      "False\n",
      "(44, 21)\n",
      "False\n",
      "(44, 21)\n",
      "False\n",
      "(44, 21)\n",
      "False\n",
      "(43, 21)\n",
      "False\n",
      "(40, 21)\n",
      "False\n",
      "(35, 21)\n"
     ]
    }
   ],
   "source": [
    "for dfs in mdi_dfs2:\n",
    "    print(dfs['LOCATION'].duplicated().any())\n",
    "    print(dfs.shape)"
   ]
  },
  {
   "cell_type": "code",
   "execution_count": 128,
   "metadata": {},
   "outputs": [
    {
     "name": "stdout",
     "output_type": "stream",
     "text": [
      "0.700946\n",
      "True\n"
     ]
    }
   ],
   "source": [
    "print(ppp.loc[ppp['LOCATION'] == 'AUS'].loc[ppp['TIME'] == 1960]['Value'].values[0])\n",
    "print(1960 in ppp.loc[ppp['LOCATION'] == 'AUS']['TIME'].values)"
   ]
  },
  {
   "cell_type": "code",
   "execution_count": 140,
   "metadata": {},
   "outputs": [],
   "source": [
    "for dfs in mdi_dfs2:\n",
    "    dfs['Value_USD_PPP'] = dfs['Value']\n",
    "# data3['haq'] = data3['Value']"
   ]
  },
  {
   "cell_type": "code",
   "execution_count": 141,
   "metadata": {},
   "outputs": [
    {
     "name": "stderr",
     "output_type": "stream",
     "text": [
      "C:\\ProgramData\\Anaconda3\\lib\\site-packages\\pandas\\core\\indexing.py:189: SettingWithCopyWarning: \n",
      "A value is trying to be set on a copy of a slice from a DataFrame\n",
      "\n",
      "See the caveats in the documentation: http://pandas.pydata.org/pandas-docs/stable/indexing.html#indexing-view-versus-copy\n",
      "  self._setitem_with_indexer(indexer, value)\n"
     ]
    }
   ],
   "source": [
    "for dfs in mdi_dfs2:\n",
    "    for k, (val, cc, yr) in enumerate( zip( dfs['Value'], dfs['LOCATION'], dfs['Year'] ) ):\n",
    "        tmp = yr\n",
    "        found = tmp in ppp.loc[ppp['LOCATION'] == cc]['TIME'].values\n",
    "        while( not found ): #check if PPP data is not available for that year\n",
    "            tmp = tmp - 1\n",
    "            found = tmp in ppp.loc[ppp['LOCATION'] == cc]['TIME'].values\n",
    "        ppp_val = ppp.loc[ppp['LOCATION'] == cc].loc[ppp['TIME'] == tmp]['Value'].values[0]    \n",
    "        conv_factor = 1.0 / ppp_val\n",
    "        dfs['Value_USD_PPP'].iloc[k] = val * conv_factor"
   ]
  },
  {
   "cell_type": "code",
   "execution_count": 148,
   "metadata": {},
   "outputs": [],
   "source": [
    "with pd.ExcelWriter(fnm, engine = \"openpyxl\", mode = \"a\") as writer:\n",
    "    for dfs, nm in zip(mdi_dfs2, shnm):\n",
    "        tmp = dfs.filter(['LOCATION', 'Country', 'Year', 'Unit', 'Value', 'Value_USD_PPP'], axis = 1)\n",
    "        tmp = tmp.rename(columns = {'LOCATION' : 'Country Code', 'Value_USD_PPP' : 'Normalized_Value_USD_PPP'})\n",
    "        tmp.to_excel(writer, sheet_name = nm, index = False)"
   ]
  },
  {
   "cell_type": "code",
   "execution_count": 149,
   "metadata": {},
   "outputs": [
    {
     "data": {
      "image/png": "[encoded data removed]",
      "text/plain": [
       "<Figure size 1440x720 with 1 Axes>"
      ]
     },
     "metadata": {},
     "output_type": "display_data"
    }
   ],
   "source": [
    "ax = mdi_dfs2[6].sort_values(by=['Value_USD_PPP']).plot(x = 'LOCATION', y = 'Value_USD_PPP', kind = 'bar', legend = False, title = 'Age group 76+: 2016 mean disposable income (current prices USD with PPP)')\n",
    "plt.rcParams['figure.figsize'] = [20, 10]\n",
    "plt.savefig('test.png', bbox_inches='tight')"
   ]
  },
  {
   "cell_type": "code",
   "execution_count": null,
   "metadata": {},
   "outputs": [],
   "source": []
  }
 ],
 "metadata": {
  "kernelspec": {
   "display_name": "Python 3",
   "language": "python",
   "name": "python3"
  },
  "language_info": {
   "codemirror_mode": {
    "name": "ipython",
    "version": 3
   },
   "file_extension": ".py",
   "mimetype": "text/x-python",
   "name": "python",
   "nbconvert_exporter": "python",
   "pygments_lexer": "ipython3",
   "version": "3.6.5"
  }
 },
 "nbformat": 4,
 "nbformat_minor": 2
}
