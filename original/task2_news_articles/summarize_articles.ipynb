{
 "cells": [
  {
   "cell_type": "code",
   "execution_count": 35,
   "metadata": {},
   "outputs": [],
   "source": [
    "import pandas as pd\n",
    "import numpy as np\n",
    "from newspaper import Article\n",
    "from newspaper import Config"
   ]
  },
  {
   "cell_type": "code",
   "execution_count": 36,
   "metadata": {},
   "outputs": [
    {
     "name": "stderr",
     "output_type": "stream",
     "text": [
      "/Users/seyi/miniconda3/lib/python3.7/site-packages/ipykernel_launcher.py:2: FutureWarning: Passing a negative integer is deprecated in version 1.0 and will not be supported in future version. Instead, use None to not limit the column width.\n",
      "  \n"
     ]
    }
   ],
   "source": [
    "pd.set_option('display.max_columns', None)\n",
    "pd.set_option('display.max_colwidth', -1)\n",
    "pd.set_option('display.max_rows', None)"
   ]
  },
  {
   "cell_type": "code",
   "execution_count": 40,
   "metadata": {},
   "outputs": [],
   "source": [
    "data = pd.read_csv(\"./data/en_interim_01_05_DV_IN_expanded_Keywords_with_full_texts.csv\")"
   ]
  },
  {
   "cell_type": "code",
   "execution_count": 41,
   "metadata": {},
   "outputs": [],
   "source": [
    "data_complete = data[data.text.notnull()]"
   ]
  },
  {
   "cell_type": "code",
   "execution_count": 42,
   "metadata": {},
   "outputs": [
    {
     "data": {
      "text/plain": [
       "Index(['Unnamed: 0', 'index', 'GLOBALEVENTID', 'SQLDATE', 'MonthYear', 'Year',\n",
       "       'FractionDate', 'Actor1Code', 'Actor1Name', 'Actor1CountryCode',\n",
       "       'Actor1KnownGroupCode', 'Actor1EthnicCode', 'Actor1Religion1Code',\n",
       "       'Actor1Religion2Code', 'Actor1Type1Code', 'Actor1Type2Code',\n",
       "       'Actor1Type3Code', 'Actor2Code', 'Actor2Name', 'Actor2CountryCode',\n",
       "       'Actor2KnownGroupCode', 'Actor2EthnicCode', 'Actor2Religion1Code',\n",
       "       'Actor2Religion2Code', 'Actor2Type1Code', 'Actor2Type2Code',\n",
       "       'Actor2Type3Code', 'IsRootEvent', 'EventCode', 'CAMEOCodeDescription',\n",
       "       'EventBaseCode', 'EventRootCode', 'QuadClass', 'GoldsteinScale',\n",
       "       'NumMentions', 'NumSources', 'NumArticles', 'AvgTone', 'Actor1Geo_Type',\n",
       "       'Actor1Geo_FullName', 'Actor1Geo_CountryCode', 'Actor1Geo_ADM1Code',\n",
       "       'Actor1Geo_ADM2Code', 'Actor1Geo_Lat', 'Actor1Geo_Long',\n",
       "       'Actor1Geo_FeatureID', 'Actor2Geo_Type', 'Actor2Geo_FullName',\n",
       "       'Actor2Geo_CountryCode', 'Actor2Geo_ADM1Code', 'Actor2Geo_ADM2Code',\n",
       "       'Actor2Geo_Lat', 'Actor2Geo_Long', 'Actor2Geo_FeatureID',\n",
       "       'ActionGeo_Type', 'ActionGeo_FullName', 'ActionGeo_CountryCode',\n",
       "       'ActionGeo_ADM1Code', 'ActionGeo_ADM2Code', 'ActionGeo_Lat',\n",
       "       'ActionGeo_Long', 'ActionGeo_FeatureID', 'DATEADDED', 'SOURCEURL',\n",
       "       'title', 'text'],\n",
       "      dtype='object')"
      ]
     },
     "execution_count": 42,
     "metadata": {},
     "output_type": "execute_result"
    }
   ],
   "source": [
    "data_complete.columns"
   ]
  },
  {
   "cell_type": "code",
   "execution_count": 43,
   "metadata": {},
   "outputs": [],
   "source": [
    "def get_summary(url):\n",
    "    user_agent = 'Mozilla/5.0 (Macintosh; Intel Mac OS X 10_11_5) AppleWebKit/537.36 (KHTML, like Gecko) Chrome/50.0.2661.102 Safari/537.36'\n",
    "    config = Config()\n",
    "    config.browser_user_agent = user_agent\n",
    "    article = Article(url.strip(), config=config)\n",
    "    try:\n",
    "        article.download()\n",
    "        article.parse()\n",
    "        article.nlp()\n",
    "        summary = article.summary\n",
    "    except:\n",
    "        summary = ''\n",
    "    \n",
    "    return summary"
   ]
  },
  {
   "cell_type": "code",
   "execution_count": null,
   "metadata": {},
   "outputs": [
    {
     "name": "stderr",
     "output_type": "stream",
     "text": [
      "/Users/seyi/miniconda3/lib/python3.7/site-packages/dateutil/parser/_parser.py:1218: UnknownTimezoneWarning: tzname IST identified but not understood.  Pass `tzinfos` argument in order to correctly return a timezone-aware datetime.  In a future version, this will raise an exception.\n",
      "  category=UnknownTimezoneWarning)\n"
     ]
    }
   ],
   "source": [
    "data_complete['summary'] = data_complete['SOURCEURL'].apply(get_summary)"
   ]
  },
  {
   "cell_type": "code",
   "execution_count": null,
   "metadata": {},
   "outputs": [],
   "source": [
    "data_complete.columns"
   ]
  },
  {
   "cell_type": "code",
   "execution_count": null,
   "metadata": {},
   "outputs": [],
   "source": [
    "data_complete.to_csv('./en_interim_01_05_DV_IN_expanded_Keywords_with_summary.csv')"
   ]
  },
  {
   "cell_type": "code",
   "execution_count": null,
   "metadata": {},
   "outputs": [],
   "source": []
  }
 ],
 "metadata": {
  "kernelspec": {
   "display_name": "Python 3",
   "language": "python",
   "name": "python3"
  },
  "language_info": {
   "codemirror_mode": {
    "name": "ipython",
    "version": 3
   },
   "file_extension": ".py",
   "mimetype": "text/x-python",
   "name": "python",
   "nbconvert_exporter": "python",
   "pygments_lexer": "ipython3",
   "version": "3.7.6"
  }
 },
 "nbformat": 4,
 "nbformat_minor": 4
}
