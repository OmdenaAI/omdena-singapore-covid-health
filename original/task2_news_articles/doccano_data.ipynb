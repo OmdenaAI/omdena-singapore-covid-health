{
 "cells": [
  {
   "cell_type": "code",
   "execution_count": 1,
   "metadata": {},
   "outputs": [],
   "source": [
    "import matplotlib.pyplot as plt\n",
    "import pandas as pd\n",
    "import numpy as np\n",
    "import csv\n",
    "import string\n",
    "import re\n",
    "\n",
    "from tqdm import tqdm"
   ]
  },
  {
   "cell_type": "code",
   "execution_count": 11,
   "metadata": {},
   "outputs": [],
   "source": [
    "import json\n",
    "from pandas.io.json import json_normalize\n",
    "\n",
    "def mapping_label(x):\n",
    "      return lab['label'][x]"
   ]
  },
  {
   "cell_type": "code",
   "execution_count": 12,
   "metadata": {},
   "outputs": [],
   "source": [
    "def get_labels_df(my_json, lbls):\n",
    "    data = []\n",
    "    for line in open(my_json, 'r',errors='ignore'):\n",
    "        data.append(json.loads(line))\n",
    "    usr_list=[]\n",
    "    for i in range(len(data)):\n",
    "        for j in data[i]['annotations']:\n",
    "            usr_list.append(j['user'])\n",
    "    \n",
    "    usr_dict = {}\n",
    "    for i in set(usr_list):\n",
    "        usr_dict[i]=[]\n",
    "    \n",
    "    for i in range(len(data)):\n",
    "        for k,v in usr_dict.items():\n",
    "            usr_dict[k] = []\n",
    "            for j in range(len(data[i]['annotations'])):\n",
    "                if data[i]['annotations'][j]['user']==k:\n",
    "                    usr_dict[k].append(data[i]['annotations'][j]['label'])\n",
    "                data[i][k]=usr_dict[k]\n",
    "    labels=lbls\n",
    "    lab = pd.read_csv(labels)\n",
    "    lab = lab.to_dict()\n",
    "    lab_dict = dict(zip([lab['number'][j] for j in lab['number']], [lab['label'][j] for j in lab['label']]))\n",
    "    for k,v in usr_dict.items():\n",
    "        for i in range(len(data)):\n",
    "            try:\n",
    "                data[i][k]= [ lab_dict.get(item,item) for item in data[i][k]]\n",
    "            except:\n",
    "                pass\n",
    "    df = pd.DataFrame.from_dict(data)\n",
    "    unique_users = list(set(usr_list))\n",
    "    df['lab_final'] = [[]] * len(df)\n",
    "    for user in unique_users:\n",
    "        for i in range(len(df)):\n",
    "            if df[user][i]:\n",
    "                df['lab_final'][i] = df[user][i]  \n",
    "    df= df[df['lab_final'].str.len() != 0]\n",
    "    df= df[df['lab_final']==df['lab_final']] \n",
    "    #-------------------------------------------\n",
    "    print(list(usr_dict.keys()))\n",
    "    df.drop(list(usr_dict.keys()), axis = 1, inplace=True)\n",
    "    #-------------------------------------------  \n",
    "    print(df.shape)\n",
    "    return df"
   ]
  },
  {
   "cell_type": "code",
   "execution_count": 13,
   "metadata": {},
   "outputs": [
    {
     "data": {
      "text/html": [
       "<div>\n",
       "<style scoped>\n",
       "    .dataframe tbody tr th:only-of-type {\n",
       "        vertical-align: middle;\n",
       "    }\n",
       "\n",
       "    .dataframe tbody tr th {\n",
       "        vertical-align: top;\n",
       "    }\n",
       "\n",
       "    .dataframe thead th {\n",
       "        text-align: right;\n",
       "    }\n",
       "</style>\n",
       "<table border=\"1\" class=\"dataframe\">\n",
       "  <thead>\n",
       "    <tr style=\"text-align: right;\">\n",
       "      <th></th>\n",
       "      <th>Unnamed: 0</th>\n",
       "      <th>Unnamed: 0.1</th>\n",
       "      <th>index</th>\n",
       "      <th>GLOBALEVENTID</th>\n",
       "      <th>SQLDATE</th>\n",
       "      <th>MonthYear</th>\n",
       "      <th>Year</th>\n",
       "      <th>FractionDate</th>\n",
       "      <th>Actor1Code</th>\n",
       "      <th>Actor1Name</th>\n",
       "      <th>...</th>\n",
       "      <th>ActionGeo_ADM2Code</th>\n",
       "      <th>ActionGeo_Lat</th>\n",
       "      <th>ActionGeo_Long</th>\n",
       "      <th>ActionGeo_FeatureID</th>\n",
       "      <th>DATEADDED</th>\n",
       "      <th>SOURCEURL</th>\n",
       "      <th>title</th>\n",
       "      <th>text</th>\n",
       "      <th>summary</th>\n",
       "      <th>summary_wrap</th>\n",
       "    </tr>\n",
       "  </thead>\n",
       "  <tbody>\n",
       "    <tr>\n",
       "      <th>0</th>\n",
       "      <td>0</td>\n",
       "      <td>0</td>\n",
       "      <td>25090</td>\n",
       "      <td>896079819</td>\n",
       "      <td>19200101</td>\n",
       "      <td>192001</td>\n",
       "      <td>1920</td>\n",
       "      <td>1920.0027</td>\n",
       "      <td>ELI</td>\n",
       "      <td>RETIRED</td>\n",
       "      <td>...</td>\n",
       "      <td>70178.0</td>\n",
       "      <td>18.5333</td>\n",
       "      <td>73.8667</td>\n",
       "      <td>-2108361</td>\n",
       "      <td>20200101044500</td>\n",
       "      <td>https://punemirror.indiatimes.com/pune/cover-s...</td>\n",
       "      <td>pmc threatens to seize house of ex i t comm wh...</td>\n",
       "      <td>PMC threatens to seize house of ex I-T comm wh...</td>\n",
       "      <td>In this light, he had also sent a legal notice...</td>\n",
       "      <td>In this light, he had also sent a legal notice...</td>\n",
       "    </tr>\n",
       "    <tr>\n",
       "      <th>1</th>\n",
       "      <td>1</td>\n",
       "      <td>1</td>\n",
       "      <td>33280</td>\n",
       "      <td>896089642</td>\n",
       "      <td>19200101</td>\n",
       "      <td>192001</td>\n",
       "      <td>1920</td>\n",
       "      <td>1920.0027</td>\n",
       "      <td>COP</td>\n",
       "      <td>POLICEMAN</td>\n",
       "      <td>...</td>\n",
       "      <td>17924.0</td>\n",
       "      <td>27.2494</td>\n",
       "      <td>79.3139</td>\n",
       "      <td>10451923</td>\n",
       "      <td>20200101070000</td>\n",
       "      <td>https://www.mid-day.com/articles/mentalhood-ta...</td>\n",
       "      <td>mentalhood tandav the family man 2 breathe 2 s...</td>\n",
       "      <td>\\nMentalhood, Tandav, The Family Man 2, Breath...</td>\n",
       "      <td>Mirzapur 2Cast: Ali Fazal, Shweta Tripathi, Ra...</td>\n",
       "      <td>Mirzapur 2Cast: Ali Fazal, Shweta Tripathi, Ra...</td>\n",
       "    </tr>\n",
       "  </tbody>\n",
       "</table>\n",
       "<p>2 rows × 69 columns</p>\n",
       "</div>"
      ],
      "text/plain": [
       "   Unnamed: 0  Unnamed: 0.1  index  GLOBALEVENTID   SQLDATE  MonthYear  Year  \\\n",
       "0           0             0  25090      896079819  19200101     192001  1920   \n",
       "1           1             1  33280      896089642  19200101     192001  1920   \n",
       "\n",
       "   FractionDate Actor1Code Actor1Name  ... ActionGeo_ADM2Code ActionGeo_Lat  \\\n",
       "0     1920.0027        ELI    RETIRED  ...            70178.0       18.5333   \n",
       "1     1920.0027        COP  POLICEMAN  ...            17924.0       27.2494   \n",
       "\n",
       "  ActionGeo_Long ActionGeo_FeatureID       DATEADDED  \\\n",
       "0        73.8667            -2108361  20200101044500   \n",
       "1        79.3139            10451923  20200101070000   \n",
       "\n",
       "                                           SOURCEURL  \\\n",
       "0  https://punemirror.indiatimes.com/pune/cover-s...   \n",
       "1  https://www.mid-day.com/articles/mentalhood-ta...   \n",
       "\n",
       "                                               title  \\\n",
       "0  pmc threatens to seize house of ex i t comm wh...   \n",
       "1  mentalhood tandav the family man 2 breathe 2 s...   \n",
       "\n",
       "                                                text  \\\n",
       "0  PMC threatens to seize house of ex I-T comm wh...   \n",
       "1  \\nMentalhood, Tandav, The Family Man 2, Breath...   \n",
       "\n",
       "                                             summary  \\\n",
       "0  In this light, he had also sent a legal notice...   \n",
       "1  Mirzapur 2Cast: Ali Fazal, Shweta Tripathi, Ra...   \n",
       "\n",
       "                                        summary_wrap  \n",
       "0  In this light, he had also sent a legal notice...  \n",
       "1  Mirzapur 2Cast: Ali Fazal, Shweta Tripathi, Ra...  \n",
       "\n",
       "[2 rows x 69 columns]"
      ]
     },
     "execution_count": 13,
     "metadata": {},
     "output_type": "execute_result"
    }
   ],
   "source": [
    "main_df = pd.read_csv('en_interim_01_05_DV_IN_with_summary_wrapping_final.csv', keep_default_na=False)\n",
    "main_df.head(2)"
   ]
  },
  {
   "cell_type": "code",
   "execution_count": 14,
   "metadata": {},
   "outputs": [],
   "source": [
    "my_json=\"hoa.json\"\n",
    "lbls=\"labels_news.csv\""
   ]
  },
  {
   "cell_type": "code",
   "execution_count": 15,
   "metadata": {},
   "outputs": [
    {
     "name": "stdout",
     "output_type": "stream",
     "text": [
      "[8]\n",
      "(501, 6)\n"
     ]
    },
    {
     "name": "stderr",
     "output_type": "stream",
     "text": [
      "/usr/local/lib/python3.7/site-packages/ipykernel_launcher.py:37: SettingWithCopyWarning: \n",
      "A value is trying to be set on a copy of a slice from a DataFrame\n",
      "\n",
      "See the caveats in the documentation: https://pandas.pydata.org/pandas-docs/stable/user_guide/indexing.html#returning-a-view-versus-a-copy\n"
     ]
    },
    {
     "data": {
      "text/html": [
       "<div>\n",
       "<style scoped>\n",
       "    .dataframe tbody tr th:only-of-type {\n",
       "        vertical-align: middle;\n",
       "    }\n",
       "\n",
       "    .dataframe tbody tr th {\n",
       "        vertical-align: top;\n",
       "    }\n",
       "\n",
       "    .dataframe thead th {\n",
       "        text-align: right;\n",
       "    }\n",
       "</style>\n",
       "<table border=\"1\" class=\"dataframe\">\n",
       "  <thead>\n",
       "    <tr style=\"text-align: right;\">\n",
       "      <th></th>\n",
       "      <th>id</th>\n",
       "      <th>summary_wrap</th>\n",
       "      <th>annotations</th>\n",
       "      <th>meta</th>\n",
       "      <th>annotation_approver</th>\n",
       "      <th>lab_final</th>\n",
       "    </tr>\n",
       "  </thead>\n",
       "  <tbody>\n",
       "    <tr>\n",
       "      <th>0</th>\n",
       "      <td>3576</td>\n",
       "      <td>The court observed that the man wanted to star...</td>\n",
       "      <td>[{'label': 21, 'user': 8}]</td>\n",
       "      <td>{}</td>\n",
       "      <td>None</td>\n",
       "      <td>[DV]</td>\n",
       "    </tr>\n",
       "    <tr>\n",
       "      <th>1</th>\n",
       "      <td>3637</td>\n",
       "      <td>The children were rescued as part of 'Operatio...</td>\n",
       "      <td>[{'label': 27, 'user': 8}]</td>\n",
       "      <td>{}</td>\n",
       "      <td>None</td>\n",
       "      <td>[Irrelevant]</td>\n",
       "    </tr>\n",
       "    <tr>\n",
       "      <th>2</th>\n",
       "      <td>3556</td>\n",
       "      <td>summary_wrap</td>\n",
       "      <td>[{'label': 27, 'user': 8}]</td>\n",
       "      <td>{}</td>\n",
       "      <td>None</td>\n",
       "      <td>[Irrelevant]</td>\n",
       "    </tr>\n",
       "    <tr>\n",
       "      <th>3</th>\n",
       "      <td>3558</td>\n",
       "      <td>Mirzapur 2Cast: Ali Fazal, Shweta Tripathi, Ra...</td>\n",
       "      <td>[{'label': 27, 'user': 8}]</td>\n",
       "      <td>{}</td>\n",
       "      <td>None</td>\n",
       "      <td>[Irrelevant]</td>\n",
       "    </tr>\n",
       "    <tr>\n",
       "      <th>4</th>\n",
       "      <td>3559</td>\n",
       "      <td>Nagpur: Amid cloudy day and chilling night the...</td>\n",
       "      <td>[{'label': 27, 'user': 8}]</td>\n",
       "      <td>{}</td>\n",
       "      <td>None</td>\n",
       "      <td>[Irrelevant]</td>\n",
       "    </tr>\n",
       "  </tbody>\n",
       "</table>\n",
       "</div>"
      ],
      "text/plain": [
       "     id                                       summary_wrap  \\\n",
       "0  3576  The court observed that the man wanted to star...   \n",
       "1  3637  The children were rescued as part of 'Operatio...   \n",
       "2  3556                                       summary_wrap   \n",
       "3  3558  Mirzapur 2Cast: Ali Fazal, Shweta Tripathi, Ra...   \n",
       "4  3559  Nagpur: Amid cloudy day and chilling night the...   \n",
       "\n",
       "                  annotations meta annotation_approver     lab_final  \n",
       "0  [{'label': 21, 'user': 8}]   {}                None          [DV]  \n",
       "1  [{'label': 27, 'user': 8}]   {}                None  [Irrelevant]  \n",
       "2  [{'label': 27, 'user': 8}]   {}                None  [Irrelevant]  \n",
       "3  [{'label': 27, 'user': 8}]   {}                None  [Irrelevant]  \n",
       "4  [{'label': 27, 'user': 8}]   {}                None  [Irrelevant]  "
      ]
     },
     "execution_count": 15,
     "metadata": {},
     "output_type": "execute_result"
    }
   ],
   "source": [
    "df = get_labels_df(my_json,lbls)\n",
    "df=df.rename(columns={'text':'summary_wrap'})\n",
    "df.head()"
   ]
  },
  {
   "cell_type": "code",
   "execution_count": 16,
   "metadata": {},
   "outputs": [],
   "source": [
    "data1 = pd.merge(main_df, df, on=\"summary_wrap\", how='inner')"
   ]
  },
  {
   "cell_type": "code",
   "execution_count": 17,
   "metadata": {},
   "outputs": [
    {
     "name": "stdout",
     "output_type": "stream",
     "text": [
      "     Unnamed: 0  Unnamed: 0.1  index  GLOBALEVENTID   SQLDATE  MonthYear  \\\n",
      "0             0             0  25090      896079819  19200101     192001   \n",
      "1             1             1  33280      896089642  19200101     192001   \n",
      "2             2             2  34788      896095544  19200101     192001   \n",
      "3             3             3  35500      896092971  19200101     192001   \n",
      "4             4             4  47722      896113974  19200101     192001   \n",
      "..          ...           ...    ...            ...       ...        ...   \n",
      "519         528           528  57900      900694120  20200122     202001   \n",
      "520         529           529  58651      900692176  20200122     202001   \n",
      "521         530           530  61449      900699877  20200122     202001   \n",
      "522         531           531  65063      900697954  20200122     202001   \n",
      "523         532           532  69906      900710254  20200122     202001   \n",
      "\n",
      "     Year  FractionDate Actor1Code      Actor1Name  ...  \\\n",
      "0    1920     1920.0027        ELI         RETIRED  ...   \n",
      "1    1920     1920.0027        COP       POLICEMAN  ...   \n",
      "2    1920     1920.0027        COP          POLICE  ...   \n",
      "3    1920     1920.0027        COP          POLICE  ...   \n",
      "4    1920     1920.0027        HLH           NURSE  ...   \n",
      "..    ...           ...        ...             ...  ...   \n",
      "519  2020     2020.0603        IND          MUMBAI  ...   \n",
      "520  2020     2020.0603                             ...   \n",
      "521  2020     2020.0603                             ...   \n",
      "522  2020     2020.0603        COP          POLICE  ...   \n",
      "523  2020     2020.0603        COP  SECURITY FORCE  ...   \n",
      "\n",
      "                                             SOURCEURL  \\\n",
      "0    https://punemirror.indiatimes.com/pune/cover-s...   \n",
      "1    https://www.mid-day.com/articles/mentalhood-ta...   \n",
      "2    https://www.nagpurtoday.in/in-pic-nagpur-polic...   \n",
      "3    https://www.timesnownews.com/the-buzz/article/...   \n",
      "4    https://medicaldialogues.in/icmr-aiims-emergen...   \n",
      "..                                                 ...   \n",
      "519  https://www.freepressjournal.in/mumbai/mumbai-...   \n",
      "520  https://www.livelaw.in/top-stories/complainant...   \n",
      "521  https://scroll.in/latest/950705/gogoi-sexual-h...   \n",
      "522  https://www.indiatvnews.com/news/india/mangalo...   \n",
      "523  https://www.timesnownews.com/india/article/exc...   \n",
      "\n",
      "                                                 title  \\\n",
      "0    pmc threatens to seize house of ex i t comm wh...   \n",
      "1    mentalhood tandav the family man 2 breathe 2 s...   \n",
      "2    in pic nagpur police extend new years greeting...   \n",
      "3    man asks for some drugs in exchange for dealer...   \n",
      "4    icmr aiims emergency mobile service initiative...   \n",
      "..                                                 ...   \n",
      "519  mumbai specially abled boy sexually assaulted ...   \n",
      "520  complainant in cji sexual harassment case rein...   \n",
      "521  gogoi sexual harassment case sc employee who c...   \n",
      "522  mangalore airport ied bomb explosives suspect ...   \n",
      "523  excl terror outfits planning attacks on republ...   \n",
      "\n",
      "                                                  text  \\\n",
      "0    PMC threatens to seize house of ex I-T comm wh...   \n",
      "1    \\nMentalhood, Tandav, The Family Man 2, Breath...   \n",
      "2    In Pic: Nagpur Police extend New Year's greeti...   \n",
      "3    \\n\\n\\nPune Police Twitter | Man asks for some ...   \n",
      "4    ICMR-AIIMS emergency mobile service initiative...   \n",
      "..                                                 ...   \n",
      "519  \\n\\n\\n\\n\\n\\n\\n\\n\\n\\nMumbai: Specially-abled bo...   \n",
      "520  SC Reinstates Complainant In CJI Sexual Harass...   \n",
      "521  \\n\\n\\n\\n\\n\\n\\n\\n\\n\\nGogoi sexual harassment ca...   \n",
      "522     Mangalore Airport bomb scare: Man surrender...   \n",
      "523  \\n\\n\\nEXCL: Terror outfits planning attacks on...   \n",
      "\n",
      "                                               summary  \\\n",
      "0    In this light, he had also sent a legal notice...   \n",
      "1    Mirzapur 2Cast: Ali Fazal, Shweta Tripathi, Ra...   \n",
      "2    Nagpur: Amid cloudy day and chilling night the...   \n",
      "3    Pune police's witty response to man wins Twitt...   \n",
      "4    New Delhi: People living within a 5-km radius ...   \n",
      "..                                                 ...   \n",
      "519  The 11-year-old boy, a resident of Andheri, wa...   \n",
      "520  The special bench considered the sexual harass...   \n",
      "521  The Supreme Court has reinstated the woman emp...   \n",
      "522  Image Source : PTI Mangalore Airport bomb: Man...   \n",
      "523  J&K on alert ahead of Republic DayNew Delhi: L...   \n",
      "\n",
      "                                          summary_wrap    id  \\\n",
      "0    In this light, he had also sent a legal notice...  3557   \n",
      "1    Mirzapur 2Cast: Ali Fazal, Shweta Tripathi, Ra...  3558   \n",
      "2    Nagpur: Amid cloudy day and chilling night the...  3559   \n",
      "3    Pune police's witty response to man wins Twitt...  3560   \n",
      "4    New Delhi: People living within a 5-km radius ...  3561   \n",
      "..                                                 ...   ...   \n",
      "519  The 11-year-old boy, a resident of Andheri, wa...  4052   \n",
      "520  The special bench considered the sexual harass...  4053   \n",
      "521  The Supreme Court has reinstated the woman emp...  4054   \n",
      "522  Image Source : PTI Mangalore Airport bomb: Man...  4055   \n",
      "523  J&K on alert ahead of Republic DayNew Delhi: L...  4056   \n",
      "\n",
      "                    annotations meta annotation_approver        lab_final  \n",
      "0    [{'label': 27, 'user': 8}]   {}                None     [Irrelevant]  \n",
      "1    [{'label': 27, 'user': 8}]   {}                None     [Irrelevant]  \n",
      "2    [{'label': 27, 'user': 8}]   {}                None     [Irrelevant]  \n",
      "3    [{'label': 27, 'user': 8}]   {}                None     [Irrelevant]  \n",
      "4    [{'label': 27, 'user': 8}]   {}                None     [Irrelevant]  \n",
      "..                          ...  ...                 ...              ...  \n",
      "519  [{'label': 26, 'user': 8}]   {}                None     [Harassment]  \n",
      "520  [{'label': 25, 'user': 8}]   {}                None  [Case_progress]  \n",
      "521  [{'label': 25, 'user': 8}]   {}                None  [Case_progress]  \n",
      "522  [{'label': 27, 'user': 8}]   {}                None     [Irrelevant]  \n",
      "523  [{'label': 27, 'user': 8}]   {}                None     [Irrelevant]  \n",
      "\n",
      "[524 rows x 74 columns]\n"
     ]
    }
   ],
   "source": [
    "print(data1)"
   ]
  },
  {
   "cell_type": "code",
   "execution_count": 18,
   "metadata": {},
   "outputs": [],
   "source": [
    "data1.drop(['Unnamed: 0','id','meta'], axis = 1, inplace=True) "
   ]
  },
  {
   "cell_type": "code",
   "execution_count": 19,
   "metadata": {},
   "outputs": [
    {
     "name": "stdout",
     "output_type": "stream",
     "text": [
      "     Unnamed: 0.1  index  GLOBALEVENTID   SQLDATE  MonthYear  Year  \\\n",
      "0               0  25090      896079819  19200101     192001  1920   \n",
      "1               1  33280      896089642  19200101     192001  1920   \n",
      "2               2  34788      896095544  19200101     192001  1920   \n",
      "3               3  35500      896092971  19200101     192001  1920   \n",
      "4               4  47722      896113974  19200101     192001  1920   \n",
      "..            ...    ...            ...       ...        ...   ...   \n",
      "519           528  57900      900694120  20200122     202001  2020   \n",
      "520           529  58651      900692176  20200122     202001  2020   \n",
      "521           530  61449      900699877  20200122     202001  2020   \n",
      "522           531  65063      900697954  20200122     202001  2020   \n",
      "523           532  69906      900710254  20200122     202001  2020   \n",
      "\n",
      "     FractionDate Actor1Code      Actor1Name Actor1CountryCode  ...  \\\n",
      "0       1920.0027        ELI         RETIRED                    ...   \n",
      "1       1920.0027        COP       POLICEMAN                    ...   \n",
      "2       1920.0027        COP          POLICE                    ...   \n",
      "3       1920.0027        COP          POLICE                    ...   \n",
      "4       1920.0027        HLH           NURSE                    ...   \n",
      "..            ...        ...             ...               ...  ...   \n",
      "519     2020.0603        IND          MUMBAI               IND  ...   \n",
      "520     2020.0603                                               ...   \n",
      "521     2020.0603                                               ...   \n",
      "522     2020.0603        COP          POLICE                    ...   \n",
      "523     2020.0603        COP  SECURITY FORCE                    ...   \n",
      "\n",
      "    ActionGeo_FeatureID       DATEADDED  \\\n",
      "0              -2108361  20200101044500   \n",
      "1              10451923  20200101070000   \n",
      "2              -2105396  20200101081500   \n",
      "3              -2108361  20200101074500   \n",
      "4              -2094230  20200101114500   \n",
      "..                  ...             ...   \n",
      "519            -2095140  20200122071500   \n",
      "520            -2094230  20200122070000   \n",
      "521             6210381  20200122080000   \n",
      "522            -2090174  20200122074500   \n",
      "523            -2088837  20200122090000   \n",
      "\n",
      "                                             SOURCEURL  \\\n",
      "0    https://punemirror.indiatimes.com/pune/cover-s...   \n",
      "1    https://www.mid-day.com/articles/mentalhood-ta...   \n",
      "2    https://www.nagpurtoday.in/in-pic-nagpur-polic...   \n",
      "3    https://www.timesnownews.com/the-buzz/article/...   \n",
      "4    https://medicaldialogues.in/icmr-aiims-emergen...   \n",
      "..                                                 ...   \n",
      "519  https://www.freepressjournal.in/mumbai/mumbai-...   \n",
      "520  https://www.livelaw.in/top-stories/complainant...   \n",
      "521  https://scroll.in/latest/950705/gogoi-sexual-h...   \n",
      "522  https://www.indiatvnews.com/news/india/mangalo...   \n",
      "523  https://www.timesnownews.com/india/article/exc...   \n",
      "\n",
      "                                                 title  \\\n",
      "0    pmc threatens to seize house of ex i t comm wh...   \n",
      "1    mentalhood tandav the family man 2 breathe 2 s...   \n",
      "2    in pic nagpur police extend new years greeting...   \n",
      "3    man asks for some drugs in exchange for dealer...   \n",
      "4    icmr aiims emergency mobile service initiative...   \n",
      "..                                                 ...   \n",
      "519  mumbai specially abled boy sexually assaulted ...   \n",
      "520  complainant in cji sexual harassment case rein...   \n",
      "521  gogoi sexual harassment case sc employee who c...   \n",
      "522  mangalore airport ied bomb explosives suspect ...   \n",
      "523  excl terror outfits planning attacks on republ...   \n",
      "\n",
      "                                                  text  \\\n",
      "0    PMC threatens to seize house of ex I-T comm wh...   \n",
      "1    \\nMentalhood, Tandav, The Family Man 2, Breath...   \n",
      "2    In Pic: Nagpur Police extend New Year's greeti...   \n",
      "3    \\n\\n\\nPune Police Twitter | Man asks for some ...   \n",
      "4    ICMR-AIIMS emergency mobile service initiative...   \n",
      "..                                                 ...   \n",
      "519  \\n\\n\\n\\n\\n\\n\\n\\n\\n\\nMumbai: Specially-abled bo...   \n",
      "520  SC Reinstates Complainant In CJI Sexual Harass...   \n",
      "521  \\n\\n\\n\\n\\n\\n\\n\\n\\n\\nGogoi sexual harassment ca...   \n",
      "522     Mangalore Airport bomb scare: Man surrender...   \n",
      "523  \\n\\n\\nEXCL: Terror outfits planning attacks on...   \n",
      "\n",
      "                                               summary  \\\n",
      "0    In this light, he had also sent a legal notice...   \n",
      "1    Mirzapur 2Cast: Ali Fazal, Shweta Tripathi, Ra...   \n",
      "2    Nagpur: Amid cloudy day and chilling night the...   \n",
      "3    Pune police's witty response to man wins Twitt...   \n",
      "4    New Delhi: People living within a 5-km radius ...   \n",
      "..                                                 ...   \n",
      "519  The 11-year-old boy, a resident of Andheri, wa...   \n",
      "520  The special bench considered the sexual harass...   \n",
      "521  The Supreme Court has reinstated the woman emp...   \n",
      "522  Image Source : PTI Mangalore Airport bomb: Man...   \n",
      "523  J&K on alert ahead of Republic DayNew Delhi: L...   \n",
      "\n",
      "                                          summary_wrap  \\\n",
      "0    In this light, he had also sent a legal notice...   \n",
      "1    Mirzapur 2Cast: Ali Fazal, Shweta Tripathi, Ra...   \n",
      "2    Nagpur: Amid cloudy day and chilling night the...   \n",
      "3    Pune police's witty response to man wins Twitt...   \n",
      "4    New Delhi: People living within a 5-km radius ...   \n",
      "..                                                 ...   \n",
      "519  The 11-year-old boy, a resident of Andheri, wa...   \n",
      "520  The special bench considered the sexual harass...   \n",
      "521  The Supreme Court has reinstated the woman emp...   \n",
      "522  Image Source : PTI Mangalore Airport bomb: Man...   \n",
      "523  J&K on alert ahead of Republic DayNew Delhi: L...   \n",
      "\n",
      "                    annotations annotation_approver        lab_final  \n",
      "0    [{'label': 27, 'user': 8}]                None     [Irrelevant]  \n",
      "1    [{'label': 27, 'user': 8}]                None     [Irrelevant]  \n",
      "2    [{'label': 27, 'user': 8}]                None     [Irrelevant]  \n",
      "3    [{'label': 27, 'user': 8}]                None     [Irrelevant]  \n",
      "4    [{'label': 27, 'user': 8}]                None     [Irrelevant]  \n",
      "..                          ...                 ...              ...  \n",
      "519  [{'label': 26, 'user': 8}]                None     [Harassment]  \n",
      "520  [{'label': 25, 'user': 8}]                None  [Case_progress]  \n",
      "521  [{'label': 25, 'user': 8}]                None  [Case_progress]  \n",
      "522  [{'label': 27, 'user': 8}]                None     [Irrelevant]  \n",
      "523  [{'label': 27, 'user': 8}]                None     [Irrelevant]  \n",
      "\n",
      "[524 rows x 71 columns]\n"
     ]
    }
   ],
   "source": [
    "print(data1)"
   ]
  },
  {
   "cell_type": "code",
   "execution_count": 20,
   "metadata": {},
   "outputs": [],
   "source": [
    "my_json=\"meghana.json\"\n",
    "lbls=\"labels_news.csv\""
   ]
  },
  {
   "cell_type": "code",
   "execution_count": 21,
   "metadata": {},
   "outputs": [
    {
     "name": "stdout",
     "output_type": "stream",
     "text": [
      "[7]\n",
      "(501, 6)\n"
     ]
    },
    {
     "name": "stderr",
     "output_type": "stream",
     "text": [
      "/usr/local/lib/python3.7/site-packages/ipykernel_launcher.py:37: SettingWithCopyWarning: \n",
      "A value is trying to be set on a copy of a slice from a DataFrame\n",
      "\n",
      "See the caveats in the documentation: https://pandas.pydata.org/pandas-docs/stable/user_guide/indexing.html#returning-a-view-versus-a-copy\n"
     ]
    },
    {
     "data": {
      "text/html": [
       "<div>\n",
       "<style scoped>\n",
       "    .dataframe tbody tr th:only-of-type {\n",
       "        vertical-align: middle;\n",
       "    }\n",
       "\n",
       "    .dataframe tbody tr th {\n",
       "        vertical-align: top;\n",
       "    }\n",
       "\n",
       "    .dataframe thead th {\n",
       "        text-align: right;\n",
       "    }\n",
       "</style>\n",
       "<table border=\"1\" class=\"dataframe\">\n",
       "  <thead>\n",
       "    <tr style=\"text-align: right;\">\n",
       "      <th></th>\n",
       "      <th>id</th>\n",
       "      <th>summary_wrap</th>\n",
       "      <th>annotations</th>\n",
       "      <th>meta</th>\n",
       "      <th>annotation_approver</th>\n",
       "      <th>lab_final</th>\n",
       "    </tr>\n",
       "  </thead>\n",
       "  <tbody>\n",
       "    <tr>\n",
       "      <th>0</th>\n",
       "      <td>4065</td>\n",
       "      <td>puneUpdated: Jan 23, 2020 16:05 ISTPost arrest...</td>\n",
       "      <td>[{'label': 34, 'user': 7}]</td>\n",
       "      <td>{}</td>\n",
       "      <td>None</td>\n",
       "      <td>[Irrelevant]</td>\n",
       "    </tr>\n",
       "    <tr>\n",
       "      <th>1</th>\n",
       "      <td>4057</td>\n",
       "      <td>summary_wrap</td>\n",
       "      <td>[{'label': 34, 'user': 7}]</td>\n",
       "      <td>{}</td>\n",
       "      <td>None</td>\n",
       "      <td>[Irrelevant]</td>\n",
       "    </tr>\n",
       "    <tr>\n",
       "      <th>2</th>\n",
       "      <td>4058</td>\n",
       "      <td>Discussing the report with media persons, Jana...</td>\n",
       "      <td>[{'label': 34, 'user': 7}]</td>\n",
       "      <td>{}</td>\n",
       "      <td>None</td>\n",
       "      <td>[Irrelevant]</td>\n",
       "    </tr>\n",
       "    <tr>\n",
       "      <th>3</th>\n",
       "      <td>4059</td>\n",
       "      <td>The investigating officers are also suspecting...</td>\n",
       "      <td>[{'label': 30, 'user': 7}]</td>\n",
       "      <td>{}</td>\n",
       "      <td>None</td>\n",
       "      <td>[Murder/Suicide]</td>\n",
       "    </tr>\n",
       "    <tr>\n",
       "      <th>4</th>\n",
       "      <td>4060</td>\n",
       "      <td>After alleging sexual harassment by Gogoi, the...</td>\n",
       "      <td>[{'label': 34, 'user': 7}]</td>\n",
       "      <td>{}</td>\n",
       "      <td>None</td>\n",
       "      <td>[Irrelevant]</td>\n",
       "    </tr>\n",
       "  </tbody>\n",
       "</table>\n",
       "</div>"
      ],
      "text/plain": [
       "     id                                       summary_wrap  \\\n",
       "0  4065  puneUpdated: Jan 23, 2020 16:05 ISTPost arrest...   \n",
       "1  4057                                       summary_wrap   \n",
       "2  4058  Discussing the report with media persons, Jana...   \n",
       "3  4059  The investigating officers are also suspecting...   \n",
       "4  4060  After alleging sexual harassment by Gogoi, the...   \n",
       "\n",
       "                  annotations meta annotation_approver         lab_final  \n",
       "0  [{'label': 34, 'user': 7}]   {}                None      [Irrelevant]  \n",
       "1  [{'label': 34, 'user': 7}]   {}                None      [Irrelevant]  \n",
       "2  [{'label': 34, 'user': 7}]   {}                None      [Irrelevant]  \n",
       "3  [{'label': 30, 'user': 7}]   {}                None  [Murder/Suicide]  \n",
       "4  [{'label': 34, 'user': 7}]   {}                None      [Irrelevant]  "
      ]
     },
     "execution_count": 21,
     "metadata": {},
     "output_type": "execute_result"
    }
   ],
   "source": [
    "df = get_labels_df(my_json,lbls)\n",
    "df=df.rename(columns={'text':'summary_wrap'})\n",
    "df.head()"
   ]
  },
  {
   "cell_type": "code",
   "execution_count": 22,
   "metadata": {},
   "outputs": [],
   "source": [
    "data2 = pd.merge(main_df, df, on=\"summary_wrap\", how='inner')"
   ]
  },
  {
   "cell_type": "code",
   "execution_count": 23,
   "metadata": {},
   "outputs": [
    {
     "name": "stdout",
     "output_type": "stream",
     "text": [
      "     Unnamed: 0  Unnamed: 0.1   index  GLOBALEVENTID   SQLDATE  MonthYear  \\\n",
      "0           533           533   82894      900732117  20200122     202001   \n",
      "1           534           534   87054      900741136  20200122     202001   \n",
      "2           535           535   98295      900757401  20200122     202001   \n",
      "3           536           536   98653      900757759  20200122     202001   \n",
      "4           537           537  106315      900771544  20200122     202001   \n",
      "..          ...           ...     ...            ...       ...        ...   \n",
      "525        1052          1052   49221      904624427  20200208     202002   \n",
      "526        1053          1053   51430      904627931  20200208     202002   \n",
      "527        1054          1054   54268      904631524  20200208     202002   \n",
      "528        1055          1055   57441      904637771  20200208     202002   \n",
      "529        1056          1056   59242      904640782  20200208     202002   \n",
      "\n",
      "     Year  FractionDate Actor1Code        Actor1Name  ...  \\\n",
      "0    2020     2020.0603        COP  POLICE PERSONNEL  ...   \n",
      "1    2020     2020.0603        COP  POLICE OFFICIALS  ...   \n",
      "2    2020     2020.0603     ELIJUD           RETIRED  ...   \n",
      "3    2020     2020.0603        IND             DELHI  ...   \n",
      "4    2020     2020.0603        IND         NEW DELHI  ...   \n",
      "..    ...           ...        ...               ...  ...   \n",
      "525  2020     2020.1041        GBR    UNITED KINGDOM  ...   \n",
      "526  2020     2020.1041                               ...   \n",
      "527  2020     2020.1041                               ...   \n",
      "528  2020     2020.1041                               ...   \n",
      "529  2020     2020.1041                               ...   \n",
      "\n",
      "                                             SOURCEURL  \\\n",
      "0    https://www.thehindu.com/news/cities/Tiruchira...   \n",
      "1    https://www.timesnownews.com/mirror-now/crime/...   \n",
      "2    https://thewire.in/women/supreme-court-reinsta...   \n",
      "3    https://www.business-standard.com/article/pti-...   \n",
      "4    https://www.timesnownews.com/india/article/des...   \n",
      "..                                                 ...   \n",
      "525  https://www.financialexpress.com/industry/anil...   \n",
      "526  https://www.timesnownews.com/mirror-now/in-foc...   \n",
      "527  https://www.timesnownews.com/mirror-now/crime/...   \n",
      "528  https://sputniknews.com/india/2020020810782600...   \n",
      "529  https://english.mathrubhumi.com/news/kerala/il...   \n",
      "\n",
      "                                                 title  \\\n",
      "0     sex workers seek considerate treatment by police   \n",
      "1    12 year olds body found in astha kunj not ruli...   \n",
      "2    supreme court reinstates staffer who accused e...   \n",
      "3    delhi court acquits man of rape says woman was...   \n",
      "4    desperate individuals could resort to extreme ...   \n",
      "..                                                 ...   \n",
      "525  anil ambani tells court my net worth is zero a...   \n",
      "526  bareilly man drowns in 1 5 feet deep canal fam...   \n",
      "527  killed mother stabbed brother to prevent them ...   \n",
      "528  202002081078260054 india taking steps to ensur...   \n",
      "529  illegal voip telephone exchange busted mumbai ...   \n",
      "\n",
      "                                                  text  \\\n",
      "0    \\n\\n\\n\\n\\n\\nSex workers seek considerate treat...   \n",
      "1    \\n\\n\\nBody of 12-year-old found in Astha Kunj;...   \n",
      "2    \\nSupreme Court Reinstates Staffer Who Accused...   \n",
      "3     \\n\\n\\n\\n\\n\\n\\n\\nDelhi court acquits man of ra...   \n",
      "4    \\n\\n\\n'Desperate individuals could resort to e...   \n",
      "..                                                 ...   \n",
      "525  Anil Ambani tells court, my net worth is zero ...   \n",
      "526  \\n\\n\\nBareilly man canal death: Bareilly: Man ...   \n",
      "527  \\n\\n\\nTechie kills mother: 'Killed mother, sta...   \n",
      "528  \\nIndia Taking Newer Steps to Ensure Women Saf...   \n",
      "529  \\n\\n\\n\\n\\n\\n\\n\\n\\n\\n \\n\\n\\n\\n\\n\\nIllegal VoIP ...   \n",
      "\n",
      "                                               summary  \\\n",
      "0    Discussing the report with media persons, Jana...   \n",
      "1    The investigating officers are also suspecting...   \n",
      "2    After alleging sexual harassment by Gogoi, the...   \n",
      "3    A Delhi court has acquitted a man of rape char...   \n",
      "4    The MHA letter also mentions the aerial threat...   \n",
      "..                                                 ...   \n",
      "525  Anil Ambani, a little over a decade ago was on...   \n",
      "526  What has baffled the family of the victim is t...   \n",
      "527  The 33-year-old woman identified as Amrita Cha...   \n",
      "528  The inauguration of #DishaPoliceStation & laun...   \n",
      "529  Mumbai: The Mumbai Police's Crime Branch on Fr...   \n",
      "\n",
      "                                          summary_wrap    id  \\\n",
      "0    Discussing the report with media persons, Jana...  4058   \n",
      "1    The investigating officers are also suspecting...  4059   \n",
      "2    After alleging sexual harassment by Gogoi, the...  4060   \n",
      "3    A Delhi court has acquitted a man of rape char...  4061   \n",
      "4    The MHA letter also mentions the aerial threat...  4062   \n",
      "..                                                 ...   ...   \n",
      "525  Anil Ambani, a little over a decade ago was on...  4553   \n",
      "526  What has baffled the family of the victim is t...  4554   \n",
      "527  The 33-year-old woman identified as Amrita Cha...  4555   \n",
      "528  The inauguration of #DishaPoliceStation & laun...  4556   \n",
      "529  Mumbai: The Mumbai Police's Crime Branch on Fr...  4557   \n",
      "\n",
      "                    annotations meta annotation_approver         lab_final  \n",
      "0    [{'label': 34, 'user': 7}]   {}                None      [Irrelevant]  \n",
      "1    [{'label': 30, 'user': 7}]   {}                None  [Murder/Suicide]  \n",
      "2    [{'label': 34, 'user': 7}]   {}                None      [Irrelevant]  \n",
      "3    [{'label': 29, 'user': 7}]   {}                None              [DV]  \n",
      "4    [{'label': 34, 'user': 7}]   {}                None      [Irrelevant]  \n",
      "..                          ...  ...                 ...               ...  \n",
      "525  [{'label': 34, 'user': 7}]   {}                None      [Irrelevant]  \n",
      "526  [{'label': 34, 'user': 7}]   {}                None      [Irrelevant]  \n",
      "527  [{'label': 29, 'user': 7}]   {}                None              [DV]  \n",
      "528  [{'label': 31, 'user': 7}]   {}                None        [Measures]  \n",
      "529  [{'label': 34, 'user': 7}]   {}                None      [Irrelevant]  \n",
      "\n",
      "[530 rows x 74 columns]\n"
     ]
    }
   ],
   "source": [
    "print(data2)"
   ]
  },
  {
   "cell_type": "code",
   "execution_count": 24,
   "metadata": {},
   "outputs": [],
   "source": [
    "data2.drop(['Unnamed: 0','id','meta'], axis = 1, inplace=True) "
   ]
  },
  {
   "cell_type": "code",
   "execution_count": 25,
   "metadata": {},
   "outputs": [
    {
     "name": "stdout",
     "output_type": "stream",
     "text": [
      "[4]\n",
      "(501, 6)\n"
     ]
    },
    {
     "name": "stderr",
     "output_type": "stream",
     "text": [
      "/usr/local/lib/python3.7/site-packages/ipykernel_launcher.py:37: SettingWithCopyWarning: \n",
      "A value is trying to be set on a copy of a slice from a DataFrame\n",
      "\n",
      "See the caveats in the documentation: https://pandas.pydata.org/pandas-docs/stable/user_guide/indexing.html#returning-a-view-versus-a-copy\n"
     ]
    }
   ],
   "source": [
    "my_json=\"nikhel.json\"\n",
    "lbls=\"labels_news.csv\"\n",
    "\n",
    "df = get_labels_df(my_json,lbls)\n",
    "df=df.rename(columns={'text':'summary_wrap'})\n",
    "df.head()\n",
    "\n",
    "data3 = pd.merge(main_df, df, on=\"summary_wrap\", how='inner')\n",
    "data3.drop(['Unnamed: 0','id','meta'], axis = 1, inplace=True) "
   ]
  },
  {
   "cell_type": "code",
   "execution_count": 26,
   "metadata": {},
   "outputs": [
    {
     "name": "stdout",
     "output_type": "stream",
     "text": [
      "[3]\n",
      "(501, 6)\n"
     ]
    },
    {
     "name": "stderr",
     "output_type": "stream",
     "text": [
      "/usr/local/lib/python3.7/site-packages/ipykernel_launcher.py:37: SettingWithCopyWarning: \n",
      "A value is trying to be set on a copy of a slice from a DataFrame\n",
      "\n",
      "See the caveats in the documentation: https://pandas.pydata.org/pandas-docs/stable/user_guide/indexing.html#returning-a-view-versus-a-copy\n"
     ]
    }
   ],
   "source": [
    "my_json=\"seyi.json\"\n",
    "lbls=\"labels_news.csv\"\n",
    "\n",
    "df = get_labels_df(my_json,lbls)\n",
    "df=df.rename(columns={'text':'summary_wrap'})\n",
    "df.head()\n",
    "\n",
    "data4 = pd.merge(main_df, df, on=\"summary_wrap\", how='inner')\n",
    "data4.drop(['Unnamed: 0','id','meta'], axis = 1, inplace=True) "
   ]
  },
  {
   "cell_type": "code",
   "execution_count": 27,
   "metadata": {},
   "outputs": [
    {
     "name": "stdout",
     "output_type": "stream",
     "text": [
      "[5]\n",
      "(501, 6)\n"
     ]
    },
    {
     "name": "stderr",
     "output_type": "stream",
     "text": [
      "/usr/local/lib/python3.7/site-packages/ipykernel_launcher.py:37: SettingWithCopyWarning: \n",
      "A value is trying to be set on a copy of a slice from a DataFrame\n",
      "\n",
      "See the caveats in the documentation: https://pandas.pydata.org/pandas-docs/stable/user_guide/indexing.html#returning-a-view-versus-a-copy\n"
     ]
    }
   ],
   "source": [
    "my_json=\"shreyasi.json\"\n",
    "lbls=\"labels_news.csv\"\n",
    "\n",
    "df = get_labels_df(my_json,lbls)\n",
    "df=df.rename(columns={'text':'summary_wrap'})\n",
    "df.head()\n",
    "\n",
    "data5 = pd.merge(main_df, df, on=\"summary_wrap\", how='inner')\n",
    "data5.drop(['Unnamed: 0','id','meta'], axis = 1, inplace=True) "
   ]
  },
  {
   "cell_type": "code",
   "execution_count": 28,
   "metadata": {},
   "outputs": [
    {
     "name": "stdout",
     "output_type": "stream",
     "text": [
      "[9, 10]\n",
      "(501, 6)\n"
     ]
    },
    {
     "name": "stderr",
     "output_type": "stream",
     "text": [
      "/usr/local/lib/python3.7/site-packages/ipykernel_launcher.py:37: SettingWithCopyWarning: \n",
      "A value is trying to be set on a copy of a slice from a DataFrame\n",
      "\n",
      "See the caveats in the documentation: https://pandas.pydata.org/pandas-docs/stable/user_guide/indexing.html#returning-a-view-versus-a-copy\n"
     ]
    }
   ],
   "source": [
    "my_json=\"shrusti.json\"\n",
    "lbls=\"labels_news.csv\"\n",
    "\n",
    "df = get_labels_df(my_json,lbls)\n",
    "df=df.rename(columns={'text':'summary_wrap'})\n",
    "df.head()\n",
    "\n",
    "data8 = pd.merge(main_df, df, on=\"summary_wrap\", how='inner')\n",
    "data8.drop(['Unnamed: 0','id','meta'], axis = 1, inplace=True) "
   ]
  },
  {
   "cell_type": "code",
   "execution_count": 29,
   "metadata": {},
   "outputs": [
    {
     "name": "stdout",
     "output_type": "stream",
     "text": [
      "[10]\n",
      "(501, 6)\n"
     ]
    },
    {
     "name": "stderr",
     "output_type": "stream",
     "text": [
      "/usr/local/lib/python3.7/site-packages/ipykernel_launcher.py:37: SettingWithCopyWarning: \n",
      "A value is trying to be set on a copy of a slice from a DataFrame\n",
      "\n",
      "See the caveats in the documentation: https://pandas.pydata.org/pandas-docs/stable/user_guide/indexing.html#returning-a-view-versus-a-copy\n"
     ]
    }
   ],
   "source": [
    "my_json=\"manasvi.json\"\n",
    "lbls=\"labels_news.csv\"\n",
    "\n",
    "df = get_labels_df(my_json,lbls)\n",
    "df=df.rename(columns={'text':'summary_wrap'})\n",
    "df.head()\n",
    "\n",
    "data9 = pd.merge(main_df, df, on=\"summary_wrap\", how='inner')\n",
    "data9.drop(['Unnamed: 0','id','meta'], axis = 1, inplace=True) "
   ]
  },
  {
   "cell_type": "code",
   "execution_count": 30,
   "metadata": {},
   "outputs": [
    {
     "name": "stdout",
     "output_type": "stream",
     "text": [
      "[11]\n",
      "(467, 6)\n"
     ]
    },
    {
     "name": "stderr",
     "output_type": "stream",
     "text": [
      "/usr/local/lib/python3.7/site-packages/ipykernel_launcher.py:37: SettingWithCopyWarning: \n",
      "A value is trying to be set on a copy of a slice from a DataFrame\n",
      "\n",
      "See the caveats in the documentation: https://pandas.pydata.org/pandas-docs/stable/user_guide/indexing.html#returning-a-view-versus-a-copy\n"
     ]
    }
   ],
   "source": [
    "my_json=\"saloni.json\"\n",
    "lbls=\"labels_news.csv\"\n",
    "\n",
    "df = get_labels_df(my_json,lbls)\n",
    "df=df.rename(columns={'text':'summary_wrap'})\n",
    "df.head()\n",
    "\n",
    "data10 = pd.merge(main_df, df, on=\"summary_wrap\", how='inner')\n",
    "data10.drop(['Unnamed: 0','id','meta'], axis = 1, inplace=True) "
   ]
  },
  {
   "cell_type": "code",
   "execution_count": 31,
   "metadata": {},
   "outputs": [],
   "source": [
    "data1.to_csv(\"hoa.csv\")"
   ]
  },
  {
   "cell_type": "code",
   "execution_count": 32,
   "metadata": {},
   "outputs": [],
   "source": [
    "data2.to_csv(\"meghana.csv\")"
   ]
  },
  {
   "cell_type": "code",
   "execution_count": 33,
   "metadata": {},
   "outputs": [],
   "source": [
    "data3.to_csv(\"nikhel.csv\")"
   ]
  },
  {
   "cell_type": "code",
   "execution_count": 34,
   "metadata": {},
   "outputs": [],
   "source": [
    "data4.to_csv(\"seyi.csv\")"
   ]
  },
  {
   "cell_type": "code",
   "execution_count": 35,
   "metadata": {},
   "outputs": [],
   "source": [
    "data5.to_csv(\"shreyasi.csv\")"
   ]
  },
  {
   "cell_type": "code",
   "execution_count": 36,
   "metadata": {},
   "outputs": [],
   "source": [
    "data8.to_csv(\"shrusti.csv\")"
   ]
  },
  {
   "cell_type": "code",
   "execution_count": 37,
   "metadata": {},
   "outputs": [],
   "source": [
    "data9.to_csv(\"manasvi.csv\")"
   ]
  },
  {
   "cell_type": "code",
   "execution_count": 38,
   "metadata": {},
   "outputs": [],
   "source": [
    "data10.to_csv(\"saloni.csv\")"
   ]
  },
  {
   "cell_type": "code",
   "execution_count": 43,
   "metadata": {},
   "outputs": [],
   "source": [
    "all_filenames = ['hoa.csv','meghana.csv','nikhel.csv','seyi.csv', 'shreyasi.csv','shubhang.csv','harini.csv','shrusti.csv','manasvi.csv', 'saloni.csv']"
   ]
  },
  {
   "cell_type": "code",
   "execution_count": 44,
   "metadata": {},
   "outputs": [],
   "source": [
    "combined_csv = pd.concat([pd.read_csv(f) for f in all_filenames ])\n",
    "del combined_csv[\"annotations\"]\n",
    "del combined_csv[\"annotation_approver\"]\n",
    "combined_csv.to_csv( \"english_5K_label_final.csv\", index=False, encoding='utf-8-sig')"
   ]
  },
  {
   "cell_type": "code",
   "execution_count": 45,
   "metadata": {},
   "outputs": [],
   "source": [
    "harinis = pd.read_csv(\"english_5K_label_final.csv\")"
   ]
  },
  {
   "cell_type": "code",
   "execution_count": 48,
   "metadata": {},
   "outputs": [
    {
     "name": "stdout",
     "output_type": "stream",
     "text": [
      "      Unnamed: 0  Unnamed: 0.1  index  GLOBALEVENTID   SQLDATE  MonthYear  \\\n",
      "0              0             0  25090      896079819  19200101     192001   \n",
      "1              1             1  33280      896089642  19200101     192001   \n",
      "2              2             2  34788      896095544  19200101     192001   \n",
      "3              3             3  35500      896092971  19200101     192001   \n",
      "4              4             4  47722      896113974  19200101     192001   \n",
      "...          ...           ...    ...            ...       ...        ...   \n",
      "5222         490          5181  15930      925260114  20200524     202005   \n",
      "5223         491          5182  15933      925260117  20200524     202005   \n",
      "5224         492          5183  16500      925260684  20200524     202005   \n",
      "5225         493          5184  17546      925262321  20200524     202005   \n",
      "5226         494          5185  17696      925262471  20200524     202005   \n",
      "\n",
      "      Year  FractionDate Actor1Code Actor1Name  ... ActionGeo_Lat  \\\n",
      "0     1920     1920.0027        ELI    RETIRED  ...       18.5333   \n",
      "1     1920     1920.0027        COP  POLICEMAN  ...       27.2494   \n",
      "2     1920     1920.0027        COP     POLICE  ...       21.1500   \n",
      "3     1920     1920.0027        COP     POLICE  ...       18.5333   \n",
      "4     1920     1920.0027        HLH      NURSE  ...       28.6667   \n",
      "...    ...           ...        ...        ...  ...           ...   \n",
      "5222  2020     2020.3945        NaN        NaN  ...       19.6500   \n",
      "5223  2020     2020.3945        NaN        NaN  ...       26.8500   \n",
      "5224  2020     2020.3945        MED  NEWSPAPER  ...       28.6667   \n",
      "5225  2020     2020.3945        NaN        NaN  ...       18.9750   \n",
      "5226  2020     2020.3945        GOV     MINIST  ...       11.0000   \n",
      "\n",
      "     ActionGeo_Long ActionGeo_FeatureID       DATEADDED  \\\n",
      "0           73.8667            -2108361  20200101044500   \n",
      "1           79.3139            10451923  20200101070000   \n",
      "2           79.1000            -2105396  20200101081500   \n",
      "3           73.8667            -2108361  20200101074500   \n",
      "4           77.2167            -2094230  20200101114500   \n",
      "...             ...                 ...             ...   \n",
      "5222        72.7333            -2103187  20200524044500   \n",
      "5223        80.9167            -2102835  20200524044500   \n",
      "5224        77.4333            -2096227  20200524044500   \n",
      "5225        72.8258            -2092174  20200524051500   \n",
      "5226        78.0000            -2112557  20200524051500   \n",
      "\n",
      "                                              SOURCEURL  \\\n",
      "0     https://punemirror.indiatimes.com/pune/cover-s...   \n",
      "1     https://www.mid-day.com/articles/mentalhood-ta...   \n",
      "2     https://www.nagpurtoday.in/in-pic-nagpur-polic...   \n",
      "3     https://www.timesnownews.com/the-buzz/article/...   \n",
      "4     https://medicaldialogues.in/icmr-aiims-emergen...   \n",
      "...                                                 ...   \n",
      "5222  https://www.timesnownews.com/mirror-now/in-foc...   \n",
      "5223  https://indianexpress.com/article/cities/luckn...   \n",
      "5224  https://www.indiatvnews.com/fyi/ghaziabad-dome...   \n",
      "5225  https://www.mid-day.com/articles/coronavirus-o...   \n",
      "5226  https://www.ndtv.com/india-news/coronavirus-lo...   \n",
      "\n",
      "                                                  title  \\\n",
      "0     pmc threatens to seize house of ex i t comm wh...   \n",
      "1     mentalhood tandav the family man 2 breathe 2 s...   \n",
      "2     in pic nagpur police extend new years greeting...   \n",
      "3     man asks for some drugs in exchange for dealer...   \n",
      "4     icmr aiims emergency mobile service initiative...   \n",
      "...                                                 ...   \n",
      "5222  teenaged girl from mahim lives with domestic h...   \n",
      "5223  lucknow lockdown 4 guidelines shopping complex...   \n",
      "5224  ghaziabad domestic help newspaper vendors allo...   \n",
      "5225  coronavirus outbreak state asks mumbai airport...   \n",
      "5226  coronavirus lockdown extremely ill advised say...   \n",
      "\n",
      "                                                   text  \\\n",
      "0     PMC threatens to seize house of ex I-T comm wh...   \n",
      "1     \\nMentalhood, Tandav, The Family Man 2, Breath...   \n",
      "2     In Pic: Nagpur Police extend New Year's greeti...   \n",
      "3     \\n\\n\\nPune Police Twitter | Man asks for some ...   \n",
      "4     ICMR-AIIMS emergency mobile service initiative...   \n",
      "...                                                 ...   \n",
      "5222  \\n\\n\\nTeenaged girl from Mahim lives with dome...   \n",
      "5223  \\n\\n\\n\\n\\n\\n\\n\\nFrom Tuesday, Lucknow shopping...   \n",
      "5224     Ghaziabad domestic help newspaper vendors a...   \n",
      "5225  \\nCoronavirus outbreak: State asks Mumbai airp...   \n",
      "5226  Coronavirus Lockdown: Extremely Ill-Advised, S...   \n",
      "\n",
      "                                                summary  \\\n",
      "0     In this light, he had also sent a legal notice...   \n",
      "1     Mirzapur 2Cast: Ali Fazal, Shweta Tripathi, Ra...   \n",
      "2     Nagpur: Amid cloudy day and chilling night the...   \n",
      "3     Pune police's witty response to man wins Twitt...   \n",
      "4     New Delhi: People living within a 5-km radius ...   \n",
      "...                                                 ...   \n",
      "5222  The girl's mother had gone to Dubai for a busi...   \n",
      "5223  Air-conditioners should remain switched off an...   \n",
      "5224  Image Source : FILE PHOTO Domestic help, newsp...   \n",
      "5225  Saurabh Vijay, state Nodal officer (Air moveme...   \n",
      "5226  \"It's extremely ill-advised to reopen airports...   \n",
      "\n",
      "                                           summary_wrap       lab_final  \n",
      "0     In this light, he had also sent a legal notice...  ['Irrelevant']  \n",
      "1     Mirzapur 2Cast: Ali Fazal, Shweta Tripathi, Ra...  ['Irrelevant']  \n",
      "2     Nagpur: Amid cloudy day and chilling night the...  ['Irrelevant']  \n",
      "3     Pune police's witty response to man wins Twitt...  ['Irrelevant']  \n",
      "4     New Delhi: People living within a 5-km radius ...  ['Irrelevant']  \n",
      "...                                                 ...             ...  \n",
      "5222  The girl's mother had gone to Dubai for a busi...  ['Irrelevant']  \n",
      "5223  Air-conditioners should remain switched off an...  ['Irrelevant']  \n",
      "5224  Image Source : FILE PHOTO Domestic help, newsp...  ['Irrelevant']  \n",
      "5225  Saurabh Vijay, state Nodal officer (Air moveme...  ['Irrelevant']  \n",
      "5226  \"It's extremely ill-advised to reopen airports...  ['Irrelevant']  \n",
      "\n",
      "[5227 rows x 70 columns]\n"
     ]
    }
   ],
   "source": [
    "print(harinis)"
   ]
  },
  {
   "cell_type": "code",
   "execution_count": 39,
   "metadata": {},
   "outputs": [
    {
     "name": "stdout",
     "output_type": "stream",
     "text": [
      "[6]\n",
      "(501, 6)\n"
     ]
    },
    {
     "name": "stderr",
     "output_type": "stream",
     "text": [
      "/usr/local/lib/python3.7/site-packages/ipykernel_launcher.py:37: SettingWithCopyWarning: \n",
      "A value is trying to be set on a copy of a slice from a DataFrame\n",
      "\n",
      "See the caveats in the documentation: https://pandas.pydata.org/pandas-docs/stable/user_guide/indexing.html#returning-a-view-versus-a-copy\n"
     ]
    }
   ],
   "source": [
    "my_json=\"shubhang.json\"\n",
    "lbls=\"labels_news.csv\"\n",
    "\n",
    "df = get_labels_df(my_json,lbls)\n",
    "df=df.rename(columns={'text':'summary_wrap'})\n",
    "df.head()\n",
    "\n",
    "data6 = pd.merge(main_df, df, on=\"summary_wrap\", how='inner')\n",
    "data6.drop(['Unnamed: 0','id','meta'], axis = 1, inplace=True)"
   ]
  },
  {
   "cell_type": "code",
   "execution_count": 40,
   "metadata": {},
   "outputs": [
    {
     "name": "stdout",
     "output_type": "stream",
     "text": [
      "[1]\n",
      "(500, 6)\n"
     ]
    },
    {
     "name": "stderr",
     "output_type": "stream",
     "text": [
      "/usr/local/lib/python3.7/site-packages/ipykernel_launcher.py:37: SettingWithCopyWarning: \n",
      "A value is trying to be set on a copy of a slice from a DataFrame\n",
      "\n",
      "See the caveats in the documentation: https://pandas.pydata.org/pandas-docs/stable/user_guide/indexing.html#returning-a-view-versus-a-copy\n"
     ]
    }
   ],
   "source": [
    "my_json=\"harini.json\"\n",
    "lbls=\"labels_news.csv\"\n",
    "\n",
    "df = get_labels_df(my_json,lbls)\n",
    "df=df.rename(columns={'text':'summary_wrap'})\n",
    "df.head()\n",
    "\n",
    "data7 = pd.merge(main_df, df, on=\"summary_wrap\", how='inner')\n",
    "data7.drop(['Unnamed: 0','id','meta'], axis = 1, inplace=True)"
   ]
  },
  {
   "cell_type": "code",
   "execution_count": 41,
   "metadata": {},
   "outputs": [],
   "source": [
    "data6.to_csv(\"shubhang.csv\")"
   ]
  },
  {
   "cell_type": "code",
   "execution_count": 42,
   "metadata": {},
   "outputs": [],
   "source": [
    "data7.to_csv(\"harini.csv\")"
   ]
  },
  {
   "cell_type": "code",
   "execution_count": null,
   "metadata": {},
   "outputs": [],
   "source": [
    "all_filenames = ['hoa.csv','meghana.csv','nikhel.csv','seyi.csv', 'shreyasi.csv','shubhang.csv','harini.csv','shrusti.csv','manasvi.csv', 'saloni.csv']\n",
    "combined_csv = pd.concat([pd.read_csv(f) for f in all_filenames ])\n",
    "del combined_csv[\"annotations\"]\n",
    "del combined_csv[\"annotation_approver\"]\n",
    "combined_csv.to_csv( \"english_5K_label_final.csv\", index=False, encoding='utf-8-sig')"
   ]
  }
 ],
 "metadata": {
  "kernelspec": {
   "display_name": "Python 3",
   "language": "python",
   "name": "python3"
  },
  "language_info": {
   "codemirror_mode": {
    "name": "ipython",
    "version": 3
   },
   "file_extension": ".py",
   "mimetype": "text/x-python",
   "name": "python",
   "nbconvert_exporter": "python",
   "pygments_lexer": "ipython3",
   "version": "3.7.7"
  }
 },
 "nbformat": 4,
 "nbformat_minor": 4
}
