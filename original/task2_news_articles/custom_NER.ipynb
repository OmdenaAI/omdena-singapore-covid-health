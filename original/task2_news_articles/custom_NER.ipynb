{
 "cells": [
  {
   "cell_type": "code",
   "execution_count": 1,
   "metadata": {},
   "outputs": [
    {
     "name": "stderr",
     "output_type": "stream",
     "text": [
      "/Users/seyi/miniconda3/lib/python3.7/site-packages/ipykernel_launcher.py:5: FutureWarning: Passing a negative integer is deprecated in version 1.0 and will not be supported in future version. Instead, use None to not limit the column width.\n",
      "  \"\"\"\n"
     ]
    }
   ],
   "source": [
    "import spacy\n",
    "import re\n",
    "import pandas as pd\n",
    "pd.set_option('display.max_columns', None)\n",
    "pd.set_option('display.max_colwidth', -1)\n",
    "pd.set_option('display.max_rows', None)\n",
    "from spacy.pipeline import EntityRuler "
   ]
  },
  {
   "cell_type": "code",
   "execution_count": 2,
   "metadata": {},
   "outputs": [],
   "source": [
    "nlp = spacy.load(\"en\") \n",
    "ruler = EntityRuler(nlp)\n",
    "patterns = [{\"label\":\"REL\", \"pattern\": [{\"TEXT\":{\"REGEX\": r\"(?i)\\b(wife?|husband?|mother?|father?|son?|daughter?|aunt?|uncle?|in-laws?|in-law?|father in-law?|mother in-law?|grandfather?|grandmother?|grandchild?|family?|partner?|ex-partner?|elder?|maid?|bus conductor?|close relative?|domestic help?|couple?|doctor?|police officer?|niece?|nephew?|neighbour?|step-daughter?|step-son?|teacher?|married?|step-father?|step-mother?|friend?|student?|friends?|employee?|daughter-in-law?)\\b\"}}]}]\n",
    "ruler.add_patterns(patterns)\n",
    "nlp.add_pipe(ruler)"
   ]
  },
  {
   "cell_type": "code",
   "execution_count": 3,
   "metadata": {},
   "outputs": [],
   "source": [
    "def get_entities(text):\n",
    "    entities = {}\n",
    "    doc = nlp(text)\n",
    "    for ent in doc.ents:\n",
    "        if ent.label_ == 'DATE' or ent.label_ == 'CARDINAL':\n",
    "            x = re.search(\"(\\d+)\\s*(years?|year?|months?|month?)\", ent.text, re.IGNORECASE)\n",
    "            if x:\n",
    "                entities[ent.text] = 'AGE'\n",
    "            else:\n",
    "                entities[ent.text] = ent.label_\n",
    "        else:\n",
    "            entities[ent.text] = ent.label_\n",
    "    return entities"
   ]
  },
  {
   "cell_type": "code",
   "execution_count": 4,
   "metadata": {},
   "outputs": [],
   "source": [
    "labelled_data = pd.read_csv('./english_1K_sequence_label.csv')"
   ]
  },
  {
   "cell_type": "code",
   "execution_count": 5,
   "metadata": {},
   "outputs": [
    {
     "data": {
      "text/plain": [
       "Index(['Unnamed: 0', 'Unnamed: 0.1', 'index', 'GLOBALEVENTID', 'SQLDATE',\n",
       "       'MonthYear', 'Year', 'FractionDate', 'Actor1Code', 'Actor1Name',\n",
       "       'Actor1CountryCode', 'Actor1KnownGroupCode', 'Actor1EthnicCode',\n",
       "       'Actor1Religion1Code', 'Actor1Religion2Code', 'Actor1Type1Code',\n",
       "       'Actor1Type2Code', 'Actor1Type3Code', 'Actor2Code', 'Actor2Name',\n",
       "       'Actor2CountryCode', 'Actor2KnownGroupCode', 'Actor2EthnicCode',\n",
       "       'Actor2Religion1Code', 'Actor2Religion2Code', 'Actor2Type1Code',\n",
       "       'Actor2Type2Code', 'Actor2Type3Code', 'IsRootEvent', 'EventCode',\n",
       "       'CAMEOCodeDescription', 'EventBaseCode', 'EventRootCode', 'QuadClass',\n",
       "       'GoldsteinScale', 'NumMentions', 'NumSources', 'NumArticles', 'AvgTone',\n",
       "       'Actor1Geo_Type', 'Actor1Geo_FullName', 'Actor1Geo_CountryCode',\n",
       "       'Actor1Geo_ADM1Code', 'Actor1Geo_ADM2Code', 'Actor1Geo_Lat',\n",
       "       'Actor1Geo_Long', 'Actor1Geo_FeatureID', 'Actor2Geo_Type',\n",
       "       'Actor2Geo_FullName', 'Actor2Geo_CountryCode', 'Actor2Geo_ADM1Code',\n",
       "       'Actor2Geo_ADM2Code', 'Actor2Geo_Lat', 'Actor2Geo_Long',\n",
       "       'Actor2Geo_FeatureID', 'ActionGeo_Type', 'ActionGeo_FullName',\n",
       "       'ActionGeo_CountryCode', 'ActionGeo_ADM1Code', 'ActionGeo_ADM2Code',\n",
       "       'ActionGeo_Lat', 'ActionGeo_Long', 'ActionGeo_FeatureID', 'DATEADDED',\n",
       "       'SOURCEURL', 'title', 'text', 'summary', 'summary_wrap', 'lab_final'],\n",
       "      dtype='object')"
      ]
     },
     "execution_count": 5,
     "metadata": {},
     "output_type": "execute_result"
    }
   ],
   "source": [
    "labelled_data.columns"
   ]
  },
  {
   "cell_type": "code",
   "execution_count": null,
   "metadata": {},
   "outputs": [],
   "source": [
    "labelled_data['NER'] = labelled_data['summary'].apply(get_entities)"
   ]
  },
  {
   "cell_type": "code",
   "execution_count": null,
   "metadata": {},
   "outputs": [],
   "source": [
    "labelled_data1 = labelled_data[labelled_data['lab_final'] == 'DV']"
   ]
  },
  {
   "cell_type": "code",
   "execution_count": null,
   "metadata": {},
   "outputs": [],
   "source": [
    "labelled_data1.head()"
   ]
  },
  {
   "cell_type": "code",
   "execution_count": null,
   "metadata": {},
   "outputs": [],
   "source": [
    "labelled_data.to_csv('./english_1K_with_NER_tags.csv')"
   ]
  },
  {
   "cell_type": "code",
   "execution_count": null,
   "metadata": {},
   "outputs": [],
   "source": []
  }
 ],
 "metadata": {
  "kernelspec": {
   "display_name": "Python 3",
   "language": "python",
   "name": "python3"
  },
  "language_info": {
   "codemirror_mode": {
    "name": "ipython",
    "version": 3
   },
   "file_extension": ".py",
   "mimetype": "text/x-python",
   "name": "python",
   "nbconvert_exporter": "python",
   "pygments_lexer": "ipython3",
   "version": "3.7.6"
  }
 },
 "nbformat": 4,
 "nbformat_minor": 4
}
