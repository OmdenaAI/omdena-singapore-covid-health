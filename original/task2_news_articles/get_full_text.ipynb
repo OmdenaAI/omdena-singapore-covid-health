{
 "cells": [
  {
   "cell_type": "code",
   "execution_count": 17,
   "metadata": {},
   "outputs": [],
   "source": [
    "import glob\n",
    "import pandas as pd\n",
    "import numpy as np\n",
    "from urllib.request import urlopen, Request\n",
    "from bs4 import BeautifulSoup"
   ]
  },
  {
   "cell_type": "code",
   "execution_count": 19,
   "metadata": {},
   "outputs": [
    {
     "name": "stderr",
     "output_type": "stream",
     "text": [
      "/Users/seyi/miniconda3/lib/python3.7/site-packages/IPython/core/interactiveshell.py:3063: DtypeWarning: Columns (23) have mixed types.Specify dtype option on import or set low_memory=False.\n",
      "  interactivity=interactivity, compiler=compiler, result=result)\n"
     ]
    }
   ],
   "source": [
    "news = pd.read_csv('./NONen_interim_01_05_ALL_IN.csv', index_col=False)"
   ]
  },
  {
   "cell_type": "code",
   "execution_count": 20,
   "metadata": {},
   "outputs": [
    {
     "data": {
      "text/html": [
       "<div>\n",
       "<style scoped>\n",
       "    .dataframe tbody tr th:only-of-type {\n",
       "        vertical-align: middle;\n",
       "    }\n",
       "\n",
       "    .dataframe tbody tr th {\n",
       "        vertical-align: top;\n",
       "    }\n",
       "\n",
       "    .dataframe thead th {\n",
       "        text-align: right;\n",
       "    }\n",
       "</style>\n",
       "<table border=\"1\" class=\"dataframe\">\n",
       "  <thead>\n",
       "    <tr style=\"text-align: right;\">\n",
       "      <th></th>\n",
       "      <th>Unnamed: 0</th>\n",
       "      <th>index</th>\n",
       "      <th>GLOBALEVENTID</th>\n",
       "      <th>SQLDATE</th>\n",
       "      <th>MonthYear</th>\n",
       "      <th>Year</th>\n",
       "      <th>FractionDate</th>\n",
       "      <th>Actor1Code</th>\n",
       "      <th>Actor1Name</th>\n",
       "      <th>Actor1CountryCode</th>\n",
       "      <th>...</th>\n",
       "      <th>ActionGeo_FullName</th>\n",
       "      <th>ActionGeo_CountryCode</th>\n",
       "      <th>ActionGeo_ADM1Code</th>\n",
       "      <th>ActionGeo_ADM2Code</th>\n",
       "      <th>ActionGeo_Lat</th>\n",
       "      <th>ActionGeo_Long</th>\n",
       "      <th>ActionGeo_FeatureID</th>\n",
       "      <th>DATEADDED</th>\n",
       "      <th>SOURCEURL</th>\n",
       "      <th>title</th>\n",
       "    </tr>\n",
       "  </thead>\n",
       "  <tbody>\n",
       "    <tr>\n",
       "      <th>0</th>\n",
       "      <td>0</td>\n",
       "      <td>43</td>\n",
       "      <td>896053216</td>\n",
       "      <td>19200101</td>\n",
       "      <td>192001</td>\n",
       "      <td>1920</td>\n",
       "      <td>1920.0027</td>\n",
       "      <td>NaN</td>\n",
       "      <td>NaN</td>\n",
       "      <td>NaN</td>\n",
       "      <td>...</td>\n",
       "      <td>New Delhi, Delhi, India</td>\n",
       "      <td>IN</td>\n",
       "      <td>IN07</td>\n",
       "      <td>17911.0</td>\n",
       "      <td>28.6000</td>\n",
       "      <td>77.2000</td>\n",
       "      <td>-2106102</td>\n",
       "      <td>20200101001500</td>\n",
       "      <td>https://www.anandabazar.com/national/every-pol...</td>\n",
       "      <td>every police bullet is aimed at the constituti...</td>\n",
       "    </tr>\n",
       "    <tr>\n",
       "      <th>1</th>\n",
       "      <td>1</td>\n",
       "      <td>137</td>\n",
       "      <td>896053310</td>\n",
       "      <td>19200101</td>\n",
       "      <td>192001</td>\n",
       "      <td>1920</td>\n",
       "      <td>1920.0027</td>\n",
       "      <td>COP</td>\n",
       "      <td>POLICE</td>\n",
       "      <td>NaN</td>\n",
       "      <td>...</td>\n",
       "      <td>Ambajogai, Maharashtra, India</td>\n",
       "      <td>IN</td>\n",
       "      <td>IN16</td>\n",
       "      <td>70179.0</td>\n",
       "      <td>18.7333</td>\n",
       "      <td>76.3833</td>\n",
       "      <td>-2088642</td>\n",
       "      <td>20200101001500</td>\n",
       "      <td>https://maharashtratimes.indiatimes.com/mahara...</td>\n",
       "      <td>impersonation bans a police officer</td>\n",
       "    </tr>\n",
       "    <tr>\n",
       "      <th>2</th>\n",
       "      <td>2</td>\n",
       "      <td>202</td>\n",
       "      <td>896053375</td>\n",
       "      <td>19200101</td>\n",
       "      <td>192001</td>\n",
       "      <td>1920</td>\n",
       "      <td>1920.0027</td>\n",
       "      <td>EDU</td>\n",
       "      <td>STUDENT</td>\n",
       "      <td>NaN</td>\n",
       "      <td>...</td>\n",
       "      <td>Mumbai, Maharashtra, India</td>\n",
       "      <td>IN</td>\n",
       "      <td>IN16</td>\n",
       "      <td>70184.0</td>\n",
       "      <td>18.9750</td>\n",
       "      <td>72.8258</td>\n",
       "      <td>-2092174</td>\n",
       "      <td>20200101001500</td>\n",
       "      <td>https://maharashtratimes.indiatimes.com/mahara...</td>\n",
       "      <td>welcome to the new year saying write date</td>\n",
       "    </tr>\n",
       "    <tr>\n",
       "      <th>3</th>\n",
       "      <td>3</td>\n",
       "      <td>212</td>\n",
       "      <td>896053385</td>\n",
       "      <td>19200101</td>\n",
       "      <td>192001</td>\n",
       "      <td>1920</td>\n",
       "      <td>1920.0027</td>\n",
       "      <td>FRA</td>\n",
       "      <td>FRANCE</td>\n",
       "      <td>FRA</td>\n",
       "      <td>...</td>\n",
       "      <td>Calcutta, West Bengal, India</td>\n",
       "      <td>IN</td>\n",
       "      <td>IN28</td>\n",
       "      <td>70294.0</td>\n",
       "      <td>22.5697</td>\n",
       "      <td>88.3697</td>\n",
       "      <td>-2092511</td>\n",
       "      <td>20200101001500</td>\n",
       "      <td>https://www.anandabazar.com/editorial/end-of-p...</td>\n",
       "      <td>end of participatory democracy right wing popu...</td>\n",
       "    </tr>\n",
       "    <tr>\n",
       "      <th>4</th>\n",
       "      <td>4</td>\n",
       "      <td>223</td>\n",
       "      <td>896053396</td>\n",
       "      <td>19200101</td>\n",
       "      <td>192001</td>\n",
       "      <td>1920</td>\n",
       "      <td>1920.0027</td>\n",
       "      <td>GOV</td>\n",
       "      <td>PRESIDENT</td>\n",
       "      <td>NaN</td>\n",
       "      <td>...</td>\n",
       "      <td>Pune, Maharashtra, India</td>\n",
       "      <td>IN</td>\n",
       "      <td>IN16</td>\n",
       "      <td>70178.0</td>\n",
       "      <td>18.5333</td>\n",
       "      <td>73.8667</td>\n",
       "      <td>-2108361</td>\n",
       "      <td>20200101001500</td>\n",
       "      <td>https://maharashtratimes.indiatimes.com/mahara...</td>\n",
       "      <td>bjps retreat due to their words</td>\n",
       "    </tr>\n",
       "  </tbody>\n",
       "</table>\n",
       "<p>5 rows × 65 columns</p>\n",
       "</div>"
      ],
      "text/plain": [
       "   Unnamed: 0  index  GLOBALEVENTID   SQLDATE  MonthYear  Year  FractionDate  \\\n",
       "0           0     43      896053216  19200101     192001  1920     1920.0027   \n",
       "1           1    137      896053310  19200101     192001  1920     1920.0027   \n",
       "2           2    202      896053375  19200101     192001  1920     1920.0027   \n",
       "3           3    212      896053385  19200101     192001  1920     1920.0027   \n",
       "4           4    223      896053396  19200101     192001  1920     1920.0027   \n",
       "\n",
       "  Actor1Code Actor1Name Actor1CountryCode  ...             ActionGeo_FullName  \\\n",
       "0        NaN        NaN               NaN  ...        New Delhi, Delhi, India   \n",
       "1        COP     POLICE               NaN  ...  Ambajogai, Maharashtra, India   \n",
       "2        EDU    STUDENT               NaN  ...     Mumbai, Maharashtra, India   \n",
       "3        FRA     FRANCE               FRA  ...   Calcutta, West Bengal, India   \n",
       "4        GOV  PRESIDENT               NaN  ...       Pune, Maharashtra, India   \n",
       "\n",
       "  ActionGeo_CountryCode ActionGeo_ADM1Code ActionGeo_ADM2Code ActionGeo_Lat  \\\n",
       "0                    IN               IN07            17911.0       28.6000   \n",
       "1                    IN               IN16            70179.0       18.7333   \n",
       "2                    IN               IN16            70184.0       18.9750   \n",
       "3                    IN               IN28            70294.0       22.5697   \n",
       "4                    IN               IN16            70178.0       18.5333   \n",
       "\n",
       "  ActionGeo_Long ActionGeo_FeatureID       DATEADDED  \\\n",
       "0        77.2000            -2106102  20200101001500   \n",
       "1        76.3833            -2088642  20200101001500   \n",
       "2        72.8258            -2092174  20200101001500   \n",
       "3        88.3697            -2092511  20200101001500   \n",
       "4        73.8667            -2108361  20200101001500   \n",
       "\n",
       "                                           SOURCEURL  \\\n",
       "0  https://www.anandabazar.com/national/every-pol...   \n",
       "1  https://maharashtratimes.indiatimes.com/mahara...   \n",
       "2  https://maharashtratimes.indiatimes.com/mahara...   \n",
       "3  https://www.anandabazar.com/editorial/end-of-p...   \n",
       "4  https://maharashtratimes.indiatimes.com/mahara...   \n",
       "\n",
       "                                               title  \n",
       "0  every police bullet is aimed at the constituti...  \n",
       "1                impersonation bans a police officer  \n",
       "2          welcome to the new year saying write date  \n",
       "3  end of participatory democracy right wing popu...  \n",
       "4                    bjps retreat due to their words  \n",
       "\n",
       "[5 rows x 65 columns]"
      ]
     },
     "execution_count": 20,
     "metadata": {},
     "output_type": "execute_result"
    }
   ],
   "source": [
    "news.head()"
   ]
  },
  {
   "cell_type": "code",
   "execution_count": 21,
   "metadata": {},
   "outputs": [],
   "source": [
    "header = {'User-Agent': 'Mozilla/5.0 (Macintosh; Intel Mac OS X 10_13_6) AppleWebKit/537.36 (KHTML, like Gecko) Chrome/70.0.3538.77 Safari/537.36'}\n",
    "def get_full_text(url):\n",
    "    try:\n",
    "        req = Request(url,headers=header)\n",
    "        news_article = BeautifulSoup(urlopen(req), features=\"html.parser\").get_text() #non-english\n",
    "#         news_article = BeautifulSoup(urlopen(req), features=\"html.parser\", from_encoding=\"iso-8859-1\").get_text() #english\n",
    "    except:\n",
    "        news_article = 'N/A'\n",
    "    return news_article"
   ]
  },
  {
   "cell_type": "code",
   "execution_count": 22,
   "metadata": {},
   "outputs": [],
   "source": [
    "def process_data(news_subset):\n",
    "    news_subset[\"text\"] = news_subset[\"SOURCEURL\"].apply(get_full_text)\n",
    "    news_subset[\"text\"]  = news_subset[\"text\"].apply(lambda x: str(x).encode(\"utf-8\", errors=\"ignore\").decode(\"utf-8\", errors=\"ignore\")) #ignore surrogate character errors\n",
    "    news_subset.to_csv(\"./NONen_interim_01_05_ALL_IN_with_full_texts.csv\",\n",
    "                       mode='a', header=False)#output file already created with header"
   ]
  },
  {
   "cell_type": "code",
   "execution_count": null,
   "metadata": {},
   "outputs": [],
   "source": [
    "# split up into data chunks for large dataset\n",
    "split_size = int(news.shape[0] / 1000)\n",
    "for start in range(0, news.shape[0], split_size):\n",
    "    news_subset = news.iloc[start:start + split_size]\n",
    "    process_data(news_subset)"
   ]
  },
  {
   "cell_type": "code",
   "execution_count": 23,
   "metadata": {},
   "outputs": [
    {
     "name": "stderr",
     "output_type": "stream",
     "text": [
      "/Users/seyi/miniconda3/lib/python3.7/site-packages/IPython/core/interactiveshell.py:3063: DtypeWarning: Columns (24) have mixed types.Specify dtype option on import or set low_memory=False.\n",
      "  interactivity=interactivity, compiler=compiler, result=result)\n"
     ]
    }
   ],
   "source": [
    "news_df = pd.read_csv(\"./NONen_interim_01_05_ALL_IN_with_full_texts.csv\", encoding='utf-8')"
   ]
  },
  {
   "cell_type": "code",
   "execution_count": 24,
   "metadata": {},
   "outputs": [
    {
     "data": {
      "text/plain": [
       "Index(['Unnamed: 0', 'index', 'GLOBALEVENTID', 'SQLDATE', 'MonthYear', 'Year',\n",
       "       'FractionDate', 'Actor1Code', 'Actor1Name', 'Actor1CountryCode',\n",
       "       'Actor1KnownGroupCode', 'Actor1EthnicCode', 'Actor1Religion1Code',\n",
       "       'Actor1Religion2Code', 'Actor1Type1Code', 'Actor1Type2Code',\n",
       "       'Actor1Type3Code', 'Actor2Code', 'Actor2Name', 'Actor2CountryCode',\n",
       "       'Actor2KnownGroupCode', 'Actor2EthnicCode', 'Actor2Religion1Code',\n",
       "       'Actor2Religion2Code', 'Actor2Type1Code', 'Actor2Type2Code',\n",
       "       'Actor2Type3Code', 'IsRootEvent', 'EventCode', 'CAMEOCodeDescription',\n",
       "       'EventBaseCode', 'EventRootCode', 'QuadClass', 'GoldsteinScale',\n",
       "       'NumMentions', 'NumSources', 'NumArticles', 'AvgTone', 'Actor1Geo_Type',\n",
       "       'Actor1Geo_FullName', 'Actor1Geo_CountryCode', 'Actor1Geo_ADM1Code',\n",
       "       'Actor1Geo_ADM2Code', 'Actor1Geo_Lat', 'Actor1Geo_Long',\n",
       "       'Actor1Geo_FeatureID', 'Actor2Geo_Type', 'Actor2Geo_FullName',\n",
       "       'Actor2Geo_CountryCode', 'Actor2Geo_ADM1Code', 'Actor2Geo_ADM2Code',\n",
       "       'Actor2Geo_Lat', 'Actor2Geo_Long', 'Actor2Geo_FeatureID',\n",
       "       'ActionGeo_Type', 'ActionGeo_FullName', 'ActionGeo_CountryCode',\n",
       "       'ActionGeo_ADM1Code', 'ActionGeo_ADM2Code', 'ActionGeo_Lat',\n",
       "       'ActionGeo_Long', 'ActionGeo_FeatureID', 'DATEADDED', 'SOURCEURL',\n",
       "       'title', 'text'],\n",
       "      dtype='object')"
      ]
     },
     "execution_count": 24,
     "metadata": {},
     "output_type": "execute_result"
    }
   ],
   "source": [
    "news_df.columns"
   ]
  },
  {
   "cell_type": "code",
   "execution_count": 25,
   "metadata": {},
   "outputs": [
    {
     "data": {
      "text/plain": [
       "Unnamed: 0             0\n",
       "index                  0\n",
       "GLOBALEVENTID          0\n",
       "SQLDATE                0\n",
       "MonthYear              0\n",
       "                      ..\n",
       "ActionGeo_FeatureID    0\n",
       "DATEADDED              0\n",
       "SOURCEURL              0\n",
       "title                  0\n",
       "text                   0\n",
       "Length: 66, dtype: int64"
      ]
     },
     "execution_count": 25,
     "metadata": {},
     "output_type": "execute_result"
    }
   ],
   "source": [
    "news_df[news_df['text'] == 'N/A'].count()"
   ]
  },
  {
   "cell_type": "code",
   "execution_count": null,
   "metadata": {},
   "outputs": [],
   "source": []
  }
 ],
 "metadata": {
  "kernelspec": {
   "display_name": "Python 3",
   "language": "python",
   "name": "python3"
  },
  "language_info": {
   "codemirror_mode": {
    "name": "ipython",
    "version": 3
   },
   "file_extension": ".py",
   "mimetype": "text/x-python",
   "name": "python",
   "nbconvert_exporter": "python",
   "pygments_lexer": "ipython3",
   "version": "3.7.6"
  }
 },
 "nbformat": 4,
 "nbformat_minor": 4
}
