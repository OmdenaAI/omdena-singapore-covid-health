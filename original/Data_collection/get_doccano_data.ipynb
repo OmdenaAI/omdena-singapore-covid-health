{
  "nbformat": 4,
  "nbformat_minor": 0,
  "metadata": {
    "colab": {
      "name": "get_doccano_data.ipynb",
      "provenance": [],
      "collapsed_sections": []
    },
    "kernelspec": {
      "name": "python3",
      "display_name": "Python 3"
    }
  },
  "cells": [
    {
      "cell_type": "code",
      "metadata": {
        "id": "QAb6JNOKoDpM",
        "colab_type": "code",
        "colab": {}
      },
      "source": [
        "import matplotlib.pyplot as plt\n",
        "import pandas as pd\n",
        "import numpy as np\n",
        "import csv\n",
        "import string\n",
        "import re\n",
        "\n",
        "from tqdm import tqdm"
      ],
      "execution_count": 0,
      "outputs": []
    },
    {
      "cell_type": "code",
      "metadata": {
        "id": "-138HEXcoSQp",
        "colab_type": "code",
        "colab": {}
      },
      "source": [
        "import json\n",
        "from pandas.io.json import json_normalize"
      ],
      "execution_count": 0,
      "outputs": []
    },
    {
      "cell_type": "code",
      "metadata": {
        "id": "utysgSfDofew",
        "colab_type": "code",
        "colab": {}
      },
      "source": [
        "def mapping_label(x):\n",
        "      return lab['label'][x]"
      ],
      "execution_count": 0,
      "outputs": []
    },
    {
      "cell_type": "code",
      "metadata": {
        "id": "tp9qSCWjohsq",
        "colab_type": "code",
        "colab": {}
      },
      "source": [
        "def get_labels_df(my_json, lbls):\n",
        "    data = []\n",
        "    for line in open(my_json, 'r',errors='ignore'):\n",
        "        data.append(json.loads(line))\n",
        "    usr_list=[]\n",
        "    for i in range(len(data)):\n",
        "        for j in data[i]['annotations']:\n",
        "            usr_list.append(j['user'])\n",
        "    \n",
        "    usr_dict = {}\n",
        "    for i in set(usr_list):\n",
        "        usr_dict[i]=[]\n",
        "    \n",
        "    for i in range(len(data)):\n",
        "        for k,v in usr_dict.items():\n",
        "            usr_dict[k] = []\n",
        "            for j in range(len(data[i]['annotations'])):\n",
        "                if data[i]['annotations'][j]['user']==k:\n",
        "                    usr_dict[k].append(data[i]['annotations'][j]['label'])\n",
        "                data[i][k]=usr_dict[k]\n",
        "    labels=lbls\n",
        "    lab = pd.read_csv(labels)\n",
        "    lab = lab.to_dict()\n",
        "    lab_dict = dict(zip([lab['number'][j] for j in lab['number']], [lab['label'][j] for j in lab['label']]))\n",
        "    for k,v in usr_dict.items():\n",
        "        for i in range(len(data)):\n",
        "            try:\n",
        "                data[i][k]= [ lab_dict.get(item,item) for item in data[i][k]]\n",
        "            except:\n",
        "                pass\n",
        "    df = pd.DataFrame.from_dict(data)\n",
        "    unique_users = list(set(usr_list))\n",
        "    df['lab_final'] = [[]] * len(df)\n",
        "    for user in unique_users:\n",
        "        for i in range(len(df)):\n",
        "            if df[user][i]:\n",
        "                df['lab_final'][i] = df[user][i]  \n",
        "    df= df[df['lab_final'].str.len() != 0]\n",
        "    df= df[df['lab_final']==df['lab_final']] \n",
        "    #-------------------------------------------\n",
        "    print(list(usr_dict.keys()))\n",
        "    df.drop(list(usr_dict.keys()), axis = 1, inplace=True)\n",
        "    #-------------------------------------------  \n",
        "    print(df.shape)\n",
        "    return df"
      ],
      "execution_count": 0,
      "outputs": []
    },
    {
      "cell_type": "code",
      "metadata": {
        "id": "SLvYVew063hD",
        "colab_type": "code",
        "colab": {}
      },
      "source": [
        "def perc_approved(df):\n",
        "  print('Labels distribution')\n",
        "  print(df.lab_final.apply(tuple).value_counts())\n",
        "  print(\"\\\\------------------------------------\")\n",
        "  print('Percentage approved and percentage left:')\n",
        "  print(\"Total rows:\",df.shape[0])\n",
        "  print(\"ISNULL, i.e Unlabeled \",df['lab_final'].isnull().sum())\n",
        "  print(\"ISNULL, i.e. Not Approved \",df.annotation_approver.isnull().sum())\n",
        "  approvers = list(set(df.annotation_approver))\n",
        "  for name in approvers:\n",
        "    if name != None:\n",
        "        print(name,df[df.annotation_approver == name].shape[0])"
      ],
      "execution_count": 0,
      "outputs": []
    },
    {
      "cell_type": "markdown",
      "metadata": {
        "id": "vgQFAocMNgD1",
        "colab_type": "text"
      },
      "source": [
        "## main_df\n",
        "This is the parent file which contains all the features and from which the text was fed into doccano. <br />\n",
        "It is used for joining/merging with extracted doccano files"
      ]
    },
    {
      "cell_type": "code",
      "metadata": {
        "id": "PuPOQa_NmF02",
        "colab_type": "code",
        "colab": {}
      },
      "source": [
        "main_df = pd.read_csv('sexual_violence_twitter-filtered.csv', keep_default_na=False)"
      ],
      "execution_count": 0,
      "outputs": []
    },
    {
      "cell_type": "code",
      "metadata": {
        "id": "D92iPL2dUckE",
        "colab_type": "code",
        "colab": {}
      },
      "source": [
        "main_df = pd.read_csv('DV_tweets_1500.csv', keep_default_na=False)"
      ],
      "execution_count": 0,
      "outputs": []
    },
    {
      "cell_type": "code",
      "metadata": {
        "id": "JKu7Z2-Gu39x",
        "colab_type": "code",
        "colab": {}
      },
      "source": [
        "main_df = pd.read_csv('India_English_Words_Filtered.csv', keep_default_na=False)"
      ],
      "execution_count": 0,
      "outputs": []
    },
    {
      "cell_type": "code",
      "metadata": {
        "id": "suqEn8K0W6_U",
        "colab_type": "code",
        "colab": {}
      },
      "source": [
        "main_df = pd.read_csv('twitterDataEnglish.csv', keep_default_na=False)"
      ],
      "execution_count": 0,
      "outputs": []
    },
    {
      "cell_type": "code",
      "metadata": {
        "id": "7XFmi82Ahxb8",
        "colab_type": "code",
        "colab": {
          "base_uri": "https://localhost:8080/",
          "height": 35
        },
        "outputId": "8f74a8ba-b45b-4870-a864-e30302cbb524"
      },
      "source": [
        "main_df.shape"
      ],
      "execution_count": 11,
      "outputs": [
        {
          "output_type": "execute_result",
          "data": {
            "text/plain": [
              "(3070, 20)"
            ]
          },
          "metadata": {
            "tags": []
          },
          "execution_count": 11
        }
      ]
    },
    {
      "cell_type": "code",
      "metadata": {
        "id": "ME71pMnrUvxw",
        "colab_type": "code",
        "outputId": "480234fd-51b3-4c23-a378-6f387fac3347",
        "colab": {
          "base_uri": "https://localhost:8080/",
          "height": 403
        }
      },
      "source": [
        "main_df.head(2)"
      ],
      "execution_count": 12,
      "outputs": [
        {
          "output_type": "execute_result",
          "data": {
            "text/html": [
              "<div>\n",
              "<style scoped>\n",
              "    .dataframe tbody tr th:only-of-type {\n",
              "        vertical-align: middle;\n",
              "    }\n",
              "\n",
              "    .dataframe tbody tr th {\n",
              "        vertical-align: top;\n",
              "    }\n",
              "\n",
              "    .dataframe thead th {\n",
              "        text-align: right;\n",
              "    }\n",
              "</style>\n",
              "<table border=\"1\" class=\"dataframe\">\n",
              "  <thead>\n",
              "    <tr style=\"text-align: right;\">\n",
              "      <th></th>\n",
              "      <th>Unnamed: 0</th>\n",
              "      <th>username</th>\n",
              "      <th>to</th>\n",
              "      <th>text</th>\n",
              "      <th>retweets</th>\n",
              "      <th>favorites</th>\n",
              "      <th>replies</th>\n",
              "      <th>id</th>\n",
              "      <th>permalink</th>\n",
              "      <th>author_id</th>\n",
              "      <th>date</th>\n",
              "      <th>formatted_date</th>\n",
              "      <th>hashtags</th>\n",
              "      <th>mentions</th>\n",
              "      <th>geo</th>\n",
              "      <th>urls</th>\n",
              "      <th>user_location</th>\n",
              "      <th>month</th>\n",
              "      <th>processed_text</th>\n",
              "      <th>label</th>\n",
              "    </tr>\n",
              "  </thead>\n",
              "  <tbody>\n",
              "    <tr>\n",
              "      <th>0</th>\n",
              "      <td>0</td>\n",
              "      <td>VipinHeartsTay</td>\n",
              "      <td></td>\n",
              "      <td>The fact their might be so many marital rape a...</td>\n",
              "      <td>0</td>\n",
              "      <td>10</td>\n",
              "      <td>1</td>\n",
              "      <td>1255927001006903297</td>\n",
              "      <td>https://twitter.com/VipinHeartsTay/status/1255...</td>\n",
              "      <td>2875165356</td>\n",
              "      <td>2020-04-30 18:28:25+00:00</td>\n",
              "      <td>Thu Apr 30 18:28:25 +0000 2020</td>\n",
              "      <td></td>\n",
              "      <td></td>\n",
              "      <td></td>\n",
              "      <td></td>\n",
              "      <td>India</td>\n",
              "      <td>4</td>\n",
              "      <td>fact might many marital rape sexual assault wi...</td>\n",
              "      <td>DV</td>\n",
              "    </tr>\n",
              "    <tr>\n",
              "      <th>1</th>\n",
              "      <td>1</td>\n",
              "      <td>TheGhoudi</td>\n",
              "      <td></td>\n",
              "      <td>‘If the child has been through sexual abuse, a...</td>\n",
              "      <td>2</td>\n",
              "      <td>3</td>\n",
              "      <td>1</td>\n",
              "      <td>1255805741769715712</td>\n",
              "      <td>https://twitter.com/TheGhoudi/status/125580574...</td>\n",
              "      <td>822838819359690754</td>\n",
              "      <td>2020-04-30 10:26:35+00:00</td>\n",
              "      <td>Thu Apr 30 10:26:35 +0000 2020</td>\n",
              "      <td></td>\n",
              "      <td>@TanujaSodhi</td>\n",
              "      <td></td>\n",
              "      <td></td>\n",
              "      <td>Mumbai, India</td>\n",
              "      <td>4</td>\n",
              "      <td>‘if child sexual abuse, adults/parents give ch...</td>\n",
              "      <td>DV</td>\n",
              "    </tr>\n",
              "  </tbody>\n",
              "</table>\n",
              "</div>"
            ],
            "text/plain": [
              "   Unnamed: 0  ... label\n",
              "0           0  ...    DV\n",
              "1           1  ...    DV\n",
              "\n",
              "[2 rows x 20 columns]"
            ]
          },
          "metadata": {
            "tags": []
          },
          "execution_count": 12
        }
      ]
    },
    {
      "cell_type": "code",
      "metadata": {
        "id": "dLnRu0yov2YS",
        "colab_type": "code",
        "outputId": "c772e482-81bb-4c12-e2bd-982b41dcb4b1",
        "colab": {
          "base_uri": "https://localhost:8080/",
          "height": 35
        }
      },
      "source": [
        "main_df.duplicated(['text']).any()"
      ],
      "execution_count": 13,
      "outputs": [
        {
          "output_type": "execute_result",
          "data": {
            "text/plain": [
              "False"
            ]
          },
          "metadata": {
            "tags": []
          },
          "execution_count": 13
        }
      ]
    },
    {
      "cell_type": "code",
      "metadata": {
        "id": "pMQS0I43XJDK",
        "colab_type": "code",
        "colab": {}
      },
      "source": [
        "#tweets = main_df['text']\n",
        "#main_df[tweets.isin(tweets[tweets.duplicated()])]"
      ],
      "execution_count": 0,
      "outputs": []
    },
    {
      "cell_type": "code",
      "metadata": {
        "id": "GuMCzG5xXYG_",
        "colab_type": "code",
        "colab": {}
      },
      "source": [
        "#main_df.drop_duplicates(subset='text',inplace = True)"
      ],
      "execution_count": 0,
      "outputs": []
    },
    {
      "cell_type": "markdown",
      "metadata": {
        "id": "2uaTdLbUqcEf",
        "colab_type": "text"
      },
      "source": [
        "## Get dataframe from downloaded doccano json file"
      ]
    },
    {
      "cell_type": "markdown",
      "metadata": {
        "id": "TDYJlNBDoJ_z",
        "colab_type": "text"
      },
      "source": [
        "### dvclasses project 14 file"
      ]
    },
    {
      "cell_type": "code",
      "metadata": {
        "id": "vkb-KuyjizdQ",
        "colab_type": "code",
        "colab": {}
      },
      "source": [
        "my_json=\"dvclasses_proj_14.json\"\n",
        "lbls='dvclassesLabels.csv'"
      ],
      "execution_count": 0,
      "outputs": []
    },
    {
      "cell_type": "code",
      "metadata": {
        "id": "8HhFg56yi4Lk",
        "colab_type": "code",
        "outputId": "b71f71aa-095f-423b-d490-0aa00d922090",
        "colab": {
          "base_uri": "https://localhost:8080/",
          "height": 127
        }
      },
      "source": [
        "df = get_labels_df(my_json,lbls)"
      ],
      "execution_count": 0,
      "outputs": [
        {
          "output_type": "stream",
          "text": [
            "(353, 13)\n"
          ],
          "name": "stdout"
        },
        {
          "output_type": "stream",
          "text": [
            "/usr/local/lib/python3.6/dist-packages/ipykernel_launcher.py:37: SettingWithCopyWarning: \n",
            "A value is trying to be set on a copy of a slice from a DataFrame\n",
            "\n",
            "See the caveats in the documentation: https://pandas.pydata.org/pandas-docs/stable/user_guide/indexing.html#returning-a-view-versus-a-copy\n"
          ],
          "name": "stderr"
        }
      ]
    },
    {
      "cell_type": "code",
      "metadata": {
        "id": "pj76mYNPkcpJ",
        "colab_type": "code",
        "colab": {}
      },
      "source": [
        "df.lab_final = df[35]"
      ],
      "execution_count": 0,
      "outputs": []
    },
    {
      "cell_type": "code",
      "metadata": {
        "id": "ojes3Hu7i-_1",
        "colab_type": "code",
        "outputId": "a28d5084-3bf6-430a-fc57-ecadcfbcdba0",
        "colab": {
          "base_uri": "https://localhost:8080/",
          "height": 305
        }
      },
      "source": [
        "perc_approved(df)"
      ],
      "execution_count": 0,
      "outputs": [
        {
          "output_type": "stream",
          "text": [
            "Labels distribution\n",
            "(NON-D_VIOLENCE_ABOUT,)       127\n",
            "(NO_VIOLENCE,)                 91\n",
            "(DV_OPINION_ADVOCATE,)         69\n",
            "()                             21\n",
            "(DV_STORY,)                    17\n",
            "(DV_OPINIO _DENY,)             11\n",
            "(DV_OPINION_INFO_NEWS,)         9\n",
            "(NON_D_VIOLENCE_DIRECTED,)      8\n",
            "Name: lab_final, dtype: int64\n",
            "\\------------------------------------\n",
            "Percentage approved and percentage left:\n",
            "Total rows: 353\n",
            "ISNULL, i.e Unlabeled  0\n",
            "ISNULL, i.e. Not Approved  344\n",
            "anel 9\n"
          ],
          "name": "stdout"
        }
      ]
    },
    {
      "cell_type": "code",
      "metadata": {
        "id": "V75WWbt0kW2i",
        "colab_type": "code",
        "outputId": "5d3040f1-687d-47d9-e018-a2b55f2deb27",
        "colab": {
          "base_uri": "https://localhost:8080/",
          "height": 185
        }
      },
      "source": [
        "df.head(1)"
      ],
      "execution_count": 0,
      "outputs": [
        {
          "output_type": "execute_result",
          "data": {
            "text/html": [
              "<div>\n",
              "<style scoped>\n",
              "    .dataframe tbody tr th:only-of-type {\n",
              "        vertical-align: middle;\n",
              "    }\n",
              "\n",
              "    .dataframe tbody tr th {\n",
              "        vertical-align: top;\n",
              "    }\n",
              "\n",
              "    .dataframe thead th {\n",
              "        text-align: right;\n",
              "    }\n",
              "</style>\n",
              "<table border=\"1\" class=\"dataframe\">\n",
              "  <thead>\n",
              "    <tr style=\"text-align: right;\">\n",
              "      <th></th>\n",
              "      <th>id</th>\n",
              "      <th>text</th>\n",
              "      <th>annotations</th>\n",
              "      <th>meta</th>\n",
              "      <th>annotation_approver</th>\n",
              "      <th>33</th>\n",
              "      <th>34</th>\n",
              "      <th>35</th>\n",
              "      <th>40</th>\n",
              "      <th>41</th>\n",
              "      <th>26</th>\n",
              "      <th>27</th>\n",
              "      <th>lab_final</th>\n",
              "    </tr>\n",
              "  </thead>\n",
              "  <tbody>\n",
              "    <tr>\n",
              "      <th>0</th>\n",
              "      <td>11316</td>\n",
              "      <td>A university lecturer in Korat has been charge...</td>\n",
              "      <td>[{'label': 75, 'user': 33}, {'label': 75, 'use...</td>\n",
              "      <td>{}</td>\n",
              "      <td>anel</td>\n",
              "      <td>[DV_OPINION_INFO_NEWS]</td>\n",
              "      <td>[DV_OPINION_INFO_NEWS]</td>\n",
              "      <td>[DV_OPINION_INFO_NEWS]</td>\n",
              "      <td>[DV_OPINION_INFO_NEWS]</td>\n",
              "      <td>[DV_STORY]</td>\n",
              "      <td>[]</td>\n",
              "      <td>[]</td>\n",
              "      <td>[DV_OPINION_INFO_NEWS]</td>\n",
              "    </tr>\n",
              "  </tbody>\n",
              "</table>\n",
              "</div>"
            ],
            "text/plain": [
              "      id  ...               lab_final\n",
              "0  11316  ...  [DV_OPINION_INFO_NEWS]\n",
              "\n",
              "[1 rows x 13 columns]"
            ]
          },
          "metadata": {
            "tags": []
          },
          "execution_count": 194
        }
      ]
    },
    {
      "cell_type": "code",
      "metadata": {
        "id": "c5vfcwPZmmxC",
        "colab_type": "code",
        "colab": {}
      },
      "source": [
        "df.drop(['meta',33,34,35,40,41,26,27], axis = 1, inplace=True) "
      ],
      "execution_count": 0,
      "outputs": []
    },
    {
      "cell_type": "code",
      "metadata": {
        "id": "yphUAkVhoZsX",
        "colab_type": "code",
        "outputId": "acd3ef56-c91b-411d-95da-1c5c21ce032d",
        "colab": {
          "base_uri": "https://localhost:8080/",
          "height": 35
        }
      },
      "source": [
        "df.shape"
      ],
      "execution_count": 0,
      "outputs": [
        {
          "output_type": "execute_result",
          "data": {
            "text/plain": [
              "(353, 5)"
            ]
          },
          "metadata": {
            "tags": []
          },
          "execution_count": 196
        }
      ]
    },
    {
      "cell_type": "markdown",
      "metadata": {
        "id": "Cf2ng22HO2sJ",
        "colab_type": "text"
      },
      "source": [
        "Converting **lab_final** from list type column to text"
      ]
    },
    {
      "cell_type": "code",
      "metadata": {
        "id": "sxRTHh4csVUy",
        "colab_type": "code",
        "outputId": "b5ebbe15-33ee-4bbd-8fad-484998a3b02d",
        "colab": {
          "base_uri": "https://localhost:8080/",
          "height": 35
        }
      },
      "source": [
        "df.lab_final[5][0]"
      ],
      "execution_count": 0,
      "outputs": [
        {
          "output_type": "execute_result",
          "data": {
            "text/plain": [
              "'NO_VIOLENCE'"
            ]
          },
          "metadata": {
            "tags": []
          },
          "execution_count": 197
        }
      ]
    },
    {
      "cell_type": "code",
      "metadata": {
        "id": "gpm1E9vWshAk",
        "colab_type": "code",
        "colab": {}
      },
      "source": [
        "df['lab_final'] = df['lab_final'].apply(lambda x: ','.join(map(str, x)))"
      ],
      "execution_count": 0,
      "outputs": []
    },
    {
      "cell_type": "code",
      "metadata": {
        "id": "LtTs4cFgwY17",
        "colab_type": "code",
        "outputId": "34f452ec-27c5-468e-ccae-94ea3f19be54",
        "colab": {
          "base_uri": "https://localhost:8080/",
          "height": 35
        }
      },
      "source": [
        "df.duplicated(['text']).any()"
      ],
      "execution_count": 0,
      "outputs": [
        {
          "output_type": "execute_result",
          "data": {
            "text/plain": [
              "True"
            ]
          },
          "metadata": {
            "tags": []
          },
          "execution_count": 199
        }
      ]
    },
    {
      "cell_type": "code",
      "metadata": {
        "id": "9eNyw-oLxEXe",
        "colab_type": "code",
        "outputId": "73c91fb9-5259-41ec-d522-56ccffb201a3",
        "colab": {
          "base_uri": "https://localhost:8080/",
          "height": 145
        }
      },
      "source": [
        "tweets = df['text']\n",
        "df[tweets.isin(tweets[tweets.duplicated()])]"
      ],
      "execution_count": 0,
      "outputs": [
        {
          "output_type": "execute_result",
          "data": {
            "text/html": [
              "<div>\n",
              "<style scoped>\n",
              "    .dataframe tbody tr th:only-of-type {\n",
              "        vertical-align: middle;\n",
              "    }\n",
              "\n",
              "    .dataframe tbody tr th {\n",
              "        vertical-align: top;\n",
              "    }\n",
              "\n",
              "    .dataframe thead th {\n",
              "        text-align: right;\n",
              "    }\n",
              "</style>\n",
              "<table border=\"1\" class=\"dataframe\">\n",
              "  <thead>\n",
              "    <tr style=\"text-align: right;\">\n",
              "      <th></th>\n",
              "      <th>id</th>\n",
              "      <th>text</th>\n",
              "      <th>annotations</th>\n",
              "      <th>annotation_approver</th>\n",
              "      <th>lab_final</th>\n",
              "    </tr>\n",
              "  </thead>\n",
              "  <tbody>\n",
              "    <tr>\n",
              "      <th>184</th>\n",
              "      <td>11361</td>\n",
              "      <td>Coronavirus: Jobless man, pregnant wife forced...</td>\n",
              "      <td>[{'label': 75, 'user': 40}, {'label': 75, 'use...</td>\n",
              "      <td>None</td>\n",
              "      <td>NON-D_VIOLENCE_ABOUT</td>\n",
              "    </tr>\n",
              "    <tr>\n",
              "      <th>185</th>\n",
              "      <td>11362</td>\n",
              "      <td>Coronavirus: Jobless man, pregnant wife forced...</td>\n",
              "      <td>[{'label': 71, 'user': 34}, {'label': 75, 'use...</td>\n",
              "      <td>None</td>\n",
              "      <td>NON-D_VIOLENCE_ABOUT</td>\n",
              "    </tr>\n",
              "  </tbody>\n",
              "</table>\n",
              "</div>"
            ],
            "text/plain": [
              "        id  ...             lab_final\n",
              "184  11361  ...  NON-D_VIOLENCE_ABOUT\n",
              "185  11362  ...  NON-D_VIOLENCE_ABOUT\n",
              "\n",
              "[2 rows x 5 columns]"
            ]
          },
          "metadata": {
            "tags": []
          },
          "execution_count": 202
        }
      ]
    },
    {
      "cell_type": "code",
      "metadata": {
        "id": "73op9z7bxWXH",
        "colab_type": "code",
        "outputId": "88778d1f-7224-497d-a3ea-359215f06d5b",
        "colab": {
          "base_uri": "https://localhost:8080/",
          "height": 127
        }
      },
      "source": [
        "df.lab_final.iloc[184] = 'NON-D_VIOLENCE_ABOUT'"
      ],
      "execution_count": 0,
      "outputs": [
        {
          "output_type": "stream",
          "text": [
            "/usr/local/lib/python3.6/dist-packages/pandas/core/indexing.py:671: SettingWithCopyWarning: \n",
            "A value is trying to be set on a copy of a slice from a DataFrame\n",
            "\n",
            "See the caveats in the documentation: https://pandas.pydata.org/pandas-docs/stable/user_guide/indexing.html#returning-a-view-versus-a-copy\n",
            "  self._setitem_with_indexer(indexer, value)\n"
          ],
          "name": "stderr"
        }
      ]
    },
    {
      "cell_type": "markdown",
      "metadata": {
        "id": "hVnBAIouOEAg",
        "colab_type": "text"
      },
      "source": [
        "**Inner join / Merge**"
      ]
    },
    {
      "cell_type": "markdown",
      "metadata": {
        "id": "U9uGsLydQ-5t",
        "colab_type": "text"
      },
      "source": [
        "First checking how many common entries there are in both the dfs, through looping, because inner join gave very few results"
      ]
    },
    {
      "cell_type": "code",
      "metadata": {
        "id": "SkjLMQ-YUiHw",
        "colab_type": "code",
        "colab": {}
      },
      "source": [
        "df['text'] = df['text'].str.lower()\n",
        "main_df['text'] = main_df['text'].str.lower()"
      ],
      "execution_count": 0,
      "outputs": []
    },
    {
      "cell_type": "code",
      "metadata": {
        "id": "0IegIed0ROkQ",
        "colab_type": "code",
        "outputId": "4370bc87-4637-46b3-a531-891cd3fd61a3",
        "colab": {
          "base_uri": "https://localhost:8080/",
          "height": 35
        }
      },
      "source": [
        "#count = 0\n",
        "#for row in range(len(main_df)):\n",
        "#  for r in range(len(df)):\n",
        "#    if main_df.iloc[row].text == df.iloc[r].text:\n",
        "#      count+=1\n",
        "#print(count)"
      ],
      "execution_count": 0,
      "outputs": [
        {
          "output_type": "stream",
          "text": [
            "30\n"
          ],
          "name": "stdout"
        }
      ]
    },
    {
      "cell_type": "markdown",
      "metadata": {
        "id": "xoZ0d4PAgMAs",
        "colab_type": "text"
      },
      "source": [
        "**Merge**"
      ]
    },
    {
      "cell_type": "code",
      "metadata": {
        "id": "8JWkoeFQlxgl",
        "colab_type": "code",
        "colab": {}
      },
      "source": [
        "data_dvclasses = pd.merge(main_df, df, on='text', how='inner')"
      ],
      "execution_count": 0,
      "outputs": []
    },
    {
      "cell_type": "code",
      "metadata": {
        "id": "J5nrOEt2l1or",
        "colab_type": "code",
        "outputId": "033f0820-4f9a-4953-8e0e-7e93a4fddcda",
        "colab": {
          "base_uri": "https://localhost:8080/",
          "height": 35
        }
      },
      "source": [
        "data_dvclasses.shape"
      ],
      "execution_count": 0,
      "outputs": [
        {
          "output_type": "execute_result",
          "data": {
            "text/plain": [
              "(30, 17)"
            ]
          },
          "metadata": {
            "tags": []
          },
          "execution_count": 206
        }
      ]
    },
    {
      "cell_type": "markdown",
      "metadata": {
        "id": "7qRJvuygO_ut",
        "colab_type": "text"
      },
      "source": [
        "Saving as csv"
      ]
    },
    {
      "cell_type": "code",
      "metadata": {
        "id": "6tE7c9y_so60",
        "colab_type": "code",
        "colab": {}
      },
      "source": [
        "df.to_csv('data_dvclasses.csv', index=False)"
      ],
      "execution_count": 0,
      "outputs": []
    },
    {
      "cell_type": "markdown",
      "metadata": {
        "id": "jlhfD6K-r8pX",
        "colab_type": "text"
      },
      "source": [
        "# data1.json"
      ]
    },
    {
      "cell_type": "code",
      "metadata": {
        "id": "U2Baqzj6olML",
        "colab_type": "code",
        "colab": {}
      },
      "source": [
        "my_json=\"data1.json\"\n",
        "lbls='dvtweetsLabels.csv'"
      ],
      "execution_count": 0,
      "outputs": []
    },
    {
      "cell_type": "code",
      "metadata": {
        "id": "lOdwltMSowYv",
        "colab_type": "code",
        "outputId": "8d7ecd13-4e51-421c-bff7-f0627dbf10f6",
        "colab": {
          "base_uri": "https://localhost:8080/",
          "height": 127
        }
      },
      "source": [
        "df = get_labels_df(my_json,lbls)"
      ],
      "execution_count": 0,
      "outputs": [
        {
          "output_type": "stream",
          "text": [
            "(300, 6)\n"
          ],
          "name": "stdout"
        },
        {
          "output_type": "stream",
          "text": [
            "/usr/local/lib/python3.6/dist-packages/ipykernel_launcher.py:37: SettingWithCopyWarning: \n",
            "A value is trying to be set on a copy of a slice from a DataFrame\n",
            "\n",
            "See the caveats in the documentation: https://pandas.pydata.org/pandas-docs/stable/user_guide/indexing.html#returning-a-view-versus-a-copy\n"
          ],
          "name": "stderr"
        }
      ]
    },
    {
      "cell_type": "code",
      "metadata": {
        "id": "iKOjfBY9pH2B",
        "colab_type": "code",
        "outputId": "23e6949d-6eb4-4a4c-8e87-9501dac4a51d",
        "colab": {
          "base_uri": "https://localhost:8080/",
          "height": 145
        }
      },
      "source": [
        "df.head(2)"
      ],
      "execution_count": 0,
      "outputs": [
        {
          "output_type": "execute_result",
          "data": {
            "text/html": [
              "<div>\n",
              "<style scoped>\n",
              "    .dataframe tbody tr th:only-of-type {\n",
              "        vertical-align: middle;\n",
              "    }\n",
              "\n",
              "    .dataframe tbody tr th {\n",
              "        vertical-align: top;\n",
              "    }\n",
              "\n",
              "    .dataframe thead th {\n",
              "        text-align: right;\n",
              "    }\n",
              "</style>\n",
              "<table border=\"1\" class=\"dataframe\">\n",
              "  <thead>\n",
              "    <tr style=\"text-align: right;\">\n",
              "      <th></th>\n",
              "      <th>id</th>\n",
              "      <th>text</th>\n",
              "      <th>annotations</th>\n",
              "      <th>annotation_approver</th>\n",
              "      <th>lab_final</th>\n",
              "    </tr>\n",
              "  </thead>\n",
              "  <tbody>\n",
              "    <tr>\n",
              "      <th>0</th>\n",
              "      <td>11316</td>\n",
              "      <td>A university lecturer in Korat has been charge...</td>\n",
              "      <td>[{'label': 75, 'user': 33}, {'label': 75, 'use...</td>\n",
              "      <td>anel</td>\n",
              "      <td>DV_OPINION_INFO_NEWS</td>\n",
              "    </tr>\n",
              "    <tr>\n",
              "      <th>1</th>\n",
              "      <td>11234</td>\n",
              "      <td>Baba with the amount they have, they can use i...</td>\n",
              "      <td>[{'label': 76, 'user': 34}, {'label': 76, 'use...</td>\n",
              "      <td>anel</td>\n",
              "      <td>DV_OPINION_ADVOCATE</td>\n",
              "    </tr>\n",
              "  </tbody>\n",
              "</table>\n",
              "</div>"
            ],
            "text/plain": [
              "      id  ...             lab_final\n",
              "0  11316  ...  DV_OPINION_INFO_NEWS\n",
              "1  11234  ...   DV_OPINION_ADVOCATE\n",
              "\n",
              "[2 rows x 5 columns]"
            ]
          },
          "metadata": {
            "tags": []
          },
          "execution_count": 42
        }
      ]
    },
    {
      "cell_type": "code",
      "metadata": {
        "id": "3ILUP7SV7ZSo",
        "colab_type": "code",
        "outputId": "e39fad0a-cbe3-4760-9789-6220b4cce860",
        "colab": {
          "base_uri": "https://localhost:8080/",
          "height": 305
        }
      },
      "source": [
        "perc_approved(df)"
      ],
      "execution_count": 0,
      "outputs": [
        {
          "output_type": "stream",
          "text": [
            "Labels distribution\n",
            "(N, O, N, -, D, _, V, I, O, L, E, N, C, E, _, A, B, O, U, T)             127\n",
            "(N, O, _, V, I, O, L, E, N, C, E)                                         91\n",
            "(D, V, _, O, P, I, N, I, O, N, _, A, D, V, O, C, A, T, E)                 69\n",
            "()                                                                        21\n",
            "(D, V, _, S, T, O, R, Y)                                                  17\n",
            "(D, V, _, O, P, I, N, I, O,  , _, D, E, N, Y)                             11\n",
            "(D, V, _, O, P, I, N, I, O, N, _, I, N, F, O, _, N, E, W, S)               9\n",
            "(N, O, N, _, D, _, V, I, O, L, E, N, C, E, _, D, I, R, E, C, T, E, D)      8\n",
            "Name: lab_final, dtype: int64\n",
            "\\------------------------------------\n",
            "Percentage approved and percentage left:\n",
            "Total rows: 353\n",
            "ISNULL, i.e Unlabeled  0\n",
            "ISNULL, i.e. Not Approved  344\n",
            "anel 9\n"
          ],
          "name": "stdout"
        }
      ]
    },
    {
      "cell_type": "markdown",
      "metadata": {
        "id": "uKdWQckdrl8N",
        "colab_type": "text"
      },
      "source": [
        "Rows left for Checking"
      ]
    },
    {
      "cell_type": "code",
      "metadata": {
        "id": "oA0Ge88jqTCH",
        "colab_type": "code",
        "colab": {}
      },
      "source": [
        "#df[df.annotation_approver.isnull()]"
      ],
      "execution_count": 0,
      "outputs": []
    },
    {
      "cell_type": "markdown",
      "metadata": {
        "id": "ZoAGLiwuObwQ",
        "colab_type": "text"
      },
      "source": [
        "**Inner join / Merge**"
      ]
    },
    {
      "cell_type": "code",
      "metadata": {
        "id": "AwiOva9MUYw_",
        "colab_type": "code",
        "colab": {}
      },
      "source": [
        "data1 = pd.merge(main_df, df, on=\"text\", how='inner')"
      ],
      "execution_count": 0,
      "outputs": []
    },
    {
      "cell_type": "code",
      "metadata": {
        "id": "1se9wdHtZF2c",
        "colab_type": "code",
        "outputId": "e55a5f27-d956-4d3e-e0d8-e908bc1676ee",
        "colab": {
          "base_uri": "https://localhost:8080/",
          "height": 35
        }
      },
      "source": [
        "data1.shape"
      ],
      "execution_count": 0,
      "outputs": [
        {
          "output_type": "execute_result",
          "data": {
            "text/plain": [
              "(251, 25)"
            ]
          },
          "metadata": {
            "tags": []
          },
          "execution_count": 535
        }
      ]
    },
    {
      "cell_type": "code",
      "metadata": {
        "id": "JypJhHH6ZD0n",
        "colab_type": "code",
        "outputId": "625c6d44-fbaa-4031-d215-ec19239ab0c8",
        "colab": {
          "base_uri": "https://localhost:8080/",
          "height": 253
        }
      },
      "source": [
        "data1.head(1)"
      ],
      "execution_count": 0,
      "outputs": [
        {
          "output_type": "execute_result",
          "data": {
            "text/html": [
              "<div>\n",
              "<style scoped>\n",
              "    .dataframe tbody tr th:only-of-type {\n",
              "        vertical-align: middle;\n",
              "    }\n",
              "\n",
              "    .dataframe tbody tr th {\n",
              "        vertical-align: top;\n",
              "    }\n",
              "\n",
              "    .dataframe thead th {\n",
              "        text-align: right;\n",
              "    }\n",
              "</style>\n",
              "<table border=\"1\" class=\"dataframe\">\n",
              "  <thead>\n",
              "    <tr style=\"text-align: right;\">\n",
              "      <th></th>\n",
              "      <th>Unnamed: 0</th>\n",
              "      <th>username</th>\n",
              "      <th>to</th>\n",
              "      <th>text</th>\n",
              "      <th>retweets</th>\n",
              "      <th>favorites</th>\n",
              "      <th>replies</th>\n",
              "      <th>id_x</th>\n",
              "      <th>permalink</th>\n",
              "      <th>author_id</th>\n",
              "      <th>date</th>\n",
              "      <th>formatted_date</th>\n",
              "      <th>hashtags</th>\n",
              "      <th>mentions</th>\n",
              "      <th>geo</th>\n",
              "      <th>urls</th>\n",
              "      <th>user_location</th>\n",
              "      <th>month</th>\n",
              "      <th>processed_text</th>\n",
              "      <th>label</th>\n",
              "      <th>id_y</th>\n",
              "      <th>annotations</th>\n",
              "      <th>meta</th>\n",
              "      <th>annotation_approver</th>\n",
              "      <th>lab_final</th>\n",
              "    </tr>\n",
              "  </thead>\n",
              "  <tbody>\n",
              "    <tr>\n",
              "      <th>0</th>\n",
              "      <td>0</td>\n",
              "      <td>VipinHeartsTay</td>\n",
              "      <td></td>\n",
              "      <td>The fact their might be so many marital rape a...</td>\n",
              "      <td>0</td>\n",
              "      <td>10</td>\n",
              "      <td>1</td>\n",
              "      <td>1255927001006903297</td>\n",
              "      <td>https://twitter.com/VipinHeartsTay/status/1255...</td>\n",
              "      <td>2875165356</td>\n",
              "      <td>2020-04-30 18:28:25+00:00</td>\n",
              "      <td>Thu Apr 30 18:28:25 +0000 2020</td>\n",
              "      <td></td>\n",
              "      <td></td>\n",
              "      <td></td>\n",
              "      <td></td>\n",
              "      <td>India</td>\n",
              "      <td>4</td>\n",
              "      <td>fact might many marital rape sexual assault wi...</td>\n",
              "      <td>DV</td>\n",
              "      <td>9213</td>\n",
              "      <td>[{'label': 24, 'user': 1}]</td>\n",
              "      <td>{}</td>\n",
              "      <td>admin</td>\n",
              "      <td>[DV_OPINION_ADVOCATE]</td>\n",
              "    </tr>\n",
              "  </tbody>\n",
              "</table>\n",
              "</div>"
            ],
            "text/plain": [
              "   Unnamed: 0        username  ... annotation_approver              lab_final\n",
              "0           0  VipinHeartsTay  ...               admin  [DV_OPINION_ADVOCATE]\n",
              "\n",
              "[1 rows x 25 columns]"
            ]
          },
          "metadata": {
            "tags": []
          },
          "execution_count": 536
        }
      ]
    },
    {
      "cell_type": "code",
      "metadata": {
        "id": "F2QL2pSreNP5",
        "colab_type": "code",
        "colab": {}
      },
      "source": [
        "data1.drop(['Unnamed: 0','id_y','meta'], axis = 1, inplace=True) "
      ],
      "execution_count": 0,
      "outputs": []
    },
    {
      "cell_type": "markdown",
      "metadata": {
        "id": "JP8V2IhPOlq-",
        "colab_type": "text"
      },
      "source": [
        "Converting **lab_final** from a list type column to text"
      ]
    },
    {
      "cell_type": "code",
      "metadata": {
        "id": "GRabRuNH6Iqv",
        "colab_type": "code",
        "outputId": "6923364f-75b0-4722-ec03-d82de5af3415",
        "colab": {
          "base_uri": "https://localhost:8080/",
          "height": 35
        }
      },
      "source": [
        "data1.lab_final[5][0]"
      ],
      "execution_count": 0,
      "outputs": [
        {
          "output_type": "execute_result",
          "data": {
            "text/plain": [
              "'N'"
            ]
          },
          "metadata": {
            "tags": []
          },
          "execution_count": 541
        }
      ]
    },
    {
      "cell_type": "code",
      "metadata": {
        "id": "Y-TDQb6nLVfv",
        "colab_type": "code",
        "colab": {}
      },
      "source": [
        "data1['lab_final'] = data1['lab_final'].apply(lambda x: ','.join(map(str, x)))"
      ],
      "execution_count": 0,
      "outputs": []
    },
    {
      "cell_type": "markdown",
      "metadata": {
        "id": "QoRgGqR0OvEj",
        "colab_type": "text"
      },
      "source": [
        "Saving csv"
      ]
    },
    {
      "cell_type": "code",
      "metadata": {
        "id": "L06pOek0s-PP",
        "colab_type": "code",
        "colab": {}
      },
      "source": [
        "data1.to_csv('data1_dvtweets.csv', index=False)"
      ],
      "execution_count": 0,
      "outputs": []
    },
    {
      "cell_type": "markdown",
      "metadata": {
        "id": "6ju-ddTeseLo",
        "colab_type": "text"
      },
      "source": [
        "# data2.json"
      ]
    },
    {
      "cell_type": "code",
      "metadata": {
        "id": "xwJ9h2uOtI8O",
        "colab_type": "code",
        "outputId": "a3eca142-018b-4353-a9ff-d63d26ab46f9",
        "colab": {
          "base_uri": "https://localhost:8080/",
          "height": 127
        }
      },
      "source": [
        "my_json=\"data2.json\"\n",
        "lbls='dvtweetsLabels.csv'\n",
        "df = get_labels_df(my_json,lbls)"
      ],
      "execution_count": 0,
      "outputs": [
        {
          "output_type": "stream",
          "text": [
            "(300, 6)\n"
          ],
          "name": "stdout"
        },
        {
          "output_type": "stream",
          "text": [
            "/usr/local/lib/python3.6/dist-packages/ipykernel_launcher.py:37: SettingWithCopyWarning: \n",
            "A value is trying to be set on a copy of a slice from a DataFrame\n",
            "\n",
            "See the caveats in the documentation: https://pandas.pydata.org/pandas-docs/stable/user_guide/indexing.html#returning-a-view-versus-a-copy\n"
          ],
          "name": "stderr"
        }
      ]
    },
    {
      "cell_type": "code",
      "metadata": {
        "id": "Pv7MyoYI8Fih",
        "colab_type": "code",
        "outputId": "ff3a218f-ba5d-4daa-96db-5edada55cc66",
        "colab": {
          "base_uri": "https://localhost:8080/",
          "height": 305
        }
      },
      "source": [
        "perc_approved(df)"
      ],
      "execution_count": 0,
      "outputs": [
        {
          "output_type": "stream",
          "text": [
            "Labels distribution\n",
            "(NON_D_VIOLENCE_ABOUT,)       157\n",
            "(NO_VIOLENCE,)                 70\n",
            "(NON_D_VIOLENCE_DIRECTED,)     49\n",
            "(DV_OPINION_ADVOCATE,)         11\n",
            "(DV_STORY,)                     7\n",
            "(DV_OPINION_NEWS_INFO,)         5\n",
            "(DV_OPINION_DENIER,)            1\n",
            "Name: lab_final, dtype: int64\n",
            "\\------------------------------------\n",
            "Percentage approved and percentage left:\n",
            "Total rows: 300\n",
            "ISNULL, i.e Unlabeled  0\n",
            "ISNULL, i.e. Not Approved  0\n",
            "tim 1\n",
            "admin 299\n"
          ],
          "name": "stdout"
        }
      ]
    },
    {
      "cell_type": "code",
      "metadata": {
        "id": "GoCU7IPbt5v8",
        "colab_type": "code",
        "outputId": "dc91a090-c68a-430a-d332-2d54bd4ea757",
        "colab": {
          "base_uri": "https://localhost:8080/",
          "height": 49
        }
      },
      "source": [
        "#df[df.annotation_approver.isnull()]"
      ],
      "execution_count": 0,
      "outputs": [
        {
          "output_type": "execute_result",
          "data": {
            "text/html": [
              "<div>\n",
              "<style scoped>\n",
              "    .dataframe tbody tr th:only-of-type {\n",
              "        vertical-align: middle;\n",
              "    }\n",
              "\n",
              "    .dataframe tbody tr th {\n",
              "        vertical-align: top;\n",
              "    }\n",
              "\n",
              "    .dataframe thead th {\n",
              "        text-align: right;\n",
              "    }\n",
              "</style>\n",
              "<table border=\"1\" class=\"dataframe\">\n",
              "  <thead>\n",
              "    <tr style=\"text-align: right;\">\n",
              "      <th></th>\n",
              "      <th>id</th>\n",
              "      <th>text</th>\n",
              "      <th>annotations</th>\n",
              "      <th>meta</th>\n",
              "      <th>annotation_approver</th>\n",
              "      <th>lab_final</th>\n",
              "    </tr>\n",
              "  </thead>\n",
              "  <tbody>\n",
              "  </tbody>\n",
              "</table>\n",
              "</div>"
            ],
            "text/plain": [
              "Empty DataFrame\n",
              "Columns: [id, text, annotations, meta, annotation_approver, lab_final]\n",
              "Index: []"
            ]
          },
          "metadata": {
            "tags": []
          },
          "execution_count": 545
        }
      ]
    },
    {
      "cell_type": "code",
      "metadata": {
        "id": "F_UFy6tciDn8",
        "colab_type": "code",
        "outputId": "0cd725af-7763-4060-df13-c05b35f503b5",
        "colab": {
          "base_uri": "https://localhost:8080/",
          "height": 35
        }
      },
      "source": [
        "data2 = pd.merge(main_df, df, on=\"text\", how='inner')\n",
        "print(data2.shape)\n",
        "data2.drop(['Unnamed: 0','id_y','meta'], axis = 1, inplace=True) "
      ],
      "execution_count": 0,
      "outputs": [
        {
          "output_type": "stream",
          "text": [
            "(246, 25)\n"
          ],
          "name": "stdout"
        }
      ]
    },
    {
      "cell_type": "code",
      "metadata": {
        "id": "uBAVZ-geianY",
        "colab_type": "code",
        "outputId": "eae1b823-5d51-40c4-a247-f7b5fcea478e",
        "colab": {
          "base_uri": "https://localhost:8080/",
          "height": 202
        }
      },
      "source": [
        "data2.head(1)"
      ],
      "execution_count": 0,
      "outputs": [
        {
          "output_type": "execute_result",
          "data": {
            "text/html": [
              "<div>\n",
              "<style scoped>\n",
              "    .dataframe tbody tr th:only-of-type {\n",
              "        vertical-align: middle;\n",
              "    }\n",
              "\n",
              "    .dataframe tbody tr th {\n",
              "        vertical-align: top;\n",
              "    }\n",
              "\n",
              "    .dataframe thead th {\n",
              "        text-align: right;\n",
              "    }\n",
              "</style>\n",
              "<table border=\"1\" class=\"dataframe\">\n",
              "  <thead>\n",
              "    <tr style=\"text-align: right;\">\n",
              "      <th></th>\n",
              "      <th>username</th>\n",
              "      <th>to</th>\n",
              "      <th>text</th>\n",
              "      <th>retweets</th>\n",
              "      <th>favorites</th>\n",
              "      <th>replies</th>\n",
              "      <th>id_x</th>\n",
              "      <th>permalink</th>\n",
              "      <th>author_id</th>\n",
              "      <th>date</th>\n",
              "      <th>formatted_date</th>\n",
              "      <th>hashtags</th>\n",
              "      <th>mentions</th>\n",
              "      <th>geo</th>\n",
              "      <th>urls</th>\n",
              "      <th>user_location</th>\n",
              "      <th>month</th>\n",
              "      <th>processed_text</th>\n",
              "      <th>label</th>\n",
              "      <th>annotations</th>\n",
              "      <th>annotation_approver</th>\n",
              "      <th>lab_final</th>\n",
              "    </tr>\n",
              "  </thead>\n",
              "  <tbody>\n",
              "    <tr>\n",
              "      <th>0</th>\n",
              "      <td>incrediblerer</td>\n",
              "      <td></td>\n",
              "      <td>SAY NO TO SEXUAL VIOLENCE Please punish perpet...</td>\n",
              "      <td>0</td>\n",
              "      <td>0</td>\n",
              "      <td>0</td>\n",
              "      <td>1242503166811189249</td>\n",
              "      <td>https://twitter.com/incrediblerer/status/12425...</td>\n",
              "      <td>894800077142728704</td>\n",
              "      <td>2020-03-24 17:26:54+00:00</td>\n",
              "      <td>Tue Mar 24 17:26:54 +0000 2020</td>\n",
              "      <td>#AV #nthroom_stop #nthroom_case</td>\n",
              "      <td></td>\n",
              "      <td></td>\n",
              "      <td></td>\n",
              "      <td></td>\n",
              "      <td>3</td>\n",
              "      <td>say sexual violence please punish perpetrator ...</td>\n",
              "      <td>DV</td>\n",
              "      <td>[{'label': 48, 'user': 1}]</td>\n",
              "      <td>admin</td>\n",
              "      <td>[NON_D_VIOLENCE_ABOUT]</td>\n",
              "    </tr>\n",
              "  </tbody>\n",
              "</table>\n",
              "</div>"
            ],
            "text/plain": [
              "        username to  ... annotation_approver               lab_final\n",
              "0  incrediblerer     ...               admin  [NON_D_VIOLENCE_ABOUT]\n",
              "\n",
              "[1 rows x 22 columns]"
            ]
          },
          "metadata": {
            "tags": []
          },
          "execution_count": 547
        }
      ]
    },
    {
      "cell_type": "code",
      "metadata": {
        "id": "wY9MA10Q50a8",
        "colab_type": "code",
        "outputId": "54f4f2c0-bc57-4c6b-f0d6-d5b50c2303cb",
        "colab": {
          "base_uri": "https://localhost:8080/",
          "height": 35
        }
      },
      "source": [
        "data2.lab_final[5][0]"
      ],
      "execution_count": 0,
      "outputs": [
        {
          "output_type": "execute_result",
          "data": {
            "text/plain": [
              "'N'"
            ]
          },
          "metadata": {
            "tags": []
          },
          "execution_count": 550
        }
      ]
    },
    {
      "cell_type": "code",
      "metadata": {
        "id": "AFNornrFLtbQ",
        "colab_type": "code",
        "colab": {}
      },
      "source": [
        "data2['lab_final'] = data2['lab_final'].apply(lambda x: ','.join(map(str, x)))"
      ],
      "execution_count": 0,
      "outputs": []
    },
    {
      "cell_type": "code",
      "metadata": {
        "id": "XAwnc-C0uz3I",
        "colab_type": "code",
        "colab": {}
      },
      "source": [
        "data2.to_csv('data2_dvtweets.csv', index=False)"
      ],
      "execution_count": 0,
      "outputs": []
    },
    {
      "cell_type": "markdown",
      "metadata": {
        "id": "_oIjyO2RvOJ-",
        "colab_type": "text"
      },
      "source": [
        "# data3.json"
      ]
    },
    {
      "cell_type": "code",
      "metadata": {
        "id": "oniYhcu1vM1c",
        "colab_type": "code",
        "outputId": "81255e59-3af0-4d64-8626-fd3d71e5d84d",
        "colab": {
          "base_uri": "https://localhost:8080/",
          "height": 127
        }
      },
      "source": [
        "my_json=\"data3.json\"\n",
        "lbls='dvtweetsLabels.csv'\n",
        "df = get_labels_df(my_json,lbls)"
      ],
      "execution_count": 0,
      "outputs": [
        {
          "output_type": "stream",
          "text": [
            "(274, 6)\n"
          ],
          "name": "stdout"
        },
        {
          "output_type": "stream",
          "text": [
            "/usr/local/lib/python3.6/dist-packages/ipykernel_launcher.py:37: SettingWithCopyWarning: \n",
            "A value is trying to be set on a copy of a slice from a DataFrame\n",
            "\n",
            "See the caveats in the documentation: https://pandas.pydata.org/pandas-docs/stable/user_guide/indexing.html#returning-a-view-versus-a-copy\n"
          ],
          "name": "stderr"
        }
      ]
    },
    {
      "cell_type": "code",
      "metadata": {
        "id": "OosyzPtZ8NpI",
        "colab_type": "code",
        "outputId": "e4a71935-1310-4e07-f6ba-e194722f50fc",
        "colab": {
          "base_uri": "https://localhost:8080/",
          "height": 287
        }
      },
      "source": [
        "perc_approved(df)"
      ],
      "execution_count": 0,
      "outputs": [
        {
          "output_type": "stream",
          "text": [
            "Labels distribution\n",
            "(NON_D_VIOLENCE_ABOUT,)       162\n",
            "(NO_VIOLENCE,)                 65\n",
            "(NON_D_VIOLENCE_DIRECTED,)     36\n",
            "(DV_OPINION_ADVOCATE,)          5\n",
            "(DV_OPINION_NEWS_INFO,)         3\n",
            "(DV_STORY,)                     2\n",
            "(UNKNOWN,)                      1\n",
            "Name: lab_final, dtype: int64\n",
            "\\------------------------------------\n",
            "Percentage approved and percentage left:\n",
            "Total rows: 274\n",
            "ISNULL, i.e Unlabeled  0\n",
            "ISNULL, i.e. Not Approved  229\n",
            "javier 45\n"
          ],
          "name": "stdout"
        }
      ]
    },
    {
      "cell_type": "markdown",
      "metadata": {
        "id": "Lu9Xr4xTy__i",
        "colab_type": "text"
      },
      "source": [
        "**Check df rows with two values of df.lab_final** "
      ]
    },
    {
      "cell_type": "code",
      "metadata": {
        "id": "uj0bNqGwMJo3",
        "colab_type": "code",
        "outputId": "16f5105f-1f95-4e1e-ef0d-f8a99e7be1fc",
        "colab": {
          "base_uri": "https://localhost:8080/",
          "height": 35
        }
      },
      "source": [
        "np.where(df['lab_final'].apply(lambda x: x == ['NON_D_VIOLENCE_DIRECTED', 'NON_D_VIOLENCE_ABOUT']))"
      ],
      "execution_count": 0,
      "outputs": [
        {
          "output_type": "execute_result",
          "data": {
            "text/plain": [
              "(array([178]),)"
            ]
          },
          "metadata": {
            "tags": []
          },
          "execution_count": 554
        }
      ]
    },
    {
      "cell_type": "code",
      "metadata": {
        "id": "28B8DRj5NUCU",
        "colab_type": "code",
        "outputId": "5f8d07bc-09de-401b-ce67-c578fb5f5d17",
        "colab": {
          "base_uri": "https://localhost:8080/",
          "height": 143
        }
      },
      "source": [
        "df.iloc[178]"
      ],
      "execution_count": 0,
      "outputs": [
        {
          "output_type": "execute_result",
          "data": {
            "text/plain": [
              "id                                                                 10016\n",
              "text                   New episode of #nofilterfriday on @publichouse...\n",
              "annotations            [{'label': 53, 'user': 11}, {'label': 52, 'use...\n",
              "meta                                                                  {}\n",
              "annotation_approver                                                 None\n",
              "lab_final                [NON_D_VIOLENCE_DIRECTED, NON_D_VIOLENCE_ABOUT]\n",
              "Name: 199, dtype: object"
            ]
          },
          "metadata": {
            "tags": []
          },
          "execution_count": 555
        }
      ]
    },
    {
      "cell_type": "code",
      "metadata": {
        "id": "SWbo3wzSi4W6",
        "colab_type": "code",
        "outputId": "73d1fe0c-7034-434e-8c98-57e6b6131ecf",
        "colab": {
          "base_uri": "https://localhost:8080/",
          "height": 127
        }
      },
      "source": [
        "df['lab_final'].iloc[178] = ['NON_D_VIOLENCE_ABOUT']"
      ],
      "execution_count": 0,
      "outputs": [
        {
          "output_type": "stream",
          "text": [
            "/usr/local/lib/python3.6/dist-packages/pandas/core/indexing.py:671: SettingWithCopyWarning: \n",
            "A value is trying to be set on a copy of a slice from a DataFrame\n",
            "\n",
            "See the caveats in the documentation: https://pandas.pydata.org/pandas-docs/stable/user_guide/indexing.html#returning-a-view-versus-a-copy\n",
            "  self._setitem_with_indexer(indexer, value)\n"
          ],
          "name": "stderr"
        }
      ]
    },
    {
      "cell_type": "code",
      "metadata": {
        "id": "A9IqFlFrwMQC",
        "colab_type": "code",
        "colab": {}
      },
      "source": [
        "#df[df.annotation_approver.isnull()]"
      ],
      "execution_count": 0,
      "outputs": []
    },
    {
      "cell_type": "markdown",
      "metadata": {
        "id": "3wLbVxHEPMxT",
        "colab_type": "text"
      },
      "source": [
        "**Merging / Joining**"
      ]
    },
    {
      "cell_type": "code",
      "metadata": {
        "id": "KAXGPYGXkQCu",
        "colab_type": "code",
        "outputId": "69e73264-a11e-4c4c-84a0-eaac547f3e39",
        "colab": {
          "base_uri": "https://localhost:8080/",
          "height": 35
        }
      },
      "source": [
        "data3 = pd.merge(main_df, df, on=\"text\", how='inner')\n",
        "print(data3.shape)\n",
        "data3.drop(['Unnamed: 0','id_y','meta'], axis = 1, inplace=True)"
      ],
      "execution_count": 0,
      "outputs": [
        {
          "output_type": "stream",
          "text": [
            "(236, 25)\n"
          ],
          "name": "stdout"
        }
      ]
    },
    {
      "cell_type": "code",
      "metadata": {
        "id": "O3zGiNhQ5vLc",
        "colab_type": "code",
        "outputId": "ec60dc60-64e1-4db8-a88f-64ef357885d9",
        "colab": {
          "base_uri": "https://localhost:8080/",
          "height": 35
        }
      },
      "source": [
        "data3.lab_final[5][0]"
      ],
      "execution_count": 0,
      "outputs": [
        {
          "output_type": "execute_result",
          "data": {
            "text/plain": [
              "'N'"
            ]
          },
          "metadata": {
            "tags": []
          },
          "execution_count": 562
        }
      ]
    },
    {
      "cell_type": "code",
      "metadata": {
        "id": "4HzyjHk4MHEp",
        "colab_type": "code",
        "colab": {}
      },
      "source": [
        "data3['lab_final'] = data3['lab_final'].apply(lambda x: ','.join(map(str, x)))"
      ],
      "execution_count": 0,
      "outputs": []
    },
    {
      "cell_type": "code",
      "metadata": {
        "id": "GMaSPXtlwT_R",
        "colab_type": "code",
        "colab": {}
      },
      "source": [
        "data3.to_csv('data3_dvtweets.csv', index=False)"
      ],
      "execution_count": 0,
      "outputs": []
    },
    {
      "cell_type": "markdown",
      "metadata": {
        "id": "wNWnzuBPzrmz",
        "colab_type": "text"
      },
      "source": [
        "# data4.json"
      ]
    },
    {
      "cell_type": "code",
      "metadata": {
        "id": "2ntLldVr0mBf",
        "colab_type": "code",
        "outputId": "0ac623e8-c82d-4977-b396-9d6314ba2d38",
        "colab": {
          "base_uri": "https://localhost:8080/",
          "height": 145
        }
      },
      "source": [
        "my_json=\"data4.json\"\n",
        "lbls='dvtweetsLabels.csv'\n",
        "df = get_labels_df(my_json,lbls)"
      ],
      "execution_count": 60,
      "outputs": [
        {
          "output_type": "stream",
          "text": [
            "[1, 19, 9, 7]\n",
            "(300, 6)\n"
          ],
          "name": "stdout"
        },
        {
          "output_type": "stream",
          "text": [
            "/usr/local/lib/python3.6/dist-packages/ipykernel_launcher.py:37: SettingWithCopyWarning: \n",
            "A value is trying to be set on a copy of a slice from a DataFrame\n",
            "\n",
            "See the caveats in the documentation: https://pandas.pydata.org/pandas-docs/stable/user_guide/indexing.html#returning-a-view-versus-a-copy\n"
          ],
          "name": "stderr"
        }
      ]
    },
    {
      "cell_type": "code",
      "metadata": {
        "id": "3_nBsdM58YAO",
        "colab_type": "code",
        "outputId": "3736913b-e78f-447c-9c19-e69c7505a17c",
        "colab": {
          "base_uri": "https://localhost:8080/",
          "height": 323
        }
      },
      "source": [
        "perc_approved(df)"
      ],
      "execution_count": 61,
      "outputs": [
        {
          "output_type": "stream",
          "text": [
            "Labels distribution\n",
            "(NON_D_VIOLENCE_ABOUT,)       126\n",
            "(NON_D_VIOLENCE_DIRECTED,)     79\n",
            "(NO_VIOLENCE,)                 57\n",
            "(DV_OPINION_ADVOCATE,)         22\n",
            "(DV_OPINION_NEWS_INFO,)         6\n",
            "(UNKNOWN,)                      6\n",
            "(DV_OPINION_DENIER,)            2\n",
            "(DV_STORY,)                     2\n",
            "Name: lab_final, dtype: int64\n",
            "\\------------------------------------\n",
            "Percentage approved and percentage left:\n",
            "Total rows: 300\n",
            "ISNULL, i.e Unlabeled  0\n",
            "ISNULL, i.e. Not Approved  1\n",
            "admin 39\n",
            "thiago 260\n"
          ],
          "name": "stdout"
        }
      ]
    },
    {
      "cell_type": "code",
      "metadata": {
        "id": "aPumCDFW09c7",
        "colab_type": "code",
        "colab": {}
      },
      "source": [
        "#df[df.annotation_approver.isnull()]"
      ],
      "execution_count": 0,
      "outputs": []
    },
    {
      "cell_type": "code",
      "metadata": {
        "id": "w7QrmecsicgA",
        "colab_type": "code",
        "colab": {
          "base_uri": "https://localhost:8080/",
          "height": 35
        },
        "outputId": "3d1f1136-3b29-4bcc-e034-da59e66ea9c9"
      },
      "source": [
        "data4 = pd.merge(main_df, df, on=\"text\", how='inner')\n",
        "print(data4.shape)\n",
        "data4.drop(['Unnamed: 0','id_y','meta'], axis = 1, inplace=True)"
      ],
      "execution_count": 63,
      "outputs": [
        {
          "output_type": "stream",
          "text": [
            "(256, 25)\n"
          ],
          "name": "stdout"
        }
      ]
    },
    {
      "cell_type": "code",
      "metadata": {
        "id": "SggwyIBninr8",
        "colab_type": "code",
        "colab": {
          "base_uri": "https://localhost:8080/",
          "height": 35
        },
        "outputId": "e09812f3-0870-4ece-f3f9-d8f104771aaa"
      },
      "source": [
        "data4.lab_final[5][0]"
      ],
      "execution_count": 64,
      "outputs": [
        {
          "output_type": "execute_result",
          "data": {
            "text/plain": [
              "'NON_D_VIOLENCE_ABOUT'"
            ]
          },
          "metadata": {
            "tags": []
          },
          "execution_count": 64
        }
      ]
    },
    {
      "cell_type": "code",
      "metadata": {
        "id": "3WcxahrLjkPX",
        "colab_type": "code",
        "colab": {}
      },
      "source": [
        "data4['lab_final'] = data4['lab_final'].apply(lambda x: ','.join(map(str, x)))"
      ],
      "execution_count": 0,
      "outputs": []
    },
    {
      "cell_type": "code",
      "metadata": {
        "id": "cNZqHefQonZz",
        "colab_type": "code",
        "colab": {
          "base_uri": "https://localhost:8080/",
          "height": 107
        },
        "outputId": "b209651e-be44-4acb-a3ea-c2b16cbd0c30"
      },
      "source": [
        "data4.columns"
      ],
      "execution_count": 66,
      "outputs": [
        {
          "output_type": "execute_result",
          "data": {
            "text/plain": [
              "Index(['username', 'to', 'text', 'retweets', 'favorites', 'replies', 'id_x',\n",
              "       'permalink', 'author_id', 'date', 'formatted_date', 'hashtags',\n",
              "       'mentions', 'geo', 'urls', 'user_location', 'month', 'processed_text',\n",
              "       'label', 'annotations', 'annotation_approver', 'lab_final'],\n",
              "      dtype='object')"
            ]
          },
          "metadata": {
            "tags": []
          },
          "execution_count": 66
        }
      ]
    },
    {
      "cell_type": "code",
      "metadata": {
        "id": "o4-Maa7F1CJO",
        "colab_type": "code",
        "colab": {}
      },
      "source": [
        "data4.to_csv('data4_dvtweets.csv', index=False)"
      ],
      "execution_count": 0,
      "outputs": []
    },
    {
      "cell_type": "markdown",
      "metadata": {
        "id": "Q7ix56YE1O9K",
        "colab_type": "text"
      },
      "source": [
        "# data5.json"
      ]
    },
    {
      "cell_type": "code",
      "metadata": {
        "id": "l1IAzNRE19pc",
        "colab_type": "code",
        "outputId": "f6bacde8-afde-4d4d-b8d7-62427c14f92f",
        "colab": {
          "base_uri": "https://localhost:8080/",
          "height": 127
        }
      },
      "source": [
        "my_json=\"data5.json\"\n",
        "lbls='dvtweetsLabels.csv'\n",
        "df = get_labels_df(my_json,lbls)"
      ],
      "execution_count": 0,
      "outputs": [
        {
          "output_type": "stream",
          "text": [
            "(300, 6)\n"
          ],
          "name": "stdout"
        },
        {
          "output_type": "stream",
          "text": [
            "/usr/local/lib/python3.6/dist-packages/ipykernel_launcher.py:37: SettingWithCopyWarning: \n",
            "A value is trying to be set on a copy of a slice from a DataFrame\n",
            "\n",
            "See the caveats in the documentation: https://pandas.pydata.org/pandas-docs/stable/user_guide/indexing.html#returning-a-view-versus-a-copy\n"
          ],
          "name": "stderr"
        }
      ]
    },
    {
      "cell_type": "code",
      "metadata": {
        "id": "pGDqDw1v8duz",
        "colab_type": "code",
        "outputId": "13de44a0-f975-482f-ccd4-0c09c694e4f7",
        "colab": {
          "base_uri": "https://localhost:8080/",
          "height": 305
        }
      },
      "source": [
        "perc_approved(df)"
      ],
      "execution_count": 0,
      "outputs": [
        {
          "output_type": "stream",
          "text": [
            "Labels distribution\n",
            "(NON_D_VIOLENCE_ABOUT,)       212\n",
            "(NO_VIOLENCE,)                 67\n",
            "(DV_OPINION_ADVOCATE,)          9\n",
            "(NON_D_VIOLENCE_DIRECTED,)      8\n",
            "(DV_OPINION_NEWS_INFO,)         2\n",
            "(UNKNOWN,)                      1\n",
            "(DV_STORY,)                     1\n",
            "Name: lab_final, dtype: int64\n",
            "\\------------------------------------\n",
            "Percentage approved and percentage left:\n",
            "Total rows: 300\n",
            "ISNULL, i.e Unlabeled  0\n",
            "ISNULL, i.e. Not Approved  1\n",
            "tim 219\n",
            "admin 80\n"
          ],
          "name": "stdout"
        }
      ]
    },
    {
      "cell_type": "code",
      "metadata": {
        "id": "sL7dLW4E2Z6B",
        "colab_type": "code",
        "colab": {}
      },
      "source": [
        "#df[df.annotation_approver.isnull()]"
      ],
      "execution_count": 0,
      "outputs": []
    },
    {
      "cell_type": "code",
      "metadata": {
        "id": "PIOjUp9ckusp",
        "colab_type": "code",
        "outputId": "24f75a25-2ba4-48d2-cb9f-d7cffa4e92da",
        "colab": {
          "base_uri": "https://localhost:8080/",
          "height": 35
        }
      },
      "source": [
        "data5 = pd.merge(main_df, df, on=\"text\", how='inner')\n",
        "print(data5.shape)\n",
        "data5.drop(['Unnamed: 0','id_y','meta'], axis = 1, inplace=True)"
      ],
      "execution_count": 0,
      "outputs": [
        {
          "output_type": "stream",
          "text": [
            "(264, 25)\n"
          ],
          "name": "stdout"
        }
      ]
    },
    {
      "cell_type": "code",
      "metadata": {
        "id": "twRPPR1Q5mBb",
        "colab_type": "code",
        "outputId": "adb27c3e-6c9c-469d-ffa7-176f4cb32855",
        "colab": {
          "base_uri": "https://localhost:8080/",
          "height": 35
        }
      },
      "source": [
        "data5.lab_final[5][0]"
      ],
      "execution_count": 0,
      "outputs": [
        {
          "output_type": "execute_result",
          "data": {
            "text/plain": [
              "'N'"
            ]
          },
          "metadata": {
            "tags": []
          },
          "execution_count": 570
        }
      ]
    },
    {
      "cell_type": "code",
      "metadata": {
        "id": "CVtZFAQQMd-7",
        "colab_type": "code",
        "colab": {}
      },
      "source": [
        "data5['lab_final'] = data5['lab_final'].apply(lambda x: ','.join(map(str, x)))"
      ],
      "execution_count": 0,
      "outputs": []
    },
    {
      "cell_type": "code",
      "metadata": {
        "id": "pRUQ4w2E2cIw",
        "colab_type": "code",
        "colab": {}
      },
      "source": [
        "data5.to_csv('data5_dvtweets.csv', index=False)"
      ],
      "execution_count": 0,
      "outputs": []
    },
    {
      "cell_type": "markdown",
      "metadata": {
        "id": "J-WJdUBv2tR7",
        "colab_type": "text"
      },
      "source": [
        "# data6.json"
      ]
    },
    {
      "cell_type": "code",
      "metadata": {
        "id": "OHHCF0AT2sPf",
        "colab_type": "code",
        "outputId": "f3a41175-4550-456a-871c-0f4670207ac8",
        "colab": {
          "base_uri": "https://localhost:8080/",
          "height": 145
        }
      },
      "source": [
        "my_json=\"data6.json\"\n",
        "lbls='dvtweetsLabels.csv'\n",
        "df = get_labels_df(my_json,lbls)"
      ],
      "execution_count": 68,
      "outputs": [
        {
          "output_type": "stream",
          "text": [
            "[1, 22]\n",
            "(300, 6)\n"
          ],
          "name": "stdout"
        },
        {
          "output_type": "stream",
          "text": [
            "/usr/local/lib/python3.6/dist-packages/ipykernel_launcher.py:37: SettingWithCopyWarning: \n",
            "A value is trying to be set on a copy of a slice from a DataFrame\n",
            "\n",
            "See the caveats in the documentation: https://pandas.pydata.org/pandas-docs/stable/user_guide/indexing.html#returning-a-view-versus-a-copy\n"
          ],
          "name": "stderr"
        }
      ]
    },
    {
      "cell_type": "code",
      "metadata": {
        "id": "4dIfZNFx8gEW",
        "colab_type": "code",
        "colab": {
          "base_uri": "https://localhost:8080/",
          "height": 269
        },
        "outputId": "18d4c2d0-1098-4352-e359-e2358876ec6a"
      },
      "source": [
        "perc_approved(df)"
      ],
      "execution_count": 69,
      "outputs": [
        {
          "output_type": "stream",
          "text": [
            "Labels distribution\n",
            "(NON_D_VIOLENCE_ABOUT,)       217\n",
            "(NO_VIOLENCE,)                 57\n",
            "(NON_D_VIOLENCE_DIRECTED,)     14\n",
            "(DV_OPINION_ADVOCATE,)          9\n",
            "(DV_OPINION_NEWS_INFO,)         2\n",
            "(DV_STORY,)                     1\n",
            "Name: lab_final, dtype: int64\n",
            "\\------------------------------------\n",
            "Percentage approved and percentage left:\n",
            "Total rows: 300\n",
            "ISNULL, i.e Unlabeled  0\n",
            "ISNULL, i.e. Not Approved  2\n",
            "admin 298\n"
          ],
          "name": "stdout"
        }
      ]
    },
    {
      "cell_type": "code",
      "metadata": {
        "id": "pP5vOZQ43Jnq",
        "colab_type": "code",
        "colab": {}
      },
      "source": [
        "#df[df.annotation_approver.isnull()]"
      ],
      "execution_count": 0,
      "outputs": []
    },
    {
      "cell_type": "code",
      "metadata": {
        "id": "s52UWTVAkLzV",
        "colab_type": "code",
        "colab": {
          "base_uri": "https://localhost:8080/",
          "height": 35
        },
        "outputId": "ea143806-92f5-4b7e-b953-3a0081db0c1a"
      },
      "source": [
        "data6 = pd.merge(main_df, df, on=\"text\", how='inner')\n",
        "print(data6.shape)\n",
        "data6.drop(['Unnamed: 0','id_y','meta'], axis = 1, inplace=True)"
      ],
      "execution_count": 71,
      "outputs": [
        {
          "output_type": "stream",
          "text": [
            "(267, 25)\n"
          ],
          "name": "stdout"
        }
      ]
    },
    {
      "cell_type": "code",
      "metadata": {
        "id": "cN60XapMkOl4",
        "colab_type": "code",
        "colab": {
          "base_uri": "https://localhost:8080/",
          "height": 35
        },
        "outputId": "c5b6dea9-0ee8-4805-bad1-744f5f6a806e"
      },
      "source": [
        "data6.lab_final[5][0]"
      ],
      "execution_count": 72,
      "outputs": [
        {
          "output_type": "execute_result",
          "data": {
            "text/plain": [
              "'NON_D_VIOLENCE_ABOUT'"
            ]
          },
          "metadata": {
            "tags": []
          },
          "execution_count": 72
        }
      ]
    },
    {
      "cell_type": "code",
      "metadata": {
        "id": "uSUgZkvjkQ0m",
        "colab_type": "code",
        "colab": {}
      },
      "source": [
        "data6['lab_final'] = data6['lab_final'].apply(lambda x: ','.join(map(str, x)))"
      ],
      "execution_count": 0,
      "outputs": []
    },
    {
      "cell_type": "code",
      "metadata": {
        "id": "I_dxOOEYpIyW",
        "colab_type": "code",
        "colab": {
          "base_uri": "https://localhost:8080/",
          "height": 107
        },
        "outputId": "e035b012-1b4e-4881-ae91-fdbed3486257"
      },
      "source": [
        "data6.columns"
      ],
      "execution_count": 74,
      "outputs": [
        {
          "output_type": "execute_result",
          "data": {
            "text/plain": [
              "Index(['username', 'to', 'text', 'retweets', 'favorites', 'replies', 'id_x',\n",
              "       'permalink', 'author_id', 'date', 'formatted_date', 'hashtags',\n",
              "       'mentions', 'geo', 'urls', 'user_location', 'month', 'processed_text',\n",
              "       'label', 'annotations', 'annotation_approver', 'lab_final'],\n",
              "      dtype='object')"
            ]
          },
          "metadata": {
            "tags": []
          },
          "execution_count": 74
        }
      ]
    },
    {
      "cell_type": "code",
      "metadata": {
        "id": "J0gNVo9CkTHO",
        "colab_type": "code",
        "colab": {}
      },
      "source": [
        "data6.to_csv('data6_dvtweets.csv', index=False)"
      ],
      "execution_count": 0,
      "outputs": []
    },
    {
      "cell_type": "markdown",
      "metadata": {
        "id": "xx65Arvb3cyw",
        "colab_type": "text"
      },
      "source": [
        "# data7.json"
      ]
    },
    {
      "cell_type": "code",
      "metadata": {
        "id": "WSEYmnBx3gzP",
        "colab_type": "code",
        "outputId": "e4ed75e7-4d46-40d3-dfa4-cf89803259f3",
        "colab": {
          "base_uri": "https://localhost:8080/",
          "height": 325
        }
      },
      "source": [
        "my_json=\"data7.json\"\n",
        "lbls='dvtweetsLabels.csv'\n",
        "df = get_labels_df(my_json,lbls)"
      ],
      "execution_count": 0,
      "outputs": [
        {
          "output_type": "stream",
          "text": [
            "(298, 7)\n",
            "(NON_D_VIOLENCE_ABOUT,)       207\n",
            "(NO_VIOLENCE,)                 46\n",
            "(NON_D_VIOLENCE_DIRECTED,)     24\n",
            "(UNKNOWN,)                     12\n",
            "(DV_OPINION_NEWS_INFO,)         7\n",
            "(DV_OPINION_ADVOCATE,)          1\n",
            "(DV_STORY,)                     1\n",
            "Name: lab_final, dtype: int64\n",
            "ISNULL Label  0\n",
            "ISNULL Approver  298\n",
            "Total rows: 298\n"
          ],
          "name": "stdout"
        },
        {
          "output_type": "stream",
          "text": [
            "/usr/local/lib/python3.6/dist-packages/ipykernel_launcher.py:38: SettingWithCopyWarning: \n",
            "A value is trying to be set on a copy of a slice from a DataFrame\n",
            "\n",
            "See the caveats in the documentation: https://pandas.pydata.org/pandas-docs/stable/user_guide/indexing.html#returning-a-view-versus-a-copy\n"
          ],
          "name": "stderr"
        }
      ]
    },
    {
      "cell_type": "code",
      "metadata": {
        "id": "caVKMKOY8h8M",
        "colab_type": "code",
        "colab": {}
      },
      "source": [
        "perc_approved(df)"
      ],
      "execution_count": 0,
      "outputs": []
    },
    {
      "cell_type": "markdown",
      "metadata": {
        "id": "BIV3os5r4T1Y",
        "colab_type": "text"
      },
      "source": [
        "^This queue is not approved"
      ]
    },
    {
      "cell_type": "code",
      "metadata": {
        "id": "SBm69Xo337n9",
        "colab_type": "code",
        "colab": {}
      },
      "source": [
        "#df[df.annotation_approver.isnull()]"
      ],
      "execution_count": 0,
      "outputs": []
    },
    {
      "cell_type": "code",
      "metadata": {
        "id": "y1ucdu-t4cVE",
        "colab_type": "code",
        "colab": {}
      },
      "source": [
        "df.to_csv('data7_dvtweets.csv', index=False)"
      ],
      "execution_count": 0,
      "outputs": []
    },
    {
      "cell_type": "markdown",
      "metadata": {
        "id": "Eiqa-TCt4kPJ",
        "colab_type": "text"
      },
      "source": [
        "# data8.json"
      ]
    },
    {
      "cell_type": "code",
      "metadata": {
        "id": "VErKY_u34nOD",
        "colab_type": "code",
        "outputId": "6f6983e5-9b49-4de6-db09-9b0744c9cd61",
        "colab": {
          "base_uri": "https://localhost:8080/",
          "height": 127
        }
      },
      "source": [
        "my_json=\"data8.json\"\n",
        "lbls='dvtweetsLabels.csv'\n",
        "df = get_labels_df(my_json,lbls)"
      ],
      "execution_count": 0,
      "outputs": [
        {
          "output_type": "stream",
          "text": [
            "(300, 6)\n"
          ],
          "name": "stdout"
        },
        {
          "output_type": "stream",
          "text": [
            "/usr/local/lib/python3.6/dist-packages/ipykernel_launcher.py:37: SettingWithCopyWarning: \n",
            "A value is trying to be set on a copy of a slice from a DataFrame\n",
            "\n",
            "See the caveats in the documentation: https://pandas.pydata.org/pandas-docs/stable/user_guide/indexing.html#returning-a-view-versus-a-copy\n"
          ],
          "name": "stderr"
        }
      ]
    },
    {
      "cell_type": "code",
      "metadata": {
        "id": "QEvoyAO18kbg",
        "colab_type": "code",
        "outputId": "9b9eea71-3a3a-479c-c7fe-7a8131c8b5e6",
        "colab": {
          "base_uri": "https://localhost:8080/",
          "height": 323
        }
      },
      "source": [
        "perc_approved(df)"
      ],
      "execution_count": 0,
      "outputs": [
        {
          "output_type": "stream",
          "text": [
            "Labels distribution\n",
            "(NON_D_VIOLENCE_ABOUT,)       215\n",
            "(NO_VIOLENCE,)                 46\n",
            "(NON_D_VIOLENCE_DIRECTED,)     21\n",
            "(DV_OPINION_NEWS_INFO,)         6\n",
            "(DV_STORY,)                     5\n",
            "(DV_OPINION_ADVOCATE,)          4\n",
            "(DV_OPINION_DENIER,)            2\n",
            "(UNKNOWN,)                      1\n",
            "Name: lab_final, dtype: int64\n",
            "\\------------------------------------\n",
            "Percentage approved and percentage left:\n",
            "Total rows: 300\n",
            "ISNULL, i.e Unlabeled  0\n",
            "ISNULL, i.e. Not Approved  3\n",
            "javier 13\n",
            "admin 284\n"
          ],
          "name": "stdout"
        }
      ]
    },
    {
      "cell_type": "code",
      "metadata": {
        "id": "0XWjJog25Sxs",
        "colab_type": "code",
        "colab": {}
      },
      "source": [
        "#df[df.annotation_approver.isnull()]"
      ],
      "execution_count": 0,
      "outputs": []
    },
    {
      "cell_type": "code",
      "metadata": {
        "id": "N_TsGigjlOkD",
        "colab_type": "code",
        "outputId": "4c47f4b7-8f96-4c6d-fd24-ac7a6f0f57b0",
        "colab": {
          "base_uri": "https://localhost:8080/",
          "height": 35
        }
      },
      "source": [
        "data8 = pd.merge(main_df, df, on=\"text\", how='inner')\n",
        "print(data1.shape)\n",
        "data8.drop(['Unnamed: 0','id_y','meta'], axis = 1, inplace=True)"
      ],
      "execution_count": 0,
      "outputs": [
        {
          "output_type": "stream",
          "text": [
            "(251, 22)\n"
          ],
          "name": "stdout"
        }
      ]
    },
    {
      "cell_type": "code",
      "metadata": {
        "id": "NTG_SNug46Aq",
        "colab_type": "code",
        "outputId": "232f137c-d916-468d-dbe0-de5261ac0f91",
        "colab": {
          "base_uri": "https://localhost:8080/",
          "height": 35
        }
      },
      "source": [
        "data8.lab_final[5][0]"
      ],
      "execution_count": 0,
      "outputs": [
        {
          "output_type": "execute_result",
          "data": {
            "text/plain": [
              "'N'"
            ]
          },
          "metadata": {
            "tags": []
          },
          "execution_count": 578
        }
      ]
    },
    {
      "cell_type": "code",
      "metadata": {
        "id": "l4rhm7IFMo4r",
        "colab_type": "code",
        "colab": {}
      },
      "source": [
        "data8['lab_final'] = data8['lab_final'].apply(lambda x: ','.join(map(str, x)))"
      ],
      "execution_count": 0,
      "outputs": []
    },
    {
      "cell_type": "code",
      "metadata": {
        "id": "I1AmtvOh5YAS",
        "colab_type": "code",
        "colab": {}
      },
      "source": [
        "data8.to_csv('data8_dvtweets.csv', index=False)"
      ],
      "execution_count": 0,
      "outputs": []
    },
    {
      "cell_type": "markdown",
      "metadata": {
        "id": "foosPyKr5gYf",
        "colab_type": "text"
      },
      "source": [
        "# data9.json"
      ]
    },
    {
      "cell_type": "code",
      "metadata": {
        "id": "yIqpySN45doF",
        "colab_type": "code",
        "outputId": "20787b8f-b846-4e74-b381-99d370fab321",
        "colab": {
          "base_uri": "https://localhost:8080/",
          "height": 127
        }
      },
      "source": [
        "my_json=\"data9.json\"\n",
        "lbls='dvtweetsLabels.csv'\n",
        "df = get_labels_df(my_json,lbls)"
      ],
      "execution_count": 0,
      "outputs": [
        {
          "output_type": "stream",
          "text": [
            "(186, 8)\n"
          ],
          "name": "stdout"
        },
        {
          "output_type": "stream",
          "text": [
            "/usr/local/lib/python3.6/dist-packages/ipykernel_launcher.py:38: SettingWithCopyWarning: \n",
            "A value is trying to be set on a copy of a slice from a DataFrame\n",
            "\n",
            "See the caveats in the documentation: https://pandas.pydata.org/pandas-docs/stable/user_guide/indexing.html#returning-a-view-versus-a-copy\n"
          ],
          "name": "stderr"
        }
      ]
    },
    {
      "cell_type": "code",
      "metadata": {
        "id": "RIl7nyYP8qRW",
        "colab_type": "code",
        "outputId": "ed5f8c7d-c7ac-48df-c4e3-ffa94836789b",
        "colab": {
          "base_uri": "https://localhost:8080/",
          "height": 287
        }
      },
      "source": [
        "perc_approved(df)"
      ],
      "execution_count": 0,
      "outputs": [
        {
          "output_type": "stream",
          "text": [
            "Labels distribution\n",
            "(NON_D_VIOLENCE_ABOUT,)                        114\n",
            "(NO_VIOLENCE,)                                  55\n",
            "(NON_D_VIOLENCE_DIRECTED,)                       7\n",
            "(DV_OPINION_ADVOCATE,)                           5\n",
            "(DV_OPINION_NEWS_INFO,)                          2\n",
            "(DV_STORY,)                                      2\n",
            "(DV_OPINION_ADVOCATE, NON_D_VIOLENCE_ABOUT)      1\n",
            "Name: lab_final, dtype: int64\n",
            "\\------------------------------------\n",
            "Percentage approved and percentage left:\n",
            "Total rows: 186\n",
            "ISNULL, i.e Unlabeled  0\n",
            "ISNULL, i.e. Not Approved  170\n",
            "admin 16\n"
          ],
          "name": "stdout"
        }
      ]
    },
    {
      "cell_type": "code",
      "metadata": {
        "id": "X5KsQgxj5mDO",
        "colab_type": "code",
        "colab": {}
      },
      "source": [
        "#df[df.annotation_approver.isnull()]"
      ],
      "execution_count": 0,
      "outputs": []
    },
    {
      "cell_type": "code",
      "metadata": {
        "id": "q4xjKsMQ5wnx",
        "colab_type": "code",
        "colab": {}
      },
      "source": [
        "df.to_csv('data9_dvtweets.csv', index=False)"
      ],
      "execution_count": 0,
      "outputs": []
    },
    {
      "cell_type": "markdown",
      "metadata": {
        "id": "qHYYGNoQ53eg",
        "colab_type": "text"
      },
      "source": [
        "# data10.json"
      ]
    },
    {
      "cell_type": "code",
      "metadata": {
        "id": "rFT6zMUV52VO",
        "colab_type": "code",
        "outputId": "b1ab2d59-a43a-4c00-d6be-f4cb446c659f",
        "colab": {
          "base_uri": "https://localhost:8080/",
          "height": 343
        }
      },
      "source": [
        "my_json=\"data10.json\"\n",
        "lbls='dvtweetsLabels.csv'\n",
        "df = get_labels_df(my_json,lbls)"
      ],
      "execution_count": 0,
      "outputs": [
        {
          "output_type": "stream",
          "text": [
            "(365, 8)\n",
            "(NON_D_VIOLENCE_ABOUT,)       191\n",
            "(NO_VIOLENCE,)                122\n",
            "(NON_D_VIOLENCE_DIRECTED,)     26\n",
            "(DV_OPINION_ADVOCATE,)         18\n",
            "(DV_STORY,)                     3\n",
            "(DV_OPINION_DENIER,)            3\n",
            "(DV_OPINION_NEWS_INFO,)         2\n",
            "Name: lab_final, dtype: int64\n",
            "ISNULL Label  0\n",
            "ISNULL Approver  358\n",
            "Total rows: 365\n",
            "admin 7\n"
          ],
          "name": "stdout"
        },
        {
          "output_type": "stream",
          "text": [
            "/usr/local/lib/python3.6/dist-packages/ipykernel_launcher.py:38: SettingWithCopyWarning: \n",
            "A value is trying to be set on a copy of a slice from a DataFrame\n",
            "\n",
            "See the caveats in the documentation: https://pandas.pydata.org/pandas-docs/stable/user_guide/indexing.html#returning-a-view-versus-a-copy\n"
          ],
          "name": "stderr"
        }
      ]
    },
    {
      "cell_type": "code",
      "metadata": {
        "id": "B8JWS8jp8sOp",
        "colab_type": "code",
        "colab": {}
      },
      "source": [
        "perc_approved(df)"
      ],
      "execution_count": 0,
      "outputs": []
    },
    {
      "cell_type": "code",
      "metadata": {
        "id": "UEFTZ7De6AEC",
        "colab_type": "code",
        "colab": {}
      },
      "source": [
        "#df[df.annotation_approver.isnull()]"
      ],
      "execution_count": 0,
      "outputs": []
    },
    {
      "cell_type": "code",
      "metadata": {
        "id": "yM_8lY116FRR",
        "colab_type": "code",
        "colab": {}
      },
      "source": [
        "df.to_csv('data10_dvtweets.csv', index=False)"
      ],
      "execution_count": 0,
      "outputs": []
    },
    {
      "cell_type": "markdown",
      "metadata": {
        "id": "pLnToKzk-EAx",
        "colab_type": "text"
      },
      "source": [
        "### Combine all csvs"
      ]
    },
    {
      "cell_type": "code",
      "metadata": {
        "id": "bUIWzjiXl8aX",
        "colab_type": "code",
        "colab": {}
      },
      "source": [
        "all_filenames = ['data1_dvtweets.csv','data2_dvtweets.csv','data3_dvtweets.csv','data4_dvtweets.csv', 'data5_dvtweets.csv','data6_dvtweets.csv','data8_dvtweets.csv']"
      ],
      "execution_count": 0,
      "outputs": []
    },
    {
      "cell_type": "code",
      "metadata": {
        "id": "EAnngn6KmMw3",
        "colab_type": "code",
        "colab": {}
      },
      "source": [
        "combined_csv = pd.concat([pd.read_csv(f) for f in all_filenames ])\n",
        "combined_csv.to_csv( \"label_approved.csv\", index=False, encoding='utf-8-sig')"
      ],
      "execution_count": 0,
      "outputs": []
    },
    {
      "cell_type": "code",
      "metadata": {
        "id": "I4Gvsrapmdwm",
        "colab_type": "code",
        "colab": {}
      },
      "source": [
        "labeled = pd.read_csv('label_approved.csv', keep_default_na=False)"
      ],
      "execution_count": 0,
      "outputs": []
    },
    {
      "cell_type": "code",
      "metadata": {
        "id": "VHk51L5D66Se",
        "colab_type": "code",
        "outputId": "5cee766a-ec7a-4a63-fd4c-4ea39be18216",
        "colab": {
          "base_uri": "https://localhost:8080/",
          "height": 35
        }
      },
      "source": [
        "print(type(labeled.at[0, 'lab_final']))"
      ],
      "execution_count": 79,
      "outputs": [
        {
          "output_type": "stream",
          "text": [
            "<class 'str'>\n"
          ],
          "name": "stdout"
        }
      ]
    },
    {
      "cell_type": "code",
      "metadata": {
        "id": "QXiMdLrO8zv_",
        "colab_type": "code",
        "outputId": "1634b469-1491-48fb-8dbd-9c6df76a9bcf",
        "colab": {
          "base_uri": "https://localhost:8080/",
          "height": 395
        }
      },
      "source": [
        "perc_approved(labeled)"
      ],
      "execution_count": 80,
      "outputs": [
        {
          "output_type": "stream",
          "text": [
            "Labels distribution\n",
            "(N, O, N, _, D, _, V, I, O, L, E, N, C, E, _, A, B, O, U, T)             1089\n",
            "(N, O, _, V, I, O, L, E, N, C, E)                                         374\n",
            "(N, O, N, _, D, _, V, I, O, L, E, N, C, E, _, D, I, R, E, C, T, E, D)     191\n",
            "(D, V, _, O, P, I, N, I, O, N, _, A, D, V, O, C, A, T, E)                  61\n",
            "(D, V, _, O, P, I, N, I, O, N, _, N, E, W, S, _, I, N, F, O)               20\n",
            "(D, V, _, O, P, I, N, I, O, N, _, I, N, F, O, _, N, E, W, S)               17\n",
            "(D, V, _, S, T, O, R, Y)                                                   16\n",
            "(U, N, K, N, O, W, N)                                                       9\n",
            "(D, V, _, O, P, I, N, I, O, N, _, D, E, N, I, E, R)                         5\n",
            "Name: lab_final, dtype: int64\n",
            "\\------------------------------------\n",
            "Percentage approved and percentage left:\n",
            "Total rows: 1782\n",
            "ISNULL, i.e Unlabeled  0\n",
            "ISNULL, i.e. Not Approved  0\n",
            " 211\n",
            "tim 286\n",
            "javier 51\n",
            "thiago 222\n",
            "admin 1012\n"
          ],
          "name": "stdout"
        }
      ]
    },
    {
      "cell_type": "code",
      "metadata": {
        "id": "vYIPvKd4CbA8",
        "colab_type": "code",
        "outputId": "0339c08a-6de5-48d7-9f9f-5cdae9d33834",
        "colab": {
          "base_uri": "https://localhost:8080/",
          "height": 125
        }
      },
      "source": [
        "# Checking type of data in lab_final\n",
        "labeled.lab_final[:5]"
      ],
      "execution_count": 81,
      "outputs": [
        {
          "output_type": "execute_result",
          "data": {
            "text/plain": [
              "0     DV_OPINION_ADVOCATE\n",
              "1    NON_D_VIOLENCE_ABOUT\n",
              "2    NON_D_VIOLENCE_ABOUT\n",
              "3    NON_D_VIOLENCE_ABOUT\n",
              "4             NO_VIOLENCE\n",
              "Name: lab_final, dtype: object"
            ]
          },
          "metadata": {
            "tags": []
          },
          "execution_count": 81
        }
      ]
    },
    {
      "cell_type": "code",
      "metadata": {
        "id": "DrKQx_Cq8hVj",
        "colab_type": "code",
        "colab": {}
      },
      "source": [
        "#labeled.loc[labeled.lab_final == 'DV_OPINION_NEWS_INFO','lab_final'] = 'DV_OPINION_INFO_NEWS'"
      ],
      "execution_count": 0,
      "outputs": []
    },
    {
      "cell_type": "code",
      "metadata": {
        "id": "dzxSgnCOC978",
        "colab_type": "code",
        "outputId": "01e6ecc3-762a-4073-f367-b1855ed122a4",
        "colab": {
          "base_uri": "https://localhost:8080/",
          "height": 35
        }
      },
      "source": [
        "labeled.shape"
      ],
      "execution_count": 90,
      "outputs": [
        {
          "output_type": "execute_result",
          "data": {
            "text/plain": [
              "(1782, 22)"
            ]
          },
          "metadata": {
            "tags": []
          },
          "execution_count": 90
        }
      ]
    },
    {
      "cell_type": "code",
      "metadata": {
        "id": "e0q3JsBCDMor",
        "colab_type": "code",
        "outputId": "a5310879-237c-4057-a5ee-0f5ad9956a80",
        "colab": {
          "base_uri": "https://localhost:8080/",
          "height": 197
        }
      },
      "source": [
        "labeled.lab_final.value_counts()"
      ],
      "execution_count": 84,
      "outputs": [
        {
          "output_type": "execute_result",
          "data": {
            "text/plain": [
              "NON_D_VIOLENCE_ABOUT       1089\n",
              "NO_VIOLENCE                 374\n",
              "NON_D_VIOLENCE_DIRECTED     191\n",
              "DV_OPINION_ADVOCATE          61\n",
              "DV_OPINION_NEWS_INFO         20\n",
              "DV_OPINION_INFO_NEWS         17\n",
              "DV_STORY                     16\n",
              "UNKNOWN                       9\n",
              "DV_OPINION_DENIER             5\n",
              "Name: lab_final, dtype: int64"
            ]
          },
          "metadata": {
            "tags": []
          },
          "execution_count": 84
        }
      ]
    },
    {
      "cell_type": "markdown",
      "metadata": {
        "id": "Kvjnx3orPqFi",
        "colab_type": "text"
      },
      "source": [
        "Checking columns with **NULL** Values"
      ]
    },
    {
      "cell_type": "code",
      "metadata": {
        "id": "zg6eoiLVDTdw",
        "colab_type": "code",
        "outputId": "cc521e25-1f65-4068-f194-6629e348f744",
        "colab": {
          "base_uri": "https://localhost:8080/",
          "height": 431
        }
      },
      "source": [
        "labeled.isnull().sum()"
      ],
      "execution_count": 85,
      "outputs": [
        {
          "output_type": "execute_result",
          "data": {
            "text/plain": [
              "username               0\n",
              "to                     0\n",
              "text                   0\n",
              "retweets               0\n",
              "favorites              0\n",
              "replies                0\n",
              "id_x                   0\n",
              "permalink              0\n",
              "author_id              0\n",
              "date                   0\n",
              "formatted_date         0\n",
              "hashtags               0\n",
              "mentions               0\n",
              "geo                    0\n",
              "urls                   0\n",
              "user_location          0\n",
              "month                  0\n",
              "processed_text         0\n",
              "label                  0\n",
              "annotations            0\n",
              "annotation_approver    0\n",
              "lab_final              0\n",
              "dtype: int64"
            ]
          },
          "metadata": {
            "tags": []
          },
          "execution_count": 85
        }
      ]
    },
    {
      "cell_type": "code",
      "metadata": {
        "id": "wnuTceSmoVyY",
        "colab_type": "code",
        "colab": {
          "base_uri": "https://localhost:8080/",
          "height": 107
        },
        "outputId": "9c3f4b58-7e11-4de8-8780-b3a746dc3898"
      },
      "source": [
        "labeled.columns"
      ],
      "execution_count": 87,
      "outputs": [
        {
          "output_type": "execute_result",
          "data": {
            "text/plain": [
              "Index(['username', 'to', 'text', 'retweets', 'favorites', 'replies', 'id_x',\n",
              "       'permalink', 'author_id', 'date', 'formatted_date', 'hashtags',\n",
              "       'mentions', 'geo', 'urls', 'user_location', 'month', 'processed_text',\n",
              "       'label', 'annotations', 'annotation_approver', 'lab_final'],\n",
              "      dtype='object')"
            ]
          },
          "metadata": {
            "tags": []
          },
          "execution_count": 87
        }
      ]
    },
    {
      "cell_type": "code",
      "metadata": {
        "id": "YXydMrZ9Dbr1",
        "colab_type": "code",
        "colab": {}
      },
      "source": [
        "labeled = labeled.rename(columns={'id_x': 'tweet_id'})"
      ],
      "execution_count": 0,
      "outputs": []
    },
    {
      "cell_type": "code",
      "metadata": {
        "id": "mN_l1HSsD8w9",
        "colab_type": "code",
        "colab": {}
      },
      "source": [
        "labeled.to_csv('labeled.csv', index=False)"
      ],
      "execution_count": 0,
      "outputs": []
    },
    {
      "cell_type": "code",
      "metadata": {
        "id": "Fp_QjgrCpb4V",
        "colab_type": "code",
        "colab": {}
      },
      "source": [
        ""
      ],
      "execution_count": 0,
      "outputs": []
    }
  ]
}