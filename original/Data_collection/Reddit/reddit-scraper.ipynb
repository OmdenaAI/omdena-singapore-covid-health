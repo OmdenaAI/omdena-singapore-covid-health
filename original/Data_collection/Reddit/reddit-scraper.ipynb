{
 "cells": [
  {
   "cell_type": "code",
   "execution_count": 1,
   "metadata": {
    "_cell_guid": "b1076dfc-b9ad-4769-8c92-a6c4dae69d19",
    "_uuid": "8f2839f25d086af736a60e9eeb907d3b93b6e0e5"
   },
   "outputs": [
    {
     "name": "stdout",
     "output_type": "stream",
     "text": [
      "/kaggle/input/top-500-indian-cities/cities_r2.csv\n",
      "/kaggle/input/reddit-scrape-lockdown/pre_lockdown_reddit.csv\n",
      "/kaggle/input/reddit-scrape-lockdown/lockdown_reddit.csv\n"
     ]
    }
   ],
   "source": [
    "# This Python 3 environment comes with many helpful analytics libraries installed\n",
    "# It is defined by the kaggle/python Docker image: https://github.com/kaggle/docker-python\n",
    "# For example, here's several helpful packages to load\n",
    "\n",
    "import numpy as np # linear algebra\n",
    "import pandas as pd # data processing, CSV file I/O (e.g. pd.read_csv)\n",
    "\n",
    "# Input data files are available in the read-only \"../input/\" directory\n",
    "# For example, running this (by clicking run or pressing Shift+Enter) will list all files under the input directory\n",
    "\n",
    "import os\n",
    "for dirname, _, filenames in os.walk('/kaggle/input'):\n",
    "    for filename in filenames:\n",
    "        print(os.path.join(dirname, filename))\n",
    "\n",
    "# You can write up to 5GB to the current directory (/kaggle/working/) that gets preserved as output when you create a version using \"Save & Run All\" \n",
    "# You can also write temporary files to /kaggle/temp/, but they won't be saved outside of the current session"
   ]
  },
  {
   "cell_type": "code",
   "execution_count": 1,
   "metadata": {
    "_cell_guid": "79c7e3d0-c299-4dcb-8224-4455121ee9b0",
    "_uuid": "d629ff2d2480ee46fbb7e2d37f6b5fab8052498a"
   },
   "outputs": [
    {
     "name": "stdout",
     "output_type": "stream",
     "text": [
      "Collecting praw\n",
      "  Downloading https://files.pythonhosted.org/packages/5c/39/17251486951815d4514e4a3f179d4f3e7af5f7b1ce8eaba5a3ea61bc91f2/praw-7.0.0-py3-none-any.whl (143kB)\n",
      "Collecting websocket-client>=0.54.0 (from praw)\n",
      "  Downloading https://files.pythonhosted.org/packages/4c/5f/f61b420143ed1c8dc69f9eaec5ff1ac36109d52c80de49d66e0c36c3dfdf/websocket_client-0.57.0-py2.py3-none-any.whl (200kB)\n",
      "Collecting update-checker>=0.16 (from praw)\n",
      "  Downloading https://files.pythonhosted.org/packages/d6/c3/aaf8a162df8e8f9d321237c7c0e63aff95b42d19f1758f96606e3cabb245/update_checker-0.17-py2.py3-none-any.whl\n",
      "Collecting prawcore<2.0,>=1.3.0 (from praw)\n",
      "  Downloading https://files.pythonhosted.org/packages/61/89/651078078f089c182164efd10d45d3b709b46e4e40b47e63759e76349dc1/prawcore-1.4.0-py3-none-any.whl\n",
      "Requirement already satisfied: six in c:\\users\\sunil\\appdata\\local\\programs\\python\\python36\\lib\\site-packages (from websocket-client>=0.54.0->praw) (1.14.0)\n",
      "Requirement already satisfied: requests>=2.3.0 in c:\\users\\sunil\\appdata\\local\\programs\\python\\python36\\lib\\site-packages (from update-checker>=0.16->praw) (2.23.0)\n",
      "Requirement already satisfied: urllib3!=1.25.0,!=1.25.1,<1.26,>=1.21.1 in c:\\users\\sunil\\appdata\\local\\programs\\python\\python36\\lib\\site-packages (from requests>=2.3.0->update-checker>=0.16->praw) (1.25.9)\n",
      "Requirement already satisfied: idna<3,>=2.5 in c:\\users\\sunil\\appdata\\local\\programs\\python\\python36\\lib\\site-packages (from requests>=2.3.0->update-checker>=0.16->praw) (2.9)\n",
      "Requirement already satisfied: certifi>=2017.4.17 in c:\\users\\sunil\\appdata\\local\\programs\\python\\python36\\lib\\site-packages (from requests>=2.3.0->update-checker>=0.16->praw) (2020.4.5.1)\n",
      "Requirement already satisfied: chardet<4,>=3.0.2 in c:\\users\\sunil\\appdata\\local\\programs\\python\\python36\\lib\\site-packages (from requests>=2.3.0->update-checker>=0.16->praw) (3.0.4)\n",
      "Installing collected packages: websocket-client, update-checker, prawcore, praw\n",
      "Successfully installed praw-7.0.0 prawcore-1.4.0 update-checker-0.17 websocket-client-0.57.0\n"
     ]
    },
    {
     "name": "stderr",
     "output_type": "stream",
     "text": [
      "You are using pip version 18.1, however version 20.2b1 is available.\n",
      "You should consider upgrading via the 'python -m pip install --upgrade pip' command.\n"
     ]
    }
   ],
   "source": [
    "!pip install praw"
   ]
  },
  {
   "cell_type": "code",
   "execution_count": 2,
   "metadata": {},
   "outputs": [],
   "source": [
    "import praw\n",
    "import pandas as pd\n",
    "import datetime as dt"
   ]
  },
  {
   "cell_type": "code",
   "execution_count": 3,
   "metadata": {},
   "outputs": [],
   "source": [
    "# Creating a reddit crawler object \n",
    "reddit = praw.Reddit(client_id='ISXAFnIORvSYVw',\n",
    "                     client_secret='aZByxgoktINt9snO4UyISmsjULE',\n",
    "                     user_agent='covid19',\n",
    "                     username='MohammadAmaan29',\n",
    "                     password='faheemamaan1')"
   ]
  },
  {
   "cell_type": "code",
   "execution_count": 9,
   "metadata": {},
   "outputs": [
    {
     "name": "stdout",
     "output_type": "stream",
     "text": [
      "There is NO ROOM for abuse.Period. Digital Painting.\n",
      "Capitalism and Private firms during covid. Work from home is abused in India.\n",
      "Behind closed doors, the biggest viruses are masked. After the lockdown, domestic violence and Child abuse have reportedly increased.\n",
      "Bait for one, Death for another. But is it justified?The fact is that we all are hypocrites. We abuse animals for our own respective reasons while all they do is trust us. Be it food,work, defence or just mere fun.Let's stop putting fingers at each other and collectively stop animal abuse.\n",
      "Lawyers of India, if I try to file a domestic abuse case against my ex-boyfriend, how bad will it get for me?\n",
      "An old Pakistani friend of mine contacted me last night to just abuse me.\n",
      "Domestic Abuse\n",
      "Chennai man caught on camera hurling casteist abuses at sanitation worker, case filed\n",
      "Manipur girl racially attacked, abused by locals in Gurugram; FIR registered\n",
      "Arnab Goswami abusing interim protection given to him: Maharashtra government to SC\n",
      "Parental Abuse: What to do?\n",
      "Police officer verbally abused me when dropping my sister at her workplace who is a bank officer and is compelled to work in this corona curfew\n",
      "Dear Indians, Do you support the protests across America against the systematic abuse of the Blacks?\n",
      "Malicious Prosecution: A Deep Dive Into Abuse of Power by Police\n",
      "Hindutva Abuse Jeopardises India’s Gulf Ties\n",
      "Emergency! Need to get sister from a abusive home in hyderabad.\n",
      "How did the Indians on this subreddit exposed to narcissistic abuse get through it?\n",
      "Lockdown period saw rise of violence within family family child abuse, says Supreme Court\n",
      "Are temples in India generally known for abusing Elephants they use as religious props?\n",
      "India’s Shocking Lockdown Reality: 92,000 Calls of Child Abuse in 11 Days\n",
      "Family Abused By Neighbour Over Not Lighting Diyas On Sunday Night (Pune)\n",
      "Coronavirus lockdown | Govt. helpline receives 92,000 calls on child abuse and violence in 11 days\n",
      "On Camera, Railway Officer in UP Throws Biscuits at Migrants, Abuses Them\n",
      "'Talked about Sex, Kissed Me': Another Kerala Nun accuses Bishop Franco Mulakkal of sexual abuse. The second nun's statement was given before the police as she is the 14th witness in the case against Franco Mulakkal where he is now out on bail.\n",
      "Hyderabad: 30-year-old man rapes baby calf; eyewitness says abuse going on for years\n",
      "Advice - What are the Indian laws against parental abuse by son?\n",
      "Pakistan’s child sexual abuse numbers better than India’s\n",
      "Our legitimate needs for safe workplaces have to be met. Abuse and violence should stop immediately. White Alert to the nation - All doctors and hospitals to light a candle at 9pm on 22 April, as protest and vigil: Indian Medical Association.\n",
      "Doctor abuses nurse for demanding PPE kit; video goes viral\n",
      "Indian vlogger based in Thailand has uploaded a video of him committing possible child abuse.\n",
      "My cousin is a sexual abuser. Do I confront him?\n",
      "Lockdown: Government helpline receives 92,000 calls on abuse and violence in 11 days\n",
      "Migrant woman in Bihar coronavirus isolation ward sexually abused, dies | Deccan Herald\n",
      "How to deal with an abusive father?\n",
      "My European friend abused in India\n",
      "According to a study, 52.94% of Indian boys have been abused? Have you ever been a victim?\n",
      "COVID-19 Relief for Survivors of Gender-Based Violence & Child Sexual Abuse\n",
      "Does Bollywood’s Depiction of Cops Normalise Police Brutality?\n",
      "This Guy is Rescuing Foreigners Who’ve Been Stranded and Abused During the Indian Lockdown\n",
      "The Resident Doctors’ Association at AIIMS Bhopal has written a letter to the Director of the institute regarding \"abusive behaviour and physical assault by policemen on resident on-duty doctors\".\n",
      "COVID-19, Domestic Abuse and Violence: Where Do Indian Women Stand?\n",
      "Why I’m Protesting the Indian Government’s Abuses Against Muslims\n",
      "Kerala priest to spend 20 years in Jail ror raping, impregnating minor. The priest, 51, has been sentenced to 60 years in jail in three different cases of rape and abuse of minor girls, but will be in jail for 20 years as the charges are concurrent.\n",
      "IndiGo Pilot Suspended For Abusing, Threatening Passenger In Wheelchair\n",
      "In the midst of ever-increasing police brutality and abuse of power by the policemen, do you folks think that it might be a good idea to introduce body-cam (with the video footage being made available to the general public under RTI) to curb their 'violent streak' and hold them accountable?\n",
      "Government helpline receives 92,000 calls in 11 days for child abuse and violence\n",
      "Most online content on child sexual abuse from India\n",
      "Muslim COVID patients should be killed, Kanpur doctor insist\n",
      "How and when did being a liberal and/or a secular become a bad thing?\n",
      "Quarantine caste abuse complaint\n",
      "Horrific experience of a classmate at Koramangala Police Station, Bangalore\n",
      "Kashmiri Boy Dies After Being Attacked, Abused By Mob in Rajasthan\n",
      "Locked down with their abusers: India's domestic violence surge\n",
      "‘Are you a Pakistani?’: B’luru cops allegedly abuse, thrash Kerala youths in custody\n",
      "UP police ad in todays paper. Progressive, but i am afraid many disgruntled middle aged people will abuse this and police hours will be wasted\n",
      "Abused, Stopped From Selling Vegetables, Allege Muslim Vendors In UP\n",
      "(Feb, 2019) Woman, who married Gujarat man for their love for PM Modi, accuses husband of torture, abuse\n",
      "Bushra Sheikh, Journalist: I came here for BBC's coverage, they (police) took away my phone,broke it.A male police personnel pulled my hair.They hit me with a baton&when I asked them for my phone they hurled abuses at me.I didn't come here for fun,I came here for coverage\n",
      "Wife threatens, abuses husband for not allowing her to use his bathroom\n",
      "Historian @Ram_Guha in #bengaluru addresses cheering students: “Would urge the students to be non-violent. We are now against the authoritarianism of the Right but we have to be mindful of Left authoritarianism as well. Don’t use abusive rhetoric but be critical.”\n",
      "What can a teenager who is born in an abusive/violent/annoying/irrational household do to live a free life?\n",
      "Imposing Section 144 in Karnataka and in Uttar Pradesh is Illegal and Abuse of Law, say Legal Experts\n",
      "WTF is up with police brutality in India?\n",
      "As India Violence Gets Worse, Police Are Accused of Abusing Muslims\n",
      "Students, Alumni From 19 Foreign Universities Including Harvard And Yale Express Solidarity With Aligarh And Jamia Students; Seeks Independent Probe Into Abuse Of Power By Police\n",
      "Clear abuse of sedition law: Former Supreme Court judge\n",
      "Fuck your mother fucking ivory towers\n",
      "95 Indian women politicians received one million abusive Tweets in three months: Amnesty study\n",
      "The driver of the car I was in verbally abused a poor person with a l young daughter and I did nothing to stop\n",
      "Guys. I think something is wrong with me.\n",
      "Social media is propagating views of extremists faster. #boislockerroom\n",
      "Why is Carryminati so hyped\n",
      "This 71-year-old former IIT professor braves nasty abuse and bitter hate as he walks around Delhi distributing pamphlets that educate people on issues such as Kashmir, NRC and Ayodhya.\n",
      "‘Jail was a relief, I had been in a concentration camp’: Sadaf Jafar on her time in police custody After being arrested for protesting peacefully, Jafar said she was abused, kicked, and slapped by police officers and denied sanitary napkins.\n",
      "Intolerant India , you get abused for following the rules\n",
      "83% drop in rape cases in Delhi during lockdown\n",
      "In Solapur, hunger, heat kills old couple; mentally challenged son informed locals, but nobody believed him\n",
      "Is this still a reality about Domestic Violence in the 21st century?\n",
      "Coronavirus lockdown in India: ‘Beaten and abused for doing my job’\n",
      "Advice and a Word of Caution for Indians thinking About the Student Route to Immigrate to Canada\n",
      "December 2012 gang-rape convict tells SC he was sexually abused in prison\n",
      "When Home Is Unsafe: Abusive Men Put Women at Risk During Lockdown\n",
      "Bidar school faces sedition charge for ‘abusing’ PM Modi in anti-CAA play\n",
      "Did nothing but abuse me: Arvind Kejriwal on Amit Shah's Delhi rally\n",
      "Did Nothing but Abuse Me: Kejriwal on Shah Rally\n",
      "The 'Bois Locker Room' Chat Exposes India's Rape Culture, and How It Starts so Young\n",
      "Where tf is the outrage?\n",
      "My Experience at Byjus\n",
      "Why do men's rights activists blame women and feminism?\n",
      "Three Women Tonsured, Paraded Half-Naked In Bihar On Suspicion Of Being Witches made to eat faeces.\n",
      "Youth kills self after being thrashed, forced to drink urine by Dalits in MP\n",
      "India: Mounting Human Rights Abuses\n",
      "Ragging, Hooliganism and Physical and mental abuse by seniors and authorities inside a private tier-4 Engineering college in West Bengal.\n",
      "Unpopular Opinion : The overwhelming number of dislikes on Kamra's latest roast is reflective of how low the collective IQ of our nation is.\n",
      "This is about Indian parents....... (please read)\n",
      "'Abuse of Power, Gross Negligence by Police': Bidar Defense Lawyer | The Quint\n",
      "Kerala: 12 Minor girls sexually abused by teacher for four months, colleagues label paedophilia 'fatherly love'\n",
      "Off My Chest: Shit my family says during Lockdown.\n",
      "RWA uncles, please calm down about Aarogya Setu\n",
      "Bengaluru man sexually abuses daughter, wife stays mum due to 'social stigma'\n"
     ]
    },
    {
     "name": "stdout",
     "output_type": "stream",
     "text": [
      "No jobs for us: Haryana men thrashed by sisters say clean chit for sexual abuse hasn’t helped. Deepak, Kuldeep and Mohit were accused by two sisters, labelled the ‘Rohtak bravehearts’, of sexual harassment in a Haryana Roadways bus. [Oct. '18]\n",
      "I salute to that policeman!\n",
      "Schools ‘rarely report’ child sexual abuse to avoid stigma, says Mumbai court\n",
      "When India’s government abuses power, the media cheer\n",
      "Gurugram school boy commits suicide after girl levels allegations on him on Instagram\n",
      "Kerala: Sister Lucy lays bare sexual abuse by priests\n",
      "IndiGo pilot de-rostered after complaint of abuse from passenger\n",
      "how do you deal with an abusive mother? (If you have one like that)\n",
      "Guys of r/india. Respond to this post with \"Yes?\" and I'll ask you a sensitive/taboo questions regarding women issues in our society and get to know your male perspective towards it.\n",
      "Indian media used to call out Congress’ abuse of power. Now it legitimises lies of BJP-RSS\n",
      "Scolded by parents for playing PUBG, 12-year-old kills self in Punjab\n",
      "How Savitribai Phule, India's first female teacher, dealt with abusers hell bent on preventing her from educating girls\n",
      "Congress Leader Adhir Ranjan Chowdhury's Office Vandalised, Staff Abused\n",
      "'Repetitive Use Of Section 144 Abuse Of Power': Top Court In J&K Verdict\n",
      "‘Abuse’ of RTI has led to ‘paralysis and fear’ among officials, says CJI Bobde\n",
      "Twitter Accuses Akshay of Abusing Lord Ram in Good Newwz Dialogue\n",
      "Lets discuss the truth here about Byju's, How it works and is this app giant is really teaching their BDA how to cheat a parent with their famous one hour pitch ?\n",
      "Stuck in a position where i don't want to live and not die either( waiting for movement when lockdown ends, so I can end myself)\n",
      "‘Working for China?’: Maneka Gandhi slams TikTok over animal cruelty videos on platform\n",
      "5 Kerala nuns join protest demanding justice for 2 sisters found hanging. Three men, accused of alleged abuse and murder of the sisters, were acquitted last month, sending shockwaves across the state as the post-mortem report of the 9-year-old showed evidence of unnatural sex.\n",
      "Woman asks man to give way on road. He punches, abuses her in Delhi's posh Sainik Farms\n",
      "\"Paatal lok\" appreciation thread. (Spoiler alert)\n",
      "Raped repeatedly by uncles, Haryana woman accuses parents of giving consent to abuse\n",
      "UP: Child raped by teenager who took her to buy sweets\n",
      "India Prime Minister Modi faces Houston federal lawsuit for alleged human rights abuses in Kashmir\n",
      "Two episodes down, here is what I think about Pataal Lok.\n",
      "CRPF Commando Chained At Police Station For Allegedly Not Wearing Mask\n",
      "Colorism/casteism != racism?\n",
      "My patriotism vs my experiences\n",
      "Maharashtra minister Jitendra Awhad tests positive for Covid-19\n",
      "Passive aggressive.\n",
      "Solve my family dispute!\n",
      "Advice needed for my sanity\n",
      "Tamil Nadu: Owner of Korean guesthouse abuses Indian workers, booked\n",
      "It has been 6 years of Bjp. Vote Are you happy with Bjp governance?\n",
      "#boislockerroom Updates\n",
      "People with abusive fathers, how did you deal with it?\n",
      "Funerals are weird and most of them straight up abusive\n",
      "The futility of the Modi Government\n",
      "I need some guidance or direction.\n",
      "Abused, intimidated, attacked with excreta: Masjid advocate recounts horror during Ayodhya trial\n",
      "Finance company threatening to pay someone else's Credit card bill because our names are similar\n",
      "A story about my father - why i think 90% of geniuses and hidden gems in India are never found.\n",
      "Hard Kaur posts video abusing PM Narendra Modi and Amit Shah. Twitter suspends her account\n",
      "So considering all the BLM stuff happening in the US. When do you think India will deal with its own biases (Keep it civil and have thoughful responses)?\n",
      "109 children sexually abused every day in India in 2018: National Crime Record Bureau\n",
      "state government being dependent on alcohol sales revenue makes it an incentive for them to not take alcoholism seriously\n",
      "Random Daily Discussion Thread - April 16, 2020 at 09:15AM\n",
      "Musings of a bored quarantined doctor.\n",
      "Any /r/childfree folks here?\n",
      "What does the Indian government do about human rights abuses against Indians mainly in the middle East?\n",
      "Tourist visa scam traps Indian workers in abusive jobs in UAE: Increasing number of migrant workers hired on tourist visa face abuse.\n",
      "India’s most abused taxpayers\n",
      "India's most abused taxpayers\n",
      "Coming out as gay to catholic parents\n",
      "How do I get my sibling admitted to a hospital for his schizophrenia episode?\n",
      "Man arrested in Malappuram for allegedly sexually abusing his four minor daughters\n",
      "Don't let church investigate sexual abuse cases in churches, says petition to PM Modi\n",
      "Muslim youth thrashed, sodomised using iron rod in Rajasthan's Barmer\n",
      "Paatal Lok Review: Is This Prime's Sacred Games? No, It Is More\n",
      "A thread on police brutality and apathy in the wake of lock down due to COVID-19\n",
      "Madhya Pradesh: After his BJP entry, forgery case against Jyotiraditya Scindia closed\n",
      "UP Bride Kicks Out Groom Who Abused Women at Wedding, Makes Him Return Rs 10 Lakh Dowry\n",
      "Rajasthan: 3-year-old girl found bleeding; was raped by 20-year-old youth in Bharatpur\n",
      "Group of drug addicts in Punjab village contracts AIDS, Hepatitis after using same needle. A group of 16 youths in Punjab has been infected with HCV and AIDS after using the same needle for drug abuse.\n",
      "Indian school teachers and sadism\n",
      "Chennai woman kills friend's dad over alleged abuse: Why right to private defence won't apply\n",
      "Young confused Indian Men\n",
      "SC Says RTI Being Used for Blackmail, Transparency Law Should Have Filters to Stop ‘Abuse’\n",
      "I'm going crazy sitting inside my house.\n",
      "Can we separate the art from the artist? Sexual abuse allegations against Nagarjun revive the old debate How do we reconcile the edifying warmth of poetic greatness with the rude jolt of human depravity?\n",
      "I had a revelation and it changed everything. I'm calling this revelation, The Law Of Victims and winner.\n",
      "Was abused by my senior,filed a complain\n",
      "Airtel is a money grubbing corporation with no concern for customer welfare. I need help with these two problems that they have currently created.\n",
      "Discussion of male sexual abuse in India.\n",
      "Andhra Pradesh: Woman held for sexually abusing minor girls using toys, husband commits suicide\n",
      "Need help. Need to move on.\n",
      "What do you mean by \"Brahmanical Patriarchy\"?\n",
      "Fed up of His Alcoholism and Physical Abuse, Telangana Parents Burn 42-year-old Son Alive\n",
      "Gurgaon: Man masturbates, hurls abuses at woman outside metro station; FIR registered. When she realised that the man had masturbated on her, the woman slapped him, who charged back at her with abuses. Even as she shouted and called for help, the man fled the spot, once again flashing at her.\n",
      "10-Year Old Video Of Pakistan Army Abuse Falsely Shared As Indian Army Beating up Kashmirs\n",
      "Court sends back Kerala minor to family, she was abused with mom's consent in theatre. In a total of 3 POCSO cases where parents or close kin of the victims have been named accused, the court has granted custody of the minors to family members.\n",
      "I have questions that my parents either can't answer or just won't. So, just posting them here.\n",
      "Male teacher held for sexually abusing boy with autism. The boy told his speech therapist about the abuse. He had not told his mother as Santhosh had threatened the boy that he would kill his mother if he told her about the abuse.\n",
      "Twitter is India’s Hutu Rwanda Radio\n",
      "Delhi man killed by brother in front of mother for drug abuse\n",
      "Dalit MLA from AP visits Ganesh pandal, faces casteist abuses for ‘polluting’ deity\n",
      "Update: 2 spammy sites have now filed fraudulent DMCA notices using impersonating site & MY name\n",
      "Reality Check Rant for the Indian Middle-Class Boy trying to ignore reality for too long? (Modi, CAA NRC, BJP, Indira Gandhi)\n",
      "Never Forget Never Forgive\n",
      "'Marry him or take money': TN govt lawyer accused of threatening child sexual abuse victims. The families of two survivors have approached the Tiruvallur SP to complain against Dhanalakshmi ML, who has allegedly threatened them to drop cases.\n",
      "Went for John Wick 3... Got abused and falsely accused.\n",
      "Violence Against Women At Home On The Rise Amidst Lockdown | CNN News18\n",
      "From inserting chilli into private parts to beatings, all sorts of abuses occurred in Delhi shelter homes: Tata Institute of Social Sciences (TISS). [25th Oct.]\n",
      "Weekly Mental Health Support & Discussion Thread\n",
      "#WATCH: A man slaps Delhi Chief Minister Arvind Kejriwal during his roadshow in Moti Nagar area. (Note: Abusive language)\n",
      "My Narcissistic Ex falsely claimed I physically assaulted her on social media (with backstory)\n",
      "I live in Hyderabad and I'm bored as F so can I take lockdown pass and travel by train or private vehicle and visit a beach and chill for a day or two then go back to Hyd?\n",
      "Need help for a divorcee NRI friend who is being mentally abused by ex-husband in India\n",
      "How to legally leave abusive father in India ?\n"
     ]
    },
    {
     "name": "stdout",
     "output_type": "stream",
     "text": [
      "71 year old braves hate and abuse as he goes around Delhi explaining issues like NRC, Kashmir and Ayodhya\n",
      "Hyderabad: After his brother drowned while trying to save a suicide victim, Shiva has saved 110 people\n",
      "Derek O'Brien Shares Sex Abuse Story, Smriti Irani Praises His Courage\n",
      "[SEMI RANT] Indian society in the 90’s vs Indian society today(2020)\n",
      "My write up on the CAA\n",
      "‘He urinated on me,’ wife of senior UP govt official reports abuse, writes to PM\n",
      "Why Arabs are speaking out against Islamophobia in India\n",
      "Indian Family on Vacation in Ireland 'Racially Abused' by Beer-gulping Man on Train to Dublin\n",
      "With all the police brutality at show during the times of this pandemic I wonder if these police men should really be in police. There should not be any harrasment from the police when the public needs their support.\n",
      "Boy and Girl Thrashed, Tied to Poles and Abused After MP Villagers Mistake Them for Lovers. No police action could be taken for at least two days after the incident as elders from both villages got the matter settled for Rs 90,000 and two goats.\n",
      "Why are most of the standup comedians non-bhakts?\n",
      "The Epidemic of Locker Room Boys\n",
      "My experience attending a protest for the first time as a 17 y/o:\n",
      "Delhi: Parents kill 25-year-old for marrying in same ‘gotra’\n",
      "What are my options\n",
      "People of R/India. Let’s talk about Narcissistic personality disorder and abusive relationships. I have put my experience here. Would like know other people experiences and how things went and how they recovered.\n",
      "Need help. Friend into drug abuse and possibly feeling suicidal.\n",
      "[R]What's with people hurling insults and abuses at everyone, but hating it when they get some of it dished back at them?\n",
      "Question regarding e-pass and formalities (TN)\n",
      "A realistic view?\n",
      "In 2017, 2 girls were abused. 2 years on, Kerala court acquits 3 accused. At the time of the younger sister's death police said both girls had become victims of sexual abuse. Cases of unnatural death were registered with charges of rape and unnatural sex added later\n",
      "Obviously she doesn't mean \"All Men\" are trash.\n",
      "Weekly Mental Health Support & Discussion Thread\n",
      "Man arrested in Madhya Pradesh for abusing CM Kamal Nath in Facebook post over power cuts\n",
      "Man gives triple talaq to wife over complaint of sexual abuse\n",
      "Need some legal advice\n",
      "Why do so many Indians like to believe their parents are progressive and liberal, when they’re not?\n",
      "The Internet Should Not Become a Boys Club\n",
      "Pro-right Twitter user Mahesh Hegde heckled at Mangalore airport by 3 girls, asked to sing ‘Vande Mataram’\n",
      "Govt's decision to force RBI to open it's string and payout ₹1.76lakh Crores way back in 2019. What do you guys think about it now..?\n",
      "A male adult survivor of child sexual abuse speaks out: How silencing feeds the cycle of trauma\n",
      "Kerala government schools become a boon for migrants. Kerala’s literacy mission has introduced a new scheme ‘Changathi’ (friend) to target illiterate migrant labourers and its planners say it is doing wonders.\n",
      "Weekly Mental Health Support & Discussion Thread\n",
      "Help: abusing wife/in-laws\n",
      "So my abusive dad just pulled out a knife in a heated argument. Is this OK?\n",
      "Abuses Ambedkar Caravan founder faces every day: Clean my toilet, you belong to gutter\n",
      "Abused for painting nudes, Chennai-based artist firm on continuing her art\n",
      "Arsenal club ambassador Esha Gupta (Indian actress/model) racially abuses Iwobi after Arsenal was knocked out of the F.A cup\n",
      "Today I just lost all my school friends with whom I grew up.\n",
      "I am in 2nd year in Enginnering with an abusive and manipulative father. Please help\n",
      "Indian Parents: Level of legal control\n",
      "India needs to abolish death penalty, and not hang 2012 Delhi gangrape convicts\n",
      "why are so many indians and sri lankans so arrogant?\n",
      "Weekly Mental Health Support & Discussion Thread\n",
      "Kerala Christian priest held for allegedly sexually abusing boys for over six months. Father George TJ, alias Jerry, was allegedly abusing six minors at a boys’ home in Kochi, which he was heading.\n",
      "'Sedition Law Most Abused Today, Criticism Against Govt. In Power Does Not Make Any One Less Patriotic': Justice Deepak Gupta\n",
      "Total Chaos in Indore (becoming centre of Coronavirus)\n"
     ]
    },
    {
     "data": {
      "text/html": [
       "<div>\n",
       "<style scoped>\n",
       "    .dataframe tbody tr th:only-of-type {\n",
       "        vertical-align: middle;\n",
       "    }\n",
       "\n",
       "    .dataframe tbody tr th {\n",
       "        vertical-align: top;\n",
       "    }\n",
       "\n",
       "    .dataframe thead th {\n",
       "        text-align: right;\n",
       "    }\n",
       "</style>\n",
       "<table border=\"1\" class=\"dataframe\">\n",
       "  <thead>\n",
       "    <tr style=\"text-align: right;\">\n",
       "      <th></th>\n",
       "      <th>title</th>\n",
       "      <th>score</th>\n",
       "      <th>id</th>\n",
       "      <th>url</th>\n",
       "      <th>comms_num</th>\n",
       "      <th>created</th>\n",
       "      <th>body</th>\n",
       "      <th>timestamp</th>\n",
       "    </tr>\n",
       "  </thead>\n",
       "  <tbody>\n",
       "    <tr>\n",
       "      <th>0</th>\n",
       "      <td>There is NO ROOM for abuse.Period. Digital Pai...</td>\n",
       "      <td>3139</td>\n",
       "      <td>gfoc94</td>\n",
       "      <td>https://i.redd.it/xfvcce15rhx41.jpg</td>\n",
       "      <td>328</td>\n",
       "      <td>1.588951e+09</td>\n",
       "      <td></td>\n",
       "      <td>2020-05-08 20:57:12</td>\n",
       "    </tr>\n",
       "    <tr>\n",
       "      <th>1</th>\n",
       "      <td>Capitalism and Private firms during covid. Wor...</td>\n",
       "      <td>282</td>\n",
       "      <td>gsmest</td>\n",
       "      <td>https://www.reddit.com/r/india/comments/gsmest...</td>\n",
       "      <td>86</td>\n",
       "      <td>1.590757e+09</td>\n",
       "      <td>My friend works from 8:30 to 17:30. Meanwhile ...</td>\n",
       "      <td>2020-05-29 18:47:13</td>\n",
       "    </tr>\n",
       "    <tr>\n",
       "      <th>2</th>\n",
       "      <td>Behind closed doors, the biggest viruses are m...</td>\n",
       "      <td>1126</td>\n",
       "      <td>fzzzji</td>\n",
       "      <td>https://i.redd.it/dc1v110v0fs41.jpg</td>\n",
       "      <td>172</td>\n",
       "      <td>1.586738e+09</td>\n",
       "      <td></td>\n",
       "      <td>2020-04-13 06:25:34</td>\n",
       "    </tr>\n",
       "    <tr>\n",
       "      <th>3</th>\n",
       "      <td>Bait for one, Death for another. But is it jus...</td>\n",
       "      <td>55</td>\n",
       "      <td>gx7zv5</td>\n",
       "      <td>https://i.redd.it/dv07s7qsd4351.jpg</td>\n",
       "      <td>15</td>\n",
       "      <td>1.591404e+09</td>\n",
       "      <td></td>\n",
       "      <td>2020-06-06 06:24:05</td>\n",
       "    </tr>\n",
       "    <tr>\n",
       "      <th>4</th>\n",
       "      <td>Lawyers of India, if I try to file a domestic ...</td>\n",
       "      <td>47</td>\n",
       "      <td>gvzj3d</td>\n",
       "      <td>https://www.reddit.com/r/india/comments/gvzj3d...</td>\n",
       "      <td>16</td>\n",
       "      <td>1.591238e+09</td>\n",
       "      <td>My ex-boyfriend (2 year relationship) is from ...</td>\n",
       "      <td>2020-06-04 08:14:50</td>\n",
       "    </tr>\n",
       "    <tr>\n",
       "      <th>...</th>\n",
       "      <td>...</td>\n",
       "      <td>...</td>\n",
       "      <td>...</td>\n",
       "      <td>...</td>\n",
       "      <td>...</td>\n",
       "      <td>...</td>\n",
       "      <td>...</td>\n",
       "      <td>...</td>\n",
       "    </tr>\n",
       "    <tr>\n",
       "      <th>95</th>\n",
       "      <td>'Abuse of Power, Gross Negligence by Police': ...</td>\n",
       "      <td>26</td>\n",
       "      <td>f89492</td>\n",
       "      <td>https://youtu.be/vRU_orJtOFg</td>\n",
       "      <td>1</td>\n",
       "      <td>1.582491e+09</td>\n",
       "      <td></td>\n",
       "      <td>2020-02-24 02:42:22</td>\n",
       "    </tr>\n",
       "    <tr>\n",
       "      <th>96</th>\n",
       "      <td>Kerala: 12 Minor girls sexually abused by teac...</td>\n",
       "      <td>331</td>\n",
       "      <td>e3r551</td>\n",
       "      <td>https://in.news.yahoo.com/kerala-minor-girls-s...</td>\n",
       "      <td>25</td>\n",
       "      <td>1.575120e+09</td>\n",
       "      <td></td>\n",
       "      <td>2019-11-30 19:00:09</td>\n",
       "    </tr>\n",
       "    <tr>\n",
       "      <th>97</th>\n",
       "      <td>Off My Chest: Shit my family says during Lockd...</td>\n",
       "      <td>322</td>\n",
       "      <td>giwias</td>\n",
       "      <td>https://www.reddit.com/r/india/comments/giwias...</td>\n",
       "      <td>91</td>\n",
       "      <td>1.589395e+09</td>\n",
       "      <td>This is all 100% real and half the time I cann...</td>\n",
       "      <td>2020-05-14 00:17:42</td>\n",
       "    </tr>\n",
       "    <tr>\n",
       "      <th>98</th>\n",
       "      <td>RWA uncles, please calm down about Aarogya Setu</td>\n",
       "      <td>339</td>\n",
       "      <td>gujtdp</td>\n",
       "      <td>https://www.reddit.com/r/india/comments/gujtdp...</td>\n",
       "      <td>25</td>\n",
       "      <td>1.591044e+09</td>\n",
       "      <td>https://preview.redd.it/r6qpmj5rla251.png?widt...</td>\n",
       "      <td>2020-06-02 02:17:08</td>\n",
       "    </tr>\n",
       "    <tr>\n",
       "      <th>99</th>\n",
       "      <td>Bengaluru man sexually abuses daughter, wife s...</td>\n",
       "      <td>137</td>\n",
       "      <td>drfc20</td>\n",
       "      <td>https://www.timesnownews.com/mirror-now/crime/...</td>\n",
       "      <td>29</td>\n",
       "      <td>1.572889e+09</td>\n",
       "      <td></td>\n",
       "      <td>2019-11-04 23:18:56</td>\n",
       "    </tr>\n",
       "  </tbody>\n",
       "</table>\n",
       "<p>100 rows × 8 columns</p>\n",
       "</div>"
      ],
      "text/plain": [
       "                                                title  score      id  \\\n",
       "0   There is NO ROOM for abuse.Period. Digital Pai...   3139  gfoc94   \n",
       "1   Capitalism and Private firms during covid. Wor...    282  gsmest   \n",
       "2   Behind closed doors, the biggest viruses are m...   1126  fzzzji   \n",
       "3   Bait for one, Death for another. But is it jus...     55  gx7zv5   \n",
       "4   Lawyers of India, if I try to file a domestic ...     47  gvzj3d   \n",
       "..                                                ...    ...     ...   \n",
       "95  'Abuse of Power, Gross Negligence by Police': ...     26  f89492   \n",
       "96  Kerala: 12 Minor girls sexually abused by teac...    331  e3r551   \n",
       "97  Off My Chest: Shit my family says during Lockd...    322  giwias   \n",
       "98    RWA uncles, please calm down about Aarogya Setu    339  gujtdp   \n",
       "99  Bengaluru man sexually abuses daughter, wife s...    137  drfc20   \n",
       "\n",
       "                                                  url  comms_num  \\\n",
       "0                 https://i.redd.it/xfvcce15rhx41.jpg        328   \n",
       "1   https://www.reddit.com/r/india/comments/gsmest...         86   \n",
       "2                 https://i.redd.it/dc1v110v0fs41.jpg        172   \n",
       "3                 https://i.redd.it/dv07s7qsd4351.jpg         15   \n",
       "4   https://www.reddit.com/r/india/comments/gvzj3d...         16   \n",
       "..                                                ...        ...   \n",
       "95                       https://youtu.be/vRU_orJtOFg          1   \n",
       "96  https://in.news.yahoo.com/kerala-minor-girls-s...         25   \n",
       "97  https://www.reddit.com/r/india/comments/giwias...         91   \n",
       "98  https://www.reddit.com/r/india/comments/gujtdp...         25   \n",
       "99  https://www.timesnownews.com/mirror-now/crime/...         29   \n",
       "\n",
       "         created                                               body  \\\n",
       "0   1.588951e+09                                                      \n",
       "1   1.590757e+09  My friend works from 8:30 to 17:30. Meanwhile ...   \n",
       "2   1.586738e+09                                                      \n",
       "3   1.591404e+09                                                      \n",
       "4   1.591238e+09  My ex-boyfriend (2 year relationship) is from ...   \n",
       "..           ...                                                ...   \n",
       "95  1.582491e+09                                                      \n",
       "96  1.575120e+09                                                      \n",
       "97  1.589395e+09  This is all 100% real and half the time I cann...   \n",
       "98  1.591044e+09  https://preview.redd.it/r6qpmj5rla251.png?widt...   \n",
       "99  1.572889e+09                                                      \n",
       "\n",
       "             timestamp  \n",
       "0  2020-05-08 20:57:12  \n",
       "1  2020-05-29 18:47:13  \n",
       "2  2020-04-13 06:25:34  \n",
       "3  2020-06-06 06:24:05  \n",
       "4  2020-06-04 08:14:50  \n",
       "..                 ...  \n",
       "95 2020-02-24 02:42:22  \n",
       "96 2019-11-30 19:00:09  \n",
       "97 2020-05-14 00:17:42  \n",
       "98 2020-06-02 02:17:08  \n",
       "99 2019-11-04 23:18:56  \n",
       "\n",
       "[100 rows x 8 columns]"
      ]
     },
     "execution_count": 9,
     "metadata": {},
     "output_type": "execute_result"
    }
   ],
   "source": [
    "# Creating and crawling a particular subreddit\n",
    "\n",
    "subreddit = reddit.subreddit('india')\n",
    "for post in subreddit.search('abuse',limit=500):\n",
    "    print(post.title)\n",
    "topics_dict = {\"title\":[],\n",
    "               \"score\":[],\n",
    "               \"id\":[], \"url\":[],\n",
    "               \"comms_num\": [],\n",
    "               \"created\": [],\n",
    "               \"body\":[]}\n",
    "for submission in subreddit.search('abuse',limit=100):\n",
    "    topics_dict[\"title\"].append(submission.title)\n",
    "    topics_dict[\"score\"].append(submission.score)\n",
    "    topics_dict[\"id\"].append(submission.id)\n",
    "    topics_dict[\"url\"].append(submission.url)\n",
    "    topics_dict[\"comms_num\"].append(submission.num_comments)\n",
    "    topics_dict[\"created\"].append(submission.created)\n",
    "    topics_dict[\"body\"].append(submission.selftext)\n",
    "    \n",
    "abuse_data = pd.DataFrame(topics_dict)\n",
    "def get_date(created):\n",
    "    return dt.datetime.fromtimestamp(created)\n",
    "_timestamp = abuse_data[\"created\"].apply(get_date)\n",
    "abuse_data = abuse_data.assign(timestamp = _timestamp)\n",
    "abuse_data"
   ]
  },
  {
   "cell_type": "markdown",
   "metadata": {},
   "source": [
    "# Subreddit Object\n",
    "\n",
    "We will now create a custom scrape_subreddit object that will help us group all the functions and scrape a subreddit"
   ]
  },
  {
   "cell_type": "code",
   "execution_count": 10,
   "metadata": {},
   "outputs": [],
   "source": [
    "class scrape_subreddit:\n",
    "    def __init__(self,reddit,subred,tag,no_of_results):\n",
    "        self.name = subred\n",
    "        self.dataframe = None\n",
    "        self.subreddit = reddit.subreddit(subred)\n",
    "        self.tag = tag\n",
    "        self.no_of_results=no_of_results\n",
    "        self.topics_dict = {\"title\":[],\n",
    "               \"score\":[],\n",
    "               \"id\":[], \"url\":[],\n",
    "               \"comms_num\": [],\n",
    "               \"created\": [],\n",
    "               \"body\":[]}\n",
    "        \n",
    "    def scrape_data(self):\n",
    "        for submission in self.subreddit.search(self.tag,limit=self.no_of_results):\n",
    "            self.topics_dict[\"title\"].append(submission.title)\n",
    "            self.topics_dict[\"score\"].append(submission.score)\n",
    "            self.topics_dict[\"id\"].append(submission.id)\n",
    "            self.topics_dict[\"url\"].append(submission.url)\n",
    "            self.topics_dict[\"comms_num\"].append(submission.num_comments)\n",
    "            self.topics_dict[\"created\"].append(submission.created)\n",
    "            self.topics_dict[\"body\"].append(submission.selftext)\n",
    "        return self.topics_dict\n",
    "    \n",
    "    def get_dataframe(self):\n",
    "        self.dataframe = pd.DataFrame(self.scrape_data())\n",
    "        self.temp_timestamp = self.dataframe[\"created\"].apply(lambda x : dt.datetime.fromtimestamp(x))\n",
    "        self.dataframe = self.dataframe.assign(timestamp = self.temp_timestamp)\n",
    "        self.dataframe['year'] = self.dataframe['timestamp'].apply(lambda x : x.year)\n",
    "        self.dataframe['month'] = self.dataframe['timestamp'].apply(lambda x : x.month)\n",
    "        self.dataframe['day'] = self.dataframe['timestamp'].apply(lambda x : x.day)\n",
    "        self.dataframe['time'] = self.dataframe['timestamp'].apply(lambda x : x.time())\n",
    "        self.dataframe.drop(['timestamp'],axis=1,inplace=True)\n",
    "        self.dataframe = self.dataframe.drop_duplicates(subset='title',keep=\"first\")\n",
    "        return self.dataframe\n",
    "    \n",
    "    def get_lockdown_data(self):\n",
    "        self.dataframe = self.get_dataframe()\n",
    "        self.dataframe = self.dataframe.loc[(self.dataframe['year']==2020) & (self.dataframe['month']>2),:]\n",
    "        self.dataframe.reset_index(inplace=True)\n",
    "        return self.dataframe\n",
    "    \n",
    "    def get_pre_lockdown_data(self):\n",
    "        self.dataframe = self.get_dataframe()\n",
    "        self.dataframe = self.dataframe.loc[(self.dataframe['year']<=2020) & (self.dataframe['month']<3),:]\n",
    "        self.dataframe.reset_index(inplace=True)\n",
    "        return self.dataframe\n",
    "            \n",
    "                "
   ]
  },
  {
   "cell_type": "code",
   "execution_count": 11,
   "metadata": {},
   "outputs": [],
   "source": [
    "def scrape(reddit,subreddit,tag,limit):\n",
    "    reddit = reddit\n",
    "    scrape_object = scrape_subreddit(reddit,subreddit,tag,limit)\n",
    "    pre_lockdown_data = scrape_object.get_pre_lockdown_data()\n",
    "    lockdown_data = scrape_object.get_lockdown_data()\n",
    "    return pre_lockdown_data,lockdown_data"
   ]
  },
  {
   "cell_type": "markdown",
   "metadata": {},
   "source": [
    "# Scraping the Subreddits\n",
    "\n",
    "## 1. r/india\n",
    "\n",
    "### We'll scrape the subreddit r/india since we only need indian data\n",
    "\n",
    "### We'll also scrape popular subreddits like r/relationship_advice,r/relationships and r/relationships\n",
    "\n",
    "## 2. Other subreddits\n",
    "### Since some subreddits are specific to violence types, we'll scrape them using the keyword 'india'"
   ]
  },
  {
   "cell_type": "markdown",
   "metadata": {},
   "source": [
    "## r/india"
   ]
  },
  {
   "cell_type": "markdown",
   "metadata": {},
   "source": [
    "### 1. Abuse"
   ]
  },
  {
   "cell_type": "code",
   "execution_count": 12,
   "metadata": {},
   "outputs": [
    {
     "name": "stdout",
     "output_type": "stream",
     "text": [
      "Number of data points in abuse_pre_data i.e, before lockdown : 33\n",
      "Number of data points in abuse_lockdown_data : 144\n"
     ]
    }
   ],
   "source": [
    "abuse_pre_data,abuse_lockdown_data = scrape(reddit,'india','abuse',500)\n",
    "\n",
    "abuse_pre_data['violence_type'] = ['abuse']*len(abuse_pre_data)\n",
    "abuse_lockdown_data['violence_type'] = ['abuse']*len(abuse_lockdown_data)\n",
    "pre_data = abuse_pre_data\n",
    "lockdown_data = abuse_lockdown_data\n",
    "\n",
    "print(f\"Number of data points in abuse_pre_data i.e, before lockdown : {len(abuse_pre_data)}\")\n",
    "print(f\"Number of data points in abuse_lockdown_data : {len(abuse_lockdown_data)}\")"
   ]
  },
  {
   "cell_type": "code",
   "execution_count": 13,
   "metadata": {},
   "outputs": [
    {
     "name": "stdout",
     "output_type": "stream",
     "text": [
      "Number of data points in abuse_pre_data2 i.e, before lockdown : 17\n",
      "Number of data points in abuse_lockdown_data2 : 15\n"
     ]
    }
   ],
   "source": [
    "abuse_pre_data2,abuse_lockdown_data2 = scrape(reddit,'relationship_advice','india+abuse',500)\n",
    "\n",
    "abuse_pre_data2['violence_type'] = ['abuse']*len(abuse_pre_data2)\n",
    "abuse_lockdown_data2['violence_type'] = ['abuse']*len(abuse_lockdown_data2)\n",
    "\n",
    "\n",
    "print(f\"Number of data points in abuse_pre_data2 i.e, before lockdown : {len(abuse_pre_data2)}\")\n",
    "print(f\"Number of data points in abuse_lockdown_data2 : {len(abuse_lockdown_data2)}\")"
   ]
  },
  {
   "cell_type": "code",
   "execution_count": 14,
   "metadata": {},
   "outputs": [
    {
     "name": "stdout",
     "output_type": "stream",
     "text": [
      "Number of data points in abuse_pre_data3 i.e, before lockdown : 12\n",
      "Number of data points in abuse_lockdown_data3 : 3\n"
     ]
    }
   ],
   "source": [
    "abuse_pre_data3,abuse_lockdown_data3 = scrape(reddit,'relationships','india abuse',500)\n",
    "\n",
    "abuse_pre_data3['violence_type'] = ['abuse']*len(abuse_pre_data3)\n",
    "abuse_lockdown_data3['violence_type'] = ['abuse']*len(abuse_lockdown_data3)\n",
    "\n",
    "\n",
    "print(f\"Number of data points in abuse_pre_data3 i.e, before lockdown : {len(abuse_pre_data3)}\")\n",
    "print(f\"Number of data points in abuse_lockdown_data3 : {len(abuse_lockdown_data3)}\")"
   ]
  },
  {
   "cell_type": "code",
   "execution_count": 34,
   "metadata": {},
   "outputs": [
    {
     "name": "stdout",
     "output_type": "stream",
     "text": [
      "Number of data points in abuse_pre_data4 i.e, before lockdown : 6\n",
      "Number of data points in abuse_lockdown_data4 : 10\n"
     ]
    }
   ],
   "source": [
    "abuse_pre_data4,abuse_lockdown_data4 = scrape(reddit,'advice','india abuse',500)\n",
    "\n",
    "abuse_pre_data4['violence_type'] = ['abuse']*len(abuse_pre_data4)\n",
    "abuse_lockdown_data4['violence_type'] = ['abuse']*len(abuse_lockdown_data4)\n",
    "\n",
    "\n",
    "print(f\"Number of data points in abuse_pre_data4 i.e, before lockdown : {len(abuse_pre_data4)}\")\n",
    "print(f\"Number of data points in abuse_lockdown_data4 : {len(abuse_lockdown_data4)}\")"
   ]
  },
  {
   "cell_type": "markdown",
   "metadata": {},
   "source": [
    "### 2.Dowry"
   ]
  },
  {
   "cell_type": "code",
   "execution_count": 16,
   "metadata": {},
   "outputs": [
    {
     "name": "stdout",
     "output_type": "stream",
     "text": [
      "Number of data points in dowry_pre_data : 30\n",
      "Number of data points in dowry_lockdown_data : 14\n"
     ]
    }
   ],
   "source": [
    "dowry_pre_data,dowry_lockdown_data = scrape(reddit,'india','dowry',500)\n",
    "\n",
    "dowry_pre_data['violence_type'] = ['dowry']*len(dowry_pre_data)\n",
    "dowry_lockdown_data['violence_type'] = ['dowry']*len(dowry_lockdown_data)\n",
    "\n",
    "print(f\"Number of data points in dowry_pre_data : {len(dowry_pre_data)}\")\n",
    "print(f\"Number of data points in dowry_lockdown_data : {len(dowry_lockdown_data)}\")"
   ]
  },
  {
   "cell_type": "code",
   "execution_count": 17,
   "metadata": {},
   "outputs": [
    {
     "name": "stdout",
     "output_type": "stream",
     "text": [
      "Number of data points in dowry_pre_data2 : 0\n",
      "Number of data points in dowry_lockdown_data2 : 1\n"
     ]
    }
   ],
   "source": [
    "dowry_pre_data2,dowry_lockdown_data2 = scrape(reddit,'relationship_advice','india dowry',500)\n",
    "\n",
    "dowry_pre_data2['violence_type'] = ['dowry']*len(dowry_pre_data2)\n",
    "dowry_lockdown_data2['violence_type'] = ['dowry']*len(dowry_lockdown_data2)\n",
    "\n",
    "print(f\"Number of data points in dowry_pre_data2 : {len(dowry_pre_data2)}\")\n",
    "print(f\"Number of data points in dowry_lockdown_data2 : {len(dowry_lockdown_data2)}\")"
   ]
  },
  {
   "cell_type": "code",
   "execution_count": 18,
   "metadata": {},
   "outputs": [
    {
     "name": "stdout",
     "output_type": "stream",
     "text": [
      "Number of data points in dowry_pre_data3 : 0\n",
      "Number of data points in dowry_lockdown_data3 : 0\n"
     ]
    }
   ],
   "source": [
    "dowry_pre_data3,dowry_lockdown_data3 = scrape(reddit,'advice','india dowry',500)\n",
    "\n",
    "dowry_pre_data3['violence_type'] = ['dowry']*len(dowry_pre_data3)\n",
    "dowry_lockdown_data3['violence_type'] = ['dowry']*len(dowry_lockdown_data3)\n",
    "\n",
    "print(f\"Number of data points in dowry_pre_data3 : {len(dowry_pre_data3)}\")\n",
    "print(f\"Number of data points in dowry_lockdown_data3 : {len(dowry_lockdown_data3)}\")"
   ]
  },
  {
   "cell_type": "code",
   "execution_count": 35,
   "metadata": {},
   "outputs": [
    {
     "name": "stdout",
     "output_type": "stream",
     "text": [
      "Number of data points in abuse_pre_data2 i.e, before lockdown : 1\n",
      "Number of data points in abuse_lockdown_data2 : 0\n"
     ]
    }
   ],
   "source": [
    "dowry_pre_data4,dowry_lockdown_data4 = scrape(reddit,'relationships','india dowry',500)\n",
    "\n",
    "dowry_pre_data4['violence_type'] = ['abuse']*len(dowry_pre_data4)\n",
    "dowry_lockdown_data4['violence_type'] = ['abuse']*len(dowry_lockdown_data4)\n",
    "\n",
    "\n",
    "print(f\"Number of data points in abuse_pre_data2 i.e, before lockdown : {len(dowry_pre_data4)}\")\n",
    "print(f\"Number of data points in abuse_lockdown_data2 : {len(dowry_lockdown_data4)}\")"
   ]
  },
  {
   "cell_type": "markdown",
   "metadata": {},
   "source": [
    "### Rape"
   ]
  },
  {
   "cell_type": "code",
   "execution_count": 20,
   "metadata": {},
   "outputs": [
    {
     "name": "stdout",
     "output_type": "stream",
     "text": [
      "Number of data points in rape_pre_data 59\n",
      "Number of data points in rape_lockdown_data 113\n"
     ]
    }
   ],
   "source": [
    "rape_pre_data,rape_lockdown_data = scrape(reddit,'india','rape',500)\n",
    "\n",
    "rape_pre_data['violence_type'] = ['rape']*len(rape_pre_data)\n",
    "rape_lockdown_data['violence_type'] = ['rape']*len(rape_lockdown_data)\n",
    "\n",
    "print(f\"Number of data points in rape_pre_data {len(rape_pre_data)}\")\n",
    "print(f\"Number of data points in rape_lockdown_data {len(rape_lockdown_data)}\")"
   ]
  },
  {
   "cell_type": "code",
   "execution_count": 21,
   "metadata": {},
   "outputs": [
    {
     "name": "stdout",
     "output_type": "stream",
     "text": [
      "Number of data points in rape_pre_data2 2\n",
      "Number of data points in rape_lockdown_data2 4\n"
     ]
    }
   ],
   "source": [
    "rape_pre_data2,rape_lockdown_data2 = scrape(reddit,'relationship_advice','india rape',500)\n",
    "\n",
    "rape_pre_data2['violence_type'] = ['rape']*len(rape_pre_data2)\n",
    "rape_lockdown_data2['violence_type'] = ['rape']*len(rape_lockdown_data2)\n",
    "\n",
    "print(f\"Number of data points in rape_pre_data2 {len(rape_pre_data2)}\")\n",
    "print(f\"Number of data points in rape_lockdown_data2 {len(rape_lockdown_data2)}\")"
   ]
  },
  {
   "cell_type": "markdown",
   "metadata": {},
   "source": [
    "### Justice for "
   ]
  },
  {
   "cell_type": "code",
   "execution_count": 22,
   "metadata": {},
   "outputs": [
    {
     "name": "stdout",
     "output_type": "stream",
     "text": [
      "Number of data points in justice_pre_data 45\n",
      "Number of data points in justice_lockdown_data 35\n"
     ]
    }
   ],
   "source": [
    "justice_pre_data,justice_lockdown_data = scrape(reddit,'india','justice for',500)\n",
    "\n",
    "justice_pre_data['violence_type'] = ['justice']*len(justice_pre_data)\n",
    "justice_lockdown_data['violence_type'] = ['justice'] * len(justice_lockdown_data)\n",
    "\n",
    "print(f\"Number of data points in justice_pre_data {len(justice_pre_data)}\")\n",
    "print(f\"Number of data points in justice_lockdown_data {len(justice_lockdown_data)}\")"
   ]
  },
  {
   "cell_type": "markdown",
   "metadata": {},
   "source": [
    "### Robberies"
   ]
  },
  {
   "cell_type": "code",
   "execution_count": 23,
   "metadata": {},
   "outputs": [
    {
     "name": "stdout",
     "output_type": "stream",
     "text": [
      "Number of data points in roberry_pre_data 21\n",
      "Number of data points in roberry_lockdown_data 5\n"
     ]
    }
   ],
   "source": [
    "robbery_pre_data,robbery_lockdown_data = scrape(reddit,'india','robbery',500)\n",
    "\n",
    "robbery_pre_data['violence_type'] = ['robbery']* len(robbery_pre_data)\n",
    "robbery_lockdown_data['violence_type'] = ['robbery']*len(robbery_lockdown_data)\n",
    "\n",
    "print(f\"Number of data points in roberry_pre_data {len(robbery_pre_data)}\")\n",
    "print(f\"Number of data points in roberry_lockdown_data {len(robbery_lockdown_data)}\")"
   ]
  },
  {
   "cell_type": "markdown",
   "metadata": {},
   "source": [
    "### Harassment"
   ]
  },
  {
   "cell_type": "code",
   "execution_count": 24,
   "metadata": {},
   "outputs": [
    {
     "name": "stdout",
     "output_type": "stream",
     "text": [
      "Number of data points in harassment_pre_data 35\n",
      "Number of data points in harassment_lockdown_data 64\n"
     ]
    }
   ],
   "source": [
    "harassment_pre_data,harassment_lockdown_data = scrape(reddit,'india','harassment',1000)\n",
    "\n",
    "harassment_pre_data['violence_type'] = ['harassment']* len(harassment_pre_data)\n",
    "harassment_lockdown_data['violence_type'] = ['harassment']*len(harassment_lockdown_data)\n",
    "\n",
    "print(f\"Number of data points in harassment_pre_data {len(harassment_pre_data)}\")\n",
    "print(f\"Number of data points in harassment_lockdown_data {len(harassment_lockdown_data)}\")"
   ]
  },
  {
   "cell_type": "code",
   "execution_count": 25,
   "metadata": {},
   "outputs": [
    {
     "name": "stdout",
     "output_type": "stream",
     "text": [
      "Number of data points in harassment_pre_data 2\n",
      "Number of data points in harassment_lockdown_data 2\n"
     ]
    }
   ],
   "source": [
    "harassment_pre_data2,harassment_lockdown_data2 = scrape(reddit,'relationship_advice','india harassment',1000)\n",
    "\n",
    "harassment_pre_data2['violence_type'] = ['harassment']* len(harassment_pre_data2)\n",
    "harassment_lockdown_data2['violence_type'] = ['harassment']*len(harassment_lockdown_data2)\n",
    "\n",
    "print(f\"Number of data points in harassment_pre_data {len(harassment_pre_data2)}\")\n",
    "print(f\"Number of data points in harassment_lockdown_data {len(harassment_lockdown_data2)}\")"
   ]
  },
  {
   "cell_type": "code",
   "execution_count": 26,
   "metadata": {},
   "outputs": [
    {
     "name": "stdout",
     "output_type": "stream",
     "text": [
      "Number of data points in harassment_pre_data 2\n",
      "Number of data points in harassment_lockdown_data 0\n"
     ]
    }
   ],
   "source": [
    "harassment_pre_data3,harassment_lockdown_data3 = scrape(reddit,'relationships','india harassment',1000)\n",
    "\n",
    "harassment_pre_data3['violence_type'] = ['harassment']* len(harassment_pre_data3)\n",
    "harassment_lockdown_data3['violence_type'] = ['harassment']*len(harassment_lockdown_data3)\n",
    "\n",
    "print(f\"Number of data points in harassment_pre_data {len(harassment_pre_data3)}\")\n",
    "print(f\"Number of data points in harassment_lockdown_data {len(harassment_lockdown_data3)}\")"
   ]
  },
  {
   "cell_type": "markdown",
   "metadata": {},
   "source": [
    "### Survivor"
   ]
  },
  {
   "cell_type": "code",
   "execution_count": 27,
   "metadata": {},
   "outputs": [
    {
     "name": "stdout",
     "output_type": "stream",
     "text": [
      "Number of data points in survivor_pre_data 35\n",
      "Number of data points in survivor_lockdown_data 17\n"
     ]
    }
   ],
   "source": [
    "survivor_pre_data,survivor_lockdown_data = scrape(reddit,'india','survivor',1000)\n",
    "\n",
    "survivor_pre_data['violence_type'] = ['survivor']* len(survivor_pre_data)\n",
    "survivor_lockdown_data['violence_type'] = ['survivor']*len(survivor_lockdown_data)\n",
    "\n",
    "print(f\"Number of data points in survivor_pre_data {len(survivor_pre_data)}\")\n",
    "print(f\"Number of data points in survivor_lockdown_data {len(survivor_lockdown_data)}\")"
   ]
  },
  {
   "cell_type": "markdown",
   "metadata": {},
   "source": [
    "### victim"
   ]
  },
  {
   "cell_type": "code",
   "execution_count": 28,
   "metadata": {},
   "outputs": [
    {
     "name": "stdout",
     "output_type": "stream",
     "text": [
      "Number of data points in victim_pre_data 40\n",
      "Number of data points in victim_lockdown_data 105\n"
     ]
    }
   ],
   "source": [
    "victim_pre_data,victim_lockdown_data = scrape(reddit,'india','victim',1000)\n",
    "\n",
    "victim_pre_data['violence_type'] = ['victim']* len(victim_pre_data)\n",
    "victim_lockdown_data['violence_type'] = ['victim']*len(victim_lockdown_data)\n",
    "\n",
    "print(f\"Number of data points in victim_pre_data {len(victim_pre_data)}\")\n",
    "print(f\"Number of data points in victim_lockdown_data {len(victim_lockdown_data)}\")"
   ]
  },
  {
   "cell_type": "code",
   "execution_count": 29,
   "metadata": {},
   "outputs": [
    {
     "name": "stdout",
     "output_type": "stream",
     "text": [
      "Number of data points in victim_pre_data 2\n",
      "Number of data points in victim_lockdown_data 0\n"
     ]
    }
   ],
   "source": [
    "victim_pre_data2,victim_lockdown_data2 = scrape(reddit,'relationship_advice','india victim',1000)\n",
    "\n",
    "victim_pre_data2['violence_type'] = ['victim']* len(victim_pre_data2)\n",
    "victim_lockdown_data2['violence_type'] = ['victim']*len(victim_lockdown_data2)\n",
    "\n",
    "print(f\"Number of data points in victim_pre_data {len(victim_pre_data2)}\")\n",
    "print(f\"Number of data points in victim_lockdown_data {len(victim_lockdown_data2)}\")"
   ]
  },
  {
   "cell_type": "markdown",
   "metadata": {},
   "source": [
    "### Family Abuse"
   ]
  },
  {
   "cell_type": "code",
   "execution_count": 30,
   "metadata": {},
   "outputs": [
    {
     "name": "stdout",
     "output_type": "stream",
     "text": [
      "Number of data points in victim_pre_data 27\n",
      "Number of data points in victim_lockdown_data 41\n"
     ]
    }
   ],
   "source": [
    "family_abuse_pre_data,family_abuse_lockdown_data = scrape(reddit,'india','family abuse',1000)\n",
    "\n",
    "family_abuse_pre_data['violence_type'] = ['victim']* len(family_abuse_pre_data)\n",
    "family_abuse_lockdown_data['violence_type'] = ['victim']*len(family_abuse_lockdown_data)\n",
    "\n",
    "print(f\"Number of data points in victim_pre_data {len(family_abuse_pre_data)}\")\n",
    "print(f\"Number of data points in victim_lockdown_data {len(family_abuse_lockdown_data)}\")"
   ]
  },
  {
   "cell_type": "code",
   "execution_count": 31,
   "metadata": {},
   "outputs": [
    {
     "name": "stdout",
     "output_type": "stream",
     "text": [
      "Number of data points in victim_pre_data 26\n",
      "Number of data points in victim_lockdown_data 133\n"
     ]
    }
   ],
   "source": [
    "family_abuse_pre_data2,family_abuse_lockdown_data2 = scrape(reddit,'relationship_advice','family abuse',1000)\n",
    "\n",
    "family_abuse_pre_data2['violence_type'] = ['victim']* len(family_abuse_pre_data2)\n",
    "family_abuse_lockdown_data2['violence_type'] = ['victim']*len(family_abuse_lockdown_data2)\n",
    "\n",
    "print(f\"Number of data points in victim_pre_data {len(family_abuse_pre_data2)}\")\n",
    "print(f\"Number of data points in victim_lockdown_data {len(family_abuse_lockdown_data2)}\")"
   ]
  },
  {
   "cell_type": "code",
   "execution_count": 32,
   "metadata": {},
   "outputs": [
    {
     "name": "stdout",
     "output_type": "stream",
     "text": [
      "Number of data points in victim_pre_data 22\n",
      "Number of data points in victim_lockdown_data 112\n"
     ]
    }
   ],
   "source": [
    "family_abuse_pre_data3,family_abuse_lockdown_data3 = scrape(reddit,'relationships','family abuse',1000)\n",
    "\n",
    "family_abuse_pre_data3['violence_type'] = ['victim']* len(family_abuse_pre_data3)\n",
    "family_abuse_lockdown_data3['violence_type'] = ['victim']*len(family_abuse_lockdown_data3)\n",
    "\n",
    "print(f\"Number of data points in victim_pre_data {len(family_abuse_pre_data3)}\")\n",
    "print(f\"Number of data points in victim_lockdown_data {len(family_abuse_lockdown_data3)}\")"
   ]
  },
  {
   "cell_type": "code",
   "execution_count": 33,
   "metadata": {},
   "outputs": [
    {
     "name": "stdout",
     "output_type": "stream",
     "text": [
      "Number of data points in victim_pre_data 22\n",
      "Number of data points in victim_lockdown_data 112\n"
     ]
    }
   ],
   "source": [
    "family_abuse_pre_data4,family_abuse_lockdown_data4 = scrape(reddit,'relationships','family abuse',1000)\n",
    "\n",
    "family_abuse_pre_data4['violence_type'] = ['victim']* len(family_abuse_pre_data4)\n",
    "family_abuse_lockdown_data4['violence_type'] = ['victim']*len(family_abuse_lockdown_data4)\n",
    "\n",
    "print(f\"Number of data points in victim_pre_data {len(family_abuse_pre_data4)}\")\n",
    "print(f\"Number of data points in victim_lockdown_data {len(family_abuse_lockdown_data4)}\")"
   ]
  },
  {
   "cell_type": "markdown",
   "metadata": {},
   "source": [
    "# Merging data"
   ]
  },
  {
   "cell_type": "code",
   "execution_count": 36,
   "metadata": {},
   "outputs": [],
   "source": [
    "pre_data = pd.concat([abuse_pre_data,abuse_pre_data2,abuse_pre_data3,abuse_pre_data4,\n",
    "                      dowry_pre_data,dowry_pre_data2,dowry_pre_data3,dowry_pre_data4,rape_pre_data,rape_pre_data2,\n",
    "                      justice_pre_data,robbery_pre_data,harassment_pre_data,harassment_pre_data2,harassment_pre_data3,\n",
    "                      survivor_pre_data,victim_pre_data, victim_pre_data2,family_abuse_pre_data,family_abuse_pre_data2,\n",
    "                      family_abuse_pre_data3,family_abuse_pre_data4])\n",
    "\n",
    "lockdown_data = pd.concat([abuse_lockdown_data,abuse_lockdown_data2,abuse_lockdown_data3,\n",
    "                           abuse_lockdown_data4,dowry_lockdown_data,dowry_lockdown_data2,\n",
    "                           dowry_lockdown_data3,dowry_lockdown_data4,rape_lockdown_data,rape_lockdown_data2,\n",
    "                           justice_lockdown_data,robbery_lockdown_data,harassment_lockdown_data,\n",
    "                           harassment_lockdown_data2,harassment_lockdown_data3, survivor_lockdown_data,\n",
    "                           victim_lockdown_data, victim_lockdown_data2,family_abuse_lockdown_data,\n",
    "                           family_abuse_lockdown_data2,family_abuse_lockdown_data3,family_abuse_lockdown_data4])"
   ]
  },
  {
   "cell_type": "code",
   "execution_count": 37,
   "metadata": {},
   "outputs": [
    {
     "name": "stdout",
     "output_type": "stream",
     "text": [
      "Length of lockdown data 930\n",
      "Length of unique lockdown data 721\n"
     ]
    }
   ],
   "source": [
    "print(f\"Length of lockdown data {len(lockdown_data)}\")\n",
    "lockdown_data = lockdown_data.drop_duplicates(subset='title',keep='first')\n",
    "print(f\"Length of unique lockdown data {len(lockdown_data)}\")"
   ]
  },
  {
   "cell_type": "code",
   "execution_count": 38,
   "metadata": {},
   "outputs": [
    {
     "name": "stdout",
     "output_type": "stream",
     "text": [
      "Length of pre lockdown data 439\n",
      "Length of unique pre lockdown data 395\n"
     ]
    }
   ],
   "source": [
    "print(f\"Length of pre lockdown data {len(pre_data)}\")\n",
    "pre_data = pre_data.drop_duplicates(subset='title',keep='first')\n",
    "print(f\"Length of unique pre lockdown data {len(pre_data)}\")"
   ]
  },
  {
   "cell_type": "markdown",
   "metadata": {},
   "source": [
    "## 2. Other subreddits \n",
    "\n",
    "We'll focus on the following subreddits\n",
    "\n",
    "1. raisedbynarcissists\n",
    "2. adultsurvivors\n",
    "3. legaladvice\n",
    "4. Parenting\n",
    "5. MensRights\n",
    "6. abuse\n",
    "7. GenderCritical"
   ]
  },
  {
   "cell_type": "code",
   "execution_count": 39,
   "metadata": {},
   "outputs": [
    {
     "name": "stdout",
     "output_type": "stream",
     "text": [
      "41\n",
      "139\n"
     ]
    }
   ],
   "source": [
    "multiple_subs_pre,multiple_subs_lockdown = scrape(reddit,'raisebynarcissists+adultsurvivors+legaladvice+Parenting+MensRights+abuse+GenderCritical+lgbt'\n",
    "                                                  ,'india',3000)\n",
    "print(len(multiple_subs_pre))\n",
    "print(len(multiple_subs_lockdown))"
   ]
  },
  {
   "cell_type": "code",
   "execution_count": 40,
   "metadata": {},
   "outputs": [],
   "source": [
    "pre_data = pd.concat([pre_data,multiple_subs_pre])\n",
    "lockdown_data = pd.concat([lockdown_data,multiple_subs_lockdown])"
   ]
  },
  {
   "cell_type": "code",
   "execution_count": 41,
   "metadata": {},
   "outputs": [
    {
     "data": {
      "text/plain": [
       "860"
      ]
     },
     "execution_count": 41,
     "metadata": {},
     "output_type": "execute_result"
    }
   ],
   "source": [
    "len(lockdown_data)"
   ]
  },
  {
   "cell_type": "code",
   "execution_count": 42,
   "metadata": {},
   "outputs": [],
   "source": [
    "lockdown_data.to_csv('lockdown_reddit.csv')\n",
    "pre_data.to_csv('pre_lockdown_reddit.csv')"
   ]
  },
  {
   "cell_type": "markdown",
   "metadata": {},
   "source": [
    "# Modelling\n",
    "\n",
    "We'll extract the following features from the data also while filtering irrelevant entries parallely\n",
    "\n",
    "* Age\n",
    "* Gender\n",
    "* Sexual Orientation\n",
    "* Imagery\n",
    "* Location\n",
    "* Language\n",
    "* Time of day when active\n",
    "* relationship between victim and abuser\n"
   ]
  },
  {
   "cell_type": "code",
   "execution_count": 43,
   "metadata": {},
   "outputs": [],
   "source": [
    "# Let's see what do we have\n",
    "\n",
    "df = pd.read_csv('lockdown_reddit.csv')"
   ]
  },
  {
   "cell_type": "code",
   "execution_count": 44,
   "metadata": {},
   "outputs": [
    {
     "name": "stdout",
     "output_type": "stream",
     "text": [
      "Unnamed: 0         int64\n",
      "index              int64\n",
      "title             object\n",
      "score            float64\n",
      "id                object\n",
      "url               object\n",
      "comms_num        float64\n",
      "created          float64\n",
      "body              object\n",
      "year             float64\n",
      "month            float64\n",
      "day              float64\n",
      "time              object\n",
      "violence_type     object\n",
      "dtype: object\n"
     ]
    },
    {
     "data": {
      "text/html": [
       "<div>\n",
       "<style scoped>\n",
       "    .dataframe tbody tr th:only-of-type {\n",
       "        vertical-align: middle;\n",
       "    }\n",
       "\n",
       "    .dataframe tbody tr th {\n",
       "        vertical-align: top;\n",
       "    }\n",
       "\n",
       "    .dataframe thead th {\n",
       "        text-align: right;\n",
       "    }\n",
       "</style>\n",
       "<table border=\"1\" class=\"dataframe\">\n",
       "  <thead>\n",
       "    <tr style=\"text-align: right;\">\n",
       "      <th></th>\n",
       "      <th>Unnamed: 0</th>\n",
       "      <th>index</th>\n",
       "      <th>title</th>\n",
       "      <th>score</th>\n",
       "      <th>id</th>\n",
       "      <th>url</th>\n",
       "      <th>comms_num</th>\n",
       "      <th>created</th>\n",
       "      <th>body</th>\n",
       "      <th>year</th>\n",
       "      <th>month</th>\n",
       "      <th>day</th>\n",
       "      <th>time</th>\n",
       "      <th>violence_type</th>\n",
       "    </tr>\n",
       "  </thead>\n",
       "  <tbody>\n",
       "    <tr>\n",
       "      <th>0</th>\n",
       "      <td>0</td>\n",
       "      <td>0</td>\n",
       "      <td>There is NO ROOM for abuse.Period. Digital Pai...</td>\n",
       "      <td>3136.0</td>\n",
       "      <td>gfoc94</td>\n",
       "      <td>https://i.redd.it/xfvcce15rhx41.jpg</td>\n",
       "      <td>328.0</td>\n",
       "      <td>1.588951e+09</td>\n",
       "      <td>NaN</td>\n",
       "      <td>2020.0</td>\n",
       "      <td>5.0</td>\n",
       "      <td>8.0</td>\n",
       "      <td>20:57:12</td>\n",
       "      <td>abuse</td>\n",
       "    </tr>\n",
       "    <tr>\n",
       "      <th>1</th>\n",
       "      <td>1</td>\n",
       "      <td>1</td>\n",
       "      <td>Capitalism and Private firms during covid. Wor...</td>\n",
       "      <td>281.0</td>\n",
       "      <td>gsmest</td>\n",
       "      <td>https://www.reddit.com/r/india/comments/gsmest...</td>\n",
       "      <td>86.0</td>\n",
       "      <td>1.590757e+09</td>\n",
       "      <td>My friend works from 8:30 to 17:30. Meanwhile ...</td>\n",
       "      <td>2020.0</td>\n",
       "      <td>5.0</td>\n",
       "      <td>29.0</td>\n",
       "      <td>18:47:13</td>\n",
       "      <td>abuse</td>\n",
       "    </tr>\n",
       "    <tr>\n",
       "      <th>2</th>\n",
       "      <td>2</td>\n",
       "      <td>2</td>\n",
       "      <td>Behind closed doors, the biggest viruses are m...</td>\n",
       "      <td>1129.0</td>\n",
       "      <td>fzzzji</td>\n",
       "      <td>https://i.redd.it/dc1v110v0fs41.jpg</td>\n",
       "      <td>172.0</td>\n",
       "      <td>1.586738e+09</td>\n",
       "      <td>NaN</td>\n",
       "      <td>2020.0</td>\n",
       "      <td>4.0</td>\n",
       "      <td>13.0</td>\n",
       "      <td>06:25:34</td>\n",
       "      <td>abuse</td>\n",
       "    </tr>\n",
       "    <tr>\n",
       "      <th>3</th>\n",
       "      <td>3</td>\n",
       "      <td>3</td>\n",
       "      <td>Bait for one, Death for another. But is it jus...</td>\n",
       "      <td>56.0</td>\n",
       "      <td>gx7zv5</td>\n",
       "      <td>https://i.redd.it/dv07s7qsd4351.jpg</td>\n",
       "      <td>15.0</td>\n",
       "      <td>1.591404e+09</td>\n",
       "      <td>NaN</td>\n",
       "      <td>2020.0</td>\n",
       "      <td>6.0</td>\n",
       "      <td>6.0</td>\n",
       "      <td>06:24:05</td>\n",
       "      <td>abuse</td>\n",
       "    </tr>\n",
       "    <tr>\n",
       "      <th>4</th>\n",
       "      <td>4</td>\n",
       "      <td>4</td>\n",
       "      <td>Lawyers of India, if I try to file a domestic ...</td>\n",
       "      <td>45.0</td>\n",
       "      <td>gvzj3d</td>\n",
       "      <td>https://www.reddit.com/r/india/comments/gvzj3d...</td>\n",
       "      <td>16.0</td>\n",
       "      <td>1.591238e+09</td>\n",
       "      <td>My ex-boyfriend (2 year relationship) is from ...</td>\n",
       "      <td>2020.0</td>\n",
       "      <td>6.0</td>\n",
       "      <td>4.0</td>\n",
       "      <td>08:14:50</td>\n",
       "      <td>abuse</td>\n",
       "    </tr>\n",
       "  </tbody>\n",
       "</table>\n",
       "</div>"
      ],
      "text/plain": [
       "   Unnamed: 0  index                                              title  \\\n",
       "0           0      0  There is NO ROOM for abuse.Period. Digital Pai...   \n",
       "1           1      1  Capitalism and Private firms during covid. Wor...   \n",
       "2           2      2  Behind closed doors, the biggest viruses are m...   \n",
       "3           3      3  Bait for one, Death for another. But is it jus...   \n",
       "4           4      4  Lawyers of India, if I try to file a domestic ...   \n",
       "\n",
       "    score      id                                                url  \\\n",
       "0  3136.0  gfoc94                https://i.redd.it/xfvcce15rhx41.jpg   \n",
       "1   281.0  gsmest  https://www.reddit.com/r/india/comments/gsmest...   \n",
       "2  1129.0  fzzzji                https://i.redd.it/dc1v110v0fs41.jpg   \n",
       "3    56.0  gx7zv5                https://i.redd.it/dv07s7qsd4351.jpg   \n",
       "4    45.0  gvzj3d  https://www.reddit.com/r/india/comments/gvzj3d...   \n",
       "\n",
       "   comms_num       created                                               body  \\\n",
       "0      328.0  1.588951e+09                                                NaN   \n",
       "1       86.0  1.590757e+09  My friend works from 8:30 to 17:30. Meanwhile ...   \n",
       "2      172.0  1.586738e+09                                                NaN   \n",
       "3       15.0  1.591404e+09                                                NaN   \n",
       "4       16.0  1.591238e+09  My ex-boyfriend (2 year relationship) is from ...   \n",
       "\n",
       "     year  month   day      time violence_type  \n",
       "0  2020.0    5.0   8.0  20:57:12         abuse  \n",
       "1  2020.0    5.0  29.0  18:47:13         abuse  \n",
       "2  2020.0    4.0  13.0  06:25:34         abuse  \n",
       "3  2020.0    6.0   6.0  06:24:05         abuse  \n",
       "4  2020.0    6.0   4.0  08:14:50         abuse  "
      ]
     },
     "execution_count": 44,
     "metadata": {},
     "output_type": "execute_result"
    }
   ],
   "source": [
    "print(df.dtypes)\n",
    "df.head()"
   ]
  },
  {
   "cell_type": "markdown",
   "metadata": {},
   "source": [
    "### Age"
   ]
  },
  {
   "cell_type": "code",
   "execution_count": 45,
   "metadata": {},
   "outputs": [],
   "source": [
    "df['body'] = df['body'].fillna('None').apply(str)"
   ]
  },
  {
   "cell_type": "code",
   "execution_count": 46,
   "metadata": {},
   "outputs": [],
   "source": [
    "import re\n",
    "def age_extractor(sentence):\n",
    "    match = re.findall(r\"\\b\\d{2}(?!%)[^\\d]\", sentence)\n",
    "\n",
    "    if match:\n",
    "        return re.findall(r\"\\b\\d{2}(?!%)[^\\d]\", sentence)[0][:2]\n",
    "    else:\n",
    "        return None\n"
   ]
  },
  {
   "cell_type": "code",
   "execution_count": 47,
   "metadata": {},
   "outputs": [],
   "source": [
    "df['age'] = df['body'].apply(age_extractor)"
   ]
  },
  {
   "cell_type": "code",
   "execution_count": 48,
   "metadata": {},
   "outputs": [
    {
     "data": {
      "text/plain": [
       "0      None\n",
       "1        30\n",
       "2      None\n",
       "3      None\n",
       "4      None\n",
       "       ... \n",
       "855    None\n",
       "856      18\n",
       "857    None\n",
       "858      16\n",
       "859      21\n",
       "Name: age, Length: 860, dtype: object"
      ]
     },
     "execution_count": 48,
     "metadata": {},
     "output_type": "execute_result"
    }
   ],
   "source": [
    "df['age']"
   ]
  },
  {
   "cell_type": "code",
   "execution_count": 49,
   "metadata": {
    "collapsed": true
   },
   "outputs": [
    {
     "ename": "KeyError",
     "evalue": "\"['city' 'state'] not found in axis\"",
     "output_type": "error",
     "traceback": [
      "\u001b[1;31m---------------------------------------------------------------------------\u001b[0m",
      "\u001b[1;31mKeyError\u001b[0m                                  Traceback (most recent call last)",
      "\u001b[1;32m<ipython-input-49-c2a1cb3c1b11>\u001b[0m in \u001b[0;36m<module>\u001b[1;34m\u001b[0m\n\u001b[1;32m----> 1\u001b[1;33m \u001b[0mdf\u001b[0m\u001b[1;33m.\u001b[0m\u001b[0mdrop\u001b[0m\u001b[1;33m(\u001b[0m\u001b[1;33m[\u001b[0m\u001b[1;34m'city'\u001b[0m\u001b[1;33m,\u001b[0m\u001b[1;34m'state'\u001b[0m\u001b[1;33m]\u001b[0m\u001b[1;33m,\u001b[0m\u001b[0maxis\u001b[0m\u001b[1;33m=\u001b[0m\u001b[1;36m1\u001b[0m\u001b[1;33m,\u001b[0m\u001b[0minplace\u001b[0m\u001b[1;33m=\u001b[0m\u001b[1;32mTrue\u001b[0m\u001b[1;33m)\u001b[0m\u001b[1;33m\u001b[0m\u001b[1;33m\u001b[0m\u001b[0m\n\u001b[0m",
      "\u001b[1;32mc:\\users\\sunil\\appdata\\local\\programs\\python\\python36\\lib\\site-packages\\pandas\\core\\frame.py\u001b[0m in \u001b[0;36mdrop\u001b[1;34m(self, labels, axis, index, columns, level, inplace, errors)\u001b[0m\n\u001b[0;32m   3995\u001b[0m             \u001b[0mlevel\u001b[0m\u001b[1;33m=\u001b[0m\u001b[0mlevel\u001b[0m\u001b[1;33m,\u001b[0m\u001b[1;33m\u001b[0m\u001b[1;33m\u001b[0m\u001b[0m\n\u001b[0;32m   3996\u001b[0m             \u001b[0minplace\u001b[0m\u001b[1;33m=\u001b[0m\u001b[0minplace\u001b[0m\u001b[1;33m,\u001b[0m\u001b[1;33m\u001b[0m\u001b[1;33m\u001b[0m\u001b[0m\n\u001b[1;32m-> 3997\u001b[1;33m             \u001b[0merrors\u001b[0m\u001b[1;33m=\u001b[0m\u001b[0merrors\u001b[0m\u001b[1;33m,\u001b[0m\u001b[1;33m\u001b[0m\u001b[1;33m\u001b[0m\u001b[0m\n\u001b[0m\u001b[0;32m   3998\u001b[0m         )\n\u001b[0;32m   3999\u001b[0m \u001b[1;33m\u001b[0m\u001b[0m\n",
      "\u001b[1;32mc:\\users\\sunil\\appdata\\local\\programs\\python\\python36\\lib\\site-packages\\pandas\\core\\generic.py\u001b[0m in \u001b[0;36mdrop\u001b[1;34m(self, labels, axis, index, columns, level, inplace, errors)\u001b[0m\n\u001b[0;32m   3934\u001b[0m         \u001b[1;32mfor\u001b[0m \u001b[0maxis\u001b[0m\u001b[1;33m,\u001b[0m \u001b[0mlabels\u001b[0m \u001b[1;32min\u001b[0m \u001b[0maxes\u001b[0m\u001b[1;33m.\u001b[0m\u001b[0mitems\u001b[0m\u001b[1;33m(\u001b[0m\u001b[1;33m)\u001b[0m\u001b[1;33m:\u001b[0m\u001b[1;33m\u001b[0m\u001b[1;33m\u001b[0m\u001b[0m\n\u001b[0;32m   3935\u001b[0m             \u001b[1;32mif\u001b[0m \u001b[0mlabels\u001b[0m \u001b[1;32mis\u001b[0m \u001b[1;32mnot\u001b[0m \u001b[1;32mNone\u001b[0m\u001b[1;33m:\u001b[0m\u001b[1;33m\u001b[0m\u001b[1;33m\u001b[0m\u001b[0m\n\u001b[1;32m-> 3936\u001b[1;33m                 \u001b[0mobj\u001b[0m \u001b[1;33m=\u001b[0m \u001b[0mobj\u001b[0m\u001b[1;33m.\u001b[0m\u001b[0m_drop_axis\u001b[0m\u001b[1;33m(\u001b[0m\u001b[0mlabels\u001b[0m\u001b[1;33m,\u001b[0m \u001b[0maxis\u001b[0m\u001b[1;33m,\u001b[0m \u001b[0mlevel\u001b[0m\u001b[1;33m=\u001b[0m\u001b[0mlevel\u001b[0m\u001b[1;33m,\u001b[0m \u001b[0merrors\u001b[0m\u001b[1;33m=\u001b[0m\u001b[0merrors\u001b[0m\u001b[1;33m)\u001b[0m\u001b[1;33m\u001b[0m\u001b[1;33m\u001b[0m\u001b[0m\n\u001b[0m\u001b[0;32m   3937\u001b[0m \u001b[1;33m\u001b[0m\u001b[0m\n\u001b[0;32m   3938\u001b[0m         \u001b[1;32mif\u001b[0m \u001b[0minplace\u001b[0m\u001b[1;33m:\u001b[0m\u001b[1;33m\u001b[0m\u001b[1;33m\u001b[0m\u001b[0m\n",
      "\u001b[1;32mc:\\users\\sunil\\appdata\\local\\programs\\python\\python36\\lib\\site-packages\\pandas\\core\\generic.py\u001b[0m in \u001b[0;36m_drop_axis\u001b[1;34m(self, labels, axis, level, errors)\u001b[0m\n\u001b[0;32m   3968\u001b[0m                 \u001b[0mnew_axis\u001b[0m \u001b[1;33m=\u001b[0m \u001b[0maxis\u001b[0m\u001b[1;33m.\u001b[0m\u001b[0mdrop\u001b[0m\u001b[1;33m(\u001b[0m\u001b[0mlabels\u001b[0m\u001b[1;33m,\u001b[0m \u001b[0mlevel\u001b[0m\u001b[1;33m=\u001b[0m\u001b[0mlevel\u001b[0m\u001b[1;33m,\u001b[0m \u001b[0merrors\u001b[0m\u001b[1;33m=\u001b[0m\u001b[0merrors\u001b[0m\u001b[1;33m)\u001b[0m\u001b[1;33m\u001b[0m\u001b[1;33m\u001b[0m\u001b[0m\n\u001b[0;32m   3969\u001b[0m             \u001b[1;32melse\u001b[0m\u001b[1;33m:\u001b[0m\u001b[1;33m\u001b[0m\u001b[1;33m\u001b[0m\u001b[0m\n\u001b[1;32m-> 3970\u001b[1;33m                 \u001b[0mnew_axis\u001b[0m \u001b[1;33m=\u001b[0m \u001b[0maxis\u001b[0m\u001b[1;33m.\u001b[0m\u001b[0mdrop\u001b[0m\u001b[1;33m(\u001b[0m\u001b[0mlabels\u001b[0m\u001b[1;33m,\u001b[0m \u001b[0merrors\u001b[0m\u001b[1;33m=\u001b[0m\u001b[0merrors\u001b[0m\u001b[1;33m)\u001b[0m\u001b[1;33m\u001b[0m\u001b[1;33m\u001b[0m\u001b[0m\n\u001b[0m\u001b[0;32m   3971\u001b[0m             \u001b[0mresult\u001b[0m \u001b[1;33m=\u001b[0m \u001b[0mself\u001b[0m\u001b[1;33m.\u001b[0m\u001b[0mreindex\u001b[0m\u001b[1;33m(\u001b[0m\u001b[1;33m**\u001b[0m\u001b[1;33m{\u001b[0m\u001b[0maxis_name\u001b[0m\u001b[1;33m:\u001b[0m \u001b[0mnew_axis\u001b[0m\u001b[1;33m}\u001b[0m\u001b[1;33m)\u001b[0m\u001b[1;33m\u001b[0m\u001b[1;33m\u001b[0m\u001b[0m\n\u001b[0;32m   3972\u001b[0m \u001b[1;33m\u001b[0m\u001b[0m\n",
      "\u001b[1;32mc:\\users\\sunil\\appdata\\local\\programs\\python\\python36\\lib\\site-packages\\pandas\\core\\indexes\\base.py\u001b[0m in \u001b[0;36mdrop\u001b[1;34m(self, labels, errors)\u001b[0m\n\u001b[0;32m   5015\u001b[0m         \u001b[1;32mif\u001b[0m \u001b[0mmask\u001b[0m\u001b[1;33m.\u001b[0m\u001b[0many\u001b[0m\u001b[1;33m(\u001b[0m\u001b[1;33m)\u001b[0m\u001b[1;33m:\u001b[0m\u001b[1;33m\u001b[0m\u001b[1;33m\u001b[0m\u001b[0m\n\u001b[0;32m   5016\u001b[0m             \u001b[1;32mif\u001b[0m \u001b[0merrors\u001b[0m \u001b[1;33m!=\u001b[0m \u001b[1;34m\"ignore\"\u001b[0m\u001b[1;33m:\u001b[0m\u001b[1;33m\u001b[0m\u001b[1;33m\u001b[0m\u001b[0m\n\u001b[1;32m-> 5017\u001b[1;33m                 \u001b[1;32mraise\u001b[0m \u001b[0mKeyError\u001b[0m\u001b[1;33m(\u001b[0m\u001b[1;34mf\"{labels[mask]} not found in axis\"\u001b[0m\u001b[1;33m)\u001b[0m\u001b[1;33m\u001b[0m\u001b[1;33m\u001b[0m\u001b[0m\n\u001b[0m\u001b[0;32m   5018\u001b[0m             \u001b[0mindexer\u001b[0m \u001b[1;33m=\u001b[0m \u001b[0mindexer\u001b[0m\u001b[1;33m[\u001b[0m\u001b[1;33m~\u001b[0m\u001b[0mmask\u001b[0m\u001b[1;33m]\u001b[0m\u001b[1;33m\u001b[0m\u001b[1;33m\u001b[0m\u001b[0m\n\u001b[0;32m   5019\u001b[0m         \u001b[1;32mreturn\u001b[0m \u001b[0mself\u001b[0m\u001b[1;33m.\u001b[0m\u001b[0mdelete\u001b[0m\u001b[1;33m(\u001b[0m\u001b[0mindexer\u001b[0m\u001b[1;33m)\u001b[0m\u001b[1;33m\u001b[0m\u001b[1;33m\u001b[0m\u001b[0m\n",
      "\u001b[1;31mKeyError\u001b[0m: \"['city' 'state'] not found in axis\""
     ]
    }
   ],
   "source": [
    "df.drop(['city','state'],axis=1,inplace=True)"
   ]
  },
  {
   "cell_type": "code",
   "execution_count": 50,
   "metadata": {},
   "outputs": [],
   "source": [
    "df = df.loc[df['title'].notna(),:]"
   ]
  },
  {
   "cell_type": "code",
   "execution_count": 51,
   "metadata": {},
   "outputs": [
    {
     "data": {
      "text/plain": [
       "860"
      ]
     },
     "execution_count": 51,
     "metadata": {},
     "output_type": "execute_result"
    }
   ],
   "source": [
    "len(df)"
   ]
  },
  {
   "cell_type": "code",
   "execution_count": 52,
   "metadata": {},
   "outputs": [
    {
     "data": {
      "text/html": [
       "<div>\n",
       "<style scoped>\n",
       "    .dataframe tbody tr th:only-of-type {\n",
       "        vertical-align: middle;\n",
       "    }\n",
       "\n",
       "    .dataframe tbody tr th {\n",
       "        vertical-align: top;\n",
       "    }\n",
       "\n",
       "    .dataframe thead th {\n",
       "        text-align: right;\n",
       "    }\n",
       "</style>\n",
       "<table border=\"1\" class=\"dataframe\">\n",
       "  <thead>\n",
       "    <tr style=\"text-align: right;\">\n",
       "      <th></th>\n",
       "      <th>Unnamed: 0</th>\n",
       "      <th>index</th>\n",
       "      <th>title</th>\n",
       "      <th>score</th>\n",
       "      <th>id</th>\n",
       "      <th>url</th>\n",
       "      <th>comms_num</th>\n",
       "      <th>created</th>\n",
       "      <th>body</th>\n",
       "      <th>year</th>\n",
       "      <th>month</th>\n",
       "      <th>day</th>\n",
       "      <th>time</th>\n",
       "      <th>violence_type</th>\n",
       "      <th>age</th>\n",
       "    </tr>\n",
       "  </thead>\n",
       "  <tbody>\n",
       "    <tr>\n",
       "      <th>0</th>\n",
       "      <td>0</td>\n",
       "      <td>0</td>\n",
       "      <td>There is NO ROOM for abuse.Period. Digital Pai...</td>\n",
       "      <td>3136.0</td>\n",
       "      <td>gfoc94</td>\n",
       "      <td>https://i.redd.it/xfvcce15rhx41.jpg</td>\n",
       "      <td>328.0</td>\n",
       "      <td>1.588951e+09</td>\n",
       "      <td>None</td>\n",
       "      <td>2020.0</td>\n",
       "      <td>5.0</td>\n",
       "      <td>8.0</td>\n",
       "      <td>20:57:12</td>\n",
       "      <td>abuse</td>\n",
       "      <td>None</td>\n",
       "    </tr>\n",
       "    <tr>\n",
       "      <th>1</th>\n",
       "      <td>1</td>\n",
       "      <td>1</td>\n",
       "      <td>Capitalism and Private firms during covid. Wor...</td>\n",
       "      <td>281.0</td>\n",
       "      <td>gsmest</td>\n",
       "      <td>https://www.reddit.com/r/india/comments/gsmest...</td>\n",
       "      <td>86.0</td>\n",
       "      <td>1.590757e+09</td>\n",
       "      <td>My friend works from 8:30 to 17:30. Meanwhile ...</td>\n",
       "      <td>2020.0</td>\n",
       "      <td>5.0</td>\n",
       "      <td>29.0</td>\n",
       "      <td>18:47:13</td>\n",
       "      <td>abuse</td>\n",
       "      <td>30</td>\n",
       "    </tr>\n",
       "    <tr>\n",
       "      <th>2</th>\n",
       "      <td>2</td>\n",
       "      <td>2</td>\n",
       "      <td>Behind closed doors, the biggest viruses are m...</td>\n",
       "      <td>1129.0</td>\n",
       "      <td>fzzzji</td>\n",
       "      <td>https://i.redd.it/dc1v110v0fs41.jpg</td>\n",
       "      <td>172.0</td>\n",
       "      <td>1.586738e+09</td>\n",
       "      <td>None</td>\n",
       "      <td>2020.0</td>\n",
       "      <td>4.0</td>\n",
       "      <td>13.0</td>\n",
       "      <td>06:25:34</td>\n",
       "      <td>abuse</td>\n",
       "      <td>None</td>\n",
       "    </tr>\n",
       "    <tr>\n",
       "      <th>3</th>\n",
       "      <td>3</td>\n",
       "      <td>3</td>\n",
       "      <td>Bait for one, Death for another. But is it jus...</td>\n",
       "      <td>56.0</td>\n",
       "      <td>gx7zv5</td>\n",
       "      <td>https://i.redd.it/dv07s7qsd4351.jpg</td>\n",
       "      <td>15.0</td>\n",
       "      <td>1.591404e+09</td>\n",
       "      <td>None</td>\n",
       "      <td>2020.0</td>\n",
       "      <td>6.0</td>\n",
       "      <td>6.0</td>\n",
       "      <td>06:24:05</td>\n",
       "      <td>abuse</td>\n",
       "      <td>None</td>\n",
       "    </tr>\n",
       "    <tr>\n",
       "      <th>4</th>\n",
       "      <td>4</td>\n",
       "      <td>4</td>\n",
       "      <td>Lawyers of India, if I try to file a domestic ...</td>\n",
       "      <td>45.0</td>\n",
       "      <td>gvzj3d</td>\n",
       "      <td>https://www.reddit.com/r/india/comments/gvzj3d...</td>\n",
       "      <td>16.0</td>\n",
       "      <td>1.591238e+09</td>\n",
       "      <td>My ex-boyfriend (2 year relationship) is from ...</td>\n",
       "      <td>2020.0</td>\n",
       "      <td>6.0</td>\n",
       "      <td>4.0</td>\n",
       "      <td>08:14:50</td>\n",
       "      <td>abuse</td>\n",
       "      <td>None</td>\n",
       "    </tr>\n",
       "    <tr>\n",
       "      <th>...</th>\n",
       "      <td>...</td>\n",
       "      <td>...</td>\n",
       "      <td>...</td>\n",
       "      <td>...</td>\n",
       "      <td>...</td>\n",
       "      <td>...</td>\n",
       "      <td>...</td>\n",
       "      <td>...</td>\n",
       "      <td>...</td>\n",
       "      <td>...</td>\n",
       "      <td>...</td>\n",
       "      <td>...</td>\n",
       "      <td>...</td>\n",
       "      <td>...</td>\n",
       "      <td>...</td>\n",
       "    </tr>\n",
       "    <tr>\n",
       "      <th>855</th>\n",
       "      <td>134</td>\n",
       "      <td>231</td>\n",
       "      <td>Is it possible to amend the governing law loca...</td>\n",
       "      <td>2.0</td>\n",
       "      <td>ges6gh</td>\n",
       "      <td>https://www.reddit.com/r/legaladvice/comments/...</td>\n",
       "      <td>3.0</td>\n",
       "      <td>1.588827e+09</td>\n",
       "      <td>I'm located in USA and have a LLC. The manufac...</td>\n",
       "      <td>2020.0</td>\n",
       "      <td>5.0</td>\n",
       "      <td>7.0</td>\n",
       "      <td>10:30:01</td>\n",
       "      <td>NaN</td>\n",
       "      <td>None</td>\n",
       "    </tr>\n",
       "    <tr>\n",
       "      <th>856</th>\n",
       "      <td>135</td>\n",
       "      <td>232</td>\n",
       "      <td>Instagram Sex Service</td>\n",
       "      <td>0.0</td>\n",
       "      <td>g5p6ot</td>\n",
       "      <td>https://www.reddit.com/r/legaladvice/comments/...</td>\n",
       "      <td>11.0</td>\n",
       "      <td>1.587537e+09</td>\n",
       "      <td>I stay in India. So today, I matched with this...</td>\n",
       "      <td>2020.0</td>\n",
       "      <td>4.0</td>\n",
       "      <td>22.0</td>\n",
       "      <td>12:12:53</td>\n",
       "      <td>NaN</td>\n",
       "      <td>18</td>\n",
       "    </tr>\n",
       "    <tr>\n",
       "      <th>857</th>\n",
       "      <td>136</td>\n",
       "      <td>234</td>\n",
       "      <td>GET TWEETIG AND EMAILING!! It gets worse - men...</td>\n",
       "      <td>9.0</td>\n",
       "      <td>g4eqtv</td>\n",
       "      <td>https://www.reddit.com/r/MensRights/comments/g...</td>\n",
       "      <td>4.0</td>\n",
       "      <td>1.587357e+09</td>\n",
       "      <td>Some have seen this posted. I say it gets wors...</td>\n",
       "      <td>2020.0</td>\n",
       "      <td>4.0</td>\n",
       "      <td>20.0</td>\n",
       "      <td>10:10:28</td>\n",
       "      <td>NaN</td>\n",
       "      <td>None</td>\n",
       "    </tr>\n",
       "    <tr>\n",
       "      <th>858</th>\n",
       "      <td>137</td>\n",
       "      <td>235</td>\n",
       "      <td>Paid extra for 3 years for Netflix.</td>\n",
       "      <td>0.0</td>\n",
       "      <td>g6wnlm</td>\n",
       "      <td>https://www.reddit.com/r/legaladvice/comments/...</td>\n",
       "      <td>9.0</td>\n",
       "      <td>1.587711e+09</td>\n",
       "      <td>Hi everyone. A stupid post alert. \\n\\nApparent...</td>\n",
       "      <td>2020.0</td>\n",
       "      <td>4.0</td>\n",
       "      <td>24.0</td>\n",
       "      <td>12:26:59</td>\n",
       "      <td>NaN</td>\n",
       "      <td>16</td>\n",
       "    </tr>\n",
       "    <tr>\n",
       "      <th>859</th>\n",
       "      <td>138</td>\n",
       "      <td>240</td>\n",
       "      <td>My father hasn't been paying maintenance fees....</td>\n",
       "      <td>0.0</td>\n",
       "      <td>gpmmie</td>\n",
       "      <td>https://www.reddit.com/r/legaladvice/comments/...</td>\n",
       "      <td>0.0</td>\n",
       "      <td>1.590340e+09</td>\n",
       "      <td>Hello! Firstly I'd like to apologize if this i...</td>\n",
       "      <td>2020.0</td>\n",
       "      <td>5.0</td>\n",
       "      <td>24.0</td>\n",
       "      <td>22:56:59</td>\n",
       "      <td>NaN</td>\n",
       "      <td>21</td>\n",
       "    </tr>\n",
       "  </tbody>\n",
       "</table>\n",
       "<p>860 rows × 15 columns</p>\n",
       "</div>"
      ],
      "text/plain": [
       "     Unnamed: 0  index                                              title  \\\n",
       "0             0      0  There is NO ROOM for abuse.Period. Digital Pai...   \n",
       "1             1      1  Capitalism and Private firms during covid. Wor...   \n",
       "2             2      2  Behind closed doors, the biggest viruses are m...   \n",
       "3             3      3  Bait for one, Death for another. But is it jus...   \n",
       "4             4      4  Lawyers of India, if I try to file a domestic ...   \n",
       "..          ...    ...                                                ...   \n",
       "855         134    231  Is it possible to amend the governing law loca...   \n",
       "856         135    232                              Instagram Sex Service   \n",
       "857         136    234  GET TWEETIG AND EMAILING!! It gets worse - men...   \n",
       "858         137    235                Paid extra for 3 years for Netflix.   \n",
       "859         138    240  My father hasn't been paying maintenance fees....   \n",
       "\n",
       "      score      id                                                url  \\\n",
       "0    3136.0  gfoc94                https://i.redd.it/xfvcce15rhx41.jpg   \n",
       "1     281.0  gsmest  https://www.reddit.com/r/india/comments/gsmest...   \n",
       "2    1129.0  fzzzji                https://i.redd.it/dc1v110v0fs41.jpg   \n",
       "3      56.0  gx7zv5                https://i.redd.it/dv07s7qsd4351.jpg   \n",
       "4      45.0  gvzj3d  https://www.reddit.com/r/india/comments/gvzj3d...   \n",
       "..      ...     ...                                                ...   \n",
       "855     2.0  ges6gh  https://www.reddit.com/r/legaladvice/comments/...   \n",
       "856     0.0  g5p6ot  https://www.reddit.com/r/legaladvice/comments/...   \n",
       "857     9.0  g4eqtv  https://www.reddit.com/r/MensRights/comments/g...   \n",
       "858     0.0  g6wnlm  https://www.reddit.com/r/legaladvice/comments/...   \n",
       "859     0.0  gpmmie  https://www.reddit.com/r/legaladvice/comments/...   \n",
       "\n",
       "     comms_num       created  \\\n",
       "0        328.0  1.588951e+09   \n",
       "1         86.0  1.590757e+09   \n",
       "2        172.0  1.586738e+09   \n",
       "3         15.0  1.591404e+09   \n",
       "4         16.0  1.591238e+09   \n",
       "..         ...           ...   \n",
       "855        3.0  1.588827e+09   \n",
       "856       11.0  1.587537e+09   \n",
       "857        4.0  1.587357e+09   \n",
       "858        9.0  1.587711e+09   \n",
       "859        0.0  1.590340e+09   \n",
       "\n",
       "                                                  body    year  month   day  \\\n",
       "0                                                 None  2020.0    5.0   8.0   \n",
       "1    My friend works from 8:30 to 17:30. Meanwhile ...  2020.0    5.0  29.0   \n",
       "2                                                 None  2020.0    4.0  13.0   \n",
       "3                                                 None  2020.0    6.0   6.0   \n",
       "4    My ex-boyfriend (2 year relationship) is from ...  2020.0    6.0   4.0   \n",
       "..                                                 ...     ...    ...   ...   \n",
       "855  I'm located in USA and have a LLC. The manufac...  2020.0    5.0   7.0   \n",
       "856  I stay in India. So today, I matched with this...  2020.0    4.0  22.0   \n",
       "857  Some have seen this posted. I say it gets wors...  2020.0    4.0  20.0   \n",
       "858  Hi everyone. A stupid post alert. \\n\\nApparent...  2020.0    4.0  24.0   \n",
       "859  Hello! Firstly I'd like to apologize if this i...  2020.0    5.0  24.0   \n",
       "\n",
       "         time violence_type   age  \n",
       "0    20:57:12         abuse  None  \n",
       "1    18:47:13         abuse    30  \n",
       "2    06:25:34         abuse  None  \n",
       "3    06:24:05         abuse  None  \n",
       "4    08:14:50         abuse  None  \n",
       "..        ...           ...   ...  \n",
       "855  10:30:01           NaN  None  \n",
       "856  12:12:53           NaN    18  \n",
       "857  10:10:28           NaN  None  \n",
       "858  12:26:59           NaN    16  \n",
       "859  22:56:59           NaN    21  \n",
       "\n",
       "[860 rows x 15 columns]"
      ]
     },
     "execution_count": 52,
     "metadata": {},
     "output_type": "execute_result"
    }
   ],
   "source": [
    "df"
   ]
  },
  {
   "cell_type": "code",
   "execution_count": 53,
   "metadata": {
    "collapsed": true
   },
   "outputs": [
    {
     "ename": "KeyError",
     "evalue": "\"['Unnamed: 14'] not found in axis\"",
     "output_type": "error",
     "traceback": [
      "\u001b[1;31m---------------------------------------------------------------------------\u001b[0m",
      "\u001b[1;31mKeyError\u001b[0m                                  Traceback (most recent call last)",
      "\u001b[1;32m<ipython-input-53-0ed765b12dbd>\u001b[0m in \u001b[0;36m<module>\u001b[1;34m\u001b[0m\n\u001b[1;32m----> 1\u001b[1;33m \u001b[0mdf\u001b[0m\u001b[1;33m.\u001b[0m\u001b[0mdrop\u001b[0m\u001b[1;33m(\u001b[0m\u001b[1;33m[\u001b[0m\u001b[1;34m'Unnamed: 0'\u001b[0m\u001b[1;33m,\u001b[0m\u001b[1;34m'index'\u001b[0m\u001b[1;33m,\u001b[0m\u001b[1;34m'Unnamed: 14'\u001b[0m\u001b[1;33m]\u001b[0m\u001b[1;33m,\u001b[0m\u001b[0maxis\u001b[0m\u001b[1;33m=\u001b[0m\u001b[1;36m1\u001b[0m\u001b[1;33m,\u001b[0m\u001b[0minplace\u001b[0m\u001b[1;33m=\u001b[0m\u001b[1;32mTrue\u001b[0m\u001b[1;33m)\u001b[0m\u001b[1;33m\u001b[0m\u001b[1;33m\u001b[0m\u001b[0m\n\u001b[0m",
      "\u001b[1;32mc:\\users\\sunil\\appdata\\local\\programs\\python\\python36\\lib\\site-packages\\pandas\\core\\frame.py\u001b[0m in \u001b[0;36mdrop\u001b[1;34m(self, labels, axis, index, columns, level, inplace, errors)\u001b[0m\n\u001b[0;32m   3995\u001b[0m             \u001b[0mlevel\u001b[0m\u001b[1;33m=\u001b[0m\u001b[0mlevel\u001b[0m\u001b[1;33m,\u001b[0m\u001b[1;33m\u001b[0m\u001b[1;33m\u001b[0m\u001b[0m\n\u001b[0;32m   3996\u001b[0m             \u001b[0minplace\u001b[0m\u001b[1;33m=\u001b[0m\u001b[0minplace\u001b[0m\u001b[1;33m,\u001b[0m\u001b[1;33m\u001b[0m\u001b[1;33m\u001b[0m\u001b[0m\n\u001b[1;32m-> 3997\u001b[1;33m             \u001b[0merrors\u001b[0m\u001b[1;33m=\u001b[0m\u001b[0merrors\u001b[0m\u001b[1;33m,\u001b[0m\u001b[1;33m\u001b[0m\u001b[1;33m\u001b[0m\u001b[0m\n\u001b[0m\u001b[0;32m   3998\u001b[0m         )\n\u001b[0;32m   3999\u001b[0m \u001b[1;33m\u001b[0m\u001b[0m\n",
      "\u001b[1;32mc:\\users\\sunil\\appdata\\local\\programs\\python\\python36\\lib\\site-packages\\pandas\\core\\generic.py\u001b[0m in \u001b[0;36mdrop\u001b[1;34m(self, labels, axis, index, columns, level, inplace, errors)\u001b[0m\n\u001b[0;32m   3934\u001b[0m         \u001b[1;32mfor\u001b[0m \u001b[0maxis\u001b[0m\u001b[1;33m,\u001b[0m \u001b[0mlabels\u001b[0m \u001b[1;32min\u001b[0m \u001b[0maxes\u001b[0m\u001b[1;33m.\u001b[0m\u001b[0mitems\u001b[0m\u001b[1;33m(\u001b[0m\u001b[1;33m)\u001b[0m\u001b[1;33m:\u001b[0m\u001b[1;33m\u001b[0m\u001b[1;33m\u001b[0m\u001b[0m\n\u001b[0;32m   3935\u001b[0m             \u001b[1;32mif\u001b[0m \u001b[0mlabels\u001b[0m \u001b[1;32mis\u001b[0m \u001b[1;32mnot\u001b[0m \u001b[1;32mNone\u001b[0m\u001b[1;33m:\u001b[0m\u001b[1;33m\u001b[0m\u001b[1;33m\u001b[0m\u001b[0m\n\u001b[1;32m-> 3936\u001b[1;33m                 \u001b[0mobj\u001b[0m \u001b[1;33m=\u001b[0m \u001b[0mobj\u001b[0m\u001b[1;33m.\u001b[0m\u001b[0m_drop_axis\u001b[0m\u001b[1;33m(\u001b[0m\u001b[0mlabels\u001b[0m\u001b[1;33m,\u001b[0m \u001b[0maxis\u001b[0m\u001b[1;33m,\u001b[0m \u001b[0mlevel\u001b[0m\u001b[1;33m=\u001b[0m\u001b[0mlevel\u001b[0m\u001b[1;33m,\u001b[0m \u001b[0merrors\u001b[0m\u001b[1;33m=\u001b[0m\u001b[0merrors\u001b[0m\u001b[1;33m)\u001b[0m\u001b[1;33m\u001b[0m\u001b[1;33m\u001b[0m\u001b[0m\n\u001b[0m\u001b[0;32m   3937\u001b[0m \u001b[1;33m\u001b[0m\u001b[0m\n\u001b[0;32m   3938\u001b[0m         \u001b[1;32mif\u001b[0m \u001b[0minplace\u001b[0m\u001b[1;33m:\u001b[0m\u001b[1;33m\u001b[0m\u001b[1;33m\u001b[0m\u001b[0m\n",
      "\u001b[1;32mc:\\users\\sunil\\appdata\\local\\programs\\python\\python36\\lib\\site-packages\\pandas\\core\\generic.py\u001b[0m in \u001b[0;36m_drop_axis\u001b[1;34m(self, labels, axis, level, errors)\u001b[0m\n\u001b[0;32m   3968\u001b[0m                 \u001b[0mnew_axis\u001b[0m \u001b[1;33m=\u001b[0m \u001b[0maxis\u001b[0m\u001b[1;33m.\u001b[0m\u001b[0mdrop\u001b[0m\u001b[1;33m(\u001b[0m\u001b[0mlabels\u001b[0m\u001b[1;33m,\u001b[0m \u001b[0mlevel\u001b[0m\u001b[1;33m=\u001b[0m\u001b[0mlevel\u001b[0m\u001b[1;33m,\u001b[0m \u001b[0merrors\u001b[0m\u001b[1;33m=\u001b[0m\u001b[0merrors\u001b[0m\u001b[1;33m)\u001b[0m\u001b[1;33m\u001b[0m\u001b[1;33m\u001b[0m\u001b[0m\n\u001b[0;32m   3969\u001b[0m             \u001b[1;32melse\u001b[0m\u001b[1;33m:\u001b[0m\u001b[1;33m\u001b[0m\u001b[1;33m\u001b[0m\u001b[0m\n\u001b[1;32m-> 3970\u001b[1;33m                 \u001b[0mnew_axis\u001b[0m \u001b[1;33m=\u001b[0m \u001b[0maxis\u001b[0m\u001b[1;33m.\u001b[0m\u001b[0mdrop\u001b[0m\u001b[1;33m(\u001b[0m\u001b[0mlabels\u001b[0m\u001b[1;33m,\u001b[0m \u001b[0merrors\u001b[0m\u001b[1;33m=\u001b[0m\u001b[0merrors\u001b[0m\u001b[1;33m)\u001b[0m\u001b[1;33m\u001b[0m\u001b[1;33m\u001b[0m\u001b[0m\n\u001b[0m\u001b[0;32m   3971\u001b[0m             \u001b[0mresult\u001b[0m \u001b[1;33m=\u001b[0m \u001b[0mself\u001b[0m\u001b[1;33m.\u001b[0m\u001b[0mreindex\u001b[0m\u001b[1;33m(\u001b[0m\u001b[1;33m**\u001b[0m\u001b[1;33m{\u001b[0m\u001b[0maxis_name\u001b[0m\u001b[1;33m:\u001b[0m \u001b[0mnew_axis\u001b[0m\u001b[1;33m}\u001b[0m\u001b[1;33m)\u001b[0m\u001b[1;33m\u001b[0m\u001b[1;33m\u001b[0m\u001b[0m\n\u001b[0;32m   3972\u001b[0m \u001b[1;33m\u001b[0m\u001b[0m\n",
      "\u001b[1;32mc:\\users\\sunil\\appdata\\local\\programs\\python\\python36\\lib\\site-packages\\pandas\\core\\indexes\\base.py\u001b[0m in \u001b[0;36mdrop\u001b[1;34m(self, labels, errors)\u001b[0m\n\u001b[0;32m   5015\u001b[0m         \u001b[1;32mif\u001b[0m \u001b[0mmask\u001b[0m\u001b[1;33m.\u001b[0m\u001b[0many\u001b[0m\u001b[1;33m(\u001b[0m\u001b[1;33m)\u001b[0m\u001b[1;33m:\u001b[0m\u001b[1;33m\u001b[0m\u001b[1;33m\u001b[0m\u001b[0m\n\u001b[0;32m   5016\u001b[0m             \u001b[1;32mif\u001b[0m \u001b[0merrors\u001b[0m \u001b[1;33m!=\u001b[0m \u001b[1;34m\"ignore\"\u001b[0m\u001b[1;33m:\u001b[0m\u001b[1;33m\u001b[0m\u001b[1;33m\u001b[0m\u001b[0m\n\u001b[1;32m-> 5017\u001b[1;33m                 \u001b[1;32mraise\u001b[0m \u001b[0mKeyError\u001b[0m\u001b[1;33m(\u001b[0m\u001b[1;34mf\"{labels[mask]} not found in axis\"\u001b[0m\u001b[1;33m)\u001b[0m\u001b[1;33m\u001b[0m\u001b[1;33m\u001b[0m\u001b[0m\n\u001b[0m\u001b[0;32m   5018\u001b[0m             \u001b[0mindexer\u001b[0m \u001b[1;33m=\u001b[0m \u001b[0mindexer\u001b[0m\u001b[1;33m[\u001b[0m\u001b[1;33m~\u001b[0m\u001b[0mmask\u001b[0m\u001b[1;33m]\u001b[0m\u001b[1;33m\u001b[0m\u001b[1;33m\u001b[0m\u001b[0m\n\u001b[0;32m   5019\u001b[0m         \u001b[1;32mreturn\u001b[0m \u001b[0mself\u001b[0m\u001b[1;33m.\u001b[0m\u001b[0mdelete\u001b[0m\u001b[1;33m(\u001b[0m\u001b[0mindexer\u001b[0m\u001b[1;33m)\u001b[0m\u001b[1;33m\u001b[0m\u001b[1;33m\u001b[0m\u001b[0m\n",
      "\u001b[1;31mKeyError\u001b[0m: \"['Unnamed: 14'] not found in axis\""
     ]
    }
   ],
   "source": [
    "df.drop(['Unnamed: 0','index','Unnamed: 14'],axis=1,inplace=True)"
   ]
  },
  {
   "cell_type": "code",
   "execution_count": 54,
   "metadata": {},
   "outputs": [
    {
     "data": {
      "text/html": [
       "<div>\n",
       "<style scoped>\n",
       "    .dataframe tbody tr th:only-of-type {\n",
       "        vertical-align: middle;\n",
       "    }\n",
       "\n",
       "    .dataframe tbody tr th {\n",
       "        vertical-align: top;\n",
       "    }\n",
       "\n",
       "    .dataframe thead th {\n",
       "        text-align: right;\n",
       "    }\n",
       "</style>\n",
       "<table border=\"1\" class=\"dataframe\">\n",
       "  <thead>\n",
       "    <tr style=\"text-align: right;\">\n",
       "      <th></th>\n",
       "      <th>Unnamed: 0</th>\n",
       "      <th>index</th>\n",
       "      <th>title</th>\n",
       "      <th>score</th>\n",
       "      <th>id</th>\n",
       "      <th>url</th>\n",
       "      <th>comms_num</th>\n",
       "      <th>created</th>\n",
       "      <th>body</th>\n",
       "      <th>year</th>\n",
       "      <th>month</th>\n",
       "      <th>day</th>\n",
       "      <th>time</th>\n",
       "      <th>violence_type</th>\n",
       "      <th>age</th>\n",
       "    </tr>\n",
       "  </thead>\n",
       "  <tbody>\n",
       "    <tr>\n",
       "      <th>0</th>\n",
       "      <td>0</td>\n",
       "      <td>0</td>\n",
       "      <td>There is NO ROOM for abuse.Period. Digital Pai...</td>\n",
       "      <td>3136.0</td>\n",
       "      <td>gfoc94</td>\n",
       "      <td>https://i.redd.it/xfvcce15rhx41.jpg</td>\n",
       "      <td>328.0</td>\n",
       "      <td>1.588951e+09</td>\n",
       "      <td>None</td>\n",
       "      <td>2020.0</td>\n",
       "      <td>5.0</td>\n",
       "      <td>8.0</td>\n",
       "      <td>20:57:12</td>\n",
       "      <td>abuse</td>\n",
       "      <td>None</td>\n",
       "    </tr>\n",
       "    <tr>\n",
       "      <th>1</th>\n",
       "      <td>1</td>\n",
       "      <td>1</td>\n",
       "      <td>Capitalism and Private firms during covid. Wor...</td>\n",
       "      <td>281.0</td>\n",
       "      <td>gsmest</td>\n",
       "      <td>https://www.reddit.com/r/india/comments/gsmest...</td>\n",
       "      <td>86.0</td>\n",
       "      <td>1.590757e+09</td>\n",
       "      <td>My friend works from 8:30 to 17:30. Meanwhile ...</td>\n",
       "      <td>2020.0</td>\n",
       "      <td>5.0</td>\n",
       "      <td>29.0</td>\n",
       "      <td>18:47:13</td>\n",
       "      <td>abuse</td>\n",
       "      <td>30</td>\n",
       "    </tr>\n",
       "    <tr>\n",
       "      <th>2</th>\n",
       "      <td>2</td>\n",
       "      <td>2</td>\n",
       "      <td>Behind closed doors, the biggest viruses are m...</td>\n",
       "      <td>1129.0</td>\n",
       "      <td>fzzzji</td>\n",
       "      <td>https://i.redd.it/dc1v110v0fs41.jpg</td>\n",
       "      <td>172.0</td>\n",
       "      <td>1.586738e+09</td>\n",
       "      <td>None</td>\n",
       "      <td>2020.0</td>\n",
       "      <td>4.0</td>\n",
       "      <td>13.0</td>\n",
       "      <td>06:25:34</td>\n",
       "      <td>abuse</td>\n",
       "      <td>None</td>\n",
       "    </tr>\n",
       "    <tr>\n",
       "      <th>3</th>\n",
       "      <td>3</td>\n",
       "      <td>3</td>\n",
       "      <td>Bait for one, Death for another. But is it jus...</td>\n",
       "      <td>56.0</td>\n",
       "      <td>gx7zv5</td>\n",
       "      <td>https://i.redd.it/dv07s7qsd4351.jpg</td>\n",
       "      <td>15.0</td>\n",
       "      <td>1.591404e+09</td>\n",
       "      <td>None</td>\n",
       "      <td>2020.0</td>\n",
       "      <td>6.0</td>\n",
       "      <td>6.0</td>\n",
       "      <td>06:24:05</td>\n",
       "      <td>abuse</td>\n",
       "      <td>None</td>\n",
       "    </tr>\n",
       "    <tr>\n",
       "      <th>4</th>\n",
       "      <td>4</td>\n",
       "      <td>4</td>\n",
       "      <td>Lawyers of India, if I try to file a domestic ...</td>\n",
       "      <td>45.0</td>\n",
       "      <td>gvzj3d</td>\n",
       "      <td>https://www.reddit.com/r/india/comments/gvzj3d...</td>\n",
       "      <td>16.0</td>\n",
       "      <td>1.591238e+09</td>\n",
       "      <td>My ex-boyfriend (2 year relationship) is from ...</td>\n",
       "      <td>2020.0</td>\n",
       "      <td>6.0</td>\n",
       "      <td>4.0</td>\n",
       "      <td>08:14:50</td>\n",
       "      <td>abuse</td>\n",
       "      <td>None</td>\n",
       "    </tr>\n",
       "    <tr>\n",
       "      <th>...</th>\n",
       "      <td>...</td>\n",
       "      <td>...</td>\n",
       "      <td>...</td>\n",
       "      <td>...</td>\n",
       "      <td>...</td>\n",
       "      <td>...</td>\n",
       "      <td>...</td>\n",
       "      <td>...</td>\n",
       "      <td>...</td>\n",
       "      <td>...</td>\n",
       "      <td>...</td>\n",
       "      <td>...</td>\n",
       "      <td>...</td>\n",
       "      <td>...</td>\n",
       "      <td>...</td>\n",
       "    </tr>\n",
       "    <tr>\n",
       "      <th>855</th>\n",
       "      <td>134</td>\n",
       "      <td>231</td>\n",
       "      <td>Is it possible to amend the governing law loca...</td>\n",
       "      <td>2.0</td>\n",
       "      <td>ges6gh</td>\n",
       "      <td>https://www.reddit.com/r/legaladvice/comments/...</td>\n",
       "      <td>3.0</td>\n",
       "      <td>1.588827e+09</td>\n",
       "      <td>I'm located in USA and have a LLC. The manufac...</td>\n",
       "      <td>2020.0</td>\n",
       "      <td>5.0</td>\n",
       "      <td>7.0</td>\n",
       "      <td>10:30:01</td>\n",
       "      <td>NaN</td>\n",
       "      <td>None</td>\n",
       "    </tr>\n",
       "    <tr>\n",
       "      <th>856</th>\n",
       "      <td>135</td>\n",
       "      <td>232</td>\n",
       "      <td>Instagram Sex Service</td>\n",
       "      <td>0.0</td>\n",
       "      <td>g5p6ot</td>\n",
       "      <td>https://www.reddit.com/r/legaladvice/comments/...</td>\n",
       "      <td>11.0</td>\n",
       "      <td>1.587537e+09</td>\n",
       "      <td>I stay in India. So today, I matched with this...</td>\n",
       "      <td>2020.0</td>\n",
       "      <td>4.0</td>\n",
       "      <td>22.0</td>\n",
       "      <td>12:12:53</td>\n",
       "      <td>NaN</td>\n",
       "      <td>18</td>\n",
       "    </tr>\n",
       "    <tr>\n",
       "      <th>857</th>\n",
       "      <td>136</td>\n",
       "      <td>234</td>\n",
       "      <td>GET TWEETIG AND EMAILING!! It gets worse - men...</td>\n",
       "      <td>9.0</td>\n",
       "      <td>g4eqtv</td>\n",
       "      <td>https://www.reddit.com/r/MensRights/comments/g...</td>\n",
       "      <td>4.0</td>\n",
       "      <td>1.587357e+09</td>\n",
       "      <td>Some have seen this posted. I say it gets wors...</td>\n",
       "      <td>2020.0</td>\n",
       "      <td>4.0</td>\n",
       "      <td>20.0</td>\n",
       "      <td>10:10:28</td>\n",
       "      <td>NaN</td>\n",
       "      <td>None</td>\n",
       "    </tr>\n",
       "    <tr>\n",
       "      <th>858</th>\n",
       "      <td>137</td>\n",
       "      <td>235</td>\n",
       "      <td>Paid extra for 3 years for Netflix.</td>\n",
       "      <td>0.0</td>\n",
       "      <td>g6wnlm</td>\n",
       "      <td>https://www.reddit.com/r/legaladvice/comments/...</td>\n",
       "      <td>9.0</td>\n",
       "      <td>1.587711e+09</td>\n",
       "      <td>Hi everyone. A stupid post alert. \\n\\nApparent...</td>\n",
       "      <td>2020.0</td>\n",
       "      <td>4.0</td>\n",
       "      <td>24.0</td>\n",
       "      <td>12:26:59</td>\n",
       "      <td>NaN</td>\n",
       "      <td>16</td>\n",
       "    </tr>\n",
       "    <tr>\n",
       "      <th>859</th>\n",
       "      <td>138</td>\n",
       "      <td>240</td>\n",
       "      <td>My father hasn't been paying maintenance fees....</td>\n",
       "      <td>0.0</td>\n",
       "      <td>gpmmie</td>\n",
       "      <td>https://www.reddit.com/r/legaladvice/comments/...</td>\n",
       "      <td>0.0</td>\n",
       "      <td>1.590340e+09</td>\n",
       "      <td>Hello! Firstly I'd like to apologize if this i...</td>\n",
       "      <td>2020.0</td>\n",
       "      <td>5.0</td>\n",
       "      <td>24.0</td>\n",
       "      <td>22:56:59</td>\n",
       "      <td>NaN</td>\n",
       "      <td>21</td>\n",
       "    </tr>\n",
       "  </tbody>\n",
       "</table>\n",
       "<p>860 rows × 15 columns</p>\n",
       "</div>"
      ],
      "text/plain": [
       "     Unnamed: 0  index                                              title  \\\n",
       "0             0      0  There is NO ROOM for abuse.Period. Digital Pai...   \n",
       "1             1      1  Capitalism and Private firms during covid. Wor...   \n",
       "2             2      2  Behind closed doors, the biggest viruses are m...   \n",
       "3             3      3  Bait for one, Death for another. But is it jus...   \n",
       "4             4      4  Lawyers of India, if I try to file a domestic ...   \n",
       "..          ...    ...                                                ...   \n",
       "855         134    231  Is it possible to amend the governing law loca...   \n",
       "856         135    232                              Instagram Sex Service   \n",
       "857         136    234  GET TWEETIG AND EMAILING!! It gets worse - men...   \n",
       "858         137    235                Paid extra for 3 years for Netflix.   \n",
       "859         138    240  My father hasn't been paying maintenance fees....   \n",
       "\n",
       "      score      id                                                url  \\\n",
       "0    3136.0  gfoc94                https://i.redd.it/xfvcce15rhx41.jpg   \n",
       "1     281.0  gsmest  https://www.reddit.com/r/india/comments/gsmest...   \n",
       "2    1129.0  fzzzji                https://i.redd.it/dc1v110v0fs41.jpg   \n",
       "3      56.0  gx7zv5                https://i.redd.it/dv07s7qsd4351.jpg   \n",
       "4      45.0  gvzj3d  https://www.reddit.com/r/india/comments/gvzj3d...   \n",
       "..      ...     ...                                                ...   \n",
       "855     2.0  ges6gh  https://www.reddit.com/r/legaladvice/comments/...   \n",
       "856     0.0  g5p6ot  https://www.reddit.com/r/legaladvice/comments/...   \n",
       "857     9.0  g4eqtv  https://www.reddit.com/r/MensRights/comments/g...   \n",
       "858     0.0  g6wnlm  https://www.reddit.com/r/legaladvice/comments/...   \n",
       "859     0.0  gpmmie  https://www.reddit.com/r/legaladvice/comments/...   \n",
       "\n",
       "     comms_num       created  \\\n",
       "0        328.0  1.588951e+09   \n",
       "1         86.0  1.590757e+09   \n",
       "2        172.0  1.586738e+09   \n",
       "3         15.0  1.591404e+09   \n",
       "4         16.0  1.591238e+09   \n",
       "..         ...           ...   \n",
       "855        3.0  1.588827e+09   \n",
       "856       11.0  1.587537e+09   \n",
       "857        4.0  1.587357e+09   \n",
       "858        9.0  1.587711e+09   \n",
       "859        0.0  1.590340e+09   \n",
       "\n",
       "                                                  body    year  month   day  \\\n",
       "0                                                 None  2020.0    5.0   8.0   \n",
       "1    My friend works from 8:30 to 17:30. Meanwhile ...  2020.0    5.0  29.0   \n",
       "2                                                 None  2020.0    4.0  13.0   \n",
       "3                                                 None  2020.0    6.0   6.0   \n",
       "4    My ex-boyfriend (2 year relationship) is from ...  2020.0    6.0   4.0   \n",
       "..                                                 ...     ...    ...   ...   \n",
       "855  I'm located in USA and have a LLC. The manufac...  2020.0    5.0   7.0   \n",
       "856  I stay in India. So today, I matched with this...  2020.0    4.0  22.0   \n",
       "857  Some have seen this posted. I say it gets wors...  2020.0    4.0  20.0   \n",
       "858  Hi everyone. A stupid post alert. \\n\\nApparent...  2020.0    4.0  24.0   \n",
       "859  Hello! Firstly I'd like to apologize if this i...  2020.0    5.0  24.0   \n",
       "\n",
       "         time violence_type   age  \n",
       "0    20:57:12         abuse  None  \n",
       "1    18:47:13         abuse    30  \n",
       "2    06:25:34         abuse  None  \n",
       "3    06:24:05         abuse  None  \n",
       "4    08:14:50         abuse  None  \n",
       "..        ...           ...   ...  \n",
       "855  10:30:01           NaN  None  \n",
       "856  12:12:53           NaN    18  \n",
       "857  10:10:28           NaN  None  \n",
       "858  12:26:59           NaN    16  \n",
       "859  22:56:59           NaN    21  \n",
       "\n",
       "[860 rows x 15 columns]"
      ]
     },
     "execution_count": 54,
     "metadata": {},
     "output_type": "execute_result"
    }
   ],
   "source": [
    "df"
   ]
  },
  {
   "cell_type": "code",
   "execution_count": 55,
   "metadata": {},
   "outputs": [],
   "source": [
    "df.to_csv('new_reddit_domestic_violence.csv')"
   ]
  },
  {
   "cell_type": "code",
   "execution_count": null,
   "metadata": {},
   "outputs": [],
   "source": []
  }
 ],
 "metadata": {
  "kernelspec": {
   "display_name": "Python 3",
   "language": "python",
   "name": "python3"
  },
  "language_info": {
   "codemirror_mode": {
    "name": "ipython",
    "version": 3
   },
   "file_extension": ".py",
   "mimetype": "text/x-python",
   "name": "python",
   "nbconvert_exporter": "python",
   "pygments_lexer": "ipython3",
   "version": "3.6.8"
  }
 },
 "nbformat": 4,
 "nbformat_minor": 4
}
