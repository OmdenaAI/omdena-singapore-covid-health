{
  "nbformat": 4,
  "nbformat_minor": 0,
  "metadata": {
    "colab": {
      "name": "Twitter Data.ipynb",
      "provenance": []
    },
    "kernelspec": {
      "name": "python3",
      "display_name": "Python 3"
    }
  },
  "cells": [
    {
      "cell_type": "code",
      "metadata": {
        "id": "5TUHC7LGamuM",
        "colab_type": "code",
        "outputId": "3908aab2-8038-405f-8999-996cbf62cf23",
        "colab": {
          "base_uri": "https://localhost:8080/",
          "height": 709
        }
      },
      "source": [
        "!pip install tweet-preprocessor\n",
        "!pip install GetOldTweets3\n",
        "!pip install twitterscraper"
      ],
      "execution_count": 0,
      "outputs": [
        {
          "output_type": "stream",
          "text": [
            "Collecting tweet-preprocessor\n",
            "  Downloading https://files.pythonhosted.org/packages/2a/f8/810ec35c31cca89bc4f1a02c14b042b9ec6c19dd21f7ef1876874ef069a6/tweet-preprocessor-0.5.0.tar.gz\n",
            "Building wheels for collected packages: tweet-preprocessor\n",
            "  Building wheel for tweet-preprocessor (setup.py) ... \u001b[?25l\u001b[?25hdone\n",
            "  Created wheel for tweet-preprocessor: filename=tweet_preprocessor-0.5.0-cp36-none-any.whl size=7947 sha256=38ddc9e32c3433078a850a62fbf63cc219001cc5b7c3389106a3fed1a65f5cda\n",
            "  Stored in directory: /root/.cache/pip/wheels/1b/27/cc/49938e98a2470802ebdefae9d2b3f524768e970c1ebbe2dc4a\n",
            "Successfully built tweet-preprocessor\n",
            "Installing collected packages: tweet-preprocessor\n",
            "Successfully installed tweet-preprocessor-0.5.0\n",
            "Collecting GetOldTweets3\n",
            "  Downloading https://files.pythonhosted.org/packages/ed/f4/a00c2a7c90801abc875325bb5416ce9090ac86d06a00cc887131bd73ba45/GetOldTweets3-0.0.11-py3-none-any.whl\n",
            "Collecting pyquery>=1.2.10\n",
            "  Downloading https://files.pythonhosted.org/packages/78/43/95d42e386c61cb639d1a0b94f0c0b9f0b7d6b981ad3c043a836c8b5bc68b/pyquery-1.4.1-py2.py3-none-any.whl\n",
            "Requirement already satisfied: lxml>=3.5.0 in /usr/local/lib/python3.6/dist-packages (from GetOldTweets3) (4.2.6)\n",
            "Collecting cssselect>0.7.9\n",
            "  Downloading https://files.pythonhosted.org/packages/3b/d4/3b5c17f00cce85b9a1e6f91096e1cc8e8ede2e1be8e96b87ce1ed09e92c5/cssselect-1.1.0-py2.py3-none-any.whl\n",
            "Installing collected packages: cssselect, pyquery, GetOldTweets3\n",
            "Successfully installed GetOldTweets3-0.0.11 cssselect-1.1.0 pyquery-1.4.1\n",
            "Collecting twitterscraper\n",
            "  Downloading https://files.pythonhosted.org/packages/7f/0f/7cf31233d4f5616c971f6b1ae22dd73fe9a69430877f5c37a0e7b508a311/twitterscraper-1.4.0.tar.gz\n",
            "Collecting coala-utils~=0.5.0\n",
            "  Downloading https://files.pythonhosted.org/packages/54/00/74ec750cfc4e830f9d1cfdd4d559f3d2d4ba1b834b78d5266446db3fd1d6/coala_utils-0.5.1-py3-none-any.whl\n",
            "Requirement already satisfied: bs4 in /usr/local/lib/python3.6/dist-packages (from twitterscraper) (0.0.1)\n",
            "Requirement already satisfied: lxml in /usr/local/lib/python3.6/dist-packages (from twitterscraper) (4.2.6)\n",
            "Requirement already satisfied: requests in /usr/local/lib/python3.6/dist-packages (from twitterscraper) (2.23.0)\n",
            "Collecting billiard\n",
            "\u001b[?25l  Downloading https://files.pythonhosted.org/packages/e8/5e/7591866ff45b370354bd20291cb6f87ddb2eef1f1c88c890a38412037e11/billiard-3.6.3.0-py3-none-any.whl (89kB)\n",
            "\u001b[K     |████████████████████████████████| 92kB 7.5MB/s \n",
            "\u001b[?25hRequirement already satisfied: beautifulsoup4 in /usr/local/lib/python3.6/dist-packages (from bs4->twitterscraper) (4.6.3)\n",
            "Requirement already satisfied: certifi>=2017.4.17 in /usr/local/lib/python3.6/dist-packages (from requests->twitterscraper) (2020.4.5.1)\n",
            "Requirement already satisfied: idna<3,>=2.5 in /usr/local/lib/python3.6/dist-packages (from requests->twitterscraper) (2.9)\n",
            "Requirement already satisfied: chardet<4,>=3.0.2 in /usr/local/lib/python3.6/dist-packages (from requests->twitterscraper) (3.0.4)\n",
            "Requirement already satisfied: urllib3!=1.25.0,!=1.25.1,<1.26,>=1.21.1 in /usr/local/lib/python3.6/dist-packages (from requests->twitterscraper) (1.24.3)\n",
            "Building wheels for collected packages: twitterscraper\n",
            "  Building wheel for twitterscraper (setup.py) ... \u001b[?25l\u001b[?25hdone\n",
            "  Created wheel for twitterscraper: filename=twitterscraper-1.4.0-cp36-none-any.whl size=11347 sha256=7b9fe00aa5d0e37a720707731f064fce4c782b5c13f1f99cbcd623e88e660db6\n",
            "  Stored in directory: /root/.cache/pip/wheels/c2/9c/8b/7393e7bdc8abe6ce0d46c2ffae2035a1a2080a97ff0ddbdde6\n",
            "Successfully built twitterscraper\n",
            "Installing collected packages: coala-utils, billiard, twitterscraper\n",
            "Successfully installed billiard-3.6.3.0 coala-utils-0.5.1 twitterscraper-1.4.0\n"
          ],
          "name": "stdout"
        }
      ]
    },
    {
      "cell_type": "code",
      "metadata": {
        "id": "NE0Gwkx_aqL9",
        "colab_type": "code",
        "colab": {}
      },
      "source": [
        "import tweepy\n",
        "from tweepy import Stream\n",
        "from tweepy import OAuthHandler\n",
        "from tweepy.streaming import StreamListener\n",
        "import json\n",
        "import matplotlib.pyplot as plt\n",
        "import pandas as pd\n",
        "import preprocessor as p\n",
        "import csv\n",
        "import string\n",
        "import re\n",
        "from wordcloud import WordCloud\n",
        "from nltk.corpus import stopwords\n",
        "from nltk.stem import WordNetLemmatizer\n",
        "\n",
        "from textblob import TextBlob\n",
        "import GetOldTweets3 as got\n",
        "from tabulate import tabulate\n",
        "\n",
        "from twitterscraper import query_tweets"
      ],
      "execution_count": 0,
      "outputs": []
    },
    {
      "cell_type": "code",
      "metadata": {
        "id": "J9RSK3WAa2gl",
        "colab_type": "code",
        "colab": {}
      },
      "source": [
        "def makeDataframe(query, startDate, endDate):\n",
        "  # Central India lat/long : 23, 80\n",
        "  # N-S India length : 3300 kms\n",
        "  tweetCriteria = got.manager.TweetCriteria().setQuerySearch(query)\\\n",
        "                                            .setSince(startDate)\\\n",
        "                                            .setUntil(endDate)\\\n",
        "                                            .setNear(\"23, 80\")\\\n",
        "                                            .setWithin(\"3300km\")\\\n",
        "                                            .setMaxTweets(4000)\n",
        "\n",
        "  #.setTopTweets(True)\\\n",
        "  tweets = got.manager.TweetManager.getTweets(tweetCriteria)\n",
        "  if len(tweets):\n",
        "    features = tweets[0].__dict__.keys()\n",
        "    df = pd.DataFrame([[getattr(i,j) for j in features] for i in tweets], columns = features)\n",
        "    df['query'] = query\n",
        "    print(\"Success\")\n",
        "  else:\n",
        "    print(\"No tweets found\")\n",
        "    return 0\n",
        "  \n",
        "  df.drop(columns=['to', 'permalink', 'formatted_date','urls'],inplace=True)\n",
        "  df.rename(columns={'id': 'tweet_id','author_id': 'user_id', 'geo':'tweet_location'}, inplace=True)\n",
        "  df.sort_values(by=['date'], inplace=True)\n",
        "  print(df.shape)\n",
        "  df['month'] = df['date'].map(lambda x: x.month)\n",
        "  df['year'] = df['date'].map(lambda x: x.year)\n",
        "  return df"
      ],
      "execution_count": 0,
      "outputs": []
    },
    {
      "cell_type": "markdown",
      "metadata": {
        "id": "ZjedHlS7fwaz",
        "colab_type": "text"
      },
      "source": [
        "Cigarette burn\n",
        "\n",
        "dirty boys\n",
        "\n",
        "attention seeking feminist \n",
        "\n",
        "fuck yourself\n",
        "\n",
        "intimidate\n",
        "\n",
        "unwanted sex \n",
        "\n",
        "slut shaming\n",
        "\n",
        "personal picture online\n",
        "\n",
        "death threats\n",
        "\n",
        "nude pictures\n",
        "\n",
        "\n",
        "\n"
      ]
    },
    {
      "cell_type": "code",
      "metadata": {
        "id": "rP5kC1iBbgTi",
        "colab_type": "code",
        "colab": {}
      },
      "source": [
        "query = 'nude pictures'\n",
        "start = \"2020-01-01\"\n",
        "end = \"2020-05-21\""
      ],
      "execution_count": 0,
      "outputs": []
    },
    {
      "cell_type": "code",
      "metadata": {
        "id": "bzka0TQvbnNx",
        "colab_type": "code",
        "outputId": "db3edd56-b26c-4313-9e30-b080b934e5ec",
        "colab": {
          "base_uri": "https://localhost:8080/",
          "height": 50
        }
      },
      "source": [
        "df = makeDataframe(query, start, end)"
      ],
      "execution_count": 0,
      "outputs": [
        {
          "output_type": "stream",
          "text": [
            "Success\n",
            "(866, 12)\n"
          ],
          "name": "stdout"
        }
      ]
    },
    {
      "cell_type": "code",
      "metadata": {
        "id": "NXUDZTs_b6Ta",
        "colab_type": "code",
        "outputId": "2fe024b1-9d1f-435e-bd85-b976a4551800",
        "colab": {
          "base_uri": "https://localhost:8080/",
          "height": 623
        }
      },
      "source": [
        "df"
      ],
      "execution_count": 0,
      "outputs": [
        {
          "output_type": "execute_result",
          "data": {
            "text/html": [
              "<div>\n",
              "<style scoped>\n",
              "    .dataframe tbody tr th:only-of-type {\n",
              "        vertical-align: middle;\n",
              "    }\n",
              "\n",
              "    .dataframe tbody tr th {\n",
              "        vertical-align: top;\n",
              "    }\n",
              "\n",
              "    .dataframe thead th {\n",
              "        text-align: right;\n",
              "    }\n",
              "</style>\n",
              "<table border=\"1\" class=\"dataframe\">\n",
              "  <thead>\n",
              "    <tr style=\"text-align: right;\">\n",
              "      <th></th>\n",
              "      <th>username</th>\n",
              "      <th>text</th>\n",
              "      <th>retweets</th>\n",
              "      <th>favorites</th>\n",
              "      <th>replies</th>\n",
              "      <th>tweet_id</th>\n",
              "      <th>user_id</th>\n",
              "      <th>date</th>\n",
              "      <th>hashtags</th>\n",
              "      <th>mentions</th>\n",
              "      <th>tweet_location</th>\n",
              "      <th>query</th>\n",
              "      <th>month</th>\n",
              "      <th>year</th>\n",
              "    </tr>\n",
              "  </thead>\n",
              "  <tbody>\n",
              "    <tr>\n",
              "      <th>865</th>\n",
              "      <td>daffasvdiana</td>\n",
              "      <td>Heres my nude pic.twitter.com/GQ5K0MBWIC</td>\n",
              "      <td>0</td>\n",
              "      <td>1</td>\n",
              "      <td>1</td>\n",
              "      <td>1212176318684491777</td>\n",
              "      <td>1025429163920875520</td>\n",
              "      <td>2020-01-01 00:58:50+00:00</td>\n",
              "      <td></td>\n",
              "      <td></td>\n",
              "      <td></td>\n",
              "      <td>nude pictures</td>\n",
              "      <td>1</td>\n",
              "      <td>2020</td>\n",
              "    </tr>\n",
              "    <tr>\n",
              "      <th>864</th>\n",
              "      <td>_noradzreen</td>\n",
              "      <td>Japgi dah bosan aku tukar warna nude pic.twitt...</td>\n",
              "      <td>0</td>\n",
              "      <td>1</td>\n",
              "      <td>0</td>\n",
              "      <td>1212270508680478720</td>\n",
              "      <td>2173425036</td>\n",
              "      <td>2020-01-01 07:13:06+00:00</td>\n",
              "      <td></td>\n",
              "      <td></td>\n",
              "      <td></td>\n",
              "      <td>nude pictures</td>\n",
              "      <td>1</td>\n",
              "      <td>2020</td>\n",
              "    </tr>\n",
              "    <tr>\n",
              "      <th>863</th>\n",
              "      <td>dj_masashi_nude</td>\n",
              "      <td>@Gws_DJShohey さん 遅くなりましたが お誕生日おめでとうございます ！ pic...</td>\n",
              "      <td>1</td>\n",
              "      <td>4</td>\n",
              "      <td>1</td>\n",
              "      <td>1212373484652752896</td>\n",
              "      <td>2473386954</td>\n",
              "      <td>2020-01-01 14:02:18+00:00</td>\n",
              "      <td></td>\n",
              "      <td>@Gws_DJShohey</td>\n",
              "      <td></td>\n",
              "      <td>nude pictures</td>\n",
              "      <td>1</td>\n",
              "      <td>2020</td>\n",
              "    </tr>\n",
              "    <tr>\n",
              "      <th>862</th>\n",
              "      <td>dj_masashi_nude</td>\n",
              "      <td>2019年@DJ_MAAM_osaka さん しっかり納めさせていただきました！ ありがとう...</td>\n",
              "      <td>2</td>\n",
              "      <td>9</td>\n",
              "      <td>1</td>\n",
              "      <td>1212402837902151680</td>\n",
              "      <td>2473386954</td>\n",
              "      <td>2020-01-01 15:58:56+00:00</td>\n",
              "      <td></td>\n",
              "      <td>@DJ_MAAM_osaka</td>\n",
              "      <td></td>\n",
              "      <td>nude pictures</td>\n",
              "      <td>1</td>\n",
              "      <td>2020</td>\n",
              "    </tr>\n",
              "    <tr>\n",
              "      <th>861</th>\n",
              "      <td>premrimal11</td>\n",
              "      <td>When you have all those things you want But ha...</td>\n",
              "      <td>0</td>\n",
              "      <td>0</td>\n",
              "      <td>0</td>\n",
              "      <td>1212590291997224961</td>\n",
              "      <td>772059633800257536</td>\n",
              "      <td>2020-01-02 04:23:49+00:00</td>\n",
              "      <td></td>\n",
              "      <td></td>\n",
              "      <td></td>\n",
              "      <td>nude pictures</td>\n",
              "      <td>1</td>\n",
              "      <td>2020</td>\n",
              "    </tr>\n",
              "    <tr>\n",
              "      <th>...</th>\n",
              "      <td>...</td>\n",
              "      <td>...</td>\n",
              "      <td>...</td>\n",
              "      <td>...</td>\n",
              "      <td>...</td>\n",
              "      <td>...</td>\n",
              "      <td>...</td>\n",
              "      <td>...</td>\n",
              "      <td>...</td>\n",
              "      <td>...</td>\n",
              "      <td>...</td>\n",
              "      <td>...</td>\n",
              "      <td>...</td>\n",
              "      <td>...</td>\n",
              "    </tr>\n",
              "    <tr>\n",
              "      <th>4</th>\n",
              "      <td>xxholysmokexx</td>\n",
              "      <td>Ramazan ayında nude dediğin böyle olmalı mı kf...</td>\n",
              "      <td>0</td>\n",
              "      <td>10</td>\n",
              "      <td>0</td>\n",
              "      <td>1263227208501473280</td>\n",
              "      <td>981925655087546373</td>\n",
              "      <td>2020-05-20 21:56:50+00:00</td>\n",
              "      <td></td>\n",
              "      <td></td>\n",
              "      <td></td>\n",
              "      <td>nude pictures</td>\n",
              "      <td>5</td>\n",
              "      <td>2020</td>\n",
              "    </tr>\n",
              "    <tr>\n",
              "      <th>3</th>\n",
              "      <td>_aiferarafer</td>\n",
              "      <td>I hope I WANT NUDE .. oh ma gad.. all de colou...</td>\n",
              "      <td>0</td>\n",
              "      <td>0</td>\n",
              "      <td>0</td>\n",
              "      <td>1263234189102473216</td>\n",
              "      <td>905759085936517120</td>\n",
              "      <td>2020-05-20 22:24:35+00:00</td>\n",
              "      <td></td>\n",
              "      <td></td>\n",
              "      <td></td>\n",
              "      <td>nude pictures</td>\n",
              "      <td>5</td>\n",
              "      <td>2020</td>\n",
              "    </tr>\n",
              "    <tr>\n",
              "      <th>2</th>\n",
              "      <td>guerrero_dam</td>\n",
              "      <td>Ta daronne quand elle va voir que tu vends des...</td>\n",
              "      <td>0</td>\n",
              "      <td>1</td>\n",
              "      <td>0</td>\n",
              "      <td>1263242316040601602</td>\n",
              "      <td>864951021675663360</td>\n",
              "      <td>2020-05-20 22:56:52+00:00</td>\n",
              "      <td></td>\n",
              "      <td></td>\n",
              "      <td></td>\n",
              "      <td>nude pictures</td>\n",
              "      <td>5</td>\n",
              "      <td>2020</td>\n",
              "    </tr>\n",
              "    <tr>\n",
              "      <th>1</th>\n",
              "      <td>MianJahangirpk</td>\n",
              "      <td>It's not a nude beach but she decided to take ...</td>\n",
              "      <td>1</td>\n",
              "      <td>16</td>\n",
              "      <td>0</td>\n",
              "      <td>1263245357980532738</td>\n",
              "      <td>1064776496</td>\n",
              "      <td>2020-05-20 23:08:57+00:00</td>\n",
              "      <td></td>\n",
              "      <td></td>\n",
              "      <td></td>\n",
              "      <td>nude pictures</td>\n",
              "      <td>5</td>\n",
              "      <td>2020</td>\n",
              "    </tr>\n",
              "    <tr>\n",
              "      <th>0</th>\n",
              "      <td>carrisemsee</td>\n",
              "      <td>Titties warm and fluffy. Call them gender roll...</td>\n",
              "      <td>0</td>\n",
              "      <td>2</td>\n",
              "      <td>0</td>\n",
              "      <td>1263257673425969158</td>\n",
              "      <td>330530974</td>\n",
              "      <td>2020-05-20 23:57:54+00:00</td>\n",
              "      <td></td>\n",
              "      <td></td>\n",
              "      <td></td>\n",
              "      <td>nude pictures</td>\n",
              "      <td>5</td>\n",
              "      <td>2020</td>\n",
              "    </tr>\n",
              "  </tbody>\n",
              "</table>\n",
              "<p>866 rows × 14 columns</p>\n",
              "</div>"
            ],
            "text/plain": [
              "            username  ...  year\n",
              "865     daffasvdiana  ...  2020\n",
              "864      _noradzreen  ...  2020\n",
              "863  dj_masashi_nude  ...  2020\n",
              "862  dj_masashi_nude  ...  2020\n",
              "861      premrimal11  ...  2020\n",
              "..               ...  ...   ...\n",
              "4      xxholysmokexx  ...  2020\n",
              "3       _aiferarafer  ...  2020\n",
              "2       guerrero_dam  ...  2020\n",
              "1     MianJahangirpk  ...  2020\n",
              "0        carrisemsee  ...  2020\n",
              "\n",
              "[866 rows x 14 columns]"
            ]
          },
          "metadata": {
            "tags": []
          },
          "execution_count": 9
        }
      ]
    },
    {
      "cell_type": "code",
      "metadata": {
        "id": "adkrLaBscqwn",
        "colab_type": "code",
        "colab": {}
      },
      "source": [
        "consumer_key = 'eyJRSt7un2LPv8hm4pdgyDIpw'\n",
        "consumer_secret = 'Qt0Zvo5wDMaH8ukpAIbRSMa7OBrlxToxMosyu7uKPNE4MV5fRX'\n",
        "access_key= '1237743299550539776-FoHIRNQswaml5FbC6GpLmWMxGxwtpM'\n",
        "access_secret = 'w2kHLkUAoe8BTNfYmOLs6TJ0hEQKVyVbHKOEyGUj7cclW'\n",
        "\n",
        "auth = tweepy.OAuthHandler(consumer_key, consumer_secret)\n",
        "auth.set_access_token(access_key, access_secret)\n",
        "api = tweepy.API(auth, wait_on_rate_limit=True)"
      ],
      "execution_count": 0,
      "outputs": []
    },
    {
      "cell_type": "code",
      "metadata": {
        "id": "5pvP0yxydMFR",
        "colab_type": "code",
        "colab": {}
      },
      "source": [
        "def get_location(username):\n",
        "  userObj = api.get_user(username)\n",
        "  return userObj.location"
      ],
      "execution_count": 0,
      "outputs": []
    },
    {
      "cell_type": "code",
      "metadata": {
        "id": "P-AfhGVAdTZM",
        "colab_type": "code",
        "colab": {}
      },
      "source": [
        "df['user_location'] = df['username'].map(lambda u:get_location(u))"
      ],
      "execution_count": 0,
      "outputs": []
    },
    {
      "cell_type": "code",
      "metadata": {
        "id": "Zino_95zdUn9",
        "colab_type": "code",
        "outputId": "b48a5654-36cb-49ca-f042-dc07294cf2cc",
        "colab": {
          "base_uri": "https://localhost:8080/",
          "height": 84
        }
      },
      "source": [
        "df.columns"
      ],
      "execution_count": 0,
      "outputs": [
        {
          "output_type": "execute_result",
          "data": {
            "text/plain": [
              "Index(['username', 'text', 'retweets', 'favorites', 'replies', 'tweet_id',\n",
              "       'user_id', 'date', 'hashtags', 'mentions', 'tweet_location', 'query',\n",
              "       'month', 'year', 'user_location'],\n",
              "      dtype='object')"
            ]
          },
          "metadata": {
            "tags": []
          },
          "execution_count": 13
        }
      ]
    },
    {
      "cell_type": "code",
      "metadata": {
        "id": "3RIcSsmadWAR",
        "colab_type": "code",
        "outputId": "26bbbb5a-5a97-4cd3-ab4f-ed99ae62d264",
        "colab": {
          "base_uri": "https://localhost:8080/",
          "height": 118
        }
      },
      "source": [
        "df['month'].value_counts()"
      ],
      "execution_count": 0,
      "outputs": [
        {
          "output_type": "execute_result",
          "data": {
            "text/plain": [
              "5    451\n",
              "4    131\n",
              "1    105\n",
              "3    101\n",
              "2     78\n",
              "Name: month, dtype: int64"
            ]
          },
          "metadata": {
            "tags": []
          },
          "execution_count": 14
        }
      ]
    },
    {
      "cell_type": "code",
      "metadata": {
        "id": "kJY9S7C2di-S",
        "colab_type": "code",
        "outputId": "6e08faba-ad2d-4f33-c809-1beb30b0fa72",
        "colab": {
          "base_uri": "https://localhost:8080/",
          "height": 279
        }
      },
      "source": [
        "df.month.value_counts().plot(kind='bar')"
      ],
      "execution_count": 0,
      "outputs": [
        {
          "output_type": "execute_result",
          "data": {
            "text/plain": [
              "<matplotlib.axes._subplots.AxesSubplot at 0x7f1da2b29d68>"
            ]
          },
          "metadata": {
            "tags": []
          },
          "execution_count": 15
        },
        {
          "output_type": "display_data",
          "data": {
            "image/png": "[encoded data removed]",
            "text/plain": [
              "<Figure size 432x288 with 1 Axes>"
            ]
          },
          "metadata": {
            "tags": [],
            "needs_background": "light"
          }
        }
      ]
    },
    {
      "cell_type": "code",
      "metadata": {
        "id": "-9DzujJQdkYb",
        "colab_type": "code",
        "colab": {}
      },
      "source": [
        "df.to_csv('t10.csv', index=False)"
      ],
      "execution_count": 0,
      "outputs": []
    },
    {
      "cell_type": "code",
      "metadata": {
        "id": "Qc05XO9DdpKf",
        "colab_type": "code",
        "colab": {}
      },
      "source": [
        "all_filenames = ['t1.csv','t2.csv','t3.csv','t4.csv','t5.csv','t6.csv','t7.csv','t8.csv','t9.csv','t10.csv']"
      ],
      "execution_count": 0,
      "outputs": []
    },
    {
      "cell_type": "code",
      "metadata": {
        "id": "0-XyQmO09_ub",
        "colab_type": "code",
        "colab": {}
      },
      "source": [
        "#combine all files in the list\n",
        "combined_csv = pd.concat([pd.read_csv(f) for f in all_filenames ])\n",
        "#export to csv\n",
        "combined_csv.to_csv( \"Twitter_Data.csv\", index=False, encoding='utf-8-sig')"
      ],
      "execution_count": 0,
      "outputs": []
    },
    {
      "cell_type": "code",
      "metadata": {
        "id": "IsZHE5Ry-I52",
        "colab_type": "code",
        "colab": {}
      },
      "source": [
        "df=pd.read_csv(\"Twitter_Data.csv\",keep_default_na=False) "
      ],
      "execution_count": 0,
      "outputs": []
    },
    {
      "cell_type": "code",
      "metadata": {
        "id": "rO5dKcUt-iVb",
        "colab_type": "code",
        "outputId": "bab6afbe-4662-4fb1-99d4-120682328d6e",
        "colab": {
          "base_uri": "https://localhost:8080/",
          "height": 686
        }
      },
      "source": [
        "print(df.shape)\n",
        "print(df.dtypes)\n",
        "df.head()"
      ],
      "execution_count": 0,
      "outputs": [
        {
          "output_type": "stream",
          "text": [
            "(3521, 15)\n",
            "username          object\n",
            "text              object\n",
            "retweets           int64\n",
            "favorites          int64\n",
            "replies            int64\n",
            "tweet_id           int64\n",
            "user_id            int64\n",
            "date              object\n",
            "hashtags          object\n",
            "mentions          object\n",
            "tweet_location    object\n",
            "query             object\n",
            "month              int64\n",
            "year               int64\n",
            "user_location     object\n",
            "dtype: object\n"
          ],
          "name": "stdout"
        },
        {
          "output_type": "execute_result",
          "data": {
            "text/html": [
              "<div>\n",
              "<style scoped>\n",
              "    .dataframe tbody tr th:only-of-type {\n",
              "        vertical-align: middle;\n",
              "    }\n",
              "\n",
              "    .dataframe tbody tr th {\n",
              "        vertical-align: top;\n",
              "    }\n",
              "\n",
              "    .dataframe thead th {\n",
              "        text-align: right;\n",
              "    }\n",
              "</style>\n",
              "<table border=\"1\" class=\"dataframe\">\n",
              "  <thead>\n",
              "    <tr style=\"text-align: right;\">\n",
              "      <th></th>\n",
              "      <th>username</th>\n",
              "      <th>text</th>\n",
              "      <th>retweets</th>\n",
              "      <th>favorites</th>\n",
              "      <th>replies</th>\n",
              "      <th>tweet_id</th>\n",
              "      <th>user_id</th>\n",
              "      <th>date</th>\n",
              "      <th>hashtags</th>\n",
              "      <th>mentions</th>\n",
              "      <th>tweet_location</th>\n",
              "      <th>query</th>\n",
              "      <th>month</th>\n",
              "      <th>year</th>\n",
              "      <th>user_location</th>\n",
              "    </tr>\n",
              "  </thead>\n",
              "  <tbody>\n",
              "    <tr>\n",
              "      <th>0</th>\n",
              "      <td>sadboyzxy</td>\n",
              "      <td>burn a cigarette, then talk.</td>\n",
              "      <td>0</td>\n",
              "      <td>2</td>\n",
              "      <td>0</td>\n",
              "      <td>1216974340152889345</td>\n",
              "      <td>1142701770994356225</td>\n",
              "      <td>2020-01-14 06:44:27+00:00</td>\n",
              "      <td></td>\n",
              "      <td></td>\n",
              "      <td></td>\n",
              "      <td>Cigarette burn</td>\n",
              "      <td>1</td>\n",
              "      <td>2020</td>\n",
              "      <td>heaven</td>\n",
              "    </tr>\n",
              "    <tr>\n",
              "      <th>1</th>\n",
              "      <td>guiltydumb</td>\n",
              "      <td>my fingertips, and my lips, they burn from the...</td>\n",
              "      <td>0</td>\n",
              "      <td>0</td>\n",
              "      <td>0</td>\n",
              "      <td>1219706002188095488</td>\n",
              "      <td>582557749</td>\n",
              "      <td>2020-01-21 19:39:06+00:00</td>\n",
              "      <td></td>\n",
              "      <td></td>\n",
              "      <td></td>\n",
              "      <td>Cigarette burn</td>\n",
              "      <td>1</td>\n",
              "      <td>2020</td>\n",
              "      <td></td>\n",
              "    </tr>\n",
              "    <tr>\n",
              "      <th>2</th>\n",
              "      <td>Nandime</td>\n",
              "      <td>When I used to burn nearly 30 cigarettes a day...</td>\n",
              "      <td>0</td>\n",
              "      <td>0</td>\n",
              "      <td>0</td>\n",
              "      <td>1221604565793021952</td>\n",
              "      <td>268182695</td>\n",
              "      <td>2020-01-27 01:23:19+00:00</td>\n",
              "      <td>#YouCanQuitToo #SmokeFreeUAE #KTForGood</td>\n",
              "      <td></td>\n",
              "      <td></td>\n",
              "      <td>Cigarette burn</td>\n",
              "      <td>1</td>\n",
              "      <td>2020</td>\n",
              "      <td></td>\n",
              "    </tr>\n",
              "    <tr>\n",
              "      <th>3</th>\n",
              "      <td>l6_alkandri</td>\n",
              "      <td>Hold me between your fingers burn me like your...</td>\n",
              "      <td>0</td>\n",
              "      <td>0</td>\n",
              "      <td>0</td>\n",
              "      <td>1225012141855584256</td>\n",
              "      <td>4636072349</td>\n",
              "      <td>2020-02-05 11:03:48+00:00</td>\n",
              "      <td></td>\n",
              "      <td></td>\n",
              "      <td></td>\n",
              "      <td>Cigarette burn</td>\n",
              "      <td>2</td>\n",
              "      <td>2020</td>\n",
              "      <td>kuwait city</td>\n",
              "    </tr>\n",
              "    <tr>\n",
              "      <th>4</th>\n",
              "      <td>Real_Rohit98</td>\n",
              "      <td>#NoSmokingDay Don’t smoke, it’s not a joke. Do...</td>\n",
              "      <td>0</td>\n",
              "      <td>0</td>\n",
              "      <td>0</td>\n",
              "      <td>1237589924095770625</td>\n",
              "      <td>1160027935991930880</td>\n",
              "      <td>2020-03-11 04:03:25+00:00</td>\n",
              "      <td>#NoSmokingDay #WednesdayMotivation</td>\n",
              "      <td>@SaintRampalJiM</td>\n",
              "      <td></td>\n",
              "      <td>Cigarette burn</td>\n",
              "      <td>3</td>\n",
              "      <td>2020</td>\n",
              "      <td>India</td>\n",
              "    </tr>\n",
              "  </tbody>\n",
              "</table>\n",
              "</div>"
            ],
            "text/plain": [
              "       username  ... user_location\n",
              "0     sadboyzxy  ...        heaven\n",
              "1    guiltydumb  ...              \n",
              "2       Nandime  ...              \n",
              "3   l6_alkandri  ...  kuwait city \n",
              "4  Real_Rohit98  ...         India\n",
              "\n",
              "[5 rows x 15 columns]"
            ]
          },
          "metadata": {
            "tags": []
          },
          "execution_count": 21
        }
      ]
    },
    {
      "cell_type": "code",
      "metadata": {
        "id": "ujloOv8KBv-3",
        "colab_type": "code",
        "outputId": "1cf2d55f-4b12-444e-c556-bc49d61f0c6a",
        "colab": {
          "base_uri": "https://localhost:8080/",
          "height": 118
        }
      },
      "source": [
        "df['month'].value_counts()"
      ],
      "execution_count": 0,
      "outputs": [
        {
          "output_type": "execute_result",
          "data": {
            "text/plain": [
              "5    1934\n",
              "4     499\n",
              "3     383\n",
              "1     383\n",
              "2     322\n",
              "Name: month, dtype: int64"
            ]
          },
          "metadata": {
            "tags": []
          },
          "execution_count": 22
        }
      ]
    },
    {
      "cell_type": "code",
      "metadata": {
        "id": "m3HQXOalB69F",
        "colab_type": "code",
        "outputId": "0e24947e-51a7-4508-f6bf-3b6ad3bd1c8b",
        "colab": {
          "base_uri": "https://localhost:8080/",
          "height": 279
        }
      },
      "source": [
        "df.month.value_counts().plot(kind='bar')"
      ],
      "execution_count": 0,
      "outputs": [
        {
          "output_type": "execute_result",
          "data": {
            "text/plain": [
              "<matplotlib.axes._subplots.AxesSubplot at 0x7f1da20a7400>"
            ]
          },
          "metadata": {
            "tags": []
          },
          "execution_count": 23
        },
        {
          "output_type": "display_data",
          "data": {
            "image/png": "[encoded data removed]",
            "text/plain": [
              "<Figure size 432x288 with 1 Axes>"
            ]
          },
          "metadata": {
            "tags": [],
            "needs_background": "light"
          }
        }
      ]
    },
    {
      "cell_type": "code",
      "metadata": {
        "id": "w11gzQZLB-IP",
        "colab_type": "code",
        "outputId": "40cee821-20cb-4065-c4fb-7da8581158b8",
        "colab": {
          "base_uri": "https://localhost:8080/",
          "height": 34
        }
      },
      "source": [
        "df.duplicated().any()"
      ],
      "execution_count": 0,
      "outputs": [
        {
          "output_type": "execute_result",
          "data": {
            "text/plain": [
              "False"
            ]
          },
          "metadata": {
            "tags": []
          },
          "execution_count": 24
        }
      ]
    },
    {
      "cell_type": "code",
      "metadata": {
        "id": "mt2jC-kKCDmi",
        "colab_type": "code",
        "outputId": "114fd9cc-c265-4dcf-867a-7676879710a7",
        "colab": {
          "base_uri": "https://localhost:8080/",
          "height": 1000
        }
      },
      "source": [
        "# Checking if any user has made duplicate tweets\n",
        "dupRows = df[df.duplicated(['text','username'])]\n",
        "dupRows.sort_values(by=['username'], inplace=True)\n",
        "dupRows"
      ],
      "execution_count": 0,
      "outputs": [
        {
          "output_type": "stream",
          "text": [
            "/usr/local/lib/python3.6/dist-packages/ipykernel_launcher.py:3: SettingWithCopyWarning: \n",
            "A value is trying to be set on a copy of a slice from a DataFrame\n",
            "\n",
            "See the caveats in the documentation: https://pandas.pydata.org/pandas-docs/stable/user_guide/indexing.html#returning-a-view-versus-a-copy\n",
            "  This is separate from the ipykernel package so we can avoid doing imports until\n"
          ],
          "name": "stderr"
        },
        {
          "output_type": "execute_result",
          "data": {
            "text/html": [
              "<div>\n",
              "<style scoped>\n",
              "    .dataframe tbody tr th:only-of-type {\n",
              "        vertical-align: middle;\n",
              "    }\n",
              "\n",
              "    .dataframe tbody tr th {\n",
              "        vertical-align: top;\n",
              "    }\n",
              "\n",
              "    .dataframe thead th {\n",
              "        text-align: right;\n",
              "    }\n",
              "</style>\n",
              "<table border=\"1\" class=\"dataframe\">\n",
              "  <thead>\n",
              "    <tr style=\"text-align: right;\">\n",
              "      <th></th>\n",
              "      <th>username</th>\n",
              "      <th>text</th>\n",
              "      <th>retweets</th>\n",
              "      <th>favorites</th>\n",
              "      <th>replies</th>\n",
              "      <th>tweet_id</th>\n",
              "      <th>user_id</th>\n",
              "      <th>date</th>\n",
              "      <th>hashtags</th>\n",
              "      <th>mentions</th>\n",
              "      <th>tweet_location</th>\n",
              "      <th>query</th>\n",
              "      <th>month</th>\n",
              "      <th>year</th>\n",
              "      <th>user_location</th>\n",
              "    </tr>\n",
              "  </thead>\n",
              "  <tbody>\n",
              "    <tr>\n",
              "      <th>1845</th>\n",
              "      <td>BKWitharane</td>\n",
              "      <td>Promoting safe sex and family planning is impo...</td>\n",
              "      <td>0</td>\n",
              "      <td>3</td>\n",
              "      <td>0</td>\n",
              "      <td>1249617964799647745</td>\n",
              "      <td>971695338405834753</td>\n",
              "      <td>2020-04-13 08:38:34+00:00</td>\n",
              "      <td></td>\n",
              "      <td></td>\n",
              "      <td></td>\n",
              "      <td>unwanted sex</td>\n",
              "      <td>4</td>\n",
              "      <td>2020</td>\n",
              "      <td>Sri Lanka</td>\n",
              "    </tr>\n",
              "    <tr>\n",
              "      <th>107</th>\n",
              "      <td>EktaKum42593873</td>\n",
              "      <td>All boys , Actors, Artists &amp;amp; Society that ...</td>\n",
              "      <td>0</td>\n",
              "      <td>0</td>\n",
              "      <td>0</td>\n",
              "      <td>1261300621107433472</td>\n",
              "      <td>718851553692528640</td>\n",
              "      <td>2020-05-15 14:21:16+00:00</td>\n",
              "      <td></td>\n",
              "      <td></td>\n",
              "      <td></td>\n",
              "      <td>dirty boys</td>\n",
              "      <td>5</td>\n",
              "      <td>2020</td>\n",
              "      <td>Bokaro Steel City, India</td>\n",
              "    </tr>\n",
              "    <tr>\n",
              "      <th>106</th>\n",
              "      <td>EktaKum42593873</td>\n",
              "      <td>...In this BB Show , \"Shiddhart Shukla\" in for...</td>\n",
              "      <td>0</td>\n",
              "      <td>0</td>\n",
              "      <td>0</td>\n",
              "      <td>1261300548923506689</td>\n",
              "      <td>718851553692528640</td>\n",
              "      <td>2020-05-15 14:20:59+00:00</td>\n",
              "      <td></td>\n",
              "      <td></td>\n",
              "      <td></td>\n",
              "      <td>dirty boys</td>\n",
              "      <td>5</td>\n",
              "      <td>2020</td>\n",
              "      <td>Bokaro Steel City, India</td>\n",
              "    </tr>\n",
              "    <tr>\n",
              "      <th>2468</th>\n",
              "      <td>ItsPratsD</td>\n",
              "      <td>There's a difference between using abusives wi...</td>\n",
              "      <td>0</td>\n",
              "      <td>2</td>\n",
              "      <td>0</td>\n",
              "      <td>1261955844205187073</td>\n",
              "      <td>1202254991290798081</td>\n",
              "      <td>2020-05-17 09:44:53+00:00</td>\n",
              "      <td></td>\n",
              "      <td></td>\n",
              "      <td></td>\n",
              "      <td>death threats</td>\n",
              "      <td>5</td>\n",
              "      <td>2020</td>\n",
              "      <td>Mumbai, India</td>\n",
              "    </tr>\n",
              "    <tr>\n",
              "      <th>2270</th>\n",
              "      <td>Mukesh_Pandya07</td>\n",
              "      <td>What about the almost synchronised attack on h...</td>\n",
              "      <td>0</td>\n",
              "      <td>0</td>\n",
              "      <td>0</td>\n",
              "      <td>1247540456520441859</td>\n",
              "      <td>143789010</td>\n",
              "      <td>2020-04-07 15:03:17+00:00</td>\n",
              "      <td></td>\n",
              "      <td></td>\n",
              "      <td></td>\n",
              "      <td>death threats</td>\n",
              "      <td>4</td>\n",
              "      <td>2020</td>\n",
              "      <td>Mumbai, India</td>\n",
              "    </tr>\n",
              "    <tr>\n",
              "      <th>...</th>\n",
              "      <td>...</td>\n",
              "      <td>...</td>\n",
              "      <td>...</td>\n",
              "      <td>...</td>\n",
              "      <td>...</td>\n",
              "      <td>...</td>\n",
              "      <td>...</td>\n",
              "      <td>...</td>\n",
              "      <td>...</td>\n",
              "      <td>...</td>\n",
              "      <td>...</td>\n",
              "      <td>...</td>\n",
              "      <td>...</td>\n",
              "      <td>...</td>\n",
              "      <td>...</td>\n",
              "    </tr>\n",
              "    <tr>\n",
              "      <th>987</th>\n",
              "      <td>sitiyuli5</td>\n",
              "      <td>Destroy yourself, see who gives a fuck,</td>\n",
              "      <td>0</td>\n",
              "      <td>0</td>\n",
              "      <td>0</td>\n",
              "      <td>1262339279839088641</td>\n",
              "      <td>1862491807</td>\n",
              "      <td>2020-05-18 11:08:32+00:00</td>\n",
              "      <td></td>\n",
              "      <td></td>\n",
              "      <td></td>\n",
              "      <td>fuck yourself</td>\n",
              "      <td>5</td>\n",
              "      <td>2020</td>\n",
              "      <td>jakarta</td>\n",
              "    </tr>\n",
              "    <tr>\n",
              "      <th>939</th>\n",
              "      <td>sitiyuli5</td>\n",
              "      <td>Destroy yourself, see who gives a fuck,</td>\n",
              "      <td>0</td>\n",
              "      <td>0</td>\n",
              "      <td>0</td>\n",
              "      <td>1262037401112686596</td>\n",
              "      <td>1862491807</td>\n",
              "      <td>2020-05-17 15:08:58+00:00</td>\n",
              "      <td></td>\n",
              "      <td></td>\n",
              "      <td></td>\n",
              "      <td>fuck yourself</td>\n",
              "      <td>5</td>\n",
              "      <td>2020</td>\n",
              "      <td>jakarta</td>\n",
              "    </tr>\n",
              "    <tr>\n",
              "      <th>891</th>\n",
              "      <td>sitiyuli5</td>\n",
              "      <td>Destroy yourself, see who gives a fuck,</td>\n",
              "      <td>0</td>\n",
              "      <td>0</td>\n",
              "      <td>0</td>\n",
              "      <td>1261712576565506048</td>\n",
              "      <td>1862491807</td>\n",
              "      <td>2020-05-16 17:38:14+00:00</td>\n",
              "      <td></td>\n",
              "      <td></td>\n",
              "      <td></td>\n",
              "      <td>fuck yourself</td>\n",
              "      <td>5</td>\n",
              "      <td>2020</td>\n",
              "      <td>jakarta</td>\n",
              "    </tr>\n",
              "    <tr>\n",
              "      <th>1153</th>\n",
              "      <td>sitiyuli5</td>\n",
              "      <td>Destroy yourself, see who gives a fuck,</td>\n",
              "      <td>0</td>\n",
              "      <td>0</td>\n",
              "      <td>0</td>\n",
              "      <td>1263214976631631872</td>\n",
              "      <td>1862491807</td>\n",
              "      <td>2020-05-20 21:08:14+00:00</td>\n",
              "      <td></td>\n",
              "      <td></td>\n",
              "      <td></td>\n",
              "      <td>fuck yourself</td>\n",
              "      <td>5</td>\n",
              "      <td>2020</td>\n",
              "      <td>jakarta</td>\n",
              "    </tr>\n",
              "    <tr>\n",
              "      <th>1609</th>\n",
              "      <td>utsavyadav778</td>\n",
              "      <td>Why is govt. seeking to lock up dissident inte...</td>\n",
              "      <td>1</td>\n",
              "      <td>2</td>\n",
              "      <td>0</td>\n",
              "      <td>1261640495945658369</td>\n",
              "      <td>412193716</td>\n",
              "      <td>2020-05-16 12:51:49+00:00</td>\n",
              "      <td>#Justice4Teltumbde</td>\n",
              "      <td></td>\n",
              "      <td></td>\n",
              "      <td>intimidate</td>\n",
              "      <td>5</td>\n",
              "      <td>2020</td>\n",
              "      <td>India</td>\n",
              "    </tr>\n",
              "  </tbody>\n",
              "</table>\n",
              "<p>69 rows × 15 columns</p>\n",
              "</div>"
            ],
            "text/plain": [
              "             username  ...             user_location\n",
              "1845      BKWitharane  ...                 Sri Lanka\n",
              "107   EktaKum42593873  ...  Bokaro Steel City, India\n",
              "106   EktaKum42593873  ...  Bokaro Steel City, India\n",
              "2468        ItsPratsD  ...             Mumbai, India\n",
              "2270  Mukesh_Pandya07  ...             Mumbai, India\n",
              "...               ...  ...                       ...\n",
              "987         sitiyuli5  ...                   jakarta\n",
              "939         sitiyuli5  ...                   jakarta\n",
              "891         sitiyuli5  ...                   jakarta\n",
              "1153        sitiyuli5  ...                   jakarta\n",
              "1609    utsavyadav778  ...                     India\n",
              "\n",
              "[69 rows x 15 columns]"
            ]
          },
          "metadata": {
            "tags": []
          },
          "execution_count": 25
        }
      ]
    },
    {
      "cell_type": "code",
      "metadata": {
        "id": "BCOeqGN8We12",
        "colab_type": "code",
        "outputId": "66e3d4c7-4bde-4202-eb0c-d071aab6b280",
        "colab": {
          "base_uri": "https://localhost:8080/",
          "height": 386
        }
      },
      "source": [
        "df.info()"
      ],
      "execution_count": 0,
      "outputs": [
        {
          "output_type": "stream",
          "text": [
            "<class 'pandas.core.frame.DataFrame'>\n",
            "RangeIndex: 3521 entries, 0 to 3520\n",
            "Data columns (total 15 columns):\n",
            " #   Column          Non-Null Count  Dtype \n",
            "---  ------          --------------  ----- \n",
            " 0   username        3521 non-null   object\n",
            " 1   text            3521 non-null   object\n",
            " 2   retweets        3521 non-null   int64 \n",
            " 3   favorites       3521 non-null   int64 \n",
            " 4   replies         3521 non-null   int64 \n",
            " 5   tweet_id        3521 non-null   int64 \n",
            " 6   user_id         3521 non-null   int64 \n",
            " 7   date            3521 non-null   object\n",
            " 8   hashtags        3521 non-null   object\n",
            " 9   mentions        3521 non-null   object\n",
            " 10  tweet_location  3521 non-null   object\n",
            " 11  query           3521 non-null   object\n",
            " 12  month           3521 non-null   int64 \n",
            " 13  year            3521 non-null   int64 \n",
            " 14  user_location   3521 non-null   object\n",
            "dtypes: int64(7), object(8)\n",
            "memory usage: 412.7+ KB\n"
          ],
          "name": "stdout"
        }
      ]
    },
    {
      "cell_type": "code",
      "metadata": {
        "id": "bwVrP7CL613t",
        "colab_type": "code",
        "outputId": "a6b43665-4c8b-4376-a58a-6fe988ee9411",
        "colab": {
          "base_uri": "https://localhost:8080/",
          "height": 407
        }
      },
      "source": [
        "df['query'].value_counts().plot(kind='bar')\n"
      ],
      "execution_count": 0,
      "outputs": [
        {
          "output_type": "execute_result",
          "data": {
            "text/plain": [
              "<matplotlib.axes._subplots.AxesSubplot at 0x7f1da20279e8>"
            ]
          },
          "metadata": {
            "tags": []
          },
          "execution_count": 31
        },
        {
          "output_type": "display_data",
          "data": {
            "image/png": "[encoded data removed]",
            "text/plain": [
              "<Figure size 432x288 with 1 Axes>"
            ]
          },
          "metadata": {
            "tags": [],
            "needs_background": "light"
          }
        }
      ]
    }
  ]
}