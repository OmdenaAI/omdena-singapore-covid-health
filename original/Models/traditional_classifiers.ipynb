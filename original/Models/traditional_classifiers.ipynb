{
  "nbformat": 4,
  "nbformat_minor": 0,
  "metadata": {
    "colab": {
      "name": "modeling_dv.ipynb",
      "provenance": [],
      "collapsed_sections": [],
      "toc_visible": true
    },
    "kernelspec": {
      "display_name": "Python 3",
      "language": "python",
      "name": "python3"
    },
    "language_info": {
      "codemirror_mode": {
        "name": "ipython",
        "version": 3
      },
      "file_extension": ".py",
      "mimetype": "text/x-python",
      "name": "python",
      "nbconvert_exporter": "python",
      "pygments_lexer": "ipython3",
      "version": "3.7.4"
    },
    "accelerator": "GPU"
  },
  "cells": [
    {
      "cell_type": "code",
      "metadata": {
        "colab_type": "code",
        "id": "EyPtPRIVktZE",
        "colab": {
          "base_uri": "https://localhost:8080/",
          "height": 73
        },
        "outputId": "fa3a4ad6-c80c-4362-9e05-424fa6c2a0a2"
      },
      "source": [
        "import numpy as np \n",
        "import pandas as pd\n",
        "import matplotlib.pyplot as plt\n",
        "import seaborn as sn\n",
        "\n",
        "from pprint import pprint\n",
        "import collections\n",
        "import re\n",
        "import string\n",
        "plt.style.use('fivethirtyeight')\n",
        "import warnings\n",
        "warnings.filterwarnings('ignore')\n",
        "%matplotlib inline"
      ],
      "execution_count": 5,
      "outputs": [
        {
          "output_type": "stream",
          "text": [
            "/usr/local/lib/python3.6/dist-packages/statsmodels/tools/_testing.py:19: FutureWarning: pandas.util.testing is deprecated. Use the functions in the public API at pandas.testing instead.\n",
            "  import pandas.util.testing as tm\n"
          ],
          "name": "stderr"
        }
      ]
    },
    {
      "cell_type": "code",
      "metadata": {
        "colab_type": "code",
        "id": "Svtr4l7Ak6iM",
        "colab": {}
      },
      "source": [
        "df = pd.read_csv(\"labeled_total.csv\", keep_default_na=False)"
      ],
      "execution_count": 0,
      "outputs": []
    },
    {
      "cell_type": "code",
      "metadata": {
        "id": "9Yk3i0FtQEu-",
        "colab_type": "code",
        "outputId": "d253d9f6-d543-4037-fdc1-6a01aacc734b",
        "colab": {
          "base_uri": "https://localhost:8080/",
          "height": 179
        }
      },
      "source": [
        "print(df.shape)\n",
        "df['lab_final'].value_counts()"
      ],
      "execution_count": 7,
      "outputs": [
        {
          "output_type": "stream",
          "text": [
            "(3583, 9)\n"
          ],
          "name": "stdout"
        },
        {
          "output_type": "execute_result",
          "data": {
            "text/plain": [
              "NON_D_VIOLENCE_ABOUT       1905\n",
              "NO_VIOLENCE                 954\n",
              "NON_D_VIOLENCE_DIRECTED     464\n",
              "DV_OPINION_ADVOCATE         149\n",
              "DV_OPINION_INFO_NEWS         53\n",
              "DV_STORY                     40\n",
              "DV_OPINION_DENIER            18\n",
              "Name: lab_final, dtype: int64"
            ]
          },
          "metadata": {
            "tags": []
          },
          "execution_count": 7
        }
      ]
    },
    {
      "cell_type": "markdown",
      "metadata": {
        "id": "RnLMpX1ZXvE9",
        "colab_type": "text"
      },
      "source": [
        "## Making a new Label Column\n",
        "Combining Non_DV and DV labels to form fewer classes"
      ]
    },
    {
      "cell_type": "code",
      "metadata": {
        "id": "2X74m2t9YT8d",
        "colab_type": "code",
        "colab": {}
      },
      "source": [
        "df['new_label'] = df['lab_final']"
      ],
      "execution_count": 0,
      "outputs": []
    },
    {
      "cell_type": "code",
      "metadata": {
        "id": "T0dgPQw-YPlE",
        "colab_type": "code",
        "colab": {}
      },
      "source": [
        "df['new_label'].replace(\"DV_OPINION_DENIER\",value=\"DV\",inplace=True)\n",
        "df['new_label'].replace(\"DV_OPINION_ADVOCATE\",value=\"DV\",inplace=True)\n",
        "df['new_label'].replace(\"DV_OPINION_INFO_NEWS\",value=\"DV\",inplace=True)\n",
        "df['new_label'].replace(\"NON_D_VIOLENCE_ABOUT\",value=\"Harassment\",inplace=True)\n",
        "df['new_label'].replace(\"NON_D_VIOLENCE_DIRECTED\",value=\"Harassment\",inplace=True)"
      ],
      "execution_count": 0,
      "outputs": []
    },
    {
      "cell_type": "code",
      "metadata": {
        "id": "8I-Q9jLIkMy7",
        "colab_type": "code",
        "outputId": "3dc865e3-9908-49d4-a7b5-d238e026df84",
        "colab": {
          "base_uri": "https://localhost:8080/",
          "height": 107
        }
      },
      "source": [
        "df.new_label.value_counts()"
      ],
      "execution_count": 10,
      "outputs": [
        {
          "output_type": "execute_result",
          "data": {
            "text/plain": [
              "Harassment     2369\n",
              "NO_VIOLENCE     954\n",
              "DV              220\n",
              "DV_STORY         40\n",
              "Name: new_label, dtype: int64"
            ]
          },
          "metadata": {
            "tags": []
          },
          "execution_count": 10
        }
      ]
    },
    {
      "cell_type": "code",
      "metadata": {
        "id": "y7zwh2FmRUoF",
        "colab_type": "code",
        "colab": {}
      },
      "source": [
        "from sklearn import preprocessing\n",
        "from sklearn.model_selection import train_test_split\n",
        "from sklearn.pipeline import Pipeline\n",
        "from tqdm import tqdm"
      ],
      "execution_count": 0,
      "outputs": []
    },
    {
      "cell_type": "markdown",
      "metadata": {
        "id": "pbL0JBbcmE4e",
        "colab_type": "text"
      },
      "source": [
        "## Using Multilingual Embedding"
      ]
    },
    {
      "cell_type": "code",
      "metadata": {
        "colab_type": "code",
        "id": "Ql41SupylyVE",
        "colab": {
          "base_uri": "https://localhost:8080/",
          "height": 703
        },
        "outputId": "21f7df8e-ae03-44e0-d53e-6d2978dc9701"
      },
      "source": [
        "# Use the following statement to install tensorflow-text otherwise the embedding won't load\n",
        "!pip install tensorflow-text==2.0.0 --user"
      ],
      "execution_count": 12,
      "outputs": [
        {
          "output_type": "stream",
          "text": [
            "Requirement already satisfied: tensorflow-text==2.0.0 in /root/.local/lib/python3.6/site-packages (2.0.0)\n",
            "Requirement already satisfied: tensorflow<2.1,>=2.0.0 in /root/.local/lib/python3.6/site-packages (from tensorflow-text==2.0.0) (2.0.2)\n",
            "Requirement already satisfied: termcolor>=1.1.0 in /usr/local/lib/python3.6/dist-packages (from tensorflow<2.1,>=2.0.0->tensorflow-text==2.0.0) (1.1.0)\n",
            "Requirement already satisfied: protobuf>=3.6.1 in /usr/local/lib/python3.6/dist-packages (from tensorflow<2.1,>=2.0.0->tensorflow-text==2.0.0) (3.10.0)\n",
            "Requirement already satisfied: six>=1.10.0 in /usr/local/lib/python3.6/dist-packages (from tensorflow<2.1,>=2.0.0->tensorflow-text==2.0.0) (1.12.0)\n",
            "Requirement already satisfied: gast==0.2.2 in /root/.local/lib/python3.6/site-packages (from tensorflow<2.1,>=2.0.0->tensorflow-text==2.0.0) (0.2.2)\n",
            "Requirement already satisfied: astor>=0.6.0 in /usr/local/lib/python3.6/dist-packages (from tensorflow<2.1,>=2.0.0->tensorflow-text==2.0.0) (0.8.1)\n",
            "Requirement already satisfied: wheel>=0.26; python_version >= \"3\" in /usr/local/lib/python3.6/dist-packages (from tensorflow<2.1,>=2.0.0->tensorflow-text==2.0.0) (0.34.2)\n",
            "Requirement already satisfied: numpy<2.0,>=1.16.0 in /usr/local/lib/python3.6/dist-packages (from tensorflow<2.1,>=2.0.0->tensorflow-text==2.0.0) (1.18.4)\n",
            "Requirement already satisfied: tensorboard<2.1.0,>=2.0.0 in /root/.local/lib/python3.6/site-packages (from tensorflow<2.1,>=2.0.0->tensorflow-text==2.0.0) (2.0.2)\n",
            "Requirement already satisfied: wrapt>=1.11.1 in /usr/local/lib/python3.6/dist-packages (from tensorflow<2.1,>=2.0.0->tensorflow-text==2.0.0) (1.12.1)\n",
            "Requirement already satisfied: opt-einsum>=2.3.2 in /usr/local/lib/python3.6/dist-packages (from tensorflow<2.1,>=2.0.0->tensorflow-text==2.0.0) (3.2.1)\n",
            "Requirement already satisfied: keras-preprocessing>=1.0.5 in /usr/local/lib/python3.6/dist-packages (from tensorflow<2.1,>=2.0.0->tensorflow-text==2.0.0) (1.1.2)\n",
            "Requirement already satisfied: google-pasta>=0.1.6 in /usr/local/lib/python3.6/dist-packages (from tensorflow<2.1,>=2.0.0->tensorflow-text==2.0.0) (0.2.0)\n",
            "Requirement already satisfied: keras-applications>=1.0.8 in /usr/local/lib/python3.6/dist-packages (from tensorflow<2.1,>=2.0.0->tensorflow-text==2.0.0) (1.0.8)\n",
            "Requirement already satisfied: tensorflow-estimator<2.1.0,>=2.0.0 in /root/.local/lib/python3.6/site-packages (from tensorflow<2.1,>=2.0.0->tensorflow-text==2.0.0) (2.0.1)\n",
            "Requirement already satisfied: grpcio>=1.8.6 in /usr/local/lib/python3.6/dist-packages (from tensorflow<2.1,>=2.0.0->tensorflow-text==2.0.0) (1.29.0)\n",
            "Requirement already satisfied: absl-py>=0.7.0 in /usr/local/lib/python3.6/dist-packages (from tensorflow<2.1,>=2.0.0->tensorflow-text==2.0.0) (0.9.0)\n",
            "Requirement already satisfied: setuptools in /usr/local/lib/python3.6/dist-packages (from protobuf>=3.6.1->tensorflow<2.1,>=2.0.0->tensorflow-text==2.0.0) (47.1.1)\n",
            "Requirement already satisfied: werkzeug>=0.11.15 in /usr/local/lib/python3.6/dist-packages (from tensorboard<2.1.0,>=2.0.0->tensorflow<2.1,>=2.0.0->tensorflow-text==2.0.0) (1.0.1)\n",
            "Requirement already satisfied: google-auth-oauthlib<0.5,>=0.4.1 in /usr/local/lib/python3.6/dist-packages (from tensorboard<2.1.0,>=2.0.0->tensorflow<2.1,>=2.0.0->tensorflow-text==2.0.0) (0.4.1)\n",
            "Requirement already satisfied: google-auth<2,>=1.6.3 in /usr/local/lib/python3.6/dist-packages (from tensorboard<2.1.0,>=2.0.0->tensorflow<2.1,>=2.0.0->tensorflow-text==2.0.0) (1.7.2)\n",
            "Requirement already satisfied: requests<3,>=2.21.0 in /usr/local/lib/python3.6/dist-packages (from tensorboard<2.1.0,>=2.0.0->tensorflow<2.1,>=2.0.0->tensorflow-text==2.0.0) (2.23.0)\n",
            "Requirement already satisfied: markdown>=2.6.8 in /usr/local/lib/python3.6/dist-packages (from tensorboard<2.1.0,>=2.0.0->tensorflow<2.1,>=2.0.0->tensorflow-text==2.0.0) (3.2.2)\n",
            "Requirement already satisfied: h5py in /usr/local/lib/python3.6/dist-packages (from keras-applications>=1.0.8->tensorflow<2.1,>=2.0.0->tensorflow-text==2.0.0) (2.10.0)\n",
            "Requirement already satisfied: requests-oauthlib>=0.7.0 in /usr/local/lib/python3.6/dist-packages (from google-auth-oauthlib<0.5,>=0.4.1->tensorboard<2.1.0,>=2.0.0->tensorflow<2.1,>=2.0.0->tensorflow-text==2.0.0) (1.3.0)\n",
            "Requirement already satisfied: rsa<4.1,>=3.1.4 in /usr/local/lib/python3.6/dist-packages (from google-auth<2,>=1.6.3->tensorboard<2.1.0,>=2.0.0->tensorflow<2.1,>=2.0.0->tensorflow-text==2.0.0) (4.0)\n",
            "Requirement already satisfied: cachetools<3.2,>=2.0.0 in /usr/local/lib/python3.6/dist-packages (from google-auth<2,>=1.6.3->tensorboard<2.1.0,>=2.0.0->tensorflow<2.1,>=2.0.0->tensorflow-text==2.0.0) (3.1.1)\n",
            "Requirement already satisfied: pyasn1-modules>=0.2.1 in /usr/local/lib/python3.6/dist-packages (from google-auth<2,>=1.6.3->tensorboard<2.1.0,>=2.0.0->tensorflow<2.1,>=2.0.0->tensorflow-text==2.0.0) (0.2.8)\n",
            "Requirement already satisfied: certifi>=2017.4.17 in /usr/local/lib/python3.6/dist-packages (from requests<3,>=2.21.0->tensorboard<2.1.0,>=2.0.0->tensorflow<2.1,>=2.0.0->tensorflow-text==2.0.0) (2020.4.5.1)\n",
            "Requirement already satisfied: idna<3,>=2.5 in /usr/local/lib/python3.6/dist-packages (from requests<3,>=2.21.0->tensorboard<2.1.0,>=2.0.0->tensorflow<2.1,>=2.0.0->tensorflow-text==2.0.0) (2.9)\n",
            "Requirement already satisfied: urllib3!=1.25.0,!=1.25.1,<1.26,>=1.21.1 in /usr/local/lib/python3.6/dist-packages (from requests<3,>=2.21.0->tensorboard<2.1.0,>=2.0.0->tensorflow<2.1,>=2.0.0->tensorflow-text==2.0.0) (1.24.3)\n",
            "Requirement already satisfied: chardet<4,>=3.0.2 in /usr/local/lib/python3.6/dist-packages (from requests<3,>=2.21.0->tensorboard<2.1.0,>=2.0.0->tensorflow<2.1,>=2.0.0->tensorflow-text==2.0.0) (3.0.4)\n",
            "Requirement already satisfied: importlib-metadata; python_version < \"3.8\" in /usr/local/lib/python3.6/dist-packages (from markdown>=2.6.8->tensorboard<2.1.0,>=2.0.0->tensorflow<2.1,>=2.0.0->tensorflow-text==2.0.0) (1.6.0)\n",
            "Requirement already satisfied: oauthlib>=3.0.0 in /usr/local/lib/python3.6/dist-packages (from requests-oauthlib>=0.7.0->google-auth-oauthlib<0.5,>=0.4.1->tensorboard<2.1.0,>=2.0.0->tensorflow<2.1,>=2.0.0->tensorflow-text==2.0.0) (3.1.0)\n",
            "Requirement already satisfied: pyasn1>=0.1.3 in /usr/local/lib/python3.6/dist-packages (from rsa<4.1,>=3.1.4->google-auth<2,>=1.6.3->tensorboard<2.1.0,>=2.0.0->tensorflow<2.1,>=2.0.0->tensorflow-text==2.0.0) (0.4.8)\n",
            "Requirement already satisfied: zipp>=0.5 in /usr/local/lib/python3.6/dist-packages (from importlib-metadata; python_version < \"3.8\"->markdown>=2.6.8->tensorboard<2.1.0,>=2.0.0->tensorflow<2.1,>=2.0.0->tensorflow-text==2.0.0) (3.1.0)\n"
          ],
          "name": "stdout"
        }
      ]
    },
    {
      "cell_type": "code",
      "metadata": {
        "colab_type": "code",
        "id": "0cteut22lyVU",
        "colab": {}
      },
      "source": [
        "import tensorflow as tf\n",
        "import tensorflow_hub as hub\n",
        "import tensorflow_text as text"
      ],
      "execution_count": 0,
      "outputs": []
    },
    {
      "cell_type": "code",
      "metadata": {
        "colab_type": "code",
        "id": "sDDLpr9ilyVc",
        "colab": {}
      },
      "source": [
        "# use df.lab_final for original labels\n",
        "train, test, y_train, y_test = train_test_split(df.text, \n",
        "                                                df.new_label, \n",
        "                                                test_size=0.15, \n",
        "                                                random_state=42, \n",
        "                                                stratify=df.new_label)"
      ],
      "execution_count": 0,
      "outputs": []
    },
    {
      "cell_type": "code",
      "metadata": {
        "colab_type": "code",
        "id": "K7iw1HzklyVi",
        "colab": {}
      },
      "source": [
        "embedding = hub.load(\"https://tfhub.dev/google/universal-sentence-encoder-multilingual-large/3\")"
      ],
      "execution_count": 0,
      "outputs": []
    },
    {
      "cell_type": "code",
      "metadata": {
        "colab_type": "code",
        "id": "UzHuPyz9lyVo",
        "colab": {}
      },
      "source": [
        "def get_embedding(sen):\n",
        "  encoding = embedding(sen)\n",
        "  proper_encoding = tf.reshape(encoding, [-1]).numpy()\n",
        "  return proper_encoding"
      ],
      "execution_count": 0,
      "outputs": []
    },
    {
      "cell_type": "code",
      "metadata": {
        "colab_type": "code",
        "outputId": "f656c63d-2845-4b62-b1ab-7011c70448f8",
        "id": "UdIFVVs3lyVt",
        "colab": {
          "base_uri": "https://localhost:8080/",
          "height": 53
        }
      },
      "source": [
        "x_train = []\n",
        "for sentence in tqdm(train.values):\n",
        "    x_train.append(get_embedding(sentence))\n",
        "\n",
        "x_train = np.array(x_train)\n",
        "\n",
        "\n",
        "x_test = []\n",
        "for sentence in tqdm(test.values):\n",
        "    x_test.append(get_embedding(sentence))\n",
        "\n",
        "x_test = np.array(x_test)"
      ],
      "execution_count": 17,
      "outputs": [
        {
          "output_type": "stream",
          "text": [
            "100%|██████████| 3045/3045 [04:14<00:00, 11.95it/s]\n",
            "100%|██████████| 538/538 [00:43<00:00, 12.45it/s]\n"
          ],
          "name": "stderr"
        }
      ]
    },
    {
      "cell_type": "code",
      "metadata": {
        "colab_type": "code",
        "outputId": "15b556f8-cf20-40a5-d90d-76bf9dec6d5a",
        "id": "L5neFm_OlyVy",
        "colab": {
          "base_uri": "https://localhost:8080/",
          "height": 35
        }
      },
      "source": [
        "len(x_train)"
      ],
      "execution_count": 18,
      "outputs": [
        {
          "output_type": "execute_result",
          "data": {
            "text/plain": [
              "3045"
            ]
          },
          "metadata": {
            "tags": []
          },
          "execution_count": 18
        }
      ]
    },
    {
      "cell_type": "markdown",
      "metadata": {
        "id": "ZQfK3xRbNm6w",
        "colab_type": "text"
      },
      "source": [
        "## Modeling starts :"
      ]
    },
    {
      "cell_type": "code",
      "metadata": {
        "id": "zMcD_eIDYPoB",
        "colab_type": "code",
        "colab": {}
      },
      "source": [
        "from sklearn.metrics import classification_report, confusion_matrix, accuracy_score, f1_score, recall_score, precision_score\n",
        "from sklearn.metrics import matthews_corrcoef"
      ],
      "execution_count": 0,
      "outputs": []
    },
    {
      "cell_type": "code",
      "metadata": {
        "id": "Bw0qBEcwIid0",
        "colab_type": "code",
        "colab": {}
      },
      "source": [
        "def evaluate_model(y_test, predicted_test):\n",
        "    print ('Accuracy:', accuracy_score(y_test, predicted_test))\n",
        "    print ('F1 score:', f1_score(y_test, predicted_test,average='weighted'))\n",
        "    print ('Recall:', recall_score(y_test, predicted_test,average='weighted'))\n",
        "    print ('Precision:', precision_score(y_test, predicted_test,average='weighted'))\n",
        "    print('MCC: ',matthews_corrcoef(y_test, predicted_test))\n",
        "    print ('\\n Classification Report:\\n', classification_report(y_test, predicted_test))"
      ],
      "execution_count": 0,
      "outputs": []
    },
    {
      "cell_type": "markdown",
      "metadata": {
        "id": "LRs7RRMYtn4h",
        "colab_type": "text"
      },
      "source": [
        "### Oversampling - SKIP\n",
        "Didn't work well hence not using as of now <br />\n",
        "Can be skipped if deemed unfit. Try Undersampling"
      ]
    },
    {
      "cell_type": "code",
      "metadata": {
        "id": "rPqnpJv_f9HD",
        "colab_type": "code",
        "colab": {}
      },
      "source": [
        "from imblearn.over_sampling import SMOTE\n",
        "from imblearn.over_sampling import RandomOverSampler"
      ],
      "execution_count": 0,
      "outputs": []
    },
    {
      "cell_type": "code",
      "metadata": {
        "id": "VXKpvP2nf-zg",
        "colab_type": "code",
        "colab": {}
      },
      "source": [
        "sm = SMOTE(random_state=42,k_neighbors=2,sampling_strategy='minority')\n",
        "x_train, y_train = sm.fit_resample(x_train, y_train)"
      ],
      "execution_count": 0,
      "outputs": []
    },
    {
      "cell_type": "code",
      "metadata": {
        "id": "BvSLHrW7jhhk",
        "colab_type": "code",
        "colab": {}
      },
      "source": [
        "ros = RandomOverSampler(random_state=42,sampling_strategy='minority')\n",
        "x_train, y_train = ros.fit_resample(x_train, y_train)"
      ],
      "execution_count": 0,
      "outputs": []
    },
    {
      "cell_type": "code",
      "metadata": {
        "id": "hvu2Qw2igt-Q",
        "colab_type": "code",
        "outputId": "ccb2df55-0d90-47a7-f2dd-f53aadca088d",
        "colab": {
          "base_uri": "https://localhost:8080/",
          "height": 179
        }
      },
      "source": [
        "sm.get_params()"
      ],
      "execution_count": 0,
      "outputs": [
        {
          "output_type": "execute_result",
          "data": {
            "text/plain": [
              "{'k_neighbors': 2,\n",
              " 'kind': 'deprecated',\n",
              " 'm_neighbors': 'deprecated',\n",
              " 'n_jobs': 1,\n",
              " 'out_step': 'deprecated',\n",
              " 'random_state': 42,\n",
              " 'ratio': None,\n",
              " 'sampling_strategy': 'minority',\n",
              " 'svm_estimator': 'deprecated'}"
            ]
          },
          "metadata": {
            "tags": []
          },
          "execution_count": 138
        }
      ]
    },
    {
      "cell_type": "markdown",
      "metadata": {
        "id": "6NhyTcxmuoWS",
        "colab_type": "text"
      },
      "source": [
        "## Training Phase Starts :"
      ]
    },
    {
      "cell_type": "code",
      "metadata": {
        "id": "grWIaeGgZPQz",
        "colab_type": "code",
        "colab": {}
      },
      "source": [
        "from sklearn.model_selection import GridSearchCV"
      ],
      "execution_count": 0,
      "outputs": []
    },
    {
      "cell_type": "code",
      "metadata": {
        "id": "AfMFPI60aAqx",
        "colab_type": "code",
        "colab": {}
      },
      "source": [
        "def param_selection(classifier, param_grid, X, y, nfolds):\n",
        "  grid_search = GridSearchCV(classifier, param_grid, cv=nfolds,scoring='f1_weighted')\n",
        "  grid_search.fit(X, y)\n",
        "  grid_search.best_params_\n",
        "  return grid_search"
      ],
      "execution_count": 0,
      "outputs": []
    },
    {
      "cell_type": "code",
      "metadata": {
        "id": "Rt_HOTnYaasd",
        "colab_type": "code",
        "outputId": "84ebced2-fe1f-45e0-b2c3-63dfff5ce6bf",
        "colab": {
          "base_uri": "https://localhost:8080/",
          "height": 467
        }
      },
      "source": [
        "from sklearn.ensemble import RandomForestClassifier\n",
        "param_grid = { \n",
        "    'n_estimators': [10, 30, 60, 80, 100, 120, 150]\n",
        "}\n",
        "# 'n_estimators': [100, 200, 300, 400, 500]\n",
        "#'max_depth' : [4,5,6,7,8]\n",
        "#'max_features': ['auto', 'sqrt', 'log2'],\n",
        "#'criterion' :['gini', 'entropy']\n",
        "\n",
        "model = param_selection(RandomForestClassifier(random_state=42, class_weight='balanced'), param_grid, x_train, y_train, 5)\n",
        "print(model.best_params_)\n",
        "predicted_test = model.predict(x_test)\n",
        "evaluate_model(y_test, predicted_test)\n",
        "\n",
        "#labels = ['NON_D_VIOLENCE_ABOUT', 'NON_D_VIOLENCE_DIRECTED','DV_OPINION_ADVOCATE','DV_OPINION_INFO_NEWS','NO_VIOLENCE','DV_OPINION_DENIER','DV_STORY'] \n",
        "labels = ['DV','DV_STORY','Harassment','NO_VIOLENCE'] \n",
        "cm = confusion_matrix(y_test, predicted_test,labels)\n",
        "print('Confusion Matrix:')\n",
        "print(labels)\n",
        "print(cm)"
      ],
      "execution_count": 0,
      "outputs": [
        {
          "output_type": "stream",
          "text": [
            "{'n_estimators': 30}\n",
            "Accuracy: 0.741635687732342\n",
            "F1 score: 0.6898455670233717\n",
            "Recall: 0.741635687732342\n",
            "Precision: 0.7721500777894129\n",
            "MCC:  0.4044243053528557\n",
            "\n",
            " Classification Report:\n",
            "               precision    recall  f1-score   support\n",
            "\n",
            "          DV       1.00      0.12      0.22        33\n",
            "    DV_STORY       0.00      0.00      0.00         6\n",
            "  Harassment       0.73      0.98      0.83       356\n",
            " NO_VIOLENCE       0.87      0.32      0.47       143\n",
            "\n",
            "    accuracy                           0.74       538\n",
            "   macro avg       0.65      0.36      0.38       538\n",
            "weighted avg       0.77      0.74      0.69       538\n",
            "\n",
            "Confusion Matrix:\n",
            "['DV', 'DV_STORY', 'Harassment', 'NO_VIOLENCE']\n",
            "[[  4   0  29   0]\n",
            " [  0   0   6   0]\n",
            " [  0   0 349   7]\n",
            " [  0   0  97  46]]\n"
          ],
          "name": "stdout"
        }
      ]
    },
    {
      "cell_type": "code",
      "metadata": {
        "id": "MFdO0seYeb0o",
        "colab_type": "code",
        "outputId": "9f22098e-a6ca-4890-fb8f-8d5a919bf936",
        "colab": {
          "base_uri": "https://localhost:8080/",
          "height": 467
        }
      },
      "source": [
        "from sklearn.svm import SVC\n",
        "param_grid = {'C': [2.6,3,3.1,3.2,3.3,3.4]}\n",
        "#[0.2,0.6,1,1.2,1.5,1.8,2,2.2,2.4,2.6]\n",
        "model = param_selection(SVC(kernel='linear'), param_grid, x_train, y_train, 5)\n",
        "print(model.best_params_)\n",
        "predicted_test = model.predict(x_test)\n",
        "evaluate_model(y_test, predicted_test)\n",
        "#labels = ['NON_D_VIOLENCE_ABOUT', 'NON_D_VIOLENCE_DIRECTED','DV_OPINION_ADVOCATE','DV_OPINION_INFO_NEWS','NO_VIOLENCE','DV_OPINION_DENIER','DV_STORY'] \n",
        "labels = ['DV','DV_STORY','Harassment','NO_VIOLENCE'] \n",
        "cm = confusion_matrix(y_test, predicted_test,labels)\n",
        "print('Confusion Matrix:')\n",
        "print(labels)\n",
        "print(cm)"
      ],
      "execution_count": 0,
      "outputs": [
        {
          "output_type": "stream",
          "text": [
            "{'C': 3.2}\n",
            "Accuracy: 0.8122676579925651\n",
            "F1 score: 0.801048916092298\n",
            "Recall: 0.8122676579925651\n",
            "Precision: 0.8084766121737972\n",
            "MCC:  0.5890163336785457\n",
            "\n",
            " Classification Report:\n",
            "               precision    recall  f1-score   support\n",
            "\n",
            "          DV       0.83      0.45      0.59        33\n",
            "    DV_STORY       0.50      0.17      0.25         6\n",
            "  Harassment       0.82      0.93      0.87       356\n",
            " NO_VIOLENCE       0.79      0.62      0.70       143\n",
            "\n",
            "    accuracy                           0.81       538\n",
            "   macro avg       0.74      0.54      0.60       538\n",
            "weighted avg       0.81      0.81      0.80       538\n",
            "\n",
            "Confusion Matrix:\n",
            "['DV', 'DV_STORY', 'Harassment', 'NO_VIOLENCE']\n",
            "[[ 15   0  17   1]\n",
            " [  0   1   5   0]\n",
            " [  1   0 332  23]\n",
            " [  2   1  51  89]]\n"
          ],
          "name": "stdout"
        }
      ]
    },
    {
      "cell_type": "code",
      "metadata": {
        "id": "uKZUnGtmLzwI",
        "colab_type": "code",
        "outputId": "8d8a21b4-9735-4262-98ea-9996bd88bae5",
        "colab": {
          "base_uri": "https://localhost:8080/",
          "height": 467
        }
      },
      "source": [
        "param_grid = {'C': [1.07], 'gamma' : [2.075]}\n",
        "model = param_selection(SVC(kernel='rbf'), param_grid, x_train, y_train, 5)\n",
        "print(model.best_params_)\n",
        "predicted_test = model.predict(x_test)\n",
        "evaluate_model(y_test, predicted_test)\n",
        "#labels = ['NON_D_VIOLENCE_ABOUT', 'NON_D_VIOLENCE_DIRECTED','DV_OPINION_ADVOCATE','DV_OPINION_INFO_NEWS','NO_VIOLENCE','DV_OPINION_DENIER','DV_STORY'] \n",
        "labels = ['DV','DV_STORY','Harassment','NO_VIOLENCE'] \n",
        "cm = confusion_matrix(y_test, predicted_test,labels)\n",
        "print('Confusion Matrix:')\n",
        "print(labels)\n",
        "print(cm)"
      ],
      "execution_count": 0,
      "outputs": [
        {
          "output_type": "stream",
          "text": [
            "{'C': 1.07, 'gamma': 2.075}\n",
            "Accuracy: 0.8104089219330854\n",
            "F1 score: 0.790477334875256\n",
            "Recall: 0.8104089219330854\n",
            "Precision: 0.8122642523696325\n",
            "MCC:  0.5818659680131072\n",
            "\n",
            " Classification Report:\n",
            "               precision    recall  f1-score   support\n",
            "\n",
            "          DV       0.92      0.36      0.52        33\n",
            "    DV_STORY       0.00      0.00      0.00         6\n",
            "  Harassment       0.80      0.96      0.87       356\n",
            " NO_VIOLENCE       0.86      0.57      0.68       143\n",
            "\n",
            "    accuracy                           0.81       538\n",
            "   macro avg       0.65      0.47      0.52       538\n",
            "weighted avg       0.81      0.81      0.79       538\n",
            "\n",
            "Confusion Matrix:\n",
            "['DV', 'DV_STORY', 'Harassment', 'NO_VIOLENCE']\n",
            "[[ 12   0  21   0]\n",
            " [  0   0   6   0]\n",
            " [  0   0 343  13]\n",
            " [  1   0  61  81]]\n"
          ],
          "name": "stdout"
        }
      ]
    },
    {
      "cell_type": "code",
      "metadata": {
        "id": "J6P_naOvOnlX",
        "colab_type": "code",
        "colab": {}
      },
      "source": [
        "from sklearn.linear_model import LogisticRegression\n",
        "from sklearn.neighbors import KNeighborsClassifier\n",
        "from sklearn.naive_bayes import GaussianNB\n",
        "from sklearn.tree import DecisionTreeClassifier"
      ],
      "execution_count": 0,
      "outputs": []
    },
    {
      "cell_type": "code",
      "metadata": {
        "id": "Jc-ug7msCLxO",
        "colab_type": "code",
        "outputId": "0aaaf29f-475c-4ceb-d21d-eaed2372b4bc",
        "colab": {
          "base_uri": "https://localhost:8080/",
          "height": 467
        }
      },
      "source": [
        "param_grid  = {'C': [2.4,2.5,2.6,2.7,2.8,2.9,3]}\n",
        "#[0.2,0.6,1,1.2,1.5,1.8,1.9,2]\n",
        "model = param_selection(LogisticRegression(class_weight='balanced'), param_grid, x_train,y_train, 5)\n",
        "print(model.best_params_)\n",
        "predicted_test=model.predict(x_test)\n",
        "evaluate_model(y_test, predicted_test)\n",
        "#labels = ['NON_D_VIOLENCE_ABOUT', 'NON_D_VIOLENCE_DIRECTED','DV_OPINION_ADVOCATE','DV_OPINION_INFO_NEWS','NO_VIOLENCE','DV_OPINION_DENIER','DV_STORY'] \n",
        "labels = ['DV','DV_STORY','Harassment','NO_VIOLENCE'] \n",
        "cm = confusion_matrix(y_test, predicted_test,labels)\n",
        "print('Confusion Matrix:')\n",
        "print(labels)\n",
        "print(cm)"
      ],
      "execution_count": 0,
      "outputs": [
        {
          "output_type": "stream",
          "text": [
            "{'C': 2.8}\n",
            "Accuracy: 0.7546468401486989\n",
            "F1 score: 0.7633282202361663\n",
            "Recall: 0.7546468401486989\n",
            "Precision: 0.7818985288414716\n",
            "MCC:  0.5411627518202625\n",
            "\n",
            " Classification Report:\n",
            "               precision    recall  f1-score   support\n",
            "\n",
            "          DV       0.50      0.76      0.60        33\n",
            "    DV_STORY       0.23      0.50      0.32         6\n",
            "  Harassment       0.87      0.77      0.81       356\n",
            " NO_VIOLENCE       0.65      0.73      0.69       143\n",
            "\n",
            "    accuracy                           0.75       538\n",
            "   macro avg       0.56      0.69      0.61       538\n",
            "weighted avg       0.78      0.75      0.76       538\n",
            "\n",
            "Confusion Matrix:\n",
            "['DV', 'DV_STORY', 'Harassment', 'NO_VIOLENCE']\n",
            "[[ 25   1   5   2]\n",
            " [  0   3   3   0]\n",
            " [ 21   8 273  54]\n",
            " [  4   1  33 105]]\n"
          ],
          "name": "stdout"
        }
      ]
    },
    {
      "cell_type": "code",
      "metadata": {
        "id": "-T_XWnt_CfM-",
        "colab_type": "code",
        "outputId": "3a71b6e7-f17d-49dd-a0ee-88b412c279fd",
        "colab": {
          "base_uri": "https://localhost:8080/",
          "height": 467
        }
      },
      "source": [
        "param_grid = {'max_depth' : range(1,33)}\n",
        "#'max_depth' : range(4,33)\n",
        "model = param_selection(DecisionTreeClassifier(class_weight='balanced', random_state=0), param_grid, x_train, y_train, 5)\n",
        "print(model.best_params_)\n",
        "predicted_test=model.predict(x_test)\n",
        "evaluate_model(y_test, predicted_test)\n",
        "#labels = ['NON_D_VIOLENCE_ABOUT', 'NON_D_VIOLENCE_DIRECTED','DV_OPINION_ADVOCATE','DV_OPINION_INFO_NEWS','NO_VIOLENCE','DV_OPINION_DENIER','DV_STORY'] \n",
        "labels = ['DV','DV_STORY','Harassment','NO_VIOLENCE'] \n",
        "cm = confusion_matrix(y_test, predicted_test,labels)\n",
        "print('Confusion Matrix:')\n",
        "print(labels)\n",
        "print(cm)"
      ],
      "execution_count": 0,
      "outputs": [
        {
          "output_type": "stream",
          "text": [
            "{'max_depth': 13}\n",
            "Accuracy: 0.654275092936803\n",
            "F1 score: 0.6625410251292412\n",
            "Recall: 0.654275092936803\n",
            "Precision: 0.6736865419298866\n",
            "MCC:  0.3221137103659988\n",
            "\n",
            " Classification Report:\n",
            "               precision    recall  f1-score   support\n",
            "\n",
            "          DV       0.25      0.39      0.30        33\n",
            "    DV_STORY       0.33      0.33      0.33         6\n",
            "  Harassment       0.78      0.74      0.76       356\n",
            " NO_VIOLENCE       0.52      0.52      0.52       143\n",
            "\n",
            "    accuracy                           0.65       538\n",
            "   macro avg       0.47      0.50      0.48       538\n",
            "weighted avg       0.67      0.65      0.66       538\n",
            "\n",
            "Confusion Matrix:\n",
            "['DV', 'DV_STORY', 'Harassment', 'NO_VIOLENCE']\n",
            "[[ 13   2  13   5]\n",
            " [  2   2   1   1]\n",
            " [ 29   2 263  62]\n",
            " [  9   0  60  74]]\n"
          ],
          "name": "stdout"
        }
      ]
    },
    {
      "cell_type": "code",
      "metadata": {
        "id": "aNrer1_ACkMy",
        "colab_type": "code",
        "outputId": "55472894-dcab-475b-fc02-37bee5a1d798",
        "colab": {
          "base_uri": "https://localhost:8080/",
          "height": 467
        }
      },
      "source": [
        "param_grid = {'n_neighbors' : range(2,20)}\n",
        "model = param_selection(KNeighborsClassifier(weights='distance') , param_grid, x_train, y_train, 5)\n",
        "print(model.best_params_)\n",
        "predicted_test=model.predict(x_test)\n",
        "evaluate_model(y_test, predicted_test)\n",
        "#labels = ['NON_D_VIOLENCE_ABOUT', 'NON_D_VIOLENCE_DIRECTED','DV_OPINION_ADVOCATE','DV_OPINION_INFO_NEWS','NO_VIOLENCE','DV_OPINION_DENIER','DV_STORY'] \n",
        "labels = ['DV','DV_STORY','Harassment','NO_VIOLENCE'] \n",
        "cm = confusion_matrix(y_test, predicted_test,labels)\n",
        "print('Confusion Matrix:')\n",
        "print(labels)\n",
        "print(cm)"
      ],
      "execution_count": 0,
      "outputs": [
        {
          "output_type": "stream",
          "text": [
            "{'n_neighbors': 5}\n",
            "Accuracy: 0.7620817843866171\n",
            "F1 score: 0.7444501035356337\n",
            "Recall: 0.7620817843866171\n",
            "Precision: 0.755070297221586\n",
            "MCC:  0.47214569598329065\n",
            "\n",
            " Classification Report:\n",
            "               precision    recall  f1-score   support\n",
            "\n",
            "          DV       0.64      0.48      0.55        33\n",
            "    DV_STORY       0.33      0.17      0.22         6\n",
            "  Harassment       0.77      0.92      0.84       356\n",
            " NO_VIOLENCE       0.75      0.46      0.57       143\n",
            "\n",
            "    accuracy                           0.76       538\n",
            "   macro avg       0.62      0.51      0.55       538\n",
            "weighted avg       0.76      0.76      0.74       538\n",
            "\n",
            "Confusion Matrix:\n",
            "['DV', 'DV_STORY', 'Harassment', 'NO_VIOLENCE']\n",
            "[[ 16   1  16   0]\n",
            " [  1   1   4   0]\n",
            " [  6   1 327  22]\n",
            " [  2   0  75  66]]\n"
          ],
          "name": "stdout"
        }
      ]
    },
    {
      "cell_type": "code",
      "metadata": {
        "id": "7ZjZswwBDBir",
        "colab_type": "code",
        "outputId": "a9049359-b88b-4dd6-a11c-a2e5f79ed87a",
        "colab": {
          "base_uri": "https://localhost:8080/",
          "height": 467
        }
      },
      "source": [
        "# use .toarray() with tifidf vectors not with other embeddings\n",
        "param_grid = {}\n",
        "model = param_selection(GaussianNB() , param_grid, x_train,y_train, 5)\n",
        "print(model.best_params_)\n",
        "predicted_test=model.predict(x_test)\n",
        "evaluate_model(y_test, predicted_test)\n",
        "#labels = ['NON_D_VIOLENCE_ABOUT', 'NON_D_VIOLENCE_DIRECTED','DV_OPINION_ADVOCATE','DV_OPINION_INFO_NEWS','NO_VIOLENCE','DV_OPINION_DENIER','DV_STORY'] \n",
        "labels = ['DV','DV_STORY','Harassment','NO_VIOLENCE'] \n",
        "cm = confusion_matrix(y_test, predicted_test,labels)\n",
        "print('Confusion Matrix:')\n",
        "print(labels)\n",
        "print(cm)"
      ],
      "execution_count": 0,
      "outputs": [
        {
          "output_type": "stream",
          "text": [
            "{}\n",
            "Accuracy: 0.6821561338289963\n",
            "F1 score: 0.6989654597306801\n",
            "Recall: 0.6821561338289963\n",
            "Precision: 0.763085210023418\n",
            "MCC:  0.4779068651210925\n",
            "\n",
            " Classification Report:\n",
            "               precision    recall  f1-score   support\n",
            "\n",
            "          DV       0.28      0.64      0.39        33\n",
            "    DV_STORY       0.33      0.67      0.44         6\n",
            "  Harassment       0.88      0.63      0.73       356\n",
            " NO_VIOLENCE       0.60      0.83      0.69       143\n",
            "\n",
            "    accuracy                           0.68       538\n",
            "   macro avg       0.52      0.69      0.57       538\n",
            "weighted avg       0.76      0.68      0.70       538\n",
            "\n",
            "Confusion Matrix:\n",
            "['DV', 'DV_STORY', 'Harassment', 'NO_VIOLENCE']\n",
            "[[ 21   2   8   2]\n",
            " [  0   4   2   0]\n",
            " [ 48   6 224  78]\n",
            " [  5   0  20 118]]\n"
          ],
          "name": "stdout"
        }
      ]
    },
    {
      "cell_type": "code",
      "metadata": {
        "id": "mkZK_A1KPFGR",
        "colab_type": "code",
        "colab": {
          "base_uri": "https://localhost:8080/",
          "height": 55
        },
        "outputId": "a20426d3-56be-4086-e42c-2a578a62fc3d"
      },
      "source": [
        "# Doesn't work with universal embedding because :\n",
        "# ValueError: Negative values in data passed to MultinomialNB (input X)\n",
        "'''from sklearn.naive_bayes import MultinomialNB\n",
        "param_grid = {}\n",
        "model = param_selection(MultinomialNB() , param_grid, x_train,y_train, 5)\n",
        "print(model.best_params_)\n",
        "predicted_test=model.predict(x_test)\n",
        "evaluate_model(y_test, predicted_test)\n",
        "#labels = ['NON_D_VIOLENCE_ABOUT', 'NON_D_VIOLENCE_DIRECTED','DV_OPINION_ADVOCATE','DV_OPINION_INFO_NEWS','NO_VIOLENCE','DV_OPINION_DENIER','DV_STORY'] \n",
        "labels = ['DV','DV_STORY','Harassment','NO_VIOLENCE'] \n",
        "cm = confusion_matrix(y_test, predicted_test,labels)\n",
        "print('Confusion Matrix:')\n",
        "print(labels)\n",
        "print(cm)'''"
      ],
      "execution_count": 25,
      "outputs": [
        {
          "output_type": "execute_result",
          "data": {
            "text/plain": [
              "\"from sklearn.naive_bayes import MultinomialNB\\nparam_grid = {}\\nmodel = param_selection(MultinomialNB() , param_grid, x_train,y_train, 5)\\nprint(model.best_params_)\\npredicted_test=model.predict(x_test)\\nevaluate_model(y_test, predicted_test)\\n#labels = ['NON_D_VIOLENCE_ABOUT', 'NON_D_VIOLENCE_DIRECTED','DV_OPINION_ADVOCATE','DV_OPINION_INFO_NEWS','NO_VIOLENCE','DV_OPINION_DENIER','DV_STORY'] \\nlabels = ['DV','DV_STORY','Harassment','NO_VIOLENCE'] \\ncm = confusion_matrix(y_test, predicted_test,labels)\\nprint('Confusion Matrix:')\\nprint(labels)\\nprint(cm)\""
            ]
          },
          "metadata": {
            "tags": []
          },
          "execution_count": 25
        }
      ]
    },
    {
      "cell_type": "markdown",
      "metadata": {
        "id": "gdEdCJ8Hthjc",
        "colab_type": "text"
      },
      "source": [
        "## Ensemble Methods - Voting"
      ]
    },
    {
      "cell_type": "code",
      "metadata": {
        "id": "dKJ5VnS2S1hP",
        "colab_type": "code",
        "outputId": "21bbdb8b-688a-4459-a0b6-509e1f1b0e19",
        "colab": {
          "base_uri": "https://localhost:8080/",
          "height": 449
        }
      },
      "source": [
        "from sklearn.ensemble import VotingClassifier\n",
        "# try both soft and hard voting\n",
        "model=VotingClassifier(estimators=[('KNN',KNeighborsClassifier(n_neighbors=5)),\n",
        "                                   ('LinSVM',SVC(kernel='linear',C=3.2,probability=True)),\n",
        "                                   ('RBF',SVC(kernel='rbf',C=1.07,gamma=2.075,probability=True))\n",
        "                                   ], \n",
        "                       voting='soft').fit(x_train,y_train)\n",
        "#('LR',LogisticRegression(C=2.8))\n",
        "#('RBF',SVC(kernel='rbf',C=1.07,gamma=2.075,probability=True)),\n",
        "#('RFor',RandomForestClassifier(n_estimators=30,random_state=0)),\n",
        "#('DT',DecisionTreeClassifier(max_depth=13)),\n",
        "#('NB',GaussianNB())\n",
        "predicted_test=model.predict(x_test)\n",
        "evaluate_model(y_test, predicted_test)\n",
        "#labels = ['NON_D_VIOLENCE_ABOUT', 'NON_D_VIOLENCE_DIRECTED','DV_OPINION_ADVOCATE','DV_OPINION_INFO_NEWS','NO_VIOLENCE','DV_OPINION_DENIER','DV_STORY'] \n",
        "labels = ['DV','DV_STORY','Harassment','NO_VIOLENCE'] \n",
        "cm = confusion_matrix(y_test, predicted_test,labels)\n",
        "print('Confusion Matrix:')\n",
        "print(labels)\n",
        "print(cm)"
      ],
      "execution_count": 0,
      "outputs": [
        {
          "output_type": "stream",
          "text": [
            "Accuracy: 0.8234200743494424\n",
            "F1 score: 0.8099742686483742\n",
            "Recall: 0.8234200743494424\n",
            "Precision: 0.8283019458689672\n",
            "MCC:  0.6164193027197981\n",
            "\n",
            " Classification Report:\n",
            "               precision    recall  f1-score   support\n",
            "\n",
            "          DV       0.89      0.52      0.65        33\n",
            "    DV_STORY       0.33      0.17      0.22         6\n",
            "  Harassment       0.81      0.96      0.88       356\n",
            " NO_VIOLENCE       0.87      0.57      0.69       143\n",
            "\n",
            "    accuracy                           0.82       538\n",
            "   macro avg       0.73      0.55      0.61       538\n",
            "weighted avg       0.83      0.82      0.81       538\n",
            "\n",
            "Confusion Matrix:\n",
            "['DV', 'DV_STORY', 'Harassment', 'NO_VIOLENCE']\n",
            "[[ 17   1  15   0]\n",
            " [  1   1   4   0]\n",
            " [  0   1 343  12]\n",
            " [  1   0  60  82]]\n"
          ],
          "name": "stdout"
        }
      ]
    },
    {
      "cell_type": "code",
      "metadata": {
        "id": "Bi5h2eyTOS1a",
        "colab_type": "code",
        "outputId": "7a8c7bba-cc1a-441b-a5c7-f784c5efcf55",
        "colab": {
          "base_uri": "https://localhost:8080/",
          "height": 467
        }
      },
      "source": [
        "from sklearn.ensemble import BaggingClassifier\n",
        "param_grid = {'n_estimators' : [300], 'base_estimator__n_neighbors' : [5]}\n",
        "#param_grid = {}\n",
        "model = param_selection(BaggingClassifier(base_estimator=KNeighborsClassifier(),random_state=0), param_grid, x_train, y_train, 5)\n",
        "print(model.best_params_)\n",
        "predicted_test=model.predict(x_test)\n",
        "evaluate_model(y_test, predicted_test)\n",
        "#labels = ['NON_D_VIOLENCE_ABOUT', 'NON_D_VIOLENCE_DIRECTED','DV_OPINION_ADVOCATE','DV_OPINION_INFO_NEWS','NO_VIOLENCE','DV_OPINION_DENIER','DV_STORY'] \n",
        "labels = ['DV','DV_STORY','Harassment','NO_VIOLENCE'] \n",
        "cm = confusion_matrix(y_test, predicted_test,labels)\n",
        "print('Confusion Matrix:')\n",
        "print(labels)\n",
        "print(cm)"
      ],
      "execution_count": 28,
      "outputs": [
        {
          "output_type": "stream",
          "text": [
            "{'base_estimator__n_neighbors': 5, 'n_estimators': 300}\n",
            "Accuracy: 0.7695167286245354\n",
            "F1 score: 0.7494216900988511\n",
            "Recall: 0.7695167286245354\n",
            "Precision: 0.7669381870776933\n",
            "MCC:  0.48638193027548093\n",
            "\n",
            " Classification Report:\n",
            "               precision    recall  f1-score   support\n",
            "\n",
            "          DV       0.71      0.45      0.56        33\n",
            "    DV_STORY       0.33      0.17      0.22         6\n",
            "  Harassment       0.77      0.94      0.85       356\n",
            " NO_VIOLENCE       0.78      0.45      0.58       143\n",
            "\n",
            "    accuracy                           0.77       538\n",
            "   macro avg       0.65      0.50      0.55       538\n",
            "weighted avg       0.77      0.77      0.75       538\n",
            "\n",
            "Confusion Matrix:\n",
            "['DV', 'DV_STORY', 'Harassment', 'NO_VIOLENCE']\n",
            "[[ 15   1  17   0]\n",
            " [  1   1   4   0]\n",
            " [  4   1 333  18]\n",
            " [  1   0  77  65]]\n"
          ],
          "name": "stdout"
        }
      ]
    },
    {
      "cell_type": "code",
      "metadata": {
        "id": "hMNLa39dRdZ_",
        "colab_type": "code",
        "outputId": "1f576a97-c74f-49d0-cb10-42acd013b0bc",
        "colab": {
          "base_uri": "https://localhost:8080/",
          "height": 467
        }
      },
      "source": [
        "param_grid = {'n_estimators' : [300],'base_estimator__max_depth':[13]}\n",
        "#param_grid = {}\n",
        "model = param_selection(BaggingClassifier(base_estimator=DecisionTreeClassifier(class_weight='balanced'),random_state=0), param_grid, x_train, y_train, 5)\n",
        "print(model.best_params_)\n",
        "predicted_test=model.predict(x_test)\n",
        "evaluate_model(y_test, predicted_test)\n",
        "#labels = ['NON_D_VIOLENCE_ABOUT', 'NON_D_VIOLENCE_DIRECTED','DV_OPINION_ADVOCATE','DV_OPINION_INFO_NEWS','NO_VIOLENCE','DV_OPINION_DENIER','DV_STORY'] \n",
        "labels = ['DV','DV_STORY','Harassment','NO_VIOLENCE'] \n",
        "cm = confusion_matrix(y_test, predicted_test,labels)\n",
        "print('Confusion Matrix:')\n",
        "print(labels)\n",
        "print(cm)"
      ],
      "execution_count": 36,
      "outputs": [
        {
          "output_type": "stream",
          "text": [
            "{'base_estimator__max_depth': 13, 'n_estimators': 300}\n",
            "Accuracy: 0.7769516728624535\n",
            "F1 score: 0.7477325074685431\n",
            "Recall: 0.7769516728624535\n",
            "Precision: 0.7882119946047307\n",
            "MCC:  0.4995910273702181\n",
            "\n",
            " Classification Report:\n",
            "               precision    recall  f1-score   support\n",
            "\n",
            "          DV       1.00      0.33      0.50        33\n",
            "    DV_STORY       0.00      0.00      0.00         6\n",
            "  Harassment       0.76      0.97      0.85       356\n",
            " NO_VIOLENCE       0.84      0.44      0.58       143\n",
            "\n",
            "    accuracy                           0.78       538\n",
            "   macro avg       0.65      0.44      0.48       538\n",
            "weighted avg       0.79      0.78      0.75       538\n",
            "\n",
            "Confusion Matrix:\n",
            "['DV', 'DV_STORY', 'Harassment', 'NO_VIOLENCE']\n",
            "[[ 11   0  22   0]\n",
            " [  0   0   6   0]\n",
            " [  0   0 344  12]\n",
            " [  0   0  80  63]]\n"
          ],
          "name": "stdout"
        }
      ]
    },
    {
      "cell_type": "code",
      "metadata": {
        "id": "sK0z9RbNRwAr",
        "colab_type": "code",
        "outputId": "2f5bfcac-948b-495e-f135-187292a33a9d",
        "colab": {
          "base_uri": "https://localhost:8080/",
          "height": 467
        }
      },
      "source": [
        "from sklearn.ensemble import AdaBoostClassifier\n",
        "param_grid = {'n_estimators' : [300]}\n",
        "model = param_selection(AdaBoostClassifier(random_state=0), param_grid, x_train, y_train, 5)\n",
        "print(model.best_params_)\n",
        "predicted_test=model.predict(x_test)\n",
        "evaluate_model(y_test, predicted_test)\n",
        "#labels = ['NON_D_VIOLENCE_ABOUT', 'NON_D_VIOLENCE_DIRECTED','DV_OPINION_ADVOCATE','DV_OPINION_INFO_NEWS','NO_VIOLENCE','DV_OPINION_DENIER','DV_STORY'] \n",
        "labels = ['DV','DV_STORY','Harassment','NO_VIOLENCE'] \n",
        "cm = confusion_matrix(y_test, predicted_test,labels)\n",
        "print('Confusion Matrix:')\n",
        "print(labels)\n",
        "print(cm)"
      ],
      "execution_count": 34,
      "outputs": [
        {
          "output_type": "stream",
          "text": [
            "{'n_estimators': 300}\n",
            "Accuracy: 0.6561338289962825\n",
            "F1 score: 0.6620501363011688\n",
            "Recall: 0.6561338289962825\n",
            "Precision: 0.6876833677302117\n",
            "MCC:  0.3556409661429277\n",
            "\n",
            " Classification Report:\n",
            "               precision    recall  f1-score   support\n",
            "\n",
            "          DV       0.54      0.45      0.49        33\n",
            "    DV_STORY       0.00      0.00      0.00         6\n",
            "  Harassment       0.80      0.67      0.73       356\n",
            " NO_VIOLENCE       0.47      0.69      0.56       143\n",
            "\n",
            "    accuracy                           0.66       538\n",
            "   macro avg       0.45      0.45      0.45       538\n",
            "weighted avg       0.69      0.66      0.66       538\n",
            "\n",
            "Confusion Matrix:\n",
            "['DV', 'DV_STORY', 'Harassment', 'NO_VIOLENCE']\n",
            "[[ 15   0  14   4]\n",
            " [  1   0   5   0]\n",
            " [  8   0 239 109]\n",
            " [  4   0  40  99]]\n"
          ],
          "name": "stdout"
        }
      ]
    },
    {
      "cell_type": "code",
      "metadata": {
        "id": "xhQuizmrSEZw",
        "colab_type": "code",
        "outputId": "637a3d2d-d9ac-42a6-c1f9-c62e11cdbcfc",
        "colab": {
          "base_uri": "https://localhost:8080/",
          "height": 467
        }
      },
      "source": [
        "from sklearn.ensemble import GradientBoostingClassifier\n",
        "param_grid = {'n_estimators':[300]}\n",
        "model = param_selection(GradientBoostingClassifier(random_state=0), param_grid, x_train, y_train, 5)\n",
        "print(model.best_params_)\n",
        "predicted_test=model.predict(x_test)\n",
        "evaluate_model(y_test, predicted_test)\n",
        "#labels = ['NON_D_VIOLENCE_ABOUT', 'NON_D_VIOLENCE_DIRECTED','DV_OPINION_ADVOCATE','DV_OPINION_INFO_NEWS','NO_VIOLENCE','DV_OPINION_DENIER','DV_STORY'] \n",
        "labels = ['DV','DV_STORY','Harassment','NO_VIOLENCE'] \n",
        "cm = confusion_matrix(y_test, predicted_test,labels)\n",
        "print('Confusion Matrix:')\n",
        "print(labels)\n",
        "print(cm)"
      ],
      "execution_count": 32,
      "outputs": [
        {
          "output_type": "stream",
          "text": [
            "{'n_estimators': 300}\n",
            "Accuracy: 0.8029739776951673\n",
            "F1 score: 0.7921881560816727\n",
            "Recall: 0.8029739776951673\n",
            "Precision: 0.8041872657585506\n",
            "MCC:  0.5680117008824691\n",
            "\n",
            " Classification Report:\n",
            "               precision    recall  f1-score   support\n",
            "\n",
            "          DV       0.94      0.48      0.64        33\n",
            "    DV_STORY       0.00      0.00      0.00         6\n",
            "  Harassment       0.81      0.93      0.87       356\n",
            " NO_VIOLENCE       0.79      0.59      0.67       143\n",
            "\n",
            "    accuracy                           0.80       538\n",
            "   macro avg       0.64      0.50      0.55       538\n",
            "weighted avg       0.80      0.80      0.79       538\n",
            "\n",
            "Confusion Matrix:\n",
            "['DV', 'DV_STORY', 'Harassment', 'NO_VIOLENCE']\n",
            "[[ 16   0  16   1]\n",
            " [  0   0   6   0]\n",
            " [  0   3 332  21]\n",
            " [  1   2  56  84]]\n"
          ],
          "name": "stdout"
        }
      ]
    },
    {
      "cell_type": "code",
      "metadata": {
        "id": "OTTBzQkcSbre",
        "colab_type": "code",
        "outputId": "93298a19-f4ce-4285-9577-3d6fb2ccee3e",
        "colab": {
          "base_uri": "https://localhost:8080/",
          "height": 467
        }
      },
      "source": [
        "import xgboost as xg\n",
        "param_grid = {'n_estimators':[300]}\n",
        "model = param_selection(xg.XGBClassifier(), param_grid, x_train, y_train, 5)\n",
        "print(model.best_params_)\n",
        "predicted_test=model.predict(x_test)\n",
        "evaluate_model(y_test, predicted_test)\n",
        "#labels = ['NON_D_VIOLENCE_ABOUT', 'NON_D_VIOLENCE_DIRECTED','DV_OPINION_ADVOCATE','DV_OPINION_INFO_NEWS','NO_VIOLENCE','DV_OPINION_DENIER','DV_STORY'] \n",
        "labels = ['DV','DV_STORY','Harassment','NO_VIOLENCE'] \n",
        "cm = confusion_matrix(y_test, predicted_test,labels)\n",
        "print('Confusion Matrix:')\n",
        "print(labels)\n",
        "print(cm)"
      ],
      "execution_count": 33,
      "outputs": [
        {
          "output_type": "stream",
          "text": [
            "{'n_estimators': 300}\n",
            "Accuracy: 0.8141263940520446\n",
            "F1 score: 0.7987007691912357\n",
            "Recall: 0.8141263940520446\n",
            "Precision: 0.8104136190058175\n",
            "MCC:  0.5910930565014488\n",
            "\n",
            " Classification Report:\n",
            "               precision    recall  f1-score   support\n",
            "\n",
            "          DV       0.94      0.48      0.64        33\n",
            "    DV_STORY       0.00      0.00      0.00         6\n",
            "  Harassment       0.81      0.95      0.87       356\n",
            " NO_VIOLENCE       0.82      0.59      0.69       143\n",
            "\n",
            "    accuracy                           0.81       538\n",
            "   macro avg       0.64      0.51      0.55       538\n",
            "weighted avg       0.81      0.81      0.80       538\n",
            "\n",
            "Confusion Matrix:\n",
            "['DV', 'DV_STORY', 'Harassment', 'NO_VIOLENCE']\n",
            "[[ 16   0  16   1]\n",
            " [  0   0   6   0]\n",
            " [  1   0 338  17]\n",
            " [  0   0  59  84]]\n"
          ],
          "name": "stdout"
        }
      ]
    },
    {
      "cell_type": "code",
      "metadata": {
        "id": "7sX-yLf2hGY5",
        "colab_type": "code",
        "colab": {}
      },
      "source": [
        ""
      ],
      "execution_count": 0,
      "outputs": []
    }
  ]
}