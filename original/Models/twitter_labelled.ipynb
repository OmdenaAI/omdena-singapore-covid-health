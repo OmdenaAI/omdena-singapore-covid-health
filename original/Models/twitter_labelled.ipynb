{
  "nbformat": 4,
  "nbformat_minor": 0,
  "metadata": {
    "colab": {
      "name": "twitter_labelled.ipynb",
      "provenance": [],
      "collapsed_sections": []
    },
    "kernelspec": {
      "name": "python3",
      "display_name": "Python 3"
    },
    "accelerator": "GPU"
  },
  "cells": [
    {
      "cell_type": "code",
      "metadata": {
        "id": "jU_JnrD1Gqmr",
        "colab_type": "code",
        "colab": {}
      },
      "source": [
        "import pandas as pd\n",
        "import numpy as np\n",
        "from tqdm.notebook import tqdm"
      ],
      "execution_count": 0,
      "outputs": []
    },
    {
      "cell_type": "code",
      "metadata": {
        "id": "wzITVf2AG7oM",
        "colab_type": "code",
        "colab": {}
      },
      "source": [
        "dv_data = pd.read_csv(\"labeled4.csv\")\n",
        "new_dv = pd.read_csv(\"old_dv_30n31n32.csv\")"
      ],
      "execution_count": 0,
      "outputs": []
    },
    {
      "cell_type": "code",
      "metadata": {
        "id": "8KgItkTlHAf-",
        "colab_type": "code",
        "outputId": "492bd0b0-3f11-420b-bf39-5fda1a3e1f97",
        "colab": {
          "base_uri": "https://localhost:8080/",
          "height": 186
        }
      },
      "source": [
        "dv_data.head(3)"
      ],
      "execution_count": 3,
      "outputs": [
        {
          "output_type": "execute_result",
          "data": {
            "text/html": [
              "<div>\n",
              "<style scoped>\n",
              "    .dataframe tbody tr th:only-of-type {\n",
              "        vertical-align: middle;\n",
              "    }\n",
              "\n",
              "    .dataframe tbody tr th {\n",
              "        vertical-align: top;\n",
              "    }\n",
              "\n",
              "    .dataframe thead th {\n",
              "        text-align: right;\n",
              "    }\n",
              "</style>\n",
              "<table border=\"1\" class=\"dataframe\">\n",
              "  <thead>\n",
              "    <tr style=\"text-align: right;\">\n",
              "      <th></th>\n",
              "      <th>username</th>\n",
              "      <th>tweet_id</th>\n",
              "      <th>text</th>\n",
              "      <th>date</th>\n",
              "      <th>user_location</th>\n",
              "      <th>processed_text</th>\n",
              "      <th>lab_final</th>\n",
              "    </tr>\n",
              "  </thead>\n",
              "  <tbody>\n",
              "    <tr>\n",
              "      <th>0</th>\n",
              "      <td>VipinHeartsTay</td>\n",
              "      <td>1.255927e+18</td>\n",
              "      <td>The fact their might be so many marital rape a...</td>\n",
              "      <td>2020-04-30 18:28:25+00:00</td>\n",
              "      <td>India</td>\n",
              "      <td>the fact their might be so many marital rape a...</td>\n",
              "      <td>DV_OPINION_ADVOCATE</td>\n",
              "    </tr>\n",
              "    <tr>\n",
              "      <th>1</th>\n",
              "      <td>TheGhoudi</td>\n",
              "      <td>1.255806e+18</td>\n",
              "      <td>‘If the child has been through sexual abuse, a...</td>\n",
              "      <td>2020-04-30 10:26:35+00:00</td>\n",
              "      <td>Mumbai, India</td>\n",
              "      <td>‘if the child ha be through sexual abuse adult...</td>\n",
              "      <td>NON_D_VIOLENCE_ABOUT</td>\n",
              "    </tr>\n",
              "    <tr>\n",
              "      <th>2</th>\n",
              "      <td>TheGhoudi</td>\n",
              "      <td>1.255803e+18</td>\n",
              "      <td>‘If you have any doubt &amp; pick up any signs of ...</td>\n",
              "      <td>2020-04-30 10:14:19+00:00</td>\n",
              "      <td>Mumbai, India</td>\n",
              "      <td>‘if you have any doubt pick up any sign of sex...</td>\n",
              "      <td>NON_D_VIOLENCE_ABOUT</td>\n",
              "    </tr>\n",
              "  </tbody>\n",
              "</table>\n",
              "</div>"
            ],
            "text/plain": [
              "         username  ...             lab_final\n",
              "0  VipinHeartsTay  ...   DV_OPINION_ADVOCATE\n",
              "1       TheGhoudi  ...  NON_D_VIOLENCE_ABOUT\n",
              "2       TheGhoudi  ...  NON_D_VIOLENCE_ABOUT\n",
              "\n",
              "[3 rows x 7 columns]"
            ]
          },
          "metadata": {
            "tags": []
          },
          "execution_count": 3
        }
      ]
    },
    {
      "cell_type": "code",
      "metadata": {
        "id": "VwVfhkfp2pi1",
        "colab_type": "code",
        "outputId": "8c93421c-fbf8-44f7-85f1-07f2fb91034e",
        "colab": {
          "base_uri": "https://localhost:8080/",
          "height": 136
        }
      },
      "source": [
        "new_dv.head(3)"
      ],
      "execution_count": 4,
      "outputs": [
        {
          "output_type": "execute_result",
          "data": {
            "text/html": [
              "<div>\n",
              "<style scoped>\n",
              "    .dataframe tbody tr th:only-of-type {\n",
              "        vertical-align: middle;\n",
              "    }\n",
              "\n",
              "    .dataframe tbody tr th {\n",
              "        vertical-align: top;\n",
              "    }\n",
              "\n",
              "    .dataframe thead th {\n",
              "        text-align: right;\n",
              "    }\n",
              "</style>\n",
              "<table border=\"1\" class=\"dataframe\">\n",
              "  <thead>\n",
              "    <tr style=\"text-align: right;\">\n",
              "      <th></th>\n",
              "      <th>text</th>\n",
              "      <th>lab_final</th>\n",
              "    </tr>\n",
              "  </thead>\n",
              "  <tbody>\n",
              "    <tr>\n",
              "      <th>0</th>\n",
              "      <td>Forced prostitution is a category of human tra...</td>\n",
              "      <td>DV_OPINION_INFO_NEWS</td>\n",
              "    </tr>\n",
              "    <tr>\n",
              "      <th>1</th>\n",
              "      <td>I visited Rudy one day I'd make comments and h...</td>\n",
              "      <td>DV_STORY</td>\n",
              "    </tr>\n",
              "    <tr>\n",
              "      <th>2</th>\n",
              "      <td>I have two for you -a guy creates a fighting t...</td>\n",
              "      <td>DV_OPINION_INFO_NEWS</td>\n",
              "    </tr>\n",
              "  </tbody>\n",
              "</table>\n",
              "</div>"
            ],
            "text/plain": [
              "                                                text             lab_final\n",
              "0  Forced prostitution is a category of human tra...  DV_OPINION_INFO_NEWS\n",
              "1  I visited Rudy one day I'd make comments and h...              DV_STORY\n",
              "2  I have two for you -a guy creates a fighting t...  DV_OPINION_INFO_NEWS"
            ]
          },
          "metadata": {
            "tags": []
          },
          "execution_count": 4
        }
      ]
    },
    {
      "cell_type": "code",
      "metadata": {
        "id": "t2514lpcHBo2",
        "colab_type": "code",
        "colab": {}
      },
      "source": [
        "dv_data = dv_data[['text','lab_final']]\n",
        "final_df = pd.concat([dv_data,new_dv],axis=0)"
      ],
      "execution_count": 0,
      "outputs": []
    },
    {
      "cell_type": "code",
      "metadata": {
        "id": "vvIBr_GOHPWs",
        "colab_type": "code",
        "outputId": "dc115fff-66e4-49f0-b0d0-57d1bde742ea",
        "colab": {
          "base_uri": "https://localhost:8080/",
          "height": 34
        }
      },
      "source": [
        "final_df.shape"
      ],
      "execution_count": 6,
      "outputs": [
        {
          "output_type": "execute_result",
          "data": {
            "text/plain": [
              "(3108, 2)"
            ]
          },
          "metadata": {
            "tags": []
          },
          "execution_count": 6
        }
      ]
    },
    {
      "cell_type": "code",
      "metadata": {
        "id": "UmnZmSFeHr_B",
        "colab_type": "code",
        "outputId": "c754b571-2222-4a09-b9eb-cf8735a7bbdc",
        "colab": {
          "base_uri": "https://localhost:8080/",
          "height": 151
        }
      },
      "source": [
        "final_df['lab_final'].value_counts()"
      ],
      "execution_count": 7,
      "outputs": [
        {
          "output_type": "execute_result",
          "data": {
            "text/plain": [
              "NON_D_VIOLENCE_ABOUT       1613\n",
              "NO_VIOLENCE                 606\n",
              "DV_OPINION_INFO_NEWS        294\n",
              "NON_D_VIOLENCE_DIRECTED     274\n",
              "DV_OPINION_ADVOCATE         170\n",
              "DV_STORY                    130\n",
              "DV_OPINION_DENIER            21\n",
              "Name: lab_final, dtype: int64"
            ]
          },
          "metadata": {
            "tags": []
          },
          "execution_count": 7
        }
      ]
    },
    {
      "cell_type": "code",
      "metadata": {
        "id": "DsZOVHx_Hs3J",
        "colab_type": "code",
        "colab": {}
      },
      "source": [
        "dv_classes = pd.read_csv(\"data_dvclasses.csv\")"
      ],
      "execution_count": 0,
      "outputs": []
    },
    {
      "cell_type": "code",
      "metadata": {
        "id": "p8aPmgAI68uc",
        "colab_type": "code",
        "colab": {}
      },
      "source": [
        "dv_classes = dv_classes[['text','lab_final']]"
      ],
      "execution_count": 0,
      "outputs": []
    },
    {
      "cell_type": "code",
      "metadata": {
        "id": "Z42WDMgr7ID9",
        "colab_type": "code",
        "colab": {}
      },
      "source": [
        "final_df = pd.concat([final_df,dv_classes],axis=0)"
      ],
      "execution_count": 0,
      "outputs": []
    },
    {
      "cell_type": "code",
      "metadata": {
        "id": "Ti2tp2DL2jpj",
        "colab_type": "code",
        "colab": {}
      },
      "source": [
        "final_df.reset_index(inplace=True)"
      ],
      "execution_count": 0,
      "outputs": []
    },
    {
      "cell_type": "code",
      "metadata": {
        "id": "wicUoIfaYgOs",
        "colab_type": "code",
        "colab": {}
      },
      "source": [
        "final_df.dropna(inplace=True,axis=0)"
      ],
      "execution_count": 0,
      "outputs": []
    },
    {
      "cell_type": "code",
      "metadata": {
        "id": "U-9FYVv32pQL",
        "colab_type": "code",
        "colab": {}
      },
      "source": [
        "final_df.drop(columns=\"index\",axis=1,inplace=True)"
      ],
      "execution_count": 0,
      "outputs": []
    },
    {
      "cell_type": "code",
      "metadata": {
        "id": "b9E9hAKb2xmR",
        "colab_type": "code",
        "outputId": "99c19d05-3bf7-4d3b-9047-f250499f5e9a",
        "colab": {
          "base_uri": "https://localhost:8080/",
          "height": 34
        }
      },
      "source": [
        "final_df.shape"
      ],
      "execution_count": 14,
      "outputs": [
        {
          "output_type": "execute_result",
          "data": {
            "text/plain": [
              "(3243, 2)"
            ]
          },
          "metadata": {
            "tags": []
          },
          "execution_count": 14
        }
      ]
    },
    {
      "cell_type": "code",
      "metadata": {
        "id": "h4LFW_2N2M6t",
        "colab_type": "code",
        "colab": {}
      },
      "source": [
        "dv_29 = pd.read_csv(\"old_dv_29.csv\")   #mainly for testing"
      ],
      "execution_count": 0,
      "outputs": []
    },
    {
      "cell_type": "code",
      "metadata": {
        "id": "UZ8q_CNc2Sml",
        "colab_type": "code",
        "colab": {}
      },
      "source": [
        "final_df = pd.concat([final_df,dv_29],axis=0)"
      ],
      "execution_count": 0,
      "outputs": []
    },
    {
      "cell_type": "code",
      "metadata": {
        "id": "TBArcX_l22S2",
        "colab_type": "code",
        "colab": {}
      },
      "source": [
        "final_df.reset_index(inplace=True)\n",
        "final_df.drop(columns=\"index\",axis=1,inplace=True)"
      ],
      "execution_count": 0,
      "outputs": []
    },
    {
      "cell_type": "code",
      "metadata": {
        "id": "ex1tZFTw7M6E",
        "colab_type": "code",
        "outputId": "84d96187-2b6b-42a4-926d-37d61f44bb0e",
        "colab": {
          "base_uri": "https://localhost:8080/",
          "height": 185
        }
      },
      "source": [
        "final_df['lab_final'].value_counts()"
      ],
      "execution_count": 18,
      "outputs": [
        {
          "output_type": "execute_result",
          "data": {
            "text/plain": [
              "NON_D_VIOLENCE_ABOUT       1720\n",
              "NO_VIOLENCE                 743\n",
              "DV_OPINION_INFO_NEWS        398\n",
              "NON_D_VIOLENCE_DIRECTED     310\n",
              "DV_OPINION_ADVOCATE         296\n",
              "DV_STORY                    204\n",
              "DV_OPINION_DENIER            34\n",
              "NON-D_VIOLENCE_ABOUT         33\n",
              "DV_OPINIO _DENY               5\n",
              "Name: lab_final, dtype: int64"
            ]
          },
          "metadata": {
            "tags": []
          },
          "execution_count": 18
        }
      ]
    },
    {
      "cell_type": "code",
      "metadata": {
        "id": "UnKXyMOQIPBM",
        "colab_type": "code",
        "colab": {}
      },
      "source": [
        "final_df.replace(\"DV_OPINIO _DENY\",value=\"DV_OPINION_DENIER\",inplace=True)\n",
        "final_df.replace(\"NON_D_VIOLENCE_DIRECTED\",value=\"NON_D_VIOLENCE_ABOUT\",inplace=True)\n",
        "final_df.replace(\"NON-D_VIOLENCE_ABOUT\",value=\"NON_D_VIOLENCE_ABOUT\",inplace=True)\n",
        "final_df.replace(\"DV_OPINION_INFO_NEWS\",value=\"DV_OPINION\",inplace=True)\n",
        "final_df.replace(\"DV_OPINION_ADVOCATE\",value=\"DV_OPINION\",inplace=True)"
      ],
      "execution_count": 0,
      "outputs": []
    },
    {
      "cell_type": "code",
      "metadata": {
        "id": "Vue2boihIv-0",
        "colab_type": "code",
        "colab": {}
      },
      "source": [
        "label_encode = {}\n",
        "for e,value in enumerate(final_df['lab_final'].unique()):\n",
        "  label_encode[value] = e\n",
        "final_df['label'] = final_df['lab_final'].map(label_encode)"
      ],
      "execution_count": 0,
      "outputs": []
    },
    {
      "cell_type": "code",
      "metadata": {
        "id": "o8h0rMYA9-fr",
        "colab_type": "code",
        "outputId": "2abc28e0-660e-4868-9228-0ab80b56c8cb",
        "colab": {
          "base_uri": "https://localhost:8080/",
          "height": 101
        }
      },
      "source": [
        "label_encode"
      ],
      "execution_count": 21,
      "outputs": [
        {
          "output_type": "execute_result",
          "data": {
            "text/plain": [
              "{'DV_OPINION': 0,\n",
              " 'DV_OPINION_DENIER': 4,\n",
              " 'DV_STORY': 3,\n",
              " 'NON_D_VIOLENCE_ABOUT': 1,\n",
              " 'NO_VIOLENCE': 2}"
            ]
          },
          "metadata": {
            "tags": []
          },
          "execution_count": 21
        }
      ]
    },
    {
      "cell_type": "code",
      "metadata": {
        "id": "ftnXubWKMAvC",
        "colab_type": "code",
        "colab": {}
      },
      "source": [
        "df_final = final_df.copy()"
      ],
      "execution_count": 0,
      "outputs": []
    },
    {
      "cell_type": "code",
      "metadata": {
        "id": "Ar5csNNd3AU3",
        "colab_type": "code",
        "colab": {}
      },
      "source": [
        "## We will go to the end to use the new method"
      ],
      "execution_count": 0,
      "outputs": []
    },
    {
      "cell_type": "markdown",
      "metadata": {
        "id": "MRpPsrhqvusk",
        "colab_type": "text"
      },
      "source": [
        "## Traditional approach"
      ]
    },
    {
      "cell_type": "code",
      "metadata": {
        "id": "m1jMgl76DDGj",
        "colab_type": "code",
        "outputId": "901164fa-350b-46e7-a426-cef022fd8c09",
        "colab": {
          "base_uri": "https://localhost:8080/",
          "height": 118
        }
      },
      "source": [
        "df_final['label'].value_counts()"
      ],
      "execution_count": 24,
      "outputs": [
        {
          "output_type": "execute_result",
          "data": {
            "text/plain": [
              "1    2063\n",
              "2     743\n",
              "0     694\n",
              "3     204\n",
              "4      39\n",
              "Name: label, dtype: int64"
            ]
          },
          "metadata": {
            "tags": []
          },
          "execution_count": 24
        }
      ]
    },
    {
      "cell_type": "code",
      "metadata": {
        "id": "Qe9GMlHaeo73",
        "colab_type": "code",
        "outputId": "9da5f2c9-0f33-42b4-d0bb-886ea871e5f9",
        "colab": {
          "base_uri": "https://localhost:8080/",
          "height": 101
        }
      },
      "source": [
        "import unicodedata  \n",
        "from nltk import sent_tokenize\n",
        "from nltk.corpus import stopwords\n",
        "import nltk\n",
        "import re\n",
        "from nltk.tokenize import word_tokenize\n",
        "from wordcloud import WordCloud\n",
        "import matplotlib.pyplot as plt\n",
        "from nltk.stem import WordNetLemmatizer\n",
        "nltk.download('punkt')\n",
        "nltk.download('wordnet')"
      ],
      "execution_count": 25,
      "outputs": [
        {
          "output_type": "stream",
          "text": [
            "[nltk_data] Downloading package punkt to /root/nltk_data...\n",
            "[nltk_data]   Unzipping tokenizers/punkt.zip.\n",
            "[nltk_data] Downloading package wordnet to /root/nltk_data...\n",
            "[nltk_data]   Unzipping corpora/wordnet.zip.\n"
          ],
          "name": "stdout"
        },
        {
          "output_type": "execute_result",
          "data": {
            "text/plain": [
              "True"
            ]
          },
          "metadata": {
            "tags": []
          },
          "execution_count": 25
        }
      ]
    },
    {
      "cell_type": "code",
      "metadata": {
        "id": "7TILsvwkaYAo",
        "colab_type": "code",
        "colab": {}
      },
      "source": [
        "def remove_non_ascii(words):\n",
        "    \"\"\"Remove non-ASCII characters from list of tokenized words\"\"\"\n",
        "    new_words = []\n",
        "    for word in words:\n",
        "        new_word = unicodedata.normalize('NFKD', word).encode('ascii', 'ignore').decode('utf-8', 'ignore')\n",
        "        new_words.append(new_word)\n",
        "    return new_words\n",
        "\n",
        "def to_lowercase(words):\n",
        "    \"\"\"Convert all characters to lowercase from list of tokenized words\"\"\"\n",
        "    new_words = []\n",
        "    for word in words:\n",
        "        new_word = word.lower()\n",
        "        new_words.append(new_word)\n",
        "    return new_words\n",
        "\n",
        "def remove_punctuation(words):\n",
        "    \"\"\"Remove punctuation from list of tokenized words\"\"\"\n",
        "    new_words = []\n",
        "    for word in words:\n",
        "        new_word = re.sub(r'[^\\w\\s]', '', word)\n",
        "        new_word = re.sub(r'(.)\\1+', r'\\1\\1', new_word) \n",
        "        if new_word != '':\n",
        "            new_words.append(new_word)\n",
        "    return new_words\n",
        "\n",
        "def remove_stopwords(words):\n",
        "    \"\"\"Remove stop words from list of tokenized words\"\"\"\n",
        "    new_words = []\n",
        "    stop_words = []\n",
        "    stop_words.append(stopwords.words('english'))\n",
        "    for word in words:\n",
        "        if(word not in stop_words):\n",
        "            new_words.append(word)\n",
        "    return new_words\n",
        "\n",
        "def lemmatize_verbs(words):\n",
        "    \"\"\"Lemmatize verbs in list of tokenized words\"\"\"\n",
        "    lemmatizer = WordNetLemmatizer()\n",
        "    lemmas = []\n",
        "    for word in words:\n",
        "        lemma = lemmatizer.lemmatize(word, pos='v')\n",
        "        lemmas.append(lemma)\n",
        "    return lemmas\n",
        "\n",
        "# def replace_contractions(text):\n",
        "#     \"\"\"Replace contractions in string of text\"\"\"\n",
        "#     return contractions.fix(text)\n",
        "def preprocess(text):\n",
        "    # text = replace_contractions(text)\n",
        "    content = nltk.word_tokenize(text)\n",
        "    words = remove_non_ascii(content)\n",
        "    words = to_lowercase(words)\n",
        "    words = lemmatize_verbs(words)\n",
        "    words = remove_punctuation(words)\n",
        "    # words = remove_stopwords(words)\n",
        "    # text= ' '.join(list(dict.fromkeys(words)))\n",
        "    text = ' '.join(words)\n",
        "    return text\n",
        "def join_tags(words):\n",
        "    text = ''.join(words)\n",
        "    return text"
      ],
      "execution_count": 0,
      "outputs": []
    },
    {
      "cell_type": "code",
      "metadata": {
        "id": "Z-jMHqejbJ08",
        "colab_type": "code",
        "colab": {}
      },
      "source": [
        "df_final['text'] = df_final['text'].apply(preprocess)"
      ],
      "execution_count": 0,
      "outputs": []
    },
    {
      "cell_type": "code",
      "metadata": {
        "id": "rnNXVh2McV2p",
        "colab_type": "code",
        "outputId": "8de26aab-f742-4556-ed4a-bcc3d381f6f1",
        "colab": {
          "base_uri": "https://localhost:8080/",
          "height": 195
        }
      },
      "source": [
        "df_final.head()"
      ],
      "execution_count": 28,
      "outputs": [
        {
          "output_type": "execute_result",
          "data": {
            "text/html": [
              "<div>\n",
              "<style scoped>\n",
              "    .dataframe tbody tr th:only-of-type {\n",
              "        vertical-align: middle;\n",
              "    }\n",
              "\n",
              "    .dataframe tbody tr th {\n",
              "        vertical-align: top;\n",
              "    }\n",
              "\n",
              "    .dataframe thead th {\n",
              "        text-align: right;\n",
              "    }\n",
              "</style>\n",
              "<table border=\"1\" class=\"dataframe\">\n",
              "  <thead>\n",
              "    <tr style=\"text-align: right;\">\n",
              "      <th></th>\n",
              "      <th>text</th>\n",
              "      <th>lab_final</th>\n",
              "      <th>label</th>\n",
              "    </tr>\n",
              "  </thead>\n",
              "  <tbody>\n",
              "    <tr>\n",
              "      <th>0</th>\n",
              "      <td>the fact their might be so many marital rape a...</td>\n",
              "      <td>DV_OPINION</td>\n",
              "      <td>0</td>\n",
              "    </tr>\n",
              "    <tr>\n",
              "      <th>1</th>\n",
              "      <td>if the child have be through sexual abuse adul...</td>\n",
              "      <td>NON_D_VIOLENCE_ABOUT</td>\n",
              "      <td>1</td>\n",
              "    </tr>\n",
              "    <tr>\n",
              "      <th>2</th>\n",
              "      <td>if you have any doubt pick up any sign of sexu...</td>\n",
              "      <td>NON_D_VIOLENCE_ABOUT</td>\n",
              "      <td>1</td>\n",
              "    </tr>\n",
              "    <tr>\n",
              "      <th>3</th>\n",
              "      <td>fuccbois a great film and yeah it talk about p...</td>\n",
              "      <td>NON_D_VIOLENCE_ABOUT</td>\n",
              "      <td>1</td>\n",
              "    </tr>\n",
              "    <tr>\n",
              "      <th>4</th>\n",
              "      <td>lockdown new time zone for sexual couple pictw...</td>\n",
              "      <td>NO_VIOLENCE</td>\n",
              "      <td>2</td>\n",
              "    </tr>\n",
              "  </tbody>\n",
              "</table>\n",
              "</div>"
            ],
            "text/plain": [
              "                                                text  ... label\n",
              "0  the fact their might be so many marital rape a...  ...     0\n",
              "1  if the child have be through sexual abuse adul...  ...     1\n",
              "2  if you have any doubt pick up any sign of sexu...  ...     1\n",
              "3  fuccbois a great film and yeah it talk about p...  ...     1\n",
              "4  lockdown new time zone for sexual couple pictw...  ...     2\n",
              "\n",
              "[5 rows x 3 columns]"
            ]
          },
          "metadata": {
            "tags": []
          },
          "execution_count": 28
        }
      ]
    },
    {
      "cell_type": "code",
      "metadata": {
        "id": "3lJdS8HnfHVv",
        "colab_type": "code",
        "colab": {}
      },
      "source": [
        "from sklearn.base import BaseEstimator, TransformerMixin\n",
        "\n",
        "class TextSelector(BaseEstimator, TransformerMixin):\n",
        "    \"\"\"\n",
        "    Transformer to select a single column from the data frame to perform additional transformations on\n",
        "    Use on text columns in the data\n",
        "    \"\"\"\n",
        "    def __init__(self, key):\n",
        "        self.key = key\n",
        "\n",
        "    def fit(self, X, y=None): # fit() doesn't do anything\n",
        "        return self\n",
        "\n",
        "    def transform(self, X):   # all the work is done here\n",
        "        return X[self.key]\n",
        "    \n",
        "class NumberSelector(BaseEstimator, TransformerMixin):\n",
        "    \"\"\"\n",
        "    Transformer to select a single column from the data frame to perform additional transformations on\n",
        "    Use on numeric columns in the data\n",
        "    \"\"\"\n",
        "    def __init__(self, key):\n",
        "        self.key = key\n",
        "\n",
        "    def fit(self, X, y=None):\n",
        "        return self\n",
        "\n",
        "    def transform(self, X):\n",
        "        return X[[self.key]]"
      ],
      "execution_count": 0,
      "outputs": []
    },
    {
      "cell_type": "code",
      "metadata": {
        "id": "sJwAivzIfUsb",
        "colab_type": "code",
        "colab": {}
      },
      "source": [
        "from sklearn.pipeline import Pipeline\n",
        "from sklearn.feature_extraction.text import TfidfVectorizer\n",
        "from sklearn.preprocessing import MinMaxScaler\n",
        "\n",
        "text = Pipeline([\n",
        "                ('selector', TextSelector(key='text')),\n",
        "                ('tfidf', TfidfVectorizer(analyzer='word', token_pattern=r'\\w{1,}',ngram_range=(1,2)))\n",
        "            ])"
      ],
      "execution_count": 0,
      "outputs": []
    },
    {
      "cell_type": "code",
      "metadata": {
        "id": "XAgFG4NafbZs",
        "colab_type": "code",
        "colab": {}
      },
      "source": [
        "from sklearn.pipeline import FeatureUnion\n",
        "\n",
        "feats = FeatureUnion([('text', text)]) \n",
        "feature_processing = Pipeline([('feats', feats)])"
      ],
      "execution_count": 0,
      "outputs": []
    },
    {
      "cell_type": "code",
      "metadata": {
        "id": "qTigysHcg7xU",
        "colab_type": "code",
        "outputId": "6a02c784-a4c0-4390-a3be-fb3d0efaffb1",
        "colab": {
          "base_uri": "https://localhost:8080/",
          "height": 106
        }
      },
      "source": [
        "df_final.head(2)"
      ],
      "execution_count": 32,
      "outputs": [
        {
          "output_type": "execute_result",
          "data": {
            "text/html": [
              "<div>\n",
              "<style scoped>\n",
              "    .dataframe tbody tr th:only-of-type {\n",
              "        vertical-align: middle;\n",
              "    }\n",
              "\n",
              "    .dataframe tbody tr th {\n",
              "        vertical-align: top;\n",
              "    }\n",
              "\n",
              "    .dataframe thead th {\n",
              "        text-align: right;\n",
              "    }\n",
              "</style>\n",
              "<table border=\"1\" class=\"dataframe\">\n",
              "  <thead>\n",
              "    <tr style=\"text-align: right;\">\n",
              "      <th></th>\n",
              "      <th>text</th>\n",
              "      <th>lab_final</th>\n",
              "      <th>label</th>\n",
              "    </tr>\n",
              "  </thead>\n",
              "  <tbody>\n",
              "    <tr>\n",
              "      <th>0</th>\n",
              "      <td>the fact their might be so many marital rape a...</td>\n",
              "      <td>DV_OPINION</td>\n",
              "      <td>0</td>\n",
              "    </tr>\n",
              "    <tr>\n",
              "      <th>1</th>\n",
              "      <td>if the child have be through sexual abuse adul...</td>\n",
              "      <td>NON_D_VIOLENCE_ABOUT</td>\n",
              "      <td>1</td>\n",
              "    </tr>\n",
              "  </tbody>\n",
              "</table>\n",
              "</div>"
            ],
            "text/plain": [
              "                                                text  ... label\n",
              "0  the fact their might be so many marital rape a...  ...     0\n",
              "1  if the child have be through sexual abuse adul...  ...     1\n",
              "\n",
              "[2 rows x 3 columns]"
            ]
          },
          "metadata": {
            "tags": []
          },
          "execution_count": 32
        }
      ]
    },
    {
      "cell_type": "code",
      "metadata": {
        "id": "2DEampT7ImZZ",
        "colab_type": "code",
        "colab": {}
      },
      "source": [
        "from sklearn.model_selection import train_test_split"
      ],
      "execution_count": 0,
      "outputs": []
    },
    {
      "cell_type": "code",
      "metadata": {
        "id": "E5XVWbOfft_p",
        "colab_type": "code",
        "colab": {}
      },
      "source": [
        "from sklearn.model_selection import train_test_split\n",
        "from sklearn import preprocessing\n",
        "x_train, x_valid, y_train, y_valid = train_test_split(df_final.drop(columns=['label'],axis=1), df_final['label'], \n",
        "                                                      random_state=0,test_size=0.15, stratify=df_final['label'])"
      ],
      "execution_count": 0,
      "outputs": []
    },
    {
      "cell_type": "code",
      "metadata": {
        "id": "xve09BxYgQ3S",
        "colab_type": "code",
        "colab": {}
      },
      "source": [
        "x_train = feature_processing.fit_transform(x_train) \n",
        "x_valid = feature_processing.transform(x_valid)"
      ],
      "execution_count": 0,
      "outputs": []
    },
    {
      "cell_type": "code",
      "metadata": {
        "id": "xwMpRpPFk6iB",
        "colab_type": "code",
        "colab": {
          "base_uri": "https://localhost:8080/",
          "height": 104
        },
        "outputId": "cd4b98b8-9111-452d-a1cc-db70ac97bca7"
      },
      "source": [
        "from imblearn.over_sampling import SMOTE"
      ],
      "execution_count": 34,
      "outputs": [
        {
          "output_type": "stream",
          "text": [
            "/usr/local/lib/python3.6/dist-packages/sklearn/externals/six.py:31: FutureWarning: The module is deprecated in version 0.21 and will be removed in version 0.23 since we've dropped support for Python 2.7. Please rely on the official version of six (https://pypi.org/project/six/).\n",
            "  \"(https://pypi.org/project/six/).\", FutureWarning)\n",
            "/usr/local/lib/python3.6/dist-packages/sklearn/utils/deprecation.py:144: FutureWarning: The sklearn.neighbors.base module is  deprecated in version 0.22 and will be removed in version 0.24. The corresponding classes / functions should instead be imported from sklearn.neighbors. Anything that cannot be imported from sklearn.neighbors is now part of the private API.\n",
            "  warnings.warn(message, FutureWarning)\n"
          ],
          "name": "stderr"
        }
      ]
    },
    {
      "cell_type": "code",
      "metadata": {
        "id": "tHmmT4GRlTUr",
        "colab_type": "code",
        "outputId": "e90e1a1e-9c9c-4aa6-9885-0ebb64e78b51",
        "colab": {
          "base_uri": "https://localhost:8080/",
          "height": 70
        }
      },
      "source": [
        "sm = SMOTE()\n",
        "x_train1, y_train1 = sm.fit_sample(x_train, y_train)"
      ],
      "execution_count": 36,
      "outputs": [
        {
          "output_type": "stream",
          "text": [
            "/usr/local/lib/python3.6/dist-packages/sklearn/utils/deprecation.py:87: FutureWarning: Function safe_indexing is deprecated; safe_indexing is deprecated in version 0.22 and will be removed in version 0.24.\n",
            "  warnings.warn(msg, category=FutureWarning)\n"
          ],
          "name": "stderr"
        }
      ]
    },
    {
      "cell_type": "code",
      "metadata": {
        "id": "IMURk-zIl8ro",
        "colab_type": "code",
        "colab": {}
      },
      "source": [
        "unique_elements, counts_elements = np.unique(y_train1, return_counts=True)"
      ],
      "execution_count": 0,
      "outputs": []
    },
    {
      "cell_type": "code",
      "metadata": {
        "id": "u5nZjKiumcjc",
        "colab_type": "code",
        "colab": {
          "base_uri": "https://localhost:8080/",
          "height": 34
        },
        "outputId": "b83cbe2a-2b1e-41cc-952b-a32c1d4bc8ee"
      },
      "source": [
        "unique_elements"
      ],
      "execution_count": 38,
      "outputs": [
        {
          "output_type": "execute_result",
          "data": {
            "text/plain": [
              "array([0, 1, 2, 3, 4])"
            ]
          },
          "metadata": {
            "tags": []
          },
          "execution_count": 38
        }
      ]
    },
    {
      "cell_type": "code",
      "metadata": {
        "id": "HIomB8KQmeLP",
        "colab_type": "code",
        "outputId": "b3100f1e-8058-435d-f588-c879b2349473",
        "colab": {
          "base_uri": "https://localhost:8080/",
          "height": 34
        }
      },
      "source": [
        "counts_elements"
      ],
      "execution_count": 39,
      "outputs": [
        {
          "output_type": "execute_result",
          "data": {
            "text/plain": [
              "array([1753, 1753, 1753, 1753, 1753])"
            ]
          },
          "metadata": {
            "tags": []
          },
          "execution_count": 39
        }
      ]
    },
    {
      "cell_type": "code",
      "metadata": {
        "id": "9MAF_fPLHDLT",
        "colab_type": "code",
        "colab": {}
      },
      "source": [
        "from sklearn.ensemble import RandomForestClassifier"
      ],
      "execution_count": 0,
      "outputs": []
    },
    {
      "cell_type": "code",
      "metadata": {
        "id": "-x9spSLWm9zz",
        "colab_type": "code",
        "outputId": "87a570a4-16fd-4e22-b442-f137985d9322",
        "colab": {
          "base_uri": "https://localhost:8080/",
          "height": 151
        }
      },
      "source": [
        "rf = RandomForestClassifier()\n",
        "rf.fit(x_train1,y_train1)"
      ],
      "execution_count": 41,
      "outputs": [
        {
          "output_type": "execute_result",
          "data": {
            "text/plain": [
              "RandomForestClassifier(bootstrap=True, ccp_alpha=0.0, class_weight=None,\n",
              "                       criterion='gini', max_depth=None, max_features='auto',\n",
              "                       max_leaf_nodes=None, max_samples=None,\n",
              "                       min_impurity_decrease=0.0, min_impurity_split=None,\n",
              "                       min_samples_leaf=1, min_samples_split=2,\n",
              "                       min_weight_fraction_leaf=0.0, n_estimators=100,\n",
              "                       n_jobs=None, oob_score=False, random_state=None,\n",
              "                       verbose=0, warm_start=False)"
            ]
          },
          "metadata": {
            "tags": []
          },
          "execution_count": 41
        }
      ]
    },
    {
      "cell_type": "code",
      "metadata": {
        "id": "toZ9tPRynMNu",
        "colab_type": "code",
        "colab": {}
      },
      "source": [
        "y_pred_smote = rf.predict(x_valid)"
      ],
      "execution_count": 0,
      "outputs": []
    },
    {
      "cell_type": "code",
      "metadata": {
        "id": "SVvkFKoT8yDD",
        "colab_type": "code",
        "colab": {}
      },
      "source": [
        "from sklearn.metrics import classification_report, confusion_matrix, accuracy_score, f1_score\n",
        "\n",
        "def evaluate_model(y_true, y_pred):\n",
        "    print('confusion matrix')\n",
        "    cm = confusion_matrix(y_true, y_pred)\n",
        "    cm_df = pd.DataFrame(cm.T)\n",
        "    cm_df.index.name = 'Predicted'\n",
        "    cm_df.columns.name = 'True'\n",
        "    print(cm_df)\n",
        "    print('classification report')\n",
        "    print(classification_report(y_true,y_pred))\n",
        "    print('accuracy score')\n",
        "    print(accuracy_score(y_true, y_pred))"
      ],
      "execution_count": 0,
      "outputs": []
    },
    {
      "cell_type": "code",
      "metadata": {
        "id": "u_wWtZkr9FpS",
        "colab_type": "code",
        "outputId": "7e6e0728-c376-400d-d532-8ab1a230f617",
        "colab": {
          "base_uri": "https://localhost:8080/",
          "height": 403
        }
      },
      "source": [
        "evaluate_model(y_valid,y_pred_smote)"
      ],
      "execution_count": 44,
      "outputs": [
        {
          "output_type": "stream",
          "text": [
            "confusion matrix\n",
            "True        0    1   2   3  4\n",
            "Predicted                    \n",
            "0          76    9   2   5  0\n",
            "1          28  291  55  17  4\n",
            "2           0   10  47   2  1\n",
            "3           0    0   7   7  0\n",
            "4           0    0   0   0  1\n",
            "classification report\n",
            "              precision    recall  f1-score   support\n",
            "\n",
            "           0       0.83      0.73      0.78       104\n",
            "           1       0.74      0.94      0.83       310\n",
            "           2       0.78      0.42      0.55       111\n",
            "           3       0.50      0.23      0.31        31\n",
            "           4       1.00      0.17      0.29         6\n",
            "\n",
            "    accuracy                           0.75       562\n",
            "   macro avg       0.77      0.50      0.55       562\n",
            "weighted avg       0.75      0.75      0.73       562\n",
            "\n",
            "accuracy score\n",
            "0.7508896797153025\n"
          ],
          "name": "stdout"
        }
      ]
    },
    {
      "cell_type": "code",
      "metadata": {
        "id": "yPBSCQ4s9qUO",
        "colab_type": "code",
        "outputId": "bad0c4e5-63c4-40a9-d820-fa10e927d760",
        "colab": {
          "base_uri": "https://localhost:8080/",
          "height": 101
        }
      },
      "source": [
        "label_encode"
      ],
      "execution_count": 45,
      "outputs": [
        {
          "output_type": "execute_result",
          "data": {
            "text/plain": [
              "{'DV_OPINION': 0,\n",
              " 'DV_OPINION_DENIER': 4,\n",
              " 'DV_STORY': 3,\n",
              " 'NON_D_VIOLENCE_ABOUT': 1,\n",
              " 'NO_VIOLENCE': 2}"
            ]
          },
          "metadata": {
            "tags": []
          },
          "execution_count": 45
        }
      ]
    },
    {
      "cell_type": "code",
      "metadata": {
        "id": "AXmBwu_Zcu2R",
        "colab_type": "code",
        "colab": {}
      },
      "source": [
        "from sklearn.metrics import matthews_corrcoef\n",
        "#matthews_corrcoef(y_valid,y_pred_smote)"
      ],
      "execution_count": 0,
      "outputs": []
    },
    {
      "cell_type": "code",
      "metadata": {
        "id": "gWxt6D90kAse",
        "colab_type": "code",
        "colab": {}
      },
      "source": [
        "from sklearn.svm import SVC"
      ],
      "execution_count": 0,
      "outputs": []
    },
    {
      "cell_type": "code",
      "metadata": {
        "id": "oDIWM_ujkC5l",
        "colab_type": "code",
        "colab": {}
      },
      "source": [
        "classifier = SVC(C = 3.5, kernel = 'linear', gamma='auto', random_state=42,class_weight=\"balanced\")"
      ],
      "execution_count": 0,
      "outputs": []
    },
    {
      "cell_type": "code",
      "metadata": {
        "id": "XEYCxETvkIXt",
        "colab_type": "code",
        "outputId": "df00e62a-c057-40b4-8809-19f42b156c0d",
        "colab": {
          "base_uri": "https://localhost:8080/",
          "height": 84
        }
      },
      "source": [
        "classifier.fit(x_train1,y_train1)"
      ],
      "execution_count": 49,
      "outputs": [
        {
          "output_type": "execute_result",
          "data": {
            "text/plain": [
              "SVC(C=3.5, break_ties=False, cache_size=200, class_weight='balanced', coef0=0.0,\n",
              "    decision_function_shape='ovr', degree=3, gamma='auto', kernel='linear',\n",
              "    max_iter=-1, probability=False, random_state=42, shrinking=True, tol=0.001,\n",
              "    verbose=False)"
            ]
          },
          "metadata": {
            "tags": []
          },
          "execution_count": 49
        }
      ]
    },
    {
      "cell_type": "code",
      "metadata": {
        "id": "5QZSmy4rkK7-",
        "colab_type": "code",
        "colab": {}
      },
      "source": [
        "y_pred_smote_svc = classifier.predict(x_valid)"
      ],
      "execution_count": 0,
      "outputs": []
    },
    {
      "cell_type": "code",
      "metadata": {
        "id": "Erec9TdjkVd7",
        "colab_type": "code",
        "outputId": "808b06bd-1ca1-4d11-a928-cf16ef009dc4",
        "colab": {
          "base_uri": "https://localhost:8080/",
          "height": 403
        }
      },
      "source": [
        "evaluate_model(y_valid,y_pred_smote_svc)"
      ],
      "execution_count": 51,
      "outputs": [
        {
          "output_type": "stream",
          "text": [
            "confusion matrix\n",
            "True        0    1   2   3  4\n",
            "Predicted                    \n",
            "0          85   12   4   9  0\n",
            "1          17  280  32   5  3\n",
            "2           1   14  65   1  1\n",
            "3           1    4  10  16  0\n",
            "4           0    0   0   0  2\n",
            "classification report\n",
            "              precision    recall  f1-score   support\n",
            "\n",
            "           0       0.77      0.82      0.79       104\n",
            "           1       0.83      0.90      0.87       310\n",
            "           2       0.79      0.59      0.67       111\n",
            "           3       0.52      0.52      0.52        31\n",
            "           4       1.00      0.33      0.50         6\n",
            "\n",
            "    accuracy                           0.80       562\n",
            "   macro avg       0.78      0.63      0.67       562\n",
            "weighted avg       0.80      0.80      0.79       562\n",
            "\n",
            "accuracy score\n",
            "0.797153024911032\n"
          ],
          "name": "stdout"
        }
      ]
    },
    {
      "cell_type": "code",
      "metadata": {
        "id": "d6Zyk4CVkZAW",
        "colab_type": "code",
        "outputId": "5df15ae6-f093-49af-ad6e-126ff918c0e4",
        "colab": {
          "base_uri": "https://localhost:8080/",
          "height": 101
        }
      },
      "source": [
        "label_encode"
      ],
      "execution_count": 52,
      "outputs": [
        {
          "output_type": "execute_result",
          "data": {
            "text/plain": [
              "{'DV_OPINION': 0,\n",
              " 'DV_OPINION_DENIER': 4,\n",
              " 'DV_STORY': 3,\n",
              " 'NON_D_VIOLENCE_ABOUT': 1,\n",
              " 'NO_VIOLENCE': 2}"
            ]
          },
          "metadata": {
            "tags": []
          },
          "execution_count": 52
        }
      ]
    },
    {
      "cell_type": "code",
      "metadata": {
        "id": "cU7vAGpfoYu2",
        "colab_type": "code",
        "colab": {}
      },
      "source": [
        "from sklearn.ensemble import ExtraTreesClassifier \n",
        "from sklearn.linear_model import LogisticRegression\n",
        "clf1 = SVC(C = 3.5, kernel = 'linear', gamma='auto', random_state=42,class_weight=\"balanced\")\n",
        "clf2 = RandomForestClassifier(random_state=88)\n",
        "clf3 = SVC(C = 3.5, kernel = 'rbf', gamma='auto', random_state=42,class_weight=\"balanced\")\n",
        "lr = LogisticRegression()\n",
        "#sclf = StackingClassifier(estimators=[clf1, clf2, clf3], final_estimator=lr)\n"
      ],
      "execution_count": 0,
      "outputs": []
    },
    {
      "cell_type": "code",
      "metadata": {
        "id": "g1ZAoMHPrPjR",
        "colab_type": "code",
        "outputId": "18bdfab6-bb47-4dd3-f749-63c6f28f7fa1",
        "colab": {
          "base_uri": "https://localhost:8080/",
          "height": 255
        }
      },
      "source": [
        "!pip install vecstack\n",
        "from vecstack import stacking "
      ],
      "execution_count": 41,
      "outputs": [
        {
          "output_type": "stream",
          "text": [
            "Collecting vecstack\n",
            "  Downloading https://files.pythonhosted.org/packages/d0/a1/b9a1e9e9e5a12078da1ab9788c7885e4c745358f7e57d5f94d9db6a4e898/vecstack-0.4.0.tar.gz\n",
            "Requirement already satisfied: numpy in /usr/local/lib/python3.6/dist-packages (from vecstack) (1.18.5)\n",
            "Requirement already satisfied: scipy in /usr/local/lib/python3.6/dist-packages (from vecstack) (1.4.1)\n",
            "Requirement already satisfied: scikit-learn>=0.18 in /usr/local/lib/python3.6/dist-packages (from vecstack) (0.22.2.post1)\n",
            "Requirement already satisfied: joblib>=0.11 in /usr/local/lib/python3.6/dist-packages (from scikit-learn>=0.18->vecstack) (0.15.1)\n",
            "Building wheels for collected packages: vecstack\n",
            "  Building wheel for vecstack (setup.py) ... \u001b[?25l\u001b[?25hdone\n",
            "  Created wheel for vecstack: filename=vecstack-0.4.0-cp36-none-any.whl size=19877 sha256=2cd1ae8f902f06093716b408c5cc3cf98d276b7891cef78a6a2e526ee2eab628\n",
            "  Stored in directory: /root/.cache/pip/wheels/5f/bb/4e/f6488433d53bc0684673d6845e5bf11a25240577c8151c140e\n",
            "Successfully built vecstack\n",
            "Installing collected packages: vecstack\n",
            "Successfully installed vecstack-0.4.0\n"
          ],
          "name": "stdout"
        }
      ]
    },
    {
      "cell_type": "code",
      "metadata": {
        "id": "S0uxtTrzrrJY",
        "colab_type": "code",
        "outputId": "7d1d0e01-3dcb-498c-9496-45c86d606c62",
        "colab": {
          "base_uri": "https://localhost:8080/",
          "height": 571
        }
      },
      "source": [
        "models = [clf1, clf2, lr]\n",
        "\n",
        "# Compute stacking features\n",
        "S_train, S_test = stacking(models, x_train1, y_train1, x_valid,\n",
        "    regression = False, n_folds = 4,\n",
        "    shuffle = True, random_state = 88, verbose = 2)"
      ],
      "execution_count": 56,
      "outputs": [
        {
          "output_type": "stream",
          "text": [
            "task:         [classification]\n",
            "n_classes:    [5]\n",
            "metric:       [accuracy_score]\n",
            "mode:         [oof_pred_bag]\n",
            "n_models:     [3]\n",
            "\n",
            "model  0:     [SVC]\n",
            "    fold  0:  [0.97627737]\n",
            "    fold  1:  [0.97124601]\n",
            "    fold  2:  [0.97489731]\n",
            "    fold  3:  [0.96485623]\n",
            "    ----\n",
            "    MEAN:     [0.97181923] + [0.00442045]\n",
            "    FULL:     [0.97181974]\n",
            "\n",
            "model  1:     [RandomForestClassifier]\n",
            "    fold  0:  [0.95483577]\n",
            "    fold  1:  [0.94112277]\n",
            "    fold  2:  [0.95253309]\n",
            "    fold  3:  [0.94842538]\n",
            "    ----\n",
            "    MEAN:     [0.94922925] + [0.00521319]\n",
            "    FULL:     [0.94922989]\n",
            "\n",
            "model  2:     [LogisticRegression]\n",
            "    fold  0:  [0.96167883]\n",
            "    fold  1:  [0.94477408]\n",
            "    fold  2:  [0.95207668]\n",
            "    fold  3:  [0.94751255]\n",
            "    ----\n",
            "    MEAN:     [0.95151053] + [0.00642414]\n",
            "    FULL:     [0.95151169]\n",
            "\n"
          ],
          "name": "stdout"
        }
      ]
    },
    {
      "cell_type": "code",
      "metadata": {
        "id": "-xUZw-cyvMk8",
        "colab_type": "code",
        "outputId": "29764a83-e44f-49ef-a3ac-d0c38fc1b7b9",
        "colab": {
          "base_uri": "https://localhost:8080/",
          "height": 134
        }
      },
      "source": [
        "S_train"
      ],
      "execution_count": 57,
      "outputs": [
        {
          "output_type": "execute_result",
          "data": {
            "text/plain": [
              "array([[0, 0, 0],\n",
              "       [1, 1, 2],\n",
              "       [0, 0, 0],\n",
              "       ...,\n",
              "       [4, 4, 4],\n",
              "       [4, 4, 4],\n",
              "       [4, 4, 4]])"
            ]
          },
          "metadata": {
            "tags": []
          },
          "execution_count": 57
        }
      ]
    },
    {
      "cell_type": "code",
      "metadata": {
        "id": "bL7l_Fu6I0Oc",
        "colab_type": "code",
        "colab": {}
      },
      "source": [
        ""
      ],
      "execution_count": 0,
      "outputs": []
    },
    {
      "cell_type": "code",
      "metadata": {
        "id": "b8_LjCdbI0HC",
        "colab_type": "code",
        "colab": {}
      },
      "source": [
        "import xgboost"
      ],
      "execution_count": 0,
      "outputs": []
    },
    {
      "cell_type": "code",
      "metadata": {
        "id": "kmStbFtZrvRl",
        "colab_type": "code",
        "colab": {}
      },
      "source": [
        "\n",
        "xgb = xgboost.XGBClassifier()\n",
        "model = xgb\n",
        "\n",
        "# Fit 2-nd level model\n",
        "model = model.fit(S_train, y_train1)\n",
        "\n",
        "# Predict\n",
        "y_test_pred = model.predict(S_test)"
      ],
      "execution_count": 0,
      "outputs": []
    },
    {
      "cell_type": "code",
      "metadata": {
        "id": "JnnVwCmPuwGK",
        "colab_type": "code",
        "outputId": "690023ab-ea95-4e51-de14-3ef92f60600d",
        "colab": {
          "base_uri": "https://localhost:8080/",
          "height": 403
        }
      },
      "source": [
        "evaluate_model(y_valid,y_test_pred)"
      ],
      "execution_count": 60,
      "outputs": [
        {
          "output_type": "stream",
          "text": [
            "confusion matrix\n",
            "True        0    1   2   3  4\n",
            "Predicted                    \n",
            "0          89   16   5   7  0\n",
            "1          13  273  31   6  3\n",
            "2           1   18  65   0  1\n",
            "3           1    3  10  18  0\n",
            "4           0    0   0   0  2\n",
            "classification report\n",
            "              precision    recall  f1-score   support\n",
            "\n",
            "           0       0.76      0.86      0.81       104\n",
            "           1       0.84      0.88      0.86       310\n",
            "           2       0.76      0.59      0.66       111\n",
            "           3       0.56      0.58      0.57        31\n",
            "           4       1.00      0.33      0.50         6\n",
            "\n",
            "    accuracy                           0.80       562\n",
            "   macro avg       0.79      0.65      0.68       562\n",
            "weighted avg       0.80      0.80      0.79       562\n",
            "\n",
            "accuracy score\n",
            "0.7953736654804271\n"
          ],
          "name": "stdout"
        }
      ]
    },
    {
      "cell_type": "code",
      "metadata": {
        "id": "zGktIKWWuzlK",
        "colab_type": "code",
        "outputId": "39046893-5300-47dd-c4eb-cb55a916ce1c",
        "colab": {
          "base_uri": "https://localhost:8080/",
          "height": 101
        }
      },
      "source": [
        "label_encode"
      ],
      "execution_count": 61,
      "outputs": [
        {
          "output_type": "execute_result",
          "data": {
            "text/plain": [
              "{'DV_OPINION': 0,\n",
              " 'DV_OPINION_DENIER': 4,\n",
              " 'DV_STORY': 3,\n",
              " 'NON_D_VIOLENCE_ABOUT': 1,\n",
              " 'NO_VIOLENCE': 2}"
            ]
          },
          "metadata": {
            "tags": []
          },
          "execution_count": 61
        }
      ]
    },
    {
      "cell_type": "code",
      "metadata": {
        "id": "uLqRNCTI0b4v",
        "colab_type": "code",
        "outputId": "571c36e1-dda6-4dd5-d608-c28302b21d0d",
        "colab": {
          "base_uri": "https://localhost:8080/",
          "height": 222
        }
      },
      "source": [
        "!pip install py-thesaurus"
      ],
      "execution_count": 46,
      "outputs": [
        {
          "output_type": "stream",
          "text": [
            "Collecting py-thesaurus\n",
            "  Downloading https://files.pythonhosted.org/packages/11/82/56dab6aa24852367b43913e91990c562db49d9b05fc373531fe268fe3525/py_thesaurus-1.0.5.tar.gz\n",
            "Requirement already satisfied: lxml in /usr/local/lib/python3.6/dist-packages (from py-thesaurus) (4.2.6)\n",
            "Requirement already satisfied: beautifulsoup4 in /usr/local/lib/python3.6/dist-packages (from py-thesaurus) (4.6.3)\n",
            "Building wheels for collected packages: py-thesaurus\n",
            "  Building wheel for py-thesaurus (setup.py) ... \u001b[?25l\u001b[?25hdone\n",
            "  Created wheel for py-thesaurus: filename=py_thesaurus-1.0.5-cp36-none-any.whl size=6269 sha256=8444396c973276612d07ec06266f5035949e5abf1a78d66136caac46e1bcba0d\n",
            "  Stored in directory: /root/.cache/pip/wheels/a6/c1/5a/124ea0abccb2ed21abcea99f376cd37d4dc99c8aa515a471f1\n",
            "Successfully built py-thesaurus\n",
            "Installing collected packages: py-thesaurus\n",
            "Successfully installed py-thesaurus-1.0.5\n"
          ],
          "name": "stdout"
        }
      ]
    },
    {
      "cell_type": "code",
      "metadata": {
        "id": "axrelhhm4yS-",
        "colab_type": "code",
        "colab": {}
      },
      "source": [
        "from py_thesaurus import Thesaurus \n",
        "import nltk \n",
        "from nltk.corpus import wordnet "
      ],
      "execution_count": 0,
      "outputs": []
    },
    {
      "cell_type": "code",
      "metadata": {
        "id": "YTmvSQxC5BM3",
        "colab_type": "code",
        "outputId": "bcd20529-bf75-4acd-bcb3-a474afe6473b",
        "colab": {
          "base_uri": "https://localhost:8080/",
          "height": 121
        }
      },
      "source": [
        "!pip install nlpaug"
      ],
      "execution_count": 44,
      "outputs": [
        {
          "output_type": "stream",
          "text": [
            "Collecting nlpaug\n",
            "\u001b[?25l  Downloading https://files.pythonhosted.org/packages/1f/6c/ca85b6bd29926561229e8c9f677c36c65db9ef1947bfc175e6641bc82ace/nlpaug-0.0.14-py3-none-any.whl (101kB)\n",
            "\r\u001b[K     |███▎                            | 10kB 22.6MB/s eta 0:00:01\r\u001b[K     |██████▌                         | 20kB 28.7MB/s eta 0:00:01\r\u001b[K     |█████████▊                      | 30kB 33.8MB/s eta 0:00:01\r\u001b[K     |█████████████                   | 40kB 28.0MB/s eta 0:00:01\r\u001b[K     |████████████████▏               | 51kB 13.7MB/s eta 0:00:01\r\u001b[K     |███████████████████▍            | 61kB 13.3MB/s eta 0:00:01\r\u001b[K     |██████████████████████▋         | 71kB 12.4MB/s eta 0:00:01\r\u001b[K     |█████████████████████████▉      | 81kB 12.3MB/s eta 0:00:01\r\u001b[K     |█████████████████████████████   | 92kB 12.2MB/s eta 0:00:01\r\u001b[K     |████████████████████████████████| 102kB 7.2MB/s \n",
            "\u001b[?25hInstalling collected packages: nlpaug\n",
            "Successfully installed nlpaug-0.0.14\n"
          ],
          "name": "stdout"
        }
      ]
    },
    {
      "cell_type": "code",
      "metadata": {
        "id": "MrgY5Fic59lo",
        "colab_type": "code",
        "colab": {}
      },
      "source": [
        "import nlpaug.augmenter.char as nac\n",
        "import nlpaug.augmenter.word as naw\n",
        "import nlpaug.augmenter.sentence as nas\n",
        "import nlpaug.flow as nafc\n",
        "\n",
        "from nlpaug.util import Action"
      ],
      "execution_count": 0,
      "outputs": []
    },
    {
      "cell_type": "code",
      "metadata": {
        "id": "2wxospjj6YiA",
        "colab_type": "code",
        "outputId": "b02c2643-ad47-4acd-91c3-bc954cd9f992",
        "colab": {
          "base_uri": "https://localhost:8080/",
          "height": 54
        }
      },
      "source": [
        "df_final['text'][0]"
      ],
      "execution_count": 49,
      "outputs": [
        {
          "output_type": "execute_result",
          "data": {
            "text/plain": [
              "'the fact their might be so many marital rape and other sexual assault within home take place right now with a greater rate and no one wont be talk about it bcz corona'"
            ]
          },
          "metadata": {
            "tags": []
          },
          "execution_count": 49
        }
      ]
    },
    {
      "cell_type": "code",
      "metadata": {
        "id": "V1H4T8F28AHr",
        "colab_type": "code",
        "outputId": "bfccaba2-3b98-4201-ca8d-b54b992340be",
        "colab": {
          "base_uri": "https://localhost:8080/",
          "height": 84
        }
      },
      "source": [
        "nltk.download('averaged_perceptron_tagger')"
      ],
      "execution_count": 50,
      "outputs": [
        {
          "output_type": "stream",
          "text": [
            "[nltk_data] Downloading package averaged_perceptron_tagger to\n",
            "[nltk_data]     /root/nltk_data...\n",
            "[nltk_data]   Unzipping taggers/averaged_perceptron_tagger.zip.\n"
          ],
          "name": "stdout"
        },
        {
          "output_type": "execute_result",
          "data": {
            "text/plain": [
              "True"
            ]
          },
          "metadata": {
            "tags": []
          },
          "execution_count": 50
        }
      ]
    },
    {
      "cell_type": "code",
      "metadata": {
        "id": "JP9eWrEx6OH3",
        "colab_type": "code",
        "outputId": "a510bc9a-5915-426a-f14a-703e3ec1124e",
        "colab": {
          "base_uri": "https://localhost:8080/",
          "height": 104
        }
      },
      "source": [
        "aug = naw.SynonymAug(aug_src='wordnet')\n",
        "augmented_text = aug.augment(df_final['text'][0])\n",
        "print(\"Original:\")\n",
        "print(df_final['text'][0])\n",
        "print(\"Augmented Text:\")\n",
        "print(augmented_text)"
      ],
      "execution_count": 51,
      "outputs": [
        {
          "output_type": "stream",
          "text": [
            "Original:\n",
            "the fact their might be so many marital rape and other sexual assault within home take place right now with a greater rate and no one wont be talk about it bcz corona\n",
            "Augmented Text:\n",
            "the fact their might exist thus many marital rape and former sexual rape within home look at place right now with a greater rate and no one wont be spill the beans about information technology bcz corona\n"
          ],
          "name": "stdout"
        }
      ]
    },
    {
      "cell_type": "code",
      "metadata": {
        "id": "PssxFYBKBX88",
        "colab_type": "code",
        "outputId": "a860beba-1966-480e-9e6e-e088887e1619",
        "colab": {
          "base_uri": "https://localhost:8080/",
          "height": 34
        }
      },
      "source": [
        "df_final.shape"
      ],
      "execution_count": 52,
      "outputs": [
        {
          "output_type": "execute_result",
          "data": {
            "text/plain": [
              "(3743, 3)"
            ]
          },
          "metadata": {
            "tags": []
          },
          "execution_count": 52
        }
      ]
    },
    {
      "cell_type": "code",
      "metadata": {
        "id": "FB1g6oWzI9TK",
        "colab_type": "code",
        "colab": {
          "base_uri": "https://localhost:8080/",
          "height": 195
        },
        "outputId": "1efac82c-ee32-4c65-e903-97385fbd1a68"
      },
      "source": [
        "import time\n",
        "while 1:\n",
        "  time.sleep(300)"
      ],
      "execution_count": 53,
      "outputs": [
        {
          "output_type": "error",
          "ename": "KeyboardInterrupt",
          "evalue": "ignored",
          "traceback": [
            "\u001b[0;31m---------------------------------------------------------------------------\u001b[0m",
            "\u001b[0;31mKeyboardInterrupt\u001b[0m                         Traceback (most recent call last)",
            "\u001b[0;32m<ipython-input-53-1931cb3288a3>\u001b[0m in \u001b[0;36m<module>\u001b[0;34m()\u001b[0m\n\u001b[1;32m      1\u001b[0m \u001b[0;32mimport\u001b[0m \u001b[0mtime\u001b[0m\u001b[0;34m\u001b[0m\u001b[0;34m\u001b[0m\u001b[0m\n\u001b[1;32m      2\u001b[0m \u001b[0;32mwhile\u001b[0m \u001b[0;36m1\u001b[0m\u001b[0;34m:\u001b[0m\u001b[0;34m\u001b[0m\u001b[0;34m\u001b[0m\u001b[0m\n\u001b[0;32m----> 3\u001b[0;31m   \u001b[0mtime\u001b[0m\u001b[0;34m.\u001b[0m\u001b[0msleep\u001b[0m\u001b[0;34m(\u001b[0m\u001b[0;36m300\u001b[0m\u001b[0;34m)\u001b[0m\u001b[0;34m\u001b[0m\u001b[0;34m\u001b[0m\u001b[0m\n\u001b[0m",
            "\u001b[0;31mKeyboardInterrupt\u001b[0m: "
          ]
        }
      ]
    },
    {
      "cell_type": "code",
      "metadata": {
        "id": "1KtuFDKTLTR_",
        "colab_type": "code",
        "colab": {
          "base_uri": "https://localhost:8080/",
          "height": 34
        },
        "outputId": "12f8b824-0e3b-4256-8eba-7e5359af87b2"
      },
      "source": [
        "df_final.shape"
      ],
      "execution_count": 54,
      "outputs": [
        {
          "output_type": "execute_result",
          "data": {
            "text/plain": [
              "(3743, 3)"
            ]
          },
          "metadata": {
            "tags": []
          },
          "execution_count": 54
        }
      ]
    },
    {
      "cell_type": "code",
      "metadata": {
        "id": "kwiqgAHM36CX",
        "colab_type": "code",
        "colab": {}
      },
      "source": [
        "df_final1 = df_final.iloc[0:3744]   "
      ],
      "execution_count": 0,
      "outputs": []
    },
    {
      "cell_type": "code",
      "metadata": {
        "id": "UVziyrwF6q2V",
        "colab_type": "code",
        "colab": {}
      },
      "source": [
        "df_final_dv = df_final1[(df_final1['label'] == 3) | (df_final1['label'] ==4)]"
      ],
      "execution_count": 0,
      "outputs": []
    },
    {
      "cell_type": "code",
      "metadata": {
        "id": "1R4qsH523qX4",
        "colab_type": "code",
        "outputId": "30f211df-5be1-468c-a617-4d59e7dd90ed",
        "colab": {
          "base_uri": "https://localhost:8080/",
          "height": 106
        }
      },
      "source": [
        "df_final_dv.head(2)"
      ],
      "execution_count": 57,
      "outputs": [
        {
          "output_type": "execute_result",
          "data": {
            "text/html": [
              "<div>\n",
              "<style scoped>\n",
              "    .dataframe tbody tr th:only-of-type {\n",
              "        vertical-align: middle;\n",
              "    }\n",
              "\n",
              "    .dataframe tbody tr th {\n",
              "        vertical-align: top;\n",
              "    }\n",
              "\n",
              "    .dataframe thead th {\n",
              "        text-align: right;\n",
              "    }\n",
              "</style>\n",
              "<table border=\"1\" class=\"dataframe\">\n",
              "  <thead>\n",
              "    <tr style=\"text-align: right;\">\n",
              "      <th></th>\n",
              "      <th>text</th>\n",
              "      <th>lab_final</th>\n",
              "      <th>label</th>\n",
              "    </tr>\n",
              "  </thead>\n",
              "  <tbody>\n",
              "    <tr>\n",
              "      <th>11</th>\n",
              "      <td>cat valentinecat be so aloof because she be su...</td>\n",
              "      <td>DV_STORY</td>\n",
              "      <td>3</td>\n",
              "    </tr>\n",
              "    <tr>\n",
              "      <th>179</th>\n",
              "      <td>he have have vulgar clip i ll produce the snap...</td>\n",
              "      <td>DV_STORY</td>\n",
              "      <td>3</td>\n",
              "    </tr>\n",
              "  </tbody>\n",
              "</table>\n",
              "</div>"
            ],
            "text/plain": [
              "                                                  text lab_final  label\n",
              "11   cat valentinecat be so aloof because she be su...  DV_STORY      3\n",
              "179  he have have vulgar clip i ll produce the snap...  DV_STORY      3"
            ]
          },
          "metadata": {
            "tags": []
          },
          "execution_count": 57
        }
      ]
    },
    {
      "cell_type": "code",
      "metadata": {
        "id": "eS9cNZEK9vNR",
        "colab_type": "code",
        "colab": {}
      },
      "source": [
        "def augmentation(text):\n",
        "  aug = naw.SynonymAug(aug_src='wordnet')\n",
        "  augmented_text = aug.augment(text)\n",
        "  return augmented_text"
      ],
      "execution_count": 0,
      "outputs": []
    },
    {
      "cell_type": "code",
      "metadata": {
        "id": "VY6kuEBW-RRK",
        "colab_type": "code",
        "outputId": "b2b01705-2ada-4a75-d101-f636b13c0b53",
        "colab": {
          "base_uri": "https://localhost:8080/",
          "height": 118
        }
      },
      "source": [
        "df_final_dv['text_syn'] = df_final_dv['text'].apply(augmentation)"
      ],
      "execution_count": 59,
      "outputs": [
        {
          "output_type": "stream",
          "text": [
            "/usr/local/lib/python3.6/dist-packages/ipykernel_launcher.py:1: SettingWithCopyWarning: \n",
            "A value is trying to be set on a copy of a slice from a DataFrame.\n",
            "Try using .loc[row_indexer,col_indexer] = value instead\n",
            "\n",
            "See the caveats in the documentation: https://pandas.pydata.org/pandas-docs/stable/user_guide/indexing.html#returning-a-view-versus-a-copy\n",
            "  \"\"\"Entry point for launching an IPython kernel.\n"
          ],
          "name": "stderr"
        }
      ]
    },
    {
      "cell_type": "code",
      "metadata": {
        "id": "bjX6F9IW-bRt",
        "colab_type": "code",
        "outputId": "9f34581a-43db-47b1-b8af-cbb096d0acf3",
        "colab": {
          "base_uri": "https://localhost:8080/",
          "height": 101
        }
      },
      "source": [
        "df_final_dv_syn = df_final_dv[['text_syn','label']]\n",
        "df_final_dv_syn.rename(columns={'text_syn':'text'},inplace=True)"
      ],
      "execution_count": 60,
      "outputs": [
        {
          "output_type": "stream",
          "text": [
            "/usr/local/lib/python3.6/dist-packages/pandas/core/frame.py:4133: SettingWithCopyWarning: \n",
            "A value is trying to be set on a copy of a slice from a DataFrame\n",
            "\n",
            "See the caveats in the documentation: https://pandas.pydata.org/pandas-docs/stable/user_guide/indexing.html#returning-a-view-versus-a-copy\n",
            "  errors=errors,\n"
          ],
          "name": "stderr"
        }
      ]
    },
    {
      "cell_type": "code",
      "metadata": {
        "id": "U-RZOQCsAYU1",
        "colab_type": "code",
        "outputId": "574c641a-04e3-4884-ece3-43fe7c1e0265",
        "colab": {
          "base_uri": "https://localhost:8080/",
          "height": 34
        }
      },
      "source": [
        "df_final1 = pd.concat([df_final1,df_final_dv_syn],axis=0)\n",
        "df_final1.reset_index(inplace=True)\n",
        "df_final1.drop(columns=\"index\",axis=1,inplace=True)\n",
        "print(df_final1.shape)\n",
        "df_final = pd.concat([df_final1,df_final.iloc[3243:]],axis=0)\n",
        "df_final.reset_index(inplace=True)\n",
        "df_final.drop(columns=\"index\",axis=1,inplace=True)"
      ],
      "execution_count": 0,
      "outputs": [
        {
          "output_type": "stream",
          "text": [
            "(3410, 3)\n"
          ],
          "name": "stdout"
        }
      ]
    },
    {
      "cell_type": "code",
      "metadata": {
        "id": "L-qWLIc6-dzu",
        "colab_type": "code",
        "colab": {}
      },
      "source": [
        "df_final = pd.concat([df_final,df_final_dv_syn],axis=0)"
      ],
      "execution_count": 0,
      "outputs": []
    },
    {
      "cell_type": "code",
      "metadata": {
        "id": "loFMskFlDZOy",
        "colab_type": "code",
        "colab": {
          "base_uri": "https://localhost:8080/",
          "height": 70
        },
        "outputId": "6a571fb3-3aba-4073-8e9f-60795b6302c0"
      },
      "source": [
        "inference_data = pd.read_csv(\"inference_data.csv\")"
      ],
      "execution_count": 121,
      "outputs": [
        {
          "output_type": "stream",
          "text": [
            "/usr/local/lib/python3.6/dist-packages/IPython/core/interactiveshell.py:2718: DtypeWarning: Columns (14) have mixed types.Specify dtype option on import or set low_memory=False.\n",
            "  interactivity=interactivity, compiler=compiler, result=result)\n"
          ],
          "name": "stderr"
        }
      ]
    },
    {
      "cell_type": "code",
      "metadata": {
        "id": "m49Bl7V3Dd20",
        "colab_type": "code",
        "colab": {
          "base_uri": "https://localhost:8080/",
          "height": 278
        },
        "outputId": "7e61d10d-7181-480c-e966-31f1c8f643f0"
      },
      "source": [
        "inference_data.head(2)"
      ],
      "execution_count": 63,
      "outputs": [
        {
          "output_type": "execute_result",
          "data": {
            "text/html": [
              "<div>\n",
              "<style scoped>\n",
              "    .dataframe tbody tr th:only-of-type {\n",
              "        vertical-align: middle;\n",
              "    }\n",
              "\n",
              "    .dataframe tbody tr th {\n",
              "        vertical-align: top;\n",
              "    }\n",
              "\n",
              "    .dataframe thead th {\n",
              "        text-align: right;\n",
              "    }\n",
              "</style>\n",
              "<table border=\"1\" class=\"dataframe\">\n",
              "  <thead>\n",
              "    <tr style=\"text-align: right;\">\n",
              "      <th></th>\n",
              "      <th>date</th>\n",
              "      <th>favorites</th>\n",
              "      <th>formatted_date</th>\n",
              "      <th>hashtags</th>\n",
              "      <th>mentions</th>\n",
              "      <th>permalink</th>\n",
              "      <th>replies</th>\n",
              "      <th>retweets</th>\n",
              "      <th>text</th>\n",
              "      <th>to</th>\n",
              "      <th>tweet_id</th>\n",
              "      <th>tweet_location</th>\n",
              "      <th>urls</th>\n",
              "      <th>user_id</th>\n",
              "      <th>user_location</th>\n",
              "      <th>username</th>\n",
              "    </tr>\n",
              "  </thead>\n",
              "  <tbody>\n",
              "    <tr>\n",
              "      <th>0</th>\n",
              "      <td>2020-01-01 00:00:24+00:00</td>\n",
              "      <td>5</td>\n",
              "      <td>Wed Jan 01 00:00:24 +0000 2020</td>\n",
              "      <td>NaN</td>\n",
              "      <td>NaN</td>\n",
              "      <td>https://twitter.com/Marielmallarii/status/1212...</td>\n",
              "      <td>0</td>\n",
              "      <td>0</td>\n",
              "      <td>2020 please dont let me hurt again pic.twitter...</td>\n",
              "      <td>NaN</td>\n",
              "      <td>1212161612913639424</td>\n",
              "      <td>NaN</td>\n",
              "      <td>NaN</td>\n",
              "      <td>1190441837489639424</td>\n",
              "      <td>i'm lost</td>\n",
              "      <td>Marielmallarii</td>\n",
              "    </tr>\n",
              "    <tr>\n",
              "      <th>1</th>\n",
              "      <td>2020-01-01 00:04:09+00:00</td>\n",
              "      <td>25</td>\n",
              "      <td>Wed Jan 01 00:04:09 +0000 2020</td>\n",
              "      <td>#SudhirLostThePoll</td>\n",
              "      <td>@sudhirchaudhary</td>\n",
              "      <td>https://twitter.com/Akashtv1Soni/status/121216...</td>\n",
              "      <td>16</td>\n",
              "      <td>12</td>\n",
              "      <td>His detractors jumped the gun. The result of @...</td>\n",
              "      <td>NaN</td>\n",
              "      <td>1212162559438213125</td>\n",
              "      <td>NaN</td>\n",
              "      <td>NaN</td>\n",
              "      <td>932231099060690945</td>\n",
              "      <td>NaN</td>\n",
              "      <td>Akashtv1Soni</td>\n",
              "    </tr>\n",
              "  </tbody>\n",
              "</table>\n",
              "</div>"
            ],
            "text/plain": [
              "                        date  favorites  ... user_location        username\n",
              "0  2020-01-01 00:00:24+00:00          5  ...     i'm lost   Marielmallarii\n",
              "1  2020-01-01 00:04:09+00:00         25  ...           NaN    Akashtv1Soni\n",
              "\n",
              "[2 rows x 16 columns]"
            ]
          },
          "metadata": {
            "tags": []
          },
          "execution_count": 63
        }
      ]
    },
    {
      "cell_type": "code",
      "metadata": {
        "id": "hR1DgZF2DvEw",
        "colab_type": "code",
        "colab": {}
      },
      "source": [
        "inference_data = inference_data[['text']]"
      ],
      "execution_count": 0,
      "outputs": []
    },
    {
      "cell_type": "code",
      "metadata": {
        "id": "XgqAtEbSECyT",
        "colab_type": "code",
        "colab": {}
      },
      "source": [
        "df_final1 = pd.concat([df_final,inference_data],axis=0)"
      ],
      "execution_count": 0,
      "outputs": []
    },
    {
      "cell_type": "code",
      "metadata": {
        "id": "-Qur7XEoEK0f",
        "colab_type": "code",
        "colab": {
          "base_uri": "https://localhost:8080/",
          "height": 336
        },
        "outputId": "daa77bbd-e69f-4a90-a3a4-3594bf5fa4fb"
      },
      "source": [
        "df_final1.isnull().sum()"
      ],
      "execution_count": 126,
      "outputs": [
        {
          "output_type": "execute_result",
          "data": {
            "text/plain": [
              "text                   6\n",
              "lab_final         264923\n",
              "label             264680\n",
              "date                3986\n",
              "favorites           3986\n",
              "formatted_date      3986\n",
              "hashtags          215980\n",
              "mentions          234252\n",
              "permalink           3986\n",
              "replies             3986\n",
              "retweets            3986\n",
              "to                160552\n",
              "tweet_id            3986\n",
              "tweet_location    268666\n",
              "urls              214899\n",
              "user_id             3986\n",
              "user_location     198768\n",
              "username            3986\n",
              "dtype: int64"
            ]
          },
          "metadata": {
            "tags": []
          },
          "execution_count": 126
        }
      ]
    },
    {
      "cell_type": "code",
      "metadata": {
        "id": "W72ZcnnKEQ8s",
        "colab_type": "code",
        "colab": {
          "base_uri": "https://localhost:8080/",
          "height": 336
        },
        "outputId": "0bb55703-1f44-4f5b-9000-6d920aec2c35"
      },
      "source": [
        "df_final1.dropna(axis=0,subset=['text'],inplace=True)\n",
        "df_final1.isnull().sum()"
      ],
      "execution_count": 127,
      "outputs": [
        {
          "output_type": "execute_result",
          "data": {
            "text/plain": [
              "text                   0\n",
              "lab_final         264917\n",
              "label             264674\n",
              "date                3986\n",
              "favorites           3986\n",
              "formatted_date      3986\n",
              "hashtags          215974\n",
              "mentions          234246\n",
              "permalink           3986\n",
              "replies             3986\n",
              "retweets            3986\n",
              "to                160552\n",
              "tweet_id            3986\n",
              "tweet_location    268660\n",
              "urls              214899\n",
              "user_id             3986\n",
              "user_location     198763\n",
              "username            3986\n",
              "dtype: int64"
            ]
          },
          "metadata": {
            "tags": []
          },
          "execution_count": 127
        }
      ]
    },
    {
      "cell_type": "code",
      "metadata": {
        "id": "o7qrlUb3BHxG",
        "colab_type": "code",
        "colab": {
          "base_uri": "https://localhost:8080/",
          "height": 34
        },
        "outputId": "bbb57913-ec8b-48b3-a230-f40a02cf4a9d"
      },
      "source": [
        "df_final1.shape"
      ],
      "execution_count": 128,
      "outputs": [
        {
          "output_type": "execute_result",
          "data": {
            "text/plain": [
              "(268660, 18)"
            ]
          },
          "metadata": {
            "tags": []
          },
          "execution_count": 128
        }
      ]
    },
    {
      "cell_type": "code",
      "metadata": {
        "id": "fIhzfWStBwYD",
        "colab_type": "code",
        "colab": {}
      },
      "source": [
        "df_final.reset_index(inplace=True)\n",
        "df_final.drop(\"index\",axis=1,inplace=True)"
      ],
      "execution_count": 0,
      "outputs": []
    },
    {
      "cell_type": "code",
      "metadata": {
        "id": "qcfsM9f7BJY0",
        "colab_type": "code",
        "colab": {}
      },
      "source": [
        "df_final1.drop_duplicates(subset=['text'], keep=\"first\",inplace=True)"
      ],
      "execution_count": 0,
      "outputs": []
    },
    {
      "cell_type": "code",
      "metadata": {
        "id": "SjxwH--4BS4G",
        "colab_type": "code",
        "colab": {
          "base_uri": "https://localhost:8080/",
          "height": 34
        },
        "outputId": "c4744d1a-8c3f-4818-a160-e76fbb56c89d"
      },
      "source": [
        "df_final1.shape  "
      ],
      "execution_count": 131,
      "outputs": [
        {
          "output_type": "execute_result",
          "data": {
            "text/plain": [
              "(262232, 18)"
            ]
          },
          "metadata": {
            "tags": []
          },
          "execution_count": 131
        }
      ]
    },
    {
      "cell_type": "code",
      "metadata": {
        "id": "85IGQXPPWBS8",
        "colab_type": "code",
        "colab": {
          "base_uri": "https://localhost:8080/",
          "height": 34
        },
        "outputId": "fdf5ba74-001e-4fef-c5a8-9fd2e09db9fe"
      },
      "source": [
        "df_final1.iloc[3904:].shape"
      ],
      "execution_count": 132,
      "outputs": [
        {
          "output_type": "execute_result",
          "data": {
            "text/plain": [
              "(258328, 18)"
            ]
          },
          "metadata": {
            "tags": []
          },
          "execution_count": 132
        }
      ]
    },
    {
      "cell_type": "code",
      "metadata": {
        "id": "VK-HYg2VE997",
        "colab_type": "code",
        "colab": {
          "base_uri": "https://localhost:8080/",
          "height": 84
        },
        "outputId": "9eac874f-ae16-4c46-d97e-6aaab6daa45b"
      },
      "source": [
        "df_final1.iloc[:3903].isnull().sum()   #going to be our training set"
      ],
      "execution_count": 71,
      "outputs": [
        {
          "output_type": "execute_result",
          "data": {
            "text/plain": [
              "text           0\n",
              "lab_final    167\n",
              "label          0\n",
              "dtype: int64"
            ]
          },
          "metadata": {
            "tags": []
          },
          "execution_count": 71
        }
      ]
    },
    {
      "cell_type": "code",
      "metadata": {
        "id": "Ovp5ESUh_pT8",
        "colab_type": "code",
        "colab": {}
      },
      "source": [
        "df_final1['text'] = df_final1['text'].apply(preprocess)"
      ],
      "execution_count": 0,
      "outputs": []
    },
    {
      "cell_type": "code",
      "metadata": {
        "id": "jPKM3CGn_xne",
        "colab_type": "code",
        "colab": {}
      },
      "source": [
        ""
      ],
      "execution_count": 0,
      "outputs": []
    },
    {
      "cell_type": "code",
      "metadata": {
        "colab_type": "code",
        "id": "oLi6LLbn_98v",
        "colab": {}
      },
      "source": [
        "from sklearn.pipeline import FeatureUnion\n",
        "\n",
        "feats = FeatureUnion([('text', text)]) \n",
        "feature_processing = Pipeline([('feats', feats)])"
      ],
      "execution_count": 0,
      "outputs": []
    },
    {
      "cell_type": "code",
      "metadata": {
        "colab_type": "code",
        "outputId": "a48b2730-ae9e-48ce-fe12-446691c23c03",
        "id": "98fF9V7u_98-",
        "colab": {
          "base_uri": "https://localhost:8080/",
          "height": 106
        }
      },
      "source": [
        "df_final1.head(2)"
      ],
      "execution_count": 74,
      "outputs": [
        {
          "output_type": "execute_result",
          "data": {
            "text/html": [
              "<div>\n",
              "<style scoped>\n",
              "    .dataframe tbody tr th:only-of-type {\n",
              "        vertical-align: middle;\n",
              "    }\n",
              "\n",
              "    .dataframe tbody tr th {\n",
              "        vertical-align: top;\n",
              "    }\n",
              "\n",
              "    .dataframe thead th {\n",
              "        text-align: right;\n",
              "    }\n",
              "</style>\n",
              "<table border=\"1\" class=\"dataframe\">\n",
              "  <thead>\n",
              "    <tr style=\"text-align: right;\">\n",
              "      <th></th>\n",
              "      <th>text</th>\n",
              "      <th>lab_final</th>\n",
              "      <th>label</th>\n",
              "    </tr>\n",
              "  </thead>\n",
              "  <tbody>\n",
              "    <tr>\n",
              "      <th>0</th>\n",
              "      <td>the fact their might be so many marital rape a...</td>\n",
              "      <td>DV_OPINION</td>\n",
              "      <td>0.0</td>\n",
              "    </tr>\n",
              "    <tr>\n",
              "      <th>1</th>\n",
              "      <td>if the child have be through sexual abuse adul...</td>\n",
              "      <td>NON_D_VIOLENCE_ABOUT</td>\n",
              "      <td>1.0</td>\n",
              "    </tr>\n",
              "  </tbody>\n",
              "</table>\n",
              "</div>"
            ],
            "text/plain": [
              "                                                text  ... label\n",
              "0  the fact their might be so many marital rape a...  ...   0.0\n",
              "1  if the child have be through sexual abuse adul...  ...   1.0\n",
              "\n",
              "[2 rows x 3 columns]"
            ]
          },
          "metadata": {
            "tags": []
          },
          "execution_count": 74
        }
      ]
    },
    {
      "cell_type": "code",
      "metadata": {
        "id": "AJtTdjpsAAXG",
        "colab_type": "code",
        "outputId": "cc71b8ec-2ba3-443c-d019-3049f977ae1a",
        "colab": {
          "base_uri": "https://localhost:8080/",
          "height": 34
        }
      },
      "source": [
        "df_final1.shape"
      ],
      "execution_count": 75,
      "outputs": [
        {
          "output_type": "execute_result",
          "data": {
            "text/plain": [
              "(262232, 3)"
            ]
          },
          "metadata": {
            "tags": []
          },
          "execution_count": 75
        }
      ]
    },
    {
      "cell_type": "code",
      "metadata": {
        "id": "8FT7qkxMBxVA",
        "colab_type": "code",
        "colab": {}
      },
      "source": [
        "x_train = df_final.drop(columns=['label','lab_final'],axis=1).iloc[:3903]\n",
        "y_train = df_final['label'].iloc[:3903]\n",
        "\n",
        "x_test = df_final1.drop(columns=['label','lab_final'],axis=1).iloc[3904:]  # inference dataset\n",
        "#x_valid = df_final.drop(columns=['label','lab_final'],axis=1).iloc[3410:]\n",
        "#y_valid = df_final['label'].iloc[3410:]"
      ],
      "execution_count": 0,
      "outputs": []
    },
    {
      "cell_type": "code",
      "metadata": {
        "colab_type": "code",
        "id": "_TEsA0pB_99L",
        "colab": {}
      },
      "source": [
        "from sklearn.model_selection import train_test_split\n",
        "from sklearn import preprocessing\n",
        "x_train, x_valid, y_train, y_valid = train_test_split(df_final.drop(columns=['label','lab_final'],axis=1), df_final['label'], \n",
        "                                                      random_state=0,test_size=0.15, stratify=df_final['label'])"
      ],
      "execution_count": 0,
      "outputs": []
    },
    {
      "cell_type": "code",
      "metadata": {
        "colab_type": "code",
        "id": "YYMNFuZ9_99U",
        "colab": {}
      },
      "source": [
        "x_train = feature_processing.fit_transform(x_train) \n",
        "x_test = feature_processing.transform(x_test)"
      ],
      "execution_count": 0,
      "outputs": []
    },
    {
      "cell_type": "code",
      "metadata": {
        "colab_type": "code",
        "id": "oCB5SuVq_99d",
        "colab": {}
      },
      "source": [
        "from imblearn.over_sampling import SMOTE"
      ],
      "execution_count": 0,
      "outputs": []
    },
    {
      "cell_type": "code",
      "metadata": {
        "id": "VAULk8oxCSUJ",
        "colab_type": "code",
        "outputId": "7a296675-d660-440d-af15-d6295b1a0ccd",
        "colab": {
          "base_uri": "https://localhost:8080/",
          "height": 218
        }
      },
      "source": [
        "y_train"
      ],
      "execution_count": 80,
      "outputs": [
        {
          "output_type": "execute_result",
          "data": {
            "text/plain": [
              "0       0\n",
              "1       1\n",
              "2       1\n",
              "3       1\n",
              "4       2\n",
              "       ..\n",
              "3139    3\n",
              "3140    3\n",
              "3153    3\n",
              "3169    4\n",
              "3170    3\n",
              "Name: label, Length: 3903, dtype: int64"
            ]
          },
          "metadata": {
            "tags": []
          },
          "execution_count": 80
        }
      ]
    },
    {
      "cell_type": "code",
      "metadata": {
        "colab_type": "code",
        "outputId": "297e4fb8-0132-40ed-a1f5-a28f5145db6b",
        "id": "GB1nCJmF_99n",
        "colab": {
          "base_uri": "https://localhost:8080/",
          "height": 70
        }
      },
      "source": [
        "sm = SMOTE()\n",
        "x_train1, y_train1 = sm.fit_sample(x_train, y_train)"
      ],
      "execution_count": 85,
      "outputs": [
        {
          "output_type": "stream",
          "text": [
            "/usr/local/lib/python3.6/dist-packages/sklearn/utils/deprecation.py:87: FutureWarning: Function safe_indexing is deprecated; safe_indexing is deprecated in version 0.22 and will be removed in version 0.24.\n",
            "  warnings.warn(msg, category=FutureWarning)\n"
          ],
          "name": "stderr"
        }
      ]
    },
    {
      "cell_type": "code",
      "metadata": {
        "colab_type": "code",
        "id": "tEo11vBD_991",
        "colab": {}
      },
      "source": [
        "unique_elements, counts_elements = np.unique(y_train1, return_counts=True)"
      ],
      "execution_count": 0,
      "outputs": []
    },
    {
      "cell_type": "code",
      "metadata": {
        "colab_type": "code",
        "id": "V8ZPqHOQ_999",
        "outputId": "f89a6fca-ee62-4809-f929-6260593764dd",
        "colab": {
          "base_uri": "https://localhost:8080/",
          "height": 34
        }
      },
      "source": [
        "unique_elements"
      ],
      "execution_count": 87,
      "outputs": [
        {
          "output_type": "execute_result",
          "data": {
            "text/plain": [
              "array([0, 1, 2, 3, 4])"
            ]
          },
          "metadata": {
            "tags": []
          },
          "execution_count": 87
        }
      ]
    },
    {
      "cell_type": "code",
      "metadata": {
        "colab_type": "code",
        "outputId": "3054b25b-6468-4450-8b2a-4a47d3866e50",
        "id": "hAULMGcQ_9-E",
        "colab": {
          "base_uri": "https://localhost:8080/",
          "height": 34
        }
      },
      "source": [
        "counts_elements"
      ],
      "execution_count": 88,
      "outputs": [
        {
          "output_type": "execute_result",
          "data": {
            "text/plain": [
              "array([2063, 2063, 2063, 2063, 2063])"
            ]
          },
          "metadata": {
            "tags": []
          },
          "execution_count": 88
        }
      ]
    },
    {
      "cell_type": "code",
      "metadata": {
        "id": "cifQzrBIAQC_",
        "colab_type": "code",
        "colab": {
          "base_uri": "https://localhost:8080/",
          "height": 34
        },
        "outputId": "a212ff7c-95b5-41a5-b865-438db96d1f40"
      },
      "source": [
        "x_test.shape"
      ],
      "execution_count": 89,
      "outputs": [
        {
          "output_type": "execute_result",
          "data": {
            "text/plain": [
              "(258328, 82460)"
            ]
          },
          "metadata": {
            "tags": []
          },
          "execution_count": 89
        }
      ]
    },
    {
      "cell_type": "code",
      "metadata": {
        "colab_type": "code",
        "id": "MFKGWVbXAQTF",
        "colab": {}
      },
      "source": [
        "from sklearn.ensemble import ExtraTreesClassifier \n",
        "from sklearn.linear_model import LogisticRegression\n",
        "from sklearn.svm import SVC\n",
        "from sklearn.ensemble import RandomForestClassifier\n",
        "clf1 = SVC(C = 3.5, kernel = 'linear', gamma='auto', random_state=42,class_weight=\"balanced\")\n",
        "clf2 = RandomForestClassifier(random_state=88)\n",
        "clf3 = SVC(C = 3.5, kernel = 'rbf', gamma='auto', random_state=42,class_weight=\"balanced\")\n",
        "lr = LogisticRegression()\n",
        "\n"
      ],
      "execution_count": 0,
      "outputs": []
    },
    {
      "cell_type": "code",
      "metadata": {
        "colab_type": "code",
        "id": "zxewyngMAQTN",
        "colab": {}
      },
      "source": [
        "#!pip install vecstack\n",
        "from vecstack import stacking "
      ],
      "execution_count": 0,
      "outputs": []
    },
    {
      "cell_type": "code",
      "metadata": {
        "colab_type": "code",
        "outputId": "1dac02e2-99a9-4ff0-d4a8-60da62e96a35",
        "id": "45QYgTaPAQTX",
        "colab": {
          "base_uri": "https://localhost:8080/",
          "height": 840
        }
      },
      "source": [
        "models = [clf1, clf2, lr]\n",
        "\n",
        "# Compute stacking features\n",
        "S_train, S_test = stacking(models, x_train1, y_train1, x_test,\n",
        "    regression = False, n_folds = 4,\n",
        "    shuffle = True, random_state = 88, verbose = 2)"
      ],
      "execution_count": 92,
      "outputs": [
        {
          "output_type": "stream",
          "text": [
            "task:         [classification]\n",
            "n_classes:    [5]\n",
            "metric:       [accuracy_score]\n",
            "mode:         [oof_pred_bag]\n",
            "n_models:     [3]\n",
            "\n",
            "model  0:     [SVC]\n",
            "    fold  0:  [0.96936797]\n",
            "    fold  1:  [0.97053121]\n",
            "    fold  2:  [0.96393951]\n",
            "    fold  3:  [0.97478666]\n",
            "    ----\n",
            "    MEAN:     [0.96965634] + [0.00386817]\n",
            "    FULL:     [0.96965584]\n",
            "\n",
            "model  1:     [RandomForestClassifier]\n",
            "    fold  0:  [0.95191935]\n",
            "    fold  1:  [0.94804188]\n",
            "    fold  2:  [0.93951144]\n",
            "    fold  3:  [0.95034911]\n",
            "    ----\n",
            "    MEAN:     [0.94745544] + [0.00478933]\n",
            "    FULL:     [0.94745516]\n",
            "\n",
            "model  2:     [LogisticRegression]\n",
            "    fold  0:  [0.95036836]\n"
          ],
          "name": "stdout"
        },
        {
          "output_type": "stream",
          "text": [
            "/usr/local/lib/python3.6/dist-packages/sklearn/linear_model/_logistic.py:940: ConvergenceWarning: lbfgs failed to converge (status=1):\n",
            "STOP: TOTAL NO. of ITERATIONS REACHED LIMIT.\n",
            "\n",
            "Increase the number of iterations (max_iter) or scale the data as shown in:\n",
            "    https://scikit-learn.org/stable/modules/preprocessing.html\n",
            "Please also refer to the documentation for alternative solver options:\n",
            "    https://scikit-learn.org/stable/modules/linear_model.html#logistic-regression\n",
            "  extra_warning_msg=_LOGISTIC_SOLVER_CONVERGENCE_MSG)\n"
          ],
          "name": "stderr"
        },
        {
          "output_type": "stream",
          "text": [
            "    fold  1:  [0.94377666]\n"
          ],
          "name": "stdout"
        },
        {
          "output_type": "stream",
          "text": [
            "/usr/local/lib/python3.6/dist-packages/sklearn/linear_model/_logistic.py:940: ConvergenceWarning: lbfgs failed to converge (status=1):\n",
            "STOP: TOTAL NO. of ITERATIONS REACHED LIMIT.\n",
            "\n",
            "Increase the number of iterations (max_iter) or scale the data as shown in:\n",
            "    https://scikit-learn.org/stable/modules/preprocessing.html\n",
            "Please also refer to the documentation for alternative solver options:\n",
            "    https://scikit-learn.org/stable/modules/linear_model.html#logistic-regression\n",
            "  extra_warning_msg=_LOGISTIC_SOLVER_CONVERGENCE_MSG)\n"
          ],
          "name": "stderr"
        },
        {
          "output_type": "stream",
          "text": [
            "    fold  2:  [0.94067468]\n",
            "    fold  3:  [0.95577967]\n",
            "    ----\n",
            "    MEAN:     [0.94764984] + [0.00585532]\n",
            "    FULL:     [0.94764905]\n",
            "\n"
          ],
          "name": "stdout"
        }
      ]
    },
    {
      "cell_type": "code",
      "metadata": {
        "colab_type": "code",
        "id": "_rb6C3vZAQTn",
        "colab": {}
      },
      "source": [
        "import xgboost\n",
        "xgb = xgboost.XGBClassifier()\n",
        "model = xgb\n",
        "\n",
        "# Fit 2-nd level model\n",
        "model = model.fit(S_train, y_train1)\n",
        "\n",
        "# Predict\n",
        "y_test_pred = model.predict(S_test)"
      ],
      "execution_count": 0,
      "outputs": []
    },
    {
      "cell_type": "code",
      "metadata": {
        "id": "WuEbDa6rTYtJ",
        "colab_type": "code",
        "colab": {
          "base_uri": "https://localhost:8080/",
          "height": 34
        },
        "outputId": "c82f469b-3e9e-45f4-9df6-5cf01cf1c62b"
      },
      "source": [
        "y_test_pred.shape"
      ],
      "execution_count": 94,
      "outputs": [
        {
          "output_type": "execute_result",
          "data": {
            "text/plain": [
              "(258328,)"
            ]
          },
          "metadata": {
            "tags": []
          },
          "execution_count": 94
        }
      ]
    },
    {
      "cell_type": "code",
      "metadata": {
        "id": "mxAM4718Td4B",
        "colab_type": "code",
        "colab": {}
      },
      "source": [
        "predicted = pd.DataFrame({'text':x_test,'label':y_test_pred})"
      ],
      "execution_count": 0,
      "outputs": []
    },
    {
      "cell_type": "code",
      "metadata": {
        "id": "YY-jBB8hTqWk",
        "colab_type": "code",
        "colab": {
          "base_uri": "https://localhost:8080/",
          "height": 106
        },
        "outputId": "cbe46928-c077-4c55-c5c8-8fcb64749292"
      },
      "source": [
        "predicted.head(2)"
      ],
      "execution_count": 96,
      "outputs": [
        {
          "output_type": "execute_result",
          "data": {
            "text/html": [
              "<div>\n",
              "<style scoped>\n",
              "    .dataframe tbody tr th:only-of-type {\n",
              "        vertical-align: middle;\n",
              "    }\n",
              "\n",
              "    .dataframe tbody tr th {\n",
              "        vertical-align: top;\n",
              "    }\n",
              "\n",
              "    .dataframe thead th {\n",
              "        text-align: right;\n",
              "    }\n",
              "</style>\n",
              "<table border=\"1\" class=\"dataframe\">\n",
              "  <thead>\n",
              "    <tr style=\"text-align: right;\">\n",
              "      <th></th>\n",
              "      <th>text</th>\n",
              "      <th>label</th>\n",
              "    </tr>\n",
              "  </thead>\n",
              "  <tbody>\n",
              "    <tr>\n",
              "      <th>0</th>\n",
              "      <td>(0, 48)\\t0.09776125125283194\\n  (0, 802)\\t0....</td>\n",
              "      <td>3</td>\n",
              "    </tr>\n",
              "    <tr>\n",
              "      <th>1</th>\n",
              "      <td>(0, 48)\\t0.09776125125283194\\n  (0, 802)\\t0....</td>\n",
              "      <td>3</td>\n",
              "    </tr>\n",
              "  </tbody>\n",
              "</table>\n",
              "</div>"
            ],
            "text/plain": [
              "                                                text  label\n",
              "0    (0, 48)\\t0.09776125125283194\\n  (0, 802)\\t0....      3\n",
              "1    (0, 48)\\t0.09776125125283194\\n  (0, 802)\\t0....      3"
            ]
          },
          "metadata": {
            "tags": []
          },
          "execution_count": 96
        }
      ]
    },
    {
      "cell_type": "code",
      "metadata": {
        "id": "nlVHwjAdT4Np",
        "colab_type": "code",
        "colab": {
          "base_uri": "https://localhost:8080/",
          "height": 34
        },
        "outputId": "12c34661-2ea5-475d-dfc2-4662e84024fb"
      },
      "source": [
        "df_final1.shape"
      ],
      "execution_count": 123,
      "outputs": [
        {
          "output_type": "execute_result",
          "data": {
            "text/plain": [
              "(268666, 18)"
            ]
          },
          "metadata": {
            "tags": []
          },
          "execution_count": 123
        }
      ]
    },
    {
      "cell_type": "code",
      "metadata": {
        "id": "LCNHV49dUqgM",
        "colab_type": "code",
        "colab": {
          "base_uri": "https://localhost:8080/",
          "height": 34
        },
        "outputId": "f78cb963-98e6-4103-bda1-6e5b4f1bbd55"
      },
      "source": [
        "predicted.shape"
      ],
      "execution_count": 109,
      "outputs": [
        {
          "output_type": "execute_result",
          "data": {
            "text/plain": [
              "(258328, 2)"
            ]
          },
          "metadata": {
            "tags": []
          },
          "execution_count": 109
        }
      ]
    },
    {
      "cell_type": "code",
      "metadata": {
        "id": "NbLymKqPUCG6",
        "colab_type": "code",
        "colab": {}
      },
      "source": [
        "final_inference = df_final1.iloc[3904:]"
      ],
      "execution_count": 0,
      "outputs": []
    },
    {
      "cell_type": "code",
      "metadata": {
        "id": "xGcqRrU6UvGP",
        "colab_type": "code",
        "colab": {
          "base_uri": "https://localhost:8080/",
          "height": 34
        },
        "outputId": "8e6501f3-3989-4635-e6fa-9c0828262374"
      },
      "source": [
        "final_inference.shape"
      ],
      "execution_count": 134,
      "outputs": [
        {
          "output_type": "execute_result",
          "data": {
            "text/plain": [
              "(258328, 18)"
            ]
          },
          "metadata": {
            "tags": []
          },
          "execution_count": 134
        }
      ]
    },
    {
      "cell_type": "code",
      "metadata": {
        "id": "EZZ8DLo9UzdE",
        "colab_type": "code",
        "colab": {
          "base_uri": "https://localhost:8080/",
          "height": 101
        },
        "outputId": "3ed13204-91b2-473a-a8ac-239b336454e3"
      },
      "source": [
        "final_inference.reset_index(inplace=True)\n",
        "final_inference.drop(\"index\",axis=1,inplace=True)"
      ],
      "execution_count": 135,
      "outputs": [
        {
          "output_type": "stream",
          "text": [
            "/usr/local/lib/python3.6/dist-packages/pandas/core/frame.py:3997: SettingWithCopyWarning: \n",
            "A value is trying to be set on a copy of a slice from a DataFrame\n",
            "\n",
            "See the caveats in the documentation: https://pandas.pydata.org/pandas-docs/stable/user_guide/indexing.html#returning-a-view-versus-a-copy\n",
            "  errors=errors,\n"
          ],
          "name": "stderr"
        }
      ]
    },
    {
      "cell_type": "code",
      "metadata": {
        "id": "_XXHy77NUOys",
        "colab_type": "code",
        "colab": {}
      },
      "source": [
        "final_inference = pd.concat([final_inference,predicted['label']],axis=1)"
      ],
      "execution_count": 0,
      "outputs": []
    },
    {
      "cell_type": "code",
      "metadata": {
        "id": "4e1h8udIWRzn",
        "colab_type": "code",
        "colab": {
          "base_uri": "https://localhost:8080/",
          "height": 867
        },
        "outputId": "207d80a4-76c5-4b4f-b0ab-952eb6653ae3"
      },
      "source": [
        "final_inference.head(10)"
      ],
      "execution_count": 138,
      "outputs": [
        {
          "output_type": "execute_result",
          "data": {
            "text/html": [
              "<div>\n",
              "<style scoped>\n",
              "    .dataframe tbody tr th:only-of-type {\n",
              "        vertical-align: middle;\n",
              "    }\n",
              "\n",
              "    .dataframe tbody tr th {\n",
              "        vertical-align: top;\n",
              "    }\n",
              "\n",
              "    .dataframe thead th {\n",
              "        text-align: right;\n",
              "    }\n",
              "</style>\n",
              "<table border=\"1\" class=\"dataframe\">\n",
              "  <thead>\n",
              "    <tr style=\"text-align: right;\">\n",
              "      <th></th>\n",
              "      <th>text</th>\n",
              "      <th>lab_final</th>\n",
              "      <th>label</th>\n",
              "      <th>date</th>\n",
              "      <th>favorites</th>\n",
              "      <th>formatted_date</th>\n",
              "      <th>hashtags</th>\n",
              "      <th>mentions</th>\n",
              "      <th>permalink</th>\n",
              "      <th>replies</th>\n",
              "      <th>retweets</th>\n",
              "      <th>to</th>\n",
              "      <th>tweet_id</th>\n",
              "      <th>tweet_location</th>\n",
              "      <th>urls</th>\n",
              "      <th>user_id</th>\n",
              "      <th>user_location</th>\n",
              "      <th>username</th>\n",
              "      <th>label</th>\n",
              "    </tr>\n",
              "  </thead>\n",
              "  <tbody>\n",
              "    <tr>\n",
              "      <th>0</th>\n",
              "      <td>nah fam 1 same baby boy but information techno...</td>\n",
              "      <td>NaN</td>\n",
              "      <td>3.0</td>\n",
              "      <td>NaN</td>\n",
              "      <td>NaN</td>\n",
              "      <td>NaN</td>\n",
              "      <td>NaN</td>\n",
              "      <td>NaN</td>\n",
              "      <td>NaN</td>\n",
              "      <td>NaN</td>\n",
              "      <td>NaN</td>\n",
              "      <td>NaN</td>\n",
              "      <td>NaN</td>\n",
              "      <td>NaN</td>\n",
              "      <td>NaN</td>\n",
              "      <td>NaN</td>\n",
              "      <td>NaN</td>\n",
              "      <td>NaN</td>\n",
              "      <td>3</td>\n",
              "    </tr>\n",
              "    <tr>\n",
              "      <th>1</th>\n",
              "      <td>yanno i ve always wonder something now hear ma...</td>\n",
              "      <td>NaN</td>\n",
              "      <td>3.0</td>\n",
              "      <td>NaN</td>\n",
              "      <td>NaN</td>\n",
              "      <td>NaN</td>\n",
              "      <td>NaN</td>\n",
              "      <td>NaN</td>\n",
              "      <td>NaN</td>\n",
              "      <td>NaN</td>\n",
              "      <td>NaN</td>\n",
              "      <td>NaN</td>\n",
              "      <td>NaN</td>\n",
              "      <td>NaN</td>\n",
              "      <td>NaN</td>\n",
              "      <td>NaN</td>\n",
              "      <td>NaN</td>\n",
              "      <td>NaN</td>\n",
              "      <td>3</td>\n",
              "    </tr>\n",
              "    <tr>\n",
              "      <th>2</th>\n",
              "      <td>a house of smoke and mirror shortly after her ...</td>\n",
              "      <td>NaN</td>\n",
              "      <td>3.0</td>\n",
              "      <td>NaN</td>\n",
              "      <td>NaN</td>\n",
              "      <td>NaN</td>\n",
              "      <td>NaN</td>\n",
              "      <td>NaN</td>\n",
              "      <td>NaN</td>\n",
              "      <td>NaN</td>\n",
              "      <td>NaN</td>\n",
              "      <td>NaN</td>\n",
              "      <td>NaN</td>\n",
              "      <td>NaN</td>\n",
              "      <td>NaN</td>\n",
              "      <td>NaN</td>\n",
              "      <td>NaN</td>\n",
              "      <td>NaN</td>\n",
              "      <td>3</td>\n",
              "    </tr>\n",
              "    <tr>\n",
              "      <th>3</th>\n",
              "      <td>while i don t condone violenceproperty damage ...</td>\n",
              "      <td>NaN</td>\n",
              "      <td>3.0</td>\n",
              "      <td>NaN</td>\n",
              "      <td>NaN</td>\n",
              "      <td>NaN</td>\n",
              "      <td>NaN</td>\n",
              "      <td>NaN</td>\n",
              "      <td>NaN</td>\n",
              "      <td>NaN</td>\n",
              "      <td>NaN</td>\n",
              "      <td>NaN</td>\n",
              "      <td>NaN</td>\n",
              "      <td>NaN</td>\n",
              "      <td>NaN</td>\n",
              "      <td>NaN</td>\n",
              "      <td>NaN</td>\n",
              "      <td>NaN</td>\n",
              "      <td>3</td>\n",
              "    </tr>\n",
              "    <tr>\n",
              "      <th>4</th>\n",
              "      <td>think a man try rape his step daughter try to ...</td>\n",
              "      <td>NaN</td>\n",
              "      <td>3.0</td>\n",
              "      <td>NaN</td>\n",
              "      <td>NaN</td>\n",
              "      <td>NaN</td>\n",
              "      <td>NaN</td>\n",
              "      <td>NaN</td>\n",
              "      <td>NaN</td>\n",
              "      <td>NaN</td>\n",
              "      <td>NaN</td>\n",
              "      <td>NaN</td>\n",
              "      <td>NaN</td>\n",
              "      <td>NaN</td>\n",
              "      <td>NaN</td>\n",
              "      <td>NaN</td>\n",
              "      <td>NaN</td>\n",
              "      <td>NaN</td>\n",
              "      <td>3</td>\n",
              "    </tr>\n",
              "    <tr>\n",
              "      <th>5</th>\n",
              "      <td>hi house can a husband rape his wife i need ho...</td>\n",
              "      <td>NaN</td>\n",
              "      <td>3.0</td>\n",
              "      <td>NaN</td>\n",
              "      <td>NaN</td>\n",
              "      <td>NaN</td>\n",
              "      <td>NaN</td>\n",
              "      <td>NaN</td>\n",
              "      <td>NaN</td>\n",
              "      <td>NaN</td>\n",
              "      <td>NaN</td>\n",
              "      <td>NaN</td>\n",
              "      <td>NaN</td>\n",
              "      <td>NaN</td>\n",
              "      <td>NaN</td>\n",
              "      <td>NaN</td>\n",
              "      <td>NaN</td>\n",
              "      <td>NaN</td>\n",
              "      <td>3</td>\n",
              "    </tr>\n",
              "    <tr>\n",
              "      <th>6</th>\n",
              "      <td>why a man canful not despoil his lawfully wed ...</td>\n",
              "      <td>NaN</td>\n",
              "      <td>4.0</td>\n",
              "      <td>NaN</td>\n",
              "      <td>NaN</td>\n",
              "      <td>NaN</td>\n",
              "      <td>NaN</td>\n",
              "      <td>NaN</td>\n",
              "      <td>NaN</td>\n",
              "      <td>NaN</td>\n",
              "      <td>NaN</td>\n",
              "      <td>NaN</td>\n",
              "      <td>NaN</td>\n",
              "      <td>NaN</td>\n",
              "      <td>NaN</td>\n",
              "      <td>NaN</td>\n",
              "      <td>NaN</td>\n",
              "      <td>NaN</td>\n",
              "      <td>4</td>\n",
              "    </tr>\n",
              "    <tr>\n",
              "      <th>7</th>\n",
              "      <td>the law be make nothing gevatsecrhe first pers...</td>\n",
              "      <td>NaN</td>\n",
              "      <td>3.0</td>\n",
              "      <td>NaN</td>\n",
              "      <td>NaN</td>\n",
              "      <td>NaN</td>\n",
              "      <td>NaN</td>\n",
              "      <td>NaN</td>\n",
              "      <td>NaN</td>\n",
              "      <td>NaN</td>\n",
              "      <td>NaN</td>\n",
              "      <td>NaN</td>\n",
              "      <td>NaN</td>\n",
              "      <td>NaN</td>\n",
              "      <td>NaN</td>\n",
              "      <td>NaN</td>\n",
              "      <td>NaN</td>\n",
              "      <td>NaN</td>\n",
              "      <td>3</td>\n",
              "    </tr>\n",
              "    <tr>\n",
              "      <th>8</th>\n",
              "      <td>help get strangulation a felony and measure pa...</td>\n",
              "      <td>NaN</td>\n",
              "      <td>3.0</td>\n",
              "      <td>NaN</td>\n",
              "      <td>NaN</td>\n",
              "      <td>NaN</td>\n",
              "      <td>NaN</td>\n",
              "      <td>NaN</td>\n",
              "      <td>NaN</td>\n",
              "      <td>NaN</td>\n",
              "      <td>NaN</td>\n",
              "      <td>NaN</td>\n",
              "      <td>NaN</td>\n",
              "      <td>NaN</td>\n",
              "      <td>NaN</td>\n",
              "      <td>NaN</td>\n",
              "      <td>NaN</td>\n",
              "      <td>NaN</td>\n",
              "      <td>3</td>\n",
              "    </tr>\n",
              "    <tr>\n",
              "      <th>9</th>\n",
              "      <td>first sour my female parent have no right hand...</td>\n",
              "      <td>NaN</td>\n",
              "      <td>3.0</td>\n",
              "      <td>NaN</td>\n",
              "      <td>NaN</td>\n",
              "      <td>NaN</td>\n",
              "      <td>NaN</td>\n",
              "      <td>NaN</td>\n",
              "      <td>NaN</td>\n",
              "      <td>NaN</td>\n",
              "      <td>NaN</td>\n",
              "      <td>NaN</td>\n",
              "      <td>NaN</td>\n",
              "      <td>NaN</td>\n",
              "      <td>NaN</td>\n",
              "      <td>NaN</td>\n",
              "      <td>NaN</td>\n",
              "      <td>NaN</td>\n",
              "      <td>3</td>\n",
              "    </tr>\n",
              "  </tbody>\n",
              "</table>\n",
              "</div>"
            ],
            "text/plain": [
              "                                                text lab_final  ...  username label\n",
              "0  nah fam 1 same baby boy but information techno...       NaN  ...       NaN     3\n",
              "1  yanno i ve always wonder something now hear ma...       NaN  ...       NaN     3\n",
              "2  a house of smoke and mirror shortly after her ...       NaN  ...       NaN     3\n",
              "3  while i don t condone violenceproperty damage ...       NaN  ...       NaN     3\n",
              "4  think a man try rape his step daughter try to ...       NaN  ...       NaN     3\n",
              "5  hi house can a husband rape his wife i need ho...       NaN  ...       NaN     3\n",
              "6  why a man canful not despoil his lawfully wed ...       NaN  ...       NaN     4\n",
              "7  the law be make nothing gevatsecrhe first pers...       NaN  ...       NaN     3\n",
              "8  help get strangulation a felony and measure pa...       NaN  ...       NaN     3\n",
              "9  first sour my female parent have no right hand...       NaN  ...       NaN     3\n",
              "\n",
              "[10 rows x 19 columns]"
            ]
          },
          "metadata": {
            "tags": []
          },
          "execution_count": 138
        }
      ]
    },
    {
      "cell_type": "code",
      "metadata": {
        "id": "HRFW9Ly3Wmot",
        "colab_type": "code",
        "colab": {
          "base_uri": "https://localhost:8080/",
          "height": 101
        },
        "outputId": "10c77844-a4b5-4046-80f4-3030556b7594"
      },
      "source": [
        "final_inference.columns"
      ],
      "execution_count": 143,
      "outputs": [
        {
          "output_type": "execute_result",
          "data": {
            "text/plain": [
              "Index(['text', 'label', 'date', 'favorites', 'formatted_date', 'hashtags',\n",
              "       'mentions', 'permalink', 'replies', 'retweets', 'to', 'tweet_id',\n",
              "       'tweet_location', 'urls', 'user_id', 'user_location', 'username',\n",
              "       'label'],\n",
              "      dtype='object')"
            ]
          },
          "metadata": {
            "tags": []
          },
          "execution_count": 143
        }
      ]
    },
    {
      "cell_type": "code",
      "metadata": {
        "id": "CTZCGnUlWkuG",
        "colab_type": "code",
        "colab": {}
      },
      "source": [
        "final_inference.columns = ['text', 'label1', 'date', 'favorites', 'formatted_date', 'hashtags',\n",
        "       'mentions', 'permalink', 'replies', 'retweets', 'to', 'tweet_id',\n",
        "       'tweet_location', 'urls', 'user_id', 'user_location', 'username',\n",
        "       'label']"
      ],
      "execution_count": 0,
      "outputs": []
    },
    {
      "cell_type": "code",
      "metadata": {
        "id": "QZ17uiFCU7y3",
        "colab_type": "code",
        "colab": {}
      },
      "source": [
        "final_inference.drop(columns=['label1'],axis=1,inplace=True)"
      ],
      "execution_count": 0,
      "outputs": []
    },
    {
      "cell_type": "code",
      "metadata": {
        "id": "uG6OOPsJTurI",
        "colab_type": "code",
        "colab": {
          "base_uri": "https://localhost:8080/",
          "height": 118
        },
        "outputId": "9e2ddf57-0eef-4cb7-a2f3-ee4f04db6de5"
      },
      "source": [
        "final_inference['label'].value_counts()"
      ],
      "execution_count": 148,
      "outputs": [
        {
          "output_type": "execute_result",
          "data": {
            "text/plain": [
              "1    149859\n",
              "2     76046\n",
              "0     18231\n",
              "3     14166\n",
              "4        26\n",
              "Name: label, dtype: int64"
            ]
          },
          "metadata": {
            "tags": []
          },
          "execution_count": 148
        }
      ]
    },
    {
      "cell_type": "code",
      "metadata": {
        "id": "PAWtfEK4VW7R",
        "colab_type": "code",
        "colab": {
          "base_uri": "https://localhost:8080/",
          "height": 101
        },
        "outputId": "12803c5b-a4f7-4b29-cb67-87d7c7d9acf2"
      },
      "source": [
        "label_encode"
      ],
      "execution_count": 149,
      "outputs": [
        {
          "output_type": "execute_result",
          "data": {
            "text/plain": [
              "{'DV_OPINION': 0,\n",
              " 'DV_OPINION_DENIER': 4,\n",
              " 'DV_STORY': 3,\n",
              " 'NON_D_VIOLENCE_ABOUT': 1,\n",
              " 'NO_VIOLENCE': 2}"
            ]
          },
          "metadata": {
            "tags": []
          },
          "execution_count": 149
        }
      ]
    },
    {
      "cell_type": "code",
      "metadata": {
        "id": "H54LoRFPXQl3",
        "colab_type": "code",
        "colab": {}
      },
      "source": [
        "label_name = {y:x for x,y in label_encode.items()}"
      ],
      "execution_count": 0,
      "outputs": []
    },
    {
      "cell_type": "code",
      "metadata": {
        "id": "ezhcEpkPXouk",
        "colab_type": "code",
        "colab": {
          "base_uri": "https://localhost:8080/",
          "height": 101
        },
        "outputId": "0623b9c1-f557-4c75-82ec-f0e50a5ff07f"
      },
      "source": [
        "label_name"
      ],
      "execution_count": 152,
      "outputs": [
        {
          "output_type": "execute_result",
          "data": {
            "text/plain": [
              "{0: 'DV_OPINION',\n",
              " 1: 'NON_D_VIOLENCE_ABOUT',\n",
              " 2: 'NO_VIOLENCE',\n",
              " 3: 'DV_STORY',\n",
              " 4: 'DV_OPINION_DENIER'}"
            ]
          },
          "metadata": {
            "tags": []
          },
          "execution_count": 152
        }
      ]
    },
    {
      "cell_type": "code",
      "metadata": {
        "id": "vAoyV9zeW96P",
        "colab_type": "code",
        "colab": {}
      },
      "source": [
        "final_inference['lab_final'] = final_inference['label'].map(label_name)"
      ],
      "execution_count": 0,
      "outputs": []
    },
    {
      "cell_type": "code",
      "metadata": {
        "id": "pvsGn0-lXuIf",
        "colab_type": "code",
        "colab": {
          "base_uri": "https://localhost:8080/",
          "height": 118
        },
        "outputId": "f2b06dfe-782a-494a-c7d5-c0800ce541eb"
      },
      "source": [
        "final_inference['lab_final'].value_counts()"
      ],
      "execution_count": 157,
      "outputs": [
        {
          "output_type": "execute_result",
          "data": {
            "text/plain": [
              "NON_D_VIOLENCE_ABOUT    149859\n",
              "NO_VIOLENCE              76046\n",
              "DV_OPINION               18231\n",
              "DV_STORY                 14166\n",
              "DV_OPINION_DENIER           26\n",
              "Name: lab_final, dtype: int64"
            ]
          },
          "metadata": {
            "tags": []
          },
          "execution_count": 157
        }
      ]
    },
    {
      "cell_type": "code",
      "metadata": {
        "id": "4nU1fx6iYYwv",
        "colab_type": "code",
        "colab": {
          "base_uri": "https://localhost:8080/",
          "height": 336
        },
        "outputId": "e9bdd99f-827d-48b2-e532-80be40459dc4"
      },
      "source": [
        "final_inference.iloc[5000]"
      ],
      "execution_count": 168,
      "outputs": [
        {
          "output_type": "execute_result",
          "data": {
            "text/plain": [
              "text                      Super hit bhojpuri song khesari bhaiya ji\n",
              "date                                      2020-01-04 05:00:50+00:00\n",
              "favorites                                                         2\n",
              "formatted_date                       Sat Jan 04 05:00:50 +0000 2020\n",
              "hashtags                                                        NaN\n",
              "mentions                                                        NaN\n",
              "permalink         https://twitter.com/Actorsinger17/status/12133...\n",
              "replies                                                           0\n",
              "retweets                                                          0\n",
              "to                                                        khesariLY\n",
              "tweet_id                                                1.21332e+18\n",
              "tweet_location                                                  NaN\n",
              "urls                                                            NaN\n",
              "user_id                                                  1.2059e+18\n",
              "user_location                                                   NaN\n",
              "username                                              Actorsinger17\n",
              "label                                                             2\n",
              "lab_final                                               NO_VIOLENCE\n",
              "Name: 5000, dtype: object"
            ]
          },
          "metadata": {
            "tags": []
          },
          "execution_count": 168
        }
      ]
    },
    {
      "cell_type": "code",
      "metadata": {
        "id": "QwnjCJOCX7XO",
        "colab_type": "code",
        "colab": {}
      },
      "source": [
        "final_inference.to_csv(\"inference_data_with_label.csv\")"
      ],
      "execution_count": 0,
      "outputs": []
    },
    {
      "cell_type": "code",
      "metadata": {
        "colab_type": "code",
        "outputId": "155e5cc5-7572-43cd-eda0-0e0d56188e80",
        "id": "T2iPc7IwAQTu",
        "colab": {
          "base_uri": "https://localhost:8080/",
          "height": 403
        }
      },
      "source": [
        "evaluate_model(y_valid,y_test_pred)"
      ],
      "execution_count": 107,
      "outputs": [
        {
          "output_type": "stream",
          "text": [
            "confusion matrix\n",
            "True        0    1   2   3  4\n",
            "Predicted                    \n",
            "0          81   14   8   5  0\n",
            "1          16  277  36   2  1\n",
            "2           3   15  64   1  0\n",
            "3           4    3   3  44  0\n",
            "4           0    0   0   0  9\n",
            "classification report\n",
            "              precision    recall  f1-score   support\n",
            "\n",
            "           0       0.75      0.78      0.76       104\n",
            "           1       0.83      0.90      0.86       309\n",
            "           2       0.77      0.58      0.66       111\n",
            "           3       0.81      0.85      0.83        52\n",
            "           4       1.00      0.90      0.95        10\n",
            "\n",
            "    accuracy                           0.81       586\n",
            "   macro avg       0.83      0.80      0.81       586\n",
            "weighted avg       0.81      0.81      0.81       586\n",
            "\n",
            "accuracy score\n",
            "0.810580204778157\n"
          ],
          "name": "stdout"
        }
      ]
    },
    {
      "cell_type": "code",
      "metadata": {
        "id": "7U2Jh47MAVdG",
        "colab_type": "code",
        "outputId": "c1cb8b9f-5592-409a-bd85-2e36d26aecd0",
        "colab": {
          "base_uri": "https://localhost:8080/",
          "height": 101
        }
      },
      "source": [
        "label_encode"
      ],
      "execution_count": 0,
      "outputs": [
        {
          "output_type": "execute_result",
          "data": {
            "text/plain": [
              "{'DV_OPINION': 0,\n",
              " 'DV_OPINION_DENIER': 4,\n",
              " 'DV_STORY': 3,\n",
              " 'NON_D_VIOLENCE_ABOUT': 1,\n",
              " 'NO_VIOLENCE': 2}"
            ]
          },
          "metadata": {
            "tags": []
          },
          "execution_count": 174
        }
      ]
    },
    {
      "cell_type": "code",
      "metadata": {
        "id": "AU-aP55oBSCP",
        "colab_type": "code",
        "outputId": "a56539a9-3c22-4e09-c739-6ea5d5bdb41c",
        "colab": {
          "base_uri": "https://localhost:8080/",
          "height": 34
        }
      },
      "source": [
        "matthews_corrcoef(y_valid,y_test_pred)"
      ],
      "execution_count": 0,
      "outputs": [
        {
          "output_type": "execute_result",
          "data": {
            "text/plain": [
              "0.7854014758796973"
            ]
          },
          "metadata": {
            "tags": []
          },
          "execution_count": 373
        }
      ]
    },
    {
      "cell_type": "code",
      "metadata": {
        "id": "W3Jq2cY7BtuZ",
        "colab_type": "code",
        "colab": {}
      },
      "source": [
        ""
      ],
      "execution_count": 0,
      "outputs": []
    }
  ]
}