{
  "nbformat": 4,
  "nbformat_minor": 0,
  "metadata": {
    "colab": {
      "name": "universal_encoder_model+SVM.ipynb",
      "provenance": [],
      "collapsed_sections": []
    },
    "kernelspec": {
      "name": "python3",
      "display_name": "Python 3"
    }
  },
  "cells": [
    {
      "cell_type": "code",
      "metadata": {
        "id": "EyPtPRIVktZE",
        "colab_type": "code",
        "colab": {}
      },
      "source": [
        "from sklearn.metrics import confusion_matrix, accuracy_score, precision_score, recall_score\n",
        "from sklearn.utils import shuffle\n",
        "from sklearn.svm import SVC\n",
        "from sklearn import model_selection\n",
        "from sklearn.model_selection import GridSearchCV\n",
        "from sklearn.model_selection import train_test_split\n",
        "\n",
        "from tqdm import tqdm\n",
        "import numpy as np\n",
        "import pandas as pd\n",
        "import re\n",
        "import tensorflow as tf\n",
        "import tensorflow_hub as hub\n",
        "\n",
        "# Use the following statement to install tensorflow-text otherwise the embedding won't load\n",
        "# !pip install tensorflow-text==2.0.0 --user\n",
        "import tensorflow_text as text"
      ],
      "execution_count": 0,
      "outputs": []
    },
    {
      "cell_type": "code",
      "metadata": {
        "id": "Svtr4l7Ak6iM",
        "colab_type": "code",
        "colab": {}
      },
      "source": [
        "df_labled = pd.read_csv(\"/content/df_labeled.csv\")"
      ],
      "execution_count": 0,
      "outputs": []
    },
    {
      "cell_type": "code",
      "metadata": {
        "id": "ukNgFGvnlHxw",
        "colab_type": "code",
        "colab": {
          "base_uri": "https://localhost:8080/",
          "height": 225
        },
        "outputId": "657f6a47-c628-4cae-bcaf-5ebbd4336994"
      },
      "source": [
        "df_labled.content"
      ],
      "execution_count": 10,
      "outputs": [
        {
          "output_type": "execute_result",
          "data": {
            "text/plain": [
              "0       The fact their might be so many marital rape a...\n",
              "1       ‘If the child has been through sexual abuse, a...\n",
              "2       ‘If you have any doubt & pick up any signs of ...\n",
              "3       FUCCBOIS 8/10: a great film and yeah, it talks...\n",
              "4       #Lockdown New Time Zone for #Sexual Couples......\n",
              "                              ...                        \n",
              "1267    judicial process not only has failed to reach ...\n",
              "1268    @ncwindia @sharmarekha please help this lady h...\n",
              "1269    my mum beat my elder sister. mama went write s...\n",
              "1270    some of us are too ^scared^ to take a no from ...\n",
              "1271    a husband who forces his wife to have sex with...\n",
              "Name: content, Length: 1272, dtype: object"
            ]
          },
          "metadata": {
            "tags": []
          },
          "execution_count": 10
        }
      ]
    },
    {
      "cell_type": "code",
      "metadata": {
        "id": "hViFZBH1lJho",
        "colab_type": "code",
        "colab": {}
      },
      "source": [
        "train, test, y_train, y_test = train_test_split(df_labled.content, \n",
        "                                                  df_labled.label.values, \n",
        "                                                  test_size=0.15, \n",
        "                                                  random_state=17, \n",
        "                                                  stratify=df_labled.label.values)"
      ],
      "execution_count": 0,
      "outputs": []
    },
    {
      "cell_type": "code",
      "metadata": {
        "id": "tHiaUWMblL1i",
        "colab_type": "code",
        "colab": {}
      },
      "source": [
        "embedding = hub.load(\"https://tfhub.dev/google/universal-sentence-encoder-multilingual-large/3\")"
      ],
      "execution_count": 0,
      "outputs": []
    },
    {
      "cell_type": "code",
      "metadata": {
        "id": "5FqKRtEZo_wz",
        "colab_type": "code",
        "colab": {}
      },
      "source": [
        "def get_embedding(sen):\n",
        "  encoding = embedding(sen)\n",
        "  proper_encoding = tf.reshape(encoding, [-1]).numpy()\n",
        "  return proper_encoding"
      ],
      "execution_count": 0,
      "outputs": []
    },
    {
      "cell_type": "code",
      "metadata": {
        "id": "QbnLJC21lQol",
        "colab_type": "code",
        "colab": {
          "base_uri": "https://localhost:8080/",
          "height": 52
        },
        "outputId": "75b5fa8f-6d46-46d5-a6b9-380c2e2745e7"
      },
      "source": [
        "xtrain = []\n",
        "for sentence in tqdm(train.values):\n",
        "    xtrain.append(get_embedding(sentence))\n",
        "\n",
        "xtrain = np.array(xtrain)\n",
        "\n",
        "\n",
        "xtest = []\n",
        "for sentence in tqdm(test.values):\n",
        "    xtest.append(get_embedding(sentence))\n",
        "\n",
        "xtest = np.array(xtest)"
      ],
      "execution_count": 24,
      "outputs": [
        {
          "output_type": "stream",
          "text": [
            "100%|██████████| 1081/1081 [01:37<00:00, 11.06it/s]\n",
            "100%|██████████| 191/191 [00:17<00:00, 10.82it/s]\n"
          ],
          "name": "stderr"
        }
      ]
    },
    {
      "cell_type": "code",
      "metadata": {
        "id": "Z-AVSOIvmctW",
        "colab_type": "code",
        "colab": {
          "base_uri": "https://localhost:8080/",
          "height": 34
        },
        "outputId": "4e36e2f4-769b-4e57-c845-9b08a9979cb1"
      },
      "source": [
        "def svc_param_selection(X, y, nfolds):\n",
        "  Cs = [1.07]\n",
        "  gammas = [2.075]\n",
        "  param_grid = {'C': Cs, 'gamma' : gammas}\n",
        "  grid_search = GridSearchCV(SVC(kernel='rbf'), param_grid, cv=nfolds, n_jobs=8)\n",
        "  grid_search.fit(X, y)\n",
        "  grid_search.best_params_\n",
        "  return grid_search\n",
        "\n",
        "\n",
        "model = svc_param_selection(xtrain,y_train, 5)\n",
        "model.best_params_"
      ],
      "execution_count": 25,
      "outputs": [
        {
          "output_type": "execute_result",
          "data": {
            "text/plain": [
              "{'C': 1.07, 'gamma': 2.075}"
            ]
          },
          "metadata": {
            "tags": []
          },
          "execution_count": 25
        }
      ]
    },
    {
      "cell_type": "code",
      "metadata": {
        "id": "YDEZc1JVnqEg",
        "colab_type": "code",
        "colab": {}
      },
      "source": [
        "pred = model.predict(xtest)"
      ],
      "execution_count": 0,
      "outputs": []
    },
    {
      "cell_type": "code",
      "metadata": {
        "id": "_roPzNutn9dw",
        "colab_type": "code",
        "colab": {
          "base_uri": "https://localhost:8080/",
          "height": 121
        },
        "outputId": "3e4320c6-9e64-458c-f453-3ec9a116b26c"
      },
      "source": [
        "confusion_matrix(y_test,pred)\n"
      ],
      "execution_count": 27,
      "outputs": [
        {
          "output_type": "execute_result",
          "data": {
            "text/plain": [
              "array([[  0,   5,   0,   0,   0,   0],\n",
              "       [  0, 131,   4,   0,   0,   0],\n",
              "       [  0,  18,  24,   0,   0,   0],\n",
              "       [  0,   4,   0,   0,   0,   0],\n",
              "       [  0,   4,   0,   0,   0,   0],\n",
              "       [  0,   1,   0,   0,   0,   0]])"
            ]
          },
          "metadata": {
            "tags": []
          },
          "execution_count": 27
        }
      ]
    },
    {
      "cell_type": "code",
      "metadata": {
        "id": "0NPWyXcvoCws",
        "colab_type": "code",
        "colab": {
          "base_uri": "https://localhost:8080/",
          "height": 52
        },
        "outputId": "bb9bf4e5-0e44-488e-ac19-fd7d41206a52"
      },
      "source": [
        "from sklearn.metrics import f1_score\n",
        "accuracy = accuracy_score(y_test,pred)\n",
        "print(accuracy)\n",
        "\n",
        "f1 = f1_score(y_test,pred,average='weighted')\n",
        "print(f1)"
      ],
      "execution_count": 28,
      "outputs": [
        {
          "output_type": "stream",
          "text": [
            "0.8115183246073299\n",
            "0.7722056291507082\n"
          ],
          "name": "stdout"
        }
      ]
    },
    {
      "cell_type": "code",
      "metadata": {
        "id": "LKOOQeshoFFP",
        "colab_type": "code",
        "colab": {}
      },
      "source": [
        "label_dict = {0:'DV_OPINION_ADVOCATE',1:'NON_D_VIOLENCE_DIRECTED',\n",
        "              2:'NO_VIOLENCE',3:'DV_OPINION_INFO_NEWS',\n",
        "              4:'DV_STORY',5:'DV_OPINION_DENIER'}"
      ],
      "execution_count": 0,
      "outputs": []
    },
    {
      "cell_type": "code",
      "metadata": {
        "id": "-hr2SvDboOP7",
        "colab_type": "code",
        "colab": {
          "base_uri": "https://localhost:8080/",
          "height": 34
        },
        "outputId": "a076df8c-0107-40b8-df94-4e83cc79c009"
      },
      "source": [
        "sentence = 'The fact their might be so many marital rape and other sexual assaults within homes taking place right now with a greater rate, and no one wont be talking about it bcz CORONA.'\n",
        "sample = get_embedding(sentence)\n",
        "pred = model.predict([sample])\n",
        "label_dict[pred[0]]"
      ],
      "execution_count": 33,
      "outputs": [
        {
          "output_type": "execute_result",
          "data": {
            "text/plain": [
              "'DV_OPINION_ADVOCATE'"
            ]
          },
          "metadata": {
            "tags": []
          },
          "execution_count": 33
        }
      ]
    },
    {
      "cell_type": "markdown",
      "metadata": {
        "id": "WqTDhi8Zq8mW",
        "colab_type": "text"
      },
      "source": [
        "# Inference"
      ]
    },
    {
      "cell_type": "code",
      "metadata": {
        "id": "FUQ6fLYyoZQC",
        "colab_type": "code",
        "colab": {
          "base_uri": "https://localhost:8080/",
          "height": 72
        },
        "outputId": "bc8b248e-3c4e-44d6-c5be-dd6dde2b2e40"
      },
      "source": [
        "label_dict[model.predict([get_embedding(input())])[0]]"
      ],
      "execution_count": 36,
      "outputs": [
        {
          "output_type": "stream",
          "text": [
            "'some of us are too ^scared^ to take a no from our wives ! sexual needs k irf gird chakar lgayi ja rahe hain rape is a cruel, ruthless act. u wont do that to ur wife, would you? mjhe rounds arhe hain. -insecurities 101'\n"
          ],
          "name": "stdout"
        },
        {
          "output_type": "execute_result",
          "data": {
            "text/plain": [
              "'DV_OPINION_DENIER'"
            ]
          },
          "metadata": {
            "tags": []
          },
          "execution_count": 36
        }
      ]
    },
    {
      "cell_type": "code",
      "metadata": {
        "id": "2bD8ub3rqP81",
        "colab_type": "code",
        "colab": {}
      },
      "source": [
        ""
      ],
      "execution_count": 0,
      "outputs": []
    }
  ]
}